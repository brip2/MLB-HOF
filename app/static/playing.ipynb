{
 "cells": [
  {
   "cell_type": "code",
   "execution_count": 1,
   "metadata": {
    "collapsed": false
   },
   "outputs": [
   ],
   "source": [
    "import pandas as pd\n",
    "import numpy as np\n",
    "import seaborn as sns\n",
    "import matplotlib.pyplot as plt\n",
    "import plotly.express as px\n",
    "import plotly.graph_objects as go\n",
    "import plotly.figure_factory as ff\n",
    "\n",
    "from sklearn.model_selection import train_test_split\n",
    "from sklearn.preprocessing import StandardScaler\n",
    "from sklearn.model_selection import RepeatedKFold\n",
    "from sklearn.model_selection import GridSearchCV\n",
    "from sklearn.metrics import confusion_matrix\n",
    "from sklearn import metrics\n",
    "from sklearn import svm\n",
    "from sklearn.neighbors import KNeighborsClassifier\n",
    "\n",
    "from sklearn.preprocessing import LabelEncoder\n",
    "from keras.wrappers.scikit_learn import KerasClassifier\n",
    "from keras.utils import np_utils\n",
    "\n",
    "from keras.models import Sequential\n",
    "from keras.layers import Dense, Dropout\n",
    "from keras.callbacks import EarlyStopping\n",
    "\n",
    "from scipy.stats import pearsonr\n",
    "\n",
    "import warnings\n",
    "warnings.filterwarnings(\"ignore\")"
   ]
  },
  {
   "cell_type": "markdown",
   "metadata": {
    "collapsed": false
   },
   "source": [
    "We will begin by looking through the available data, determining which variables we will want to include in our model."
   ]
  },
  {
   "cell_type": "code",
   "execution_count": 2,
   "metadata": {
    "collapsed": false
   },
   "outputs": [
    {
     "data": {
      "text/html": [
       "<div>\n",
       "<style scoped>\n",
       "    .dataframe tbody tr th:only-of-type {\n",
       "        vertical-align: middle;\n",
       "    }\n",
       "\n",
       "    .dataframe tbody tr th {\n",
       "        vertical-align: top;\n",
       "    }\n",
       "\n",
       "    .dataframe thead th {\n",
       "        text-align: right;\n",
       "    }\n",
       "</style>\n",
       "<table border=\"1\" class=\"dataframe\">\n",
       "  <thead>\n",
       "    <tr style=\"text-align: right;\">\n",
       "      <th></th>\n",
       "      <th>playerID</th>\n",
       "      <th>yearID</th>\n",
       "      <th>stint</th>\n",
       "      <th>teamID</th>\n",
       "      <th>lgID</th>\n",
       "      <th>G</th>\n",
       "      <th>AB</th>\n",
       "      <th>R</th>\n",
       "      <th>H</th>\n",
       "      <th>2B</th>\n",
       "      <th>...</th>\n",
       "      <th>RBI</th>\n",
       "      <th>SB</th>\n",
       "      <th>CS</th>\n",
       "      <th>BB</th>\n",
       "      <th>SO</th>\n",
       "      <th>IBB</th>\n",
       "      <th>HBP</th>\n",
       "      <th>SH</th>\n",
       "      <th>SF</th>\n",
       "      <th>GIDP</th>\n",
       "    </tr>\n",
       "  </thead>\n",
       "  <tbody>\n",
       "    <tr>\n",
       "      <th>0</th>\n",
       "      <td>abercda01</td>\n",
       "      <td>1871</td>\n",
       "      <td>1</td>\n",
       "      <td>TRO</td>\n",
       "      <td>NaN</td>\n",
       "      <td>1</td>\n",
       "      <td>4</td>\n",
       "      <td>0</td>\n",
       "      <td>0</td>\n",
       "      <td>0</td>\n",
       "      <td>...</td>\n",
       "      <td>0.0</td>\n",
       "      <td>0.0</td>\n",
       "      <td>0.0</td>\n",
       "      <td>0</td>\n",
       "      <td>0.0</td>\n",
       "      <td>NaN</td>\n",
       "      <td>NaN</td>\n",
       "      <td>NaN</td>\n",
       "      <td>NaN</td>\n",
       "      <td>0.0</td>\n",
       "    </tr>\n",
       "    <tr>\n",
       "      <th>1</th>\n",
       "      <td>addybo01</td>\n",
       "      <td>1871</td>\n",
       "      <td>1</td>\n",
       "      <td>RC1</td>\n",
       "      <td>NaN</td>\n",
       "      <td>25</td>\n",
       "      <td>118</td>\n",
       "      <td>30</td>\n",
       "      <td>32</td>\n",
       "      <td>6</td>\n",
       "      <td>...</td>\n",
       "      <td>13.0</td>\n",
       "      <td>8.0</td>\n",
       "      <td>1.0</td>\n",
       "      <td>4</td>\n",
       "      <td>0.0</td>\n",
       "      <td>NaN</td>\n",
       "      <td>NaN</td>\n",
       "      <td>NaN</td>\n",
       "      <td>NaN</td>\n",
       "      <td>0.0</td>\n",
       "    </tr>\n",
       "    <tr>\n",
       "      <th>2</th>\n",
       "      <td>allisar01</td>\n",
       "      <td>1871</td>\n",
       "      <td>1</td>\n",
       "      <td>CL1</td>\n",
       "      <td>NaN</td>\n",
       "      <td>29</td>\n",
       "      <td>137</td>\n",
       "      <td>28</td>\n",
       "      <td>40</td>\n",
       "      <td>4</td>\n",
       "      <td>...</td>\n",
       "      <td>19.0</td>\n",
       "      <td>3.0</td>\n",
       "      <td>1.0</td>\n",
       "      <td>2</td>\n",
       "      <td>5.0</td>\n",
       "      <td>NaN</td>\n",
       "      <td>NaN</td>\n",
       "      <td>NaN</td>\n",
       "      <td>NaN</td>\n",
       "      <td>1.0</td>\n",
       "    </tr>\n",
       "    <tr>\n",
       "      <th>3</th>\n",
       "      <td>allisdo01</td>\n",
       "      <td>1871</td>\n",
       "      <td>1</td>\n",
       "      <td>WS3</td>\n",
       "      <td>NaN</td>\n",
       "      <td>27</td>\n",
       "      <td>133</td>\n",
       "      <td>28</td>\n",
       "      <td>44</td>\n",
       "      <td>10</td>\n",
       "      <td>...</td>\n",
       "      <td>27.0</td>\n",
       "      <td>1.0</td>\n",
       "      <td>1.0</td>\n",
       "      <td>0</td>\n",
       "      <td>2.0</td>\n",
       "      <td>NaN</td>\n",
       "      <td>NaN</td>\n",
       "      <td>NaN</td>\n",
       "      <td>NaN</td>\n",
       "      <td>0.0</td>\n",
       "    </tr>\n",
       "    <tr>\n",
       "      <th>4</th>\n",
       "      <td>ansonca01</td>\n",
       "      <td>1871</td>\n",
       "      <td>1</td>\n",
       "      <td>RC1</td>\n",
       "      <td>NaN</td>\n",
       "      <td>25</td>\n",
       "      <td>120</td>\n",
       "      <td>29</td>\n",
       "      <td>39</td>\n",
       "      <td>11</td>\n",
       "      <td>...</td>\n",
       "      <td>16.0</td>\n",
       "      <td>6.0</td>\n",
       "      <td>2.0</td>\n",
       "      <td>2</td>\n",
       "      <td>1.0</td>\n",
       "      <td>NaN</td>\n",
       "      <td>NaN</td>\n",
       "      <td>NaN</td>\n",
       "      <td>NaN</td>\n",
       "      <td>0.0</td>\n",
       "    </tr>\n",
       "    <tr>\n",
       "      <th>...</th>\n",
       "      <td>...</td>\n",
       "      <td>...</td>\n",
       "      <td>...</td>\n",
       "      <td>...</td>\n",
       "      <td>...</td>\n",
       "      <td>...</td>\n",
       "      <td>...</td>\n",
       "      <td>...</td>\n",
       "      <td>...</td>\n",
       "      <td>...</td>\n",
       "      <td>...</td>\n",
       "      <td>...</td>\n",
       "      <td>...</td>\n",
       "      <td>...</td>\n",
       "      <td>...</td>\n",
       "      <td>...</td>\n",
       "      <td>...</td>\n",
       "      <td>...</td>\n",
       "      <td>...</td>\n",
       "      <td>...</td>\n",
       "      <td>...</td>\n",
       "    </tr>\n",
       "    <tr>\n",
       "      <th>110490</th>\n",
       "      <td>zimmejo02</td>\n",
       "      <td>2021</td>\n",
       "      <td>1</td>\n",
       "      <td>MIL</td>\n",
       "      <td>NL</td>\n",
       "      <td>2</td>\n",
       "      <td>1</td>\n",
       "      <td>0</td>\n",
       "      <td>0</td>\n",
       "      <td>0</td>\n",
       "      <td>...</td>\n",
       "      <td>0.0</td>\n",
       "      <td>0.0</td>\n",
       "      <td>0.0</td>\n",
       "      <td>0</td>\n",
       "      <td>1.0</td>\n",
       "      <td>0.0</td>\n",
       "      <td>0.0</td>\n",
       "      <td>0.0</td>\n",
       "      <td>0.0</td>\n",
       "      <td>0.0</td>\n",
       "    </tr>\n",
       "    <tr>\n",
       "      <th>110491</th>\n",
       "      <td>zimmeky01</td>\n",
       "      <td>2021</td>\n",
       "      <td>1</td>\n",
       "      <td>KCA</td>\n",
       "      <td>AL</td>\n",
       "      <td>52</td>\n",
       "      <td>0</td>\n",
       "      <td>0</td>\n",
       "      <td>0</td>\n",
       "      <td>0</td>\n",
       "      <td>...</td>\n",
       "      <td>0.0</td>\n",
       "      <td>0.0</td>\n",
       "      <td>0.0</td>\n",
       "      <td>0</td>\n",
       "      <td>0.0</td>\n",
       "      <td>0.0</td>\n",
       "      <td>0.0</td>\n",
       "      <td>0.0</td>\n",
       "      <td>0.0</td>\n",
       "      <td>0.0</td>\n",
       "    </tr>\n",
       "    <tr>\n",
       "      <th>110492</th>\n",
       "      <td>zimmery01</td>\n",
       "      <td>2021</td>\n",
       "      <td>1</td>\n",
       "      <td>WAS</td>\n",
       "      <td>NL</td>\n",
       "      <td>110</td>\n",
       "      <td>255</td>\n",
       "      <td>27</td>\n",
       "      <td>62</td>\n",
       "      <td>16</td>\n",
       "      <td>...</td>\n",
       "      <td>46.0</td>\n",
       "      <td>0.0</td>\n",
       "      <td>0.0</td>\n",
       "      <td>16</td>\n",
       "      <td>77.0</td>\n",
       "      <td>0.0</td>\n",
       "      <td>0.0</td>\n",
       "      <td>0.0</td>\n",
       "      <td>2.0</td>\n",
       "      <td>9.0</td>\n",
       "    </tr>\n",
       "    <tr>\n",
       "      <th>110493</th>\n",
       "      <td>zuberty01</td>\n",
       "      <td>2021</td>\n",
       "      <td>1</td>\n",
       "      <td>KCA</td>\n",
       "      <td>AL</td>\n",
       "      <td>31</td>\n",
       "      <td>1</td>\n",
       "      <td>0</td>\n",
       "      <td>0</td>\n",
       "      <td>0</td>\n",
       "      <td>...</td>\n",
       "      <td>0.0</td>\n",
       "      <td>0.0</td>\n",
       "      <td>0.0</td>\n",
       "      <td>0</td>\n",
       "      <td>1.0</td>\n",
       "      <td>0.0</td>\n",
       "      <td>0.0</td>\n",
       "      <td>0.0</td>\n",
       "      <td>0.0</td>\n",
       "      <td>0.0</td>\n",
       "    </tr>\n",
       "    <tr>\n",
       "      <th>110494</th>\n",
       "      <td>zuninmi01</td>\n",
       "      <td>2021</td>\n",
       "      <td>1</td>\n",
       "      <td>TBA</td>\n",
       "      <td>AL</td>\n",
       "      <td>109</td>\n",
       "      <td>333</td>\n",
       "      <td>64</td>\n",
       "      <td>72</td>\n",
       "      <td>11</td>\n",
       "      <td>...</td>\n",
       "      <td>62.0</td>\n",
       "      <td>0.0</td>\n",
       "      <td>0.0</td>\n",
       "      <td>34</td>\n",
       "      <td>132.0</td>\n",
       "      <td>0.0</td>\n",
       "      <td>7.0</td>\n",
       "      <td>0.0</td>\n",
       "      <td>1.0</td>\n",
       "      <td>7.0</td>\n",
       "    </tr>\n",
       "  </tbody>\n",
       "</table>\n",
       "<p>110495 rows × 22 columns</p>\n",
       "</div>"
      ],
      "text/plain": [
       "         playerID  yearID  stint teamID lgID    G   AB   R   H  2B  ...   RBI  \\\n",
       "0       abercda01    1871      1    TRO  NaN    1    4   0   0   0  ...   0.0   \n",
       "1        addybo01    1871      1    RC1  NaN   25  118  30  32   6  ...  13.0   \n",
       "2       allisar01    1871      1    CL1  NaN   29  137  28  40   4  ...  19.0   \n",
       "3       allisdo01    1871      1    WS3  NaN   27  133  28  44  10  ...  27.0   \n",
       "4       ansonca01    1871      1    RC1  NaN   25  120  29  39  11  ...  16.0   \n",
       "...           ...     ...    ...    ...  ...  ...  ...  ..  ..  ..  ...   ...   \n",
       "110490  zimmejo02    2021      1    MIL   NL    2    1   0   0   0  ...   0.0   \n",
       "110491  zimmeky01    2021      1    KCA   AL   52    0   0   0   0  ...   0.0   \n",
       "110492  zimmery01    2021      1    WAS   NL  110  255  27  62  16  ...  46.0   \n",
       "110493  zuberty01    2021      1    KCA   AL   31    1   0   0   0  ...   0.0   \n",
       "110494  zuninmi01    2021      1    TBA   AL  109  333  64  72  11  ...  62.0   \n",
       "\n",
       "         SB   CS  BB     SO  IBB  HBP   SH   SF  GIDP  \n",
       "0       0.0  0.0   0    0.0  NaN  NaN  NaN  NaN   0.0  \n",
       "1       8.0  1.0   4    0.0  NaN  NaN  NaN  NaN   0.0  \n",
       "2       3.0  1.0   2    5.0  NaN  NaN  NaN  NaN   1.0  \n",
       "3       1.0  1.0   0    2.0  NaN  NaN  NaN  NaN   0.0  \n",
       "4       6.0  2.0   2    1.0  NaN  NaN  NaN  NaN   0.0  \n",
       "...     ...  ...  ..    ...  ...  ...  ...  ...   ...  \n",
       "110490  0.0  0.0   0    1.0  0.0  0.0  0.0  0.0   0.0  \n",
       "110491  0.0  0.0   0    0.0  0.0  0.0  0.0  0.0   0.0  \n",
       "110492  0.0  0.0  16   77.0  0.0  0.0  0.0  2.0   9.0  \n",
       "110493  0.0  0.0   0    1.0  0.0  0.0  0.0  0.0   0.0  \n",
       "110494  0.0  0.0  34  132.0  0.0  7.0  0.0  1.0   7.0  \n",
       "\n",
       "[110495 rows x 22 columns]"
      ]
     },
     "execution_count": 2,
     "metadata": {
     },
     "output_type": "execute_result"
    }
   ],
   "source": [
    "batting = pd.read_csv('data/core/Batting.csv')\n",
    "batting"
   ]
  },
  {
   "cell_type": "markdown",
   "metadata": {
    "collapsed": false
   },
   "source": [
    "It looks like some entries are NaN, we have to look into the history of MLB statistics tracking to understand that certain stats were not always recorded:\n",
    "\n",
    "SH: sacrifice hits\n",
    "\n",
    "SF: sacrifice flies\n",
    "\n",
    "GIDP: grounded into double play\n",
    "\n",
    "IBB: intentional walks\n",
    "\n",
    "HBP: hit by pitch\n",
    "\n",
    "We will set these to zero now, but will need to either drop those columns, or the players before that stat was collected before inputting this data into our models"
   ]
  },
  {
   "cell_type": "code",
   "execution_count": 3,
   "metadata": {
    "collapsed": false
   },
   "outputs": [
   ],
   "source": [
    "batting = batting.fillna(0)"
   ]
  },
  {
   "cell_type": "code",
   "execution_count": 4,
   "metadata": {
    "collapsed": false
   },
   "outputs": [
    {
     "data": {
      "text/plain": [
       "Index(['playerID', 'yearID', 'stint', 'teamID', 'lgID', 'G', 'AB', 'R', 'H',\n",
       "       '2B', '3B', 'HR', 'RBI', 'SB', 'CS', 'BB', 'SO', 'IBB', 'HBP', 'SH',\n",
       "       'SF', 'GIDP'],\n",
       "      dtype='object')"
      ]
     },
     "execution_count": 4,
     "metadata": {
     },
     "output_type": "execute_result"
    }
   ],
   "source": [
    "batting.columns"
   ]
  },
  {
   "cell_type": "code",
   "execution_count": 5,
   "metadata": {
    "collapsed": false
   },
   "outputs": [
   ],
   "source": [
    "batting = batting.drop(columns = ['teamID', 'CS', 'lgID', 'IBB', 'HBP', 'SH', 'SF', 'GIDP'])"
   ]
  },
  {
   "cell_type": "code",
   "execution_count": 6,
   "metadata": {
    "collapsed": false
   },
   "outputs": [
    {
     "data": {
      "text/plain": [
       "Index(['playerID', 'yearID', 'stint', 'G', 'AB', 'R', 'H', '2B', '3B', 'HR',\n",
       "       'RBI', 'SB', 'BB', 'SO'],\n",
       "      dtype='object')"
      ]
     },
     "execution_count": 6,
     "metadata": {
     },
     "output_type": "execute_result"
    }
   ],
   "source": [
    "# batting = batting.drop(columns = ['stint', 'teamID', 'lgID', 'IBB', 'HBP', 'SH', 'SF', 'GIDP'])\n",
    "batting.columns"
   ]
  },
  {
   "cell_type": "code",
   "execution_count": 7,
   "metadata": {
    "collapsed": false
   },
   "outputs": [
    {
     "data": {
      "text/html": [
       "<div>\n",
       "<style scoped>\n",
       "    .dataframe tbody tr th:only-of-type {\n",
       "        vertical-align: middle;\n",
       "    }\n",
       "\n",
       "    .dataframe tbody tr th {\n",
       "        vertical-align: top;\n",
       "    }\n",
       "\n",
       "    .dataframe thead th {\n",
       "        text-align: right;\n",
       "    }\n",
       "</style>\n",
       "<table border=\"1\" class=\"dataframe\">\n",
       "  <thead>\n",
       "    <tr style=\"text-align: right;\">\n",
       "      <th></th>\n",
       "      <th>playerID</th>\n",
       "      <th>yearID</th>\n",
       "      <th>stint</th>\n",
       "      <th>G</th>\n",
       "      <th>AB</th>\n",
       "      <th>R</th>\n",
       "      <th>H</th>\n",
       "      <th>2B</th>\n",
       "      <th>3B</th>\n",
       "      <th>HR</th>\n",
       "      <th>RBI</th>\n",
       "      <th>SB</th>\n",
       "      <th>BB</th>\n",
       "      <th>SO</th>\n",
       "    </tr>\n",
       "  </thead>\n",
       "  <tbody>\n",
       "    <tr>\n",
       "      <th>0</th>\n",
       "      <td>abercda01</td>\n",
       "      <td>1871</td>\n",
       "      <td>1</td>\n",
       "      <td>1</td>\n",
       "      <td>4</td>\n",
       "      <td>0</td>\n",
       "      <td>0</td>\n",
       "      <td>0</td>\n",
       "      <td>0</td>\n",
       "      <td>0</td>\n",
       "      <td>0.0</td>\n",
       "      <td>0.0</td>\n",
       "      <td>0</td>\n",
       "      <td>0.0</td>\n",
       "    </tr>\n",
       "    <tr>\n",
       "      <th>1</th>\n",
       "      <td>addybo01</td>\n",
       "      <td>1871</td>\n",
       "      <td>1</td>\n",
       "      <td>25</td>\n",
       "      <td>118</td>\n",
       "      <td>30</td>\n",
       "      <td>32</td>\n",
       "      <td>6</td>\n",
       "      <td>0</td>\n",
       "      <td>0</td>\n",
       "      <td>13.0</td>\n",
       "      <td>8.0</td>\n",
       "      <td>4</td>\n",
       "      <td>0.0</td>\n",
       "    </tr>\n",
       "    <tr>\n",
       "      <th>2</th>\n",
       "      <td>allisar01</td>\n",
       "      <td>1871</td>\n",
       "      <td>1</td>\n",
       "      <td>29</td>\n",
       "      <td>137</td>\n",
       "      <td>28</td>\n",
       "      <td>40</td>\n",
       "      <td>4</td>\n",
       "      <td>5</td>\n",
       "      <td>0</td>\n",
       "      <td>19.0</td>\n",
       "      <td>3.0</td>\n",
       "      <td>2</td>\n",
       "      <td>5.0</td>\n",
       "    </tr>\n",
       "    <tr>\n",
       "      <th>3</th>\n",
       "      <td>allisdo01</td>\n",
       "      <td>1871</td>\n",
       "      <td>1</td>\n",
       "      <td>27</td>\n",
       "      <td>133</td>\n",
       "      <td>28</td>\n",
       "      <td>44</td>\n",
       "      <td>10</td>\n",
       "      <td>2</td>\n",
       "      <td>2</td>\n",
       "      <td>27.0</td>\n",
       "      <td>1.0</td>\n",
       "      <td>0</td>\n",
       "      <td>2.0</td>\n",
       "    </tr>\n",
       "    <tr>\n",
       "      <th>4</th>\n",
       "      <td>ansonca01</td>\n",
       "      <td>1871</td>\n",
       "      <td>1</td>\n",
       "      <td>25</td>\n",
       "      <td>120</td>\n",
       "      <td>29</td>\n",
       "      <td>39</td>\n",
       "      <td>11</td>\n",
       "      <td>3</td>\n",
       "      <td>0</td>\n",
       "      <td>16.0</td>\n",
       "      <td>6.0</td>\n",
       "      <td>2</td>\n",
       "      <td>1.0</td>\n",
       "    </tr>\n",
       "    <tr>\n",
       "      <th>...</th>\n",
       "      <td>...</td>\n",
       "      <td>...</td>\n",
       "      <td>...</td>\n",
       "      <td>...</td>\n",
       "      <td>...</td>\n",
       "      <td>...</td>\n",
       "      <td>...</td>\n",
       "      <td>...</td>\n",
       "      <td>...</td>\n",
       "      <td>...</td>\n",
       "      <td>...</td>\n",
       "      <td>...</td>\n",
       "      <td>...</td>\n",
       "      <td>...</td>\n",
       "    </tr>\n",
       "    <tr>\n",
       "      <th>110490</th>\n",
       "      <td>zimmejo02</td>\n",
       "      <td>2021</td>\n",
       "      <td>1</td>\n",
       "      <td>2</td>\n",
       "      <td>1</td>\n",
       "      <td>0</td>\n",
       "      <td>0</td>\n",
       "      <td>0</td>\n",
       "      <td>0</td>\n",
       "      <td>0</td>\n",
       "      <td>0.0</td>\n",
       "      <td>0.0</td>\n",
       "      <td>0</td>\n",
       "      <td>1.0</td>\n",
       "    </tr>\n",
       "    <tr>\n",
       "      <th>110491</th>\n",
       "      <td>zimmeky01</td>\n",
       "      <td>2021</td>\n",
       "      <td>1</td>\n",
       "      <td>52</td>\n",
       "      <td>0</td>\n",
       "      <td>0</td>\n",
       "      <td>0</td>\n",
       "      <td>0</td>\n",
       "      <td>0</td>\n",
       "      <td>0</td>\n",
       "      <td>0.0</td>\n",
       "      <td>0.0</td>\n",
       "      <td>0</td>\n",
       "      <td>0.0</td>\n",
       "    </tr>\n",
       "    <tr>\n",
       "      <th>110492</th>\n",
       "      <td>zimmery01</td>\n",
       "      <td>2021</td>\n",
       "      <td>1</td>\n",
       "      <td>110</td>\n",
       "      <td>255</td>\n",
       "      <td>27</td>\n",
       "      <td>62</td>\n",
       "      <td>16</td>\n",
       "      <td>0</td>\n",
       "      <td>14</td>\n",
       "      <td>46.0</td>\n",
       "      <td>0.0</td>\n",
       "      <td>16</td>\n",
       "      <td>77.0</td>\n",
       "    </tr>\n",
       "    <tr>\n",
       "      <th>110493</th>\n",
       "      <td>zuberty01</td>\n",
       "      <td>2021</td>\n",
       "      <td>1</td>\n",
       "      <td>31</td>\n",
       "      <td>1</td>\n",
       "      <td>0</td>\n",
       "      <td>0</td>\n",
       "      <td>0</td>\n",
       "      <td>0</td>\n",
       "      <td>0</td>\n",
       "      <td>0.0</td>\n",
       "      <td>0.0</td>\n",
       "      <td>0</td>\n",
       "      <td>1.0</td>\n",
       "    </tr>\n",
       "    <tr>\n",
       "      <th>110494</th>\n",
       "      <td>zuninmi01</td>\n",
       "      <td>2021</td>\n",
       "      <td>1</td>\n",
       "      <td>109</td>\n",
       "      <td>333</td>\n",
       "      <td>64</td>\n",
       "      <td>72</td>\n",
       "      <td>11</td>\n",
       "      <td>2</td>\n",
       "      <td>33</td>\n",
       "      <td>62.0</td>\n",
       "      <td>0.0</td>\n",
       "      <td>34</td>\n",
       "      <td>132.0</td>\n",
       "    </tr>\n",
       "  </tbody>\n",
       "</table>\n",
       "<p>110495 rows × 14 columns</p>\n",
       "</div>"
      ],
      "text/plain": [
       "         playerID  yearID  stint    G   AB   R   H  2B  3B  HR   RBI   SB  BB  \\\n",
       "0       abercda01    1871      1    1    4   0   0   0   0   0   0.0  0.0   0   \n",
       "1        addybo01    1871      1   25  118  30  32   6   0   0  13.0  8.0   4   \n",
       "2       allisar01    1871      1   29  137  28  40   4   5   0  19.0  3.0   2   \n",
       "3       allisdo01    1871      1   27  133  28  44  10   2   2  27.0  1.0   0   \n",
       "4       ansonca01    1871      1   25  120  29  39  11   3   0  16.0  6.0   2   \n",
       "...           ...     ...    ...  ...  ...  ..  ..  ..  ..  ..   ...  ...  ..   \n",
       "110490  zimmejo02    2021      1    2    1   0   0   0   0   0   0.0  0.0   0   \n",
       "110491  zimmeky01    2021      1   52    0   0   0   0   0   0   0.0  0.0   0   \n",
       "110492  zimmery01    2021      1  110  255  27  62  16   0  14  46.0  0.0  16   \n",
       "110493  zuberty01    2021      1   31    1   0   0   0   0   0   0.0  0.0   0   \n",
       "110494  zuninmi01    2021      1  109  333  64  72  11   2  33  62.0  0.0  34   \n",
       "\n",
       "           SO  \n",
       "0         0.0  \n",
       "1         0.0  \n",
       "2         5.0  \n",
       "3         2.0  \n",
       "4         1.0  \n",
       "...       ...  \n",
       "110490    1.0  \n",
       "110491    0.0  \n",
       "110492   77.0  \n",
       "110493    1.0  \n",
       "110494  132.0  \n",
       "\n",
       "[110495 rows x 14 columns]"
      ]
     },
     "execution_count": 7,
     "metadata": {
     },
     "output_type": "execute_result"
    }
   ],
   "source": [
    "batting"
   ]
  },
  {
   "cell_type": "code",
   "execution_count": 8,
   "metadata": {
    "collapsed": false
   },
   "outputs": [
    {
     "data": {
      "text/html": [
       "<div>\n",
       "<style scoped>\n",
       "    .dataframe tbody tr th:only-of-type {\n",
       "        vertical-align: middle;\n",
       "    }\n",
       "\n",
       "    .dataframe tbody tr th {\n",
       "        vertical-align: top;\n",
       "    }\n",
       "\n",
       "    .dataframe thead th {\n",
       "        text-align: right;\n",
       "    }\n",
       "</style>\n",
       "<table border=\"1\" class=\"dataframe\">\n",
       "  <thead>\n",
       "    <tr style=\"text-align: right;\">\n",
       "      <th></th>\n",
       "      <th>playerID</th>\n",
       "      <th>yearID</th>\n",
       "      <th>stint</th>\n",
       "      <th>G</th>\n",
       "      <th>AB</th>\n",
       "      <th>R</th>\n",
       "      <th>H</th>\n",
       "      <th>2B</th>\n",
       "      <th>3B</th>\n",
       "      <th>HR</th>\n",
       "      <th>RBI</th>\n",
       "      <th>SB</th>\n",
       "      <th>BB</th>\n",
       "      <th>SO</th>\n",
       "    </tr>\n",
       "  </thead>\n",
       "  <tbody>\n",
       "    <tr>\n",
       "      <th>0</th>\n",
       "      <td>abercda01</td>\n",
       "      <td>1871</td>\n",
       "      <td>1</td>\n",
       "      <td>1</td>\n",
       "      <td>4</td>\n",
       "      <td>0</td>\n",
       "      <td>0</td>\n",
       "      <td>0</td>\n",
       "      <td>0</td>\n",
       "      <td>0</td>\n",
       "      <td>0.0</td>\n",
       "      <td>0.0</td>\n",
       "      <td>0</td>\n",
       "      <td>0.0</td>\n",
       "    </tr>\n",
       "    <tr>\n",
       "      <th>1</th>\n",
       "      <td>addybo01</td>\n",
       "      <td>1871</td>\n",
       "      <td>1</td>\n",
       "      <td>25</td>\n",
       "      <td>118</td>\n",
       "      <td>30</td>\n",
       "      <td>32</td>\n",
       "      <td>6</td>\n",
       "      <td>0</td>\n",
       "      <td>0</td>\n",
       "      <td>13.0</td>\n",
       "      <td>8.0</td>\n",
       "      <td>4</td>\n",
       "      <td>0.0</td>\n",
       "    </tr>\n",
       "    <tr>\n",
       "      <th>2</th>\n",
       "      <td>allisar01</td>\n",
       "      <td>1871</td>\n",
       "      <td>1</td>\n",
       "      <td>29</td>\n",
       "      <td>137</td>\n",
       "      <td>28</td>\n",
       "      <td>40</td>\n",
       "      <td>4</td>\n",
       "      <td>5</td>\n",
       "      <td>0</td>\n",
       "      <td>19.0</td>\n",
       "      <td>3.0</td>\n",
       "      <td>2</td>\n",
       "      <td>5.0</td>\n",
       "    </tr>\n",
       "    <tr>\n",
       "      <th>3</th>\n",
       "      <td>allisdo01</td>\n",
       "      <td>1871</td>\n",
       "      <td>1</td>\n",
       "      <td>27</td>\n",
       "      <td>133</td>\n",
       "      <td>28</td>\n",
       "      <td>44</td>\n",
       "      <td>10</td>\n",
       "      <td>2</td>\n",
       "      <td>2</td>\n",
       "      <td>27.0</td>\n",
       "      <td>1.0</td>\n",
       "      <td>0</td>\n",
       "      <td>2.0</td>\n",
       "    </tr>\n",
       "    <tr>\n",
       "      <th>4</th>\n",
       "      <td>ansonca01</td>\n",
       "      <td>1871</td>\n",
       "      <td>1</td>\n",
       "      <td>25</td>\n",
       "      <td>120</td>\n",
       "      <td>29</td>\n",
       "      <td>39</td>\n",
       "      <td>11</td>\n",
       "      <td>3</td>\n",
       "      <td>0</td>\n",
       "      <td>16.0</td>\n",
       "      <td>6.0</td>\n",
       "      <td>2</td>\n",
       "      <td>1.0</td>\n",
       "    </tr>\n",
       "    <tr>\n",
       "      <th>...</th>\n",
       "      <td>...</td>\n",
       "      <td>...</td>\n",
       "      <td>...</td>\n",
       "      <td>...</td>\n",
       "      <td>...</td>\n",
       "      <td>...</td>\n",
       "      <td>...</td>\n",
       "      <td>...</td>\n",
       "      <td>...</td>\n",
       "      <td>...</td>\n",
       "      <td>...</td>\n",
       "      <td>...</td>\n",
       "      <td>...</td>\n",
       "      <td>...</td>\n",
       "    </tr>\n",
       "    <tr>\n",
       "      <th>102826</th>\n",
       "      <td>zimmejo02</td>\n",
       "      <td>2016</td>\n",
       "      <td>1</td>\n",
       "      <td>19</td>\n",
       "      <td>4</td>\n",
       "      <td>0</td>\n",
       "      <td>1</td>\n",
       "      <td>0</td>\n",
       "      <td>0</td>\n",
       "      <td>0</td>\n",
       "      <td>0.0</td>\n",
       "      <td>0.0</td>\n",
       "      <td>0</td>\n",
       "      <td>2.0</td>\n",
       "    </tr>\n",
       "    <tr>\n",
       "      <th>102827</th>\n",
       "      <td>zimmery01</td>\n",
       "      <td>2016</td>\n",
       "      <td>1</td>\n",
       "      <td>115</td>\n",
       "      <td>427</td>\n",
       "      <td>60</td>\n",
       "      <td>93</td>\n",
       "      <td>18</td>\n",
       "      <td>1</td>\n",
       "      <td>15</td>\n",
       "      <td>46.0</td>\n",
       "      <td>4.0</td>\n",
       "      <td>29</td>\n",
       "      <td>104.0</td>\n",
       "    </tr>\n",
       "    <tr>\n",
       "      <th>102828</th>\n",
       "      <td>zobribe01</td>\n",
       "      <td>2016</td>\n",
       "      <td>1</td>\n",
       "      <td>147</td>\n",
       "      <td>523</td>\n",
       "      <td>94</td>\n",
       "      <td>142</td>\n",
       "      <td>31</td>\n",
       "      <td>3</td>\n",
       "      <td>18</td>\n",
       "      <td>76.0</td>\n",
       "      <td>6.0</td>\n",
       "      <td>96</td>\n",
       "      <td>82.0</td>\n",
       "    </tr>\n",
       "    <tr>\n",
       "      <th>102829</th>\n",
       "      <td>zuninmi01</td>\n",
       "      <td>2016</td>\n",
       "      <td>1</td>\n",
       "      <td>55</td>\n",
       "      <td>164</td>\n",
       "      <td>16</td>\n",
       "      <td>34</td>\n",
       "      <td>7</td>\n",
       "      <td>0</td>\n",
       "      <td>12</td>\n",
       "      <td>31.0</td>\n",
       "      <td>0.0</td>\n",
       "      <td>21</td>\n",
       "      <td>65.0</td>\n",
       "    </tr>\n",
       "    <tr>\n",
       "      <th>102830</th>\n",
       "      <td>zychto01</td>\n",
       "      <td>2016</td>\n",
       "      <td>1</td>\n",
       "      <td>12</td>\n",
       "      <td>0</td>\n",
       "      <td>0</td>\n",
       "      <td>0</td>\n",
       "      <td>0</td>\n",
       "      <td>0</td>\n",
       "      <td>0</td>\n",
       "      <td>0.0</td>\n",
       "      <td>0.0</td>\n",
       "      <td>0</td>\n",
       "      <td>0.0</td>\n",
       "    </tr>\n",
       "  </tbody>\n",
       "</table>\n",
       "<p>102831 rows × 14 columns</p>\n",
       "</div>"
      ],
      "text/plain": [
       "         playerID  yearID  stint    G   AB   R    H  2B  3B  HR   RBI   SB  \\\n",
       "0       abercda01    1871      1    1    4   0    0   0   0   0   0.0  0.0   \n",
       "1        addybo01    1871      1   25  118  30   32   6   0   0  13.0  8.0   \n",
       "2       allisar01    1871      1   29  137  28   40   4   5   0  19.0  3.0   \n",
       "3       allisdo01    1871      1   27  133  28   44  10   2   2  27.0  1.0   \n",
       "4       ansonca01    1871      1   25  120  29   39  11   3   0  16.0  6.0   \n",
       "...           ...     ...    ...  ...  ...  ..  ...  ..  ..  ..   ...  ...   \n",
       "102826  zimmejo02    2016      1   19    4   0    1   0   0   0   0.0  0.0   \n",
       "102827  zimmery01    2016      1  115  427  60   93  18   1  15  46.0  4.0   \n",
       "102828  zobribe01    2016      1  147  523  94  142  31   3  18  76.0  6.0   \n",
       "102829  zuninmi01    2016      1   55  164  16   34   7   0  12  31.0  0.0   \n",
       "102830   zychto01    2016      1   12    0   0    0   0   0   0   0.0  0.0   \n",
       "\n",
       "        BB     SO  \n",
       "0        0    0.0  \n",
       "1        4    0.0  \n",
       "2        2    5.0  \n",
       "3        0    2.0  \n",
       "4        2    1.0  \n",
       "...     ..    ...  \n",
       "102826   0    2.0  \n",
       "102827  29  104.0  \n",
       "102828  96   82.0  \n",
       "102829  21   65.0  \n",
       "102830   0    0.0  \n",
       "\n",
       "[102831 rows x 14 columns]"
      ]
     },
     "execution_count": 8,
     "metadata": {
     },
     "output_type": "execute_result"
    }
   ],
   "source": [
    "# Ineligible\n",
    "batting = batting[batting['yearID'] <= 2016]\n",
    "batting"
   ]
  },
  {
   "cell_type": "code",
   "execution_count": 9,
   "metadata": {
    "collapsed": false
   },
   "outputs": [
    {
     "data": {
      "text/plain": [
       "playerID\n",
       "aardsda01     9\n",
       "aaronha01    23\n",
       "aaronto01     7\n",
       "aasedo01     13\n",
       "abadan01      3\n",
       "             ..\n",
       "zupofr01      3\n",
       "zuvelpa01     9\n",
       "zuverge01    10\n",
       "zwilldu01     4\n",
       "zychto01      2\n",
       "Length: 18919, dtype: int64"
      ]
     },
     "execution_count": 9,
     "metadata": {
     },
     "output_type": "execute_result"
    }
   ],
   "source": [
    "years_service = batting.groupby(['playerID', 'yearID']).size().sum(level = 0)\n",
    "years_service"
   ]
  },
  {
   "cell_type": "code",
   "execution_count": 10,
   "metadata": {
    "collapsed": false
   },
   "outputs": [
    {
     "data": {
      "text/html": [
       "<div>\n",
       "<style scoped>\n",
       "    .dataframe tbody tr th:only-of-type {\n",
       "        vertical-align: middle;\n",
       "    }\n",
       "\n",
       "    .dataframe tbody tr th {\n",
       "        vertical-align: top;\n",
       "    }\n",
       "\n",
       "    .dataframe thead th {\n",
       "        text-align: right;\n",
       "    }\n",
       "</style>\n",
       "<table border=\"1\" class=\"dataframe\">\n",
       "  <thead>\n",
       "    <tr style=\"text-align: right;\">\n",
       "      <th></th>\n",
       "      <th>G</th>\n",
       "      <th>AB</th>\n",
       "      <th>R</th>\n",
       "      <th>H</th>\n",
       "      <th>2B</th>\n",
       "      <th>3B</th>\n",
       "      <th>HR</th>\n",
       "      <th>RBI</th>\n",
       "      <th>SB</th>\n",
       "      <th>BB</th>\n",
       "      <th>SO</th>\n",
       "      <th>years_service</th>\n",
       "    </tr>\n",
       "    <tr>\n",
       "      <th>playerID</th>\n",
       "      <th></th>\n",
       "      <th></th>\n",
       "      <th></th>\n",
       "      <th></th>\n",
       "      <th></th>\n",
       "      <th></th>\n",
       "      <th></th>\n",
       "      <th></th>\n",
       "      <th></th>\n",
       "      <th></th>\n",
       "      <th></th>\n",
       "      <th></th>\n",
       "    </tr>\n",
       "  </thead>\n",
       "  <tbody>\n",
       "    <tr>\n",
       "      <th>aardsda01</th>\n",
       "      <td>331</td>\n",
       "      <td>4</td>\n",
       "      <td>0</td>\n",
       "      <td>0</td>\n",
       "      <td>0</td>\n",
       "      <td>0</td>\n",
       "      <td>0</td>\n",
       "      <td>0.0</td>\n",
       "      <td>0.0</td>\n",
       "      <td>0</td>\n",
       "      <td>2.0</td>\n",
       "      <td>9</td>\n",
       "    </tr>\n",
       "    <tr>\n",
       "      <th>aaronha01</th>\n",
       "      <td>3298</td>\n",
       "      <td>12364</td>\n",
       "      <td>2174</td>\n",
       "      <td>3771</td>\n",
       "      <td>624</td>\n",
       "      <td>98</td>\n",
       "      <td>755</td>\n",
       "      <td>2297.0</td>\n",
       "      <td>240.0</td>\n",
       "      <td>1402</td>\n",
       "      <td>1383.0</td>\n",
       "      <td>23</td>\n",
       "    </tr>\n",
       "    <tr>\n",
       "      <th>aaronto01</th>\n",
       "      <td>437</td>\n",
       "      <td>944</td>\n",
       "      <td>102</td>\n",
       "      <td>216</td>\n",
       "      <td>42</td>\n",
       "      <td>6</td>\n",
       "      <td>13</td>\n",
       "      <td>94.0</td>\n",
       "      <td>9.0</td>\n",
       "      <td>86</td>\n",
       "      <td>145.0</td>\n",
       "      <td>7</td>\n",
       "    </tr>\n",
       "    <tr>\n",
       "      <th>aasedo01</th>\n",
       "      <td>448</td>\n",
       "      <td>5</td>\n",
       "      <td>0</td>\n",
       "      <td>0</td>\n",
       "      <td>0</td>\n",
       "      <td>0</td>\n",
       "      <td>0</td>\n",
       "      <td>0.0</td>\n",
       "      <td>0.0</td>\n",
       "      <td>0</td>\n",
       "      <td>3.0</td>\n",
       "      <td>13</td>\n",
       "    </tr>\n",
       "    <tr>\n",
       "      <th>abadan01</th>\n",
       "      <td>15</td>\n",
       "      <td>21</td>\n",
       "      <td>1</td>\n",
       "      <td>2</td>\n",
       "      <td>0</td>\n",
       "      <td>0</td>\n",
       "      <td>0</td>\n",
       "      <td>0.0</td>\n",
       "      <td>0.0</td>\n",
       "      <td>4</td>\n",
       "      <td>5.0</td>\n",
       "      <td>3</td>\n",
       "    </tr>\n",
       "    <tr>\n",
       "      <th>...</th>\n",
       "      <td>...</td>\n",
       "      <td>...</td>\n",
       "      <td>...</td>\n",
       "      <td>...</td>\n",
       "      <td>...</td>\n",
       "      <td>...</td>\n",
       "      <td>...</td>\n",
       "      <td>...</td>\n",
       "      <td>...</td>\n",
       "      <td>...</td>\n",
       "      <td>...</td>\n",
       "      <td>...</td>\n",
       "    </tr>\n",
       "    <tr>\n",
       "      <th>zupofr01</th>\n",
       "      <td>16</td>\n",
       "      <td>18</td>\n",
       "      <td>3</td>\n",
       "      <td>3</td>\n",
       "      <td>1</td>\n",
       "      <td>0</td>\n",
       "      <td>0</td>\n",
       "      <td>0.0</td>\n",
       "      <td>0.0</td>\n",
       "      <td>2</td>\n",
       "      <td>6.0</td>\n",
       "      <td>3</td>\n",
       "    </tr>\n",
       "    <tr>\n",
       "      <th>zuvelpa01</th>\n",
       "      <td>209</td>\n",
       "      <td>491</td>\n",
       "      <td>41</td>\n",
       "      <td>109</td>\n",
       "      <td>17</td>\n",
       "      <td>2</td>\n",
       "      <td>2</td>\n",
       "      <td>20.0</td>\n",
       "      <td>2.0</td>\n",
       "      <td>34</td>\n",
       "      <td>50.0</td>\n",
       "      <td>9</td>\n",
       "    </tr>\n",
       "    <tr>\n",
       "      <th>zuverge01</th>\n",
       "      <td>266</td>\n",
       "      <td>142</td>\n",
       "      <td>5</td>\n",
       "      <td>21</td>\n",
       "      <td>2</td>\n",
       "      <td>1</td>\n",
       "      <td>0</td>\n",
       "      <td>7.0</td>\n",
       "      <td>0.0</td>\n",
       "      <td>9</td>\n",
       "      <td>39.0</td>\n",
       "      <td>10</td>\n",
       "    </tr>\n",
       "    <tr>\n",
       "      <th>zwilldu01</th>\n",
       "      <td>366</td>\n",
       "      <td>1280</td>\n",
       "      <td>167</td>\n",
       "      <td>364</td>\n",
       "      <td>76</td>\n",
       "      <td>15</td>\n",
       "      <td>30</td>\n",
       "      <td>202.0</td>\n",
       "      <td>46.0</td>\n",
       "      <td>128</td>\n",
       "      <td>155.0</td>\n",
       "      <td>4</td>\n",
       "    </tr>\n",
       "    <tr>\n",
       "      <th>zychto01</th>\n",
       "      <td>25</td>\n",
       "      <td>0</td>\n",
       "      <td>0</td>\n",
       "      <td>0</td>\n",
       "      <td>0</td>\n",
       "      <td>0</td>\n",
       "      <td>0</td>\n",
       "      <td>0.0</td>\n",
       "      <td>0.0</td>\n",
       "      <td>0</td>\n",
       "      <td>0.0</td>\n",
       "      <td>2</td>\n",
       "    </tr>\n",
       "  </tbody>\n",
       "</table>\n",
       "<p>18919 rows × 12 columns</p>\n",
       "</div>"
      ],
      "text/plain": [
       "              G     AB     R     H   2B  3B   HR     RBI     SB    BB      SO  \\\n",
       "playerID                                                                        \n",
       "aardsda01   331      4     0     0    0   0    0     0.0    0.0     0     2.0   \n",
       "aaronha01  3298  12364  2174  3771  624  98  755  2297.0  240.0  1402  1383.0   \n",
       "aaronto01   437    944   102   216   42   6   13    94.0    9.0    86   145.0   \n",
       "aasedo01    448      5     0     0    0   0    0     0.0    0.0     0     3.0   \n",
       "abadan01     15     21     1     2    0   0    0     0.0    0.0     4     5.0   \n",
       "...         ...    ...   ...   ...  ...  ..  ...     ...    ...   ...     ...   \n",
       "zupofr01     16     18     3     3    1   0    0     0.0    0.0     2     6.0   \n",
       "zuvelpa01   209    491    41   109   17   2    2    20.0    2.0    34    50.0   \n",
       "zuverge01   266    142     5    21    2   1    0     7.0    0.0     9    39.0   \n",
       "zwilldu01   366   1280   167   364   76  15   30   202.0   46.0   128   155.0   \n",
       "zychto01     25      0     0     0    0   0    0     0.0    0.0     0     0.0   \n",
       "\n",
       "           years_service  \n",
       "playerID                  \n",
       "aardsda01              9  \n",
       "aaronha01             23  \n",
       "aaronto01              7  \n",
       "aasedo01              13  \n",
       "abadan01               3  \n",
       "...                  ...  \n",
       "zupofr01               3  \n",
       "zuvelpa01              9  \n",
       "zuverge01             10  \n",
       "zwilldu01              4  \n",
       "zychto01               2  \n",
       "\n",
       "[18919 rows x 12 columns]"
      ]
     },
     "execution_count": 10,
     "metadata": {
     },
     "output_type": "execute_result"
    }
   ],
   "source": [
    "batting = batting.drop(columns = ['yearID', 'stint'])\n",
    "by_player = batting.groupby(['playerID']).sum()\n",
    "by_player['years_service'] = years_service\n",
    "by_player"
   ]
  },
  {
   "cell_type": "code",
   "execution_count": 11,
   "metadata": {
    "collapsed": false
   },
   "outputs": [
    {
     "data": {
      "text/plain": [
       "playerID\n",
       "aaronha01    23\n",
       "aasedo01     13\n",
       "abbated01    10\n",
       "abbotgl01    12\n",
       "abbotji01    11\n",
       "             ..\n",
       "zitoba01     15\n",
       "zobribe01    12\n",
       "zoldasa01    10\n",
       "zuberbi01    12\n",
       "zuverge01    10\n",
       "Name: years_service, Length: 3864, dtype: int64"
      ]
     },
     "execution_count": 11,
     "metadata": {
     },
     "output_type": "execute_result"
    }
   ],
   "source": [
    "by_player_eligible = by_player[by_player['years_service'] >= 10]\n",
    "by_player_eligible['years_service']"
   ]
  },
  {
   "cell_type": "markdown",
   "metadata": {
    "collapsed": false
   },
   "source": [
    "The way I calculated the years isn't correct, upon further research this player debuted in 1898, retired in 1924, but had several years off in between\n",
    "\n",
    "First groupby stint, summing over all columns except year, then groupby.size() ???"
   ]
  },
  {
   "cell_type": "code",
   "execution_count": 12,
   "metadata": {
    "collapsed": false
   },
   "outputs": [
    {
     "data": {
      "text/html": [
       "<div>\n",
       "<style scoped>\n",
       "    .dataframe tbody tr th:only-of-type {\n",
       "        vertical-align: middle;\n",
       "    }\n",
       "\n",
       "    .dataframe tbody tr th {\n",
       "        vertical-align: top;\n",
       "    }\n",
       "\n",
       "    .dataframe thead th {\n",
       "        text-align: right;\n",
       "    }\n",
       "</style>\n",
       "<table border=\"1\" class=\"dataframe\">\n",
       "  <thead>\n",
       "    <tr style=\"text-align: right;\">\n",
       "      <th></th>\n",
       "      <th>G</th>\n",
       "      <th>AB</th>\n",
       "      <th>R</th>\n",
       "      <th>H</th>\n",
       "      <th>2B</th>\n",
       "      <th>3B</th>\n",
       "      <th>HR</th>\n",
       "      <th>RBI</th>\n",
       "      <th>SB</th>\n",
       "      <th>BB</th>\n",
       "      <th>SO</th>\n",
       "      <th>years_service</th>\n",
       "      <th>bats</th>\n",
       "      <th>throws</th>\n",
       "    </tr>\n",
       "    <tr>\n",
       "      <th>playerID</th>\n",
       "      <th></th>\n",
       "      <th></th>\n",
       "      <th></th>\n",
       "      <th></th>\n",
       "      <th></th>\n",
       "      <th></th>\n",
       "      <th></th>\n",
       "      <th></th>\n",
       "      <th></th>\n",
       "      <th></th>\n",
       "      <th></th>\n",
       "      <th></th>\n",
       "      <th></th>\n",
       "      <th></th>\n",
       "    </tr>\n",
       "  </thead>\n",
       "  <tbody>\n",
       "    <tr>\n",
       "      <th>aaronha01</th>\n",
       "      <td>3298</td>\n",
       "      <td>12364</td>\n",
       "      <td>2174</td>\n",
       "      <td>3771</td>\n",
       "      <td>624</td>\n",
       "      <td>98</td>\n",
       "      <td>755</td>\n",
       "      <td>2297.0</td>\n",
       "      <td>240.0</td>\n",
       "      <td>1402</td>\n",
       "      <td>1383.0</td>\n",
       "      <td>23</td>\n",
       "      <td>R</td>\n",
       "      <td>R</td>\n",
       "    </tr>\n",
       "    <tr>\n",
       "      <th>aasedo01</th>\n",
       "      <td>448</td>\n",
       "      <td>5</td>\n",
       "      <td>0</td>\n",
       "      <td>0</td>\n",
       "      <td>0</td>\n",
       "      <td>0</td>\n",
       "      <td>0</td>\n",
       "      <td>0.0</td>\n",
       "      <td>0.0</td>\n",
       "      <td>0</td>\n",
       "      <td>3.0</td>\n",
       "      <td>13</td>\n",
       "      <td>R</td>\n",
       "      <td>R</td>\n",
       "    </tr>\n",
       "    <tr>\n",
       "      <th>abbated01</th>\n",
       "      <td>855</td>\n",
       "      <td>3044</td>\n",
       "      <td>355</td>\n",
       "      <td>772</td>\n",
       "      <td>99</td>\n",
       "      <td>43</td>\n",
       "      <td>11</td>\n",
       "      <td>324.0</td>\n",
       "      <td>142.0</td>\n",
       "      <td>289</td>\n",
       "      <td>283.0</td>\n",
       "      <td>10</td>\n",
       "      <td>R</td>\n",
       "      <td>R</td>\n",
       "    </tr>\n",
       "    <tr>\n",
       "      <th>abbotgl01</th>\n",
       "      <td>248</td>\n",
       "      <td>0</td>\n",
       "      <td>0</td>\n",
       "      <td>0</td>\n",
       "      <td>0</td>\n",
       "      <td>0</td>\n",
       "      <td>0</td>\n",
       "      <td>0.0</td>\n",
       "      <td>0.0</td>\n",
       "      <td>0</td>\n",
       "      <td>0.0</td>\n",
       "      <td>12</td>\n",
       "      <td>R</td>\n",
       "      <td>R</td>\n",
       "    </tr>\n",
       "    <tr>\n",
       "      <th>abbotji01</th>\n",
       "      <td>263</td>\n",
       "      <td>21</td>\n",
       "      <td>0</td>\n",
       "      <td>2</td>\n",
       "      <td>0</td>\n",
       "      <td>0</td>\n",
       "      <td>0</td>\n",
       "      <td>3.0</td>\n",
       "      <td>0.0</td>\n",
       "      <td>0</td>\n",
       "      <td>10.0</td>\n",
       "      <td>11</td>\n",
       "      <td>L</td>\n",
       "      <td>L</td>\n",
       "    </tr>\n",
       "    <tr>\n",
       "      <th>...</th>\n",
       "      <td>...</td>\n",
       "      <td>...</td>\n",
       "      <td>...</td>\n",
       "      <td>...</td>\n",
       "      <td>...</td>\n",
       "      <td>...</td>\n",
       "      <td>...</td>\n",
       "      <td>...</td>\n",
       "      <td>...</td>\n",
       "      <td>...</td>\n",
       "      <td>...</td>\n",
       "      <td>...</td>\n",
       "      <td>...</td>\n",
       "      <td>...</td>\n",
       "    </tr>\n",
       "    <tr>\n",
       "      <th>zitoba01</th>\n",
       "      <td>434</td>\n",
       "      <td>344</td>\n",
       "      <td>12</td>\n",
       "      <td>35</td>\n",
       "      <td>0</td>\n",
       "      <td>0</td>\n",
       "      <td>0</td>\n",
       "      <td>11.0</td>\n",
       "      <td>0.0</td>\n",
       "      <td>18</td>\n",
       "      <td>99.0</td>\n",
       "      <td>15</td>\n",
       "      <td>L</td>\n",
       "      <td>L</td>\n",
       "    </tr>\n",
       "    <tr>\n",
       "      <th>zobribe01</th>\n",
       "      <td>1337</td>\n",
       "      <td>4840</td>\n",
       "      <td>735</td>\n",
       "      <td>1287</td>\n",
       "      <td>296</td>\n",
       "      <td>38</td>\n",
       "      <td>145</td>\n",
       "      <td>643.0</td>\n",
       "      <td>111.0</td>\n",
       "      <td>700</td>\n",
       "      <td>839.0</td>\n",
       "      <td>12</td>\n",
       "      <td>B</td>\n",
       "      <td>R</td>\n",
       "    </tr>\n",
       "    <tr>\n",
       "      <th>zoldasa01</th>\n",
       "      <td>251</td>\n",
       "      <td>286</td>\n",
       "      <td>16</td>\n",
       "      <td>50</td>\n",
       "      <td>6</td>\n",
       "      <td>0</td>\n",
       "      <td>0</td>\n",
       "      <td>11.0</td>\n",
       "      <td>1.0</td>\n",
       "      <td>10</td>\n",
       "      <td>52.0</td>\n",
       "      <td>10</td>\n",
       "      <td>L</td>\n",
       "      <td>L</td>\n",
       "    </tr>\n",
       "    <tr>\n",
       "      <th>zuberbi01</th>\n",
       "      <td>224</td>\n",
       "      <td>229</td>\n",
       "      <td>10</td>\n",
       "      <td>31</td>\n",
       "      <td>4</td>\n",
       "      <td>5</td>\n",
       "      <td>0</td>\n",
       "      <td>11.0</td>\n",
       "      <td>0.0</td>\n",
       "      <td>10</td>\n",
       "      <td>66.0</td>\n",
       "      <td>12</td>\n",
       "      <td>R</td>\n",
       "      <td>R</td>\n",
       "    </tr>\n",
       "    <tr>\n",
       "      <th>zuverge01</th>\n",
       "      <td>266</td>\n",
       "      <td>142</td>\n",
       "      <td>5</td>\n",
       "      <td>21</td>\n",
       "      <td>2</td>\n",
       "      <td>1</td>\n",
       "      <td>0</td>\n",
       "      <td>7.0</td>\n",
       "      <td>0.0</td>\n",
       "      <td>9</td>\n",
       "      <td>39.0</td>\n",
       "      <td>10</td>\n",
       "      <td>R</td>\n",
       "      <td>R</td>\n",
       "    </tr>\n",
       "  </tbody>\n",
       "</table>\n",
       "<p>3864 rows × 14 columns</p>\n",
       "</div>"
      ],
      "text/plain": [
       "              G     AB     R     H   2B  3B   HR     RBI     SB    BB      SO  \\\n",
       "playerID                                                                        \n",
       "aaronha01  3298  12364  2174  3771  624  98  755  2297.0  240.0  1402  1383.0   \n",
       "aasedo01    448      5     0     0    0   0    0     0.0    0.0     0     3.0   \n",
       "abbated01   855   3044   355   772   99  43   11   324.0  142.0   289   283.0   \n",
       "abbotgl01   248      0     0     0    0   0    0     0.0    0.0     0     0.0   \n",
       "abbotji01   263     21     0     2    0   0    0     3.0    0.0     0    10.0   \n",
       "...         ...    ...   ...   ...  ...  ..  ...     ...    ...   ...     ...   \n",
       "zitoba01    434    344    12    35    0   0    0    11.0    0.0    18    99.0   \n",
       "zobribe01  1337   4840   735  1287  296  38  145   643.0  111.0   700   839.0   \n",
       "zoldasa01   251    286    16    50    6   0    0    11.0    1.0    10    52.0   \n",
       "zuberbi01   224    229    10    31    4   5    0    11.0    0.0    10    66.0   \n",
       "zuverge01   266    142     5    21    2   1    0     7.0    0.0     9    39.0   \n",
       "\n",
       "           years_service bats throws  \n",
       "playerID                              \n",
       "aaronha01             23    R      R  \n",
       "aasedo01              13    R      R  \n",
       "abbated01             10    R      R  \n",
       "abbotgl01             12    R      R  \n",
       "abbotji01             11    L      L  \n",
       "...                  ...  ...    ...  \n",
       "zitoba01              15    L      L  \n",
       "zobribe01             12    B      R  \n",
       "zoldasa01             10    L      L  \n",
       "zuberbi01             12    R      R  \n",
       "zuverge01             10    R      R  \n",
       "\n",
       "[3864 rows x 14 columns]"
      ]
     },
     "execution_count": 12,
     "metadata": {
     },
     "output_type": "execute_result"
    }
   ],
   "source": [
    "people = pd.read_csv('data/core/People.csv')\n",
    "people_feats = people[['playerID', 'bats', 'throws']]\n",
    "people_feats = people_feats.set_index('playerID')\n",
    "by_player_eligible = by_player_eligible.merge(people_feats, left_index = True, right_index = True)\n",
    "by_player_eligible"
   ]
  },
  {
   "cell_type": "code",
   "execution_count": 13,
   "metadata": {
    "collapsed": false
   },
   "outputs": [
    {
     "data": {
      "text/html": [
       "<div>\n",
       "<style scoped>\n",
       "    .dataframe tbody tr th:only-of-type {\n",
       "        vertical-align: middle;\n",
       "    }\n",
       "\n",
       "    .dataframe tbody tr th {\n",
       "        vertical-align: top;\n",
       "    }\n",
       "\n",
       "    .dataframe thead th {\n",
       "        text-align: right;\n",
       "    }\n",
       "</style>\n",
       "<table border=\"1\" class=\"dataframe\">\n",
       "  <thead>\n",
       "    <tr style=\"text-align: right;\">\n",
       "      <th></th>\n",
       "      <th>G</th>\n",
       "      <th>AB</th>\n",
       "      <th>R</th>\n",
       "      <th>H</th>\n",
       "      <th>2B</th>\n",
       "      <th>3B</th>\n",
       "      <th>HR</th>\n",
       "      <th>RBI</th>\n",
       "      <th>SB</th>\n",
       "      <th>BB</th>\n",
       "      <th>SO</th>\n",
       "      <th>years_service</th>\n",
       "      <th>bats_B</th>\n",
       "      <th>bats_L</th>\n",
       "      <th>bats_R</th>\n",
       "      <th>throws_L</th>\n",
       "      <th>throws_R</th>\n",
       "    </tr>\n",
       "    <tr>\n",
       "      <th>playerID</th>\n",
       "      <th></th>\n",
       "      <th></th>\n",
       "      <th></th>\n",
       "      <th></th>\n",
       "      <th></th>\n",
       "      <th></th>\n",
       "      <th></th>\n",
       "      <th></th>\n",
       "      <th></th>\n",
       "      <th></th>\n",
       "      <th></th>\n",
       "      <th></th>\n",
       "      <th></th>\n",
       "      <th></th>\n",
       "      <th></th>\n",
       "      <th></th>\n",
       "      <th></th>\n",
       "    </tr>\n",
       "  </thead>\n",
       "  <tbody>\n",
       "    <tr>\n",
       "      <th>aaronha01</th>\n",
       "      <td>3298</td>\n",
       "      <td>12364</td>\n",
       "      <td>2174</td>\n",
       "      <td>3771</td>\n",
       "      <td>624</td>\n",
       "      <td>98</td>\n",
       "      <td>755</td>\n",
       "      <td>2297.0</td>\n",
       "      <td>240.0</td>\n",
       "      <td>1402</td>\n",
       "      <td>1383.0</td>\n",
       "      <td>23</td>\n",
       "      <td>0</td>\n",
       "      <td>0</td>\n",
       "      <td>1</td>\n",
       "      <td>0</td>\n",
       "      <td>1</td>\n",
       "    </tr>\n",
       "    <tr>\n",
       "      <th>aasedo01</th>\n",
       "      <td>448</td>\n",
       "      <td>5</td>\n",
       "      <td>0</td>\n",
       "      <td>0</td>\n",
       "      <td>0</td>\n",
       "      <td>0</td>\n",
       "      <td>0</td>\n",
       "      <td>0.0</td>\n",
       "      <td>0.0</td>\n",
       "      <td>0</td>\n",
       "      <td>3.0</td>\n",
       "      <td>13</td>\n",
       "      <td>0</td>\n",
       "      <td>0</td>\n",
       "      <td>1</td>\n",
       "      <td>0</td>\n",
       "      <td>1</td>\n",
       "    </tr>\n",
       "    <tr>\n",
       "      <th>abbated01</th>\n",
       "      <td>855</td>\n",
       "      <td>3044</td>\n",
       "      <td>355</td>\n",
       "      <td>772</td>\n",
       "      <td>99</td>\n",
       "      <td>43</td>\n",
       "      <td>11</td>\n",
       "      <td>324.0</td>\n",
       "      <td>142.0</td>\n",
       "      <td>289</td>\n",
       "      <td>283.0</td>\n",
       "      <td>10</td>\n",
       "      <td>0</td>\n",
       "      <td>0</td>\n",
       "      <td>1</td>\n",
       "      <td>0</td>\n",
       "      <td>1</td>\n",
       "    </tr>\n",
       "    <tr>\n",
       "      <th>abbotgl01</th>\n",
       "      <td>248</td>\n",
       "      <td>0</td>\n",
       "      <td>0</td>\n",
       "      <td>0</td>\n",
       "      <td>0</td>\n",
       "      <td>0</td>\n",
       "      <td>0</td>\n",
       "      <td>0.0</td>\n",
       "      <td>0.0</td>\n",
       "      <td>0</td>\n",
       "      <td>0.0</td>\n",
       "      <td>12</td>\n",
       "      <td>0</td>\n",
       "      <td>0</td>\n",
       "      <td>1</td>\n",
       "      <td>0</td>\n",
       "      <td>1</td>\n",
       "    </tr>\n",
       "    <tr>\n",
       "      <th>abbotji01</th>\n",
       "      <td>263</td>\n",
       "      <td>21</td>\n",
       "      <td>0</td>\n",
       "      <td>2</td>\n",
       "      <td>0</td>\n",
       "      <td>0</td>\n",
       "      <td>0</td>\n",
       "      <td>3.0</td>\n",
       "      <td>0.0</td>\n",
       "      <td>0</td>\n",
       "      <td>10.0</td>\n",
       "      <td>11</td>\n",
       "      <td>0</td>\n",
       "      <td>1</td>\n",
       "      <td>0</td>\n",
       "      <td>1</td>\n",
       "      <td>0</td>\n",
       "    </tr>\n",
       "    <tr>\n",
       "      <th>...</th>\n",
       "      <td>...</td>\n",
       "      <td>...</td>\n",
       "      <td>...</td>\n",
       "      <td>...</td>\n",
       "      <td>...</td>\n",
       "      <td>...</td>\n",
       "      <td>...</td>\n",
       "      <td>...</td>\n",
       "      <td>...</td>\n",
       "      <td>...</td>\n",
       "      <td>...</td>\n",
       "      <td>...</td>\n",
       "      <td>...</td>\n",
       "      <td>...</td>\n",
       "      <td>...</td>\n",
       "      <td>...</td>\n",
       "      <td>...</td>\n",
       "    </tr>\n",
       "    <tr>\n",
       "      <th>zitoba01</th>\n",
       "      <td>434</td>\n",
       "      <td>344</td>\n",
       "      <td>12</td>\n",
       "      <td>35</td>\n",
       "      <td>0</td>\n",
       "      <td>0</td>\n",
       "      <td>0</td>\n",
       "      <td>11.0</td>\n",
       "      <td>0.0</td>\n",
       "      <td>18</td>\n",
       "      <td>99.0</td>\n",
       "      <td>15</td>\n",
       "      <td>0</td>\n",
       "      <td>1</td>\n",
       "      <td>0</td>\n",
       "      <td>1</td>\n",
       "      <td>0</td>\n",
       "    </tr>\n",
       "    <tr>\n",
       "      <th>zobribe01</th>\n",
       "      <td>1337</td>\n",
       "      <td>4840</td>\n",
       "      <td>735</td>\n",
       "      <td>1287</td>\n",
       "      <td>296</td>\n",
       "      <td>38</td>\n",
       "      <td>145</td>\n",
       "      <td>643.0</td>\n",
       "      <td>111.0</td>\n",
       "      <td>700</td>\n",
       "      <td>839.0</td>\n",
       "      <td>12</td>\n",
       "      <td>1</td>\n",
       "      <td>0</td>\n",
       "      <td>0</td>\n",
       "      <td>0</td>\n",
       "      <td>1</td>\n",
       "    </tr>\n",
       "    <tr>\n",
       "      <th>zoldasa01</th>\n",
       "      <td>251</td>\n",
       "      <td>286</td>\n",
       "      <td>16</td>\n",
       "      <td>50</td>\n",
       "      <td>6</td>\n",
       "      <td>0</td>\n",
       "      <td>0</td>\n",
       "      <td>11.0</td>\n",
       "      <td>1.0</td>\n",
       "      <td>10</td>\n",
       "      <td>52.0</td>\n",
       "      <td>10</td>\n",
       "      <td>0</td>\n",
       "      <td>1</td>\n",
       "      <td>0</td>\n",
       "      <td>1</td>\n",
       "      <td>0</td>\n",
       "    </tr>\n",
       "    <tr>\n",
       "      <th>zuberbi01</th>\n",
       "      <td>224</td>\n",
       "      <td>229</td>\n",
       "      <td>10</td>\n",
       "      <td>31</td>\n",
       "      <td>4</td>\n",
       "      <td>5</td>\n",
       "      <td>0</td>\n",
       "      <td>11.0</td>\n",
       "      <td>0.0</td>\n",
       "      <td>10</td>\n",
       "      <td>66.0</td>\n",
       "      <td>12</td>\n",
       "      <td>0</td>\n",
       "      <td>0</td>\n",
       "      <td>1</td>\n",
       "      <td>0</td>\n",
       "      <td>1</td>\n",
       "    </tr>\n",
       "    <tr>\n",
       "      <th>zuverge01</th>\n",
       "      <td>266</td>\n",
       "      <td>142</td>\n",
       "      <td>5</td>\n",
       "      <td>21</td>\n",
       "      <td>2</td>\n",
       "      <td>1</td>\n",
       "      <td>0</td>\n",
       "      <td>7.0</td>\n",
       "      <td>0.0</td>\n",
       "      <td>9</td>\n",
       "      <td>39.0</td>\n",
       "      <td>10</td>\n",
       "      <td>0</td>\n",
       "      <td>0</td>\n",
       "      <td>1</td>\n",
       "      <td>0</td>\n",
       "      <td>1</td>\n",
       "    </tr>\n",
       "  </tbody>\n",
       "</table>\n",
       "<p>3864 rows × 17 columns</p>\n",
       "</div>"
      ],
      "text/plain": [
       "              G     AB     R     H   2B  3B   HR     RBI     SB    BB      SO  \\\n",
       "playerID                                                                        \n",
       "aaronha01  3298  12364  2174  3771  624  98  755  2297.0  240.0  1402  1383.0   \n",
       "aasedo01    448      5     0     0    0   0    0     0.0    0.0     0     3.0   \n",
       "abbated01   855   3044   355   772   99  43   11   324.0  142.0   289   283.0   \n",
       "abbotgl01   248      0     0     0    0   0    0     0.0    0.0     0     0.0   \n",
       "abbotji01   263     21     0     2    0   0    0     3.0    0.0     0    10.0   \n",
       "...         ...    ...   ...   ...  ...  ..  ...     ...    ...   ...     ...   \n",
       "zitoba01    434    344    12    35    0   0    0    11.0    0.0    18    99.0   \n",
       "zobribe01  1337   4840   735  1287  296  38  145   643.0  111.0   700   839.0   \n",
       "zoldasa01   251    286    16    50    6   0    0    11.0    1.0    10    52.0   \n",
       "zuberbi01   224    229    10    31    4   5    0    11.0    0.0    10    66.0   \n",
       "zuverge01   266    142     5    21    2   1    0     7.0    0.0     9    39.0   \n",
       "\n",
       "           years_service  bats_B  bats_L  bats_R  throws_L  throws_R  \n",
       "playerID                                                              \n",
       "aaronha01             23       0       0       1         0         1  \n",
       "aasedo01              13       0       0       1         0         1  \n",
       "abbated01             10       0       0       1         0         1  \n",
       "abbotgl01             12       0       0       1         0         1  \n",
       "abbotji01             11       0       1       0         1         0  \n",
       "...                  ...     ...     ...     ...       ...       ...  \n",
       "zitoba01              15       0       1       0         1         0  \n",
       "zobribe01             12       1       0       0         0         1  \n",
       "zoldasa01             10       0       1       0         1         0  \n",
       "zuberbi01             12       0       0       1         0         1  \n",
       "zuverge01             10       0       0       1         0         1  \n",
       "\n",
       "[3864 rows x 17 columns]"
      ]
     },
     "execution_count": 13,
     "metadata": {
     },
     "output_type": "execute_result"
    }
   ],
   "source": [
    "by_player_eligible = pd.get_dummies(by_player_eligible, columns=['bats', 'throws'])\n",
    "by_player_eligible"
   ]
  },
  {
   "cell_type": "code",
   "execution_count": 14,
   "metadata": {
    "collapsed": false
   },
   "outputs": [
    {
     "data": {
      "text/html": [
       "<div>\n",
       "<style scoped>\n",
       "    .dataframe tbody tr th:only-of-type {\n",
       "        vertical-align: middle;\n",
       "    }\n",
       "\n",
       "    .dataframe tbody tr th {\n",
       "        vertical-align: top;\n",
       "    }\n",
       "\n",
       "    .dataframe thead th {\n",
       "        text-align: right;\n",
       "    }\n",
       "</style>\n",
       "<table border=\"1\" class=\"dataframe\">\n",
       "  <thead>\n",
       "    <tr style=\"text-align: right;\">\n",
       "      <th></th>\n",
       "      <th>POS</th>\n",
       "    </tr>\n",
       "    <tr>\n",
       "      <th>playerID</th>\n",
       "      <th></th>\n",
       "    </tr>\n",
       "  </thead>\n",
       "  <tbody>\n",
       "    <tr>\n",
       "      <th>aardsda01</th>\n",
       "      <td>P</td>\n",
       "    </tr>\n",
       "    <tr>\n",
       "      <th>aaronha01</th>\n",
       "      <td>OF</td>\n",
       "    </tr>\n",
       "    <tr>\n",
       "      <th>aaronto01</th>\n",
       "      <td>OF</td>\n",
       "    </tr>\n",
       "    <tr>\n",
       "      <th>aasedo01</th>\n",
       "      <td>P</td>\n",
       "    </tr>\n",
       "    <tr>\n",
       "      <th>abadan01</th>\n",
       "      <td>OF</td>\n",
       "    </tr>\n",
       "    <tr>\n",
       "      <th>...</th>\n",
       "      <td>...</td>\n",
       "    </tr>\n",
       "    <tr>\n",
       "      <th>zupofr01</th>\n",
       "      <td>C</td>\n",
       "    </tr>\n",
       "    <tr>\n",
       "      <th>zuvelpa01</th>\n",
       "      <td>SS</td>\n",
       "    </tr>\n",
       "    <tr>\n",
       "      <th>zuverge01</th>\n",
       "      <td>P</td>\n",
       "    </tr>\n",
       "    <tr>\n",
       "      <th>zwilldu01</th>\n",
       "      <td>OF</td>\n",
       "    </tr>\n",
       "    <tr>\n",
       "      <th>zychto01</th>\n",
       "      <td>P</td>\n",
       "    </tr>\n",
       "  </tbody>\n",
       "</table>\n",
       "<p>19964 rows × 1 columns</p>\n",
       "</div>"
      ],
      "text/plain": [
       "          POS\n",
       "playerID     \n",
       "aardsda01   P\n",
       "aaronha01  OF\n",
       "aaronto01  OF\n",
       "aasedo01    P\n",
       "abadan01   OF\n",
       "...        ..\n",
       "zupofr01    C\n",
       "zuvelpa01  SS\n",
       "zuverge01   P\n",
       "zwilldu01  OF\n",
       "zychto01    P\n",
       "\n",
       "[19964 rows x 1 columns]"
      ]
     },
     "execution_count": 14,
     "metadata": {
     },
     "output_type": "execute_result"
    }
   ],
   "source": [
    "fielding = pd.read_csv('data/core/Fielding.csv')\n",
    "pos = pd.DataFrame(fielding.groupby('playerID')['POS'].max())\n",
    "pos"
   ]
  },
  {
   "cell_type": "code",
   "execution_count": 15,
   "metadata": {
    "collapsed": false
   },
   "outputs": [
    {
     "data": {
      "text/html": [
       "<div>\n",
       "<style scoped>\n",
       "    .dataframe tbody tr th:only-of-type {\n",
       "        vertical-align: middle;\n",
       "    }\n",
       "\n",
       "    .dataframe tbody tr th {\n",
       "        vertical-align: top;\n",
       "    }\n",
       "\n",
       "    .dataframe thead th {\n",
       "        text-align: right;\n",
       "    }\n",
       "</style>\n",
       "<table border=\"1\" class=\"dataframe\">\n",
       "  <thead>\n",
       "    <tr style=\"text-align: right;\">\n",
       "      <th></th>\n",
       "      <th>G</th>\n",
       "      <th>AB</th>\n",
       "      <th>R</th>\n",
       "      <th>H</th>\n",
       "      <th>2B</th>\n",
       "      <th>3B</th>\n",
       "      <th>HR</th>\n",
       "      <th>RBI</th>\n",
       "      <th>SB</th>\n",
       "      <th>BB</th>\n",
       "      <th>SO</th>\n",
       "      <th>years_service</th>\n",
       "      <th>bats_B</th>\n",
       "      <th>bats_L</th>\n",
       "      <th>bats_R</th>\n",
       "      <th>throws_L</th>\n",
       "      <th>throws_R</th>\n",
       "      <th>POS</th>\n",
       "    </tr>\n",
       "    <tr>\n",
       "      <th>playerID</th>\n",
       "      <th></th>\n",
       "      <th></th>\n",
       "      <th></th>\n",
       "      <th></th>\n",
       "      <th></th>\n",
       "      <th></th>\n",
       "      <th></th>\n",
       "      <th></th>\n",
       "      <th></th>\n",
       "      <th></th>\n",
       "      <th></th>\n",
       "      <th></th>\n",
       "      <th></th>\n",
       "      <th></th>\n",
       "      <th></th>\n",
       "      <th></th>\n",
       "      <th></th>\n",
       "      <th></th>\n",
       "    </tr>\n",
       "  </thead>\n",
       "  <tbody>\n",
       "    <tr>\n",
       "      <th>aaronha01</th>\n",
       "      <td>3298</td>\n",
       "      <td>12364</td>\n",
       "      <td>2174</td>\n",
       "      <td>3771</td>\n",
       "      <td>624</td>\n",
       "      <td>98</td>\n",
       "      <td>755</td>\n",
       "      <td>2297.0</td>\n",
       "      <td>240.0</td>\n",
       "      <td>1402</td>\n",
       "      <td>1383.0</td>\n",
       "      <td>23</td>\n",
       "      <td>0</td>\n",
       "      <td>0</td>\n",
       "      <td>1</td>\n",
       "      <td>0</td>\n",
       "      <td>1</td>\n",
       "      <td>OF</td>\n",
       "    </tr>\n",
       "    <tr>\n",
       "      <th>aasedo01</th>\n",
       "      <td>448</td>\n",
       "      <td>5</td>\n",
       "      <td>0</td>\n",
       "      <td>0</td>\n",
       "      <td>0</td>\n",
       "      <td>0</td>\n",
       "      <td>0</td>\n",
       "      <td>0.0</td>\n",
       "      <td>0.0</td>\n",
       "      <td>0</td>\n",
       "      <td>3.0</td>\n",
       "      <td>13</td>\n",
       "      <td>0</td>\n",
       "      <td>0</td>\n",
       "      <td>1</td>\n",
       "      <td>0</td>\n",
       "      <td>1</td>\n",
       "      <td>P</td>\n",
       "    </tr>\n",
       "    <tr>\n",
       "      <th>abbated01</th>\n",
       "      <td>855</td>\n",
       "      <td>3044</td>\n",
       "      <td>355</td>\n",
       "      <td>772</td>\n",
       "      <td>99</td>\n",
       "      <td>43</td>\n",
       "      <td>11</td>\n",
       "      <td>324.0</td>\n",
       "      <td>142.0</td>\n",
       "      <td>289</td>\n",
       "      <td>283.0</td>\n",
       "      <td>10</td>\n",
       "      <td>0</td>\n",
       "      <td>0</td>\n",
       "      <td>1</td>\n",
       "      <td>0</td>\n",
       "      <td>1</td>\n",
       "      <td>SS</td>\n",
       "    </tr>\n",
       "    <tr>\n",
       "      <th>abbotgl01</th>\n",
       "      <td>248</td>\n",
       "      <td>0</td>\n",
       "      <td>0</td>\n",
       "      <td>0</td>\n",
       "      <td>0</td>\n",
       "      <td>0</td>\n",
       "      <td>0</td>\n",
       "      <td>0.0</td>\n",
       "      <td>0.0</td>\n",
       "      <td>0</td>\n",
       "      <td>0.0</td>\n",
       "      <td>12</td>\n",
       "      <td>0</td>\n",
       "      <td>0</td>\n",
       "      <td>1</td>\n",
       "      <td>0</td>\n",
       "      <td>1</td>\n",
       "      <td>P</td>\n",
       "    </tr>\n",
       "    <tr>\n",
       "      <th>abbotji01</th>\n",
       "      <td>263</td>\n",
       "      <td>21</td>\n",
       "      <td>0</td>\n",
       "      <td>2</td>\n",
       "      <td>0</td>\n",
       "      <td>0</td>\n",
       "      <td>0</td>\n",
       "      <td>3.0</td>\n",
       "      <td>0.0</td>\n",
       "      <td>0</td>\n",
       "      <td>10.0</td>\n",
       "      <td>11</td>\n",
       "      <td>0</td>\n",
       "      <td>1</td>\n",
       "      <td>0</td>\n",
       "      <td>1</td>\n",
       "      <td>0</td>\n",
       "      <td>P</td>\n",
       "    </tr>\n",
       "    <tr>\n",
       "      <th>...</th>\n",
       "      <td>...</td>\n",
       "      <td>...</td>\n",
       "      <td>...</td>\n",
       "      <td>...</td>\n",
       "      <td>...</td>\n",
       "      <td>...</td>\n",
       "      <td>...</td>\n",
       "      <td>...</td>\n",
       "      <td>...</td>\n",
       "      <td>...</td>\n",
       "      <td>...</td>\n",
       "      <td>...</td>\n",
       "      <td>...</td>\n",
       "      <td>...</td>\n",
       "      <td>...</td>\n",
       "      <td>...</td>\n",
       "      <td>...</td>\n",
       "      <td>...</td>\n",
       "    </tr>\n",
       "    <tr>\n",
       "      <th>zitoba01</th>\n",
       "      <td>434</td>\n",
       "      <td>344</td>\n",
       "      <td>12</td>\n",
       "      <td>35</td>\n",
       "      <td>0</td>\n",
       "      <td>0</td>\n",
       "      <td>0</td>\n",
       "      <td>11.0</td>\n",
       "      <td>0.0</td>\n",
       "      <td>18</td>\n",
       "      <td>99.0</td>\n",
       "      <td>15</td>\n",
       "      <td>0</td>\n",
       "      <td>1</td>\n",
       "      <td>0</td>\n",
       "      <td>1</td>\n",
       "      <td>0</td>\n",
       "      <td>P</td>\n",
       "    </tr>\n",
       "    <tr>\n",
       "      <th>zobribe01</th>\n",
       "      <td>1337</td>\n",
       "      <td>4840</td>\n",
       "      <td>735</td>\n",
       "      <td>1287</td>\n",
       "      <td>296</td>\n",
       "      <td>38</td>\n",
       "      <td>145</td>\n",
       "      <td>643.0</td>\n",
       "      <td>111.0</td>\n",
       "      <td>700</td>\n",
       "      <td>839.0</td>\n",
       "      <td>12</td>\n",
       "      <td>1</td>\n",
       "      <td>0</td>\n",
       "      <td>0</td>\n",
       "      <td>0</td>\n",
       "      <td>1</td>\n",
       "      <td>SS</td>\n",
       "    </tr>\n",
       "    <tr>\n",
       "      <th>zoldasa01</th>\n",
       "      <td>251</td>\n",
       "      <td>286</td>\n",
       "      <td>16</td>\n",
       "      <td>50</td>\n",
       "      <td>6</td>\n",
       "      <td>0</td>\n",
       "      <td>0</td>\n",
       "      <td>11.0</td>\n",
       "      <td>1.0</td>\n",
       "      <td>10</td>\n",
       "      <td>52.0</td>\n",
       "      <td>10</td>\n",
       "      <td>0</td>\n",
       "      <td>1</td>\n",
       "      <td>0</td>\n",
       "      <td>1</td>\n",
       "      <td>0</td>\n",
       "      <td>P</td>\n",
       "    </tr>\n",
       "    <tr>\n",
       "      <th>zuberbi01</th>\n",
       "      <td>224</td>\n",
       "      <td>229</td>\n",
       "      <td>10</td>\n",
       "      <td>31</td>\n",
       "      <td>4</td>\n",
       "      <td>5</td>\n",
       "      <td>0</td>\n",
       "      <td>11.0</td>\n",
       "      <td>0.0</td>\n",
       "      <td>10</td>\n",
       "      <td>66.0</td>\n",
       "      <td>12</td>\n",
       "      <td>0</td>\n",
       "      <td>0</td>\n",
       "      <td>1</td>\n",
       "      <td>0</td>\n",
       "      <td>1</td>\n",
       "      <td>P</td>\n",
       "    </tr>\n",
       "    <tr>\n",
       "      <th>zuverge01</th>\n",
       "      <td>266</td>\n",
       "      <td>142</td>\n",
       "      <td>5</td>\n",
       "      <td>21</td>\n",
       "      <td>2</td>\n",
       "      <td>1</td>\n",
       "      <td>0</td>\n",
       "      <td>7.0</td>\n",
       "      <td>0.0</td>\n",
       "      <td>9</td>\n",
       "      <td>39.0</td>\n",
       "      <td>10</td>\n",
       "      <td>0</td>\n",
       "      <td>0</td>\n",
       "      <td>1</td>\n",
       "      <td>0</td>\n",
       "      <td>1</td>\n",
       "      <td>P</td>\n",
       "    </tr>\n",
       "  </tbody>\n",
       "</table>\n",
       "<p>3864 rows × 18 columns</p>\n",
       "</div>"
      ],
      "text/plain": [
       "              G     AB     R     H   2B  3B   HR     RBI     SB    BB      SO  \\\n",
       "playerID                                                                        \n",
       "aaronha01  3298  12364  2174  3771  624  98  755  2297.0  240.0  1402  1383.0   \n",
       "aasedo01    448      5     0     0    0   0    0     0.0    0.0     0     3.0   \n",
       "abbated01   855   3044   355   772   99  43   11   324.0  142.0   289   283.0   \n",
       "abbotgl01   248      0     0     0    0   0    0     0.0    0.0     0     0.0   \n",
       "abbotji01   263     21     0     2    0   0    0     3.0    0.0     0    10.0   \n",
       "...         ...    ...   ...   ...  ...  ..  ...     ...    ...   ...     ...   \n",
       "zitoba01    434    344    12    35    0   0    0    11.0    0.0    18    99.0   \n",
       "zobribe01  1337   4840   735  1287  296  38  145   643.0  111.0   700   839.0   \n",
       "zoldasa01   251    286    16    50    6   0    0    11.0    1.0    10    52.0   \n",
       "zuberbi01   224    229    10    31    4   5    0    11.0    0.0    10    66.0   \n",
       "zuverge01   266    142     5    21    2   1    0     7.0    0.0     9    39.0   \n",
       "\n",
       "           years_service  bats_B  bats_L  bats_R  throws_L  throws_R POS  \n",
       "playerID                                                                  \n",
       "aaronha01             23       0       0       1         0         1  OF  \n",
       "aasedo01              13       0       0       1         0         1   P  \n",
       "abbated01             10       0       0       1         0         1  SS  \n",
       "abbotgl01             12       0       0       1         0         1   P  \n",
       "abbotji01             11       0       1       0         1         0   P  \n",
       "...                  ...     ...     ...     ...       ...       ...  ..  \n",
       "zitoba01              15       0       1       0         1         0   P  \n",
       "zobribe01             12       1       0       0         0         1  SS  \n",
       "zoldasa01             10       0       1       0         1         0   P  \n",
       "zuberbi01             12       0       0       1         0         1   P  \n",
       "zuverge01             10       0       0       1         0         1   P  \n",
       "\n",
       "[3864 rows x 18 columns]"
      ]
     },
     "execution_count": 15,
     "metadata": {
     },
     "output_type": "execute_result"
    }
   ],
   "source": [
    "by_player_eligible = by_player_eligible.merge(pos, left_index= True, right_index = True)\n",
    "by_player_eligible"
   ]
  },
  {
   "cell_type": "markdown",
   "metadata": {
    "collapsed": false
   },
   "source": [
    "I will remove the AB column, replacing it with a batting average column, that is is Hits / (AB - Walks)"
   ]
  },
  {
   "cell_type": "code",
   "execution_count": 16,
   "metadata": {
    "collapsed": false
   },
   "outputs": [
    {
     "data": {
      "text/html": [
       "<div>\n",
       "<style scoped>\n",
       "    .dataframe tbody tr th:only-of-type {\n",
       "        vertical-align: middle;\n",
       "    }\n",
       "\n",
       "    .dataframe tbody tr th {\n",
       "        vertical-align: top;\n",
       "    }\n",
       "\n",
       "    .dataframe thead th {\n",
       "        text-align: right;\n",
       "    }\n",
       "</style>\n",
       "<table border=\"1\" class=\"dataframe\">\n",
       "  <thead>\n",
       "    <tr style=\"text-align: right;\">\n",
       "      <th></th>\n",
       "      <th>G</th>\n",
       "      <th>R</th>\n",
       "      <th>H</th>\n",
       "      <th>2B</th>\n",
       "      <th>3B</th>\n",
       "      <th>HR</th>\n",
       "      <th>RBI</th>\n",
       "      <th>SB</th>\n",
       "      <th>BB</th>\n",
       "      <th>SO</th>\n",
       "      <th>years_service</th>\n",
       "      <th>bats_B</th>\n",
       "      <th>bats_L</th>\n",
       "      <th>bats_R</th>\n",
       "      <th>throws_L</th>\n",
       "      <th>throws_R</th>\n",
       "      <th>POS</th>\n",
       "      <th>Avg</th>\n",
       "    </tr>\n",
       "    <tr>\n",
       "      <th>playerID</th>\n",
       "      <th></th>\n",
       "      <th></th>\n",
       "      <th></th>\n",
       "      <th></th>\n",
       "      <th></th>\n",
       "      <th></th>\n",
       "      <th></th>\n",
       "      <th></th>\n",
       "      <th></th>\n",
       "      <th></th>\n",
       "      <th></th>\n",
       "      <th></th>\n",
       "      <th></th>\n",
       "      <th></th>\n",
       "      <th></th>\n",
       "      <th></th>\n",
       "      <th></th>\n",
       "      <th></th>\n",
       "    </tr>\n",
       "  </thead>\n",
       "  <tbody>\n",
       "    <tr>\n",
       "      <th>aaronha01</th>\n",
       "      <td>3298</td>\n",
       "      <td>2174</td>\n",
       "      <td>3771</td>\n",
       "      <td>624</td>\n",
       "      <td>98</td>\n",
       "      <td>755</td>\n",
       "      <td>2297.0</td>\n",
       "      <td>240.0</td>\n",
       "      <td>1402</td>\n",
       "      <td>1383.0</td>\n",
       "      <td>23</td>\n",
       "      <td>0</td>\n",
       "      <td>0</td>\n",
       "      <td>1</td>\n",
       "      <td>0</td>\n",
       "      <td>1</td>\n",
       "      <td>OF</td>\n",
       "      <td>0.344007</td>\n",
       "    </tr>\n",
       "    <tr>\n",
       "      <th>aasedo01</th>\n",
       "      <td>448</td>\n",
       "      <td>0</td>\n",
       "      <td>0</td>\n",
       "      <td>0</td>\n",
       "      <td>0</td>\n",
       "      <td>0</td>\n",
       "      <td>0.0</td>\n",
       "      <td>0.0</td>\n",
       "      <td>0</td>\n",
       "      <td>3.0</td>\n",
       "      <td>13</td>\n",
       "      <td>0</td>\n",
       "      <td>0</td>\n",
       "      <td>1</td>\n",
       "      <td>0</td>\n",
       "      <td>1</td>\n",
       "      <td>P</td>\n",
       "      <td>0.000000</td>\n",
       "    </tr>\n",
       "    <tr>\n",
       "      <th>abbated01</th>\n",
       "      <td>855</td>\n",
       "      <td>355</td>\n",
       "      <td>772</td>\n",
       "      <td>99</td>\n",
       "      <td>43</td>\n",
       "      <td>11</td>\n",
       "      <td>324.0</td>\n",
       "      <td>142.0</td>\n",
       "      <td>289</td>\n",
       "      <td>283.0</td>\n",
       "      <td>10</td>\n",
       "      <td>0</td>\n",
       "      <td>0</td>\n",
       "      <td>1</td>\n",
       "      <td>0</td>\n",
       "      <td>1</td>\n",
       "      <td>SS</td>\n",
       "      <td>0.280218</td>\n",
       "    </tr>\n",
       "    <tr>\n",
       "      <th>abbotji01</th>\n",
       "      <td>263</td>\n",
       "      <td>0</td>\n",
       "      <td>2</td>\n",
       "      <td>0</td>\n",
       "      <td>0</td>\n",
       "      <td>0</td>\n",
       "      <td>3.0</td>\n",
       "      <td>0.0</td>\n",
       "      <td>0</td>\n",
       "      <td>10.0</td>\n",
       "      <td>11</td>\n",
       "      <td>0</td>\n",
       "      <td>1</td>\n",
       "      <td>0</td>\n",
       "      <td>1</td>\n",
       "      <td>0</td>\n",
       "      <td>P</td>\n",
       "      <td>0.095238</td>\n",
       "    </tr>\n",
       "    <tr>\n",
       "      <th>abbotku01</th>\n",
       "      <td>702</td>\n",
       "      <td>273</td>\n",
       "      <td>523</td>\n",
       "      <td>109</td>\n",
       "      <td>23</td>\n",
       "      <td>62</td>\n",
       "      <td>242.0</td>\n",
       "      <td>22.0</td>\n",
       "      <td>133</td>\n",
       "      <td>571.0</td>\n",
       "      <td>10</td>\n",
       "      <td>0</td>\n",
       "      <td>0</td>\n",
       "      <td>1</td>\n",
       "      <td>0</td>\n",
       "      <td>1</td>\n",
       "      <td>SS</td>\n",
       "      <td>0.273679</td>\n",
       "    </tr>\n",
       "    <tr>\n",
       "      <th>...</th>\n",
       "      <td>...</td>\n",
       "      <td>...</td>\n",
       "      <td>...</td>\n",
       "      <td>...</td>\n",
       "      <td>...</td>\n",
       "      <td>...</td>\n",
       "      <td>...</td>\n",
       "      <td>...</td>\n",
       "      <td>...</td>\n",
       "      <td>...</td>\n",
       "      <td>...</td>\n",
       "      <td>...</td>\n",
       "      <td>...</td>\n",
       "      <td>...</td>\n",
       "      <td>...</td>\n",
       "      <td>...</td>\n",
       "      <td>...</td>\n",
       "      <td>...</td>\n",
       "    </tr>\n",
       "    <tr>\n",
       "      <th>zitoba01</th>\n",
       "      <td>434</td>\n",
       "      <td>12</td>\n",
       "      <td>35</td>\n",
       "      <td>0</td>\n",
       "      <td>0</td>\n",
       "      <td>0</td>\n",
       "      <td>11.0</td>\n",
       "      <td>0.0</td>\n",
       "      <td>18</td>\n",
       "      <td>99.0</td>\n",
       "      <td>15</td>\n",
       "      <td>0</td>\n",
       "      <td>1</td>\n",
       "      <td>0</td>\n",
       "      <td>1</td>\n",
       "      <td>0</td>\n",
       "      <td>P</td>\n",
       "      <td>0.107362</td>\n",
       "    </tr>\n",
       "    <tr>\n",
       "      <th>zobribe01</th>\n",
       "      <td>1337</td>\n",
       "      <td>735</td>\n",
       "      <td>1287</td>\n",
       "      <td>296</td>\n",
       "      <td>38</td>\n",
       "      <td>145</td>\n",
       "      <td>643.0</td>\n",
       "      <td>111.0</td>\n",
       "      <td>700</td>\n",
       "      <td>839.0</td>\n",
       "      <td>12</td>\n",
       "      <td>1</td>\n",
       "      <td>0</td>\n",
       "      <td>0</td>\n",
       "      <td>0</td>\n",
       "      <td>1</td>\n",
       "      <td>SS</td>\n",
       "      <td>0.310870</td>\n",
       "    </tr>\n",
       "    <tr>\n",
       "      <th>zoldasa01</th>\n",
       "      <td>251</td>\n",
       "      <td>16</td>\n",
       "      <td>50</td>\n",
       "      <td>6</td>\n",
       "      <td>0</td>\n",
       "      <td>0</td>\n",
       "      <td>11.0</td>\n",
       "      <td>1.0</td>\n",
       "      <td>10</td>\n",
       "      <td>52.0</td>\n",
       "      <td>10</td>\n",
       "      <td>0</td>\n",
       "      <td>1</td>\n",
       "      <td>0</td>\n",
       "      <td>1</td>\n",
       "      <td>0</td>\n",
       "      <td>P</td>\n",
       "      <td>0.181159</td>\n",
       "    </tr>\n",
       "    <tr>\n",
       "      <th>zuberbi01</th>\n",
       "      <td>224</td>\n",
       "      <td>10</td>\n",
       "      <td>31</td>\n",
       "      <td>4</td>\n",
       "      <td>5</td>\n",
       "      <td>0</td>\n",
       "      <td>11.0</td>\n",
       "      <td>0.0</td>\n",
       "      <td>10</td>\n",
       "      <td>66.0</td>\n",
       "      <td>12</td>\n",
       "      <td>0</td>\n",
       "      <td>0</td>\n",
       "      <td>1</td>\n",
       "      <td>0</td>\n",
       "      <td>1</td>\n",
       "      <td>P</td>\n",
       "      <td>0.141553</td>\n",
       "    </tr>\n",
       "    <tr>\n",
       "      <th>zuverge01</th>\n",
       "      <td>266</td>\n",
       "      <td>5</td>\n",
       "      <td>21</td>\n",
       "      <td>2</td>\n",
       "      <td>1</td>\n",
       "      <td>0</td>\n",
       "      <td>7.0</td>\n",
       "      <td>0.0</td>\n",
       "      <td>9</td>\n",
       "      <td>39.0</td>\n",
       "      <td>10</td>\n",
       "      <td>0</td>\n",
       "      <td>0</td>\n",
       "      <td>1</td>\n",
       "      <td>0</td>\n",
       "      <td>1</td>\n",
       "      <td>P</td>\n",
       "      <td>0.157895</td>\n",
       "    </tr>\n",
       "  </tbody>\n",
       "</table>\n",
       "<p>3822 rows × 18 columns</p>\n",
       "</div>"
      ],
      "text/plain": [
       "              G     R     H   2B  3B   HR     RBI     SB    BB      SO  \\\n",
       "playerID                                                                 \n",
       "aaronha01  3298  2174  3771  624  98  755  2297.0  240.0  1402  1383.0   \n",
       "aasedo01    448     0     0    0   0    0     0.0    0.0     0     3.0   \n",
       "abbated01   855   355   772   99  43   11   324.0  142.0   289   283.0   \n",
       "abbotji01   263     0     2    0   0    0     3.0    0.0     0    10.0   \n",
       "abbotku01   702   273   523  109  23   62   242.0   22.0   133   571.0   \n",
       "...         ...   ...   ...  ...  ..  ...     ...    ...   ...     ...   \n",
       "zitoba01    434    12    35    0   0    0    11.0    0.0    18    99.0   \n",
       "zobribe01  1337   735  1287  296  38  145   643.0  111.0   700   839.0   \n",
       "zoldasa01   251    16    50    6   0    0    11.0    1.0    10    52.0   \n",
       "zuberbi01   224    10    31    4   5    0    11.0    0.0    10    66.0   \n",
       "zuverge01   266     5    21    2   1    0     7.0    0.0     9    39.0   \n",
       "\n",
       "           years_service  bats_B  bats_L  bats_R  throws_L  throws_R POS  \\\n",
       "playerID                                                                   \n",
       "aaronha01             23       0       0       1         0         1  OF   \n",
       "aasedo01              13       0       0       1         0         1   P   \n",
       "abbated01             10       0       0       1         0         1  SS   \n",
       "abbotji01             11       0       1       0         1         0   P   \n",
       "abbotku01             10       0       0       1         0         1  SS   \n",
       "...                  ...     ...     ...     ...       ...       ...  ..   \n",
       "zitoba01              15       0       1       0         1         0   P   \n",
       "zobribe01             12       1       0       0         0         1  SS   \n",
       "zoldasa01             10       0       1       0         1         0   P   \n",
       "zuberbi01             12       0       0       1         0         1   P   \n",
       "zuverge01             10       0       0       1         0         1   P   \n",
       "\n",
       "                Avg  \n",
       "playerID             \n",
       "aaronha01  0.344007  \n",
       "aasedo01   0.000000  \n",
       "abbated01  0.280218  \n",
       "abbotji01  0.095238  \n",
       "abbotku01  0.273679  \n",
       "...             ...  \n",
       "zitoba01   0.107362  \n",
       "zobribe01  0.310870  \n",
       "zoldasa01  0.181159  \n",
       "zuberbi01  0.141553  \n",
       "zuverge01  0.157895  \n",
       "\n",
       "[3822 rows x 18 columns]"
      ]
     },
     "execution_count": 16,
     "metadata": {
     },
     "output_type": "execute_result"
    }
   ],
   "source": [
    "by_player_eligible['Avg'] = by_player_eligible['H'] / (by_player_eligible['AB'] - by_player_eligible['BB'])\n",
    "by_player_eligible = by_player_eligible.dropna()\n",
    "temp = by_player_eligible.copy()\n",
    "by_player_eligible = by_player_eligible.drop(columns = 'AB')\n",
    "by_player_eligible"
   ]
  },
  {
   "cell_type": "markdown",
   "metadata": {
    "collapsed": false
   },
   "source": [
    "Now we have all the variables we think will be useful for our analysis. We will look at the data more closely."
   ]
  },
  {
   "cell_type": "markdown",
   "metadata": {
    "collapsed": false
   },
   "source": [
    "We still need to get our target variable, we will get that from a separate dataframe."
   ]
  },
  {
   "cell_type": "code",
   "execution_count": 17,
   "metadata": {
    "collapsed": false
   },
   "outputs": [
    {
     "data": {
      "text/html": [
       "<div>\n",
       "<style scoped>\n",
       "    .dataframe tbody tr th:only-of-type {\n",
       "        vertical-align: middle;\n",
       "    }\n",
       "\n",
       "    .dataframe tbody tr th {\n",
       "        vertical-align: top;\n",
       "    }\n",
       "\n",
       "    .dataframe thead th {\n",
       "        text-align: right;\n",
       "    }\n",
       "</style>\n",
       "<table border=\"1\" class=\"dataframe\">\n",
       "  <thead>\n",
       "    <tr style=\"text-align: right;\">\n",
       "      <th></th>\n",
       "      <th>playerID</th>\n",
       "      <th>yearID</th>\n",
       "      <th>votedBy</th>\n",
       "      <th>ballots</th>\n",
       "      <th>needed</th>\n",
       "      <th>votes</th>\n",
       "      <th>inducted</th>\n",
       "      <th>category</th>\n",
       "      <th>needed_note</th>\n",
       "    </tr>\n",
       "  </thead>\n",
       "  <tbody>\n",
       "    <tr>\n",
       "      <th>0</th>\n",
       "      <td>cobbty01</td>\n",
       "      <td>1936</td>\n",
       "      <td>BBWAA</td>\n",
       "      <td>226.0</td>\n",
       "      <td>170.0</td>\n",
       "      <td>222.0</td>\n",
       "      <td>Y</td>\n",
       "      <td>Player</td>\n",
       "      <td>NaN</td>\n",
       "    </tr>\n",
       "    <tr>\n",
       "      <th>1</th>\n",
       "      <td>ruthba01</td>\n",
       "      <td>1936</td>\n",
       "      <td>BBWAA</td>\n",
       "      <td>226.0</td>\n",
       "      <td>170.0</td>\n",
       "      <td>215.0</td>\n",
       "      <td>Y</td>\n",
       "      <td>Player</td>\n",
       "      <td>NaN</td>\n",
       "    </tr>\n",
       "    <tr>\n",
       "      <th>2</th>\n",
       "      <td>wagneho01</td>\n",
       "      <td>1936</td>\n",
       "      <td>BBWAA</td>\n",
       "      <td>226.0</td>\n",
       "      <td>170.0</td>\n",
       "      <td>215.0</td>\n",
       "      <td>Y</td>\n",
       "      <td>Player</td>\n",
       "      <td>NaN</td>\n",
       "    </tr>\n",
       "    <tr>\n",
       "      <th>3</th>\n",
       "      <td>mathech01</td>\n",
       "      <td>1936</td>\n",
       "      <td>BBWAA</td>\n",
       "      <td>226.0</td>\n",
       "      <td>170.0</td>\n",
       "      <td>205.0</td>\n",
       "      <td>Y</td>\n",
       "      <td>Player</td>\n",
       "      <td>NaN</td>\n",
       "    </tr>\n",
       "    <tr>\n",
       "      <th>4</th>\n",
       "      <td>johnswa01</td>\n",
       "      <td>1936</td>\n",
       "      <td>BBWAA</td>\n",
       "      <td>226.0</td>\n",
       "      <td>170.0</td>\n",
       "      <td>189.0</td>\n",
       "      <td>Y</td>\n",
       "      <td>Player</td>\n",
       "      <td>NaN</td>\n",
       "    </tr>\n",
       "    <tr>\n",
       "      <th>...</th>\n",
       "      <td>...</td>\n",
       "      <td>...</td>\n",
       "      <td>...</td>\n",
       "      <td>...</td>\n",
       "      <td>...</td>\n",
       "      <td>...</td>\n",
       "      <td>...</td>\n",
       "      <td>...</td>\n",
       "      <td>...</td>\n",
       "    </tr>\n",
       "    <tr>\n",
       "      <th>4157</th>\n",
       "      <td>guerrvl01</td>\n",
       "      <td>2018</td>\n",
       "      <td>BBWAA</td>\n",
       "      <td>422.0</td>\n",
       "      <td>317.0</td>\n",
       "      <td>392.0</td>\n",
       "      <td>Y</td>\n",
       "      <td>Player</td>\n",
       "      <td>NaN</td>\n",
       "    </tr>\n",
       "    <tr>\n",
       "      <th>4158</th>\n",
       "      <td>thomeji01</td>\n",
       "      <td>2018</td>\n",
       "      <td>BBWAA</td>\n",
       "      <td>422.0</td>\n",
       "      <td>317.0</td>\n",
       "      <td>379.0</td>\n",
       "      <td>Y</td>\n",
       "      <td>Player</td>\n",
       "      <td>NaN</td>\n",
       "    </tr>\n",
       "    <tr>\n",
       "      <th>4159</th>\n",
       "      <td>hoffmtr01</td>\n",
       "      <td>2018</td>\n",
       "      <td>BBWAA</td>\n",
       "      <td>422.0</td>\n",
       "      <td>317.0</td>\n",
       "      <td>337.0</td>\n",
       "      <td>Y</td>\n",
       "      <td>Player</td>\n",
       "      <td>NaN</td>\n",
       "    </tr>\n",
       "    <tr>\n",
       "      <th>4189</th>\n",
       "      <td>morrija02</td>\n",
       "      <td>2018</td>\n",
       "      <td>Veterans</td>\n",
       "      <td>NaN</td>\n",
       "      <td>NaN</td>\n",
       "      <td>NaN</td>\n",
       "      <td>Y</td>\n",
       "      <td>Player</td>\n",
       "      <td>NaN</td>\n",
       "    </tr>\n",
       "    <tr>\n",
       "      <th>4190</th>\n",
       "      <td>trammal01</td>\n",
       "      <td>2018</td>\n",
       "      <td>Veterans</td>\n",
       "      <td>NaN</td>\n",
       "      <td>NaN</td>\n",
       "      <td>NaN</td>\n",
       "      <td>Y</td>\n",
       "      <td>Player</td>\n",
       "      <td>NaN</td>\n",
       "    </tr>\n",
       "  </tbody>\n",
       "</table>\n",
       "<p>323 rows × 9 columns</p>\n",
       "</div>"
      ],
      "text/plain": [
       "       playerID  yearID   votedBy  ballots  needed  votes inducted category  \\\n",
       "0      cobbty01    1936     BBWAA    226.0   170.0  222.0        Y   Player   \n",
       "1      ruthba01    1936     BBWAA    226.0   170.0  215.0        Y   Player   \n",
       "2     wagneho01    1936     BBWAA    226.0   170.0  215.0        Y   Player   \n",
       "3     mathech01    1936     BBWAA    226.0   170.0  205.0        Y   Player   \n",
       "4     johnswa01    1936     BBWAA    226.0   170.0  189.0        Y   Player   \n",
       "...         ...     ...       ...      ...     ...    ...      ...      ...   \n",
       "4157  guerrvl01    2018     BBWAA    422.0   317.0  392.0        Y   Player   \n",
       "4158  thomeji01    2018     BBWAA    422.0   317.0  379.0        Y   Player   \n",
       "4159  hoffmtr01    2018     BBWAA    422.0   317.0  337.0        Y   Player   \n",
       "4189  morrija02    2018  Veterans      NaN     NaN    NaN        Y   Player   \n",
       "4190  trammal01    2018  Veterans      NaN     NaN    NaN        Y   Player   \n",
       "\n",
       "     needed_note  \n",
       "0            NaN  \n",
       "1            NaN  \n",
       "2            NaN  \n",
       "3            NaN  \n",
       "4            NaN  \n",
       "...          ...  \n",
       "4157         NaN  \n",
       "4158         NaN  \n",
       "4159         NaN  \n",
       "4189         NaN  \n",
       "4190         NaN  \n",
       "\n",
       "[323 rows x 9 columns]"
      ]
     },
     "execution_count": 17,
     "metadata": {
     },
     "output_type": "execute_result"
    }
   ],
   "source": [
    "hof = pd.read_csv('data/contrib/HallOfFame.csv')\n",
    "hof_inducted = hof[hof['inducted'] == 'Y']\n",
    "hof_inducted"
   ]
  },
  {
   "cell_type": "code",
   "execution_count": 18,
   "metadata": {
    "collapsed": false
   },
   "outputs": [
    {
     "data": {
      "text/plain": [
       "3822"
      ]
     },
     "execution_count": 18,
     "metadata": {
     },
     "output_type": "execute_result"
    }
   ],
   "source": [
    "idx = pd.Index(by_player_eligible.index)\n",
    "hof_inductees = idx.isin(hof_inducted['playerID'])\n",
    "len(hof_inductees)"
   ]
  },
  {
   "cell_type": "code",
   "execution_count": 19,
   "metadata": {
    "collapsed": false
   },
   "outputs": [
    {
     "data": {
      "text/plain": [
       "False    3581\n",
       "True      241\n",
       "Name: hof, dtype: int64"
      ]
     },
     "execution_count": 19,
     "metadata": {
     },
     "output_type": "execute_result"
    }
   ],
   "source": [
    "by_player_eligible['hof'] = hof_inductees\n",
    "by_player_eligible['hof'].value_counts()"
   ]
  },
  {
   "cell_type": "markdown",
   "metadata": {
    "collapsed": false
   },
   "source": [
    "There is some discrepancy in the number of hall of famers, because the hof data frame also includes pitchers."
   ]
  },
  {
   "cell_type": "code",
   "execution_count": 20,
   "metadata": {
    "collapsed": false
   },
   "outputs": [
    {
     "data": {
      "text/html": [
       "<div>\n",
       "<style scoped>\n",
       "    .dataframe tbody tr th:only-of-type {\n",
       "        vertical-align: middle;\n",
       "    }\n",
       "\n",
       "    .dataframe tbody tr th {\n",
       "        vertical-align: top;\n",
       "    }\n",
       "\n",
       "    .dataframe thead th {\n",
       "        text-align: right;\n",
       "    }\n",
       "</style>\n",
       "<table border=\"1\" class=\"dataframe\">\n",
       "  <thead>\n",
       "    <tr style=\"text-align: right;\">\n",
       "      <th></th>\n",
       "      <th>G</th>\n",
       "      <th>R</th>\n",
       "      <th>H</th>\n",
       "      <th>2B</th>\n",
       "      <th>3B</th>\n",
       "      <th>HR</th>\n",
       "      <th>RBI</th>\n",
       "      <th>SB</th>\n",
       "      <th>BB</th>\n",
       "      <th>SO</th>\n",
       "      <th>years_service</th>\n",
       "      <th>bats_B</th>\n",
       "      <th>bats_L</th>\n",
       "      <th>bats_R</th>\n",
       "      <th>throws_L</th>\n",
       "      <th>throws_R</th>\n",
       "      <th>POS</th>\n",
       "      <th>Avg</th>\n",
       "      <th>hof</th>\n",
       "    </tr>\n",
       "    <tr>\n",
       "      <th>playerID</th>\n",
       "      <th></th>\n",
       "      <th></th>\n",
       "      <th></th>\n",
       "      <th></th>\n",
       "      <th></th>\n",
       "      <th></th>\n",
       "      <th></th>\n",
       "      <th></th>\n",
       "      <th></th>\n",
       "      <th></th>\n",
       "      <th></th>\n",
       "      <th></th>\n",
       "      <th></th>\n",
       "      <th></th>\n",
       "      <th></th>\n",
       "      <th></th>\n",
       "      <th></th>\n",
       "      <th></th>\n",
       "      <th></th>\n",
       "    </tr>\n",
       "  </thead>\n",
       "  <tbody>\n",
       "    <tr>\n",
       "      <th>aaronha01</th>\n",
       "      <td>3298</td>\n",
       "      <td>2174</td>\n",
       "      <td>3771</td>\n",
       "      <td>624</td>\n",
       "      <td>98</td>\n",
       "      <td>755</td>\n",
       "      <td>2297.0</td>\n",
       "      <td>240.0</td>\n",
       "      <td>1402</td>\n",
       "      <td>1383.0</td>\n",
       "      <td>23</td>\n",
       "      <td>0</td>\n",
       "      <td>0</td>\n",
       "      <td>1</td>\n",
       "      <td>0</td>\n",
       "      <td>1</td>\n",
       "      <td>OF</td>\n",
       "      <td>0.344007</td>\n",
       "      <td>True</td>\n",
       "    </tr>\n",
       "    <tr>\n",
       "      <th>aasedo01</th>\n",
       "      <td>448</td>\n",
       "      <td>0</td>\n",
       "      <td>0</td>\n",
       "      <td>0</td>\n",
       "      <td>0</td>\n",
       "      <td>0</td>\n",
       "      <td>0.0</td>\n",
       "      <td>0.0</td>\n",
       "      <td>0</td>\n",
       "      <td>3.0</td>\n",
       "      <td>13</td>\n",
       "      <td>0</td>\n",
       "      <td>0</td>\n",
       "      <td>1</td>\n",
       "      <td>0</td>\n",
       "      <td>1</td>\n",
       "      <td>P</td>\n",
       "      <td>0.000000</td>\n",
       "      <td>False</td>\n",
       "    </tr>\n",
       "    <tr>\n",
       "      <th>abbated01</th>\n",
       "      <td>855</td>\n",
       "      <td>355</td>\n",
       "      <td>772</td>\n",
       "      <td>99</td>\n",
       "      <td>43</td>\n",
       "      <td>11</td>\n",
       "      <td>324.0</td>\n",
       "      <td>142.0</td>\n",
       "      <td>289</td>\n",
       "      <td>283.0</td>\n",
       "      <td>10</td>\n",
       "      <td>0</td>\n",
       "      <td>0</td>\n",
       "      <td>1</td>\n",
       "      <td>0</td>\n",
       "      <td>1</td>\n",
       "      <td>SS</td>\n",
       "      <td>0.280218</td>\n",
       "      <td>False</td>\n",
       "    </tr>\n",
       "    <tr>\n",
       "      <th>abbotji01</th>\n",
       "      <td>263</td>\n",
       "      <td>0</td>\n",
       "      <td>2</td>\n",
       "      <td>0</td>\n",
       "      <td>0</td>\n",
       "      <td>0</td>\n",
       "      <td>3.0</td>\n",
       "      <td>0.0</td>\n",
       "      <td>0</td>\n",
       "      <td>10.0</td>\n",
       "      <td>11</td>\n",
       "      <td>0</td>\n",
       "      <td>1</td>\n",
       "      <td>0</td>\n",
       "      <td>1</td>\n",
       "      <td>0</td>\n",
       "      <td>P</td>\n",
       "      <td>0.095238</td>\n",
       "      <td>False</td>\n",
       "    </tr>\n",
       "    <tr>\n",
       "      <th>abbotku01</th>\n",
       "      <td>702</td>\n",
       "      <td>273</td>\n",
       "      <td>523</td>\n",
       "      <td>109</td>\n",
       "      <td>23</td>\n",
       "      <td>62</td>\n",
       "      <td>242.0</td>\n",
       "      <td>22.0</td>\n",
       "      <td>133</td>\n",
       "      <td>571.0</td>\n",
       "      <td>10</td>\n",
       "      <td>0</td>\n",
       "      <td>0</td>\n",
       "      <td>1</td>\n",
       "      <td>0</td>\n",
       "      <td>1</td>\n",
       "      <td>SS</td>\n",
       "      <td>0.273679</td>\n",
       "      <td>False</td>\n",
       "    </tr>\n",
       "    <tr>\n",
       "      <th>...</th>\n",
       "      <td>...</td>\n",
       "      <td>...</td>\n",
       "      <td>...</td>\n",
       "      <td>...</td>\n",
       "      <td>...</td>\n",
       "      <td>...</td>\n",
       "      <td>...</td>\n",
       "      <td>...</td>\n",
       "      <td>...</td>\n",
       "      <td>...</td>\n",
       "      <td>...</td>\n",
       "      <td>...</td>\n",
       "      <td>...</td>\n",
       "      <td>...</td>\n",
       "      <td>...</td>\n",
       "      <td>...</td>\n",
       "      <td>...</td>\n",
       "      <td>...</td>\n",
       "      <td>...</td>\n",
       "    </tr>\n",
       "    <tr>\n",
       "      <th>zitoba01</th>\n",
       "      <td>434</td>\n",
       "      <td>12</td>\n",
       "      <td>35</td>\n",
       "      <td>0</td>\n",
       "      <td>0</td>\n",
       "      <td>0</td>\n",
       "      <td>11.0</td>\n",
       "      <td>0.0</td>\n",
       "      <td>18</td>\n",
       "      <td>99.0</td>\n",
       "      <td>15</td>\n",
       "      <td>0</td>\n",
       "      <td>1</td>\n",
       "      <td>0</td>\n",
       "      <td>1</td>\n",
       "      <td>0</td>\n",
       "      <td>P</td>\n",
       "      <td>0.107362</td>\n",
       "      <td>False</td>\n",
       "    </tr>\n",
       "    <tr>\n",
       "      <th>zobribe01</th>\n",
       "      <td>1337</td>\n",
       "      <td>735</td>\n",
       "      <td>1287</td>\n",
       "      <td>296</td>\n",
       "      <td>38</td>\n",
       "      <td>145</td>\n",
       "      <td>643.0</td>\n",
       "      <td>111.0</td>\n",
       "      <td>700</td>\n",
       "      <td>839.0</td>\n",
       "      <td>12</td>\n",
       "      <td>1</td>\n",
       "      <td>0</td>\n",
       "      <td>0</td>\n",
       "      <td>0</td>\n",
       "      <td>1</td>\n",
       "      <td>SS</td>\n",
       "      <td>0.310870</td>\n",
       "      <td>False</td>\n",
       "    </tr>\n",
       "    <tr>\n",
       "      <th>zoldasa01</th>\n",
       "      <td>251</td>\n",
       "      <td>16</td>\n",
       "      <td>50</td>\n",
       "      <td>6</td>\n",
       "      <td>0</td>\n",
       "      <td>0</td>\n",
       "      <td>11.0</td>\n",
       "      <td>1.0</td>\n",
       "      <td>10</td>\n",
       "      <td>52.0</td>\n",
       "      <td>10</td>\n",
       "      <td>0</td>\n",
       "      <td>1</td>\n",
       "      <td>0</td>\n",
       "      <td>1</td>\n",
       "      <td>0</td>\n",
       "      <td>P</td>\n",
       "      <td>0.181159</td>\n",
       "      <td>False</td>\n",
       "    </tr>\n",
       "    <tr>\n",
       "      <th>zuberbi01</th>\n",
       "      <td>224</td>\n",
       "      <td>10</td>\n",
       "      <td>31</td>\n",
       "      <td>4</td>\n",
       "      <td>5</td>\n",
       "      <td>0</td>\n",
       "      <td>11.0</td>\n",
       "      <td>0.0</td>\n",
       "      <td>10</td>\n",
       "      <td>66.0</td>\n",
       "      <td>12</td>\n",
       "      <td>0</td>\n",
       "      <td>0</td>\n",
       "      <td>1</td>\n",
       "      <td>0</td>\n",
       "      <td>1</td>\n",
       "      <td>P</td>\n",
       "      <td>0.141553</td>\n",
       "      <td>False</td>\n",
       "    </tr>\n",
       "    <tr>\n",
       "      <th>zuverge01</th>\n",
       "      <td>266</td>\n",
       "      <td>5</td>\n",
       "      <td>21</td>\n",
       "      <td>2</td>\n",
       "      <td>1</td>\n",
       "      <td>0</td>\n",
       "      <td>7.0</td>\n",
       "      <td>0.0</td>\n",
       "      <td>9</td>\n",
       "      <td>39.0</td>\n",
       "      <td>10</td>\n",
       "      <td>0</td>\n",
       "      <td>0</td>\n",
       "      <td>1</td>\n",
       "      <td>0</td>\n",
       "      <td>1</td>\n",
       "      <td>P</td>\n",
       "      <td>0.157895</td>\n",
       "      <td>False</td>\n",
       "    </tr>\n",
       "  </tbody>\n",
       "</table>\n",
       "<p>3822 rows × 19 columns</p>\n",
       "</div>"
      ],
      "text/plain": [
       "              G     R     H   2B  3B   HR     RBI     SB    BB      SO  \\\n",
       "playerID                                                                 \n",
       "aaronha01  3298  2174  3771  624  98  755  2297.0  240.0  1402  1383.0   \n",
       "aasedo01    448     0     0    0   0    0     0.0    0.0     0     3.0   \n",
       "abbated01   855   355   772   99  43   11   324.0  142.0   289   283.0   \n",
       "abbotji01   263     0     2    0   0    0     3.0    0.0     0    10.0   \n",
       "abbotku01   702   273   523  109  23   62   242.0   22.0   133   571.0   \n",
       "...         ...   ...   ...  ...  ..  ...     ...    ...   ...     ...   \n",
       "zitoba01    434    12    35    0   0    0    11.0    0.0    18    99.0   \n",
       "zobribe01  1337   735  1287  296  38  145   643.0  111.0   700   839.0   \n",
       "zoldasa01   251    16    50    6   0    0    11.0    1.0    10    52.0   \n",
       "zuberbi01   224    10    31    4   5    0    11.0    0.0    10    66.0   \n",
       "zuverge01   266     5    21    2   1    0     7.0    0.0     9    39.0   \n",
       "\n",
       "           years_service  bats_B  bats_L  bats_R  throws_L  throws_R POS  \\\n",
       "playerID                                                                   \n",
       "aaronha01             23       0       0       1         0         1  OF   \n",
       "aasedo01              13       0       0       1         0         1   P   \n",
       "abbated01             10       0       0       1         0         1  SS   \n",
       "abbotji01             11       0       1       0         1         0   P   \n",
       "abbotku01             10       0       0       1         0         1  SS   \n",
       "...                  ...     ...     ...     ...       ...       ...  ..   \n",
       "zitoba01              15       0       1       0         1         0   P   \n",
       "zobribe01             12       1       0       0         0         1  SS   \n",
       "zoldasa01             10       0       1       0         1         0   P   \n",
       "zuberbi01             12       0       0       1         0         1   P   \n",
       "zuverge01             10       0       0       1         0         1   P   \n",
       "\n",
       "                Avg    hof  \n",
       "playerID                    \n",
       "aaronha01  0.344007   True  \n",
       "aasedo01   0.000000  False  \n",
       "abbated01  0.280218  False  \n",
       "abbotji01  0.095238  False  \n",
       "abbotku01  0.273679  False  \n",
       "...             ...    ...  \n",
       "zitoba01   0.107362  False  \n",
       "zobribe01  0.310870  False  \n",
       "zoldasa01  0.181159  False  \n",
       "zuberbi01  0.141553  False  \n",
       "zuverge01  0.157895  False  \n",
       "\n",
       "[3822 rows x 19 columns]"
      ]
     },
     "execution_count": 20,
     "metadata": {
     },
     "output_type": "execute_result"
    }
   ],
   "source": [
    "by_player_eligible"
   ]
  },
  {
   "cell_type": "code",
   "execution_count": 21,
   "metadata": {
    "collapsed": false
   },
   "outputs": [
    {
     "data": {
      "text/html": "<html>\n<head><meta charset=\"utf-8\" /></head>\n<body>\n    <div>            <script src=\"https://cdnjs.cloudflare.com/ajax/libs/mathjax/2.7.5/MathJax.js?config=TeX-AMS-MML_SVG\"></script><script type=\"text/javascript\">if (window.MathJax) {MathJax.Hub.Config({SVG: {font: \"STIX-Web\"}});}</script>                <script type=\"text/javascript\">window.PlotlyConfig = {MathJaxConfig: 'local'};</script>\n        <script src=\"https://cdn.plot.ly/plotly-2.9.0.min.js\"></script>                <div id=\"48d46ff1-227a-4e70-bb37-4640887d0cf5\" class=\"plotly-graph-div\" style=\"height:500px; width:800px;\"></div>            <script type=\"text/javascript\">                                    window.PLOTLYENV=window.PLOTLYENV || {};                                    if (document.getElementById(\"48d46ff1-227a-4e70-bb37-4640887d0cf5\")) {                    Plotly.newPlot(                        \"48d46ff1-227a-4e70-bb37-4640887d0cf5\",                        [{\"coloraxis\":\"coloraxis\",\"name\":\"0\",\"x\":[\"G\",\"R\",\"H\",\"2B\",\"3B\",\"HR\",\"RBI\",\"SB\",\"BB\",\"SO\",\"years_service\",\"bats_B\",\"bats_L\",\"bats_R\",\"throws_L\",\"throws_R\",\"Avg\",\"hof\"],\"y\":[\"G\",\"R\",\"H\",\"2B\",\"3B\",\"HR\",\"RBI\",\"SB\",\"BB\",\"SO\",\"years_service\",\"bats_B\",\"bats_L\",\"bats_R\",\"throws_L\",\"throws_R\",\"Avg\",\"hof\"],\"z\":[[1.0,0.9340067957835214,0.9599228879731138,0.9373225117785263,0.7143416999870196,0.7336852031908014,0.9186704622342259,0.6009930213006458,0.887113135380499,0.781371527697076,0.5241025554679373,0.09310237765756144,0.09384466062045635,-0.13870214960074315,-0.08006751547881796,0.08019739727969039,0.6245242133330424,0.31721838420085846],[0.9340067957835214,1.0,0.9789048575884552,0.9531741318041932,0.8029786612577413,0.7401164058528906,0.9430076337752133,0.6996358985667002,0.9168429545655076,0.7515309712619327,0.39546272731297694,0.08872094588764781,0.10203533112555913,-0.14456862599839948,-0.08068055363106978,0.08059235746501694,0.6703306783460592,0.36423610692323066],[0.9599228879731138,0.9789048575884552,1.0,0.9732646882967282,0.7931334994962942,0.7197333365789812,0.9489433311481933,0.6490632874524066,0.886276793423928,0.7491240802539096,0.40458030914976956,0.0849880792904324,0.09174517381167764,-0.13277089913176712,-0.09490303893329825,0.09492709082908106,0.6893818583414647,0.3425400614812997],[0.9373225117785263,0.9531741318041932,0.9732646882967282,1.0,0.7254329680647974,0.7693045551921132,0.9559498700152871,0.5709712095487736,0.8788025811615412,0.7841617314829583,0.3922010810000006,0.07505316908889464,0.07942833865986004,-0.11562494120293111,-0.09010492604140441,0.09019932897317631,0.6715200782125764,0.3180225850509773],[0.7143416999870196,0.8029786612577413,0.7931334994962942,0.7254329680647974,1.0,0.3372739261611071,0.7021914224786943,0.7172576529071513,0.6409782964994862,0.38618737957060223,0.29549143291156527,0.0636228149030241,0.12912268981801509,-0.15618628163935214,-0.03615345117557213,0.035890476926380865,0.5493216389944313,0.3742614298739416],[0.7336852031908014,0.7401164058528906,0.7197333365789812,0.7693045551921132,0.3372739261611071,1.0,0.8607580419361571,0.2544394464881949,0.7818468652200338,0.8638362805963343,0.3251816068146076,0.007923793725538038,0.06901928215433038,-0.06823402246660867,-0.049239388610303,0.04957850414249371,0.4726247666100246,0.24337296907056472],[0.9186704622342259,0.9430076337752133,0.9489433311481933,0.9559498700152871,0.7021914224786943,0.8607580419361571,1.0,0.5176346077378248,0.8886637477436392,0.8008724198136111,0.40580168606173267,0.04047908407674374,0.08051358153999273,-0.09725551255269148,-0.0877141369449202,0.08788471275918534,0.6482966775018851,0.3527067702755184],[0.6009930213006458,0.6996358985667002,0.6490632874524066,0.5709712095487736,0.7172576529071513,0.2544394464881949,0.5176346077378248,1.0,0.561181787801688,0.402814850354194,0.25169403400948553,0.14347492114370608,0.04818765653995542,-0.12545334661611363,-0.03942431420605796,0.0390694730495988,0.41444696986383994,0.25215522639343363],[0.887113135380499,0.9168429545655076,0.886276793423928,0.8788025811615412,0.6409782964994862,0.7818468652200338,0.8886637477436392,0.561181787801688,1.0,0.7783882430259029,0.37906469932181347,0.10404591698384358,0.13662254967008372,-0.18559088030875162,-0.05991589492767406,0.05998207035255344,0.6367460041311215,0.31818811419133225],[0.781371527697076,0.7515309712619327,0.7491240802539096,0.7841617314829583,0.38618737957060223,0.8638362805963343,0.8008724198136111,0.402814850354194,0.7783882430259029,1.0,0.34020773322896347,0.10256980457226827,0.016181329831043936,-0.07193321719327626,-0.09101538139215679,0.09136033817754263,0.5195669560771098,0.1602769099775929],[0.5241025554679373,0.39546272731297694,0.40458030914976956,0.3922010810000006,0.29549143291156527,0.3251816068146076,0.40580168606173267,0.25169403400948553,0.37906469932181347,0.34020773322896347,1.0,0.030941580624628,0.03090912928194433,-0.045062066864677515,0.05930543824898724,-0.05948053963572589,0.11094392592314256,0.33401561245932104],[0.09310237765756144,0.08872094588764781,0.0849880792904324,0.07505316908889464,0.0636228149030241,0.007923793725538038,0.04047908407674374,0.14347492114370608,0.10404591698384358,0.10256980457226827,0.030941580624628,1.0,-0.18808298348564229,-0.38721625032364887,-0.035064891510539625,0.03280787927235132,0.07860977357286192,0.010197971083791661],[0.09384466062045635,0.10203533112555913,0.09174517381167764,0.07942833865986004,0.12912268981801509,0.06901928215433038,0.08051358153999273,0.04818765653995542,0.13662254967008372,0.016181329831043936,0.03090912928194433,-0.18808298348564229,1.0,-0.8309102586983583,0.5481125313065036,-0.5474087476628773,0.14356234981988816,0.013559504264731131],[-0.13870214960074315,-0.14456862599839948,-0.13277089913176712,-0.11562494120293111,-0.15618628163935214,-0.06823402246660867,-0.09725551255269148,-0.12545334661611363,-0.18559088030875162,-0.07193321719327626,-0.045062066864677515,-0.38721625032364887,-0.8309102586983583,1.0,-0.49495338909315356,0.49556507498168284,-0.17885558100396928,-0.018050397687205056],[-0.08006751547881796,-0.08068055363106978,-0.09490303893329825,-0.09010492604140441,-0.03615345117557213,-0.049239388610303,-0.0877141369449202,-0.03942431420605796,-0.05991589492767406,-0.09101538139215679,0.05930543824898724,-0.035064891510539625,0.5481125313065036,-0.49495338909315356,1.0,-0.9991602857238208,-0.10318917805714767,-0.020387829196785636],[0.08019739727969039,0.08059235746501694,0.09492709082908106,0.09019932897317631,0.035890476926380865,0.04957850414249371,0.08788471275918534,0.0390694730495988,0.05998207035255344,0.09136033817754263,-0.05948053963572589,0.03280787927235132,-0.5474087476628773,0.49556507498168284,-0.9991602857238208,1.0,0.10296108550302717,0.020549271983474282],[0.6245242133330424,0.6703306783460592,0.6893818583414647,0.6715200782125764,0.5493216389944313,0.4726247666100246,0.6482966775018851,0.41444696986383994,0.6367460041311215,0.5195669560771098,0.11094392592314256,0.07860977357286192,0.14356234981988816,-0.17885558100396928,-0.10318917805714767,0.10296108550302717,1.0,0.15783996988196108],[0.31721838420085846,0.36423610692323066,0.3425400614812997,0.3180225850509773,0.3742614298739416,0.24337296907056472,0.3527067702755184,0.25215522639343363,0.31818811419133225,0.1602769099775929,0.33401561245932104,0.010197971083791661,0.013559504264731131,-0.018050397687205056,-0.020387829196785636,0.020549271983474282,0.15783996988196108,1.0]],\"type\":\"heatmap\",\"xaxis\":\"x\",\"yaxis\":\"y\",\"hovertemplate\":\"x: %{x}<br>y: %{y}<br>color: %{z}<extra></extra>\"}],                        {\"template\":{\"data\":{\"bar\":[{\"error_x\":{\"color\":\"#2a3f5f\"},\"error_y\":{\"color\":\"#2a3f5f\"},\"marker\":{\"line\":{\"color\":\"#E5ECF6\",\"width\":0.5},\"pattern\":{\"fillmode\":\"overlay\",\"size\":10,\"solidity\":0.2}},\"type\":\"bar\"}],\"barpolar\":[{\"marker\":{\"line\":{\"color\":\"#E5ECF6\",\"width\":0.5},\"pattern\":{\"fillmode\":\"overlay\",\"size\":10,\"solidity\":0.2}},\"type\":\"barpolar\"}],\"carpet\":[{\"aaxis\":{\"endlinecolor\":\"#2a3f5f\",\"gridcolor\":\"white\",\"linecolor\":\"white\",\"minorgridcolor\":\"white\",\"startlinecolor\":\"#2a3f5f\"},\"baxis\":{\"endlinecolor\":\"#2a3f5f\",\"gridcolor\":\"white\",\"linecolor\":\"white\",\"minorgridcolor\":\"white\",\"startlinecolor\":\"#2a3f5f\"},\"type\":\"carpet\"}],\"choropleth\":[{\"colorbar\":{\"outlinewidth\":0,\"ticks\":\"\"},\"type\":\"choropleth\"}],\"contour\":[{\"colorbar\":{\"outlinewidth\":0,\"ticks\":\"\"},\"colorscale\":[[0.0,\"#0d0887\"],[0.1111111111111111,\"#46039f\"],[0.2222222222222222,\"#7201a8\"],[0.3333333333333333,\"#9c179e\"],[0.4444444444444444,\"#bd3786\"],[0.5555555555555556,\"#d8576b\"],[0.6666666666666666,\"#ed7953\"],[0.7777777777777778,\"#fb9f3a\"],[0.8888888888888888,\"#fdca26\"],[1.0,\"#f0f921\"]],\"type\":\"contour\"}],\"contourcarpet\":[{\"colorbar\":{\"outlinewidth\":0,\"ticks\":\"\"},\"type\":\"contourcarpet\"}],\"heatmap\":[{\"colorbar\":{\"outlinewidth\":0,\"ticks\":\"\"},\"colorscale\":[[0.0,\"#0d0887\"],[0.1111111111111111,\"#46039f\"],[0.2222222222222222,\"#7201a8\"],[0.3333333333333333,\"#9c179e\"],[0.4444444444444444,\"#bd3786\"],[0.5555555555555556,\"#d8576b\"],[0.6666666666666666,\"#ed7953\"],[0.7777777777777778,\"#fb9f3a\"],[0.8888888888888888,\"#fdca26\"],[1.0,\"#f0f921\"]],\"type\":\"heatmap\"}],\"heatmapgl\":[{\"colorbar\":{\"outlinewidth\":0,\"ticks\":\"\"},\"colorscale\":[[0.0,\"#0d0887\"],[0.1111111111111111,\"#46039f\"],[0.2222222222222222,\"#7201a8\"],[0.3333333333333333,\"#9c179e\"],[0.4444444444444444,\"#bd3786\"],[0.5555555555555556,\"#d8576b\"],[0.6666666666666666,\"#ed7953\"],[0.7777777777777778,\"#fb9f3a\"],[0.8888888888888888,\"#fdca26\"],[1.0,\"#f0f921\"]],\"type\":\"heatmapgl\"}],\"histogram\":[{\"marker\":{\"pattern\":{\"fillmode\":\"overlay\",\"size\":10,\"solidity\":0.2}},\"type\":\"histogram\"}],\"histogram2d\":[{\"colorbar\":{\"outlinewidth\":0,\"ticks\":\"\"},\"colorscale\":[[0.0,\"#0d0887\"],[0.1111111111111111,\"#46039f\"],[0.2222222222222222,\"#7201a8\"],[0.3333333333333333,\"#9c179e\"],[0.4444444444444444,\"#bd3786\"],[0.5555555555555556,\"#d8576b\"],[0.6666666666666666,\"#ed7953\"],[0.7777777777777778,\"#fb9f3a\"],[0.8888888888888888,\"#fdca26\"],[1.0,\"#f0f921\"]],\"type\":\"histogram2d\"}],\"histogram2dcontour\":[{\"colorbar\":{\"outlinewidth\":0,\"ticks\":\"\"},\"colorscale\":[[0.0,\"#0d0887\"],[0.1111111111111111,\"#46039f\"],[0.2222222222222222,\"#7201a8\"],[0.3333333333333333,\"#9c179e\"],[0.4444444444444444,\"#bd3786\"],[0.5555555555555556,\"#d8576b\"],[0.6666666666666666,\"#ed7953\"],[0.7777777777777778,\"#fb9f3a\"],[0.8888888888888888,\"#fdca26\"],[1.0,\"#f0f921\"]],\"type\":\"histogram2dcontour\"}],\"mesh3d\":[{\"colorbar\":{\"outlinewidth\":0,\"ticks\":\"\"},\"type\":\"mesh3d\"}],\"parcoords\":[{\"line\":{\"colorbar\":{\"outlinewidth\":0,\"ticks\":\"\"}},\"type\":\"parcoords\"}],\"pie\":[{\"automargin\":true,\"type\":\"pie\"}],\"scatter\":[{\"marker\":{\"colorbar\":{\"outlinewidth\":0,\"ticks\":\"\"}},\"type\":\"scatter\"}],\"scatter3d\":[{\"line\":{\"colorbar\":{\"outlinewidth\":0,\"ticks\":\"\"}},\"marker\":{\"colorbar\":{\"outlinewidth\":0,\"ticks\":\"\"}},\"type\":\"scatter3d\"}],\"scattercarpet\":[{\"marker\":{\"colorbar\":{\"outlinewidth\":0,\"ticks\":\"\"}},\"type\":\"scattercarpet\"}],\"scattergeo\":[{\"marker\":{\"colorbar\":{\"outlinewidth\":0,\"ticks\":\"\"}},\"type\":\"scattergeo\"}],\"scattergl\":[{\"marker\":{\"colorbar\":{\"outlinewidth\":0,\"ticks\":\"\"}},\"type\":\"scattergl\"}],\"scattermapbox\":[{\"marker\":{\"colorbar\":{\"outlinewidth\":0,\"ticks\":\"\"}},\"type\":\"scattermapbox\"}],\"scatterpolar\":[{\"marker\":{\"colorbar\":{\"outlinewidth\":0,\"ticks\":\"\"}},\"type\":\"scatterpolar\"}],\"scatterpolargl\":[{\"marker\":{\"colorbar\":{\"outlinewidth\":0,\"ticks\":\"\"}},\"type\":\"scatterpolargl\"}],\"scatterternary\":[{\"marker\":{\"colorbar\":{\"outlinewidth\":0,\"ticks\":\"\"}},\"type\":\"scatterternary\"}],\"surface\":[{\"colorbar\":{\"outlinewidth\":0,\"ticks\":\"\"},\"colorscale\":[[0.0,\"#0d0887\"],[0.1111111111111111,\"#46039f\"],[0.2222222222222222,\"#7201a8\"],[0.3333333333333333,\"#9c179e\"],[0.4444444444444444,\"#bd3786\"],[0.5555555555555556,\"#d8576b\"],[0.6666666666666666,\"#ed7953\"],[0.7777777777777778,\"#fb9f3a\"],[0.8888888888888888,\"#fdca26\"],[1.0,\"#f0f921\"]],\"type\":\"surface\"}],\"table\":[{\"cells\":{\"fill\":{\"color\":\"#EBF0F8\"},\"line\":{\"color\":\"white\"}},\"header\":{\"fill\":{\"color\":\"#C8D4E3\"},\"line\":{\"color\":\"white\"}},\"type\":\"table\"}]},\"layout\":{\"annotationdefaults\":{\"arrowcolor\":\"#2a3f5f\",\"arrowhead\":0,\"arrowwidth\":1},\"autotypenumbers\":\"strict\",\"coloraxis\":{\"colorbar\":{\"outlinewidth\":0,\"ticks\":\"\"}},\"colorscale\":{\"diverging\":[[0,\"#8e0152\"],[0.1,\"#c51b7d\"],[0.2,\"#de77ae\"],[0.3,\"#f1b6da\"],[0.4,\"#fde0ef\"],[0.5,\"#f7f7f7\"],[0.6,\"#e6f5d0\"],[0.7,\"#b8e186\"],[0.8,\"#7fbc41\"],[0.9,\"#4d9221\"],[1,\"#276419\"]],\"sequential\":[[0.0,\"#0d0887\"],[0.1111111111111111,\"#46039f\"],[0.2222222222222222,\"#7201a8\"],[0.3333333333333333,\"#9c179e\"],[0.4444444444444444,\"#bd3786\"],[0.5555555555555556,\"#d8576b\"],[0.6666666666666666,\"#ed7953\"],[0.7777777777777778,\"#fb9f3a\"],[0.8888888888888888,\"#fdca26\"],[1.0,\"#f0f921\"]],\"sequentialminus\":[[0.0,\"#0d0887\"],[0.1111111111111111,\"#46039f\"],[0.2222222222222222,\"#7201a8\"],[0.3333333333333333,\"#9c179e\"],[0.4444444444444444,\"#bd3786\"],[0.5555555555555556,\"#d8576b\"],[0.6666666666666666,\"#ed7953\"],[0.7777777777777778,\"#fb9f3a\"],[0.8888888888888888,\"#fdca26\"],[1.0,\"#f0f921\"]]},\"colorway\":[\"#636efa\",\"#EF553B\",\"#00cc96\",\"#ab63fa\",\"#FFA15A\",\"#19d3f3\",\"#FF6692\",\"#B6E880\",\"#FF97FF\",\"#FECB52\"],\"font\":{\"color\":\"#2a3f5f\"},\"geo\":{\"bgcolor\":\"white\",\"lakecolor\":\"white\",\"landcolor\":\"#E5ECF6\",\"showlakes\":true,\"showland\":true,\"subunitcolor\":\"white\"},\"hoverlabel\":{\"align\":\"left\"},\"hovermode\":\"closest\",\"mapbox\":{\"style\":\"light\"},\"paper_bgcolor\":\"white\",\"plot_bgcolor\":\"#E5ECF6\",\"polar\":{\"angularaxis\":{\"gridcolor\":\"white\",\"linecolor\":\"white\",\"ticks\":\"\"},\"bgcolor\":\"#E5ECF6\",\"radialaxis\":{\"gridcolor\":\"white\",\"linecolor\":\"white\",\"ticks\":\"\"}},\"scene\":{\"xaxis\":{\"backgroundcolor\":\"#E5ECF6\",\"gridcolor\":\"white\",\"gridwidth\":2,\"linecolor\":\"white\",\"showbackground\":true,\"ticks\":\"\",\"zerolinecolor\":\"white\"},\"yaxis\":{\"backgroundcolor\":\"#E5ECF6\",\"gridcolor\":\"white\",\"gridwidth\":2,\"linecolor\":\"white\",\"showbackground\":true,\"ticks\":\"\",\"zerolinecolor\":\"white\"},\"zaxis\":{\"backgroundcolor\":\"#E5ECF6\",\"gridcolor\":\"white\",\"gridwidth\":2,\"linecolor\":\"white\",\"showbackground\":true,\"ticks\":\"\",\"zerolinecolor\":\"white\"}},\"shapedefaults\":{\"line\":{\"color\":\"#2a3f5f\"}},\"ternary\":{\"aaxis\":{\"gridcolor\":\"white\",\"linecolor\":\"white\",\"ticks\":\"\"},\"baxis\":{\"gridcolor\":\"white\",\"linecolor\":\"white\",\"ticks\":\"\"},\"bgcolor\":\"#E5ECF6\",\"caxis\":{\"gridcolor\":\"white\",\"linecolor\":\"white\",\"ticks\":\"\"}},\"title\":{\"x\":0.05},\"xaxis\":{\"automargin\":true,\"gridcolor\":\"white\",\"linecolor\":\"white\",\"ticks\":\"\",\"title\":{\"standoff\":15},\"zerolinecolor\":\"white\",\"zerolinewidth\":2},\"yaxis\":{\"automargin\":true,\"gridcolor\":\"white\",\"linecolor\":\"white\",\"ticks\":\"\",\"title\":{\"standoff\":15},\"zerolinecolor\":\"white\",\"zerolinewidth\":2}}},\"xaxis\":{\"anchor\":\"y\",\"domain\":[0.0,1.0],\"scaleanchor\":\"y\",\"constrain\":\"domain\"},\"yaxis\":{\"anchor\":\"x\",\"domain\":[0.0,1.0],\"autorange\":\"reversed\",\"constrain\":\"domain\"},\"coloraxis\":{\"colorscale\":[[0.0,\"#0d0887\"],[0.1111111111111111,\"#46039f\"],[0.2222222222222222,\"#7201a8\"],[0.3333333333333333,\"#9c179e\"],[0.4444444444444444,\"#bd3786\"],[0.5555555555555556,\"#d8576b\"],[0.6666666666666666,\"#ed7953\"],[0.7777777777777778,\"#fb9f3a\"],[0.8888888888888888,\"#fdca26\"],[1.0,\"#f0f921\"]]},\"margin\":{\"t\":60},\"height\":500,\"width\":800},                        {\"responsive\": true}                    ).then(function(){\n                            \nvar gd = document.getElementById('48d46ff1-227a-4e70-bb37-4640887d0cf5');\nvar x = new MutationObserver(function (mutations, observer) {{\n        var display = window.getComputedStyle(gd).display;\n        if (!display || display === 'none') {{\n            console.log([gd, 'removed!']);\n            Plotly.purge(gd);\n            observer.disconnect();\n        }}\n}});\n\n// Listen for the removal of the full notebook cells\nvar notebookContainer = gd.closest('#notebook-container');\nif (notebookContainer) {{\n    x.observe(notebookContainer, {childList: true});\n}}\n\n// Listen for the clearing of the current output cell\nvar outputEl = gd.closest('.output');\nif (outputEl) {{\n    x.observe(outputEl, {childList: true});\n}}\n\n                        })                };                            </script>        </div>\n</body>\n</html>"
     },
     "execution_count": 21,
     "metadata": {
     },
     "output_type": "execute_result"
    }
   ],
   "source": [
    "corr_mat = by_player_eligible.corr()\n",
    "fig = px.imshow(corr_mat, width = 800, height = 500)\n",
    "fig.write_html(\"corr_heatmap.html\")\n",
    "fig.show()"
   ]
  },
  {
   "cell_type": "code",
   "execution_count": 22,
   "metadata": {
    "collapsed": false
   },
   "outputs": [
    {
     "data": {
      "text/html": "<html>\n<head><meta charset=\"utf-8\" /></head>\n<body>\n    <div>            <script src=\"https://cdnjs.cloudflare.com/ajax/libs/mathjax/2.7.5/MathJax.js?config=TeX-AMS-MML_SVG\"></script><script type=\"text/javascript\">if (window.MathJax) {MathJax.Hub.Config({SVG: {font: \"STIX-Web\"}});}</script>                <script type=\"text/javascript\">window.PlotlyConfig = {MathJaxConfig: 'local'};</script>\n        <script src=\"https://cdn.plot.ly/plotly-2.9.0.min.js\"></script>                <div id=\"4454f7fc-430e-493b-91d1-688c57bafdad\" class=\"plotly-graph-div\" style=\"height:500px; width:100%;\"></div>            <script type=\"text/javascript\">                                    window.PLOTLYENV=window.PLOTLYENV || {};                                    if (document.getElementById(\"4454f7fc-430e-493b-91d1-688c57bafdad\")) {                    Plotly.newPlot(                        \"4454f7fc-430e-493b-91d1-688c57bafdad\",                        [{\"alignmentgroup\":\"True\",\"bingroup\":\"x\",\"hovertemplate\":\"hof=True<br>POS=%{x}<br>count=%{y}<extra></extra>\",\"legendgroup\":\"True\",\"marker\":{\"color\":\"#636efa\",\"pattern\":{\"shape\":\"\"}},\"name\":\"True\",\"offsetgroup\":\"True\",\"orientation\":\"v\",\"showlegend\":true,\"x\":[\"OF\",\"P\",\"SS\",\"SS\",\"SS\",\"SS\",\"OF\",\"OF\",\"OF\",\"3B\",\"SS\",\"SS\",\"P\",\"OF\",\"P\",\"OF\",\"OF\",\"P\",\"P\",\"2B\",\"SS\",\"SS\",\"SS\",\"OF\",\"P\",\"P\",\"P\",\"SS\",\"C\",\"SS\",\"OF\",\"P\",\"OF\",\"OF\",\"OF\",\"P\",\"SS\",\"P\",\"OF\",\"P\",\"OF\",\"SS\",\"SS\",\"OF\",\"P\",\"OF\",\"P\",\"OF\",\"SS\",\"OF\",\"SS\",\"OF\",\"P\",\"SS\",\"C\",\"OF\",\"SS\",\"2B\",\"P\",\"SS\",\"SS\",\"P\",\"SS\",\"SS\",\"P\",\"P\",\"C\",\"P\",\"OF\",\"OF\",\"P\",\"3B\",\"SS\",\"SS\",\"SS\",\"3B\",\"SS\",\"P\",\"P\",\"P\",\"SS\",\"OF\",\"P\",\"OF\",\"SS\",\"OF\",\"P\",\"P\",\"OF\",\"OF\",\"OF\",\"P\",\"OF\",\"SS\",\"SS\",\"C\",\"OF\",\"OF\",\"3B\",\"P\",\"P\",\"SS\",\"P\",\"P\",\"3B\",\"P\",\"OF\",\"SS\",\"P\",\"SS\",\"P\",\"P\",\"SS\",\"OF\",\"P\",\"SS\",\"SS\",\"OF\",\"P\",\"SS\",\"OF\",\"OF\",\"OF\",\"P\",\"SS\",\"SS\",\"SS\",\"P\",\"SS\",\"C\",\"C\",\"P\",\"SS\",\"P\",\"SS\",\"OF\",\"SS\",\"P\",\"P\",\"P\",\"P\",\"OF\",\"SS\",\"3B\",\"SS\",\"OF\",\"P\",\"SS\",\"SS\",\"OF\",\"OF\",\"OF\",\"SS\",\"OF\",\"P\",\"OF\",\"P\",\"P\",\"P\",\"P\",\"SS\",\"OF\",\"P\",\"P\",\"3B\",\"P\",\"C\",\"P\",\"SS\",\"SS\",\"OF\",\"SS\",\"OF\",\"P\",\"SS\",\"P\",\"SS\",\"P\",\"SS\",\"OF\",\"SS\",\"OF\",\"C\",\"OF\",\"P\",\"P\",\"P\",\"P\",\"SS\",\"SS\",\"C\",\"SS\",\"SS\",\"P\",\"SS\",\"OF\",\"P\",\"OF\",\"SS\",\"P\",\"OF\",\"OF\",\"P\",\"P\",\"OF\",\"OF\",\"P\",\"P\",\"OF\",\"1B\",\"3B\",\"OF\",\"SS\",\"OF\",\"SS\",\"SS\",\"P\",\"SS\",\"P\",\"SS\",\"SS\",\"P\",\"OF\",\"OF\",\"SS\",\"P\",\"OF\",\"SS\",\"P\",\"OF\",\"OF\",\"P\",\"P\",\"OF\",\"OF\",\"SS\",\"P\",\"OF\",\"P\",\"OF\",\"SS\"],\"xaxis\":\"x\",\"yaxis\":\"y\",\"type\":\"histogram\"},{\"alignmentgroup\":\"True\",\"bingroup\":\"x\",\"hovertemplate\":\"hof=False<br>POS=%{x}<br>count=%{y}<extra></extra>\",\"legendgroup\":\"False\",\"marker\":{\"color\":\"#EF553B\",\"pattern\":{\"shape\":\"\"}},\"name\":\"False\",\"offsetgroup\":\"False\",\"orientation\":\"v\",\"showlegend\":true,\"x\":[\"P\",\"SS\",\"P\",\"SS\",\"P\",\"P\",\"OF\",\"OF\",\"P\",\"P\",\"P\",\"SS\",\"P\",\"OF\",\"P\",\"SS\",\"P\",\"OF\",\"P\",\"OF\",\"P\",\"SS\",\"P\",\"P\",\"P\",\"P\",\"P\",\"P\",\"P\",\"P\",\"SS\",\"P\",\"SS\",\"SS\",\"3B\",\"SS\",\"OF\",\"P\",\"P\",\"SS\",\"OF\",\"SS\",\"OF\",\"SS\",\"SS\",\"C\",\"SS\",\"OF\",\"P\",\"OF\",\"P\",\"SS\",\"P\",\"SS\",\"SS\",\"SS\",\"P\",\"SS\",\"OF\",\"P\",\"SS\",\"OF\",\"OF\",\"P\",\"OF\",\"SS\",\"P\",\"P\",\"P\",\"OF\",\"P\",\"P\",\"P\",\"P\",\"OF\",\"SS\",\"SS\",\"P\",\"P\",\"P\",\"C\",\"P\",\"SS\",\"SS\",\"P\",\"P\",\"C\",\"SS\",\"P\",\"SS\",\"SS\",\"SS\",\"P\",\"SS\",\"SS\",\"P\",\"OF\",\"P\",\"SS\",\"P\",\"P\",\"C\",\"SS\",\"SS\",\"P\",\"SS\",\"P\",\"P\",\"SS\",\"OF\",\"P\",\"SS\",\"OF\",\"SS\",\"P\",\"OF\",\"SS\",\"OF\",\"P\",\"C\",\"1B\",\"P\",\"P\",\"C\",\"SS\",\"P\",\"P\",\"SS\",\"P\",\"C\",\"P\",\"C\",\"OF\",\"P\",\"SS\",\"P\",\"P\",\"SS\",\"OF\",\"3B\",\"SS\",\"P\",\"P\",\"SS\",\"SS\",\"SS\",\"SS\",\"C\",\"SS\",\"OF\",\"SS\",\"C\",\"OF\",\"P\",\"SS\",\"C\",\"SS\",\"C\",\"OF\",\"P\",\"OF\",\"OF\",\"P\",\"P\",\"OF\",\"OF\",\"OF\",\"OF\",\"OF\",\"P\",\"OF\",\"SS\",\"P\",\"OF\",\"SS\",\"P\",\"P\",\"P\",\"P\",\"P\",\"SS\",\"P\",\"P\",\"P\",\"SS\",\"SS\",\"P\",\"OF\",\"P\",\"OF\",\"OF\",\"P\",\"SS\",\"SS\",\"SS\",\"SS\",\"SS\",\"OF\",\"C\",\"P\",\"P\",\"C\",\"SS\",\"P\",\"SS\",\"SS\",\"C\",\"P\",\"P\",\"P\",\"P\",\"P\",\"P\",\"OF\",\"SS\",\"P\",\"P\",\"C\",\"OF\",\"OF\",\"SS\",\"OF\",\"SS\",\"P\",\"SS\",\"C\",\"SS\",\"OF\",\"C\",\"C\",\"OF\",\"3B\",\"SS\",\"OF\",\"P\",\"SS\",\"SS\",\"P\",\"SS\",\"P\",\"OF\",\"P\",\"SS\",\"SS\",\"P\",\"OF\",\"P\",\"OF\",\"P\",\"SS\",\"P\",\"P\",\"C\",\"SS\",\"P\",\"SS\",\"P\",\"SS\",\"P\",\"OF\",\"OF\",\"P\",\"SS\",\"P\",\"P\",\"SS\",\"OF\",\"P\",\"SS\",\"SS\",\"SS\",\"SS\",\"OF\",\"P\",\"SS\",\"OF\",\"OF\",\"OF\",\"P\",\"P\",\"P\",\"P\",\"2B\",\"P\",\"OF\",\"OF\",\"P\",\"P\",\"P\",\"P\",\"SS\",\"P\",\"OF\",\"SS\",\"OF\",\"3B\",\"SS\",\"P\",\"P\",\"OF\",\"C\",\"SS\",\"P\",\"P\",\"P\",\"P\",\"OF\",\"P\",\"OF\",\"OF\",\"P\",\"P\",\"OF\",\"P\",\"SS\",\"SS\",\"P\",\"OF\",\"P\",\"P\",\"SS\",\"SS\",\"SS\",\"OF\",\"SS\",\"SS\",\"OF\",\"OF\",\"OF\",\"P\",\"P\",\"OF\",\"SS\",\"C\",\"P\",\"OF\",\"OF\",\"SS\",\"P\",\"P\",\"OF\",\"P\",\"P\",\"OF\",\"P\",\"SS\",\"P\",\"P\",\"P\",\"SS\",\"P\",\"SS\",\"OF\",\"SS\",\"P\",\"SS\",\"P\",\"1B\",\"OF\",\"1B\",\"3B\",\"SS\",\"SS\",\"SS\",\"P\",\"P\",\"P\",\"P\",\"OF\",\"OF\",\"OF\",\"P\",\"SS\",\"P\",\"P\",\"SS\",\"P\",\"P\",\"P\",\"OF\",\"SS\",\"P\",\"SS\",\"P\",\"P\",\"SS\",\"OF\",\"OF\",\"P\",\"P\",\"OF\",\"P\",\"C\",\"OF\",\"SS\",\"P\",\"OF\",\"P\",\"OF\",\"OF\",\"P\",\"OF\",\"OF\",\"P\",\"P\",\"SS\",\"C\",\"P\",\"P\",\"OF\",\"P\",\"P\",\"OF\",\"SS\",\"P\",\"P\",\"OF\",\"OF\",\"OF\",\"SS\",\"SS\",\"OF\",\"P\",\"OF\",\"OF\",\"SS\",\"P\",\"P\",\"OF\",\"OF\",\"P\",\"P\",\"OF\",\"OF\",\"P\",\"P\",\"P\",\"OF\",\"P\",\"SS\",\"OF\",\"P\",\"SS\",\"SS\",\"OF\",\"OF\",\"SS\",\"P\",\"P\",\"P\",\"SS\",\"OF\",\"P\",\"P\",\"SS\",\"SS\",\"OF\",\"P\",\"OF\",\"1B\",\"3B\",\"P\",\"SS\",\"P\",\"OF\",\"SS\",\"P\",\"SS\",\"P\",\"P\",\"P\",\"OF\",\"SS\",\"P\",\"SS\",\"P\",\"P\",\"OF\",\"SS\",\"SS\",\"P\",\"SS\",\"P\",\"P\",\"P\",\"P\",\"SS\",\"SS\",\"P\",\"P\",\"OF\",\"C\",\"OF\",\"P\",\"SS\",\"P\",\"SS\",\"OF\",\"OF\",\"P\",\"C\",\"C\",\"OF\",\"SS\",\"P\",\"1B\",\"SS\",\"OF\",\"P\",\"SS\",\"P\",\"C\",\"OF\",\"P\",\"2B\",\"P\",\"SS\",\"SS\",\"C\",\"OF\",\"OF\",\"SS\",\"OF\",\"OF\",\"OF\",\"SS\",\"P\",\"OF\",\"3B\",\"P\",\"P\",\"SS\",\"1B\",\"P\",\"P\",\"P\",\"P\",\"SS\",\"SS\",\"OF\",\"P\",\"SS\",\"OF\",\"SS\",\"P\",\"C\",\"P\",\"P\",\"SS\",\"P\",\"C\",\"P\",\"OF\",\"P\",\"P\",\"SS\",\"P\",\"OF\",\"SS\",\"SS\",\"P\",\"SS\",\"C\",\"OF\",\"OF\",\"SS\",\"OF\",\"P\",\"C\",\"C\",\"OF\",\"P\",\"1B\",\"SS\",\"OF\",\"SS\",\"P\",\"P\",\"OF\",\"P\",\"SS\",\"OF\",\"OF\",\"SS\",\"SS\",\"OF\",\"P\",\"P\",\"P\",\"OF\",\"P\",\"P\",\"P\",\"P\",\"OF\",\"P\",\"OF\",\"P\",\"P\",\"P\",\"OF\",\"SS\",\"OF\",\"OF\",\"C\",\"P\",\"OF\",\"P\",\"P\",\"P\",\"OF\",\"SS\",\"P\",\"OF\",\"P\",\"P\",\"SS\",\"SS\",\"P\",\"P\",\"P\",\"P\",\"SS\",\"P\",\"P\",\"1B\",\"P\",\"C\",\"P\",\"SS\",\"SS\",\"SS\",\"SS\",\"P\",\"SS\",\"SS\",\"P\",\"C\",\"P\",\"P\",\"SS\",\"OF\",\"P\",\"SS\",\"SS\",\"C\",\"OF\",\"SS\",\"OF\",\"SS\",\"P\",\"P\",\"P\",\"SS\",\"OF\",\"SS\",\"P\",\"SS\",\"OF\",\"OF\",\"OF\",\"SS\",\"P\",\"OF\",\"OF\",\"SS\",\"OF\",\"SS\",\"SS\",\"SS\",\"P\",\"OF\",\"OF\",\"SS\",\"OF\",\"OF\",\"OF\",\"OF\",\"SS\",\"P\",\"OF\",\"SS\",\"P\",\"P\",\"P\",\"OF\",\"P\",\"P\",\"OF\",\"SS\",\"OF\",\"P\",\"OF\",\"P\",\"OF\",\"OF\",\"SS\",\"P\",\"P\",\"SS\",\"SS\",\"SS\",\"P\",\"P\",\"P\",\"OF\",\"C\",\"SS\",\"OF\",\"P\",\"P\",\"C\",\"P\",\"SS\",\"P\",\"P\",\"P\",\"1B\",\"3B\",\"OF\",\"P\",\"P\",\"SS\",\"P\",\"P\",\"P\",\"P\",\"P\",\"OF\",\"OF\",\"SS\",\"C\",\"OF\",\"P\",\"OF\",\"OF\",\"P\",\"C\",\"P\",\"OF\",\"OF\",\"P\",\"SS\",\"OF\",\"C\",\"SS\",\"SS\",\"OF\",\"P\",\"OF\",\"SS\",\"SS\",\"P\",\"P\",\"OF\",\"SS\",\"OF\",\"OF\",\"P\",\"P\",\"OF\",\"P\",\"SS\",\"OF\",\"OF\",\"SS\",\"P\",\"P\",\"SS\",\"P\",\"P\",\"SS\",\"OF\",\"SS\",\"P\",\"C\",\"P\",\"SS\",\"P\",\"P\",\"OF\",\"SS\",\"OF\",\"C\",\"C\",\"OF\",\"SS\",\"P\",\"P\",\"P\",\"P\",\"C\",\"OF\",\"OF\",\"SS\",\"P\",\"P\",\"SS\",\"P\",\"P\",\"OF\",\"P\",\"P\",\"P\",\"P\",\"OF\",\"P\",\"SS\",\"SS\",\"P\",\"SS\",\"P\",\"OF\",\"OF\",\"SS\",\"SS\",\"SS\",\"P\",\"P\",\"OF\",\"P\",\"OF\",\"OF\",\"SS\",\"P\",\"OF\",\"P\",\"SS\",\"2B\",\"P\",\"P\",\"P\",\"OF\",\"P\",\"SS\",\"OF\",\"3B\",\"OF\",\"SS\",\"SS\",\"P\",\"P\",\"C\",\"SS\",\"P\",\"P\",\"SS\",\"SS\",\"P\",\"P\",\"OF\",\"OF\",\"SS\",\"SS\",\"OF\",\"SS\",\"OF\",\"SS\",\"OF\",\"P\",\"SS\",\"OF\",\"P\",\"P\",\"P\",\"SS\",\"OF\",\"OF\",\"OF\",\"C\",\"SS\",\"C\",\"OF\",\"P\",\"SS\",\"P\",\"P\",\"P\",\"OF\",\"P\",\"SS\",\"P\",\"SS\",\"P\",\"OF\",\"P\",\"C\",\"SS\",\"OF\",\"P\",\"SS\",\"P\",\"SS\",\"P\",\"OF\",\"OF\",\"SS\",\"SS\",\"OF\",\"1B\",\"P\",\"P\",\"P\",\"OF\",\"P\",\"SS\",\"P\",\"SS\",\"SS\",\"OF\",\"C\",\"SS\",\"P\",\"C\",\"OF\",\"C\",\"SS\",\"OF\",\"SS\",\"P\",\"SS\",\"OF\",\"OF\",\"P\",\"P\",\"C\",\"P\",\"C\",\"OF\",\"OF\",\"P\",\"OF\",\"P\",\"P\",\"P\",\"SS\",\"SS\",\"SS\",\"P\",\"C\",\"P\",\"OF\",\"P\",\"SS\",\"P\",\"SS\",\"OF\",\"SS\",\"P\",\"P\",\"SS\",\"P\",\"P\",\"SS\",\"OF\",\"OF\",\"1B\",\"SS\",\"P\",\"P\",\"P\",\"OF\",\"P\",\"P\",\"SS\",\"P\",\"P\",\"P\",\"C\",\"OF\",\"P\",\"P\",\"OF\",\"SS\",\"C\",\"P\",\"SS\",\"SS\",\"C\",\"1B\",\"SS\",\"OF\",\"OF\",\"P\",\"P\",\"SS\",\"OF\",\"P\",\"SS\",\"C\",\"SS\",\"SS\",\"SS\",\"C\",\"SS\",\"OF\",\"SS\",\"C\",\"P\",\"P\",\"P\",\"P\",\"P\",\"P\",\"C\",\"P\",\"SS\",\"OF\",\"OF\",\"P\",\"P\",\"SS\",\"P\",\"SS\",\"P\",\"OF\",\"P\",\"OF\",\"P\",\"P\",\"P\",\"SS\",\"P\",\"OF\",\"P\",\"P\",\"P\",\"P\",\"OF\",\"OF\",\"P\",\"P\",\"SS\",\"SS\",\"P\",\"SS\",\"P\",\"SS\",\"SS\",\"P\",\"P\",\"P\",\"SS\",\"P\",\"P\",\"SS\",\"P\",\"SS\",\"SS\",\"OF\",\"OF\",\"SS\",\"SS\",\"P\",\"SS\",\"OF\",\"SS\",\"3B\",\"P\",\"OF\",\"P\",\"SS\",\"P\",\"SS\",\"OF\",\"SS\",\"OF\",\"SS\",\"C\",\"P\",\"P\",\"SS\",\"SS\",\"P\",\"P\",\"OF\",\"SS\",\"P\",\"SS\",\"SS\",\"SS\",\"SS\",\"P\",\"P\",\"P\",\"P\",\"SS\",\"SS\",\"P\",\"SS\",\"OF\",\"P\",\"OF\",\"P\",\"OF\",\"P\",\"P\",\"C\",\"P\",\"SS\",\"P\",\"1B\",\"SS\",\"SS\",\"SS\",\"P\",\"OF\",\"OF\",\"OF\",\"P\",\"OF\",\"OF\",\"P\",\"C\",\"C\",\"OF\",\"OF\",\"OF\",\"SS\",\"OF\",\"C\",\"C\",\"P\",\"P\",\"P\",\"OF\",\"SS\",\"SS\",\"SS\",\"P\",\"P\",\"P\",\"P\",\"P\",\"P\",\"P\",\"SS\",\"P\",\"C\",\"OF\",\"SS\",\"SS\",\"P\",\"OF\",\"OF\",\"OF\",\"OF\",\"P\",\"SS\",\"OF\",\"C\",\"P\",\"SS\",\"OF\",\"P\",\"OF\",\"SS\",\"OF\",\"P\",\"OF\",\"P\",\"OF\",\"SS\",\"P\",\"C\",\"P\",\"P\",\"SS\",\"SS\",\"SS\",\"OF\",\"P\",\"P\",\"SS\",\"OF\",\"P\",\"P\",\"P\",\"P\",\"P\",\"SS\",\"SS\",\"OF\",\"OF\",\"SS\",\"OF\",\"OF\",\"SS\",\"P\",\"OF\",\"P\",\"SS\",\"OF\",\"SS\",\"OF\",\"SS\",\"OF\",\"P\",\"P\",\"P\",\"SS\",\"SS\",\"OF\",\"P\",\"P\",\"P\",\"P\",\"OF\",\"SS\",\"SS\",\"P\",\"P\",\"P\",\"P\",\"P\",\"OF\",\"OF\",\"P\",\"OF\",\"SS\",\"SS\",\"P\",\"P\",\"P\",\"OF\",\"OF\",\"SS\",\"P\",\"SS\",\"OF\",\"SS\",\"P\",\"P\",\"P\",\"P\",\"P\",\"P\",\"SS\",\"P\",\"P\",\"OF\",\"SS\",\"SS\",\"SS\",\"P\",\"OF\",\"OF\",\"OF\",\"P\",\"P\",\"3B\",\"P\",\"P\",\"P\",\"1B\",\"OF\",\"SS\",\"OF\",\"P\",\"SS\",\"SS\",\"P\",\"P\",\"SS\",\"P\",\"OF\",\"OF\",\"SS\",\"OF\",\"P\",\"C\",\"P\",\"P\",\"OF\",\"P\",\"P\",\"P\",\"P\",\"P\",\"P\",\"P\",\"OF\",\"SS\",\"P\",\"SS\",\"P\",\"P\",\"C\",\"C\",\"SS\",\"P\",\"SS\",\"SS\",\"P\",\"P\",\"P\",\"P\",\"P\",\"SS\",\"P\",\"P\",\"C\",\"OF\",\"OF\",\"SS\",\"P\",\"OF\",\"OF\",\"P\",\"OF\",\"SS\",\"SS\",\"OF\",\"SS\",\"P\",\"P\",\"SS\",\"SS\",\"P\",\"P\",\"SS\",\"P\",\"OF\",\"OF\",\"SS\",\"OF\",\"SS\",\"OF\",\"C\",\"P\",\"OF\",\"P\",\"SS\",\"SS\",\"C\",\"SS\",\"P\",\"P\",\"P\",\"P\",\"OF\",\"SS\",\"C\",\"SS\",\"OF\",\"P\",\"P\",\"C\",\"OF\",\"C\",\"P\",\"P\",\"OF\",\"OF\",\"SS\",\"P\",\"OF\",\"P\",\"SS\",\"C\",\"OF\",\"SS\",\"P\",\"P\",\"SS\",\"SS\",\"P\",\"SS\",\"OF\",\"OF\",\"P\",\"OF\",\"OF\",\"SS\",\"OF\",\"OF\",\"OF\",\"P\",\"P\",\"OF\",\"SS\",\"P\",\"P\",\"OF\",\"P\",\"OF\",\"P\",\"P\",\"P\",\"P\",\"P\",\"P\",\"P\",\"P\",\"P\",\"OF\",\"P\",\"OF\",\"OF\",\"C\",\"P\",\"SS\",\"OF\",\"P\",\"P\",\"P\",\"C\",\"P\",\"P\",\"P\",\"OF\",\"P\",\"C\",\"SS\",\"OF\",\"P\",\"SS\",\"P\",\"P\",\"P\",\"OF\",\"SS\",\"P\",\"OF\",\"P\",\"OF\",\"SS\",\"SS\",\"P\",\"SS\",\"P\",\"OF\",\"P\",\"3B\",\"OF\",\"P\",\"OF\",\"C\",\"P\",\"SS\",\"SS\",\"OF\",\"SS\",\"OF\",\"SS\",\"P\",\"P\",\"SS\",\"2B\",\"SS\",\"OF\",\"OF\",\"C\",\"P\",\"P\",\"P\",\"SS\",\"SS\",\"OF\",\"P\",\"C\",\"SS\",\"P\",\"P\",\"OF\",\"P\",\"SS\",\"SS\",\"OF\",\"P\",\"P\",\"SS\",\"OF\",\"OF\",\"P\",\"P\",\"P\",\"P\",\"OF\",\"P\",\"3B\",\"SS\",\"OF\",\"C\",\"SS\",\"P\",\"C\",\"SS\",\"P\",\"OF\",\"OF\",\"1B\",\"OF\",\"SS\",\"SS\",\"P\",\"SS\",\"P\",\"OF\",\"P\",\"P\",\"OF\",\"P\",\"3B\",\"2B\",\"OF\",\"SS\",\"P\",\"3B\",\"P\",\"P\",\"OF\",\"P\",\"P\",\"SS\",\"P\",\"SS\",\"P\",\"SS\",\"P\",\"OF\",\"C\",\"OF\",\"OF\",\"OF\",\"OF\",\"P\",\"SS\",\"OF\",\"P\",\"SS\",\"P\",\"P\",\"C\",\"OF\",\"OF\",\"SS\",\"SS\",\"P\",\"SS\",\"SS\",\"SS\",\"OF\",\"P\",\"OF\",\"SS\",\"SS\",\"SS\",\"P\",\"P\",\"P\",\"SS\",\"P\",\"P\",\"OF\",\"P\",\"P\",\"OF\",\"SS\",\"P\",\"SS\",\"OF\",\"SS\",\"P\",\"OF\",\"P\",\"P\",\"OF\",\"OF\",\"P\",\"SS\",\"P\",\"SS\",\"OF\",\"P\",\"P\",\"P\",\"OF\",\"P\",\"OF\",\"OF\",\"OF\",\"SS\",\"SS\",\"P\",\"OF\",\"3B\",\"OF\",\"SS\",\"C\",\"OF\",\"OF\",\"SS\",\"OF\",\"OF\",\"OF\",\"SS\",\"P\",\"SS\",\"OF\",\"P\",\"P\",\"SS\",\"P\",\"P\",\"P\",\"SS\",\"OF\",\"OF\",\"OF\",\"OF\",\"P\",\"P\",\"2B\",\"P\",\"OF\",\"OF\",\"P\",\"P\",\"P\",\"OF\",\"OF\",\"OF\",\"SS\",\"P\",\"SS\",\"P\",\"OF\",\"OF\",\"P\",\"OF\",\"P\",\"P\",\"P\",\"3B\",\"SS\",\"OF\",\"OF\",\"C\",\"OF\",\"OF\",\"OF\",\"1B\",\"P\",\"OF\",\"SS\",\"OF\",\"P\",\"SS\",\"P\",\"3B\",\"SS\",\"OF\",\"OF\",\"1B\",\"P\",\"SS\",\"P\",\"P\",\"OF\",\"SS\",\"P\",\"OF\",\"SS\",\"P\",\"OF\",\"OF\",\"3B\",\"P\",\"OF\",\"OF\",\"OF\",\"OF\",\"OF\",\"SS\",\"OF\",\"P\",\"P\",\"SS\",\"P\",\"OF\",\"P\",\"P\",\"SS\",\"OF\",\"P\",\"SS\",\"P\",\"SS\",\"P\",\"P\",\"OF\",\"P\",\"SS\",\"P\",\"SS\",\"P\",\"OF\",\"SS\",\"OF\",\"P\",\"P\",\"P\",\"P\",\"OF\",\"OF\",\"OF\",\"P\",\"P\",\"OF\",\"P\",\"SS\",\"OF\",\"OF\",\"OF\",\"P\",\"P\",\"SS\",\"P\",\"1B\",\"C\",\"SS\",\"P\",\"SS\",\"SS\",\"SS\",\"3B\",\"C\",\"P\",\"P\",\"SS\",\"3B\",\"SS\",\"OF\",\"P\",\"P\",\"P\",\"P\",\"SS\",\"OF\",\"P\",\"1B\",\"OF\",\"OF\",\"P\",\"P\",\"OF\",\"P\",\"P\",\"OF\",\"P\",\"SS\",\"P\",\"OF\",\"P\",\"OF\",\"P\",\"OF\",\"SS\",\"SS\",\"SS\",\"1B\",\"2B\",\"P\",\"OF\",\"P\",\"SS\",\"P\",\"P\",\"P\",\"SS\",\"P\",\"1B\",\"P\",\"OF\",\"OF\",\"SS\",\"P\",\"P\",\"C\",\"P\",\"OF\",\"OF\",\"P\",\"OF\",\"SS\",\"OF\",\"C\",\"OF\",\"OF\",\"OF\",\"P\",\"P\",\"SS\",\"P\",\"OF\",\"P\",\"SS\",\"SS\",\"P\",\"OF\",\"OF\",\"P\",\"P\",\"P\",\"OF\",\"P\",\"SS\",\"SS\",\"P\",\"P\",\"C\",\"SS\",\"C\",\"SS\",\"P\",\"P\",\"OF\",\"SS\",\"P\",\"OF\",\"P\",\"P\",\"SS\",\"P\",\"P\",\"P\",\"OF\",\"P\",\"P\",\"P\",\"OF\",\"P\",\"1B\",\"P\",\"OF\",\"SS\",\"P\",\"OF\",\"P\",\"P\",\"OF\",\"P\",\"OF\",\"P\",\"P\",\"P\",\"P\",\"P\",\"P\",\"SS\",\"SS\",\"OF\",\"OF\",\"P\",\"P\",\"OF\",\"SS\",\"P\",\"P\",\"OF\",\"P\",\"P\",\"OF\",\"P\",\"OF\",\"P\",\"SS\",\"OF\",\"OF\",\"P\",\"P\",\"P\",\"C\",\"SS\",\"P\",\"P\",\"P\",\"OF\",\"P\",\"P\",\"2B\",\"P\",\"P\",\"P\",\"SS\",\"P\",\"SS\",\"P\",\"OF\",\"C\",\"OF\",\"P\",\"P\",\"SS\",\"P\",\"P\",\"SS\",\"OF\",\"P\",\"OF\",\"P\",\"P\",\"OF\",\"SS\",\"P\",\"P\",\"P\",\"C\",\"P\",\"OF\",\"OF\",\"SS\",\"P\",\"P\",\"C\",\"SS\",\"P\",\"P\",\"SS\",\"SS\",\"C\",\"P\",\"SS\",\"SS\",\"P\",\"SS\",\"SS\",\"P\",\"SS\",\"P\",\"3B\",\"P\",\"SS\",\"P\",\"SS\",\"SS\",\"1B\",\"OF\",\"SS\",\"OF\",\"SS\",\"P\",\"OF\",\"P\",\"OF\",\"OF\",\"P\",\"3B\",\"SS\",\"P\",\"P\",\"C\",\"C\",\"3B\",\"OF\",\"SS\",\"OF\",\"P\",\"3B\",\"P\",\"SS\",\"SS\",\"SS\",\"P\",\"P\",\"P\",\"P\",\"P\",\"P\",\"P\",\"SS\",\"OF\",\"P\",\"P\",\"3B\",\"P\",\"C\",\"C\",\"SS\",\"OF\",\"SS\",\"SS\",\"P\",\"SS\",\"SS\",\"C\",\"P\",\"P\",\"SS\",\"OF\",\"OF\",\"P\",\"P\",\"OF\",\"SS\",\"OF\",\"P\",\"OF\",\"OF\",\"P\",\"OF\",\"SS\",\"P\",\"OF\",\"P\",\"P\",\"3B\",\"OF\",\"OF\",\"P\",\"P\",\"P\",\"SS\",\"SS\",\"SS\",\"1B\",\"P\",\"C\",\"C\",\"OF\",\"SS\",\"P\",\"P\",\"P\",\"P\",\"SS\",\"C\",\"P\",\"P\",\"P\",\"OF\",\"OF\",\"OF\",\"OF\",\"SS\",\"OF\",\"SS\",\"SS\",\"OF\",\"1B\",\"OF\",\"OF\",\"OF\",\"OF\",\"OF\",\"P\",\"P\",\"C\",\"OF\",\"C\",\"P\",\"P\",\"P\",\"OF\",\"P\",\"SS\",\"P\",\"OF\",\"SS\",\"C\",\"SS\",\"P\",\"P\",\"OF\",\"P\",\"C\",\"OF\",\"P\",\"SS\",\"OF\",\"P\",\"OF\",\"P\",\"OF\",\"OF\",\"OF\",\"SS\",\"C\",\"C\",\"P\",\"P\",\"SS\",\"SS\",\"P\",\"P\",\"P\",\"OF\",\"P\",\"2B\",\"SS\",\"SS\",\"SS\",\"OF\",\"P\",\"P\",\"P\",\"P\",\"1B\",\"SS\",\"OF\",\"SS\",\"OF\",\"SS\",\"P\",\"C\",\"SS\",\"P\",\"OF\",\"P\",\"P\",\"SS\",\"P\",\"SS\",\"SS\",\"SS\",\"P\",\"SS\",\"P\",\"1B\",\"P\",\"OF\",\"OF\",\"OF\",\"P\",\"P\",\"P\",\"P\",\"P\",\"P\",\"P\",\"P\",\"OF\",\"OF\",\"SS\",\"OF\",\"C\",\"P\",\"P\",\"SS\",\"C\",\"OF\",\"P\",\"OF\",\"SS\",\"SS\",\"P\",\"SS\",\"P\",\"P\",\"OF\",\"SS\",\"OF\",\"OF\",\"C\",\"OF\",\"P\",\"P\",\"SS\",\"SS\",\"OF\",\"OF\",\"OF\",\"P\",\"SS\",\"OF\",\"SS\",\"SS\",\"OF\",\"P\",\"OF\",\"P\",\"P\",\"C\",\"OF\",\"SS\",\"SS\",\"SS\",\"OF\",\"C\",\"OF\",\"P\",\"P\",\"OF\",\"P\",\"P\",\"P\",\"OF\",\"P\",\"OF\",\"P\",\"P\",\"SS\",\"P\",\"C\",\"SS\",\"P\",\"OF\",\"SS\",\"OF\",\"P\",\"OF\",\"P\",\"P\",\"P\",\"C\",\"P\",\"P\",\"P\",\"C\",\"OF\",\"C\",\"C\",\"OF\",\"P\",\"OF\",\"OF\",\"SS\",\"P\",\"OF\",\"OF\",\"P\",\"P\",\"P\",\"C\",\"P\",\"OF\",\"OF\",\"P\",\"P\",\"SS\",\"OF\",\"OF\",\"OF\",\"P\",\"OF\",\"P\",\"P\",\"P\",\"P\",\"OF\",\"OF\",\"P\",\"SS\",\"SS\",\"SS\",\"SS\",\"OF\",\"OF\",\"SS\",\"P\",\"P\",\"P\",\"SS\",\"1B\",\"OF\",\"SS\",\"SS\",\"P\",\"P\",\"P\",\"SS\",\"P\",\"OF\",\"OF\",\"OF\",\"P\",\"OF\",\"OF\",\"P\",\"C\",\"SS\",\"P\",\"OF\",\"SS\",\"P\",\"P\",\"SS\",\"OF\",\"OF\",\"C\",\"P\",\"P\",\"SS\",\"P\",\"OF\",\"SS\",\"SS\",\"OF\",\"P\",\"P\",\"P\",\"P\",\"OF\",\"SS\",\"OF\",\"OF\",\"P\",\"SS\",\"OF\",\"P\",\"SS\",\"P\",\"P\",\"P\",\"OF\",\"OF\",\"OF\",\"P\",\"OF\",\"SS\",\"P\",\"C\",\"OF\",\"P\",\"P\",\"OF\",\"P\",\"OF\",\"C\",\"SS\",\"P\",\"C\",\"P\",\"P\",\"OF\",\"P\",\"SS\",\"SS\",\"P\",\"P\",\"OF\",\"P\",\"SS\",\"OF\",\"P\",\"P\",\"SS\",\"C\",\"OF\",\"SS\",\"OF\",\"P\",\"P\",\"OF\",\"P\",\"C\",\"P\",\"P\",\"SS\",\"OF\",\"SS\",\"C\",\"OF\",\"OF\",\"P\",\"C\",\"P\",\"P\",\"P\",\"P\",\"OF\",\"P\",\"P\",\"P\",\"OF\",\"OF\",\"OF\",\"SS\",\"P\",\"OF\",\"SS\",\"P\",\"P\",\"C\",\"SS\",\"C\",\"OF\",\"OF\",\"SS\",\"SS\",\"P\",\"C\",\"P\",\"P\",\"P\",\"P\",\"P\",\"SS\",\"C\",\"SS\",\"OF\",\"P\",\"OF\",\"P\",\"P\",\"P\",\"P\",\"SS\",\"SS\",\"OF\",\"1B\",\"P\",\"OF\",\"OF\",\"OF\",\"P\",\"OF\",\"OF\",\"C\",\"P\",\"SS\",\"SS\",\"C\",\"P\",\"C\",\"P\",\"P\",\"SS\",\"OF\",\"P\",\"SS\",\"P\",\"OF\",\"SS\",\"P\",\"SS\",\"1B\",\"C\",\"P\",\"P\",\"P\",\"P\",\"P\",\"P\",\"P\",\"OF\",\"P\",\"OF\",\"P\",\"P\",\"P\",\"SS\",\"P\",\"SS\",\"SS\",\"P\",\"OF\",\"OF\",\"SS\",\"OF\",\"SS\",\"C\",\"P\",\"P\",\"P\",\"P\",\"SS\",\"OF\",\"OF\",\"P\",\"SS\",\"SS\",\"C\",\"P\",\"OF\",\"P\",\"P\",\"P\",\"P\",\"SS\",\"OF\",\"P\",\"SS\",\"OF\",\"P\",\"SS\",\"P\",\"OF\",\"P\",\"OF\",\"P\",\"C\",\"OF\",\"OF\",\"OF\",\"OF\",\"P\",\"P\",\"SS\",\"SS\",\"SS\",\"P\",\"SS\",\"P\",\"C\",\"OF\",\"P\",\"OF\",\"OF\",\"OF\",\"OF\",\"SS\",\"P\",\"OF\",\"SS\",\"P\",\"P\",\"OF\",\"C\",\"SS\",\"SS\",\"P\",\"P\",\"P\",\"SS\",\"SS\",\"P\",\"P\",\"P\",\"OF\",\"OF\",\"P\",\"P\",\"SS\",\"P\",\"P\",\"SS\",\"SS\",\"OF\",\"SS\",\"P\",\"P\",\"OF\",\"SS\",\"P\",\"OF\",\"C\",\"OF\",\"1B\",\"OF\",\"OF\",\"SS\",\"SS\",\"OF\",\"P\",\"P\",\"SS\",\"SS\",\"SS\",\"P\",\"C\",\"P\",\"OF\",\"SS\",\"C\",\"SS\",\"P\",\"OF\",\"SS\",\"OF\",\"P\",\"1B\",\"P\",\"OF\",\"P\",\"C\",\"P\",\"C\",\"P\",\"P\",\"OF\",\"SS\",\"P\",\"P\",\"OF\",\"P\",\"P\",\"SS\",\"P\",\"C\",\"P\",\"C\",\"OF\",\"P\",\"OF\",\"P\",\"OF\",\"P\",\"OF\",\"P\",\"SS\",\"SS\",\"SS\",\"OF\",\"P\",\"P\",\"P\",\"SS\",\"OF\",\"C\",\"OF\",\"SS\",\"OF\",\"SS\",\"SS\",\"SS\",\"P\",\"OF\",\"P\",\"P\",\"SS\",\"P\",\"SS\",\"C\",\"SS\",\"SS\",\"C\",\"P\",\"P\",\"P\",\"OF\",\"C\",\"SS\",\"SS\",\"P\",\"P\",\"P\",\"P\",\"SS\",\"3B\",\"SS\",\"OF\",\"SS\",\"P\",\"SS\",\"P\",\"3B\",\"SS\",\"3B\",\"SS\",\"P\",\"C\",\"P\",\"P\",\"P\",\"P\",\"P\",\"SS\",\"OF\",\"P\",\"OF\",\"P\",\"SS\",\"P\",\"C\",\"OF\",\"P\",\"C\",\"SS\",\"P\",\"P\",\"P\",\"OF\",\"P\",\"OF\",\"SS\",\"SS\",\"SS\",\"SS\",\"P\",\"OF\",\"SS\",\"P\",\"SS\",\"OF\",\"OF\",\"OF\",\"P\",\"P\",\"P\",\"P\",\"P\",\"P\",\"SS\",\"P\",\"P\",\"OF\",\"SS\",\"OF\",\"P\",\"P\",\"P\",\"P\",\"P\",\"C\",\"SS\",\"SS\",\"P\",\"SS\",\"SS\",\"P\",\"P\",\"P\",\"P\",\"P\",\"SS\",\"P\",\"P\",\"SS\",\"P\",\"P\",\"P\",\"OF\",\"SS\",\"P\",\"SS\",\"OF\",\"OF\",\"SS\",\"P\",\"OF\",\"SS\",\"OF\",\"SS\",\"OF\",\"P\",\"SS\",\"OF\",\"SS\",\"P\",\"P\",\"SS\",\"SS\",\"OF\",\"P\",\"1B\",\"OF\",\"P\",\"P\",\"SS\",\"SS\",\"P\",\"SS\",\"SS\",\"P\",\"P\",\"OF\",\"P\",\"P\",\"P\",\"OF\",\"P\",\"SS\",\"P\",\"P\",\"P\",\"SS\",\"P\",\"P\",\"3B\",\"SS\",\"SS\",\"SS\",\"OF\",\"SS\",\"P\",\"P\",\"P\",\"C\",\"P\",\"P\",\"SS\",\"C\",\"OF\",\"P\",\"SS\",\"OF\",\"OF\",\"P\",\"P\",\"P\",\"P\",\"OF\",\"SS\",\"OF\",\"SS\",\"P\",\"SS\",\"P\",\"OF\",\"P\",\"OF\",\"C\",\"P\",\"P\",\"P\",\"OF\",\"P\",\"P\",\"SS\",\"P\",\"P\",\"P\",\"SS\",\"P\",\"P\",\"OF\",\"P\",\"P\",\"P\",\"SS\",\"SS\",\"SS\",\"SS\",\"C\",\"P\",\"P\",\"P\",\"P\",\"P\",\"SS\",\"P\",\"SS\",\"P\",\"SS\",\"SS\",\"P\",\"OF\",\"C\",\"P\",\"P\",\"OF\",\"P\",\"SS\",\"SS\",\"OF\",\"P\",\"OF\",\"P\",\"P\",\"OF\",\"P\",\"P\",\"OF\",\"SS\",\"OF\",\"SS\",\"OF\",\"P\",\"OF\",\"OF\",\"OF\",\"P\",\"P\",\"SS\",\"SS\",\"SS\",\"P\",\"C\",\"P\",\"OF\",\"OF\",\"P\",\"P\",\"P\",\"P\",\"C\",\"OF\",\"P\",\"SS\",\"SS\",\"P\",\"SS\",\"SS\",\"OF\",\"OF\",\"SS\",\"P\",\"P\",\"P\",\"SS\",\"C\",\"SS\",\"3B\",\"P\",\"P\",\"P\",\"OF\",\"SS\",\"P\",\"OF\",\"SS\",\"OF\",\"P\",\"SS\",\"SS\",\"P\",\"P\",\"OF\",\"C\",\"P\",\"OF\",\"OF\",\"P\",\"OF\",\"P\",\"OF\",\"SS\",\"P\",\"P\",\"P\",\"P\",\"P\",\"C\",\"SS\",\"SS\",\"P\",\"SS\",\"OF\",\"P\",\"P\",\"OF\",\"P\",\"P\",\"P\",\"P\",\"SS\",\"SS\",\"P\",\"SS\",\"P\",\"C\",\"P\",\"OF\",\"P\",\"P\",\"P\",\"SS\",\"OF\",\"OF\",\"P\",\"OF\",\"OF\",\"C\",\"P\",\"OF\",\"1B\",\"OF\",\"OF\",\"C\",\"P\",\"OF\",\"SS\",\"OF\",\"SS\",\"OF\",\"OF\",\"3B\",\"OF\",\"P\",\"C\",\"P\",\"P\",\"SS\",\"SS\",\"P\",\"OF\",\"P\",\"SS\",\"SS\",\"P\",\"P\",\"SS\",\"P\",\"C\",\"P\",\"P\",\"OF\",\"P\",\"SS\",\"P\",\"OF\",\"C\",\"OF\",\"SS\",\"P\",\"P\",\"OF\",\"P\",\"P\",\"SS\",\"OF\",\"OF\",\"OF\",\"P\",\"P\",\"P\",\"P\",\"OF\",\"1B\",\"OF\",\"SS\",\"SS\",\"SS\",\"OF\",\"SS\",\"SS\",\"P\",\"OF\",\"SS\",\"P\",\"SS\",\"P\",\"OF\",\"P\",\"P\",\"P\",\"OF\",\"P\",\"C\",\"P\",\"OF\",\"P\",\"P\",\"OF\",\"SS\",\"P\",\"SS\",\"OF\",\"C\",\"OF\",\"SS\",\"OF\",\"P\",\"P\",\"OF\",\"P\",\"P\",\"OF\",\"P\",\"P\",\"P\",\"SS\",\"P\",\"OF\",\"OF\",\"OF\",\"OF\",\"P\",\"SS\",\"P\",\"P\",\"SS\",\"SS\",\"SS\",\"OF\",\"P\",\"OF\",\"OF\",\"P\",\"P\",\"OF\",\"SS\",\"SS\",\"OF\",\"SS\",\"SS\",\"OF\",\"OF\",\"OF\",\"SS\",\"OF\",\"OF\",\"C\",\"P\",\"SS\",\"P\",\"OF\",\"P\",\"SS\",\"C\",\"OF\",\"SS\",\"SS\",\"P\",\"SS\",\"P\",\"P\",\"P\",\"OF\",\"P\",\"P\",\"P\",\"SS\",\"P\",\"SS\",\"P\",\"OF\",\"C\",\"P\",\"SS\",\"SS\",\"P\",\"SS\",\"P\",\"OF\",\"OF\",\"OF\",\"OF\",\"P\",\"P\",\"P\",\"SS\",\"SS\",\"P\",\"SS\",\"OF\",\"C\",\"SS\",\"OF\",\"P\",\"P\",\"P\",\"OF\",\"OF\",\"OF\",\"P\",\"P\",\"SS\",\"P\",\"P\",\"SS\",\"SS\",\"P\",\"C\",\"SS\",\"P\",\"OF\",\"C\",\"P\",\"P\",\"C\",\"P\",\"P\",\"OF\",\"OF\",\"P\",\"P\",\"P\",\"P\",\"SS\",\"P\",\"SS\",\"OF\",\"C\",\"SS\",\"OF\",\"P\",\"SS\",\"P\",\"OF\",\"P\",\"OF\",\"P\",\"P\",\"SS\",\"C\",\"C\",\"SS\",\"OF\",\"SS\",\"P\",\"P\",\"SS\",\"SS\",\"OF\",\"P\",\"P\",\"SS\",\"P\",\"SS\",\"OF\",\"SS\",\"P\",\"OF\",\"P\",\"SS\",\"P\",\"SS\",\"OF\",\"OF\",\"SS\",\"OF\",\"C\",\"OF\",\"C\",\"P\",\"P\",\"1B\",\"OF\",\"SS\",\"OF\",\"P\",\"SS\",\"OF\",\"P\",\"P\",\"P\",\"P\",\"P\",\"P\",\"C\",\"P\",\"C\",\"OF\",\"OF\",\"P\",\"OF\",\"OF\",\"SS\",\"P\",\"P\",\"P\",\"C\",\"OF\",\"P\",\"P\",\"OF\",\"SS\",\"P\",\"OF\",\"SS\",\"3B\",\"C\",\"C\",\"SS\",\"OF\",\"C\",\"SS\",\"P\",\"2B\",\"P\",\"P\",\"P\",\"P\",\"OF\",\"P\",\"P\",\"SS\",\"P\",\"OF\",\"P\",\"SS\",\"OF\",\"SS\",\"P\",\"P\",\"SS\",\"2B\",\"P\",\"P\",\"OF\",\"P\",\"OF\",\"SS\",\"OF\",\"P\",\"SS\",\"SS\",\"3B\",\"OF\",\"P\",\"SS\",\"P\",\"OF\",\"P\",\"C\",\"SS\",\"SS\",\"OF\",\"OF\",\"P\",\"P\",\"OF\",\"P\",\"SS\",\"P\",\"OF\",\"P\",\"P\",\"C\",\"SS\",\"OF\",\"P\",\"1B\",\"P\",\"SS\",\"P\",\"P\",\"SS\",\"SS\",\"OF\",\"OF\",\"OF\",\"SS\",\"P\",\"SS\",\"P\",\"P\",\"OF\",\"SS\",\"SS\",\"OF\",\"OF\",\"P\",\"P\",\"SS\",\"P\",\"OF\",\"SS\",\"C\",\"SS\",\"SS\",\"P\",\"SS\",\"P\",\"P\",\"OF\",\"P\",\"P\",\"OF\",\"OF\",\"OF\",\"P\",\"SS\",\"P\",\"P\",\"C\",\"SS\",\"OF\",\"P\",\"OF\",\"P\",\"P\",\"C\",\"P\",\"P\",\"P\",\"OF\",\"OF\",\"OF\",\"OF\",\"1B\",\"OF\",\"OF\",\"C\",\"OF\",\"SS\",\"SS\",\"OF\",\"OF\",\"P\",\"OF\",\"OF\",\"OF\",\"SS\",\"SS\",\"OF\",\"P\",\"OF\",\"OF\",\"OF\",\"OF\",\"P\",\"SS\",\"OF\",\"P\",\"P\",\"P\",\"OF\",\"SS\",\"SS\",\"OF\",\"P\",\"OF\",\"P\",\"P\",\"P\",\"OF\",\"P\",\"P\",\"P\",\"SS\",\"C\",\"OF\",\"OF\",\"P\",\"SS\",\"P\",\"SS\",\"SS\",\"P\",\"SS\",\"P\",\"P\",\"P\",\"P\",\"P\",\"P\",\"OF\",\"P\",\"SS\",\"OF\",\"OF\",\"P\",\"P\",\"OF\",\"C\",\"OF\",\"P\",\"P\",\"P\",\"P\",\"OF\",\"2B\",\"OF\",\"OF\",\"P\",\"P\",\"SS\",\"P\",\"P\",\"OF\",\"SS\",\"P\",\"P\",\"P\",\"OF\",\"OF\",\"C\",\"P\",\"OF\",\"SS\",\"P\",\"SS\",\"P\",\"C\",\"SS\",\"P\",\"P\",\"OF\",\"SS\",\"SS\",\"P\",\"P\",\"SS\",\"SS\",\"C\",\"P\",\"P\",\"OF\",\"P\",\"P\",\"OF\",\"P\",\"OF\",\"OF\",\"P\",\"SS\",\"OF\",\"OF\",\"SS\",\"P\",\"P\",\"SS\",\"P\",\"P\",\"OF\",\"P\",\"SS\",\"OF\",\"C\",\"C\",\"P\",\"C\",\"P\",\"SS\",\"P\",\"P\",\"SS\",\"OF\",\"P\",\"SS\",\"OF\",\"OF\",\"C\",\"OF\",\"P\",\"SS\",\"OF\",\"SS\",\"OF\",\"P\",\"P\",\"SS\",\"P\",\"P\",\"SS\",\"OF\",\"P\",\"OF\",\"SS\",\"P\",\"SS\",\"SS\",\"C\",\"P\",\"SS\",\"P\",\"P\",\"OF\",\"SS\",\"P\",\"SS\",\"P\",\"P\",\"P\",\"P\",\"SS\",\"SS\",\"P\",\"P\",\"SS\",\"OF\",\"P\",\"P\",\"P\",\"C\",\"SS\",\"OF\",\"P\",\"SS\",\"C\",\"OF\",\"OF\",\"SS\",\"OF\",\"OF\",\"P\",\"OF\",\"P\",\"OF\",\"OF\",\"SS\",\"OF\",\"SS\",\"OF\",\"P\",\"SS\",\"SS\",\"P\",\"P\",\"P\",\"P\",\"OF\",\"C\",\"SS\",\"P\",\"OF\",\"P\",\"SS\",\"SS\",\"SS\",\"SS\",\"OF\",\"P\",\"SS\",\"P\",\"P\",\"P\"],\"xaxis\":\"x\",\"yaxis\":\"y\",\"type\":\"histogram\"}],                        {\"template\":{\"data\":{\"bar\":[{\"error_x\":{\"color\":\"#2a3f5f\"},\"error_y\":{\"color\":\"#2a3f5f\"},\"marker\":{\"line\":{\"color\":\"#E5ECF6\",\"width\":0.5},\"pattern\":{\"fillmode\":\"overlay\",\"size\":10,\"solidity\":0.2}},\"type\":\"bar\"}],\"barpolar\":[{\"marker\":{\"line\":{\"color\":\"#E5ECF6\",\"width\":0.5},\"pattern\":{\"fillmode\":\"overlay\",\"size\":10,\"solidity\":0.2}},\"type\":\"barpolar\"}],\"carpet\":[{\"aaxis\":{\"endlinecolor\":\"#2a3f5f\",\"gridcolor\":\"white\",\"linecolor\":\"white\",\"minorgridcolor\":\"white\",\"startlinecolor\":\"#2a3f5f\"},\"baxis\":{\"endlinecolor\":\"#2a3f5f\",\"gridcolor\":\"white\",\"linecolor\":\"white\",\"minorgridcolor\":\"white\",\"startlinecolor\":\"#2a3f5f\"},\"type\":\"carpet\"}],\"choropleth\":[{\"colorbar\":{\"outlinewidth\":0,\"ticks\":\"\"},\"type\":\"choropleth\"}],\"contour\":[{\"colorbar\":{\"outlinewidth\":0,\"ticks\":\"\"},\"colorscale\":[[0.0,\"#0d0887\"],[0.1111111111111111,\"#46039f\"],[0.2222222222222222,\"#7201a8\"],[0.3333333333333333,\"#9c179e\"],[0.4444444444444444,\"#bd3786\"],[0.5555555555555556,\"#d8576b\"],[0.6666666666666666,\"#ed7953\"],[0.7777777777777778,\"#fb9f3a\"],[0.8888888888888888,\"#fdca26\"],[1.0,\"#f0f921\"]],\"type\":\"contour\"}],\"contourcarpet\":[{\"colorbar\":{\"outlinewidth\":0,\"ticks\":\"\"},\"type\":\"contourcarpet\"}],\"heatmap\":[{\"colorbar\":{\"outlinewidth\":0,\"ticks\":\"\"},\"colorscale\":[[0.0,\"#0d0887\"],[0.1111111111111111,\"#46039f\"],[0.2222222222222222,\"#7201a8\"],[0.3333333333333333,\"#9c179e\"],[0.4444444444444444,\"#bd3786\"],[0.5555555555555556,\"#d8576b\"],[0.6666666666666666,\"#ed7953\"],[0.7777777777777778,\"#fb9f3a\"],[0.8888888888888888,\"#fdca26\"],[1.0,\"#f0f921\"]],\"type\":\"heatmap\"}],\"heatmapgl\":[{\"colorbar\":{\"outlinewidth\":0,\"ticks\":\"\"},\"colorscale\":[[0.0,\"#0d0887\"],[0.1111111111111111,\"#46039f\"],[0.2222222222222222,\"#7201a8\"],[0.3333333333333333,\"#9c179e\"],[0.4444444444444444,\"#bd3786\"],[0.5555555555555556,\"#d8576b\"],[0.6666666666666666,\"#ed7953\"],[0.7777777777777778,\"#fb9f3a\"],[0.8888888888888888,\"#fdca26\"],[1.0,\"#f0f921\"]],\"type\":\"heatmapgl\"}],\"histogram\":[{\"marker\":{\"pattern\":{\"fillmode\":\"overlay\",\"size\":10,\"solidity\":0.2}},\"type\":\"histogram\"}],\"histogram2d\":[{\"colorbar\":{\"outlinewidth\":0,\"ticks\":\"\"},\"colorscale\":[[0.0,\"#0d0887\"],[0.1111111111111111,\"#46039f\"],[0.2222222222222222,\"#7201a8\"],[0.3333333333333333,\"#9c179e\"],[0.4444444444444444,\"#bd3786\"],[0.5555555555555556,\"#d8576b\"],[0.6666666666666666,\"#ed7953\"],[0.7777777777777778,\"#fb9f3a\"],[0.8888888888888888,\"#fdca26\"],[1.0,\"#f0f921\"]],\"type\":\"histogram2d\"}],\"histogram2dcontour\":[{\"colorbar\":{\"outlinewidth\":0,\"ticks\":\"\"},\"colorscale\":[[0.0,\"#0d0887\"],[0.1111111111111111,\"#46039f\"],[0.2222222222222222,\"#7201a8\"],[0.3333333333333333,\"#9c179e\"],[0.4444444444444444,\"#bd3786\"],[0.5555555555555556,\"#d8576b\"],[0.6666666666666666,\"#ed7953\"],[0.7777777777777778,\"#fb9f3a\"],[0.8888888888888888,\"#fdca26\"],[1.0,\"#f0f921\"]],\"type\":\"histogram2dcontour\"}],\"mesh3d\":[{\"colorbar\":{\"outlinewidth\":0,\"ticks\":\"\"},\"type\":\"mesh3d\"}],\"parcoords\":[{\"line\":{\"colorbar\":{\"outlinewidth\":0,\"ticks\":\"\"}},\"type\":\"parcoords\"}],\"pie\":[{\"automargin\":true,\"type\":\"pie\"}],\"scatter\":[{\"marker\":{\"colorbar\":{\"outlinewidth\":0,\"ticks\":\"\"}},\"type\":\"scatter\"}],\"scatter3d\":[{\"line\":{\"colorbar\":{\"outlinewidth\":0,\"ticks\":\"\"}},\"marker\":{\"colorbar\":{\"outlinewidth\":0,\"ticks\":\"\"}},\"type\":\"scatter3d\"}],\"scattercarpet\":[{\"marker\":{\"colorbar\":{\"outlinewidth\":0,\"ticks\":\"\"}},\"type\":\"scattercarpet\"}],\"scattergeo\":[{\"marker\":{\"colorbar\":{\"outlinewidth\":0,\"ticks\":\"\"}},\"type\":\"scattergeo\"}],\"scattergl\":[{\"marker\":{\"colorbar\":{\"outlinewidth\":0,\"ticks\":\"\"}},\"type\":\"scattergl\"}],\"scattermapbox\":[{\"marker\":{\"colorbar\":{\"outlinewidth\":0,\"ticks\":\"\"}},\"type\":\"scattermapbox\"}],\"scatterpolar\":[{\"marker\":{\"colorbar\":{\"outlinewidth\":0,\"ticks\":\"\"}},\"type\":\"scatterpolar\"}],\"scatterpolargl\":[{\"marker\":{\"colorbar\":{\"outlinewidth\":0,\"ticks\":\"\"}},\"type\":\"scatterpolargl\"}],\"scatterternary\":[{\"marker\":{\"colorbar\":{\"outlinewidth\":0,\"ticks\":\"\"}},\"type\":\"scatterternary\"}],\"surface\":[{\"colorbar\":{\"outlinewidth\":0,\"ticks\":\"\"},\"colorscale\":[[0.0,\"#0d0887\"],[0.1111111111111111,\"#46039f\"],[0.2222222222222222,\"#7201a8\"],[0.3333333333333333,\"#9c179e\"],[0.4444444444444444,\"#bd3786\"],[0.5555555555555556,\"#d8576b\"],[0.6666666666666666,\"#ed7953\"],[0.7777777777777778,\"#fb9f3a\"],[0.8888888888888888,\"#fdca26\"],[1.0,\"#f0f921\"]],\"type\":\"surface\"}],\"table\":[{\"cells\":{\"fill\":{\"color\":\"#EBF0F8\"},\"line\":{\"color\":\"white\"}},\"header\":{\"fill\":{\"color\":\"#C8D4E3\"},\"line\":{\"color\":\"white\"}},\"type\":\"table\"}]},\"layout\":{\"annotationdefaults\":{\"arrowcolor\":\"#2a3f5f\",\"arrowhead\":0,\"arrowwidth\":1},\"autotypenumbers\":\"strict\",\"coloraxis\":{\"colorbar\":{\"outlinewidth\":0,\"ticks\":\"\"}},\"colorscale\":{\"diverging\":[[0,\"#8e0152\"],[0.1,\"#c51b7d\"],[0.2,\"#de77ae\"],[0.3,\"#f1b6da\"],[0.4,\"#fde0ef\"],[0.5,\"#f7f7f7\"],[0.6,\"#e6f5d0\"],[0.7,\"#b8e186\"],[0.8,\"#7fbc41\"],[0.9,\"#4d9221\"],[1,\"#276419\"]],\"sequential\":[[0.0,\"#0d0887\"],[0.1111111111111111,\"#46039f\"],[0.2222222222222222,\"#7201a8\"],[0.3333333333333333,\"#9c179e\"],[0.4444444444444444,\"#bd3786\"],[0.5555555555555556,\"#d8576b\"],[0.6666666666666666,\"#ed7953\"],[0.7777777777777778,\"#fb9f3a\"],[0.8888888888888888,\"#fdca26\"],[1.0,\"#f0f921\"]],\"sequentialminus\":[[0.0,\"#0d0887\"],[0.1111111111111111,\"#46039f\"],[0.2222222222222222,\"#7201a8\"],[0.3333333333333333,\"#9c179e\"],[0.4444444444444444,\"#bd3786\"],[0.5555555555555556,\"#d8576b\"],[0.6666666666666666,\"#ed7953\"],[0.7777777777777778,\"#fb9f3a\"],[0.8888888888888888,\"#fdca26\"],[1.0,\"#f0f921\"]]},\"colorway\":[\"#636efa\",\"#EF553B\",\"#00cc96\",\"#ab63fa\",\"#FFA15A\",\"#19d3f3\",\"#FF6692\",\"#B6E880\",\"#FF97FF\",\"#FECB52\"],\"font\":{\"color\":\"#2a3f5f\"},\"geo\":{\"bgcolor\":\"white\",\"lakecolor\":\"white\",\"landcolor\":\"#E5ECF6\",\"showlakes\":true,\"showland\":true,\"subunitcolor\":\"white\"},\"hoverlabel\":{\"align\":\"left\"},\"hovermode\":\"closest\",\"mapbox\":{\"style\":\"light\"},\"paper_bgcolor\":\"white\",\"plot_bgcolor\":\"#E5ECF6\",\"polar\":{\"angularaxis\":{\"gridcolor\":\"white\",\"linecolor\":\"white\",\"ticks\":\"\"},\"bgcolor\":\"#E5ECF6\",\"radialaxis\":{\"gridcolor\":\"white\",\"linecolor\":\"white\",\"ticks\":\"\"}},\"scene\":{\"xaxis\":{\"backgroundcolor\":\"#E5ECF6\",\"gridcolor\":\"white\",\"gridwidth\":2,\"linecolor\":\"white\",\"showbackground\":true,\"ticks\":\"\",\"zerolinecolor\":\"white\"},\"yaxis\":{\"backgroundcolor\":\"#E5ECF6\",\"gridcolor\":\"white\",\"gridwidth\":2,\"linecolor\":\"white\",\"showbackground\":true,\"ticks\":\"\",\"zerolinecolor\":\"white\"},\"zaxis\":{\"backgroundcolor\":\"#E5ECF6\",\"gridcolor\":\"white\",\"gridwidth\":2,\"linecolor\":\"white\",\"showbackground\":true,\"ticks\":\"\",\"zerolinecolor\":\"white\"}},\"shapedefaults\":{\"line\":{\"color\":\"#2a3f5f\"}},\"ternary\":{\"aaxis\":{\"gridcolor\":\"white\",\"linecolor\":\"white\",\"ticks\":\"\"},\"baxis\":{\"gridcolor\":\"white\",\"linecolor\":\"white\",\"ticks\":\"\"},\"bgcolor\":\"#E5ECF6\",\"caxis\":{\"gridcolor\":\"white\",\"linecolor\":\"white\",\"ticks\":\"\"}},\"title\":{\"x\":0.05},\"xaxis\":{\"automargin\":true,\"gridcolor\":\"white\",\"linecolor\":\"white\",\"ticks\":\"\",\"title\":{\"standoff\":15},\"zerolinecolor\":\"white\",\"zerolinewidth\":2},\"yaxis\":{\"automargin\":true,\"gridcolor\":\"white\",\"linecolor\":\"white\",\"ticks\":\"\",\"title\":{\"standoff\":15},\"zerolinecolor\":\"white\",\"zerolinewidth\":2}}},\"xaxis\":{\"anchor\":\"y\",\"domain\":[0.0,1.0],\"title\":{\"text\":\"POS\"}},\"yaxis\":{\"anchor\":\"x\",\"domain\":[0.0,1.0],\"title\":{\"text\":\"count\"}},\"legend\":{\"title\":{\"text\":\"hof\"},\"tracegroupgap\":0},\"title\":{\"text\":\"Hall of Famers by Position\"},\"barmode\":\"relative\",\"height\":500},                        {\"responsive\": true}                    ).then(function(){\n                            \nvar gd = document.getElementById('4454f7fc-430e-493b-91d1-688c57bafdad');\nvar x = new MutationObserver(function (mutations, observer) {{\n        var display = window.getComputedStyle(gd).display;\n        if (!display || display === 'none') {{\n            console.log([gd, 'removed!']);\n            Plotly.purge(gd);\n            observer.disconnect();\n        }}\n}});\n\n// Listen for the removal of the full notebook cells\nvar notebookContainer = gd.closest('#notebook-container');\nif (notebookContainer) {{\n    x.observe(notebookContainer, {childList: true});\n}}\n\n// Listen for the clearing of the current output cell\nvar outputEl = gd.closest('.output');\nif (outputEl) {{\n    x.observe(outputEl, {childList: true});\n}}\n\n                        })                };                            </script>        </div>\n</body>\n</html>"
     },
     "execution_count": 22,
     "metadata": {
     },
     "output_type": "execute_result"
    }
   ],
   "source": [
    "fig = px.histogram(by_player_eligible, x = 'POS', color = 'hof', title = \"Hall of Famers by Position\", height = 500)\n",
    "fig.write_html(\"hof_by_pos.html\")\n",
    "fig.show()"
   ]
  },
  {
   "cell_type": "code",
   "execution_count": 23,
   "metadata": {
    "collapsed": false
   },
   "outputs": [
   ],
   "source": [
    "by_player_eligible = by_player_eligible[by_player_eligible['POS'] != 'P']"
   ]
  },
  {
   "cell_type": "code",
   "execution_count": 24,
   "metadata": {
    "collapsed": false
   },
   "outputs": [
    {
     "data": {
      "text/html": "<html>\n<head><meta charset=\"utf-8\" /></head>\n<body>\n    <div>            <script src=\"https://cdnjs.cloudflare.com/ajax/libs/mathjax/2.7.5/MathJax.js?config=TeX-AMS-MML_SVG\"></script><script type=\"text/javascript\">if (window.MathJax) {MathJax.Hub.Config({SVG: {font: \"STIX-Web\"}});}</script>                <script type=\"text/javascript\">window.PlotlyConfig = {MathJaxConfig: 'local'};</script>\n        <script src=\"https://cdn.plot.ly/plotly-2.9.0.min.js\"></script>                <div id=\"46aa4057-b598-4b92-887d-8a093091e323\" class=\"plotly-graph-div\" style=\"height:525px; width:100%;\"></div>            <script type=\"text/javascript\">                                    window.PLOTLYENV=window.PLOTLYENV || {};                                    if (document.getElementById(\"46aa4057-b598-4b92-887d-8a093091e323\")) {                    Plotly.newPlot(                        \"46aa4057-b598-4b92-887d-8a093091e323\",                        [{\"alignmentgroup\":\"True\",\"bingroup\":\"x\",\"hovertemplate\":\"hof=%{x}<br>count=%{y}<extra></extra>\",\"legendgroup\":\"\",\"marker\":{\"color\":\"#636efa\",\"pattern\":{\"shape\":\"\"}},\"name\":\"\",\"offsetgroup\":\"\",\"orientation\":\"v\",\"showlegend\":false,\"x\":[false,false,false,false,false,false,false,false,false,false,false,false,false,false,false,false,false,false,false,false,false,false,false,false,false,false,false,false,false,false,false,false,false,false,false,false,false,false,false,false,false,false,false,false,false,false,false,false,false,false,false,false,false,false,false,false,false,false,false,false,false,false,false,false,false,true,false,false,false,false,false,false,false,false,false,false,false,false,false,false,false,false,false,false,false,false,false,false,true,false,false,false,false,false,false,false,false,false,false,false,false,false,false,false,false,false,false,false,false,false,false,false,false,false,false,false,false,false,false,false,false,false,false,false,false,false,false,false,false,false,false,false,false,false,false,false,false,false,false,false,false,false,false,false,false,false,false,false,false,false,false,false,false,false,false,false,false,false,false,false,false,false,false,false,false,false,false,false,false,false,false,false,false,false,false,false,false,false,false,false,false,false,false,false,false,false,false,false,false,false,false,false,false,false,false,false,false,false,false,false,false,false,false,false,false,false,false,false,false,false,false,false,false,false,false,false,false,false,false,false,false,false,false,false,false,false,false,false,false,false,false,false,false,false,false,false,false,false,false,false,false,false,false,false,false,false,false,false,false,false,false,false,false,false,false,false,false,false,false,false,false,false,false,false,false,false,false,false,false,false,false,false,false,false,false,false,false,false,false,false,false,false,false,false,false,false,false,false,false,false,false,false,false,false,false,false,false,false,false,false,false,false,false,false,false,false,false,false,false,false,false,false,false,false,false,false,false,false,false,false,false,false,false,false,false,false,false,false,false,false,false,false,true,false,false,false,false,false,false,false,false,false,false,false,false,false,false,false,false,false,false,false,false,false,false,false,false,false,false,false,false,false,false,false,false,false,false,false,false,false,false,false,false,false,false,false,false,false,false,false,false,false,false,false,false,false,false,false,false,false,false,false,false,false,false,false,false,false,false,false,false,false,false,false,false,false,false,false,false,false,false,false,false,false,false,false,false,false,false,false,false,false,false,false,false,false,false,false,false,false,false,false,false,false,false,false,false,false,false,false,false,false,false,false,false,false,false,false,false,false,false,false,false,false,false,false,false,false,false,false,false,false,true,false,false,false,false,false,false,false,false,false,false,false,false,false,false,false,false,false,false,false,false,false,false,false,false,false,false,false,false,false,false,false,false,false,false,false,false,false,false,false,false,false,false,false,false,false,false,false,false,false,false,false,false,false,false,false,true,false,false,false,false,false,false,false,false,false,false,false,false,false,false,false,false,false,false,false,false,false,false,false,false,false,false,false,false,false,false,false,false,false,false,false,false,false,false,false,false,false,false,false,false,false,false,false,false,false,false,false,false,false,false,false,false,false,false,false,false,false,false,false,false,false,false,false,false,false,false,false,false,false,false,false,false,false,false,false,false,true,false,false,false,false,false,false,false,false,false,false,false,false,false,false,false,false,false,false,false,false,false,false,false,false,false,false,false,false,false,false,false,false,false,false,false,false,true,false,false,false,false,false,false,false,false,false,false,false,false,false,false,true,false,false,false,false,false,false,false,false,false,false,false,false,false,false,false,false,false,false,false,false,false,false,false,false,false,false,false,false,false,false,false,false,false,false,false,false,false,false,false,false,false,false,false,false,false,false,false,false,false,false,true,false,false,false,false,false,false,false,false,false,false,false,false,false,false,false,false,false,false,false,false,false,false,false,false,false,false,false,false,false,false,false,false,false,false,false,false,false,false,false,false,false,false,false,false,false,false,false,false,false,false,false,false,false,false,false,false,false,false,false,false,false,false,false,false,false,false,false,false,false,false,false,false,false,false,false,false,false,false,false,false,false,false,false,false,false,false,false,false,false,false,false,false,false,false,false,false,false,false,false,false,false,false,false,false,false,false,false,false,false,false,false,false,false,false,false,true,false,false,false,false,false,false,false,false,false,false,false,false,false,false,false,false,false,false,false,false,false,false,false,false,false,false,false,false,false,false,false,false,false,false,false,false,false,false,false,false,false,false,false,false,false,false,false,false,false,false,false,false,false,false,false,false,false,false,false,false,false,false,false,false,false,false,false,false,false,false,false,false,false,false,false,false,false,false,false,false,false,false,false,false,false,false,false,false,false,false,false,false,false,false,false,false,false,false,false,false,false,false,false,false,false,false,false,false,false,false,false,false,true,false,false,false,false,false,false,false,true,false,false,false,false,false,false,false,false,false,false,false,false,false,false,false,false,false,false,false,false,false,false,false,false,false,false,false,false,false,false,false,false,false,false,false,false,false,false,false,false,false,false,false,false,false,false,false,false,false,false,false,false,true,false,false,false,true,false,false,false,false,false,false,false,false,false,false,false,false,false,false,false,false,false,false,true,false,false,false,false,false,false,false,false,false,false,false,false,false,false,false,false,false,false,false,true,false,false,false,false,false,false,false,false,false,false,false,false,false,false,false,false,false,false,false,false,false,false,false,false,false,false,false,false,false,false,false,false,false,false,false,false,false,false,false,false,false,false,false,false,true,false,false,false,false,false,false,false,false,false,false,false,false,false,false,false,false,false,false,false,false,false,false,false,false,false,false,false,true,false,false,false,false,false,false,false,false,false,false,false,false,false,false,false,false,false,false,false,false,false,false,false,false,true,false,false,false,false,false,false,false,false,false,true,false,false,false,false,false,false,false,false,false,false,false,false,false,false,false,false,false,false,false,false,false,false,false,false,true,true,false,false,false,false,false,false,false,false,false,false,false,false,false,false,false,false,false,false,true,false,false,false,true,false,false,false,false,false,false,false,false,false,false,false,false,false,false,false,false,false,false,false,false,false,false,false,false,false,false,false,false,false,false,false,false,false,false,false,false,false,false,false,false,false,false,false,true,false,true,false,false,false,false,false,false,false,false,false,false,false,false,false,false,false,false,false,false,false,false,false,false,false,false,false,false,false,true,false,false,false,false,false,false,false,false,false,false,false,false,false,false,false,false,false,false,false,false,false,false,false,false,false,false,false,false,false,false,false,true,false,false,false,false,false,false,false,false,false,false,false,false,false,false,false,false,true,false,false,false,true,false,false,false,false,true,false,false,false,false,false,false,false,false,false,false,false,false,false,false,false,false,false,false,false,false,false,false,false,false,false,false,false,false,false,false,false,false,false,false,false,false,true,false,false,false,false,false,false,false,false,false,false,false,false,false,false,false,false,false,false,false,false,false,false,false,false,false,false,false,false,false,false,false,false,false,false,false,false,false,false,false,false,false,false,false,false,false,false,false,false,false,false,false,false,false,false,false,true,false,false,false,false,false,false,false,false,false,true,false,false,false,false,false,false,false,true,false,false,false,true,false,false,false,false,false,false,false,false,false,false,false,false,false,false,false,false,false,false,false,false,false,false,false,false,false,false,false,false,false,false,false,false,false,false,false,false,false,false,false,false,false,false,false,false,false,false,false,false,false,false,false,false,false,false,false,false,true,false,false,false,false,false,false,false,false,true,false,false,false,false,false,false,false,false,false,false,false,true,false,false,false,false,false,false,false,false,false,false,false,false,false,false,false,false,false,false,false,false,false,false,false,false,false,false,true,false,false,false,false,false,false,false,false,false,false,false,false,false,false,false,false,false,false,false,true,false,false,false,false,false,false,false,false,false,false,true,false,false,false,false,false,false,false,false,false,false,false,false,false,false,false,false,false,false,false,false,false,false,false,false,false,false,false,false,false,false,false,false,false,false,false,false,true,false,false,false,false,false,false,false,false,false,false,false,false,false,false,false,true,false,false,false,false,false,false,false,false,false,false,false,false,false,false,false,false,false,false,false,false,false,false,false,false,false,false,false,false,false,false,false,false,false,false,false,true,false,true,false,false,false,false,false,false,false,false,false,false,false,true,false,false,false,false,false,false,false,false,false,false,false,false,false,false,false,false,false,false,false,false,true,false,false,false,false,false,false,false,false,false,false,false,false,false,false,false,false,false,false,false,false,false,false,false,false,false,false,false,false,false,false,false,false,false,false,false,false,false,false,false,false,true,false,false,false,false,false,false,false,false,false,false,false,false,false,false,false,false,false,false,false,false,false,false,true,false,true,false,false,false,false,false,false,false,false,false,true,false,false,false,false,false,false,false,false,false,false,false,false,false,false,false,false,false,false,true,false,true,false,false,false,false,false,false,false,false,false,false,false,false,false,false,false,true,false,false,false,true,false,false,false,false,false,false,false,false,false,false,false,false,false,false,false,false,false,false,false,false,false,false,false,false,false,false,false,false,false,false,false,false,false,false,false,false,true,false,false,false,false,false,true,true,true,false,false,false,true,false,false,false,false,false,false,false,false,false,false,false,true,false,false,false,false,false,false,false,false,true,false,false,false,false,false,false,true,false,false,false,false,false,false,false,false,false,false,false,false,false,false,false,false,true,false,false,false,false,true,false,false,false,false,false,false,false,false,false,false,false,false,false,false,false,true,true,false,false,false,false,true,false,false,false,false,false,false,false,false,false,false,true,false,false,false,false,false,false,false,false,false,false,true,true,false,false,false,true,false,false,true,false,false,false,false,false,false,false,false,false,false,true,false,false,true,false,false,true,false,false,false,false,false,true,false,false,false,false,true,false,false,true,false,false,false,false,false,false,false,true,false,false,false,false,false,false,false,false,true,false,false,false,false,false,false,false,false,false,false,true,false,false,false,true,false,false,false,false,false,false,false,false,false,false,true,false,true,false,false,true,false,false,false,true,false,false,false,false,false,false,true,true,false,false,false,false,true,true,true,false,true,true,false,false,false,false,false,true,true,true,true,false,true,true,true,true,false,false,false,false,false,false,false,true,false,false,false,true,false,true,false,false,false,false,true,false,false,false,false,false,false,false,false,false,true,true,false,false,true,false,false,true,false,true,false,true,false,false,false,false,false,false,true,true,true,false,false,false,false,false,false,false,false,false,false,false,false,true,false,false,false,false,false,false,true,false,false,false,false,false,false,false,false,false,true,false,false,true,false,true,true,false,true,true,true,true,false,false,true,false,false,false,false,true,false,false,false,false,false,true,false,true,true,false,false,true,false,true,true,false,true,false,false,false,false,false,false,false,false,true,false,true,false,true,false,true,false,true,true,false,false,false,true,true,true,true,false,true,false,false,true,false,false,false,true,true,true,true,false,true,true,false,true,false,false,true,false,false,false,true,false,true,false,true,true,false,true,false,false,false,false,true,false,true,false],\"xaxis\":\"x\",\"yaxis\":\"y\",\"type\":\"histogram\"}],                        {\"template\":{\"data\":{\"bar\":[{\"error_x\":{\"color\":\"#2a3f5f\"},\"error_y\":{\"color\":\"#2a3f5f\"},\"marker\":{\"line\":{\"color\":\"#E5ECF6\",\"width\":0.5},\"pattern\":{\"fillmode\":\"overlay\",\"size\":10,\"solidity\":0.2}},\"type\":\"bar\"}],\"barpolar\":[{\"marker\":{\"line\":{\"color\":\"#E5ECF6\",\"width\":0.5},\"pattern\":{\"fillmode\":\"overlay\",\"size\":10,\"solidity\":0.2}},\"type\":\"barpolar\"}],\"carpet\":[{\"aaxis\":{\"endlinecolor\":\"#2a3f5f\",\"gridcolor\":\"white\",\"linecolor\":\"white\",\"minorgridcolor\":\"white\",\"startlinecolor\":\"#2a3f5f\"},\"baxis\":{\"endlinecolor\":\"#2a3f5f\",\"gridcolor\":\"white\",\"linecolor\":\"white\",\"minorgridcolor\":\"white\",\"startlinecolor\":\"#2a3f5f\"},\"type\":\"carpet\"}],\"choropleth\":[{\"colorbar\":{\"outlinewidth\":0,\"ticks\":\"\"},\"type\":\"choropleth\"}],\"contour\":[{\"colorbar\":{\"outlinewidth\":0,\"ticks\":\"\"},\"colorscale\":[[0.0,\"#0d0887\"],[0.1111111111111111,\"#46039f\"],[0.2222222222222222,\"#7201a8\"],[0.3333333333333333,\"#9c179e\"],[0.4444444444444444,\"#bd3786\"],[0.5555555555555556,\"#d8576b\"],[0.6666666666666666,\"#ed7953\"],[0.7777777777777778,\"#fb9f3a\"],[0.8888888888888888,\"#fdca26\"],[1.0,\"#f0f921\"]],\"type\":\"contour\"}],\"contourcarpet\":[{\"colorbar\":{\"outlinewidth\":0,\"ticks\":\"\"},\"type\":\"contourcarpet\"}],\"heatmap\":[{\"colorbar\":{\"outlinewidth\":0,\"ticks\":\"\"},\"colorscale\":[[0.0,\"#0d0887\"],[0.1111111111111111,\"#46039f\"],[0.2222222222222222,\"#7201a8\"],[0.3333333333333333,\"#9c179e\"],[0.4444444444444444,\"#bd3786\"],[0.5555555555555556,\"#d8576b\"],[0.6666666666666666,\"#ed7953\"],[0.7777777777777778,\"#fb9f3a\"],[0.8888888888888888,\"#fdca26\"],[1.0,\"#f0f921\"]],\"type\":\"heatmap\"}],\"heatmapgl\":[{\"colorbar\":{\"outlinewidth\":0,\"ticks\":\"\"},\"colorscale\":[[0.0,\"#0d0887\"],[0.1111111111111111,\"#46039f\"],[0.2222222222222222,\"#7201a8\"],[0.3333333333333333,\"#9c179e\"],[0.4444444444444444,\"#bd3786\"],[0.5555555555555556,\"#d8576b\"],[0.6666666666666666,\"#ed7953\"],[0.7777777777777778,\"#fb9f3a\"],[0.8888888888888888,\"#fdca26\"],[1.0,\"#f0f921\"]],\"type\":\"heatmapgl\"}],\"histogram\":[{\"marker\":{\"pattern\":{\"fillmode\":\"overlay\",\"size\":10,\"solidity\":0.2}},\"type\":\"histogram\"}],\"histogram2d\":[{\"colorbar\":{\"outlinewidth\":0,\"ticks\":\"\"},\"colorscale\":[[0.0,\"#0d0887\"],[0.1111111111111111,\"#46039f\"],[0.2222222222222222,\"#7201a8\"],[0.3333333333333333,\"#9c179e\"],[0.4444444444444444,\"#bd3786\"],[0.5555555555555556,\"#d8576b\"],[0.6666666666666666,\"#ed7953\"],[0.7777777777777778,\"#fb9f3a\"],[0.8888888888888888,\"#fdca26\"],[1.0,\"#f0f921\"]],\"type\":\"histogram2d\"}],\"histogram2dcontour\":[{\"colorbar\":{\"outlinewidth\":0,\"ticks\":\"\"},\"colorscale\":[[0.0,\"#0d0887\"],[0.1111111111111111,\"#46039f\"],[0.2222222222222222,\"#7201a8\"],[0.3333333333333333,\"#9c179e\"],[0.4444444444444444,\"#bd3786\"],[0.5555555555555556,\"#d8576b\"],[0.6666666666666666,\"#ed7953\"],[0.7777777777777778,\"#fb9f3a\"],[0.8888888888888888,\"#fdca26\"],[1.0,\"#f0f921\"]],\"type\":\"histogram2dcontour\"}],\"mesh3d\":[{\"colorbar\":{\"outlinewidth\":0,\"ticks\":\"\"},\"type\":\"mesh3d\"}],\"parcoords\":[{\"line\":{\"colorbar\":{\"outlinewidth\":0,\"ticks\":\"\"}},\"type\":\"parcoords\"}],\"pie\":[{\"automargin\":true,\"type\":\"pie\"}],\"scatter\":[{\"marker\":{\"colorbar\":{\"outlinewidth\":0,\"ticks\":\"\"}},\"type\":\"scatter\"}],\"scatter3d\":[{\"line\":{\"colorbar\":{\"outlinewidth\":0,\"ticks\":\"\"}},\"marker\":{\"colorbar\":{\"outlinewidth\":0,\"ticks\":\"\"}},\"type\":\"scatter3d\"}],\"scattercarpet\":[{\"marker\":{\"colorbar\":{\"outlinewidth\":0,\"ticks\":\"\"}},\"type\":\"scattercarpet\"}],\"scattergeo\":[{\"marker\":{\"colorbar\":{\"outlinewidth\":0,\"ticks\":\"\"}},\"type\":\"scattergeo\"}],\"scattergl\":[{\"marker\":{\"colorbar\":{\"outlinewidth\":0,\"ticks\":\"\"}},\"type\":\"scattergl\"}],\"scattermapbox\":[{\"marker\":{\"colorbar\":{\"outlinewidth\":0,\"ticks\":\"\"}},\"type\":\"scattermapbox\"}],\"scatterpolar\":[{\"marker\":{\"colorbar\":{\"outlinewidth\":0,\"ticks\":\"\"}},\"type\":\"scatterpolar\"}],\"scatterpolargl\":[{\"marker\":{\"colorbar\":{\"outlinewidth\":0,\"ticks\":\"\"}},\"type\":\"scatterpolargl\"}],\"scatterternary\":[{\"marker\":{\"colorbar\":{\"outlinewidth\":0,\"ticks\":\"\"}},\"type\":\"scatterternary\"}],\"surface\":[{\"colorbar\":{\"outlinewidth\":0,\"ticks\":\"\"},\"colorscale\":[[0.0,\"#0d0887\"],[0.1111111111111111,\"#46039f\"],[0.2222222222222222,\"#7201a8\"],[0.3333333333333333,\"#9c179e\"],[0.4444444444444444,\"#bd3786\"],[0.5555555555555556,\"#d8576b\"],[0.6666666666666666,\"#ed7953\"],[0.7777777777777778,\"#fb9f3a\"],[0.8888888888888888,\"#fdca26\"],[1.0,\"#f0f921\"]],\"type\":\"surface\"}],\"table\":[{\"cells\":{\"fill\":{\"color\":\"#EBF0F8\"},\"line\":{\"color\":\"white\"}},\"header\":{\"fill\":{\"color\":\"#C8D4E3\"},\"line\":{\"color\":\"white\"}},\"type\":\"table\"}]},\"layout\":{\"annotationdefaults\":{\"arrowcolor\":\"#2a3f5f\",\"arrowhead\":0,\"arrowwidth\":1},\"autotypenumbers\":\"strict\",\"coloraxis\":{\"colorbar\":{\"outlinewidth\":0,\"ticks\":\"\"}},\"colorscale\":{\"diverging\":[[0,\"#8e0152\"],[0.1,\"#c51b7d\"],[0.2,\"#de77ae\"],[0.3,\"#f1b6da\"],[0.4,\"#fde0ef\"],[0.5,\"#f7f7f7\"],[0.6,\"#e6f5d0\"],[0.7,\"#b8e186\"],[0.8,\"#7fbc41\"],[0.9,\"#4d9221\"],[1,\"#276419\"]],\"sequential\":[[0.0,\"#0d0887\"],[0.1111111111111111,\"#46039f\"],[0.2222222222222222,\"#7201a8\"],[0.3333333333333333,\"#9c179e\"],[0.4444444444444444,\"#bd3786\"],[0.5555555555555556,\"#d8576b\"],[0.6666666666666666,\"#ed7953\"],[0.7777777777777778,\"#fb9f3a\"],[0.8888888888888888,\"#fdca26\"],[1.0,\"#f0f921\"]],\"sequentialminus\":[[0.0,\"#0d0887\"],[0.1111111111111111,\"#46039f\"],[0.2222222222222222,\"#7201a8\"],[0.3333333333333333,\"#9c179e\"],[0.4444444444444444,\"#bd3786\"],[0.5555555555555556,\"#d8576b\"],[0.6666666666666666,\"#ed7953\"],[0.7777777777777778,\"#fb9f3a\"],[0.8888888888888888,\"#fdca26\"],[1.0,\"#f0f921\"]]},\"colorway\":[\"#636efa\",\"#EF553B\",\"#00cc96\",\"#ab63fa\",\"#FFA15A\",\"#19d3f3\",\"#FF6692\",\"#B6E880\",\"#FF97FF\",\"#FECB52\"],\"font\":{\"color\":\"#2a3f5f\"},\"geo\":{\"bgcolor\":\"white\",\"lakecolor\":\"white\",\"landcolor\":\"#E5ECF6\",\"showlakes\":true,\"showland\":true,\"subunitcolor\":\"white\"},\"hoverlabel\":{\"align\":\"left\"},\"hovermode\":\"closest\",\"mapbox\":{\"style\":\"light\"},\"paper_bgcolor\":\"white\",\"plot_bgcolor\":\"#E5ECF6\",\"polar\":{\"angularaxis\":{\"gridcolor\":\"white\",\"linecolor\":\"white\",\"ticks\":\"\"},\"bgcolor\":\"#E5ECF6\",\"radialaxis\":{\"gridcolor\":\"white\",\"linecolor\":\"white\",\"ticks\":\"\"}},\"scene\":{\"xaxis\":{\"backgroundcolor\":\"#E5ECF6\",\"gridcolor\":\"white\",\"gridwidth\":2,\"linecolor\":\"white\",\"showbackground\":true,\"ticks\":\"\",\"zerolinecolor\":\"white\"},\"yaxis\":{\"backgroundcolor\":\"#E5ECF6\",\"gridcolor\":\"white\",\"gridwidth\":2,\"linecolor\":\"white\",\"showbackground\":true,\"ticks\":\"\",\"zerolinecolor\":\"white\"},\"zaxis\":{\"backgroundcolor\":\"#E5ECF6\",\"gridcolor\":\"white\",\"gridwidth\":2,\"linecolor\":\"white\",\"showbackground\":true,\"ticks\":\"\",\"zerolinecolor\":\"white\"}},\"shapedefaults\":{\"line\":{\"color\":\"#2a3f5f\"}},\"ternary\":{\"aaxis\":{\"gridcolor\":\"white\",\"linecolor\":\"white\",\"ticks\":\"\"},\"baxis\":{\"gridcolor\":\"white\",\"linecolor\":\"white\",\"ticks\":\"\"},\"bgcolor\":\"#E5ECF6\",\"caxis\":{\"gridcolor\":\"white\",\"linecolor\":\"white\",\"ticks\":\"\"}},\"title\":{\"x\":0.05},\"xaxis\":{\"automargin\":true,\"gridcolor\":\"white\",\"linecolor\":\"white\",\"ticks\":\"\",\"title\":{\"standoff\":15},\"zerolinecolor\":\"white\",\"zerolinewidth\":2},\"yaxis\":{\"automargin\":true,\"gridcolor\":\"white\",\"linecolor\":\"white\",\"ticks\":\"\",\"title\":{\"standoff\":15},\"zerolinecolor\":\"white\",\"zerolinewidth\":2}}},\"xaxis\":{\"anchor\":\"y\",\"domain\":[0.0,1.0],\"title\":{\"text\":\"hof\"}},\"yaxis\":{\"anchor\":\"x\",\"domain\":[0.0,1.0],\"title\":{\"text\":\"count\"}},\"legend\":{\"tracegroupgap\":0},\"title\":{\"text\":\"Hall of Fame Counts\"},\"barmode\":\"relative\"},                        {\"responsive\": true}                    ).then(function(){\n                            \nvar gd = document.getElementById('46aa4057-b598-4b92-887d-8a093091e323');\nvar x = new MutationObserver(function (mutations, observer) {{\n        var display = window.getComputedStyle(gd).display;\n        if (!display || display === 'none') {{\n            console.log([gd, 'removed!']);\n            Plotly.purge(gd);\n            observer.disconnect();\n        }}\n}});\n\n// Listen for the removal of the full notebook cells\nvar notebookContainer = gd.closest('#notebook-container');\nif (notebookContainer) {{\n    x.observe(notebookContainer, {childList: true});\n}}\n\n// Listen for the clearing of the current output cell\nvar outputEl = gd.closest('.output');\nif (outputEl) {{\n    x.observe(outputEl, {childList: true});\n}}\n\n                        })                };                            </script>        </div>\n</body>\n</html>"
     },
     "execution_count": 24,
     "metadata": {
     },
     "output_type": "execute_result"
    }
   ],
   "source": [
    "by_tenure = by_player_eligible.sort_values(by = 'years_service')\n",
    "fig = px.histogram(by_tenure, x = 'hof', title = \"Hall of Fame Counts\")\n",
    "fig.write_html(\"hof_counts.html\")\n",
    "fig.show()"
   ]
  },
  {
   "cell_type": "code",
   "execution_count": 25,
   "metadata": {
    "collapsed": false
   },
   "outputs": [
    {
     "data": {
      "text/html": "<html>\n<head><meta charset=\"utf-8\" /></head>\n<body>\n    <div>            <script src=\"https://cdnjs.cloudflare.com/ajax/libs/mathjax/2.7.5/MathJax.js?config=TeX-AMS-MML_SVG\"></script><script type=\"text/javascript\">if (window.MathJax) {MathJax.Hub.Config({SVG: {font: \"STIX-Web\"}});}</script>                <script type=\"text/javascript\">window.PlotlyConfig = {MathJaxConfig: 'local'};</script>\n        <script src=\"https://cdn.plot.ly/plotly-2.9.0.min.js\"></script>                <div id=\"903a18f5-249c-4b92-a5cd-26b971c6dcf1\" class=\"plotly-graph-div\" style=\"height:525px; width:100%;\"></div>            <script type=\"text/javascript\">                                    window.PLOTLYENV=window.PLOTLYENV || {};                                    if (document.getElementById(\"903a18f5-249c-4b92-a5cd-26b971c6dcf1\")) {                    Plotly.newPlot(                        \"903a18f5-249c-4b92-a5cd-26b971c6dcf1\",                        [{\"labels\":[\"Hall Of Famer\",\"Not Hall of Famer\"],\"pull\":[0.2,0],\"values\":[162,2100],\"type\":\"pie\"}],                        {\"template\":{\"data\":{\"bar\":[{\"error_x\":{\"color\":\"#2a3f5f\"},\"error_y\":{\"color\":\"#2a3f5f\"},\"marker\":{\"line\":{\"color\":\"#E5ECF6\",\"width\":0.5},\"pattern\":{\"fillmode\":\"overlay\",\"size\":10,\"solidity\":0.2}},\"type\":\"bar\"}],\"barpolar\":[{\"marker\":{\"line\":{\"color\":\"#E5ECF6\",\"width\":0.5},\"pattern\":{\"fillmode\":\"overlay\",\"size\":10,\"solidity\":0.2}},\"type\":\"barpolar\"}],\"carpet\":[{\"aaxis\":{\"endlinecolor\":\"#2a3f5f\",\"gridcolor\":\"white\",\"linecolor\":\"white\",\"minorgridcolor\":\"white\",\"startlinecolor\":\"#2a3f5f\"},\"baxis\":{\"endlinecolor\":\"#2a3f5f\",\"gridcolor\":\"white\",\"linecolor\":\"white\",\"minorgridcolor\":\"white\",\"startlinecolor\":\"#2a3f5f\"},\"type\":\"carpet\"}],\"choropleth\":[{\"colorbar\":{\"outlinewidth\":0,\"ticks\":\"\"},\"type\":\"choropleth\"}],\"contour\":[{\"colorbar\":{\"outlinewidth\":0,\"ticks\":\"\"},\"colorscale\":[[0.0,\"#0d0887\"],[0.1111111111111111,\"#46039f\"],[0.2222222222222222,\"#7201a8\"],[0.3333333333333333,\"#9c179e\"],[0.4444444444444444,\"#bd3786\"],[0.5555555555555556,\"#d8576b\"],[0.6666666666666666,\"#ed7953\"],[0.7777777777777778,\"#fb9f3a\"],[0.8888888888888888,\"#fdca26\"],[1.0,\"#f0f921\"]],\"type\":\"contour\"}],\"contourcarpet\":[{\"colorbar\":{\"outlinewidth\":0,\"ticks\":\"\"},\"type\":\"contourcarpet\"}],\"heatmap\":[{\"colorbar\":{\"outlinewidth\":0,\"ticks\":\"\"},\"colorscale\":[[0.0,\"#0d0887\"],[0.1111111111111111,\"#46039f\"],[0.2222222222222222,\"#7201a8\"],[0.3333333333333333,\"#9c179e\"],[0.4444444444444444,\"#bd3786\"],[0.5555555555555556,\"#d8576b\"],[0.6666666666666666,\"#ed7953\"],[0.7777777777777778,\"#fb9f3a\"],[0.8888888888888888,\"#fdca26\"],[1.0,\"#f0f921\"]],\"type\":\"heatmap\"}],\"heatmapgl\":[{\"colorbar\":{\"outlinewidth\":0,\"ticks\":\"\"},\"colorscale\":[[0.0,\"#0d0887\"],[0.1111111111111111,\"#46039f\"],[0.2222222222222222,\"#7201a8\"],[0.3333333333333333,\"#9c179e\"],[0.4444444444444444,\"#bd3786\"],[0.5555555555555556,\"#d8576b\"],[0.6666666666666666,\"#ed7953\"],[0.7777777777777778,\"#fb9f3a\"],[0.8888888888888888,\"#fdca26\"],[1.0,\"#f0f921\"]],\"type\":\"heatmapgl\"}],\"histogram\":[{\"marker\":{\"pattern\":{\"fillmode\":\"overlay\",\"size\":10,\"solidity\":0.2}},\"type\":\"histogram\"}],\"histogram2d\":[{\"colorbar\":{\"outlinewidth\":0,\"ticks\":\"\"},\"colorscale\":[[0.0,\"#0d0887\"],[0.1111111111111111,\"#46039f\"],[0.2222222222222222,\"#7201a8\"],[0.3333333333333333,\"#9c179e\"],[0.4444444444444444,\"#bd3786\"],[0.5555555555555556,\"#d8576b\"],[0.6666666666666666,\"#ed7953\"],[0.7777777777777778,\"#fb9f3a\"],[0.8888888888888888,\"#fdca26\"],[1.0,\"#f0f921\"]],\"type\":\"histogram2d\"}],\"histogram2dcontour\":[{\"colorbar\":{\"outlinewidth\":0,\"ticks\":\"\"},\"colorscale\":[[0.0,\"#0d0887\"],[0.1111111111111111,\"#46039f\"],[0.2222222222222222,\"#7201a8\"],[0.3333333333333333,\"#9c179e\"],[0.4444444444444444,\"#bd3786\"],[0.5555555555555556,\"#d8576b\"],[0.6666666666666666,\"#ed7953\"],[0.7777777777777778,\"#fb9f3a\"],[0.8888888888888888,\"#fdca26\"],[1.0,\"#f0f921\"]],\"type\":\"histogram2dcontour\"}],\"mesh3d\":[{\"colorbar\":{\"outlinewidth\":0,\"ticks\":\"\"},\"type\":\"mesh3d\"}],\"parcoords\":[{\"line\":{\"colorbar\":{\"outlinewidth\":0,\"ticks\":\"\"}},\"type\":\"parcoords\"}],\"pie\":[{\"automargin\":true,\"type\":\"pie\"}],\"scatter\":[{\"marker\":{\"colorbar\":{\"outlinewidth\":0,\"ticks\":\"\"}},\"type\":\"scatter\"}],\"scatter3d\":[{\"line\":{\"colorbar\":{\"outlinewidth\":0,\"ticks\":\"\"}},\"marker\":{\"colorbar\":{\"outlinewidth\":0,\"ticks\":\"\"}},\"type\":\"scatter3d\"}],\"scattercarpet\":[{\"marker\":{\"colorbar\":{\"outlinewidth\":0,\"ticks\":\"\"}},\"type\":\"scattercarpet\"}],\"scattergeo\":[{\"marker\":{\"colorbar\":{\"outlinewidth\":0,\"ticks\":\"\"}},\"type\":\"scattergeo\"}],\"scattergl\":[{\"marker\":{\"colorbar\":{\"outlinewidth\":0,\"ticks\":\"\"}},\"type\":\"scattergl\"}],\"scattermapbox\":[{\"marker\":{\"colorbar\":{\"outlinewidth\":0,\"ticks\":\"\"}},\"type\":\"scattermapbox\"}],\"scatterpolar\":[{\"marker\":{\"colorbar\":{\"outlinewidth\":0,\"ticks\":\"\"}},\"type\":\"scatterpolar\"}],\"scatterpolargl\":[{\"marker\":{\"colorbar\":{\"outlinewidth\":0,\"ticks\":\"\"}},\"type\":\"scatterpolargl\"}],\"scatterternary\":[{\"marker\":{\"colorbar\":{\"outlinewidth\":0,\"ticks\":\"\"}},\"type\":\"scatterternary\"}],\"surface\":[{\"colorbar\":{\"outlinewidth\":0,\"ticks\":\"\"},\"colorscale\":[[0.0,\"#0d0887\"],[0.1111111111111111,\"#46039f\"],[0.2222222222222222,\"#7201a8\"],[0.3333333333333333,\"#9c179e\"],[0.4444444444444444,\"#bd3786\"],[0.5555555555555556,\"#d8576b\"],[0.6666666666666666,\"#ed7953\"],[0.7777777777777778,\"#fb9f3a\"],[0.8888888888888888,\"#fdca26\"],[1.0,\"#f0f921\"]],\"type\":\"surface\"}],\"table\":[{\"cells\":{\"fill\":{\"color\":\"#EBF0F8\"},\"line\":{\"color\":\"white\"}},\"header\":{\"fill\":{\"color\":\"#C8D4E3\"},\"line\":{\"color\":\"white\"}},\"type\":\"table\"}]},\"layout\":{\"annotationdefaults\":{\"arrowcolor\":\"#2a3f5f\",\"arrowhead\":0,\"arrowwidth\":1},\"autotypenumbers\":\"strict\",\"coloraxis\":{\"colorbar\":{\"outlinewidth\":0,\"ticks\":\"\"}},\"colorscale\":{\"diverging\":[[0,\"#8e0152\"],[0.1,\"#c51b7d\"],[0.2,\"#de77ae\"],[0.3,\"#f1b6da\"],[0.4,\"#fde0ef\"],[0.5,\"#f7f7f7\"],[0.6,\"#e6f5d0\"],[0.7,\"#b8e186\"],[0.8,\"#7fbc41\"],[0.9,\"#4d9221\"],[1,\"#276419\"]],\"sequential\":[[0.0,\"#0d0887\"],[0.1111111111111111,\"#46039f\"],[0.2222222222222222,\"#7201a8\"],[0.3333333333333333,\"#9c179e\"],[0.4444444444444444,\"#bd3786\"],[0.5555555555555556,\"#d8576b\"],[0.6666666666666666,\"#ed7953\"],[0.7777777777777778,\"#fb9f3a\"],[0.8888888888888888,\"#fdca26\"],[1.0,\"#f0f921\"]],\"sequentialminus\":[[0.0,\"#0d0887\"],[0.1111111111111111,\"#46039f\"],[0.2222222222222222,\"#7201a8\"],[0.3333333333333333,\"#9c179e\"],[0.4444444444444444,\"#bd3786\"],[0.5555555555555556,\"#d8576b\"],[0.6666666666666666,\"#ed7953\"],[0.7777777777777778,\"#fb9f3a\"],[0.8888888888888888,\"#fdca26\"],[1.0,\"#f0f921\"]]},\"colorway\":[\"#636efa\",\"#EF553B\",\"#00cc96\",\"#ab63fa\",\"#FFA15A\",\"#19d3f3\",\"#FF6692\",\"#B6E880\",\"#FF97FF\",\"#FECB52\"],\"font\":{\"color\":\"#2a3f5f\"},\"geo\":{\"bgcolor\":\"white\",\"lakecolor\":\"white\",\"landcolor\":\"#E5ECF6\",\"showlakes\":true,\"showland\":true,\"subunitcolor\":\"white\"},\"hoverlabel\":{\"align\":\"left\"},\"hovermode\":\"closest\",\"mapbox\":{\"style\":\"light\"},\"paper_bgcolor\":\"white\",\"plot_bgcolor\":\"#E5ECF6\",\"polar\":{\"angularaxis\":{\"gridcolor\":\"white\",\"linecolor\":\"white\",\"ticks\":\"\"},\"bgcolor\":\"#E5ECF6\",\"radialaxis\":{\"gridcolor\":\"white\",\"linecolor\":\"white\",\"ticks\":\"\"}},\"scene\":{\"xaxis\":{\"backgroundcolor\":\"#E5ECF6\",\"gridcolor\":\"white\",\"gridwidth\":2,\"linecolor\":\"white\",\"showbackground\":true,\"ticks\":\"\",\"zerolinecolor\":\"white\"},\"yaxis\":{\"backgroundcolor\":\"#E5ECF6\",\"gridcolor\":\"white\",\"gridwidth\":2,\"linecolor\":\"white\",\"showbackground\":true,\"ticks\":\"\",\"zerolinecolor\":\"white\"},\"zaxis\":{\"backgroundcolor\":\"#E5ECF6\",\"gridcolor\":\"white\",\"gridwidth\":2,\"linecolor\":\"white\",\"showbackground\":true,\"ticks\":\"\",\"zerolinecolor\":\"white\"}},\"shapedefaults\":{\"line\":{\"color\":\"#2a3f5f\"}},\"ternary\":{\"aaxis\":{\"gridcolor\":\"white\",\"linecolor\":\"white\",\"ticks\":\"\"},\"baxis\":{\"gridcolor\":\"white\",\"linecolor\":\"white\",\"ticks\":\"\"},\"bgcolor\":\"#E5ECF6\",\"caxis\":{\"gridcolor\":\"white\",\"linecolor\":\"white\",\"ticks\":\"\"}},\"title\":{\"x\":0.05},\"xaxis\":{\"automargin\":true,\"gridcolor\":\"white\",\"linecolor\":\"white\",\"ticks\":\"\",\"title\":{\"standoff\":15},\"zerolinecolor\":\"white\",\"zerolinewidth\":2},\"yaxis\":{\"automargin\":true,\"gridcolor\":\"white\",\"linecolor\":\"white\",\"ticks\":\"\",\"title\":{\"standoff\":15},\"zerolinecolor\":\"white\",\"zerolinewidth\":2}}}},                        {\"responsive\": true}                    ).then(function(){\n                            \nvar gd = document.getElementById('903a18f5-249c-4b92-a5cd-26b971c6dcf1');\nvar x = new MutationObserver(function (mutations, observer) {{\n        var display = window.getComputedStyle(gd).display;\n        if (!display || display === 'none') {{\n            console.log([gd, 'removed!']);\n            Plotly.purge(gd);\n            observer.disconnect();\n        }}\n}});\n\n// Listen for the removal of the full notebook cells\nvar notebookContainer = gd.closest('#notebook-container');\nif (notebookContainer) {{\n    x.observe(notebookContainer, {childList: true});\n}}\n\n// Listen for the clearing of the current output cell\nvar outputEl = gd.closest('.output');\nif (outputEl) {{\n    x.observe(outputEl, {childList: true});\n}}\n\n                        })                };                            </script>        </div>\n</body>\n</html>"
     },
     "execution_count": 25,
     "metadata": {
     },
     "output_type": "execute_result"
    }
   ],
   "source": [
    "is_hof = by_tenure[by_tenure['hof'] == True]\n",
    "is_not = by_tenure[by_tenure['hof'] == False]\n",
    "\n",
    "\n",
    "labels = ['Hall Of Famer', 'Not Hall of Famer']\n",
    "values = [is_hof.shape[0], is_not.shape[0]]\n",
    "\n",
    "# pull is given as a fraction of the pie radius\n",
    "fig = go.Figure(data=[go.Pie(labels=labels, values=values, pull=[0.2, 0])])\n",
    "fig.write_html(\"hof_pie.html\")\n",
    "fig.show()"
   ]
  },
  {
   "cell_type": "code",
   "execution_count": 26,
   "metadata": {
    "collapsed": false
   },
   "outputs": [
   ],
   "source": [
    "is_hof = by_tenure[by_tenure['hof'] == True]\n",
    "is_not = by_tenure[by_tenure['hof'] == False]"
   ]
  },
  {
   "cell_type": "code",
   "execution_count": 27,
   "metadata": {
    "collapsed": false
   },
   "outputs": [
   ],
   "source": [
    "counts_hof = is_hof['years_service'].value_counts().sort_index()\n",
    "counts_not = is_not['years_service'].value_counts().sort_index()"
   ]
  },
  {
   "cell_type": "code",
   "execution_count": 28,
   "metadata": {
    "collapsed": false
   },
   "outputs": [
    {
     "data": {
      "text/html": "<html>\n<head><meta charset=\"utf-8\" /></head>\n<body>\n    <div>            <script src=\"https://cdnjs.cloudflare.com/ajax/libs/mathjax/2.7.5/MathJax.js?config=TeX-AMS-MML_SVG\"></script><script type=\"text/javascript\">if (window.MathJax) {MathJax.Hub.Config({SVG: {font: \"STIX-Web\"}});}</script>                <script type=\"text/javascript\">window.PlotlyConfig = {MathJaxConfig: 'local'};</script>\n        <script src=\"https://cdn.plot.ly/plotly-2.9.0.min.js\"></script>                <div id=\"86f5b689-41e9-42ab-a62f-3f3dd9eb3b68\" class=\"plotly-graph-div\" style=\"height:525px; width:100%;\"></div>            <script type=\"text/javascript\">                                    window.PLOTLYENV=window.PLOTLYENV || {};                                    if (document.getElementById(\"86f5b689-41e9-42ab-a62f-3f3dd9eb3b68\")) {                    Plotly.newPlot(                        \"86f5b689-41e9-42ab-a62f-3f3dd9eb3b68\",                        [{\"labels\":[10,11,12,13,14,15,16,17,18,19,20,21,22,23,24,25,27,29],\"sort\":false,\"title\":{\"text\":\"Years Played by Hall of Famers\"},\"values\":[3,3,5,12,9,10,9,13,17,23,14,15,9,12,3,3,1,1],\"type\":\"pie\",\"textposition\":\"inside\"}],                        {\"template\":{\"data\":{\"bar\":[{\"error_x\":{\"color\":\"#2a3f5f\"},\"error_y\":{\"color\":\"#2a3f5f\"},\"marker\":{\"line\":{\"color\":\"#E5ECF6\",\"width\":0.5},\"pattern\":{\"fillmode\":\"overlay\",\"size\":10,\"solidity\":0.2}},\"type\":\"bar\"}],\"barpolar\":[{\"marker\":{\"line\":{\"color\":\"#E5ECF6\",\"width\":0.5},\"pattern\":{\"fillmode\":\"overlay\",\"size\":10,\"solidity\":0.2}},\"type\":\"barpolar\"}],\"carpet\":[{\"aaxis\":{\"endlinecolor\":\"#2a3f5f\",\"gridcolor\":\"white\",\"linecolor\":\"white\",\"minorgridcolor\":\"white\",\"startlinecolor\":\"#2a3f5f\"},\"baxis\":{\"endlinecolor\":\"#2a3f5f\",\"gridcolor\":\"white\",\"linecolor\":\"white\",\"minorgridcolor\":\"white\",\"startlinecolor\":\"#2a3f5f\"},\"type\":\"carpet\"}],\"choropleth\":[{\"colorbar\":{\"outlinewidth\":0,\"ticks\":\"\"},\"type\":\"choropleth\"}],\"contour\":[{\"colorbar\":{\"outlinewidth\":0,\"ticks\":\"\"},\"colorscale\":[[0.0,\"#0d0887\"],[0.1111111111111111,\"#46039f\"],[0.2222222222222222,\"#7201a8\"],[0.3333333333333333,\"#9c179e\"],[0.4444444444444444,\"#bd3786\"],[0.5555555555555556,\"#d8576b\"],[0.6666666666666666,\"#ed7953\"],[0.7777777777777778,\"#fb9f3a\"],[0.8888888888888888,\"#fdca26\"],[1.0,\"#f0f921\"]],\"type\":\"contour\"}],\"contourcarpet\":[{\"colorbar\":{\"outlinewidth\":0,\"ticks\":\"\"},\"type\":\"contourcarpet\"}],\"heatmap\":[{\"colorbar\":{\"outlinewidth\":0,\"ticks\":\"\"},\"colorscale\":[[0.0,\"#0d0887\"],[0.1111111111111111,\"#46039f\"],[0.2222222222222222,\"#7201a8\"],[0.3333333333333333,\"#9c179e\"],[0.4444444444444444,\"#bd3786\"],[0.5555555555555556,\"#d8576b\"],[0.6666666666666666,\"#ed7953\"],[0.7777777777777778,\"#fb9f3a\"],[0.8888888888888888,\"#fdca26\"],[1.0,\"#f0f921\"]],\"type\":\"heatmap\"}],\"heatmapgl\":[{\"colorbar\":{\"outlinewidth\":0,\"ticks\":\"\"},\"colorscale\":[[0.0,\"#0d0887\"],[0.1111111111111111,\"#46039f\"],[0.2222222222222222,\"#7201a8\"],[0.3333333333333333,\"#9c179e\"],[0.4444444444444444,\"#bd3786\"],[0.5555555555555556,\"#d8576b\"],[0.6666666666666666,\"#ed7953\"],[0.7777777777777778,\"#fb9f3a\"],[0.8888888888888888,\"#fdca26\"],[1.0,\"#f0f921\"]],\"type\":\"heatmapgl\"}],\"histogram\":[{\"marker\":{\"pattern\":{\"fillmode\":\"overlay\",\"size\":10,\"solidity\":0.2}},\"type\":\"histogram\"}],\"histogram2d\":[{\"colorbar\":{\"outlinewidth\":0,\"ticks\":\"\"},\"colorscale\":[[0.0,\"#0d0887\"],[0.1111111111111111,\"#46039f\"],[0.2222222222222222,\"#7201a8\"],[0.3333333333333333,\"#9c179e\"],[0.4444444444444444,\"#bd3786\"],[0.5555555555555556,\"#d8576b\"],[0.6666666666666666,\"#ed7953\"],[0.7777777777777778,\"#fb9f3a\"],[0.8888888888888888,\"#fdca26\"],[1.0,\"#f0f921\"]],\"type\":\"histogram2d\"}],\"histogram2dcontour\":[{\"colorbar\":{\"outlinewidth\":0,\"ticks\":\"\"},\"colorscale\":[[0.0,\"#0d0887\"],[0.1111111111111111,\"#46039f\"],[0.2222222222222222,\"#7201a8\"],[0.3333333333333333,\"#9c179e\"],[0.4444444444444444,\"#bd3786\"],[0.5555555555555556,\"#d8576b\"],[0.6666666666666666,\"#ed7953\"],[0.7777777777777778,\"#fb9f3a\"],[0.8888888888888888,\"#fdca26\"],[1.0,\"#f0f921\"]],\"type\":\"histogram2dcontour\"}],\"mesh3d\":[{\"colorbar\":{\"outlinewidth\":0,\"ticks\":\"\"},\"type\":\"mesh3d\"}],\"parcoords\":[{\"line\":{\"colorbar\":{\"outlinewidth\":0,\"ticks\":\"\"}},\"type\":\"parcoords\"}],\"pie\":[{\"automargin\":true,\"type\":\"pie\"}],\"scatter\":[{\"marker\":{\"colorbar\":{\"outlinewidth\":0,\"ticks\":\"\"}},\"type\":\"scatter\"}],\"scatter3d\":[{\"line\":{\"colorbar\":{\"outlinewidth\":0,\"ticks\":\"\"}},\"marker\":{\"colorbar\":{\"outlinewidth\":0,\"ticks\":\"\"}},\"type\":\"scatter3d\"}],\"scattercarpet\":[{\"marker\":{\"colorbar\":{\"outlinewidth\":0,\"ticks\":\"\"}},\"type\":\"scattercarpet\"}],\"scattergeo\":[{\"marker\":{\"colorbar\":{\"outlinewidth\":0,\"ticks\":\"\"}},\"type\":\"scattergeo\"}],\"scattergl\":[{\"marker\":{\"colorbar\":{\"outlinewidth\":0,\"ticks\":\"\"}},\"type\":\"scattergl\"}],\"scattermapbox\":[{\"marker\":{\"colorbar\":{\"outlinewidth\":0,\"ticks\":\"\"}},\"type\":\"scattermapbox\"}],\"scatterpolar\":[{\"marker\":{\"colorbar\":{\"outlinewidth\":0,\"ticks\":\"\"}},\"type\":\"scatterpolar\"}],\"scatterpolargl\":[{\"marker\":{\"colorbar\":{\"outlinewidth\":0,\"ticks\":\"\"}},\"type\":\"scatterpolargl\"}],\"scatterternary\":[{\"marker\":{\"colorbar\":{\"outlinewidth\":0,\"ticks\":\"\"}},\"type\":\"scatterternary\"}],\"surface\":[{\"colorbar\":{\"outlinewidth\":0,\"ticks\":\"\"},\"colorscale\":[[0.0,\"#0d0887\"],[0.1111111111111111,\"#46039f\"],[0.2222222222222222,\"#7201a8\"],[0.3333333333333333,\"#9c179e\"],[0.4444444444444444,\"#bd3786\"],[0.5555555555555556,\"#d8576b\"],[0.6666666666666666,\"#ed7953\"],[0.7777777777777778,\"#fb9f3a\"],[0.8888888888888888,\"#fdca26\"],[1.0,\"#f0f921\"]],\"type\":\"surface\"}],\"table\":[{\"cells\":{\"fill\":{\"color\":\"#EBF0F8\"},\"line\":{\"color\":\"white\"}},\"header\":{\"fill\":{\"color\":\"#C8D4E3\"},\"line\":{\"color\":\"white\"}},\"type\":\"table\"}]},\"layout\":{\"annotationdefaults\":{\"arrowcolor\":\"#2a3f5f\",\"arrowhead\":0,\"arrowwidth\":1},\"autotypenumbers\":\"strict\",\"coloraxis\":{\"colorbar\":{\"outlinewidth\":0,\"ticks\":\"\"}},\"colorscale\":{\"diverging\":[[0,\"#8e0152\"],[0.1,\"#c51b7d\"],[0.2,\"#de77ae\"],[0.3,\"#f1b6da\"],[0.4,\"#fde0ef\"],[0.5,\"#f7f7f7\"],[0.6,\"#e6f5d0\"],[0.7,\"#b8e186\"],[0.8,\"#7fbc41\"],[0.9,\"#4d9221\"],[1,\"#276419\"]],\"sequential\":[[0.0,\"#0d0887\"],[0.1111111111111111,\"#46039f\"],[0.2222222222222222,\"#7201a8\"],[0.3333333333333333,\"#9c179e\"],[0.4444444444444444,\"#bd3786\"],[0.5555555555555556,\"#d8576b\"],[0.6666666666666666,\"#ed7953\"],[0.7777777777777778,\"#fb9f3a\"],[0.8888888888888888,\"#fdca26\"],[1.0,\"#f0f921\"]],\"sequentialminus\":[[0.0,\"#0d0887\"],[0.1111111111111111,\"#46039f\"],[0.2222222222222222,\"#7201a8\"],[0.3333333333333333,\"#9c179e\"],[0.4444444444444444,\"#bd3786\"],[0.5555555555555556,\"#d8576b\"],[0.6666666666666666,\"#ed7953\"],[0.7777777777777778,\"#fb9f3a\"],[0.8888888888888888,\"#fdca26\"],[1.0,\"#f0f921\"]]},\"colorway\":[\"#636efa\",\"#EF553B\",\"#00cc96\",\"#ab63fa\",\"#FFA15A\",\"#19d3f3\",\"#FF6692\",\"#B6E880\",\"#FF97FF\",\"#FECB52\"],\"font\":{\"color\":\"#2a3f5f\"},\"geo\":{\"bgcolor\":\"white\",\"lakecolor\":\"white\",\"landcolor\":\"#E5ECF6\",\"showlakes\":true,\"showland\":true,\"subunitcolor\":\"white\"},\"hoverlabel\":{\"align\":\"left\"},\"hovermode\":\"closest\",\"mapbox\":{\"style\":\"light\"},\"paper_bgcolor\":\"white\",\"plot_bgcolor\":\"#E5ECF6\",\"polar\":{\"angularaxis\":{\"gridcolor\":\"white\",\"linecolor\":\"white\",\"ticks\":\"\"},\"bgcolor\":\"#E5ECF6\",\"radialaxis\":{\"gridcolor\":\"white\",\"linecolor\":\"white\",\"ticks\":\"\"}},\"scene\":{\"xaxis\":{\"backgroundcolor\":\"#E5ECF6\",\"gridcolor\":\"white\",\"gridwidth\":2,\"linecolor\":\"white\",\"showbackground\":true,\"ticks\":\"\",\"zerolinecolor\":\"white\"},\"yaxis\":{\"backgroundcolor\":\"#E5ECF6\",\"gridcolor\":\"white\",\"gridwidth\":2,\"linecolor\":\"white\",\"showbackground\":true,\"ticks\":\"\",\"zerolinecolor\":\"white\"},\"zaxis\":{\"backgroundcolor\":\"#E5ECF6\",\"gridcolor\":\"white\",\"gridwidth\":2,\"linecolor\":\"white\",\"showbackground\":true,\"ticks\":\"\",\"zerolinecolor\":\"white\"}},\"shapedefaults\":{\"line\":{\"color\":\"#2a3f5f\"}},\"ternary\":{\"aaxis\":{\"gridcolor\":\"white\",\"linecolor\":\"white\",\"ticks\":\"\"},\"baxis\":{\"gridcolor\":\"white\",\"linecolor\":\"white\",\"ticks\":\"\"},\"bgcolor\":\"#E5ECF6\",\"caxis\":{\"gridcolor\":\"white\",\"linecolor\":\"white\",\"ticks\":\"\"}},\"title\":{\"x\":0.05},\"xaxis\":{\"automargin\":true,\"gridcolor\":\"white\",\"linecolor\":\"white\",\"ticks\":\"\",\"title\":{\"standoff\":15},\"zerolinecolor\":\"white\",\"zerolinewidth\":2},\"yaxis\":{\"automargin\":true,\"gridcolor\":\"white\",\"linecolor\":\"white\",\"ticks\":\"\",\"title\":{\"standoff\":15},\"zerolinecolor\":\"white\",\"zerolinewidth\":2}}},\"uniformtext\":{\"minsize\":12,\"mode\":\"hide\"}},                        {\"responsive\": true}                    ).then(function(){\n                            \nvar gd = document.getElementById('86f5b689-41e9-42ab-a62f-3f3dd9eb3b68');\nvar x = new MutationObserver(function (mutations, observer) {{\n        var display = window.getComputedStyle(gd).display;\n        if (!display || display === 'none') {{\n            console.log([gd, 'removed!']);\n            Plotly.purge(gd);\n            observer.disconnect();\n        }}\n}});\n\n// Listen for the removal of the full notebook cells\nvar notebookContainer = gd.closest('#notebook-container');\nif (notebookContainer) {{\n    x.observe(notebookContainer, {childList: true});\n}}\n\n// Listen for the clearing of the current output cell\nvar outputEl = gd.closest('.output');\nif (outputEl) {{\n    x.observe(outputEl, {childList: true});\n}}\n\n                        })                };                            </script>        </div>\n</body>\n</html>"
     },
     "execution_count": 28,
     "metadata": {
     },
     "output_type": "execute_result"
    }
   ],
   "source": [
    "labels = counts_hof.index\n",
    "values = counts_hof.values\n",
    "\n",
    "fig = go.Figure(data=[go.Pie(labels=labels, values=values, sort = False, title = \"Years Played by Hall of Famers\")])\n",
    "fig.update_traces(textposition='inside')\n",
    "fig.update_layout(uniformtext_minsize=12, uniformtext_mode='hide')\n",
    "fig.write_html(\"hof_pie_years.html\")\n",
    "fig.show()"
   ]
  },
  {
   "cell_type": "code",
   "execution_count": 29,
   "metadata": {
    "collapsed": false
   },
   "outputs": [
    {
     "data": {
      "text/html": "<html>\n<head><meta charset=\"utf-8\" /></head>\n<body>\n    <div>            <script src=\"https://cdnjs.cloudflare.com/ajax/libs/mathjax/2.7.5/MathJax.js?config=TeX-AMS-MML_SVG\"></script><script type=\"text/javascript\">if (window.MathJax) {MathJax.Hub.Config({SVG: {font: \"STIX-Web\"}});}</script>                <script type=\"text/javascript\">window.PlotlyConfig = {MathJaxConfig: 'local'};</script>\n        <script src=\"https://cdn.plot.ly/plotly-2.9.0.min.js\"></script>                <div id=\"282ac92f-52ac-4f97-a34c-264e594fff9c\" class=\"plotly-graph-div\" style=\"height:525px; width:100%;\"></div>            <script type=\"text/javascript\">                                    window.PLOTLYENV=window.PLOTLYENV || {};                                    if (document.getElementById(\"282ac92f-52ac-4f97-a34c-264e594fff9c\")) {                    Plotly.newPlot(                        \"282ac92f-52ac-4f97-a34c-264e594fff9c\",                        [{\"labels\":[10,11,12,13,14,15,16,17,18,19,20,21,22,23,24,25,27,31],\"sort\":false,\"title\":{\"text\":\"Years Played by Non Hall of Famers\"},\"values\":[361,267,296,243,216,185,155,117,92,58,49,23,16,8,7,5,1,1],\"type\":\"pie\",\"textposition\":\"inside\"}],                        {\"template\":{\"data\":{\"bar\":[{\"error_x\":{\"color\":\"#2a3f5f\"},\"error_y\":{\"color\":\"#2a3f5f\"},\"marker\":{\"line\":{\"color\":\"#E5ECF6\",\"width\":0.5},\"pattern\":{\"fillmode\":\"overlay\",\"size\":10,\"solidity\":0.2}},\"type\":\"bar\"}],\"barpolar\":[{\"marker\":{\"line\":{\"color\":\"#E5ECF6\",\"width\":0.5},\"pattern\":{\"fillmode\":\"overlay\",\"size\":10,\"solidity\":0.2}},\"type\":\"barpolar\"}],\"carpet\":[{\"aaxis\":{\"endlinecolor\":\"#2a3f5f\",\"gridcolor\":\"white\",\"linecolor\":\"white\",\"minorgridcolor\":\"white\",\"startlinecolor\":\"#2a3f5f\"},\"baxis\":{\"endlinecolor\":\"#2a3f5f\",\"gridcolor\":\"white\",\"linecolor\":\"white\",\"minorgridcolor\":\"white\",\"startlinecolor\":\"#2a3f5f\"},\"type\":\"carpet\"}],\"choropleth\":[{\"colorbar\":{\"outlinewidth\":0,\"ticks\":\"\"},\"type\":\"choropleth\"}],\"contour\":[{\"colorbar\":{\"outlinewidth\":0,\"ticks\":\"\"},\"colorscale\":[[0.0,\"#0d0887\"],[0.1111111111111111,\"#46039f\"],[0.2222222222222222,\"#7201a8\"],[0.3333333333333333,\"#9c179e\"],[0.4444444444444444,\"#bd3786\"],[0.5555555555555556,\"#d8576b\"],[0.6666666666666666,\"#ed7953\"],[0.7777777777777778,\"#fb9f3a\"],[0.8888888888888888,\"#fdca26\"],[1.0,\"#f0f921\"]],\"type\":\"contour\"}],\"contourcarpet\":[{\"colorbar\":{\"outlinewidth\":0,\"ticks\":\"\"},\"type\":\"contourcarpet\"}],\"heatmap\":[{\"colorbar\":{\"outlinewidth\":0,\"ticks\":\"\"},\"colorscale\":[[0.0,\"#0d0887\"],[0.1111111111111111,\"#46039f\"],[0.2222222222222222,\"#7201a8\"],[0.3333333333333333,\"#9c179e\"],[0.4444444444444444,\"#bd3786\"],[0.5555555555555556,\"#d8576b\"],[0.6666666666666666,\"#ed7953\"],[0.7777777777777778,\"#fb9f3a\"],[0.8888888888888888,\"#fdca26\"],[1.0,\"#f0f921\"]],\"type\":\"heatmap\"}],\"heatmapgl\":[{\"colorbar\":{\"outlinewidth\":0,\"ticks\":\"\"},\"colorscale\":[[0.0,\"#0d0887\"],[0.1111111111111111,\"#46039f\"],[0.2222222222222222,\"#7201a8\"],[0.3333333333333333,\"#9c179e\"],[0.4444444444444444,\"#bd3786\"],[0.5555555555555556,\"#d8576b\"],[0.6666666666666666,\"#ed7953\"],[0.7777777777777778,\"#fb9f3a\"],[0.8888888888888888,\"#fdca26\"],[1.0,\"#f0f921\"]],\"type\":\"heatmapgl\"}],\"histogram\":[{\"marker\":{\"pattern\":{\"fillmode\":\"overlay\",\"size\":10,\"solidity\":0.2}},\"type\":\"histogram\"}],\"histogram2d\":[{\"colorbar\":{\"outlinewidth\":0,\"ticks\":\"\"},\"colorscale\":[[0.0,\"#0d0887\"],[0.1111111111111111,\"#46039f\"],[0.2222222222222222,\"#7201a8\"],[0.3333333333333333,\"#9c179e\"],[0.4444444444444444,\"#bd3786\"],[0.5555555555555556,\"#d8576b\"],[0.6666666666666666,\"#ed7953\"],[0.7777777777777778,\"#fb9f3a\"],[0.8888888888888888,\"#fdca26\"],[1.0,\"#f0f921\"]],\"type\":\"histogram2d\"}],\"histogram2dcontour\":[{\"colorbar\":{\"outlinewidth\":0,\"ticks\":\"\"},\"colorscale\":[[0.0,\"#0d0887\"],[0.1111111111111111,\"#46039f\"],[0.2222222222222222,\"#7201a8\"],[0.3333333333333333,\"#9c179e\"],[0.4444444444444444,\"#bd3786\"],[0.5555555555555556,\"#d8576b\"],[0.6666666666666666,\"#ed7953\"],[0.7777777777777778,\"#fb9f3a\"],[0.8888888888888888,\"#fdca26\"],[1.0,\"#f0f921\"]],\"type\":\"histogram2dcontour\"}],\"mesh3d\":[{\"colorbar\":{\"outlinewidth\":0,\"ticks\":\"\"},\"type\":\"mesh3d\"}],\"parcoords\":[{\"line\":{\"colorbar\":{\"outlinewidth\":0,\"ticks\":\"\"}},\"type\":\"parcoords\"}],\"pie\":[{\"automargin\":true,\"type\":\"pie\"}],\"scatter\":[{\"marker\":{\"colorbar\":{\"outlinewidth\":0,\"ticks\":\"\"}},\"type\":\"scatter\"}],\"scatter3d\":[{\"line\":{\"colorbar\":{\"outlinewidth\":0,\"ticks\":\"\"}},\"marker\":{\"colorbar\":{\"outlinewidth\":0,\"ticks\":\"\"}},\"type\":\"scatter3d\"}],\"scattercarpet\":[{\"marker\":{\"colorbar\":{\"outlinewidth\":0,\"ticks\":\"\"}},\"type\":\"scattercarpet\"}],\"scattergeo\":[{\"marker\":{\"colorbar\":{\"outlinewidth\":0,\"ticks\":\"\"}},\"type\":\"scattergeo\"}],\"scattergl\":[{\"marker\":{\"colorbar\":{\"outlinewidth\":0,\"ticks\":\"\"}},\"type\":\"scattergl\"}],\"scattermapbox\":[{\"marker\":{\"colorbar\":{\"outlinewidth\":0,\"ticks\":\"\"}},\"type\":\"scattermapbox\"}],\"scatterpolar\":[{\"marker\":{\"colorbar\":{\"outlinewidth\":0,\"ticks\":\"\"}},\"type\":\"scatterpolar\"}],\"scatterpolargl\":[{\"marker\":{\"colorbar\":{\"outlinewidth\":0,\"ticks\":\"\"}},\"type\":\"scatterpolargl\"}],\"scatterternary\":[{\"marker\":{\"colorbar\":{\"outlinewidth\":0,\"ticks\":\"\"}},\"type\":\"scatterternary\"}],\"surface\":[{\"colorbar\":{\"outlinewidth\":0,\"ticks\":\"\"},\"colorscale\":[[0.0,\"#0d0887\"],[0.1111111111111111,\"#46039f\"],[0.2222222222222222,\"#7201a8\"],[0.3333333333333333,\"#9c179e\"],[0.4444444444444444,\"#bd3786\"],[0.5555555555555556,\"#d8576b\"],[0.6666666666666666,\"#ed7953\"],[0.7777777777777778,\"#fb9f3a\"],[0.8888888888888888,\"#fdca26\"],[1.0,\"#f0f921\"]],\"type\":\"surface\"}],\"table\":[{\"cells\":{\"fill\":{\"color\":\"#EBF0F8\"},\"line\":{\"color\":\"white\"}},\"header\":{\"fill\":{\"color\":\"#C8D4E3\"},\"line\":{\"color\":\"white\"}},\"type\":\"table\"}]},\"layout\":{\"annotationdefaults\":{\"arrowcolor\":\"#2a3f5f\",\"arrowhead\":0,\"arrowwidth\":1},\"autotypenumbers\":\"strict\",\"coloraxis\":{\"colorbar\":{\"outlinewidth\":0,\"ticks\":\"\"}},\"colorscale\":{\"diverging\":[[0,\"#8e0152\"],[0.1,\"#c51b7d\"],[0.2,\"#de77ae\"],[0.3,\"#f1b6da\"],[0.4,\"#fde0ef\"],[0.5,\"#f7f7f7\"],[0.6,\"#e6f5d0\"],[0.7,\"#b8e186\"],[0.8,\"#7fbc41\"],[0.9,\"#4d9221\"],[1,\"#276419\"]],\"sequential\":[[0.0,\"#0d0887\"],[0.1111111111111111,\"#46039f\"],[0.2222222222222222,\"#7201a8\"],[0.3333333333333333,\"#9c179e\"],[0.4444444444444444,\"#bd3786\"],[0.5555555555555556,\"#d8576b\"],[0.6666666666666666,\"#ed7953\"],[0.7777777777777778,\"#fb9f3a\"],[0.8888888888888888,\"#fdca26\"],[1.0,\"#f0f921\"]],\"sequentialminus\":[[0.0,\"#0d0887\"],[0.1111111111111111,\"#46039f\"],[0.2222222222222222,\"#7201a8\"],[0.3333333333333333,\"#9c179e\"],[0.4444444444444444,\"#bd3786\"],[0.5555555555555556,\"#d8576b\"],[0.6666666666666666,\"#ed7953\"],[0.7777777777777778,\"#fb9f3a\"],[0.8888888888888888,\"#fdca26\"],[1.0,\"#f0f921\"]]},\"colorway\":[\"#636efa\",\"#EF553B\",\"#00cc96\",\"#ab63fa\",\"#FFA15A\",\"#19d3f3\",\"#FF6692\",\"#B6E880\",\"#FF97FF\",\"#FECB52\"],\"font\":{\"color\":\"#2a3f5f\"},\"geo\":{\"bgcolor\":\"white\",\"lakecolor\":\"white\",\"landcolor\":\"#E5ECF6\",\"showlakes\":true,\"showland\":true,\"subunitcolor\":\"white\"},\"hoverlabel\":{\"align\":\"left\"},\"hovermode\":\"closest\",\"mapbox\":{\"style\":\"light\"},\"paper_bgcolor\":\"white\",\"plot_bgcolor\":\"#E5ECF6\",\"polar\":{\"angularaxis\":{\"gridcolor\":\"white\",\"linecolor\":\"white\",\"ticks\":\"\"},\"bgcolor\":\"#E5ECF6\",\"radialaxis\":{\"gridcolor\":\"white\",\"linecolor\":\"white\",\"ticks\":\"\"}},\"scene\":{\"xaxis\":{\"backgroundcolor\":\"#E5ECF6\",\"gridcolor\":\"white\",\"gridwidth\":2,\"linecolor\":\"white\",\"showbackground\":true,\"ticks\":\"\",\"zerolinecolor\":\"white\"},\"yaxis\":{\"backgroundcolor\":\"#E5ECF6\",\"gridcolor\":\"white\",\"gridwidth\":2,\"linecolor\":\"white\",\"showbackground\":true,\"ticks\":\"\",\"zerolinecolor\":\"white\"},\"zaxis\":{\"backgroundcolor\":\"#E5ECF6\",\"gridcolor\":\"white\",\"gridwidth\":2,\"linecolor\":\"white\",\"showbackground\":true,\"ticks\":\"\",\"zerolinecolor\":\"white\"}},\"shapedefaults\":{\"line\":{\"color\":\"#2a3f5f\"}},\"ternary\":{\"aaxis\":{\"gridcolor\":\"white\",\"linecolor\":\"white\",\"ticks\":\"\"},\"baxis\":{\"gridcolor\":\"white\",\"linecolor\":\"white\",\"ticks\":\"\"},\"bgcolor\":\"#E5ECF6\",\"caxis\":{\"gridcolor\":\"white\",\"linecolor\":\"white\",\"ticks\":\"\"}},\"title\":{\"x\":0.05},\"xaxis\":{\"automargin\":true,\"gridcolor\":\"white\",\"linecolor\":\"white\",\"ticks\":\"\",\"title\":{\"standoff\":15},\"zerolinecolor\":\"white\",\"zerolinewidth\":2},\"yaxis\":{\"automargin\":true,\"gridcolor\":\"white\",\"linecolor\":\"white\",\"ticks\":\"\",\"title\":{\"standoff\":15},\"zerolinecolor\":\"white\",\"zerolinewidth\":2}}},\"uniformtext\":{\"minsize\":12,\"mode\":\"hide\"}},                        {\"responsive\": true}                    ).then(function(){\n                            \nvar gd = document.getElementById('282ac92f-52ac-4f97-a34c-264e594fff9c');\nvar x = new MutationObserver(function (mutations, observer) {{\n        var display = window.getComputedStyle(gd).display;\n        if (!display || display === 'none') {{\n            console.log([gd, 'removed!']);\n            Plotly.purge(gd);\n            observer.disconnect();\n        }}\n}});\n\n// Listen for the removal of the full notebook cells\nvar notebookContainer = gd.closest('#notebook-container');\nif (notebookContainer) {{\n    x.observe(notebookContainer, {childList: true});\n}}\n\n// Listen for the clearing of the current output cell\nvar outputEl = gd.closest('.output');\nif (outputEl) {{\n    x.observe(outputEl, {childList: true});\n}}\n\n                        })                };                            </script>        </div>\n</body>\n</html>"
     },
     "execution_count": 29,
     "metadata": {
     },
     "output_type": "execute_result"
    }
   ],
   "source": [
    "labels = counts_not.index\n",
    "values = counts_not.values\n",
    "\n",
    "fig = go.Figure(data=[go.Pie(labels=labels, values=values, sort = False, title = \"Years Played by Non Hall of Famers\")])\n",
    "fig.update_traces(textposition='inside')\n",
    "fig.update_layout(uniformtext_minsize=12, uniformtext_mode='hide')\n",
    "fig.write_html(\"not_hof_pie_years.html\")\n",
    "fig.show()"
   ]
  },
  {
   "cell_type": "code",
   "execution_count": 30,
   "metadata": {
    "collapsed": false
   },
   "outputs": [
   ],
   "source": [
    "idx = pd.Index(temp.index)\n",
    "hof_inductees = idx.isin(hof_inducted['playerID'])\n",
    "temp['hof'] = hof_inductees"
   ]
  },
  {
   "cell_type": "code",
   "execution_count": 31,
   "metadata": {
    "collapsed": false
   },
   "outputs": [
    {
     "data": {
      "text/html": "<html>\n<head><meta charset=\"utf-8\" /></head>\n<body>\n    <div>            <script src=\"https://cdnjs.cloudflare.com/ajax/libs/mathjax/2.7.5/MathJax.js?config=TeX-AMS-MML_SVG\"></script><script type=\"text/javascript\">if (window.MathJax) {MathJax.Hub.Config({SVG: {font: \"STIX-Web\"}});}</script>                <script type=\"text/javascript\">window.PlotlyConfig = {MathJaxConfig: 'local'};</script>\n        <script src=\"https://cdn.plot.ly/plotly-2.9.0.min.js\"></script>                <div id=\"8dc6da09-10ea-4988-a308-22d3d41f31cf\" class=\"plotly-graph-div\" style=\"height:600px; width:1000px;\"></div>            <script type=\"text/javascript\">                                    window.PLOTLYENV=window.PLOTLYENV || {};                                    if (document.getElementById(\"8dc6da09-10ea-4988-a308-22d3d41f31cf\")) {                    Plotly.newPlot(                        \"8dc6da09-10ea-4988-a308-22d3d41f31cf\",                        [{\"customdata\":[[\"aaronha01\"],[\"alexape01\"],[\"alomaro01\"],[\"ansonca01\"],[\"aparilu01\"],[\"applilu01\"],[\"ashburi01\"],[\"averiea01\"],[\"bagweje01\"],[\"bakerfr01\"],[\"bancrda01\"],[\"bankser01\"],[\"becklja01\"],[\"benchjo01\"],[\"bendech01\"],[\"berrayo01\"],[\"biggicr01\"],[\"blylebe01\"],[\"boggswa01\"],[\"bottoji01\"],[\"boudrlo01\"],[\"bresnro01\"],[\"brettge01\"],[\"brocklo01\"],[\"broutda01\"],[\"brownmo01\"],[\"bunniji01\"],[\"burkeje01\"],[\"camparo01\"],[\"carewro01\"],[\"careyma01\"],[\"carltst01\"],[\"cartega01\"],[\"cepedor01\"],[\"chancfr01\"],[\"chesbja01\"],[\"clarkfr01\"],[\"clarkjo01\"],[\"clemero01\"],[\"cobbty01\"],[\"cochrmi01\"],[\"collied01\"],[\"colliji01\"],[\"combsea01\"],[\"comisch01\"],[\"connoro01\"],[\"covelst01\"],[\"crawfsa01\"],[\"cronijo01\"],[\"cuyleki01\"],[\"davisge01\"],[\"dawsoan01\"],[\"deandi01\"],[\"delahed01\"],[\"dickebi01\"],[\"dimagjo01\"],[\"dobyla01\"],[\"doerrbo01\"],[\"drysddo01\"],[\"duffyhu01\"],[\"durocle01\"],[\"eckerde01\"],[\"eversjo01\"],[\"ewingbu01\"],[\"faberre01\"],[\"fellebo01\"],[\"ferreri01\"],[\"fingero01\"],[\"fiskca01\"],[\"flickel01\"],[\"fordwh01\"],[\"foxne01\"],[\"foxxji01\"],[\"friscfr01\"],[\"galvipu01\"],[\"gehrich01\"],[\"gehrilo01\"],[\"gibsobo01\"],[\"glavito02\"],[\"gomezle01\"],[\"gordojo01\"],[\"gosligo01\"],[\"gossari01\"],[\"greenha01\"],[\"griffcl01\"],[\"griffke02\"],[\"grimebu01\"],[\"grovele01\"],[\"guerrvl01\"],[\"gwynnto01\"],[\"hafeych01\"],[\"haineje01\"],[\"hamilbi01\"],[\"hanlone01\"],[\"harribu01\"],[\"hartnga01\"],[\"heilmha01\"],[\"henderi01\"],[\"hermabi01\"],[\"hoffmtr01\"],[\"hoopeha01\"],[\"hornsro01\"],[\"hoytwa01\"],[\"hubbeca01\"],[\"huggimi01\"],[\"hunteca01\"],[\"jacksre01\"],[\"jackstr01\"],[\"jenkife01\"],[\"jennihu01\"],[\"johnsra05\"],[\"johnswa01\"],[\"jonesch06\"],[\"kalinal01\"],[\"keefeti01\"],[\"keelewi01\"],[\"kellejo01\"],[\"kellge01\"],[\"kellyge01\"],[\"kellyki01\"],[\"killeha01\"],[\"kinerra01\"],[\"kleinch01\"],[\"koufasa01\"],[\"lajoina01\"],[\"larkiba01\"],[\"lazzeto01\"],[\"lemonbo01\"],[\"lindsfr01\"],[\"lombaer01\"],[\"lopezal01\"],[\"lyonste01\"],[\"mackco01\"],[\"maddugr01\"],[\"mantlmi01\"],[\"manushe01\"],[\"maranra01\"],[\"maricju01\"],[\"marquru01\"],[\"martipe02\"],[\"mathech01\"],[\"matheed01\"],[\"mayswi01\"],[\"mazerbi01\"],[\"mccarto01\"],[\"mccovwi01\"],[\"mcginjo01\"],[\"mcgrajo01\"],[\"mckecbi01\"],[\"mcphebi01\"],[\"medwijo01\"],[\"mizejo01\"],[\"molitpa01\"],[\"morgajo02\"],[\"morrija02\"],[\"murraed02\"],[\"musiast01\"],[\"newhoha01\"],[\"nichoki01\"],[\"niekrph01\"],[\"orourji01\"],[\"ottme01\"],[\"palmeji01\"],[\"pennohe01\"],[\"perezto01\"],[\"perryga01\"],[\"piazzmi01\"],[\"planked01\"],[\"puckeki01\"],[\"radboch01\"],[\"raineti01\"],[\"reesepe01\"],[\"riceji01\"],[\"ricesa01\"],[\"ripkeca01\"],[\"rixeyep01\"],[\"rizzuph01\"],[\"roberro01\"],[\"robinbr01\"],[\"robinfr02\"],[\"robinja02\"],[\"robinwi01\"],[\"rodriiv01\"],[\"roushed01\"],[\"ruffire01\"],[\"rusieam01\"],[\"ruthba01\"],[\"ryanno01\"],[\"sandbry01\"],[\"santoro01\"],[\"schalra01\"],[\"schmimi01\"],[\"schoere01\"],[\"seaveto01\"],[\"seweljo01\"],[\"simmoal01\"],[\"sislege01\"],[\"slaugen01\"],[\"smithoz01\"],[\"smoltjo01\"],[\"snidedu01\"],[\"southbi01\"],[\"spahnwa01\"],[\"speaktr01\"],[\"stargwi01\"],[\"stengca01\"],[\"suttebr01\"],[\"suttodo01\"],[\"terrybi01\"],[\"thomafr04\"],[\"thomeji01\"],[\"thompsa01\"],[\"tinkejo01\"],[\"torrejo01\"],[\"trammal01\"],[\"traynpi01\"],[\"vanceda01\"],[\"vaughar01\"],[\"wadderu01\"],[\"wagneho01\"],[\"wallabo01\"],[\"walshed01\"],[\"wanerll01\"],[\"wanerpa01\"],[\"wardjo01\"],[\"welchmi01\"],[\"wheatza01\"],[\"whitede01\"],[\"wilheho01\"],[\"willibi01\"],[\"willidi02\"],[\"willite01\"],[\"willivi01\"],[\"wilsoha01\"],[\"winfida01\"],[\"wrighge01\"],[\"wynnea01\"],[\"yastrca01\"],[\"youngcy01\"],[\"youngro01\"],[\"yountro01\"]],\"hovertemplate\":\"hof=True<br>H=%{x}<br>AB=%{y}<br>id=%{customdata[0]}<extra></extra>\",\"legendgroup\":\"True\",\"marker\":{\"color\":\"#636efa\",\"symbol\":\"circle\"},\"mode\":\"markers\",\"name\":\"True\",\"showlegend\":true,\"x\":[3771,378,2724,3435,2677,2749,2574,2019,2314,1838,2004,2583,2938,2048,243,2150,3060,59,3010,2313,1779,1252,3154,3023,2303,235,213,2850,1161,3053,2665,346,2092,2351,1274,217,2678,432,3000,4189,1652,3315,1999,1866,1529,2467,168,2961,2285,2299,2665,2774,161,2597,1969,2214,1515,2042,218,2293,1320,24,1659,1625,170,193,1692,31,2356,1752,177,2663,2646,2880,552,2839,2721,274,246,133,1530,2735,9,1628,321,2781,380,202,2590,3141,1466,209,2164,1318,1297,1912,2660,3055,2345,4,2466,2930,255,246,1474,149,2584,1768,148,1526,78,547,2726,3007,390,2932,2220,2054,1778,1813,2086,1451,2076,75,3243,2340,1840,274,1747,1792,1547,364,659,272,2415,2524,2605,202,198,43,362,2315,3283,2016,1493,2211,251,1309,713,2258,2471,2011,3319,2517,0,3255,3630,201,472,260,2639,2876,85,232,2732,141,2127,331,2304,585,2605,2170,2452,2987,3184,291,1588,255,2848,2943,1518,1388,2844,2376,521,429,2873,94,2386,2254,1345,2234,2449,202,2226,2927,2812,2383,2460,151,2116,1296,363,3514,2232,1219,9,195,2193,2468,2328,1988,1690,2342,2365,2416,146,2103,172,3420,2309,210,2459,3152,2107,492,2884,2067,38,2711,768,2654,248,1461,3110,866,365,3419,623,1491,3142],\"xaxis\":\"x\",\"y\":[12364,1810,9073,10281,10230,8856,8365,6353,7797,5984,7182,9421,9551,7658,1147,7555,10876,451,9180,7471,6029,4481,10349,10332,6726,1143,1275,8426,4205,9315,9363,1719,7971,7927,4299,1103,8584,1974,9454,11436,5169,9949,6795,5746,5796,7797,1058,9570,7579,7161,9045,9927,717,7510,6300,6821,5348,7093,1169,7044,5350,181,6137,5363,1269,1282,6028,180,8756,5597,1023,9232,8134,9112,2748,8860,8001,1328,1323,904,5707,8656,85,5193,1380,9801,1535,1369,8155,9288,4625,1124,6283,5087,4736,6432,7787,10961,7707,34,8785,8173,1287,1288,5558,658,9864,6086,896,4895,625,2324,8984,10116,2083,8591,7006,6702,5993,5896,8147,5205,6486,776,9590,7937,6297,1183,5611,5855,5916,1563,2698,1591,8102,7654,10078,1221,1107,434,1687,8537,10881,7755,5120,8197,1297,3924,2843,8304,7635,6443,10835,9277,1,11336,10972,999,2090,1537,8503,9456,489,1214,9778,1076,6911,1607,7244,2487,8872,8058,8225,9269,11551,1522,5816,1525,10654,10006,4877,5075,9592,7363,1937,1730,8398,852,8385,8143,5306,8352,8479,1315,7132,8759,8267,7946,9396,948,7161,4359,1872,10195,7927,4288,102,1354,6428,8199,8422,5998,6441,7874,8288,7559,971,6622,1066,10439,8618,1088,7772,9459,7656,2201,9106,6624,432,9350,2959,7706,1493,4760,11003,2873,1704,11988,2960,4627,11008],\"yaxis\":\"y\",\"type\":\"scattergl\"},{\"customdata\":[[\"aasedo01\"],[\"abbated01\"],[\"abbotji01\"],[\"abbotku01\"],[\"abbotpa01\"],[\"abernte02\"],[\"abramca01\"],[\"abreubo01\"],[\"accarje01\"],[\"aceveju01\"],[\"ackerji01\"],[\"adairje01\"],[\"adamsba01\"],[\"adamsbo03\"],[\"adamsmi03\"],[\"adamssp01\"],[\"adamste01\"],[\"adcocjo01\"],[\"affelje01\"],[\"ageeto01\"],[\"agostju01\"],[\"aguaylu01\"],[\"aguilri01\"],[\"aguirha01\"],[\"ainsmed01\"],[\"akerja01\"],[\"alberma01\"],[\"aldremi01\"],[\"aldresc01\"],[\"alexado01\"],[\"alexama02\"],[\"alfonan01\"],[\"alfoned01\"],[\"alicelu01\"],[\"allenbe01\"],[\"allendi01\"],[\"allenet01\"],[\"allenjo02\"],[\"allenne01\"],[\"alleyge01\"],[\"allisbo01\"],[\"allisdo01\"],[\"almadme01\"],[\"almonbi01\"],[\"alomasa01\"],[\"alomasa02\"],[\"aloufe01\"],[\"alouje01\"],[\"alouma01\"],[\"aloumo01\"],[\"altroni01\"],[\"alvarlu01\"],[\"alvarwi01\"],[\"amalfjo01\"],[\"amarari01\"],[\"amaroru01\"],[\"amesre01\"],[\"amezaal01\"],[\"anderbr01\"],[\"anderbr02\"],[\"anderda02\"],[\"anderga01\"],[\"anderjo01\"],[\"anderla02\"],[\"anderma02\"],[\"andinro01\"],[\"andreiv01\"],[\"andujjo01\"],[\"ankieri01\"],[\"anthoer01\"],[\"antonjo02\"],[\"appieke01\"],[\"applepe01\"],[\"aquinlu01\"],[\"archeji01\"],[\"ariasal01\"],[\"armasto01\"],[\"armasto02\"],[\"arrigge01\"],[\"arroybr01\"],[\"ashbyal01\"],[\"ashbyan01\"],[\"asprobo01\"],[\"asproke01\"],[\"assenpa01\"],[\"astacpe01\"],[\"astrojo01\"],[\"auerbri01\"],[\"aukerel01\"],[\"aurilri01\"],[\"ausmubr01\"],[\"austiji01\"],[\"averyst01\"],[\"avilabo01\"],[\"avilemi01\"],[\"axforjo01\"],[\"ayalabe01\"],[\"ayalalu01\"],[\"aybarer01\"],[\"aybarma01\"],[\"ayersdo01\"],[\"azcuejo01\"],[\"backmwa01\"],[\"baergca01\"],[\"baezda01\"],[\"bagbyji02\"],[\"bahnsst01\"],[\"bailebi01\"],[\"bailebo01\"],[\"baileed01\"],[\"baileho02\"],[\"bailobo01\"],[\"baineha01\"],[\"bairddo01\"],[\"bairdo01\"],[\"bakerdu01\"],[\"bakerfl01\"],[\"bakerje03\"],[\"bakersc02\"],[\"bakopa01\"],[\"balbost01\"],[\"baldwja01\"],[\"balfogr01\"],[\"bandoch01\"],[\"bandosa01\"],[\"bankhsc01\"],[\"bankswi01\"],[\"bannial01\"],[\"bannifl01\"],[\"barajro01\"],[\"barbest01\"],[\"bardjo01\"],[\"barfije01\"],[\"barkele01\"],[\"barmecl01\"],[\"barneje01\"],[\"barnevi01\"],[\"barrebi02\"],[\"barreji01\"],[\"barrema02\"],[\"barremi01\"],[\"barrere01\"],[\"barrji01\"],[\"barryja01\"],[\"barrysh01\"],[\"bartedi01\"],[\"bartlja01\"],[\"bartobo01\"],[\"bassech01\"],[\"basske01\"],[\"bastich01\"],[\"batemjo01\"],[\"batesjo02\"],[\"batismi01\"],[\"batisto01\"],[\"batteea01\"],[\"battijo01\"],[\"battsma01\"],[\"bauerha01\"],[\"baumafr01\"],[\"baumhfr01\"],[\"bautida01\"],[\"bautide01\"],[\"bautijo01\"],[\"bautijo02\"],[\"bayja01\"],[\"baylodo01\"],[\"beaucji01\"],[\"beaumgi01\"],[\"beckbo01\"],[\"beckebe01\"],[\"beckegl01\"],[\"beckejo02\"],[\"beckeri01\"],[\"beckhgo01\"],[\"beckro01\"],[\"bedarer01\"],[\"bedrost01\"],[\"beggsjo01\"],[\"beimejo01\"],[\"belanma01\"],[\"belchti01\"],[\"belinst01\"],[\"belisma01\"],[\"bellbu01\"],[\"bellda01\"],[\"bellde01\"],[\"belleal01\"],[\"bellga01\"],[\"bellge02\"],[\"bellgu01\"],[\"bellhe01\"],[\"bellhma01\"],[\"bellira01\"],[\"belliro01\"],[\"bellja01\"],[\"beltrad01\"],[\"beltrca01\"],[\"benedbr01\"],[\"benesan01\"],[\"bengera01\"],[\"bengobe01\"],[\"beniqju01\"],[\"benitar01\"],[\"benjami01\"],[\"bennech01\"],[\"bennega01\"],[\"benoijo01\"],[\"bensokr01\"],[\"bentlja01\"],[\"bentoal01\"],[\"bentola01\"],[\"bentoru01\"],[\"benzito01\"],[\"berarjo01\"],[\"bereja01\"],[\"berenju01\"],[\"bergebi01\"],[\"bergewa01\"],[\"bergmda01\"],[\"bergmo01\"],[\"berkmla01\"],[\"bernato01\"],[\"bernhbi01\"],[\"berrada01\"],[\"berrera01\"],[\"berroan01\"],[\"berroge01\"],[\"berrych02\"],[\"berryda01\"],[\"berryke01\"],[\"berryse01\"],[\"bertore01\"],[\"beschbo01\"],[\"betanra01\"],[\"betanyu01\"],[\"betemwi01\"],[\"bettshu01\"],[\"bevacku01\"],[\"bibbyji01\"],[\"bicheda01\"],[\"bielemi01\"],[\"bierblo01\"],[\"bigbeca01\"],[\"biittla01\"],[\"bilkost01\"],[\"billija01\"],[\"billijo01\"],[\"birddo01\"],[\"bishoma01\"],[\"blackbu02\"],[\"blackew01\"],[\"blackti01\"],[\"bladera01\"],[\"blaehge01\"],[\"blairpa01\"],[\"blairwi01\"],[\"blakeca01\"],[\"blakesh01\"],[\"blanche01\"],[\"blancjo01\"],[\"blantjo01\"],[\"blasido01\"],[\"blasiwa01\"],[\"blassst01\"],[\"blausje01\"],[\"blefacu01\"],[\"blevije01\"],[\"bloodji01\"],[\"bloomwi01\"],[\"blowemi01\"],[\"bluegos01\"],[\"bluelu01\"],[\"bluevi01\"],[\"blumge01\"],[\"bocachi01\"],[\"boccajo01\"],[\"bochtbr01\"],[\"boehrbr01\"],[\"boevejo01\"],[\"bohanbr01\"],[\"bolinbo01\"],[\"bollifr01\"],[\"bondeje01\"],[\"bondsba01\"],[\"bondsbo01\"],[\"bondto01\"],[\"bonesri01\"],[\"bonhabi01\"],[\"bonhati01\"],[\"bonifem01\"],[\"bonilbo01\"],[\"bonneba01\"],[\"booneaa01\"],[\"boonebo01\"],[\"boonebr01\"],[\"boonera01\"],[\"borbope01\"],[\"borbope02\"],[\"bordafr01\"],[\"bordepa01\"],[\"bordimi01\"],[\"borlato02\"],[\"borowha01\"],[\"borowjo01\"],[\"boskish01\"],[\"bosleth01\"],[\"bosmadi01\"],[\"bostoda01\"],[\"bosweke01\"],[\"bottari01\"],[\"botteke01\"],[\"bournmi01\"],[\"boutoji01\"],[\"bowala01\"],[\"bowerfr01\"],[\"bowmajo01\"],[\"boydbo01\"],[\"boydoi01\"],[\"boyerbl01\"],[\"boyercl02\"],[\"boyerke01\"],[\"boyleja01\"],[\"bradfbu01\"],[\"bradlbi01\"],[\"bradlge01\"],[\"bradlmi01\"],[\"bradlsc01\"],[\"braggda01\"],[\"brancra01\"],[\"branded01\"],[\"brandja01\"],[\"bransje01\"],[\"branski01\"],[\"brantje01\"],[\"branyru01\"],[\"braunry02\"],[\"braunst01\"],[\"braxtga01\"],[\"brazlal01\"],[\"breamsi01\"],[\"brechha01\"],[\"breitte01\"],[\"brenlbo01\"],[\"breslcr01\"],[\"bressed01\"],[\"bressru01\"],[\"brettke01\"],[\"breweji01\"],[\"bridgro01\"],[\"bridgto01\"],[\"bridwal01\"],[\"briggjo02\"],[\"brignre01\"],[\"brilene01\"],[\"brinked01\"],[\"brocado01\"],[\"brockgr01\"],[\"brodist01\"],[\"brognri01\"],[\"brohaja01\"],[\"brookhu01\"],[\"brookto01\"],[\"brosisc01\"],[\"brosnji01\"],[\"broweji01\"],[\"brownbu01\"],[\"browncl01\"],[\"brownem01\"],[\"brownga01\"],[\"brownge01\"],[\"brownha01\"],[\"brownje01\"],[\"brownju01\"],[\"brownke01\"],[\"brownla01\"],[\"brownle01\"],[\"brownll01\"],[\"brownma01\"],[\"brownol02\"],[\"brownpe01\"],[\"brownto01\"],[\"brownto02\"],[\"brownto05\"],[\"broxtjo01\"],[\"brubabi01\"],[\"bruceja01\"],[\"brunato01\"],[\"brunege01\"],[\"brusswa01\"],[\"brutobi01\"],[\"buchhcl01\"],[\"buckjo01\"],[\"bucknbi01\"],[\"buechst01\"],[\"buehrma01\"],[\"buelofr01\"],[\"buffich01\"],[\"buforda01\"],[\"bufordo01\"],[\"buhlbo01\"],[\"buhneja01\"],[\"bumbral01\"],[\"burbada01\"],[\"burdele01\"],[\"burdoja01\"],[\"burgesm01\"],[\"burgmto01\"],[\"burkebo01\"],[\"burkeed01\"],[\"burkejo03\"],[\"burketi01\"],[\"burksel01\"],[\"burleri01\"],[\"burneaj01\"],[\"burnese01\"],[\"burnije01\"],[\"burnsge01\"],[\"burnsge02\"],[\"burnsoy01\"],[\"burnsto01\"],[\"burrepa01\"],[\"burrira01\"],[\"burroje01\"],[\"busbyji01\"],[\"bushdo01\"],[\"bushgu01\"],[\"bushjo01\"],[\"bushodo01\"],[\"bushra01\"],[\"butchma01\"],[\"butersa01\"],[\"butlebi03\"],[\"butlebr01\"],[\"buzhajo01\"],[\"byerlbu01\"],[\"byrdati01\"],[\"byrdma01\"],[\"byrdpa01\"],[\"byrnebo01\"],[\"byrneer01\"],[\"byrneto01\"],[\"cabelen01\"],[\"cabreas01\"],[\"cabreme01\"],[\"cabremi01\"],[\"cabreor01\"],[\"cadargr01\"],[\"cadorle01\"],[\"cainma01\"],[\"cairomi01\"],[\"caldeiv01\"],[\"caldwmi01\"],[\"caldwra02\"],[\"callaal01\"],[\"callani01\"],[\"callijo01\"],[\"camacer01\"],[\"camermi01\"],[\"camildo01\"],[\"caminke01\"],[\"camniho01\"],[\"campabe01\"],[\"campbbi02\"],[\"campbbr01\"],[\"campbda01\"],[\"campsh01\"],[\"candaca01\"],[\"candejo01\"],[\"candito01\"],[\"cangejo01\"],[\"cannich01\"],[\"canoro01\"],[\"cansejo01\"],[\"cantujo01\"],[\"cantwbe01\"],[\"capuach01\"],[\"carbobe01\"],[\"cardejo02\"],[\"cardele01\"],[\"cardwdo01\"],[\"careyan01\"],[\"carlsha01\"],[\"carmado01\"],[\"carmofa01\"],[\"carpech01\"],[\"carpehi01\"],[\"carrach01\"],[\"carragi01\"],[\"carrahe01\"],[\"carrema01\"],[\"carribi02\"],[\"carrocl01\"],[\"carrocl02\"],[\"carroja01\"],[\"carroow01\"],[\"carseki01\"],[\"cartejo01\"],[\"cartyri01\"],[\"carutbo01\"],[\"casanpa01\"],[\"casanra01\"],[\"casege01\"],[\"caseydo01\"],[\"caseyhu01\"],[\"caseyse01\"],[\"cashda01\"],[\"cashno01\"],[\"casiala01\"],[\"cassijo01\"],[\"castege01\"],[\"castial01\"],[\"castica01\"],[\"castifr01\"],[\"castilu01\"],[\"castito02\"],[\"castivi02\"],[\"castrju01\"],[\"castrra01\"],[\"catalfr01\"],[\"caterda01\"],[\"causewa01\"],[\"cavarph01\"],[\"cedence01\"],[\"cedenro01\"],[\"cedenro02\"],[\"ceronri01\"],[\"cervbo01\"],[\"ceyro01\"],[\"chacosh01\"],[\"chakabo01\"],[\"chalkda01\"],[\"chambch01\"],[\"chambel01\"],[\"chambjo03\"],[\"chancde01\"],[\"chandsp01\"],[\"chaneda01\"],[\"chapmbe01\"],[\"chapmsa01\"],[\"charlno01\"],[\"chaseha01\"],[\"chaveen01\"],[\"chaveer01\"],[\"chaveje01\"],[\"chavera01\"],[\"chenbr01\"],[\"chenela01\"],[\"childcu01\"],[\"chipmbo01\"],[\"chitiha01\"],[\"choatra01\"],[\"choosh01\"],[\"chrisja01\"],[\"chrisla01\"],[\"chrisma01\"],[\"cicoted01\"],[\"cimolgi01\"],[\"cirilje01\"],[\"cissebi01\"],[\"clancji01\"],[\"clappjo01\"],[\"clarkbo02\"],[\"clarkbr02\"],[\"clarkda05\"],[\"clarkho01\"],[\"clarkja01\"],[\"clarkma01\"],[\"clarkni01\"],[\"clarkto01\"],[\"clarkto02\"],[\"clarkwa02\"],[\"clarkwi02\"],[\"claytro01\"],[\"clemedo01\"],[\"clemeja01\"],[\"clemepa01\"],[\"clemero02\"],[\"clenddo01\"],[\"clevere01\"],[\"cliftha01\"],[\"clinege01\"],[\"clinety01\"],[\"clingbi01\"],[\"clintji01\"],[\"clintlo01\"],[\"clippty01\"],[\"clonito01\"],[\"coaklan01\"],[\"coangi01\"],[\"coateji01\"],[\"coffmdi01\"],[\"cokeph01\"],[\"colavro01\"],[\"colbena01\"],[\"colboji01\"],[\"colbrgr01\"],[\"colemjo01\"],[\"colemjo04\"],[\"colemjo05\"],[\"colemvi01\"],[\"colesda01\"],[\"collida02\"],[\"collijo01\"],[\"collipa01\"],[\"colliri01\"],[\"collish01\"],[\"colluja01\"],[\"colomje01\"],[\"colonba01\"],[\"comorad01\"],[\"conceda01\"],[\"coneda01\"],[\"coninje01\"],[\"conlege01\"],[\"connasa01\"],[\"conrowi01\"],[\"consobi01\"],[\"consusa01\"],[\"contrjo01\"],[\"cookaa01\"],[\"cookde01\"],[\"cooledu01\"],[\"coombja01\"],[\"coonejo01\"],[\"coopece01\"],[\"coopemo01\"],[\"coopewa01\"],[\"coopewi01\"],[\"coraal01\"],[\"corajo01\"],[\"corcola01\"],[\"corcoto01\"],[\"cordefr01\"],[\"cordewi01\"],[\"corkhpo01\"],[\"cormirh01\"],[\"corrapa01\"],[\"correke01\"],[\"corsiji01\"],[\"cottich01\"],[\"cottohe01\"],[\"cottsne01\"],[\"coughbi01\"],[\"counscr01\"],[\"courtcl01\"],[\"covinwe01\"],[\"cowanbi01\"],[\"cowenal01\"],[\"coxbi02\"],[\"coxda01\"],[\"craigro01\"],[\"crainje01\"],[\"cramedo01\"],[\"crandde01\"],[\"cranddo01\"],[\"craneed01\"],[\"cranesa01\"],[\"cravaga01\"],[\"crawfca02\"],[\"crawfwi01\"],[\"credejo01\"],[\"creekdo01\"],[\"crigelo01\"],[\"crispco01\"],[\"critzhu01\"],[\"cromawa01\"],[\"crosefr01\"],[\"crossla01\"],[\"crossmo01\"],[\"crowdal01\"],[\"crowlte01\"],[\"cruiswa01\"],[\"cruzde01\"],[\"cruzhe01\"],[\"cruzja01\"],[\"cruzjo01\"],[\"cruzjo02\"],[\"cruzju01\"],[\"cruzju02\"],[\"cruzne02\"],[\"cuccito01\"],[\"cuddymi01\"],[\"cuellmi01\"],[\"cuetojo01\"],[\"cullero01\"],[\"culpra01\"],[\"culvege01\"],[\"cummimi01\"],[\"cunnibe01\"],[\"cunnijo01\"],[\"cuppyni01\"],[\"curtich01\"],[\"curtijo01\"],[\"custja01\"],[\"cuthbne01\"],[\"cutshge01\"],[\"daalom01\"],[\"dacqujo01\"],[\"dahlebi01\"],[\"dahlgba01\"],[\"dailyco01\"],[\"dailyed01\"],[\"dalcabr01\"],[\"daleybu01\"],[\"dalryab01\"],[\"dalrycl01\"],[\"dalyto01\"],[\"damonjo01\"],[\"danfoda01\"],[\"danksjo01\"],[\"danniha01\"],[\"darenvi01\"],[\"darkal01\"],[\"darliro01\"],[\"darwibo01\"],[\"darwida01\"],[\"daubeja01\"],[\"dauerri01\"],[\"daultda01\"],[\"daussho01\"],[\"davalvi01\"],[\"davenji01\"],[\"davisch01\"],[\"davisch02\"],[\"daviscu01\"],[\"davisdi01\"],[\"davisdo02\"],[\"daviser01\"],[\"davisgl01\"],[\"davisha01\"],[\"davisjo02\"],[\"daviski01\"],[\"davisma01\"],[\"davismi02\"],[\"davisra01\"],[\"davisro02\"],[\"davissp01\"],[\"davisst02\"],[\"davisto02\"],[\"daviswi02\"],[\"dayleke01\"],[\"dealch01\"],[\"deazaal01\"],[\"deberha01\"],[\"decindo01\"],[\"deckege01\"],[\"deerro01\"],[\"dejeami01\"],[\"dejesda01\"],[\"dejesiv01\"],[\"delahji01\"],[\"delarjo01\"],[\"deleojo01\"],[\"delgaca01\"],[\"delgawi01\"],[\"delgrbo01\"],[\"delluda01\"],[\"delocik01\"],[\"delosva01\"],[\"delsiji01\"],[\"delucri01\"],[\"demaejo01\"],[\"demarfr02\"],[\"demetdo01\"],[\"demonge01\"],[\"dempsri01\"],[\"dempsry01\"],[\"dennyje01\"],[\"dennyjo01\"],[\"denorch01\"],[\"dentbu01\"],[\"dernibo01\"],[\"derosma01\"],[\"derripa01\"],[\"desauge01\"],[\"deshaji01\"],[\"deshide01\"],[\"desseel01\"],[\"detwiro01\"],[\"devermi01\"],[\"devliar01\"],[\"devorjo01\"],[\"diazbo01\"],[\"diazei01\"],[\"diazma02\"],[\"dickebu01\"],[\"dickera01\"],[\"dicksmu01\"],[\"dierkla01\"],[\"dietrbi01\"],[\"difelmi01\"],[\"dilonmi01\"],[\"dimagdo01\"],[\"dimagvi01\"],[\"dinnebi01\"],[\"dipinfr01\"],[\"disarga01\"],[\"ditmaar01\"],[\"doakbi01\"],[\"dobbsgr01\"],[\"dobsojo01\"],[\"dobsopa01\"],[\"dohened01\"],[\"dolanco01\"],[\"donahji02\"],[\"donahre01\"],[\"donlimi01\"],[\"donneji01\"],[\"donohpe01\"],[\"donovbi01\"],[\"donovdi01\"],[\"donovpa01\"],[\"dooinre01\"],[\"doolami01\"],[\"doranbi02\"],[\"dorgami01\"],[\"dorisha01\"],[\"doteloc01\"],[\"doughpa01\"],[\"douglph01\"],[\"doumiry01\"],[\"douthta01\"],[\"dowdto01\"],[\"downial01\"],[\"downibr01\"],[\"downssc01\"],[\"doyleja01\"],[\"doylela01\"],[\"drabedo01\"],[\"drabomo01\"],[\"dragodi01\"],[\"drewjd01\"],[\"drewska01\"],[\"drewst01\"],[\"driesda01\"],[\"dropowa01\"],[\"duceyro01\"],[\"duffyfr01\"],[\"duganjo01\"],[\"dugglbi01\"],[\"dukeza01\"],[\"duncada01\"],[\"duncama01\"],[\"dunlafr01\"],[\"dunnad01\"],[\"dunnja01\"],[\"dunstsh01\"],[\"durbich01\"],[\"durenry01\"],[\"durhale01\"],[\"durhara01\"],[\"dusaker01\"],[\"dwyerfr01\"],[\"dwyerji01\"],[\"dyeje01\"],[\"dyerdu01\"],[\"dykesji01\"],[\"dykstle01\"],[\"earnsge01\"],[\"easleda01\"],[\"easlemi01\"],[\"easteja01\"],[\"eastwra01\"],[\"eatonad01\"],[\"eckstda01\"],[\"edmonji01\"],[\"edwarbr01\"],[\"edwarha01\"],[\"edwarjo01\"],[\"egandi01\"],[\"eganto01\"],[\"eggleda01\"],[\"ehmkeho01\"],[\"ehretre01\"],[\"eichhma01\"],[\"eilanda01\"],[\"eischjo01\"],[\"eisenji01\"],[\"elartsc01\"],[\"elberki01\"],[\"eldreca01\"],[\"elliobo01\"],[\"ellioju01\"],[\"ellisaj01\"],[\"ellisdo01\"],[\"ellisjo01\"],[\"ellisma01\"],[\"ellsbja01\"],[\"ellswdi01\"],[\"elsteke01\"],[\"elstodo01\"],[\"elybo01\"],[\"embreal01\"],[\"encared01\"],[\"encarju01\"],[\"englecl01\"],[\"engliwo01\"],[\"ennisde01\"],[\"epstemi01\"],[\"erickpa01\"],[\"ericksc01\"],[\"erskica01\"],[\"erstada01\"],[\"escobke01\"],[\"escobyu01\"],[\"esperdu01\"],[\"espinal01\"],[\"espossa01\"],[\"essiaji01\"],[\"estalbo02\"],[\"esterdu01\"],[\"estessh01\"],[\"etchean01\"],[\"ethiean01\"],[\"evansal01\"],[\"evansda01\"],[\"evansdw01\"],[\"evansjo01\"],[\"evelada01\"],[\"everead01\"],[\"evereca01\"],[\"eversho01\"],[\"ewingbo01\"],[\"eyresc01\"],[\"fabrejo01\"],[\"facero01\"],[\"faheybi01\"],[\"fainfe01\"],[\"fairlro01\"],[\"falcope01\"],[\"falkbi01\"],[\"falkecy01\"],[\"farmeed01\"],[\"farnsky01\"],[\"farredo01\"],[\"farredu01\"],[\"farreja02\"],[\"farretu01\"],[\"fasansa01\"],[\"fasseje01\"],[\"feldemi01\"],[\"feldmsc01\"],[\"felizpe01\"],[\"fergual01\"],[\"fergubo01\"],[\"fergujo01\"],[\"fermife01\"],[\"fernaal01\"],[\"fernasi01\"],[\"fernato01\"],[\"ferrewe01\"],[\"ferrito01\"],[\"fewstch01\"],[\"fickro01\"],[\"fieldce01\"],[\"fieldpr01\"],[\"figgich01\"],[\"figuene01\"],[\"finlech01\"],[\"finlest01\"],[\"finnelo01\"],[\"fischbi01\"],[\"fischca01\"],[\"fischmi01\"],[\"fisheed02\"],[\"fisheja01\"],[\"fishera01\"],[\"fitzged01\"],[\"fitzgmi02\"],[\"fitzmal01\"],[\"fitzsfr01\"],[\"flackma01\"],[\"flagsir01\"],[\"flahejo01\"],[\"flahepa02\"],[\"flannti01\"],[\"fletcar01\"],[\"fletcda01\"],[\"fletcel01\"],[\"fletcsc01\"],[\"flintsi01\"],[\"floodcu01\"],[\"florera01\"],[\"floribr01\"],[\"floweja01\"],[\"floydcl01\"],[\"floydga01\"],[\"flynndo01\"],[\"foileha01\"],[\"foleyto02\"],[\"foliti01\"],[\"fonsele01\"],[\"footeba01\"],[\"forceda01\"],[\"fordda01\"],[\"fordho01\"],[\"fordybr01\"],[\"foremfr01\"],[\"fornimi01\"],[\"forscbo01\"],[\"forscke01\"],[\"forstte01\"],[\"fossato01\"],[\"fossera01\"],[\"fosteal01\"],[\"fosteed02\"],[\"fostege01\"],[\"fothebo01\"],[\"foulkke01\"],[\"fournja01\"],[\"foutzda01\"],[\"fowledi01\"],[\"foxan01\"],[\"foxch02\"],[\"foxpe01\"],[\"foytapa01\"],[\"francbe01\"],[\"francje01\"],[\"francje02\"],[\"francjo01\"],[\"francju01\"],[\"francte01\"],[\"francti01\"],[\"frankfr02\"],[\"frankry01\"],[\"frasech01\"],[\"frazige01\"],[\"freehbi01\"],[\"freelry01\"],[\"freembu01\"],[\"freemma02\"],[\"freesge02\"],[\"fregoji01\"],[\"frencla01\"],[\"freylo01\"],[\"freyst01\"],[\"friaspe01\"],[\"fribebe01\"],[\"frienbo01\"],[\"friseda01\"],[\"frommar01\"],[\"frymatr01\"],[\"frymawo01\"],[\"fuentbr01\"],[\"fuentti01\"],[\"fuldsa01\"],[\"fulmech01\"],[\"furcara01\"],[\"furilca01\"],[\"gabrile02\"],[\"gaettga01\"],[\"gagliph01\"],[\"gagneer01\"],[\"gagnegr01\"],[\"gainede01\"],[\"galanau01\"],[\"galaran01\"],[\"galehde01\"],[\"gallada01\"],[\"gallayo01\"],[\"gallemi01\"],[\"gallibe01\"],[\"galloch01\"],[\"gamblos01\"],[\"gantnji01\"],[\"gantro01\"],[\"ganzech01\"],[\"garagjo01\"],[\"garbege01\"],[\"garceri01\"],[\"garcica01\"],[\"garcida01\"],[\"garcifr02\"],[\"garcija01\"],[\"garcika01\"],[\"garciki01\"],[\"garcimi01\"],[\"garcino01\"],[\"gardnbi02\"],[\"gardngi01\"],[\"gardnla01\"],[\"gardnma01\"],[\"gardnro01\"],[\"garlajo01\"],[\"garmami01\"],[\"garmsde01\"],[\"garneph01\"],[\"garresc01\"],[\"garrewa01\"],[\"garrra01\"],[\"garvene01\"],[\"garvest01\"],[\"garzama01\"],[\"gastoci01\"],[\"gastomi01\"],[\"gaudich01\"],[\"gedmari01\"],[\"geigega01\"],[\"gelbech01\"],[\"genewjo01\"],[\"gentiji01\"],[\"gerbewa01\"],[\"gerhajo01\"],[\"germaes01\"],[\"germaju01\"],[\"gernedi01\"],[\"geronce01\"],[\"gessldo01\"],[\"getzich01\"],[\"gharrpa01\"],[\"giambja01\"],[\"gibbojo01\"],[\"gibbsja01\"],[\"gibsoge01\"],[\"gibsoki01\"],[\"gilesbr02\"],[\"gilkebe01\"],[\"gilliba01\"],[\"gilliji01\"],[\"ginsbjo01\"],[\"girarjo01\"],[\"giustda01\"],[\"gladdda01\"],[\"gladdfr01\"],[\"glanvdo01\"],[\"glassja01\"],[\"glaustr01\"],[\"gleaski01\"],[\"gleatje01\"],[\"gloadro01\"],[\"glovega01\"],[\"glynned01\"],[\"goltzda01\"],[\"gomesjo01\"],[\"gomezca01\"],[\"gomezch02\"],[\"gomezru01\"],[\"gondeje01\"],[\"gonzaad01\"],[\"gonzaal01\"],[\"gonzaal02\"],[\"gonzaed01\"],[\"gonzajo02\"],[\"gonzaju03\"],[\"gonzalu01\"],[\"gonzami01\"],[\"gonzami02\"],[\"gonzare01\"],[\"gonzato01\"],[\"goochjo01\"],[\"goodedw01\"],[\"goodmbi01\"],[\"goodmiv01\"],[\"goodwi01\"],[\"goodwto01\"],[\"gordoal01\"],[\"gordosi01\"],[\"gordoto01\"],[\"gorege01\"],[\"gorzeto01\"],[\"gosgeji01\"],[\"gotayju01\"],[\"gottji01\"],[\"gowdyha01\"],[\"grabojo02\"],[\"gracema01\"],[\"gradymi01\"],[\"graffto01\"],[\"grammal01\"],[\"grandcu01\"],[\"graneja01\"],[\"grangwa01\"],[\"granted01\"],[\"grantge01\"],[\"grantma01\"],[\"grantmu01\"],[\"graveda01\"],[\"graydo02\"],[\"grayte01\"],[\"grebecr01\"],[\"greendi01\"],[\"greenle01\"],[\"greenmi01\"],[\"greenni01\"],[\"greensh01\"],[\"greento02\"],[\"greenwi01\"],[\"greggke01\"],[\"greggto01\"],[\"greinza01\"],[\"grichbo01\"],[\"grievbe01\"],[\"griffal01\"],[\"griffke01\"],[\"griffmi01\"],[\"griffto01\"],[\"griffto02\"],[\"grillja01\"],[\"grimbo01\"],[\"grimeos01\"],[\"grimjo01\"],[\"grimmch01\"],[\"grimsja01\"],[\"grimsro02\"],[\"grissle01\"],[\"grissma01\"],[\"grissma02\"],[\"groatdi01\"],[\"grohhe01\"],[\"gromest01\"],[\"groombo01\"],[\"grossgr01\"],[\"grosske01\"],[\"grosswa01\"],[\"groteje01\"],[\"grothjo01\"],[\"groveor01\"],[\"grubbjo01\"],[\"grubeke01\"],[\"grudzma01\"],[\"guantce01\"],[\"guarded01\"],[\"guerrma02\"],[\"guerrmi01\"],[\"guerrpe01\"],[\"guerrwi01\"],[\"guettle01\"],[\"guillca01\"],[\"guilljo01\"],[\"guilloz01\"],[\"gullibi01\"],[\"gumbead01\"],[\"gumbeha01\"],[\"gumpera01\"],[\"gundeer01\"],[\"gurala01\"],[\"gustifr01\"],[\"guthrje01\"],[\"guthrma01\"],[\"gutiefr01\"],[\"gutieri01\"],[\"guttedo01\"],[\"guzmacr01\"],[\"guzmaju01\"],[\"gwynnch01\"],[\"haasbe01\"],[\"haasmu01\"],[\"habyajo01\"],[\"hackewa02\"],[\"hackst01\"],[\"haddiha01\"],[\"hadlebu01\"],[\"haefnmi01\"],[\"hafnetr01\"],[\"hairsje01\"],[\"hairsje02\"],[\"hairssc01\"],[\"halamjo01\"],[\"haleod01\"],[\"halesa01\"],[\"hallabi01\"],[\"hallaro01\"],[\"hallbi03\"],[\"halldi01\"],[\"halleto01\"],[\"hallji02\"],[\"hallmbi01\"],[\"hallme01\"],[\"hallto01\"],[\"hallto02\"],[\"hamelco01\"],[\"hamilda01\"],[\"hamilda02\"],[\"hamilea01\"],[\"hamilja01\"],[\"hamiljo02\"],[\"hamilst01\"],[\"hammaat01\"],[\"hammeja01\"],[\"hammoch01\"],[\"hammoje01\"],[\"hamnegr01\"],[\"hamptmi01\"],[\"handlle01\"],[\"handsbi01\"],[\"haneych01\"],[\"haneyla01\"],[\"hanigry01\"],[\"hankifr01\"],[\"hannaji01\"],[\"hanseda01\"],[\"hansero02\"],[\"hansoer01\"],[\"happja01\"],[\"haranaa01\"],[\"hardeme01\"],[\"harderi01\"],[\"hardyjj01\"],[\"harenda01\"],[\"hargast01\"],[\"hargrbu01\"],[\"hargrmi01\"],[\"hargrpi01\"],[\"harmote01\"],[\"harnipe01\"],[\"harpebr01\"],[\"harpege02\"],[\"harpeha01\"],[\"harpeto01\"],[\"harrato01\"],[\"harrebu01\"],[\"harreke01\"],[\"harribr01\"],[\"harrige01\"],[\"harrigr01\"],[\"harrijo03\"],[\"harrile01\"],[\"harrimi01\"],[\"harrisl01\"],[\"harriwi01\"],[\"harshja01\"],[\"hartco01\"],[\"hartji01\"],[\"hartlgr01\"],[\"hartsto01\"],[\"hartzro01\"],[\"haselbi01\"],[\"hassero01\"],[\"hasslan01\"],[\"hatchbi01\"],[\"hatchmi01\"],[\"hatfifr01\"],[\"hatfigi01\"],[\"hattesc01\"],[\"hattogr01\"],[\"havenbr01\"],[\"hawkian01\"],[\"hawkila01\"],[\"hawlepi01\"],[\"hawpebr01\"],[\"hayesch01\"],[\"hayesfr01\"],[\"hayesja02\"],[\"hayesvo01\"],[\"hayneji01\"],[\"haynejo01\"],[\"haywora01\"],[\"headlch01\"],[\"healyfr02\"],[\"healyjo01\"],[\"hearnji01\"],[\"heathcl01\"],[\"heathje01\"],[\"heathmi02\"],[\"heatone01\"],[\"hebneri01\"],[\"heepda01\"],[\"heffndo01\"],[\"heganji01\"],[\"heganmi01\"],[\"heideja01\"],[\"heimafr01\"],[\"heintke01\"],[\"heisebo01\"],[\"heldwo01\"],[\"helliri01\"],[\"helmsto01\"],[\"helmswe01\"],[\"heltoto01\"],[\"hemmige01\"],[\"hemphch01\"],[\"hemslro01\"],[\"hemusso01\"],[\"hendeda01\"],[\"hendeke01\"],[\"hendest01\"],[\"hendrcl01\"],[\"hendrel01\"],[\"hendrge01\"],[\"hendrha01\"],[\"hendrma01\"],[\"henketo01\"],[\"henlibu01\"],[\"hennemi01\"],[\"henrito01\"],[\"henrybi01\"],[\"henrydo01\"],[\"henrydw01\"],[\"hentgpa01\"],[\"herbera01\"],[\"herbero01\"],[\"heredfe01\"],[\"heredgi01\"],[\"hergema01\"],[\"hermaba01\"],[\"hermadu01\"],[\"hermage01\"],[\"hermije01\"],[\"hernaca01\"],[\"hernafe02\"],[\"hernajo01\"],[\"hernake01\"],[\"hernali01\"],[\"hernaor01\"],[\"hernara01\"],[\"hernara02\"],[\"hernaro01\"],[\"hernawi01\"],[\"hernaxa01\"],[\"herndla01\"],[\"herriar01\"],[\"herrmed01\"],[\"herrto01\"],[\"hershmi01\"],[\"hershor01\"],[\"herzobu01\"],[\"heskejo01\"],[\"hessot01\"],[\"hevinjo02\"],[\"hiattja01\"],[\"hickmch01\"],[\"hickmji02\"],[\"hidalri01\"],[\"higbeki01\"],[\"higgibo02\"],[\"higgipi01\"],[\"highan01\"],[\"hildeor01\"],[\"hillaa01\"],[\"hillca01\"],[\"hillech01\"],[\"hillejo01\"],[\"hillesh02\"],[\"hillgl01\"],[\"hillke01\"],[\"hillko01\"],[\"hillma01\"],[\"hillri01\"],[\"hinchbi01\"],[\"hinespa01\"],[\"hinsker01\"],[\"hintoch01\"],[\"hislela01\"],[\"hitchbi01\"],[\"hitchst01\"],[\"hoagmy01\"],[\"hoakdo01\"],[\"hoblidi01\"],[\"hockide01\"],[\"hodapjo01\"],[\"hodgegi01\"],[\"hodgero01\"],[\"hoeftbi01\"],[\"hoernjo01\"],[\"hoffmda01\"],[\"hoffmgl01\"],[\"hofmaso01\"],[\"hogansh01\"],[\"hogsech01\"],[\"hoilech01\"],[\"holbebi01\"],[\"holkewa01\"],[\"hollaal01\"],[\"hollato01\"],[\"hollial01\"],[\"hollibu01\"],[\"hollida01\"],[\"hollima01\"],[\"holloke01\"],[\"holmeda01\"],[\"holmedu01\"],[\"holmeto01\"],[\"holtji01\"],[\"holtzke01\"],[\"honeyri01\"],[\"hooddo01\"],[\"hootobu01\"],[\"hoppjo01\"],[\"horlejo01\"],[\"hornebo01\"],[\"hornujo01\"],[\"hortowi01\"],[\"hosleti01\"],[\"houcksa01\"],[\"houghch01\"],[\"housefr03\"],[\"houstty01\"],[\"houttar01\"],[\"howarel01\"],[\"howarfr01\"],[\"howarry01\"],[\"howarth01\"],[\"howear01\"],[\"howelha01\"],[\"howelja01\"],[\"howelja02\"],[\"howeljp01\"],[\"howelro02\"],[\"howest01\"],[\"howrybo01\"],[\"hoydu01\"],[\"hraboal01\"],[\"hrbekke01\"],[\"hubbagl01\"],[\"hubbatr01\"],[\"hudlere01\"],[\"hudliwi01\"],[\"hudsoor01\"],[\"hudsosi01\"],[\"hudsoti01\"],[\"huffau01\"],[\"huffda01\"],[\"hugheph01\"],[\"hughero01\"],[\"hugheto01\"],[\"huletti01\"],[\"humeto01\"],[\"hummejo01\"],[\"humphbo01\"],[\"hundlni01\"],[\"hundlra01\"],[\"hundlto01\"],[\"huntebr01\"],[\"huntebr02\"],[\"hunteto01\"],[\"hunteto02\"],[\"huntro01\"],[\"hurdlcl01\"],[\"hurstbr01\"],[\"husonje01\"],[\"hutchfr01\"],[\"huttoto01\"],[\"iannech01\"],[\"ibanera01\"],[\"incavpe01\"],[\"infanom01\"],[\"ingebr01\"],[\"iorgda01\"],[\"irwinar01\"],[\"irwinch01\"],[\"isbelfr01\"],[\"ishiktr01\"],[\"isrinja01\"],[\"iviemi01\"],[\"izturce01\"],[\"izturma01\"],[\"jacklfr01\"],[\"jacksal01\"],[\"jacksda02\"],[\"jacksda03\"],[\"jacksda04\"],[\"jacksed01\"],[\"jacksgr01\"],[\"jacksjo01\"],[\"jacksla01\"],[\"jacksmi02\"],[\"jacksra01\"],[\"jacksro02\"],[\"jacksro03\"],[\"jacksso01\"],[\"jacobba01\"],[\"jacobbr01\"],[\"jacobel01\"],[\"jahajo01\"],[\"jamesbi01\"],[\"jamesbo01\"],[\"jamesch02\"],[\"jamesdi01\"],[\"jamiech01\"],[\"janvrha01\"],[\"jarvike01\"],[\"javieju01\"],[\"javiest01\"],[\"jayjo01\"],[\"jeffcha01\"],[\"jeffcmi01\"],[\"jeffegr01\"],[\"jeffeje01\"],[\"jeffere01\"],[\"jenkige01\"],[\"jenseja01\"],[\"jeterde01\"],[\"jimenda01\"],[\"jimenub01\"],[\"johnsal01\"],[\"johnsbi03\"],[\"johnsbo01\"],[\"johnsbo02\"],[\"johnsch04\"],[\"johnsch05\"],[\"johnscl01\"],[\"johnsda02\"],[\"johnsda06\"],[\"johnsde01\"],[\"johnsdo01\"],[\"johnser01\"],[\"johnsha01\"],[\"johnsho01\"],[\"johnsja01\"],[\"johnsja02\"],[\"johnsje01\"],[\"johnsji01\"],[\"johnsji04\"],[\"johnsjo07\"],[\"johnske02\"],[\"johnske05\"],[\"johnsla03\"],[\"johnsni01\"],[\"johnsre02\"],[\"johnsro02\"],[\"johnssi01\"],[\"johnssy01\"],[\"johnswa03\"],[\"johnto01\"],[\"jonesad01\"],[\"jonesan01\"],[\"jonesba01\"],[\"jonesbo03\"],[\"jonesch01\"],[\"jonesch05\"],[\"jonescl01\"],[\"jonesda01\"],[\"jonesda03\"],[\"jonesdo01\"],[\"jonesfi01\"],[\"jonesgo01\"],[\"jonesja04\"],[\"jonesma01\"],[\"jonesra01\"],[\"jonesru01\"],[\"jonessa01\"],[\"jonessa02\"],[\"jonesto02\"],[\"joneswi01\"],[\"joosted01\"],[\"jordabr01\"],[\"jordabu01\"],[\"jorgear01\"],[\"jorgemi01\"],[\"josefe01\"],[\"joshuvo01\"],[\"joynewa01\"],[\"judenje01\"],[\"judgejo01\"],[\"jurgebi01\"],[\"justida01\"],[\"kaatji01\"],[\"kahoemi01\"],[\"kamiesc01\"],[\"kammwi01\"],[\"kampoal01\"],[\"kaplega01\"],[\"karkoro01\"],[\"karroer01\"],[\"karsast01\"],[\"kaskoed01\"],[\"kaufmto01\"],[\"kazmisc01\"],[\"kearnau01\"],[\"keenaji01\"],[\"kekicmi01\"],[\"kellech01\"],[\"kellemi02\"],[\"kellnal01\"],[\"kellypa01\"],[\"kellyro01\"],[\"keltnke01\"],[\"kemmeru01\"],[\"kempma01\"],[\"kempst01\"],[\"kendafr01\"],[\"kendaja01\"],[\"kendrho01\"],[\"kennead01\"],[\"kennebo01\"],[\"kennebr01\"],[\"kenneia01\"],[\"kennejo03\"],[\"kennejo04\"],[\"kennete02\"],[\"kenneve01\"],[\"kensilo01\"],[\"kentje01\"],[\"keougma01\"],[\"keougma02\"],[\"keppije01\"],[\"kernji01\"],[\"kessido01\"],[\"keyji01\"],[\"kileda01\"],[\"killebi01\"],[\"killefr01\"],[\"kilroma01\"],[\"kimby01\"],[\"kindaje01\"],[\"kindeel01\"],[\"kingemi01\"],[\"kingje01\"],[\"kingji01\"],[\"kingmda01\"],[\"kingra01\"],[\"kingsi01\"],[\"kinslia01\"],[\"kinslto01\"],[\"kirklwi01\"],[\"kirkped01\"],[\"kisonbr01\"],[\"kitsofr01\"],[\"kittlro01\"],[\"kittrma01\"],[\"klausbi01\"],[\"kleinre01\"],[\"kleskry01\"],[\"klimclo01\"],[\"klinero01\"],[\"klinest02\"],[\"klingjo01\"],[\"klippjo01\"],[\"kluszte01\"],[\"kluttcl01\"],[\"knabeot01\"],[\"kneppbo01\"],[\"knickbi01\"],[\"knighra01\"],[\"knoblch01\"],[\"knoopbo01\"],[\"knorrra01\"],[\"knottja01\"],[\"knowlda01\"],[\"koenima01\"],[\"kollodo01\"],[\"kolpra01\"],[\"konerpa01\"],[\"koneted01\"],[\"konstji01\"],[\"kooncca01\"],[\"koosmje01\"],[\"kopfla01\"],[\"koscoan01\"],[\"kosloda01\"],[\"kotchca01\"],[\"kotsama01\"],[\"kottage01\"],[\"kralija01\"],[\"krameja01\"],[\"kraneed01\"],[\"kratzer01\"],[\"krausle02\"],[\"kreevmi01\"],[\"kremera01\"],[\"kressre01\"],[\"kretllo01\"],[\"kreutch01\"],[\"kruegbi01\"],[\"krukjo01\"],[\"krukomi01\"],[\"kubelja01\"],[\"kubiate01\"],[\"kuehnbi01\"],[\"kuennha01\"],[\"kuheljo01\"],[\"kuipedu01\"],[\"kuzavbo01\"],[\"laabsch01\"],[\"labincl01\"],[\"lachaca01\"],[\"lackejo01\"],[\"lacorfr01\"],[\"lacosmi01\"],[\"lacyle01\"],[\"laffeaa01\"],[\"lagami01\"],[\"lagrole01\"],[\"lahoujo01\"],[\"lairdge01\"],[\"lakeed01\"],[\"lakemal01\"],[\"lakerti01\"],[\"lakest01\"],[\"lamabja01\"],[\"lamarbi01\"],[\"lambmi01\"],[\"lampde01\"],[\"lampkto01\"],[\"landera01\"],[\"landiji01\"],[\"landrho01\"],[\"landrke01\"],[\"landrti01\"],[\"langery01\"],[\"langfri01\"],[\"langsma01\"],[\"lanieha01\"],[\"laniema01\"],[\"lankfra01\"],[\"lannijo01\"],[\"lansfca01\"],[\"lansimi01\"],[\"lapoida01\"],[\"laporfr01\"],[\"larkihe01\"],[\"larocad01\"],[\"larocda01\"],[\"larsedo01\"],[\"larueja01\"],[\"laryfr01\"],[\"laryly01\"],[\"lathaar01\"],[\"latmaba01\"],[\"latosma01\"],[\"lauch01\"],[\"lavagco01\"],[\"lavalmi01\"],[\"lavando01\"],[\"lavelga01\"],[\"lawsoro01\"],[\"lawtoma02\"],[\"lawva01\"],[\"lawve01\"],[\"leachfr01\"],[\"leachri01\"],[\"leachte01\"],[\"leachto01\"],[\"leagubr01\"],[\"learyti01\"],[\"leblawa01\"],[\"ledeeri01\"],[\"ledezwi01\"],[\"leebi02\"],[\"leebi03\"],[\"leeca01\"],[\"leecl02\"],[\"leede02\"],[\"leedo01\"],[\"leele02\"],[\"leema02\"],[\"leeth01\"],[\"leetr01\"],[\"leevesa01\"],[\"leffecr01\"],[\"lehnepa01\"],[\"leibeha01\"],[\"leibone01\"],[\"leibrch01\"],[\"leifile01\"],[\"leipeda01\"],[\"leiteal01\"],[\"leitema01\"],[\"lemasde01\"],[\"lemasjo01\"],[\"lemkema01\"],[\"lemonch01\"],[\"lemonji01\"],[\"leonadu01\"],[\"leonadu02\"],[\"leonaje01\"],[\"lepcite01\"],[\"lerchra01\"],[\"leskacu01\"],[\"leslisa01\"],[\"lestejo01\"],[\"levinal01\"],[\"lewisbu01\"],[\"lewisco01\"],[\"lewisda01\"],[\"lewisdu01\"],[\"lewisma01\"],[\"leyriji01\"],[\"lezcasi01\"],[\"lidgebr01\"],[\"lidleco01\"],[\"liebejo01\"],[\"liebemi01\"],[\"lillibo01\"],[\"lillyte01\"],[\"limajo01\"],[\"linceti01\"],[\"lindad01\"],[\"lindbpa01\"],[\"lindejo01\"],[\"lindjo01\"],[\"lindsji01\"],[\"linebsc01\"],[\"linzyfr01\"],[\"liponjo01\"],[\"liriafr01\"],[\"liriane01\"],[\"littldi01\"],[\"litwhda01\"],[\"livinmi01\"],[\"livinsc01\"],[\"lloydgr01\"],[\"loaizes01\"],[\"loberha01\"],[\"lockebo01\"],[\"lockebo02\"],[\"lockhke01\"],[\"lockmwh01\"],[\"lockwsk01\"],[\"loducpa01\"],[\"loeka01\"],[\"loesbi01\"],[\"loftoke01\"],[\"loganjo01\"],[\"lohrmbi01\"],[\"lohseky01\"],[\"lolicmi01\"],[\"lollash01\"],[\"lonboji01\"],[\"loneyja01\"],[\"longda02\"],[\"longhe01\"],[\"loopebr01\"],[\"lopated01\"],[\"lopatst01\"],[\"lopesda01\"],[\"lopezal02\"],[\"lopezau01\"],[\"lopezfe01\"],[\"lopezhe01\"],[\"lopezja01\"],[\"lopezja02\"],[\"lopezjo01\"],[\"lopezlu02\"],[\"lopezro01\"],[\"lordha01\"],[\"loretma01\"],[\"lowdegr01\"],[\"lowebo01\"],[\"lowede01\"],[\"lowelmi01\"],[\"lowema01\"],[\"lowenjo01\"],[\"lowntu01\"],[\"lowrepe01\"],[\"lucasre01\"],[\"luderfr01\"],[\"ludwiry01\"],[\"lugoju01\"],[\"lummi01\"],[\"lumpeje01\"],[\"luquedo01\"],[\"luzingr01\"],[\"lylesp01\"],[\"lynchje01\"],[\"lynnfr01\"],[\"lyonbr01\"],[\"lyonsde01\"],[\"lyonsst01\"],[\"mabryjo01\"],[\"macfada01\"],[\"macfami01\"],[\"macharo01\"],[\"mackra01\"],[\"macksh01\"],[\"maddoel01\"],[\"maddoga01\"],[\"maddumi01\"],[\"madlobi01\"],[\"madsory01\"],[\"magadda01\"],[\"mageele01\"],[\"mageesh01\"],[\"maglisa01\"],[\"magnami01\"],[\"mahayro01\"],[\"mahlemi01\"],[\"mahleri01\"],[\"maholpa01\"],[\"mahompa01\"],[\"majesha01\"],[\"maldoca01\"],[\"malonji01\"],[\"malonpa02\"],[\"malzofr01\"],[\"mamaual01\"],[\"mancugu01\"],[\"maniocl01\"],[\"mannija01\"],[\"manniri01\"],[\"mannle01\"],[\"manrifr01\"],[\"mantema01\"],[\"mantife01\"],[\"mantoje01\"],[\"manwaki01\"],[\"manzajo01\"],[\"marbefi01\"],[\"marioma01\"],[\"marisro01\"],[\"markani01\"],[\"marmoca01\"],[\"marquja01\"],[\"marreel01\"],[\"marsaar01\"],[\"marshdo01\"],[\"marshmi01\"],[\"marshmi02\"],[\"marshwi01\"],[\"marteda01\"],[\"martial03\"],[\"martibi02\"],[\"martibu01\"],[\"martica01\"],[\"martida01\"],[\"martide01\"],[\"martied01\"],[\"martijc01\"],[\"martije01\"],[\"martimo01\"],[\"martipe01\"],[\"martira02\"],[\"martira03\"],[\"martiru01\"],[\"martite01\"],[\"martiti02\"],[\"martito02\"],[\"martivi01\"],[\"marzajo01\"],[\"masiph01\"],[\"masonji01\"],[\"masonro01\"],[\"masseni01\"],[\"masteju01\"],[\"mastewa02\"],[\"mathebo01\"],[\"mathemi01\"],[\"mathetj01\"],[\"mathije01\"],[\"matlajo01\"],[\"matsuhi01\"],[\"matthga01\"],[\"matthga02\"],[\"mattido01\"],[\"mauchge01\"],[\"mauerjo01\"],[\"maulal01\"],[\"maxvida01\"],[\"maxwech01\"],[\"maybejo01\"],[\"maybica01\"],[\"mayca01\"],[\"mayda01\"],[\"mayde01\"],[\"mayele01\"],[\"mayerer01\"],[\"mayja01\"],[\"mayje01\"],[\"mayle01\"],[\"maymi01\"],[\"maynebr01\"],[\"mayru01\"],[\"maysca01\"],[\"mazzile01\"],[\"mcaleji01\"],[\"mcauldi01\"],[\"mcbeaal01\"],[\"mcbriba01\"],[\"mcbrige01\"],[\"mccanbr01\"],[\"mccaral01\"],[\"mccarbr01\"],[\"mccarda01\"],[\"mccarja01\"],[\"mccarjo03\"],[\"mccarle01\"],[\"mccarti01\"],[\"mcclubo01\"],[\"mccorba01\"],[\"mccorfr01\"],[\"mccorji01\"],[\"mccormi02\"],[\"mccormi03\"],[\"mccosba01\"],[\"mccraqu01\"],[\"mccrato01\"],[\"mccreto01\"],[\"mcculcl01\"],[\"mccurha01\"],[\"mcdanli01\"],[\"mcdermi03\"],[\"mcdonjo03\"],[\"mcdougi01\"],[\"mcdowro01\"],[\"mcdowsa01\"],[\"mcelrch01\"],[\"mcfared01\"],[\"mcgafan01\"],[\"mcganda01\"],[\"mcgarch01\"],[\"mcgeami01\"],[\"mcgeewi01\"],[\"mcgehca01\"],[\"mcgloji01\"],[\"mcgloly01\"],[\"mcgrabo01\"],[\"mcgratu01\"],[\"mcgrifr01\"],[\"mcguide01\"],[\"mcgwima01\"],[\"mcinnst01\"],[\"mcintma01\"],[\"mckeaed01\"],[\"mclaide01\"],[\"mcleala01\"],[\"mclemma01\"],[\"mclisca01\"],[\"mclouna01\"],[\"mcmahdo02\"],[\"mcmahsa01\"],[\"mcmanma01\"],[\"mcmicgr01\"],[\"mcmilro01\"],[\"mcmulke01\"],[\"mcnaier01\"],[\"mcnalda01\"],[\"mcnalmi01\"],[\"mcquige01\"],[\"mcquige02\"],[\"mcquihu01\"],[\"mcraebr01\"],[\"mcraeha01\"],[\"mcreyke01\"],[\"mcwilla01\"],[\"meadobr01\"],[\"meadole01\"],[\"mechegi01\"],[\"mecirji01\"],[\"medicdo01\"],[\"meekijo01\"],[\"melanma01\"],[\"melesa01\"],[\"melhuad01\"],[\"melilsk01\"],[\"meltobi01\"],[\"melvibo01\"],[\"mendora01\"],[\"menefjo01\"],[\"menkede01\"],[\"mercaor01\"],[\"merceor01\"],[\"merckke01\"],[\"merklfr01\"],[\"merlolo01\"],[\"merribi01\"],[\"merriji01\"],[\"mertesa01\"],[\"mesajo01\"],[\"messean01\"],[\"metkoca01\"],[\"metzgro01\"],[\"meusebo01\"],[\"meuseir01\"],[\"meyerch01\"],[\"meyerda01\"],[\"meyerru01\"],[\"micelda01\"],[\"michaca01\"],[\"michage01\"],[\"michaja01\"],[\"mientdo01\"],[\"mieskma01\"],[\"mikkepe01\"],[\"miksied01\"],[\"milancl01\"],[\"milbola01\"],[\"millafe01\"],[\"millake01\"],[\"millean01\"],[\"millebi02\"],[\"millebo02\"],[\"millebo04\"],[\"milleco01\"],[\"milleda02\"],[\"milledo01\"],[\"milledo02\"],[\"milleed03\"],[\"milleno01\"],[\"milleot01\"],[\"milleri01\"],[\"millest01\"],[\"milletr02\"],[\"millijo01\"],[\"millsal01\"],[\"millwke01\"],[\"milnaal01\"],[\"milnejo01\"],[\"miltoer01\"],[\"minchdo01\"],[\"mingost01\"],[\"minnepa01\"],[\"minosmi01\"],[\"mintogr01\"],[\"mirabdo01\"],[\"miranwi01\"],[\"mitchcl01\"],[\"mitchda01\"],[\"mitchke01\"],[\"mitchmi01\"],[\"mitchwi01\"],[\"mittege01\"],[\"mizelvi01\"],[\"mlickda01\"],[\"moehlbr01\"],[\"moellch01\"],[\"moffira01\"],[\"mogrige01\"],[\"mohlemi01\"],[\"molinbe01\"],[\"molinbo01\"],[\"molinjo01\"],[\"molinya01\"],[\"mollwfr01\"],[\"monbobi01\"],[\"mondari01\"],[\"mondera01\"],[\"moneydo01\"],[\"mongesi01\"],[\"monrocr01\"],[\"montawi01\"],[\"montejo01\"],[\"montemi01\"],[\"monteri01\"],[\"montgbo01\"],[\"montgje01\"],[\"moonwa01\"],[\"moorech02\"],[\"mooredo01\"],[\"mooreea01\"],[\"mooreed01\"],[\"moorege03\"],[\"moorejo01\"],[\"moorejo02\"],[\"mooremi01\"],[\"moorera01\"],[\"moorera02\"],[\"moorete01\"],[\"moosebo01\"],[\"moralfr01\"],[\"moralje01\"],[\"moraljo01\"],[\"moralke01\"],[\"morame01\"],[\"moranmi01\"],[\"moranpa01\"],[\"mordemi01\"],[\"morelke01\"],[\"morenom01\"],[\"morgabo01\"],[\"morgacy01\"],[\"morgami01\"],[\"morgato01\"],[\"moriage02\"],[\"morneju01\"],[\"morriha02\"],[\"morriji01\"],[\"morrijo01\"],[\"morrijo04\"],[\"morrima01\"],[\"morrobr01\"],[\"morsemi01\"],[\"mortogu01\"],[\"morynwa01\"],[\"mosebll01\"],[\"mosesje01\"],[\"mosesjo01\"],[\"moseswa01\"],[\"mossbr01\"],[\"mossido01\"],[\"mossle01\"],[\"mostijo01\"],[\"motagu01\"],[\"motama01\"],[\"mowremi01\"],[\"moyerja01\"],[\"moylape01\"],[\"muellbi02\"],[\"muelldo01\"],[\"muellhe01\"],[\"muellra01\"],[\"mujiced01\"],[\"mulhote01\"],[\"mullato01\"],[\"mullige01\"],[\"mullipa01\"],[\"mullira01\"],[\"mulvejo01\"],[\"mumphje01\"],[\"muncrbo01\"],[\"mungere01\"],[\"mungova01\"],[\"munozmi01\"],[\"munsoth01\"],[\"murcebo01\"],[\"murphda02\"],[\"murphda05\"],[\"murphda07\"],[\"murphdw01\"],[\"murphed02\"],[\"murphjo04\"],[\"murphmo01\"],[\"murphro01\"],[\"murphto02\"],[\"murrada01\"],[\"murrare01\"],[\"murreiv01\"],[\"muserto01\"],[\"mussimi01\"],[\"myattgl01\"],[\"myerbu01\"],[\"myersbr01\"],[\"myersgr01\"],[\"myershy01\"],[\"myersmi01\"],[\"myersra01\"],[\"nadyxa01\"],[\"nagych01\"],[\"napolmi01\"],[\"naragha01\"],[\"nashbi01\"],[\"nathajo01\"],[\"navardi01\"],[\"navarja01\"],[\"neaglde01\"],[\"needhto01\"],[\"nehfar01\"],[\"nelsoca01\"],[\"nelsoda01\"],[\"nelsoge01\"],[\"nelsoje01\"],[\"nelsoro01\"],[\"nenro01\"],[\"nettlgr01\"],[\"nevinph01\"],[\"newcodo01\"],[\"newsobo01\"],[\"newsosk01\"],[\"niarhgu01\"],[\"nichobi01\"],[\"nicolhu01\"],[\"nicosst01\"],[\"niedeto01\"],[\"niekrjo01\"],[\"niemabo01\"],[\"niesejo01\"],[\"nievewi01\"],[\"niggejo01\"],[\"nitkocj01\"],[\"nixja01\"],[\"nixla01\"],[\"nixonot01\"],[\"nixonru01\"],[\"nixontr01\"],[\"nokesma01\"],[\"nolanga01\"],[\"nolanjo01\"],[\"nolasri01\"],[\"nolesdi01\"],[\"nomohi01\"],[\"nordhwa01\"],[\"norenir01\"],[\"normafr01\"],[\"norribu01\"],[\"norrimi01\"],[\"northbi01\"],[\"northji01\"],[\"northro01\"],[\"nortogr01\"],[\"nottedo01\"],[\"nunamle01\"],[\"nunezab01\"],[\"nunezvl01\"],[\"nuxhajo01\"],[\"oatesjo01\"],[\"oberkke01\"],[\"obriech01\"],[\"obriepe03\"],[\"ochoaal01\"],[\"oconnda02\"],[\"oconnja01\"],[\"odayda01\"],[\"odeake01\"],[\"odellbi01\"],[\"odombl01\"],[\"odonojo01\"],[\"odoulle01\"],[\"oeschjo01\"],[\"oestero01\"],[\"ofarrbo01\"],[\"offerjo01\"],[\"officro01\"],[\"oflaher01\"],[\"oglivbe01\"],[\"ohkato01\"],[\"ohlenro01\"],[\"ohmanwi01\"],[\"ojedabo01\"],[\"oldriru01\"],[\"olearch01\"],[\"oleartr01\"],[\"olerujo01\"],[\"olivaom01\"],[\"olivato01\"],[\"oliveal01\"],[\"olivebo01\"],[\"oliveda02\"],[\"olivege01\"],[\"olivejo01\"],[\"olivomi01\"],[\"olsongr01\"],[\"olsoniv01\"],[\"omallto01\"],[\"oneilmi02\"],[\"oneilpa01\"],[\"oneilst01\"],[\"oneilti01\"],[\"ontivst02\"],[\"oquenjo01\"],[\"ordonma01\"],[\"oroscje01\"],[\"orourfr01\"],[\"orrda01\"],[\"orsuljo01\"],[\"ortajo01\"],[\"ortegph01\"],[\"orthal01\"],[\"ortizda01\"],[\"ortizju01\"],[\"ortizra01\"],[\"ortizru01\"],[\"osikke01\"],[\"osteecl01\"],[\"osterfr01\"],[\"osunaan01\"],[\"oswalro01\"],[\"otisam01\"],[\"otoolji01\"],[\"outlaji01\"],[\"overbly01\"],[\"overmst01\"],[\"owchibo01\"],[\"owenmi01\"],[\"owensji01\"],[\"owensp01\"],[\"pacioto01\"],[\"padilvi01\"],[\"pafkoan01\"],[\"paganan01\"],[\"paganjo01\"],[\"pagliji01\"],[\"paglimi01\"],[\"pagnoto01\"],[\"paintla01\"],[\"palicer01\"],[\"palldo01\"],[\"palmeda01\"],[\"palmede01\"],[\"palmeor01\"],[\"palmera01\"],[\"pappami01\"],[\"paquecr01\"],[\"parenfr01\"],[\"parenma01\"],[\"parkch01\"],[\"parkeda01\"],[\"parmero01\"],[\"parneme01\"],[\"parrage01\"],[\"parreje01\"],[\"parrila01\"],[\"parrila02\"],[\"pascuca02\"],[\"paskedo01\"],[\"pasquda01\"],[\"passecl01\"],[\"patekfr01\"],[\"pattebo01\"],[\"patteco01\"],[\"pattima01\"],[\"pauljo01\"],[\"pavanca01\"],[\"pavledo01\"],[\"paytoja01\"],[\"peacojo01\"],[\"pearcst01\"],[\"pearsal02\"],[\"pearsmo01\"],[\"peavyja01\"],[\"peckiro01\"],[\"pedrodu01\"],[\"peitzhe01\"],[\"pelfrmi01\"],[\"peltyba01\"],[\"penaal01\"],[\"penabr01\"],[\"penaca01\"],[\"penaor01\"],[\"penato01\"],[\"penawi01\"],[\"pencehu01\"],[\"pendlte01\"],[\"pennicl01\"],[\"pennybr01\"],[\"pepitjo01\"],[\"peraljh01\"],[\"peraljo01\"],[\"percitr01\"],[\"perezed01\"],[\"perezed02\"],[\"perezma01\"],[\"perezne01\"],[\"perezod01\"],[\"perezol01\"],[\"perezpa01\"],[\"perezto03\"],[\"perkicy01\"],[\"perkigl01\"],[\"perraro01\"],[\"perripo01\"],[\"perryge01\"],[\"perryhe01\"],[\"perryji01\"],[\"persoro01\"],[\"peskyjo01\"],[\"peterfr01\"],[\"peterga01\"],[\"peterjo01\"],[\"peterru02\"],[\"petrage01\"],[\"petrori01\"],[\"petryda01\"],[\"pettian01\"],[\"pettiga01\"],[\"pfefffr01\"],[\"pfeffje01\"],[\"phelpba01\"],[\"phelped01\"],[\"phelpjo01\"],[\"phelpke01\"],[\"phillad01\"],[\"phillbi01\"],[\"phillbr01\"],[\"phillbu02\"],[\"phillda01\"],[\"phillde01\"],[\"phillja02\"],[\"phillmi01\"],[\"phillto02\"],[\"picciro01\"],[\"pichahi01\"],[\"picinva01\"],[\"piercbi02\"],[\"pierrju01\"],[\"piersji01\"],[\"pierzaj01\"],[\"pikeli01\"],[\"pineijo01\"],[\"pinielo01\"],[\"pinknge01\"],[\"pinsova01\"],[\"pipgrge01\"],[\"pippwa01\"],[\"pizarju01\"],[\"plantph01\"],[\"plesada01\"],[\"plummbi01\"],[\"plunker01\"],[\"pocorbi01\"],[\"podbibu01\"],[\"podrejo01\"],[\"podsesc01\"],[\"polanpl01\"],[\"politcl01\"],[\"polleho01\"],[\"polonlu01\"],[\"ponsosi01\"],[\"pooleji02\"],[\"popovpa01\"],[\"portebo01\"],[\"porteda02\"],[\"portuma01\"],[\"posadjo01\"],[\"postwa01\"],[\"pottene01\"],[\"powelbo01\"],[\"powelja01\"],[\"powelja03\"],[\"powelja04\"],[\"powerdo01\"],[\"powerte01\"],[\"powervi01\"],[\"pradoma01\"],[\"prattde01\"],[\"prattto02\"],[\"priceda01\"],[\"pricejo02\"],[\"priddbo01\"],[\"priddje01\"],[\"pridecu01\"],[\"princto01\"],[\"pruitro01\"],[\"pryorgr01\"],[\"puhlte01\"],[\"pujolal01\"],[\"puntoni01\"],[\"purcebl01\"],[\"purkebo01\"],[\"pytlafr01\"],[\"quallch01\"],[\"quantpa01\"],[\"questjo01\"],[\"quinnja01\"],[\"quinnjo02\"],[\"quinthu01\"],[\"quintom01\"],[\"quirkja01\"],[\"quirogu01\"],[\"quiseda01\"],[\"raburry01\"],[\"radatdi01\"],[\"radclri01\"],[\"raderda01\"],[\"raderdo02\"],[\"radfopa01\"],[\"radinsc01\"],[\"radkebr01\"],[\"raffeke01\"],[\"raganpa01\"],[\"ramiral03\"],[\"ramirar01\"],[\"ramirha01\"],[\"ramirma02\"],[\"ramirra01\"],[\"ramirra02\"],[\"ramosdo01\"],[\"ramospe01\"],[\"randajo01\"],[\"randlle01\"],[\"randowi01\"],[\"ransoco01\"],[\"rapppa01\"],[\"raridbi01\"],[\"raschvi01\"],[\"rasmude01\"],[\"rasmuer01\"],[\"rauchjo01\"],[\"rawlesh01\"],[\"rawlijo01\"],[\"rayjo01\"],[\"raymocl01\"],[\"readyra01\"],[\"reardje01\"],[\"rebouje01\"],[\"redmama01\"],[\"redmomi01\"],[\"redusga01\"],[\"reedho01\"],[\"reedje02\"],[\"reedjo01\"],[\"reedri01\"],[\"reedro01\"],[\"reedst01\"],[\"reeseri01\"],[\"reganph01\"],[\"reichri01\"],[\"reilljo01\"],[\"reisepe01\"],[\"reitzke01\"],[\"relafde01\"],[\"remlimi01\"],[\"remseja01\"],[\"remyje01\"],[\"renkost01\"],[\"renteed01\"],[\"repozro01\"],[\"repulri01\"],[\"retteme01\"],[\"reulbed01\"],[\"reuscri01\"],[\"reussje01\"],[\"reyesal01\"],[\"reyesca01\"],[\"reyesde01\"],[\"reyesjo01\"],[\"reynoal01\"],[\"reynoar02\"],[\"reynoca01\"],[\"reynocr01\"],[\"reynoha01\"],[\"reynoma01\"],[\"reynosh01\"],[\"rhemfl01\"],[\"rhodear01\"],[\"rhoderi01\"],[\"ricede01\"],[\"riceha01\"],[\"richabo01\"],[\"richacl01\"],[\"richada01\"],[\"richaha01\"],[\"richajr01\"],[\"richepe01\"],[\"richile01\"],[\"riddlel01\"],[\"ridzist01\"],[\"riggsle01\"],[\"righeda01\"],[\"rijojo01\"],[\"rileser01\"],[\"rincoju01\"],[\"rincori01\"],[\"ringji01\"],[\"riosal01\"],[\"ripkebi01\"],[\"riskeda01\"],[\"ritchcl01\"],[\"riverji01\"],[\"riverju01\"],[\"riverlu01\"],[\"riverma01\"],[\"rivermi01\"],[\"roberbi01\"],[\"roberbo01\"],[\"roberbr01\"],[\"roberda01\"],[\"roberda05\"],[\"roberda06\"],[\"roberda07\"],[\"roberge01\"],[\"roberle01\"],[\"roberna01\"],[\"roberry01\"],[\"robersh01\"],[\"robinbi02\"],[\"robindo01\"],[\"robined01\"],[\"robinfl01\"],[\"robinje01\"],[\"robinro01\"],[\"robinya01\"],[\"rodgean01\"],[\"rodnefe01\"],[\"rodrial01\"],[\"rodriau01\"],[\"rodrife01\"],[\"rodrifr03\"],[\"rodrihe02\"],[\"rodriri02\"],[\"rodriwa01\"],[\"roebued01\"],[\"roeniga01\"],[\"roepr01\"],[\"rogelbi01\"],[\"rogerke01\"],[\"rogerst01\"],[\"rogovsa01\"],[\"rojasco01\"],[\"rojasme01\"],[\"rolanji01\"],[\"rolensc01\"],[\"rolfere01\"],[\"rolliji01\"],[\"rolliri01\"],[\"romanjo01\"],[\"romered01\"],[\"romerjc01\"],[\"rommeed01\"],[\"romovi01\"],[\"roofph01\"],[\"rookeji01\"],[\"rootch01\"],[\"rosalad01\"],[\"rosarbu01\"],[\"rosebjo01\"],[\"rosemch01\"],[\"rosenal01\"],[\"rosenla01\"],[\"rosepe01\"],[\"rossbu02\"],[\"rossco01\"],[\"rossda01\"],[\"rossga01\"],[\"rothbr01\"],[\"rothrja01\"],[\"rowanaa01\"],[\"roweja01\"],[\"rowesc01\"],[\"roystje01\"],[\"ruckena01\"],[\"rudijo01\"],[\"rudoldi01\"],[\"rudolke01\"],[\"ruelmu01\"],[\"rueteki01\"],[\"ruethdu01\"],[\"ruffibr01\"],[\"ruggiju01\"],[\"ruhleve01\"],[\"ruizca01\"],[\"runnepe01\"],[\"ruschgl01\"],[\"rushbo01\"],[\"russeal01\"],[\"russebi01\"],[\"russeja01\"],[\"russeje01\"],[\"russeji01\"],[\"russejo02\"],[\"ruthvdi01\"],[\"ryanbj01\"],[\"ryanbr01\"],[\"ryanco01\"],[\"ryanja01\"],[\"ryanji01\"],[\"ryanmi02\"],[\"ryanro01\"],[\"rybami01\"],[\"rzepcma01\"],[\"sabatcc01\"],[\"saberbr01\"],[\"saboch01\"],[\"sadecra01\"],[\"sadledo01\"],[\"sainjo01\"],[\"sakatle01\"],[\"salazlu01\"],[\"sallesl01\"],[\"salmoti01\"],[\"saltaja01\"],[\"samarje01\"],[\"sambijo01\"],[\"samueju01\"],[\"sanchan01\"],[\"sanchfr01\"],[\"sanchre01\"],[\"sandede02\"],[\"sandeke01\"],[\"sandere02\"],[\"sandesc01\"],[\"sanfoja02\"],[\"sanguma01\"],[\"santaer01\"],[\"santajo01\"],[\"santibe01\"],[\"santira01\"],[\"sassema01\"],[\"satrito01\"],[\"sauerha01\"],[\"saundjo01\"],[\"savagte01\"],[\"sawatca01\"],[\"saxst01\"],[\"scanlbo01\"],[\"scarbra01\"],[\"schaapa01\"],[\"schaege01\"],[\"schanwa01\"],[\"schatda01\"],[\"schefbo01\"],[\"scheica01\"],[\"scheiri01\"],[\"schiena01\"],[\"schilcu01\"],[\"schmida01\"],[\"schmija01\"],[\"schmijo01\"],[\"schmiwa01\"],[\"schnebr01\"],[\"schoesc01\"],[\"schofdi01\"],[\"schofdi02\"],[\"schoupe01\"],[\"schreos01\"],[\"schripo01\"],[\"schulfr01\"],[\"schulfr02\"],[\"schuljo03\"],[\"schumha02\"],[\"schumsk01\"],[\"schupfe01\"],[\"schuri01\"],[\"sciosmi01\"],[\"scottev01\"],[\"scottge02\"],[\"scottja01\"],[\"scottmi03\"],[\"scottti01\"],[\"scottto01\"],[\"scutama01\"],[\"seaneru01\"],[\"seedsbo01\"],[\"seeryem01\"],[\"seguida01\"],[\"seguidi01\"],[\"seitzke01\"],[\"selbaki01\"],[\"seleaa01\"],[\"selmadi01\"],[\"seminan01\"],[\"servasc01\"],[\"servisc01\"],[\"severha01\"],[\"sewellu01\"],[\"sewelri01\"],[\"sexsori01\"],[\"seymocy01\"],[\"shaffor01\"],[\"shankho01\"],[\"shantbo01\"],[\"shautjo01\"],[\"shawbo01\"],[\"shawje01\"],[\"shawkbo01\"],[\"sheame01\"],[\"sheanda01\"],[\"sheckji01\"],[\"sheetbe01\"],[\"sheffga01\"],[\"shelbjo01\"],[\"shellji01\"],[\"sherdbi01\"],[\"sheripa01\"],[\"sherrge01\"],[\"sherrla01\"],[\"shielja02\"],[\"shielsc01\"],[\"shindbi01\"],[\"shiplcr01\"],[\"shirlbo01\"],[\"shochge01\"],[\"shockur01\"],[\"shoppke01\"],[\"shortch02\"],[\"shottbu01\"],[\"shouncl01\"],[\"shower01\"],[\"shueypa01\"],[\"shumpte01\"],[\"siebedi01\"],[\"siebeno01\"],[\"siebeso01\"],[\"sierrru01\"],[\"sievero01\"],[\"silvech01\"],[\"simmocu01\"],[\"simmote01\"],[\"simonra01\"],[\"simpsha01\"],[\"simsdu01\"],[\"sinatma01\"],[\"singebi01\"],[\"singlke01\"],[\"sistisi01\"],[\"sizemgr01\"],[\"sizemte01\"],[\"skinnbo01\"],[\"skinnjo01\"],[\"skowrbi01\"],[\"slaglji01\"],[\"slatoji01\"],[\"slaugdo01\"],[\"slocuhe01\"],[\"smallaa01\"],[\"smallro01\"],[\"smallro02\"],[\"smilejo01\"],[\"smithal01\"],[\"smithal03\"],[\"smithal04\"],[\"smithbo02\"],[\"smithbr01\"],[\"smithch02\"],[\"smithch04\"],[\"smithda02\"],[\"smithea02\"],[\"smithed04\"],[\"smithel01\"],[\"smithel02\"],[\"smithfr03\"],[\"smithge01\"],[\"smithge02\"],[\"smithha03\"],[\"smithha08\"],[\"smithja03\"],[\"smithja05\"],[\"smithjo05\"],[\"smithle02\"],[\"smithlo01\"],[\"smithpe02\"],[\"smithph01\"],[\"smithpo01\"],[\"smithre02\"],[\"smithre06\"],[\"smithse01\"],[\"smithsh01\"],[\"smithwi02\"],[\"smithza01\"],[\"snidetr01\"],[\"snodgfr01\"],[\"snowjt01\"],[\"snydech02\"],[\"snydeco02\"],[\"snydefr01\"],[\"snydepo01\"],[\"snyderu01\"],[\"soderer01\"],[\"sojolu01\"],[\"solomed01\"],[\"soltemo01\"],[\"sommejo01\"],[\"sorenla01\"],[\"soriaal01\"],[\"soriara01\"],[\"sorrepa01\"],[\"sorrevi01\"],[\"sosael01\"],[\"sosajo02\"],[\"sosasa01\"],[\"sothoal01\"],[\"sotoge01\"],[\"sotoma01\"],[\"spangal01\"],[\"sparkst01\"],[\"sparktu01\"],[\"spehrti01\"],[\"speiech01\"],[\"speieju01\"],[\"spencda01\"],[\"spencji01\"],[\"spencro01\"],[\"spencst01\"],[\"spierbi01\"],[\"spiezed01\"],[\"spiezsc01\"],[\"spillda01\"],[\"spilmha01\"],[\"splitpa01\"],[\"spraged01\"],[\"spraged02\"],[\"sprinja01\"],[\"sprinru01\"],[\"squirmi01\"],[\"staffge01\"],[\"stahlch01\"],[\"stahlja01\"],[\"stahlla01\"],[\"staintu01\"],[\"stairma01\"],[\"stalege01\"],[\"stanaos01\"],[\"stangle01\"],[\"stanhdo01\"],[\"stanked01\"],[\"stanlfr01\"],[\"stanlmi01\"],[\"stanlmi02\"],[\"stantmi02\"],[\"startjo01\"],[\"staubru01\"],[\"staufti01\"],[\"stclara01\"],[\"stearjo01\"],[\"steinbi02\"],[\"steinha01\"],[\"steinte01\"],[\"stennre01\"],[\"stenzja01\"],[\"stephge01\"],[\"stephjo02\"],[\"stephri01\"],[\"stephve01\"],[\"stevele01\"],[\"stewabu01\"],[\"stewach01\"],[\"stewada01\"],[\"stewaji01\"],[\"stewale01\"],[\"stewash01\"],[\"stiebda01\"],[\"stillku01\"],[\"stinnke01\"],[\"stinsbo01\"],[\"stirnsn01\"],[\"stiveja01\"],[\"stobbch01\"],[\"stockmi01\"],[\"stockwe01\"],[\"stoddti01\"],[\"stonede01\"],[\"stonejo01\"],[\"stonest01\"],[\"stottme01\"],[\"stottto01\"],[\"stovage01\"],[\"stoveha01\"],[\"stransa01\"],[\"stratsc01\"],[\"strawda01\"],[\"streega01\"],[\"streehu01\"],[\"striccu01\"],[\"stricge01\"],[\"strinni01\"],[\"stripjo01\"],[\"stroppe01\"],[\"strunam01\"],[\"stuardi01\"],[\"stubbdr01\"],[\"stubbfr01\"],[\"stulter01\"],[\"sturdto01\"],[\"sturtta01\"],[\"stynech01\"],[\"suderpe01\"],[\"sudhowi01\"],[\"sugdejo01\"],[\"suhrgu01\"],[\"sukefcl01\"],[\"sullibi03\"],[\"sullibi04\"],[\"sullifr01\"],[\"sullimi02\"],[\"sullisc01\"],[\"summaho01\"],[\"summech01\"],[\"sundbji01\"],[\"sundrst01\"],[\"suppaje01\"],[\"surhobj01\"],[\"surkoma01\"],[\"sutclri01\"],[\"suthega01\"],[\"suttoez01\"],[\"suzukic01\"],[\"suzukku01\"],[\"sveumda01\"],[\"swancr01\"],[\"sweenma01\"],[\"sweenmi01\"],[\"swiftbi01\"],[\"swiftbi02\"],[\"swiftbo01\"],[\"swindgr01\"],[\"swishni01\"],[\"swoboro01\"],[\"tablepa01\"],[\"talbofr01\"],[\"tallebr01\"],[\"tananfr01\"],[\"tanneje01\"],[\"tannele01\"],[\"tapanke01\"],[\"tartada01\"],[\"tartajo01\"],[\"tatebe01\"],[\"tatisfe01\"],[\"taubeed01\"],[\"tavarju01\"],[\"taverfr01\"],[\"taylobi01\"],[\"tayloda01\"],[\"taylodu01\"],[\"tayloha04\"],[\"tayloja02\"],[\"tayloro01\"],[\"tayloto02\"],[\"tayloza02\"],[\"tebbebi01\"],[\"tebeapa01\"],[\"teixema01\"],[\"tejadmi01\"],[\"tekulke01\"],[\"telemam01\"],[\"templga01\"],[\"templjo01\"],[\"tenacge01\"],[\"tennefr02\"],[\"terrewa01\"],[\"terryad01\"],[\"terryra01\"],[\"terwiwa01\"],[\"tettlmi01\"],[\"teufeti01\"],[\"tewksbo01\"],[\"thamema01\"],[\"thatcjo01\"],[\"theveto01\"],[\"thigpbo01\"],[\"thomade01\"],[\"thomafr03\"],[\"thomaga01\"],[\"thomage01\"],[\"thomago01\"],[\"thomair01\"],[\"thomale03\"],[\"thomapi01\"],[\"thomaro01\"],[\"thomato02\"],[\"thompja01\"],[\"thompmi02\"],[\"thompro01\"],[\"thomsbo01\"],[\"thomsjo01\"],[\"thondi01\"],[\"thornan01\"],[\"thornma01\"],[\"thurssl01\"],[\"tiantlu01\"],[\"tidrodi01\"],[\"tiefebo01\"],[\"tiernmi01\"],[\"tillmbo01\"],[\"timlimi01\"],[\"tinglro01\"],[\"titusjo01\"],[\"tobinja01\"],[\"tobinji01\"],[\"toddal01\"],[\"tolanbo01\"],[\"tollewa01\"],[\"tomkobr01\"],[\"tomlida01\"],[\"toneyfr01\"],[\"torboje01\"],[\"torgeea01\"],[\"torremi01\"],[\"torresa01\"],[\"torreyo01\"],[\"tovarce01\"],[\"trachst01\"],[\"tracych01\"],[\"travice01\"],[\"treadje01\"],[\"treanma01\"],[\"treshmi01\"],[\"treshto01\"],[\"trevial01\"],[\"triangu01\"],[\"trillma01\"],[\"trombmi01\"],[\"troskha01\"],[\"troutdi01\"],[\"troutst01\"],[\"truckvi01\"],[\"tsitojo01\"],[\"tuckemi01\"],[\"tucketo01\"],[\"tudorjo01\"],[\"tulowtr01\"],[\"turlebo01\"],[\"turneje01\"],[\"turneji01\"],[\"turnete01\"],[\"tuttlbi01\"],[\"twitcla01\"],[\"twitcwa01\"],[\"tylerle01\"],[\"tysonmi01\"],[\"ugglada01\"],[\"uhlege01\"],[\"underto01\"],[\"unserde01\"],[\"upshace01\"],[\"upshawi01\"],[\"uptonbj01\"],[\"uptonju01\"],[\"urbinug01\"],[\"uribejo01\"],[\"uribeju01\"],[\"utleych01\"],[\"vailmi01\"],[\"valdeis01\"],[\"valenbo02\"],[\"valenda01\"],[\"valenel01\"],[\"valenfe01\"],[\"valenja01\"],[\"valenjo02\"],[\"valenjo03\"],[\"valleda01\"],[\"valoel01\"],[\"valvejo01\"],[\"vandejo01\"],[\"vandejo02\"],[\"vangiel01\"],[\"vanhage01\"],[\"vanpoto01\"],[\"vanslan01\"],[\"vargacl01\"],[\"vargaja01\"],[\"varitja01\"],[\"vaughfa01\"],[\"vaughgr01\"],[\"vaughhi01\"],[\"vaughmo01\"],[\"vazquja01\"],[\"vazqura01\"],[\"veachbo01\"],[\"vealebo01\"],[\"velanjo01\"],[\"velarra01\"],[\"velezot01\"],[\"venabma01\"],[\"venabwi01\"],[\"venturo01\"],[\"verasjo01\"],[\"verbaem01\"],[\"veresda01\"],[\"verlaju01\"],[\"vernomi01\"],[\"versazo01\"],[\"veryzto01\"],[\"victosh01\"],[\"vidrojo01\"],[\"villaca01\"],[\"villoro01\"],[\"vinafe01\"],[\"violafr01\"],[\"virdobi01\"],[\"virgioz01\"],[\"virgioz02\"],[\"vittos01\"],[\"vizcajo01\"],[\"vizcalu01\"],[\"vizquom01\"],[\"vogelry01\"],[\"voisebi01\"],[\"vollmcl01\"],[\"volqued01\"],[\"vosbeed01\"],[\"vosmijo01\"],[\"vossbi01\"],[\"vottojo01\"],[\"vuckope01\"],[\"vukovjo01\"],[\"wadeja01\"],[\"wagnebi02\"],[\"wagneha01\"],[\"wagnehe01\"],[\"wagnele01\"],[\"wainwad01\"],[\"waitked01\"],[\"waitsri01\"],[\"wakefti01\"],[\"walbema01\"],[\"walberu01\"],[\"walkbo01\"],[\"walkebi01\"],[\"walkech01\"],[\"walkecu01\"],[\"walkedi02\"],[\"walkege02\"],[\"walkegr01\"],[\"walkeha01\"],[\"walkela01\"],[\"walkeru01\"],[\"walketi01\"],[\"walketo04\"],[\"wallati01\"],[\"wallide01\"],[\"wallsle01\"],[\"waltebu01\"],[\"waltero01\"],[\"waltoda01\"],[\"waltoje01\"],[\"wambsbi01\"],[\"wardaa01\"],[\"wardda01\"],[\"warddu01\"],[\"wardga01\"],[\"wardpr01\"],[\"wardtu01\"],[\"warnejo01\"],[\"warnelo01\"],[\"warstra01\"],[\"wasdeji01\"],[\"wasdijo01\"],[\"washbja01\"],[\"washbra01\"],[\"washicl01\"],[\"washiro01\"],[\"washiul01\"],[\"wathajo01\"],[\"watsoal01\"],[\"watsobo01\"],[\"watsomu01\"],[\"watted01\"],[\"weathda01\"],[\"weathro01\"],[\"weaveje01\"],[\"weaveje02\"],[\"weaveji01\"],[\"webbsk01\"],[\"webstle01\"],[\"webstmi01\"],[\"weeksri01\"],[\"wehmehe01\"],[\"wehnejo01\"],[\"weilabo01\"],[\"weisal01\"],[\"weisswa01\"],[\"welchbo01\"],[\"welchcu01\"],[\"welchjo01\"],[\"welleto01\"],[\"wellsbo01\"],[\"wellsda01\"],[\"wellsed01\"],[\"wellski01\"],[\"wellsve01\"],[\"wendetu01\"],[\"werbebi01\"],[\"werthja01\"],[\"wertzvi01\"],[\"westbja01\"],[\"westda01\"],[\"westlwa01\"],[\"westrwe01\"],[\"westsa01\"],[\"wettejo01\"],[\"weyhigu01\"],[\"wheelda01\"],[\"wheelha01\"],[\"whisepe01\"],[\"whitalo01\"],[\"whitebi03\"],[\"whitede03\"],[\"whitedo01\"],[\"whiteea01\"],[\"whitefr01\"],[\"whitega01\"],[\"whiteha01\"],[\"whiteje01\"],[\"whitejo01\"],[\"whitema01\"],[\"whitema02\"],[\"whiteri01\"],[\"whitero01\"],[\"whitero02\"],[\"whitesa02\"],[\"whitewi01\"],[\"whitfte01\"],[\"whitnar01\"],[\"whitnji01\"],[\"whitnpi01\"],[\"whitsed01\"],[\"whitter01\"],[\"whittpo01\"],[\"wickeda01\"],[\"wickmbo01\"],[\"widgech01\"],[\"wiedmst01\"],[\"wiggity01\"],[\"wightbi01\"],[\"wilcomi01\"],[\"wilforo01\"],[\"wilkecu01\"],[\"wilkiri01\"],[\"wilkste01\"],[\"willeed01\"],[\"willibe02\"],[\"willibr01\"],[\"willica01\"],[\"willicy01\"],[\"willido03\"],[\"willied01\"],[\"willige02\"],[\"willije02\"],[\"williji01\"],[\"willijo03\"],[\"willike01\"],[\"willima04\"],[\"willimi02\"],[\"willimi03\"],[\"willine01\"],[\"willisc01\"],[\"willist02\"],[\"williwa02\"],[\"williwo02\"],[\"willsma01\"],[\"wilmowa01\"],[\"wilsoar01\"],[\"wilsobo02\"],[\"wilsocj01\"],[\"wilsoda01\"],[\"wilsoea01\"],[\"wilsoen01\"],[\"wilsogl01\"],[\"wilsoja01\"],[\"wilsoja02\"],[\"wilsoji01\"],[\"wilsoji02\"],[\"wilsojo03\"],[\"wilsomo01\"],[\"wilsopr01\"],[\"wilsore01\"],[\"wilsowi02\"],[\"wiltsho01\"],[\"winebo01\"],[\"wingoiv01\"],[\"winnihe01\"],[\"winnra01\"],[\"wisede01\"],[\"wiseri01\"],[\"wisesa01\"],[\"witasja01\"],[\"wittbo01\"],[\"wittwh01\"],[\"wockejo01\"],[\"wohlema01\"],[\"wohlfji01\"],[\"wolfji01\"],[\"wolfra02\"],[\"wolveha01\"],[\"womacto01\"],[\"woodala01\"],[\"woodeha01\"],[\"woodge01\"],[\"woodjo02\"],[\"woodke02\"],[\"woodlge01\"],[\"woodwch01\"],[\"woodwi01\"],[\"woodwwo01\"],[\"worreti01\"],[\"worreto01\"],[\"worthal01\"],[\"wrighcl01\"],[\"wrighda03\"],[\"wrighgl01\"],[\"wrighja01\"],[\"wrighja02\"],[\"wrighru01\"],[\"wrighto01\"],[\"wrighwe01\"],[\"wyattjo02\"],[\"wyattwh01\"],[\"wynegbu01\"],[\"wynnji01\"],[\"wyrosjo01\"],[\"yanes01\"],[\"yeagejo01\"],[\"yeagest01\"],[\"yorkru01\"],[\"yorkto01\"],[\"yosted01\"],[\"youklke01\"],[\"youngba01\"],[\"youngch03\"],[\"youngch04\"],[\"youngcu01\"],[\"youngde03\"],[\"youngdm01\"],[\"younger01\"],[\"younger03\"],[\"youngjo02\"],[\"youngke01\"],[\"youngma01\"],[\"youngmi02\"],[\"youngpe01\"],[\"zachato01\"],[\"zachrpa01\"],[\"zahnge01\"],[\"zambrca01\"],[\"zarilal01\"],[\"zaungr01\"],[\"zeidero01\"],[\"zeileto01\"],[\"zernigu01\"],[\"zieglbr01\"],[\"zimmech01\"],[\"zimmedo01\"],[\"zimmehe01\"],[\"zimmery01\"],[\"ziskri01\"],[\"zitoba01\"],[\"zobribe01\"],[\"zoldasa01\"],[\"zuberbi01\"],[\"zuverge01\"]],\"hovertemplate\":\"hof=False<br>H=%{x}<br>AB=%{y}<br>id=%{customdata[0]}<extra></extra>\",\"legendgroup\":\"False\",\"marker\":{\"color\":\"#EF553B\",\"symbol\":\"circle\"},\"mode\":\"markers\",\"name\":\"False\",\"showlegend\":true,\"x\":[0,772,2,523,5,25,433,2470,1,6,9,1022,216,1082,0,1588,4,1832,3,999,2,260,28,33,707,7,3,565,0,44,293,2,1532,1031,815,1848,1325,124,15,999,1281,382,706,846,1168,1236,2101,1216,1777,2134,97,248,13,418,493,505,143,348,1661,35,490,2529,1843,5,849,313,59,77,462,462,121,8,87,4,660,470,1302,26,27,77,1010,70,1103,369,3,90,401,309,131,1576,1579,1328,76,1296,766,0,217,4,1324,13,72,712,893,1583,1,140,56,71,1564,915,49,775,2866,492,5,1981,573,474,3,508,714,4,0,292,1790,2,12,811,14,812,65,452,1219,3,932,195,40,690,962,938,925,54,83,1009,1073,2165,849,237,806,1308,342,765,1087,28,1146,969,439,432,1424,49,1010,685,2,5,1311,1200,2135,153,1759,61,763,1473,41,570,748,4,9,15,33,10,1316,48,4,7,2514,1239,1262,1726,105,1702,1823,0,484,508,1377,1963,2942,2617,696,106,124,287,1274,0,442,978,408,0,42,170,50,122,142,733,755,30,2,516,1550,690,441,1905,970,129,603,287,665,692,539,488,1053,657,425,1171,0,1057,558,86,499,31,1906,22,1524,1205,861,432,62,106,11,1216,26,77,238,726,89,1513,11,1186,118,615,285,23,1366,44,94,1187,699,0,874,778,591,1751,1696,53,990,115,320,1478,2,2,53,69,1415,1,2935,1886,471,2,81,84,664,2010,833,1017,1838,1775,1260,32,1,745,831,1500,1,99,2,26,430,41,655,625,2,31,1272,35,2191,853,141,567,6,0,1396,2143,1070,363,1471,518,976,424,627,66,187,1020,383,1351,8,682,1597,989,40,80,819,129,291,647,0,925,1170,91,21,562,181,1064,1041,194,72,1355,12,794,1728,795,613,1608,950,1001,27,12,95,91,581,582,1176,82,866,32,64,803,379,106,43,964,1646,1958,309,95,0,413,1153,1543,37,3,1651,2,844,2715,1046,9,256,543,448,1203,76,1273,1422,26,185,1231,1318,14,54,983,50,2,2107,1401,56,2,1447,2077,2018,1392,1307,1393,76,1443,1113,1804,143,313,514,763,110,182,1479,2375,60,10,2,1534,24,1225,827,143,1647,1253,1609,2519,2055,0,92,69,1044,901,34,289,941,901,1757,0,1700,1482,1710,92,2249,4,1382,267,1,483,104,35,501,458,2210,1877,847,116,46,722,1913,1725,94,741,159,12,4,52,1202,1199,3,1,557,506,995,27,1000,98,223,2184,1677,695,627,255,1415,1122,40,1531,1571,1820,0,650,81,226,383,37,1889,1,1884,601,338,1113,1229,819,1977,2087,865,629,998,624,1868,30,26,733,2109,213,0,44,110,458,1958,1329,8,2158,849,1477,1,157,19,115,1721,32,356,0,1206,1,64,781,198,808,1598,990,9,713,858,559,518,1230,1826,14,390,453,1188,117,2176,1904,211,1231,1,31,1273,49,1558,645,437,700,438,532,3,119,42,731,21,51,0,1730,833,4,801,645,66,49,1425,709,1335,596,306,96,1687,29,0,25,795,2326,64,1982,105,70,1257,260,37,0,58,29,1579,261,965,2192,127,1341,293,828,1035,287,2259,0,1178,1120,36,166,36,0,348,569,1,972,1208,750,832,281,1494,974,39,38,0,2705,1276,253,335,276,1134,1931,921,787,1,709,1572,1591,1104,1541,2651,1365,164,379,644,1109,361,176,2251,1167,916,8,1287,1729,1522,76,49,1072,74,20,286,254,980,223,1061,63,510,537,1487,53,23,2461,1056,541,616,17,56,1202,710,1583,2769,56,2,847,2,2089,76,559,39,2326,984,891,212,1122,1142,2380,922,165,87,34,1430,965,1841,877,515,26,778,983,0,1312,1,2121,2561,17,752,657,494,1505,756,853,1,1434,1167,1159,48,38,2038,136,454,736,31,0,627,3,813,1241,912,1096,1093,58,1286,97,587,1114,634,975,220,469,33,1548,39,7,949,1185,520,834,523,546,500,36,253,107,94,368,530,1680,959,219,9,966,75,115,548,106,39,111,855,731,175,1282,549,180,251,113,2256,961,1376,1366,802,32,5,1294,90,818,1201,1493,91,2099,3,1811,1887,119,68,21,1437,21,1085,1464,1113,309,619,1516,107,57,617,1247,1159,1631,397,1597,2,7,992,2054,251,287,719,1779,441,2256,1298,162,1386,1078,10,4,66,1414,1949,429,613,1106,767,196,697,210,274,0,2,5,1160,23,1235,8,2061,68,395,65,699,1343,1282,59,648,19,1333,0,1439,1264,748,1356,2063,695,38,4,92,1697,3,1405,178,630,164,453,195,741,79,615,1359,514,2223,2446,529,1,668,1304,1055,170,2,441,31,225,1139,1913,62,1463,117,4,4,467,1572,877,59,245,23,564,10,1065,42,920,719,718,22,98,2276,329,27,506,613,1313,1645,1298,20,3,2548,1329,27,38,207,30,74,105,542,545,24,231,1461,1202,849,123,631,1534,1048,1323,1376,687,1861,0,1,433,1479,5,918,353,661,1515,1075,489,1059,1123,1269,467,169,52,190,52,31,0,758,35,1490,1925,1064,2,1631,1253,88,461,0,1678,82,400,35,1373,3,2586,474,1395,132,2,235,3,1591,532,1235,16,877,1726,199,1482,0,323,1170,138,14,77,1776,84,0,1491,308,635,1817,1910,446,2280,336,12,1440,438,1706,2333,92,564,85,700,69,946,1195,1696,1651,774,481,17,0,580,1108,12,1,352,351,127,1747,841,178,1931,62,12,24,5,910,1594,29,786,1562,180,2599,19,799,145,2,795,633,766,96,759,1309,939,284,10,632,977,831,209,513,2010,38,382,893,1553,1897,1115,386,1889,414,1100,77,1215,1,1100,2041,1375,1946,0,470,2,0,10,835,1003,1206,95,220,1954,1209,1418,12,144,1936,2591,717,1,368,1485,662,145,1691,1104,609,1029,1238,1415,0,1612,20,411,257,13,738,0,2445,884,746,512,1564,1178,7,844,1508,7,135,8,124,59,518,960,788,1400,254,2003,397,446,0,214,75,1833,864,1688,2143,1755,1383,66,3,24,469,707,2299,4,45,26,23,2251,2138,1774,124,98,1073,106,727,1092,1064,48,1153,818,2040,3,0,0,382,1618,473,1,1331,1591,1764,81,264,130,60,0,3,1214,6,1,765,967,1075,1459,4,263,644,1257,0,78,2193,169,190,84,1107,438,1126,589,3,1071,880,90,34,827,150,1011,724,1641,1171,31,616,107,4,1333,112,16,43,14,36,52,48,824,1529,178,902,37,4,198,465,747,19,466,1007,6,18,65,199,11,1433,83,42,786,1614,445,262,66,931,1030,59,1609,1954,1120,703,434,1,15,963,1055,54,82,580,76,1009,1052,353,1336,1146,416,914,0,1146,946,493,297,1153,1068,0,38,0,297,806,1379,1164,1069,1402,32,111,546,1191,332,132,77,1222,1447,1061,32,1694,503,610,1087,504,231,128,56,283,963,6,1342,694,2519,160,1230,1321,736,1324,1168,976,222,415,1980,896,13,0,611,0,1297,36,1,1,9,109,6,4,19,6,1818,30,533,517,315,4,1166,2182,215,18,5,1345,1,13,1,1334,31,654,1450,900,163,1370,6,154,47,287,1176,1002,929,101,1336,1941,1250,96,1492,53,516,11,1014,1005,50,197,404,14,793,2133,947,1048,1146,547,19,854,1144,1310,591,880,1921,342,107,6,762,524,1095,939,91,739,486,1278,6,871,103,1141,870,1995,63,3,1014,1507,428,99,24,4,92,1262,83,1047,1230,1993,79,666,33,494,479,99,1471,1774,1475,655,682,302,0,632,2,991,2,1,2048,8,1749,1084,196,461,180,1319,164,98,1699,1,0,705,190,529,22,991,8,614,813,883,364,882,2452,0,1429,360,31,439,171,410,652,2034,1043,1427,1166,455,934,986,1056,241,21,724,1103,810,327,69,54,676,536,47,32,1772,170,5,835,774,6,767,1714,1220,56,730,51,4,794,781,1990,515,30,1469,1358,55,487,1,1593,0,637,1293,1463,3465,568,33,1331,882,2051,628,940,773,1016,1252,324,1447,992,697,81,1229,1254,3,15,1493,0,0,61,1140,1565,723,1014,1292,87,127,145,141,1480,1933,1,59,1115,257,1196,1020,548,1,1920,8,1272,778,79,1103,245,78,4,1502,1339,1454,890,176,833,708,610,2060,13,2352,1613,1571,232,278,0,1643,531,799,574,1724,0,935,91,8,914,451,25,1085,230,138,1147,1390,1570,34,1513,1128,603,2195,1465,1488,1176,334,40,475,16,1313,181,0,2461,434,6,814,0,1931,0,87,751,241,236,19,439,63,546,1091,699,1575,0,259,1696,376,837,824,66,235,648,882,626,354,1564,155,45,2,1154,63,1766,510,1103,115,943,1311,1839,856,153,58,15,1190,1081,98,2340,2150,33,24,109,750,464,56,799,1784,155,62,72,1418,120,47,1321,122,1454,27,593,6,1170,139,913,565,993,2092,2212,917,22,813,17,1380,19,8,60,1303,2,84,2,429,597,599,131,147,267,15,633,746,33,422,291,1061,450,1099,248,283,1,14,843,99,1561,47,2074,1124,26,1185,1429,1452,15,144,628,130,1239,1836,48,43,298,945,663,954,9,49,1273,972,191,1147,460,7,2143,0,36,28,494,0,165,41,2273,51,1959,37,404,686,167,958,183,16,455,808,1109,32,107,1,45,21,72,709,795,1875,901,124,177,1342,512,55,7,749,10,0,1563,7,1021,1518,736,667,1122,2,22,85,1155,549,35,38,53,1166,26,762,935,18,4,18,690,33,576,28,982,354,431,0,46,1252,25,7,591,1658,40,1112,1,38,2428,1407,49,78,90,1415,105,1425,805,2129,40,187,661,1671,2,3,1145,1251,1527,1,1005,390,9,1026,1713,25,1934,65,1619,0,881,35,1177,404,1344,923,1279,877,1314,237,1795,15,798,1960,1,1334,545,898,129,906,146,629,853,742,1802,6,2008,6,1197,1031,2169,76,2,6,13,104,52,11,956,1042,126,129,1486,77,1194,250,922,1349,1332,340,1,707,164,733,1,128,1448,1325,1889,6,130,463,612,159,35,971,1160,0,1172,877,618,713,1599,74,2247,487,666,28,1227,91,512,1246,355,1925,0,1936,191,917,322,4,0,7,68,504,925,0,401,57,1253,2011,1056,2153,176,1826,332,748,856,1379,706,1127,920,596,1109,84,80,357,2031,971,951,42,291,1068,1008,1530,52,1153,1203,1397,306,5,362,1205,432,393,1501,2,867,1711,491,640,115,1301,675,972,857,785,326,56,156,568,1291,16,119,9,826,6,1482,875,684,2254,721,48,79,24,39,2490,1750,1626,2405,1066,2084,82,694,1602,73,803,23,230,1926,2,1639,1273,1240,97,257,55,1588,103,1336,2091,1439,60,21,201,3,0,5,267,0,916,172,1316,1004,456,0,152,1270,112,1108,28,1580,294,384,56,1227,0,124,934,972,1693,1521,826,944,55,2,1142,642,613,899,406,11,722,2100,623,1617,1284,4,1934,41,33,104,834,1381,1526,1270,325,695,1046,49,1,848,0,57,79,855,36,1003,2,98,1963,15,337,423,324,1244,1173,1138,69,623,57,26,9,315,12,137,1,1317,212,592,1593,420,60,1619,1589,1623,2,678,1604,44,933,0,306,0,1399,1052,16,134,706,958,926,1615,0,627,56,1318,56,11,1173,375,1014,1503,1222,618,333,1279,1257,487,61,54,46,920,1603,1216,876,1275,84,92,0,698,86,667,1494,269,438,2138,667,71,552,1054,9,1149,1099,51,0,1229,1292,597,733,2,69,661,401,676,972,1059,1442,68,70,174,1,1558,1862,1563,2111,950,1069,680,46,444,3,42,5,1170,308,329,9,722,2131,63,776,1380,0,11,797,2,1043,262,1616,10,802,22,87,311,192,833,630,0,0,347,1,2225,1131,238,253,910,174,1484,813,233,3,152,1018,52,281,59,2,277,460,1379,670,995,695,73,382,51,24,65,401,857,72,32,0,1016,1254,874,600,32,533,601,8,152,410,1354,493,1421,597,1049,1418,0,560,66,79,35,1140,99,1118,1120,1551,626,0,1615,33,10,2,44,1268,731,1100,2239,58,1917,2743,745,48,546,831,905,1,1575,310,475,2105,1259,1385,1,821,2156,10,1032,1125,1173,1619,29,464,2472,484,11,104,259,207,175,1,101,2020,67,529,1355,54,22,929,22,1211,1162,27,1796,1143,922,622,942,733,10,48,0,48,1229,640,3020,132,620,1306,279,77,2712,82,132,1013,4,1789,1782,198,1613,638,189,1340,7,1050,38,174,44,349,1157,455,416,831,117,87,1876,1683,1117,28,100,20,468,1146,36,1687,425,1520,1897,625,83,1315,1750,1,0,445,386,771,1370,45,56,41,455,933,0,16,72,832,461,177,25,1455,82,179,748,289,501,1352,1,27,855,1680,180,657,460,380,443,463,1130,1863,835,1700,185,252,412,2023,381,0,743,203,2217,1604,2043,638,17,1705,1212,2757,88,1941,133,457,1,168,0,374,29,145,1096,2142,4,129,1417,9,1,403,95,1369,89,1664,1064,128,1776,309,689,2,450,14,1716,1402,1996,404,2,19,13,1252,199,248,214,471,1361,2825,798,1217,71,677,0,7,499,248,1804,315,228,544,69,1,609,19,1267,619,1302,1206,0,3,97,84,1387,2303,1660,2574,1432,2,261,109,1543,1016,2210,160,29,682,112,50,31,2,40,928,1502,11,547,5,536,8,649,886,6,774,1231,51,98,4,512,49,864,1352,786,1243,714,8,573,1226,114,2327,480,830,693,127,187,171,3,0,4,1972,140,50,1357,1142,1233,1070,77,88,1,181,908,1118,1432,26,1129,1694,93,43,65,69,38,650,2,85,637,1,0,120,1778,674,0,1619,911,950,516,0,1660,1220,578,1527,812,103,483,721,615,731,6,365,346,1127,146,1146,929,22,22,827,628,0,3115,1570,4,1,784,3,60,28,670,68,1375,9,122,54,1660,7,6,2077,1394,2455,887,706,473,1,164,18,463,122,196,298,836,1206,726,1063,390,4256,69,904,521,7,804,924,1193,1256,239,1049,157,1468,131,158,1242,95,250,24,330,27,908,1854,50,140,65,1926,103,11,959,245,123,0,604,988,476,2513,370,51,58,0,25,23,898,151,155,190,296,1070,158,1674,661,31,7,1578,22,1012,1317,558,6,1666,46,105,1500,11,40,1830,592,317,365,1278,17,321,351,1949,2,85,869,972,1506,58,357,117,320,529,117,0,63,83,619,781,2,699,989,44,829,721,1766,1241,558,181,905,58,386,1131,1455,1992,187,81,1,699,1355,0,537,893,1412,58,1557,1807,9,35,953,611,1,1245,1393,152,1286,1724,1000,1440,107,170,69,3,225,263,495,2084,34,2689,739,14,214,611,0,25,23,0,1564,364,29,671,167,361,88,1338,73,81,1,497,1104,1217,114,2152,1703,136,194,2472,455,752,580,48,45,2029,732,1098,1311,1198,329,1566,1343,6,1151,1,0,601,1454,73,252,102,1458,409,76,67,594,3,686,100,1456,881,156,1597,34,214,715,1301,122,0,3,1488,33,118,941,1087,2020,849,165,410,87,435,852,1509,467,902,1122,855,984,764,671,39,990,911,3,2095,0,876,77,12,12,2408,113,611,70,594,5,92,110,1759,3,901,1227,448,1090,922,367,996,10,192,22,1,1010,3,2,411,585,1546,894,400,585,1366,66,819,24,25,1154,356,1243,1138,8,1417,2716,21,4,696,751,1578,1453,1239,1024,460,214,1515,1859,847,547,245,10,336,115,1653,0,779,476,408,989,593,102,1806,3,2,15,1391,22,120,50,1382,1775,790,381,1401,312,0,1106,633,43,1238,0,1418,1055,685,602,33,60,1,640,1268,149,696,1446,326,777,820,76,96,4,905,350,1493,63,76,2326,63,102,754,1574,3030,1071,597,54,464,1540,134,48,635,46,1338,624,1101,42,0,9,361,833,40,1366,484,435,807,784,16,1029,323,650,93,158,236,12,2007,748,1000,1290,1862,2407,10,14,2096,1484,1060,2231,23,594,95,501,1132,789,50,450,0,1030,0,1163,1671,591,430,1051,327,847,245,1537,141,1253,1029,1187,1705,63,1176,1342,0,175,84,9,1,1838,540,0,110,1401,1906,183,768,1121,559,71,5,118,297,1318,64,15,737,1546,106,741,1544,596,281,788,1041,604,954,1562,0,1561,205,38,171,22,1047,1882,59,1329,69,448,87,1499,1105,676,33,189,714,1149,393,18,1344,12,1103,1260,1315,5,738,1568,1777,447,52,441,613,881,187,379,1093,1348,658,1420,1,104,717,146,2544,9,1562,15,16,1307,946,1475,159,1620,114,496,2063,72,46,1171,452,337,707,1885,0,793,7,3,2495,1246,687,1274,1524,11,22,1196,26,1596,174,549,894,1453,0,2877,43,68,508,23,0,1682,267,1407,33,90,36,2,458,834,1202,116,1214,0,13,492,162,74,62,299,1475,2064,1991,746,786,2160,360,1423,1316,2085,799,670,477,317,174,423,1359,966,588,0,1236,522,389,870,215,935,782,3,9,38,1884,414,703,656,45,1826,53,19,14,794,43,4,30,498,368,900,1066,124,200,57,346,1207,88,1152,50,19,0,23,93,63,1794,3,1363,1408,1692,22,10,848,503,1838,7,308,1,256,221,2369,1706,1934,278,264,2006,4,37,303,678,804,0,4,1803,1519,916,271,537,820,559,1701,72,938,978,28,0,435,248,1170,55,11,668,600,515,27,130,2336,15,1,1981,95,288,780,18,1508,988,1552,1878,3,17,1159,1,59,640,105,2134,1100,536,161,4,1097,144,343,1098,82,1294,1358,99,251,1397,1055,455,2207,156,682,1039,452,1759,253,130,1281,3,9,1195,543,1,793,1439,128,833,1353,353,16,1467,553,59,1585,408,27,517,8,2,35,69,1777,1219,64,11,889,175,1,4,133,1102,1665,1149,2,467,816,1621,1095,1863,1053,656,31,1033,0,1162,1389,1731,371,969,1007,0,2375,645,254,36,6,165,975,878,769,2004,1093,1,1225,773,1566,1505,1477,35,1287,50,31,21],\"xaxis\":\"x\",\"y\":[5,3044,21,2044,20,181,1611,8480,7,65,54,4019,1019,4019,2,5557,78,6606,17,3912,20,1104,139,388,3048,92,35,2147,1,265,1271,14,5385,3971,3404,6332,4418,716,115,3927,5032,1407,2483,3330,4760,4530,7339,4345,5789,7037,550,1160,95,1715,1788,2155,1014,1408,6499,255,2026,8640,6345,38,3204,1344,319,607,1921,1999,679,83,374,35,2646,1773,5164,268,179,603,4123,521,4369,1483,36,677,1579,1407,700,5721,6279,5388,437,4620,2923,1,865,14,4842,70,420,2828,3245,5439,6,620,479,366,6082,3581,314,2937,9908,2106,52,7117,2280,1793,32,2202,3120,44,2,1284,7060,9,68,3007,80,3460,563,1778,4759,63,3805,913,371,2395,3306,3378,3512,398,513,4146,4014,7629,3141,1049,3493,4839,1806,3330,3913,311,4568,3586,1953,1605,5145,225,3477,2517,8,50,5139,4505,8198,661,5660,327,2764,5208,289,2227,3119,19,60,153,198,45,5784,388,25,89,8995,4826,4578,5853,569,6123,6478,6,2107,2301,5045,7398,10295,9301,2878,741,659,1125,4651,8,1926,3821,1690,9,321,584,512,738,825,2856,3028,161,24,3028,5163,2679,1813,6491,3700,718,2553,1330,2575,2506,2018,2030,4136,2413,1745,4536,1,4052,2093,437,2117,209,6381,282,5713,4192,3151,1738,559,488,82,4494,179,443,1044,2415,626,6042,148,4500,558,2761,1193,216,5296,265,546,4522,2947,2,3519,2891,2300,6440,5904,512,3966,535,1462,5233,31,17,231,423,5562,30,9847,7043,1975,20,471,522,2572,7213,3068,3871,7245,6683,4589,156,7,2632,3282,5770,12,571,9,145,1581,329,2629,2517,17,191,4784,347,8418,3410,639,1936,95,9,5780,7455,4232,1605,5430,2258,3605,1648,2461,464,793,3895,1555,4999,68,2934,5249,3650,257,453,3108,673,1350,2615,4,3672,3881,347,140,2272,1003,4169,4117,886,469,6045,69,3202,5703,2958,2500,5974,3865,3889,177,59,522,457,2249,2262,4300,484,3190,157,495,3449,1531,552,313,3642,4820,7387,1280,621,5,1564,4650,6289,418,32,6056,13,3612,9397,4266,125,1334,2214,1853,4553,857,5013,5053,194,1011,4915,4471,66,278,3516,540,44,7232,5139,493,29,5710,7241,6573,4645,4920,5503,502,5536,4250,7210,888,1239,2397,3045,598,801,5105,8180,445,85,13,5579,156,4831,3202,601,5952,4661,5630,7853,7562,2,442,579,3956,3312,216,1164,3556,3295,6652,6,6839,5353,6288,677,8684,26,4762,1252,1,1934,596,299,2004,1950,7210,7057,3128,503,371,2733,6964,6707,698,2850,712,209,73,439,4637,4644,31,26,2012,1970,3972,208,3671,489,1042,8422,5606,2465,2786,1081,5016,4341,244,5066,5554,6705,3,2642,440,1026,1519,338,6510,13,6822,2627,1426,3824,4451,3244,6754,7310,3174,2565,4069,2261,7162,198,96,2910,7571,1051,6,662,548,2113,6478,4988,87,7417,3149,5518,11,680,125,617,5622,250,1495,5,4310,10,427,3081,1062,3054,5396,3707,61,2523,3346,2015,1964,4813,6847,242,1536,1708,4532,598,7173,7379,920,4295,17,179,4648,232,5730,2328,1834,2854,1719,2153,15,621,359,2877,160,400,3,6503,3422,55,2769,2508,363,462,5406,2891,4907,2329,1204,582,6390,118,2,276,2787,8723,412,6957,548,301,5061,1178,218,29,382,110,5368,1110,3372,7349,654,4702,1227,3408,3734,1289,8824,3,4311,4404,192,767,300,2,1584,2178,2,3854,4741,2796,2978,1190,5534,3712,359,448,1,9140,5026,887,1409,1359,3951,6655,3435,3101,5,3202,5930,5930,3927,6277,9084,5828,847,1518,2321,4124,1607,729,7917,4724,3859,70,4683,6184,5488,661,454,3879,602,161,1113,1176,3362,957,4017,359,2107,2114,5621,270,181,9036,4045,2214,2573,150,291,4172,3042,5701,9736,350,24,2971,18,7219,526,2224,305,7673,3829,3630,1124,4017,4427,8673,3693,813,441,412,5321,3719,6653,3585,1824,167,2999,3687,6,4255,16,7223,9174,81,2930,2513,1850,5809,2739,3881,17,5220,4602,4091,378,419,7283,542,1982,2873,361,12,2461,14,3441,4144,3443,3615,4692,588,4946,570,2162,4512,2483,3633,1260,2012,373,5779,240,116,3740,4412,1874,3274,2061,1881,1762,206,1095,789,627,1558,2000,5640,3849,1143,72,3744,422,905,2097,697,317,564,3174,2862,1150,3854,2388,732,1302,694,7505,4004,5977,5131,2924,204,77,4558,559,3093,4127,5514,717,7853,45,6055,6509,716,420,274,5173,254,4308,5479,4124,1279,2665,5410,649,317,2885,4677,3974,6883,1622,5927,24,114,3587,7408,1035,1252,2761,6487,1993,8046,4559,704,5484,3677,62,56,341,5041,6858,1675,2191,4577,3080,979,2544,1009,1265,2,22,28,3995,166,4561,72,7141,416,1654,489,2672,5117,4490,673,2844,124,5167,3,5409,4685,2822,4746,7254,2854,258,35,588,6024,27,4965,739,2478,792,1855,904,2837,498,2618,4766,2053,8973,8996,2043,22,2758,4809,3801,872,13,1827,194,934,3930,7184,416,4652,771,47,54,1799,5682,3613,436,1109,276,2262,61,4254,397,3467,3001,2767,126,539,7911,1176,147,1963,2373,5157,5821,4701,116,53,9397,4631,199,262,941,246,594,587,2086,2316,99,1155,5252,4139,3372,624,2473,5541,3902,4879,5258,2913,6357,8,9,1693,5319,75,3853,1455,2708,6047,3404,2127,4250,4163,4833,1807,754,308,893,383,78,1,2957,295,5652,7023,3269,16,5208,4537,472,1925,7,5636,461,1579,303,5260,34,8677,1731,5121,636,22,1319,21,6073,1983,4208,140,3446,6523,1057,5517,4,1346,4169,1137,78,476,6481,609,1,5566,1354,2439,6477,6378,1764,8951,1411,86,5673,1608,5937,8096,665,2081,424,2931,412,3583,4502,6189,6449,2987,1872,115,3,2178,3914,77,4,1463,1470,696,5586,3544,765,6688,506,87,175,42,3111,6136,232,3285,5108,827,8835,239,3120,724,65,3159,2569,2869,464,2922,5099,4140,1016,67,2493,3780,2969,1056,1961,7267,263,1639,3776,5798,6527,4061,1865,7119,1716,4127,412,4501,63,3964,7033,5410,7459,2,1673,28,10,94,3456,3910,4604,477,876,6739,4977,5776,72,676,6556,9157,2829,3,1539,5195,2363,741,5644,3928,2364,3846,4690,4992,2,5357,217,1815,988,73,2735,5,8065,3008,2810,2073,6127,4705,68,3385,4989,104,759,76,648,370,1988,4007,2956,4623,1078,7082,1573,1902,6,880,343,6890,3215,6780,7229,5923,4947,405,15,189,1832,2644,7917,43,353,205,189,8275,7484,6074,630,764,3745,660,3125,4339,3808,373,4154,3159,7052,49,1,3,1581,5392,1678,4,4673,5888,6686,576,960,708,329,6,33,4582,60,14,2976,3632,4202,5382,34,1007,2440,4303,5,401,7278,798,1004,448,4058,1699,4387,2431,26,3701,2915,557,275,3334,714,3935,2848,6030,4237,192,2350,618,33,4577,733,150,339,112,305,333,238,3032,5839,725,3356,472,36,919,1858,3272,209,1793,4311,39,186,670,1203,76,5551,414,325,2533,5564,1601,1125,513,3151,3398,402,6269,7402,4744,2941,1694,6,68,3035,3924,288,565,2441,424,3729,3783,1319,4848,4548,1606,3440,29,4339,3377,2039,1204,4226,4206,3,325,8,1230,2934,5262,4493,4040,5249,213,521,2062,4524,1326,757,548,4443,4937,4212,187,6144,1961,2526,4772,2080,1093,542,440,1144,4019,104,4997,2711,7962,718,4541,5047,2694,5130,4553,3484,922,1888,7129,2910,97,1,2101,1,4603,203,17,6,84,569,206,15,89,36,5603,322,1960,2012,1244,43,4618,7370,973,116,40,5105,2,63,37,4877,208,2729,5349,3572,810,5284,86,714,276,1142,3982,3974,3459,660,4910,6636,4400,513,5578,277,2121,101,3570,3715,333,951,1809,126,3043,7062,3797,3968,4205,2249,210,3147,4322,4706,2358,2826,7030,1426,531,59,2981,2163,4072,3180,403,2820,2335,4456,72,3191,525,3658,3346,6583,378,28,3605,4992,1616,607,182,20,748,4260,618,3777,4784,7298,368,2659,226,1994,1805,513,5363,6488,5707,2483,2626,1394,9,2639,13,3791,27,5,7115,56,6192,4441,762,1767,894,4825,746,613,6104,8,17,2582,958,2128,184,3906,61,2458,3442,3769,1555,3347,8857,3,5235,1391,274,1879,650,1655,2848,7471,4233,5271,5014,1647,3871,3685,4219,944,104,2694,4350,3013,1344,435,428,2629,2209,271,236,4981,1089,28,3203,2986,31,3055,5507,4520,347,2775,358,21,3040,2708,6560,2221,188,5722,5047,483,1963,2,5520,1,2123,4700,5236,11195,2159,286,4623,3253,6920,2307,3836,2811,3945,4797,1382,5941,3774,2619,376,4940,4703,32,122,5070,2,6,534,4543,5379,2698,3630,4359,709,702,569,900,5347,7599,16,442,3741,1021,4263,3774,2329,7,6747,67,4594,3091,599,4415,1243,522,19,5826,5606,5160,2980,738,3421,2527,2234,7127,119,7898,6253,5625,1251,1309,2,5851,2182,2983,2597,6441,4,3546,414,69,3606,1881,209,3790,1081,643,4338,4797,5683,265,5288,4058,2576,7627,5068,5473,4624,1279,316,2110,91,4979,743,8,8498,1796,18,2882,9,7651,2,657,3150,998,1062,153,2057,444,2034,4262,2918,6677,6,1305,6127,1414,3494,3467,404,979,2708,4029,2513,1665,5611,669,491,14,4246,502,5929,1903,4469,840,3418,4829,6366,3622,676,482,125,4271,3993,532,8393,7649,202,239,915,3010,1963,516,3071,6464,722,382,501,5436,599,354,4676,687,5087,237,2505,15,3897,722,3480,2447,4286,6913,7984,3379,256,3102,227,4928,183,77,481,4549,9,423,13,1925,2452,2595,646,651,1125,156,2040,2706,201,1796,1230,4288,1929,4101,995,1250,6,92,3703,535,5747,322,7158,4150,251,4212,4718,5593,61,596,2719,734,4603,6832,332,324,1170,3509,2473,3891,111,283,4763,3802,883,3733,1719,72,7959,2,163,112,2030,12,980,197,7983,291,6962,226,1617,2693,835,3740,993,132,1768,2805,4167,267,611,4,530,188,552,3191,3230,6868,3445,715,1054,5045,2092,267,39,2460,157,2,5261,27,4081,5351,2795,2527,4134,7,170,612,4218,2328,347,292,474,4310,133,2795,3677,97,18,121,2661,216,2216,193,3494,1490,1533,6,271,4563,98,95,2268,5940,260,3892,6,347,8120,5244,321,509,821,5351,770,5023,3020,7678,186,887,2601,6354,46,24,4337,4644,5319,12,3841,1620,145,3691,5812,191,7078,436,5813,1,3476,214,4317,1439,4851,3549,4758,3554,4912,1043,6505,78,2879,6925,1,4300,2162,3409,910,3602,636,2707,2857,2843,6331,92,6594,49,4159,3741,7441,563,6,28,90,581,478,43,3421,4106,628,688,5428,422,4505,1145,3505,5248,4716,1337,5,2707,713,2982,12,668,5506,5101,6542,31,663,1906,2273,756,179,3593,4233,9,4242,3419,2743,2906,5795,520,7213,2189,2652,165,4117,596,1952,4896,1480,7111,12,6438,794,3468,1584,56,5,33,486,2486,3877,11,2038,441,4442,7147,4103,7003,737,5919,1380,3443,3245,5447,2727,4120,3670,2200,4048,453,468,1527,7609,3693,3614,341,1085,4124,3981,6185,264,3853,5526,5252,1335,94,1493,4200,1557,1479,5529,9,3645,5723,2082,2325,738,4172,2462,3956,2962,3121,1157,378,619,2434,4676,72,774,42,3007,126,5226,3256,2481,7649,2798,380,456,174,214,8757,6291,6187,7822,3958,6894,616,2647,6192,490,3257,168,1128,6660,15,6752,5131,4519,731,1078,469,5747,527,5114,7218,5423,446,180,1117,23,1,54,1099,0,3437,735,5063,3971,1955,3,685,5071,562,3998,248,5782,1085,1414,397,4405,2,729,3585,4201,5475,4900,2834,3734,484,22,4367,2806,2332,3312,1547,83,3053,7359,2448,5791,4688,72,6212,223,299,539,3182,5171,5805,5337,1364,2836,3887,369,6,2964,5,472,390,3436,205,4026,12,447,6579,103,1456,1914,1287,3984,4134,4095,530,2645,513,208,202,1392,86,754,4,4812,803,2546,5591,1740,582,6136,5814,6215,21,2691,5843,455,3605,3,1185,2,4843,4033,57,949,2474,3543,3013,5427,1,2253,299,4700,397,62,4528,1305,3716,5422,4558,2634,1362,4581,4992,2088,489,497,247,3671,5699,3998,3375,4912,511,543,23,2533,548,2506,5815,1072,1723,7356,2771,436,2234,3507,48,3779,4291,400,7,4223,4364,2118,2911,11,619,2720,1531,2493,3569,4063,4993,438,402,787,7,5344,6730,5399,7960,3467,4347,2373,298,1977,12,289,65,4334,1306,1268,52,2678,7038,471,3042,4910,2,60,2969,19,4147,985,5867,63,3207,152,531,1491,915,3294,2578,1,2,1394,15,8986,4188,878,1337,3716,691,5546,3465,938,26,973,3452,347,1164,420,15,1305,1915,5115,2504,3627,2735,529,1454,377,177,485,1423,3119,574,204,1,3900,4692,3172,2410,238,1990,2486,60,766,1637,4874,2232,5437,2143,4035,5383,1,2195,528,405,206,3264,599,4214,4101,5681,2413,2,5913,240,137,5,347,4690,3232,4010,7592,242,6301,9049,2914,217,2216,3367,3765,4,6111,1213,1995,7318,4795,4248,12,3202,6978,59,4069,3289,4293,5829,253,1698,8640,1894,144,507,1123,1099,749,9,657,7299,538,1974,5102,335,163,3649,218,4930,4121,251,6292,4084,3689,2465,3901,2896,65,243,5,323,4902,2335,10472,1073,2591,4984,1303,430,9358,396,668,3694,38,6792,7067,967,6017,2620,982,5530,56,4171,309,713,311,1373,4154,1734,1639,3077,513,519,7233,5594,4124,268,697,181,1807,4949,264,6489,1703,5354,7032,2576,529,5097,6545,7,5,1800,1525,3131,5127,340,344,342,1896,3604,4,167,477,3144,1696,889,214,4745,515,807,2693,1222,1874,5390,5,196,3629,6560,874,2117,1832,1394,1854,1875,4255,6783,3278,6296,980,892,1719,7617,1628,5,2877,1102,7525,5890,7290,1979,167,5867,4610,9645,539,6914,658,1883,15,892,2,1457,188,762,3906,7214,33,698,4840,65,8,1732,516,5539,450,6092,4007,562,6681,1610,2540,12,2088,157,6046,4791,6826,1612,47,171,95,4720,796,1190,795,1883,4855,9138,3253,4563,645,2399,6,67,2295,1349,6897,1346,1035,2266,346,6,2407,145,4074,2405,5186,4979,5,29,688,544,5134,8136,5627,8244,5494,6,1086,703,5428,3950,8018,752,247,2877,608,259,260,21,289,3719,5188,101,2110,57,2229,154,2264,3513,91,3101,4554,297,620,25,2020,321,3307,4684,2662,4777,2939,110,2353,4455,531,8142,2145,3088,2555,862,1115,1024,12,3,56,6823,857,337,4495,4466,4782,4571,546,610,6,761,3826,3740,5386,226,4451,5657,552,297,443,339,198,2477,11,445,2504,4,4,817,6419,2729,1,5923,3552,3471,2215,3,5629,4147,2385,5531,2830,531,2017,2707,2200,2737,44,1500,1507,4364,631,4282,3284,161,144,3436,2521,1,10566,6611,17,2,3031,28,447,137,2708,620,5149,66,881,300,6309,59,84,7398,4827,9294,3303,2767,1912,4,826,121,2151,606,1086,1313,3198,4847,2761,3725,1483,14053,448,3453,2280,61,2831,3350,4374,4386,909,4208,805,5556,698,743,4514,622,969,295,1280,182,3414,6373,331,807,415,7318,617,79,3595,1087,671,2,2591,3982,2192,8172,1920,268,247,1,115,190,3354,789,768,774,1289,4101,924,5934,2820,226,52,6081,251,3402,4850,2123,52,6241,474,665,5062,93,248,6951,2436,1189,1623,4796,128,1375,1449,6940,30,456,3555,3784,5307,242,1357,468,1218,2090,773,3,597,587,2411,3165,8,3083,4299,269,3057,2733,6533,4259,1959,896,3252,319,1568,4373,5837,7433,680,653,15,2803,4887,5,1937,3547,4847,384,5278,6165,58,203,3921,2493,17,4312,5383,750,4928,5686,3552,5699,548,660,519,38,1049,1197,2167,7605,449,9217,3090,104,960,2419,0,148,136,4,5815,1345,263,2540,798,1616,697,4945,362,506,7,1969,3917,4481,660,8044,6387,482,1135,8680,1609,2829,2422,252,413,7189,2999,4147,5011,4318,1441,5547,5005,57,4063,12,4,2644,5657,504,955,535,5357,1689,496,447,2484,44,2264,531,4693,3195,766,6562,349,1004,2682,4532,576,2,64,5170,279,472,4238,3907,7033,3252,709,1654,551,1783,3101,5641,2087,3656,4229,3643,3631,2894,2571,220,3421,3675,61,7750,4,3412,553,92,83,8813,546,2480,530,2267,41,801,556,7156,17,3689,4908,1814,3871,3408,1544,3899,130,810,121,22,4095,28,27,1580,2137,5069,3425,1721,2261,5204,525,3503,305,135,4301,1650,5022,4222,24,4743,9720,140,15,2681,2811,5900,5369,4521,3031,1913,989,4508,6497,3332,2041,1038,51,1420,565,5574,2,3125,2033,1634,3695,1992,578,6249,59,20,170,4494,219,749,242,5222,6153,2933,1390,5418,1501,2,4635,2824,272,4211,1,4999,3997,2812,2591,199,328,16,2326,5085,836,2729,5176,1237,3647,2840,529,491,48,3001,1371,6021,302,440,8258,357,562,3104,5360,9689,4191,2526,358,1830,5188,591,229,2750,245,5369,2581,3911,241,5,59,1414,3778,261,5011,1857,1560,3051,2874,140,4043,1167,2190,645,724,1063,116,7680,2865,3704,4618,6936,8434,121,116,7721,5218,4390,7595,192,2389,593,2091,4698,3112,380,1827,1,4164,1,4677,6285,2373,1688,4677,1352,3324,1035,5296,722,4802,3761,4612,6305,318,4449,5291,1,648,513,95,39,5915,2329,7,563,4960,6174,796,2785,4238,2322,456,34,744,1391,4969,412,103,2875,5569,651,2706,4914,2119,1272,3169,4251,2430,3907,5950,2,5161,961,238,949,198,4083,6482,384,4552,547,1742,399,5921,4268,2571,260,870,2959,4759,1360,154,5215,75,4203,5175,4899,53,3064,6161,6384,1604,399,1698,2258,3166,936,1507,3917,5539,2775,5029,2,685,2751,601,8043,57,5711,188,61,5099,3454,6103,921,5532,560,1951,6656,630,244,4244,1802,1397,2836,7064,0,2911,27,37,8731,5141,2848,4630,5113,120,170,4240,185,5980,753,2258,3760,5379,6,10586,311,464,2021,282,2,5472,1177,4501,208,559,216,20,1849,3333,4426,582,4254,1,111,2109,905,510,489,1217,4858,6740,6771,2864,2651,6907,1585,5067,4554,8099,2945,2558,1966,1426,779,1573,5237,3611,2234,1,4479,2067,1548,3497,962,4088,2866,19,41,361,6787,1586,2797,2505,175,6185,322,100,139,2781,208,45,289,2274,1450,3419,4320,633,804,443,1578,4686,582,4385,228,140,0,178,433,331,6642,43,5024,5232,6099,169,55,3117,2322,6148,42,1855,7,1122,988,8570,5972,7344,1283,1291,7859,38,255,1196,2652,3104,2,43,6650,5357,3502,1478,1913,3681,2144,5765,576,3774,3630,324,2,1826,1401,4479,480,62,2690,2452,2114,206,652,7869,85,4,6780,389,1145,3059,167,5485,3912,4862,7000,16,108,4553,23,502,2373,540,7588,3988,2056,753,29,4186,740,1406,4151,413,4890,4778,546,1095,5094,4003,1765,7731,743,3172,4003,1888,6186,1109,668,4715,42,64,4171,2072,12,3049,4959,694,3001,4963,1317,174,5371,1952,346,5587,1706,322,2187,81,27,255,378,5996,4153,443,78,2992,685,16,83,607,4330,6653,4240,2,1853,3584,5891,4005,7346,3749,2403,207,4354,1,4108,4762,6119,1506,3659,3897,3,7918,2466,1122,318,43,693,3535,3489,3210,7573,4131,7,4546,3283,5304,5416,5144,344,4840,286,229,142],\"yaxis\":\"y\",\"type\":\"scattergl\"}],                        {\"template\":{\"data\":{\"bar\":[{\"error_x\":{\"color\":\"#2a3f5f\"},\"error_y\":{\"color\":\"#2a3f5f\"},\"marker\":{\"line\":{\"color\":\"#E5ECF6\",\"width\":0.5},\"pattern\":{\"fillmode\":\"overlay\",\"size\":10,\"solidity\":0.2}},\"type\":\"bar\"}],\"barpolar\":[{\"marker\":{\"line\":{\"color\":\"#E5ECF6\",\"width\":0.5},\"pattern\":{\"fillmode\":\"overlay\",\"size\":10,\"solidity\":0.2}},\"type\":\"barpolar\"}],\"carpet\":[{\"aaxis\":{\"endlinecolor\":\"#2a3f5f\",\"gridcolor\":\"white\",\"linecolor\":\"white\",\"minorgridcolor\":\"white\",\"startlinecolor\":\"#2a3f5f\"},\"baxis\":{\"endlinecolor\":\"#2a3f5f\",\"gridcolor\":\"white\",\"linecolor\":\"white\",\"minorgridcolor\":\"white\",\"startlinecolor\":\"#2a3f5f\"},\"type\":\"carpet\"}],\"choropleth\":[{\"colorbar\":{\"outlinewidth\":0,\"ticks\":\"\"},\"type\":\"choropleth\"}],\"contour\":[{\"colorbar\":{\"outlinewidth\":0,\"ticks\":\"\"},\"colorscale\":[[0.0,\"#0d0887\"],[0.1111111111111111,\"#46039f\"],[0.2222222222222222,\"#7201a8\"],[0.3333333333333333,\"#9c179e\"],[0.4444444444444444,\"#bd3786\"],[0.5555555555555556,\"#d8576b\"],[0.6666666666666666,\"#ed7953\"],[0.7777777777777778,\"#fb9f3a\"],[0.8888888888888888,\"#fdca26\"],[1.0,\"#f0f921\"]],\"type\":\"contour\"}],\"contourcarpet\":[{\"colorbar\":{\"outlinewidth\":0,\"ticks\":\"\"},\"type\":\"contourcarpet\"}],\"heatmap\":[{\"colorbar\":{\"outlinewidth\":0,\"ticks\":\"\"},\"colorscale\":[[0.0,\"#0d0887\"],[0.1111111111111111,\"#46039f\"],[0.2222222222222222,\"#7201a8\"],[0.3333333333333333,\"#9c179e\"],[0.4444444444444444,\"#bd3786\"],[0.5555555555555556,\"#d8576b\"],[0.6666666666666666,\"#ed7953\"],[0.7777777777777778,\"#fb9f3a\"],[0.8888888888888888,\"#fdca26\"],[1.0,\"#f0f921\"]],\"type\":\"heatmap\"}],\"heatmapgl\":[{\"colorbar\":{\"outlinewidth\":0,\"ticks\":\"\"},\"colorscale\":[[0.0,\"#0d0887\"],[0.1111111111111111,\"#46039f\"],[0.2222222222222222,\"#7201a8\"],[0.3333333333333333,\"#9c179e\"],[0.4444444444444444,\"#bd3786\"],[0.5555555555555556,\"#d8576b\"],[0.6666666666666666,\"#ed7953\"],[0.7777777777777778,\"#fb9f3a\"],[0.8888888888888888,\"#fdca26\"],[1.0,\"#f0f921\"]],\"type\":\"heatmapgl\"}],\"histogram\":[{\"marker\":{\"pattern\":{\"fillmode\":\"overlay\",\"size\":10,\"solidity\":0.2}},\"type\":\"histogram\"}],\"histogram2d\":[{\"colorbar\":{\"outlinewidth\":0,\"ticks\":\"\"},\"colorscale\":[[0.0,\"#0d0887\"],[0.1111111111111111,\"#46039f\"],[0.2222222222222222,\"#7201a8\"],[0.3333333333333333,\"#9c179e\"],[0.4444444444444444,\"#bd3786\"],[0.5555555555555556,\"#d8576b\"],[0.6666666666666666,\"#ed7953\"],[0.7777777777777778,\"#fb9f3a\"],[0.8888888888888888,\"#fdca26\"],[1.0,\"#f0f921\"]],\"type\":\"histogram2d\"}],\"histogram2dcontour\":[{\"colorbar\":{\"outlinewidth\":0,\"ticks\":\"\"},\"colorscale\":[[0.0,\"#0d0887\"],[0.1111111111111111,\"#46039f\"],[0.2222222222222222,\"#7201a8\"],[0.3333333333333333,\"#9c179e\"],[0.4444444444444444,\"#bd3786\"],[0.5555555555555556,\"#d8576b\"],[0.6666666666666666,\"#ed7953\"],[0.7777777777777778,\"#fb9f3a\"],[0.8888888888888888,\"#fdca26\"],[1.0,\"#f0f921\"]],\"type\":\"histogram2dcontour\"}],\"mesh3d\":[{\"colorbar\":{\"outlinewidth\":0,\"ticks\":\"\"},\"type\":\"mesh3d\"}],\"parcoords\":[{\"line\":{\"colorbar\":{\"outlinewidth\":0,\"ticks\":\"\"}},\"type\":\"parcoords\"}],\"pie\":[{\"automargin\":true,\"type\":\"pie\"}],\"scatter\":[{\"marker\":{\"colorbar\":{\"outlinewidth\":0,\"ticks\":\"\"}},\"type\":\"scatter\"}],\"scatter3d\":[{\"line\":{\"colorbar\":{\"outlinewidth\":0,\"ticks\":\"\"}},\"marker\":{\"colorbar\":{\"outlinewidth\":0,\"ticks\":\"\"}},\"type\":\"scatter3d\"}],\"scattercarpet\":[{\"marker\":{\"colorbar\":{\"outlinewidth\":0,\"ticks\":\"\"}},\"type\":\"scattercarpet\"}],\"scattergeo\":[{\"marker\":{\"colorbar\":{\"outlinewidth\":0,\"ticks\":\"\"}},\"type\":\"scattergeo\"}],\"scattergl\":[{\"marker\":{\"colorbar\":{\"outlinewidth\":0,\"ticks\":\"\"}},\"type\":\"scattergl\"}],\"scattermapbox\":[{\"marker\":{\"colorbar\":{\"outlinewidth\":0,\"ticks\":\"\"}},\"type\":\"scattermapbox\"}],\"scatterpolar\":[{\"marker\":{\"colorbar\":{\"outlinewidth\":0,\"ticks\":\"\"}},\"type\":\"scatterpolar\"}],\"scatterpolargl\":[{\"marker\":{\"colorbar\":{\"outlinewidth\":0,\"ticks\":\"\"}},\"type\":\"scatterpolargl\"}],\"scatterternary\":[{\"marker\":{\"colorbar\":{\"outlinewidth\":0,\"ticks\":\"\"}},\"type\":\"scatterternary\"}],\"surface\":[{\"colorbar\":{\"outlinewidth\":0,\"ticks\":\"\"},\"colorscale\":[[0.0,\"#0d0887\"],[0.1111111111111111,\"#46039f\"],[0.2222222222222222,\"#7201a8\"],[0.3333333333333333,\"#9c179e\"],[0.4444444444444444,\"#bd3786\"],[0.5555555555555556,\"#d8576b\"],[0.6666666666666666,\"#ed7953\"],[0.7777777777777778,\"#fb9f3a\"],[0.8888888888888888,\"#fdca26\"],[1.0,\"#f0f921\"]],\"type\":\"surface\"}],\"table\":[{\"cells\":{\"fill\":{\"color\":\"#EBF0F8\"},\"line\":{\"color\":\"white\"}},\"header\":{\"fill\":{\"color\":\"#C8D4E3\"},\"line\":{\"color\":\"white\"}},\"type\":\"table\"}]},\"layout\":{\"annotationdefaults\":{\"arrowcolor\":\"#2a3f5f\",\"arrowhead\":0,\"arrowwidth\":1},\"autotypenumbers\":\"strict\",\"coloraxis\":{\"colorbar\":{\"outlinewidth\":0,\"ticks\":\"\"}},\"colorscale\":{\"diverging\":[[0,\"#8e0152\"],[0.1,\"#c51b7d\"],[0.2,\"#de77ae\"],[0.3,\"#f1b6da\"],[0.4,\"#fde0ef\"],[0.5,\"#f7f7f7\"],[0.6,\"#e6f5d0\"],[0.7,\"#b8e186\"],[0.8,\"#7fbc41\"],[0.9,\"#4d9221\"],[1,\"#276419\"]],\"sequential\":[[0.0,\"#0d0887\"],[0.1111111111111111,\"#46039f\"],[0.2222222222222222,\"#7201a8\"],[0.3333333333333333,\"#9c179e\"],[0.4444444444444444,\"#bd3786\"],[0.5555555555555556,\"#d8576b\"],[0.6666666666666666,\"#ed7953\"],[0.7777777777777778,\"#fb9f3a\"],[0.8888888888888888,\"#fdca26\"],[1.0,\"#f0f921\"]],\"sequentialminus\":[[0.0,\"#0d0887\"],[0.1111111111111111,\"#46039f\"],[0.2222222222222222,\"#7201a8\"],[0.3333333333333333,\"#9c179e\"],[0.4444444444444444,\"#bd3786\"],[0.5555555555555556,\"#d8576b\"],[0.6666666666666666,\"#ed7953\"],[0.7777777777777778,\"#fb9f3a\"],[0.8888888888888888,\"#fdca26\"],[1.0,\"#f0f921\"]]},\"colorway\":[\"#636efa\",\"#EF553B\",\"#00cc96\",\"#ab63fa\",\"#FFA15A\",\"#19d3f3\",\"#FF6692\",\"#B6E880\",\"#FF97FF\",\"#FECB52\"],\"font\":{\"color\":\"#2a3f5f\"},\"geo\":{\"bgcolor\":\"white\",\"lakecolor\":\"white\",\"landcolor\":\"#E5ECF6\",\"showlakes\":true,\"showland\":true,\"subunitcolor\":\"white\"},\"hoverlabel\":{\"align\":\"left\"},\"hovermode\":\"closest\",\"mapbox\":{\"style\":\"light\"},\"paper_bgcolor\":\"white\",\"plot_bgcolor\":\"#E5ECF6\",\"polar\":{\"angularaxis\":{\"gridcolor\":\"white\",\"linecolor\":\"white\",\"ticks\":\"\"},\"bgcolor\":\"#E5ECF6\",\"radialaxis\":{\"gridcolor\":\"white\",\"linecolor\":\"white\",\"ticks\":\"\"}},\"scene\":{\"xaxis\":{\"backgroundcolor\":\"#E5ECF6\",\"gridcolor\":\"white\",\"gridwidth\":2,\"linecolor\":\"white\",\"showbackground\":true,\"ticks\":\"\",\"zerolinecolor\":\"white\"},\"yaxis\":{\"backgroundcolor\":\"#E5ECF6\",\"gridcolor\":\"white\",\"gridwidth\":2,\"linecolor\":\"white\",\"showbackground\":true,\"ticks\":\"\",\"zerolinecolor\":\"white\"},\"zaxis\":{\"backgroundcolor\":\"#E5ECF6\",\"gridcolor\":\"white\",\"gridwidth\":2,\"linecolor\":\"white\",\"showbackground\":true,\"ticks\":\"\",\"zerolinecolor\":\"white\"}},\"shapedefaults\":{\"line\":{\"color\":\"#2a3f5f\"}},\"ternary\":{\"aaxis\":{\"gridcolor\":\"white\",\"linecolor\":\"white\",\"ticks\":\"\"},\"baxis\":{\"gridcolor\":\"white\",\"linecolor\":\"white\",\"ticks\":\"\"},\"bgcolor\":\"#E5ECF6\",\"caxis\":{\"gridcolor\":\"white\",\"linecolor\":\"white\",\"ticks\":\"\"}},\"title\":{\"x\":0.05},\"xaxis\":{\"automargin\":true,\"gridcolor\":\"white\",\"linecolor\":\"white\",\"ticks\":\"\",\"title\":{\"standoff\":15},\"zerolinecolor\":\"white\",\"zerolinewidth\":2},\"yaxis\":{\"automargin\":true,\"gridcolor\":\"white\",\"linecolor\":\"white\",\"ticks\":\"\",\"title\":{\"standoff\":15},\"zerolinecolor\":\"white\",\"zerolinewidth\":2}}},\"xaxis\":{\"anchor\":\"y\",\"domain\":[0.0,1.0],\"title\":{\"text\":\"H\"}},\"yaxis\":{\"anchor\":\"x\",\"domain\":[0.0,1.0],\"title\":{\"text\":\"AB\"}},\"legend\":{\"title\":{\"text\":\"hof\"},\"tracegroupgap\":0},\"margin\":{\"t\":60},\"height\":600,\"width\":1000},                        {\"responsive\": true}                    ).then(function(){\n                            \nvar gd = document.getElementById('8dc6da09-10ea-4988-a308-22d3d41f31cf');\nvar x = new MutationObserver(function (mutations, observer) {{\n        var display = window.getComputedStyle(gd).display;\n        if (!display || display === 'none') {{\n            console.log([gd, 'removed!']);\n            Plotly.purge(gd);\n            observer.disconnect();\n        }}\n}});\n\n// Listen for the removal of the full notebook cells\nvar notebookContainer = gd.closest('#notebook-container');\nif (notebookContainer) {{\n    x.observe(notebookContainer, {childList: true});\n}}\n\n// Listen for the clearing of the current output cell\nvar outputEl = gd.closest('.output');\nif (outputEl) {{\n    x.observe(outputEl, {childList: true});\n}}\n\n                        })                };                            </script>        </div>\n</body>\n</html>"
     },
     "execution_count": 31,
     "metadata": {
     },
     "output_type": "execute_result"
    }
   ],
   "source": [
    "temp['id'] = temp.index\n",
    "fig = px.scatter(temp, x=\"H\", y=\"AB\", color=\"hof\", hover_data=['id'], width=1000, height=600)\n",
    "fig.write_html(\"H_AB_scatter.html\")\n",
    "fig.show()"
   ]
  },
  {
   "cell_type": "code",
   "execution_count": 32,
   "metadata": {
    "collapsed": false
   },
   "outputs": [
    {
     "data": {
      "text/html": "<html>\n<head><meta charset=\"utf-8\" /></head>\n<body>\n    <div>            <script src=\"https://cdnjs.cloudflare.com/ajax/libs/mathjax/2.7.5/MathJax.js?config=TeX-AMS-MML_SVG\"></script><script type=\"text/javascript\">if (window.MathJax) {MathJax.Hub.Config({SVG: {font: \"STIX-Web\"}});}</script>                <script type=\"text/javascript\">window.PlotlyConfig = {MathJaxConfig: 'local'};</script>\n        <script src=\"https://cdn.plot.ly/plotly-2.9.0.min.js\"></script>                <div id=\"22da6bdf-2ce6-4ee0-a872-153e1a3dd341\" class=\"plotly-graph-div\" style=\"height:600px; width:1000px;\"></div>            <script type=\"text/javascript\">                                    window.PLOTLYENV=window.PLOTLYENV || {};                                    if (document.getElementById(\"22da6bdf-2ce6-4ee0-a872-153e1a3dd341\")) {                    Plotly.newPlot(                        \"22da6bdf-2ce6-4ee0-a872-153e1a3dd341\",                        [{\"customdata\":[[\"aaronha01\"],[\"alexape01\"],[\"alomaro01\"],[\"ansonca01\"],[\"aparilu01\"],[\"applilu01\"],[\"ashburi01\"],[\"averiea01\"],[\"bagweje01\"],[\"bakerfr01\"],[\"bancrda01\"],[\"bankser01\"],[\"becklja01\"],[\"benchjo01\"],[\"bendech01\"],[\"berrayo01\"],[\"biggicr01\"],[\"blylebe01\"],[\"boggswa01\"],[\"bottoji01\"],[\"boudrlo01\"],[\"bresnro01\"],[\"brettge01\"],[\"brocklo01\"],[\"broutda01\"],[\"brownmo01\"],[\"bunniji01\"],[\"burkeje01\"],[\"camparo01\"],[\"carewro01\"],[\"careyma01\"],[\"carltst01\"],[\"cartega01\"],[\"cepedor01\"],[\"chancfr01\"],[\"chesbja01\"],[\"clarkfr01\"],[\"clarkjo01\"],[\"clemero01\"],[\"cobbty01\"],[\"cochrmi01\"],[\"collied01\"],[\"colliji01\"],[\"combsea01\"],[\"comisch01\"],[\"connoro01\"],[\"covelst01\"],[\"crawfsa01\"],[\"cronijo01\"],[\"cuyleki01\"],[\"davisge01\"],[\"dawsoan01\"],[\"deandi01\"],[\"delahed01\"],[\"dickebi01\"],[\"dimagjo01\"],[\"dobyla01\"],[\"doerrbo01\"],[\"drysddo01\"],[\"duffyhu01\"],[\"durocle01\"],[\"eckerde01\"],[\"eversjo01\"],[\"ewingbu01\"],[\"faberre01\"],[\"fellebo01\"],[\"ferreri01\"],[\"fingero01\"],[\"fiskca01\"],[\"flickel01\"],[\"fordwh01\"],[\"foxne01\"],[\"foxxji01\"],[\"friscfr01\"],[\"galvipu01\"],[\"gehrich01\"],[\"gehrilo01\"],[\"gibsobo01\"],[\"glavito02\"],[\"gomezle01\"],[\"gordojo01\"],[\"gosligo01\"],[\"gossari01\"],[\"greenha01\"],[\"griffcl01\"],[\"griffke02\"],[\"grimebu01\"],[\"grovele01\"],[\"guerrvl01\"],[\"gwynnto01\"],[\"hafeych01\"],[\"haineje01\"],[\"hamilbi01\"],[\"hanlone01\"],[\"harribu01\"],[\"hartnga01\"],[\"heilmha01\"],[\"henderi01\"],[\"hermabi01\"],[\"hoffmtr01\"],[\"hoopeha01\"],[\"hornsro01\"],[\"hoytwa01\"],[\"hubbeca01\"],[\"huggimi01\"],[\"hunteca01\"],[\"jacksre01\"],[\"jackstr01\"],[\"jenkife01\"],[\"jennihu01\"],[\"johnsra05\"],[\"johnswa01\"],[\"jonesch06\"],[\"kalinal01\"],[\"keefeti01\"],[\"keelewi01\"],[\"kellejo01\"],[\"kellge01\"],[\"kellyge01\"],[\"kellyki01\"],[\"killeha01\"],[\"kinerra01\"],[\"kleinch01\"],[\"koufasa01\"],[\"lajoina01\"],[\"larkiba01\"],[\"lazzeto01\"],[\"lemonbo01\"],[\"lindsfr01\"],[\"lombaer01\"],[\"lopezal01\"],[\"lyonste01\"],[\"mackco01\"],[\"maddugr01\"],[\"mantlmi01\"],[\"manushe01\"],[\"maranra01\"],[\"maricju01\"],[\"marquru01\"],[\"martipe02\"],[\"mathech01\"],[\"matheed01\"],[\"mayswi01\"],[\"mazerbi01\"],[\"mccarto01\"],[\"mccovwi01\"],[\"mcginjo01\"],[\"mcgrajo01\"],[\"mckecbi01\"],[\"mcphebi01\"],[\"medwijo01\"],[\"mizejo01\"],[\"molitpa01\"],[\"morgajo02\"],[\"morrija02\"],[\"murraed02\"],[\"musiast01\"],[\"newhoha01\"],[\"nichoki01\"],[\"niekrph01\"],[\"orourji01\"],[\"ottme01\"],[\"palmeji01\"],[\"pennohe01\"],[\"perezto01\"],[\"perryga01\"],[\"piazzmi01\"],[\"planked01\"],[\"puckeki01\"],[\"radboch01\"],[\"raineti01\"],[\"reesepe01\"],[\"riceji01\"],[\"ricesa01\"],[\"ripkeca01\"],[\"rixeyep01\"],[\"rizzuph01\"],[\"roberro01\"],[\"robinbr01\"],[\"robinfr02\"],[\"robinja02\"],[\"robinwi01\"],[\"rodriiv01\"],[\"roushed01\"],[\"ruffire01\"],[\"rusieam01\"],[\"ruthba01\"],[\"ryanno01\"],[\"sandbry01\"],[\"santoro01\"],[\"schalra01\"],[\"schmimi01\"],[\"schoere01\"],[\"seaveto01\"],[\"seweljo01\"],[\"simmoal01\"],[\"sislege01\"],[\"slaugen01\"],[\"smithoz01\"],[\"smoltjo01\"],[\"snidedu01\"],[\"southbi01\"],[\"spahnwa01\"],[\"speaktr01\"],[\"stargwi01\"],[\"stengca01\"],[\"suttebr01\"],[\"suttodo01\"],[\"terrybi01\"],[\"thomafr04\"],[\"thomeji01\"],[\"thompsa01\"],[\"tinkejo01\"],[\"torrejo01\"],[\"trammal01\"],[\"traynpi01\"],[\"vanceda01\"],[\"vaughar01\"],[\"wadderu01\"],[\"wagneho01\"],[\"wallabo01\"],[\"walshed01\"],[\"wanerll01\"],[\"wanerpa01\"],[\"wardjo01\"],[\"welchmi01\"],[\"wheatza01\"],[\"whitede01\"],[\"wilheho01\"],[\"willibi01\"],[\"willidi02\"],[\"willite01\"],[\"willivi01\"],[\"wilsoha01\"],[\"winfida01\"],[\"wrighge01\"],[\"wynnea01\"],[\"yastrca01\"],[\"youngcy01\"],[\"youngro01\"],[\"yountro01\"]],\"hovertemplate\":\"hof=True<br>Avg=%{x}<br>H=%{y}<br>id=%{customdata[0]}<extra></extra>\",\"legendgroup\":\"True\",\"marker\":{\"color\":\"#636efa\",\"symbol\":\"circle\"},\"mode\":\"markers\",\"name\":\"True\",\"showlegend\":true,\"x\":[0.3440065681444992,0.2181188690132718,0.33876383534386273,0.36947402387867057,0.28196755845797344,0.3639131585914747,0.3591460862285475,0.36189281233195914,0.3617886178861789,0.333514788604609,0.31534225019669554,0.2983367983367983,0.32881925013989927,0.3026451898921235,0.22667910447761194,0.31382279959130055,0.31494442157266367,0.13228699551569506,0.38748712667353247,0.33979726751873074,0.3399579591056755,0.332359968144412,0.3408624229979466,0.3158499634311984,0.391267414203194,0.21383075523202913,0.1716357775987107,0.38529133432472623,0.3161764705882353,0.3679643244546221,0.32019704433497537,0.2061978545887962,0.2936964762038467,0.3203433710314757,0.3403686882180069,0.2012987012987013,0.3473861720067454,0.22820919175911253,0.3396354579418091,0.41121036615294004,0.38311688311688313,0.3923076923076923,0.31386402888993564,0.367612293144208,0.2730844793713163,0.3630610743193525,0.16716417910447762,0.33609534619750286,0.3504601226993865,0.35451040863531225,0.3261534695875658,0.2970657528378668,0.2274011299435028,0.3837174940898345,0.35023123443614373,0.367103299618637,0.3383962474871566,0.3249522597071929,0.19657348963029755,0.35940438871473357,0.26543334003619545,0.13953488372093023,0.3095726814704236,0.32689599678133174,0.15454545454545454,0.16328257191201354,0.33195997645673925,0.1751412429378531,0.2979638295181485,0.3504,0.1945054945054945,0.3128156936450135,0.3959892247829991,0.3435114503816794,0.203690036900369,0.3699504821475111,0.41906668720160173,0.216600790513834,0.20130932896890344,0.1557377049180328,0.309215844785772,0.3548721941092513,0.1111111111111111,0.3750287952084773,0.2644151565074135,0.3276004240782189,0.2592087312414734,0.15981012658227847,0.34915071447829604,0.3696163803247823,0.34469786033388194,0.1910420475319927,0.4248135060855909,0.28559046587215603,0.30417448405253283,0.3337406179088846,0.38378300389554176,0.34830692053357654,0.336441893830703,0.11764705882352941,0.32239508432474834,0.41065171688857743,0.20449077786688052,0.19601593625498007,0.32360043907793634,0.22923076923076924,0.3043939215455295,0.31159675713782164,0.17309941520467836,0.3355321020228672,0.12871287128712872,0.24706413730803975,0.36482869379014987,0.34019685484783346,0.20440251572327045,0.36345605553489524,0.3642329778506973,0.3377733925341227,0.317103620474407,0.33906863661866465,0.3166363084395871,0.3459704339532666,0.35276125743415465,0.10231923601637108,0.3573947542428918,0.33438125178622463,0.3389830508474576,0.25137614678899084,0.33105931400416905,0.3303225806451613,0.2886194029850746,0.2442953020134228,0.26068037974683544,0.17469492614001284,0.37918040508714085,0.35310576385002795,0.2819569217447776,0.17075232459847844,0.18435754189944134,0.1026252983293556,0.23042647994907703,0.3263781192725222,0.34862482743973666,0.27586206896551724,0.32569808027923214,0.3226795096322242,0.19873317498020585,0.42389896373056996,0.2687523558235959,0.308385686970773,0.3432898027229786,0.35994272418113477,0.34072477158402625,0.3395844576362655,0.0,0.3254023792862141,0.387282620292329,0.22087912087912087,0.2416794674859191,0.17105263157894737,0.330287859824781,0.3711925658234383,0.17970401691331925,0.20714285714285716,0.3085959561730487,0.13377609108159394,0.34574122236671,0.21549479166666666,0.3391227553723874,0.25118076427651354,0.3453990983823919,0.31688084112149534,0.3245532759761747,0.34890783786940777,0.3055075801189791,0.1975560081466395,0.3074540174249758,0.18345323741007194,0.2907902797631203,0.34276729559748426,0.36693255982596085,0.28983086239298395,0.3132503579689393,0.3453990405582207,0.2831521739130435,0.25190839694656486,0.4534406565656566,0.11547911547911548,0.3129590766002099,0.32039800995024875,0.28813196229648674,0.32636961285609933,0.3110631271434015,0.16735708367854185,0.35389507154213035,0.3594056974459725,0.3607440667094291,0.3439665127020785,0.2955309947140798,0.17376294591484465,0.3418416801292407,0.32752084912812734,0.20416197975253092,0.39868391195824826,0.31931330472103003,0.3165411581407427,0.09473684210526316,0.15069551777434312,0.3722627737226277,0.37783221065523576,0.34876404494382024,0.3584565452578435,0.2804979253112033,0.33009161381254404,0.3179618176929282,0.3409058840129815,0.16367713004484305,0.36992084432717676,0.16796875,0.36091177712114814,0.29436511983681796,0.20153550863723607,0.33446681175190424,0.37667304015296366,0.2912232204561161,0.23218499292118924,0.34105960264900664,0.3272640911969601,0.09359605911330049,0.3264298615291993,0.28111273792093705,0.4668425681618294,0.17563739376770537,0.3575624082232012,0.3177684683764177,0.3087344028520499,0.23352527191298783,0.3370797594400079,0.21639458145189303,0.365710080941869,0.312885879306911],\"xaxis\":\"x\",\"y\":[3771,378,2724,3435,2677,2749,2574,2019,2314,1838,2004,2583,2938,2048,243,2150,3060,59,3010,2313,1779,1252,3154,3023,2303,235,213,2850,1161,3053,2665,346,2092,2351,1274,217,2678,432,3000,4189,1652,3315,1999,1866,1529,2467,168,2961,2285,2299,2665,2774,161,2597,1969,2214,1515,2042,218,2293,1320,24,1659,1625,170,193,1692,31,2356,1752,177,2663,2646,2880,552,2839,2721,274,246,133,1530,2735,9,1628,321,2781,380,202,2590,3141,1466,209,2164,1318,1297,1912,2660,3055,2345,4,2466,2930,255,246,1474,149,2584,1768,148,1526,78,547,2726,3007,390,2932,2220,2054,1778,1813,2086,1451,2076,75,3243,2340,1840,274,1747,1792,1547,364,659,272,2415,2524,2605,202,198,43,362,2315,3283,2016,1493,2211,251,1309,713,2258,2471,2011,3319,2517,0,3255,3630,201,472,260,2639,2876,85,232,2732,141,2127,331,2304,585,2605,2170,2452,2987,3184,291,1588,255,2848,2943,1518,1388,2844,2376,521,429,2873,94,2386,2254,1345,2234,2449,202,2226,2927,2812,2383,2460,151,2116,1296,363,3514,2232,1219,9,195,2193,2468,2328,1988,1690,2342,2365,2416,146,2103,172,3420,2309,210,2459,3152,2107,492,2884,2067,38,2711,768,2654,248,1461,3110,866,365,3419,623,1491,3142],\"yaxis\":\"y\",\"type\":\"scattergl\"},{\"customdata\":[[\"aasedo01\"],[\"abbated01\"],[\"abbotji01\"],[\"abbotku01\"],[\"abbotpa01\"],[\"abernte02\"],[\"abramca01\"],[\"abreubo01\"],[\"accarje01\"],[\"aceveju01\"],[\"ackerji01\"],[\"adairje01\"],[\"adamsba01\"],[\"adamsbo03\"],[\"adamsmi03\"],[\"adamssp01\"],[\"adamste01\"],[\"adcocjo01\"],[\"affelje01\"],[\"ageeto01\"],[\"agostju01\"],[\"aguaylu01\"],[\"aguilri01\"],[\"aguirha01\"],[\"ainsmed01\"],[\"akerja01\"],[\"alberma01\"],[\"aldremi01\"],[\"aldresc01\"],[\"alexado01\"],[\"alexama02\"],[\"alfonan01\"],[\"alfoned01\"],[\"alicelu01\"],[\"allenbe01\"],[\"allendi01\"],[\"allenet01\"],[\"allenjo02\"],[\"allenne01\"],[\"alleyge01\"],[\"allisbo01\"],[\"allisdo01\"],[\"almadme01\"],[\"almonbi01\"],[\"alomasa01\"],[\"alomasa02\"],[\"aloufe01\"],[\"alouje01\"],[\"alouma01\"],[\"aloumo01\"],[\"altroni01\"],[\"alvarlu01\"],[\"alvarwi01\"],[\"amalfjo01\"],[\"amarari01\"],[\"amaroru01\"],[\"amesre01\"],[\"amezaal01\"],[\"anderbr01\"],[\"anderbr02\"],[\"anderda02\"],[\"anderga01\"],[\"anderjo01\"],[\"anderla02\"],[\"anderma02\"],[\"andinro01\"],[\"andreiv01\"],[\"andujjo01\"],[\"ankieri01\"],[\"anthoer01\"],[\"antonjo02\"],[\"appieke01\"],[\"applepe01\"],[\"aquinlu01\"],[\"archeji01\"],[\"ariasal01\"],[\"armasto01\"],[\"armasto02\"],[\"arrigge01\"],[\"arroybr01\"],[\"ashbyal01\"],[\"ashbyan01\"],[\"asprobo01\"],[\"asproke01\"],[\"assenpa01\"],[\"astacpe01\"],[\"astrojo01\"],[\"auerbri01\"],[\"aukerel01\"],[\"aurilri01\"],[\"ausmubr01\"],[\"austiji01\"],[\"averyst01\"],[\"avilabo01\"],[\"avilemi01\"],[\"axforjo01\"],[\"ayalabe01\"],[\"ayalalu01\"],[\"aybarer01\"],[\"aybarma01\"],[\"ayersdo01\"],[\"azcuejo01\"],[\"backmwa01\"],[\"baergca01\"],[\"baezda01\"],[\"bagbyji02\"],[\"bahnsst01\"],[\"bailebi01\"],[\"bailebo01\"],[\"baileed01\"],[\"baileho02\"],[\"bailobo01\"],[\"baineha01\"],[\"bairddo01\"],[\"bairdo01\"],[\"bakerdu01\"],[\"bakerfl01\"],[\"bakerje03\"],[\"bakersc02\"],[\"bakopa01\"],[\"balbost01\"],[\"baldwja01\"],[\"balfogr01\"],[\"bandoch01\"],[\"bandosa01\"],[\"bankhsc01\"],[\"bankswi01\"],[\"bannial01\"],[\"bannifl01\"],[\"barajro01\"],[\"barbest01\"],[\"bardjo01\"],[\"barfije01\"],[\"barkele01\"],[\"barmecl01\"],[\"barneje01\"],[\"barnevi01\"],[\"barrebi02\"],[\"barreji01\"],[\"barrema02\"],[\"barremi01\"],[\"barrere01\"],[\"barrji01\"],[\"barryja01\"],[\"barrysh01\"],[\"bartedi01\"],[\"bartlja01\"],[\"bartobo01\"],[\"bassech01\"],[\"basske01\"],[\"bastich01\"],[\"batemjo01\"],[\"batesjo02\"],[\"batismi01\"],[\"batisto01\"],[\"batteea01\"],[\"battijo01\"],[\"battsma01\"],[\"bauerha01\"],[\"baumafr01\"],[\"baumhfr01\"],[\"bautida01\"],[\"bautide01\"],[\"bautijo01\"],[\"bautijo02\"],[\"bayja01\"],[\"baylodo01\"],[\"beaucji01\"],[\"beaumgi01\"],[\"beckbo01\"],[\"beckebe01\"],[\"beckegl01\"],[\"beckejo02\"],[\"beckeri01\"],[\"beckhgo01\"],[\"beckro01\"],[\"bedarer01\"],[\"bedrost01\"],[\"beggsjo01\"],[\"beimejo01\"],[\"belanma01\"],[\"belchti01\"],[\"belinst01\"],[\"belisma01\"],[\"bellbu01\"],[\"bellda01\"],[\"bellde01\"],[\"belleal01\"],[\"bellga01\"],[\"bellge02\"],[\"bellgu01\"],[\"bellhe01\"],[\"bellhma01\"],[\"bellira01\"],[\"belliro01\"],[\"bellja01\"],[\"beltrad01\"],[\"beltrca01\"],[\"benedbr01\"],[\"benesan01\"],[\"bengera01\"],[\"bengobe01\"],[\"beniqju01\"],[\"benitar01\"],[\"benjami01\"],[\"bennech01\"],[\"bennega01\"],[\"benoijo01\"],[\"bensokr01\"],[\"bentlja01\"],[\"bentoal01\"],[\"bentola01\"],[\"bentoru01\"],[\"benzito01\"],[\"berarjo01\"],[\"bereja01\"],[\"berenju01\"],[\"bergebi01\"],[\"bergewa01\"],[\"bergmda01\"],[\"bergmo01\"],[\"berkmla01\"],[\"bernato01\"],[\"bernhbi01\"],[\"berrada01\"],[\"berrera01\"],[\"berroan01\"],[\"berroge01\"],[\"berrych02\"],[\"berryda01\"],[\"berryke01\"],[\"berryse01\"],[\"bertore01\"],[\"beschbo01\"],[\"betanra01\"],[\"betanyu01\"],[\"betemwi01\"],[\"bettshu01\"],[\"bevacku01\"],[\"bibbyji01\"],[\"bicheda01\"],[\"bielemi01\"],[\"bierblo01\"],[\"bigbeca01\"],[\"biittla01\"],[\"bilkost01\"],[\"billija01\"],[\"billijo01\"],[\"birddo01\"],[\"bishoma01\"],[\"blackbu02\"],[\"blackew01\"],[\"blackti01\"],[\"bladera01\"],[\"blaehge01\"],[\"blairpa01\"],[\"blairwi01\"],[\"blakeca01\"],[\"blakesh01\"],[\"blanche01\"],[\"blancjo01\"],[\"blantjo01\"],[\"blasido01\"],[\"blasiwa01\"],[\"blassst01\"],[\"blausje01\"],[\"blefacu01\"],[\"blevije01\"],[\"bloodji01\"],[\"bloomwi01\"],[\"blowemi01\"],[\"bluegos01\"],[\"bluelu01\"],[\"bluevi01\"],[\"blumge01\"],[\"bocachi01\"],[\"boccajo01\"],[\"bochtbr01\"],[\"boehrbr01\"],[\"boevejo01\"],[\"bohanbr01\"],[\"bolinbo01\"],[\"bollifr01\"],[\"bondeje01\"],[\"bondsba01\"],[\"bondsbo01\"],[\"bondto01\"],[\"bonesri01\"],[\"bonhabi01\"],[\"bonhati01\"],[\"bonifem01\"],[\"bonilbo01\"],[\"bonneba01\"],[\"booneaa01\"],[\"boonebo01\"],[\"boonebr01\"],[\"boonera01\"],[\"borbope01\"],[\"borbope02\"],[\"bordafr01\"],[\"bordepa01\"],[\"bordimi01\"],[\"borlato02\"],[\"borowha01\"],[\"borowjo01\"],[\"boskish01\"],[\"bosleth01\"],[\"bosmadi01\"],[\"bostoda01\"],[\"bosweke01\"],[\"bottari01\"],[\"botteke01\"],[\"bournmi01\"],[\"boutoji01\"],[\"bowala01\"],[\"bowerfr01\"],[\"bowmajo01\"],[\"boydbo01\"],[\"boydoi01\"],[\"boyerbl01\"],[\"boyercl02\"],[\"boyerke01\"],[\"boyleja01\"],[\"bradfbu01\"],[\"bradlbi01\"],[\"bradlge01\"],[\"bradlmi01\"],[\"bradlsc01\"],[\"braggda01\"],[\"brancra01\"],[\"branded01\"],[\"brandja01\"],[\"bransje01\"],[\"branski01\"],[\"brantje01\"],[\"branyru01\"],[\"braunry02\"],[\"braunst01\"],[\"braxtga01\"],[\"brazlal01\"],[\"breamsi01\"],[\"brechha01\"],[\"breitte01\"],[\"brenlbo01\"],[\"breslcr01\"],[\"bressed01\"],[\"bressru01\"],[\"brettke01\"],[\"breweji01\"],[\"bridgro01\"],[\"bridgto01\"],[\"bridwal01\"],[\"briggjo02\"],[\"brignre01\"],[\"brilene01\"],[\"brinked01\"],[\"brocado01\"],[\"brockgr01\"],[\"brodist01\"],[\"brognri01\"],[\"brohaja01\"],[\"brookhu01\"],[\"brookto01\"],[\"brosisc01\"],[\"brosnji01\"],[\"broweji01\"],[\"brownbu01\"],[\"browncl01\"],[\"brownem01\"],[\"brownga01\"],[\"brownge01\"],[\"brownha01\"],[\"brownje01\"],[\"brownju01\"],[\"brownke01\"],[\"brownla01\"],[\"brownle01\"],[\"brownll01\"],[\"brownma01\"],[\"brownol02\"],[\"brownpe01\"],[\"brownto01\"],[\"brownto02\"],[\"brownto05\"],[\"broxtjo01\"],[\"brubabi01\"],[\"bruceja01\"],[\"brunato01\"],[\"brunege01\"],[\"brusswa01\"],[\"brutobi01\"],[\"buchhcl01\"],[\"buckjo01\"],[\"bucknbi01\"],[\"buechst01\"],[\"buehrma01\"],[\"buelofr01\"],[\"buffich01\"],[\"buforda01\"],[\"bufordo01\"],[\"buhlbo01\"],[\"buhneja01\"],[\"bumbral01\"],[\"burbada01\"],[\"burdele01\"],[\"burdoja01\"],[\"burgesm01\"],[\"burgmto01\"],[\"burkebo01\"],[\"burkeed01\"],[\"burkejo03\"],[\"burketi01\"],[\"burksel01\"],[\"burleri01\"],[\"burneaj01\"],[\"burnese01\"],[\"burnije01\"],[\"burnsge01\"],[\"burnsge02\"],[\"burnsoy01\"],[\"burnsto01\"],[\"burrepa01\"],[\"burrira01\"],[\"burroje01\"],[\"busbyji01\"],[\"bushdo01\"],[\"bushgu01\"],[\"bushjo01\"],[\"bushodo01\"],[\"bushra01\"],[\"butchma01\"],[\"butersa01\"],[\"butlebi03\"],[\"butlebr01\"],[\"buzhajo01\"],[\"byerlbu01\"],[\"byrdati01\"],[\"byrdma01\"],[\"byrdpa01\"],[\"byrnebo01\"],[\"byrneer01\"],[\"byrneto01\"],[\"cabelen01\"],[\"cabreas01\"],[\"cabreme01\"],[\"cabremi01\"],[\"cabreor01\"],[\"cadargr01\"],[\"cadorle01\"],[\"cainma01\"],[\"cairomi01\"],[\"caldeiv01\"],[\"caldwmi01\"],[\"caldwra02\"],[\"callaal01\"],[\"callani01\"],[\"callijo01\"],[\"camacer01\"],[\"camermi01\"],[\"camildo01\"],[\"caminke01\"],[\"camniho01\"],[\"campabe01\"],[\"campbbi02\"],[\"campbbr01\"],[\"campbda01\"],[\"campsh01\"],[\"candaca01\"],[\"candejo01\"],[\"candito01\"],[\"cangejo01\"],[\"cannich01\"],[\"canoro01\"],[\"cansejo01\"],[\"cantujo01\"],[\"cantwbe01\"],[\"capuach01\"],[\"carbobe01\"],[\"cardejo02\"],[\"cardele01\"],[\"cardwdo01\"],[\"careyan01\"],[\"carlsha01\"],[\"carmado01\"],[\"carmofa01\"],[\"carpech01\"],[\"carpehi01\"],[\"carrach01\"],[\"carragi01\"],[\"carrahe01\"],[\"carrema01\"],[\"carribi02\"],[\"carrocl01\"],[\"carrocl02\"],[\"carroja01\"],[\"carroow01\"],[\"carseki01\"],[\"cartejo01\"],[\"cartyri01\"],[\"carutbo01\"],[\"casanpa01\"],[\"casanra01\"],[\"casege01\"],[\"caseydo01\"],[\"caseyhu01\"],[\"caseyse01\"],[\"cashda01\"],[\"cashno01\"],[\"casiala01\"],[\"cassijo01\"],[\"castege01\"],[\"castial01\"],[\"castica01\"],[\"castifr01\"],[\"castilu01\"],[\"castito02\"],[\"castivi02\"],[\"castrju01\"],[\"castrra01\"],[\"catalfr01\"],[\"caterda01\"],[\"causewa01\"],[\"cavarph01\"],[\"cedence01\"],[\"cedenro01\"],[\"cedenro02\"],[\"ceronri01\"],[\"cervbo01\"],[\"ceyro01\"],[\"chacosh01\"],[\"chakabo01\"],[\"chalkda01\"],[\"chambch01\"],[\"chambel01\"],[\"chambjo03\"],[\"chancde01\"],[\"chandsp01\"],[\"chaneda01\"],[\"chapmbe01\"],[\"chapmsa01\"],[\"charlno01\"],[\"chaseha01\"],[\"chaveen01\"],[\"chaveer01\"],[\"chaveje01\"],[\"chavera01\"],[\"chenbr01\"],[\"chenela01\"],[\"childcu01\"],[\"chipmbo01\"],[\"chitiha01\"],[\"choatra01\"],[\"choosh01\"],[\"chrisja01\"],[\"chrisla01\"],[\"chrisma01\"],[\"cicoted01\"],[\"cimolgi01\"],[\"cirilje01\"],[\"cissebi01\"],[\"clancji01\"],[\"clappjo01\"],[\"clarkbo02\"],[\"clarkbr02\"],[\"clarkda05\"],[\"clarkho01\"],[\"clarkja01\"],[\"clarkma01\"],[\"clarkni01\"],[\"clarkto01\"],[\"clarkto02\"],[\"clarkwa02\"],[\"clarkwi02\"],[\"claytro01\"],[\"clemedo01\"],[\"clemeja01\"],[\"clemepa01\"],[\"clemero02\"],[\"clenddo01\"],[\"clevere01\"],[\"cliftha01\"],[\"clinege01\"],[\"clinety01\"],[\"clingbi01\"],[\"clintji01\"],[\"clintlo01\"],[\"clippty01\"],[\"clonito01\"],[\"coaklan01\"],[\"coangi01\"],[\"coateji01\"],[\"coffmdi01\"],[\"cokeph01\"],[\"colavro01\"],[\"colbena01\"],[\"colboji01\"],[\"colbrgr01\"],[\"colemjo01\"],[\"colemjo04\"],[\"colemjo05\"],[\"colemvi01\"],[\"colesda01\"],[\"collida02\"],[\"collijo01\"],[\"collipa01\"],[\"colliri01\"],[\"collish01\"],[\"colluja01\"],[\"colomje01\"],[\"colonba01\"],[\"comorad01\"],[\"conceda01\"],[\"coneda01\"],[\"coninje01\"],[\"conlege01\"],[\"connasa01\"],[\"conrowi01\"],[\"consobi01\"],[\"consusa01\"],[\"contrjo01\"],[\"cookaa01\"],[\"cookde01\"],[\"cooledu01\"],[\"coombja01\"],[\"coonejo01\"],[\"coopece01\"],[\"coopemo01\"],[\"coopewa01\"],[\"coopewi01\"],[\"coraal01\"],[\"corajo01\"],[\"corcola01\"],[\"corcoto01\"],[\"cordefr01\"],[\"cordewi01\"],[\"corkhpo01\"],[\"cormirh01\"],[\"corrapa01\"],[\"correke01\"],[\"corsiji01\"],[\"cottich01\"],[\"cottohe01\"],[\"cottsne01\"],[\"coughbi01\"],[\"counscr01\"],[\"courtcl01\"],[\"covinwe01\"],[\"cowanbi01\"],[\"cowenal01\"],[\"coxbi02\"],[\"coxda01\"],[\"craigro01\"],[\"crainje01\"],[\"cramedo01\"],[\"crandde01\"],[\"cranddo01\"],[\"craneed01\"],[\"cranesa01\"],[\"cravaga01\"],[\"crawfca02\"],[\"crawfwi01\"],[\"credejo01\"],[\"creekdo01\"],[\"crigelo01\"],[\"crispco01\"],[\"critzhu01\"],[\"cromawa01\"],[\"crosefr01\"],[\"crossla01\"],[\"crossmo01\"],[\"crowdal01\"],[\"crowlte01\"],[\"cruiswa01\"],[\"cruzde01\"],[\"cruzhe01\"],[\"cruzja01\"],[\"cruzjo01\"],[\"cruzjo02\"],[\"cruzju01\"],[\"cruzju02\"],[\"cruzne02\"],[\"cuccito01\"],[\"cuddymi01\"],[\"cuellmi01\"],[\"cuetojo01\"],[\"cullero01\"],[\"culpra01\"],[\"culvege01\"],[\"cummimi01\"],[\"cunnibe01\"],[\"cunnijo01\"],[\"cuppyni01\"],[\"curtich01\"],[\"curtijo01\"],[\"custja01\"],[\"cuthbne01\"],[\"cutshge01\"],[\"daalom01\"],[\"dacqujo01\"],[\"dahlebi01\"],[\"dahlgba01\"],[\"dailyco01\"],[\"dailyed01\"],[\"dalcabr01\"],[\"daleybu01\"],[\"dalryab01\"],[\"dalrycl01\"],[\"dalyto01\"],[\"damonjo01\"],[\"danfoda01\"],[\"danksjo01\"],[\"danniha01\"],[\"darenvi01\"],[\"darkal01\"],[\"darliro01\"],[\"darwibo01\"],[\"darwida01\"],[\"daubeja01\"],[\"dauerri01\"],[\"daultda01\"],[\"daussho01\"],[\"davalvi01\"],[\"davenji01\"],[\"davisch01\"],[\"davisch02\"],[\"daviscu01\"],[\"davisdi01\"],[\"davisdo02\"],[\"daviser01\"],[\"davisgl01\"],[\"davisha01\"],[\"davisjo02\"],[\"daviski01\"],[\"davisma01\"],[\"davismi02\"],[\"davisra01\"],[\"davisro02\"],[\"davissp01\"],[\"davisst02\"],[\"davisto02\"],[\"daviswi02\"],[\"dayleke01\"],[\"dealch01\"],[\"deazaal01\"],[\"deberha01\"],[\"decindo01\"],[\"deckege01\"],[\"deerro01\"],[\"dejeami01\"],[\"dejesda01\"],[\"dejesiv01\"],[\"delahji01\"],[\"delarjo01\"],[\"deleojo01\"],[\"delgaca01\"],[\"delgawi01\"],[\"delgrbo01\"],[\"delluda01\"],[\"delocik01\"],[\"delosva01\"],[\"delsiji01\"],[\"delucri01\"],[\"demaejo01\"],[\"demarfr02\"],[\"demetdo01\"],[\"demonge01\"],[\"dempsri01\"],[\"dempsry01\"],[\"dennyje01\"],[\"dennyjo01\"],[\"denorch01\"],[\"dentbu01\"],[\"dernibo01\"],[\"derosma01\"],[\"derripa01\"],[\"desauge01\"],[\"deshaji01\"],[\"deshide01\"],[\"desseel01\"],[\"detwiro01\"],[\"devermi01\"],[\"devliar01\"],[\"devorjo01\"],[\"diazbo01\"],[\"diazei01\"],[\"diazma02\"],[\"dickebu01\"],[\"dickera01\"],[\"dicksmu01\"],[\"dierkla01\"],[\"dietrbi01\"],[\"difelmi01\"],[\"dilonmi01\"],[\"dimagdo01\"],[\"dimagvi01\"],[\"dinnebi01\"],[\"dipinfr01\"],[\"disarga01\"],[\"ditmaar01\"],[\"doakbi01\"],[\"dobbsgr01\"],[\"dobsojo01\"],[\"dobsopa01\"],[\"dohened01\"],[\"dolanco01\"],[\"donahji02\"],[\"donahre01\"],[\"donlimi01\"],[\"donneji01\"],[\"donohpe01\"],[\"donovbi01\"],[\"donovdi01\"],[\"donovpa01\"],[\"dooinre01\"],[\"doolami01\"],[\"doranbi02\"],[\"dorgami01\"],[\"dorisha01\"],[\"doteloc01\"],[\"doughpa01\"],[\"douglph01\"],[\"doumiry01\"],[\"douthta01\"],[\"dowdto01\"],[\"downial01\"],[\"downibr01\"],[\"downssc01\"],[\"doyleja01\"],[\"doylela01\"],[\"drabedo01\"],[\"drabomo01\"],[\"dragodi01\"],[\"drewjd01\"],[\"drewska01\"],[\"drewst01\"],[\"driesda01\"],[\"dropowa01\"],[\"duceyro01\"],[\"duffyfr01\"],[\"duganjo01\"],[\"dugglbi01\"],[\"dukeza01\"],[\"duncada01\"],[\"duncama01\"],[\"dunlafr01\"],[\"dunnad01\"],[\"dunnja01\"],[\"dunstsh01\"],[\"durbich01\"],[\"durenry01\"],[\"durhale01\"],[\"durhara01\"],[\"dusaker01\"],[\"dwyerfr01\"],[\"dwyerji01\"],[\"dyeje01\"],[\"dyerdu01\"],[\"dykesji01\"],[\"dykstle01\"],[\"earnsge01\"],[\"easleda01\"],[\"easlemi01\"],[\"easteja01\"],[\"eastwra01\"],[\"eatonad01\"],[\"eckstda01\"],[\"edmonji01\"],[\"edwarbr01\"],[\"edwarha01\"],[\"edwarjo01\"],[\"egandi01\"],[\"eganto01\"],[\"eggleda01\"],[\"ehmkeho01\"],[\"ehretre01\"],[\"eichhma01\"],[\"eilanda01\"],[\"eischjo01\"],[\"eisenji01\"],[\"elartsc01\"],[\"elberki01\"],[\"eldreca01\"],[\"elliobo01\"],[\"ellioju01\"],[\"ellisaj01\"],[\"ellisdo01\"],[\"ellisjo01\"],[\"ellisma01\"],[\"ellsbja01\"],[\"ellswdi01\"],[\"elsteke01\"],[\"elstodo01\"],[\"elybo01\"],[\"embreal01\"],[\"encared01\"],[\"encarju01\"],[\"englecl01\"],[\"engliwo01\"],[\"ennisde01\"],[\"epstemi01\"],[\"erickpa01\"],[\"ericksc01\"],[\"erskica01\"],[\"erstada01\"],[\"escobke01\"],[\"escobyu01\"],[\"esperdu01\"],[\"espinal01\"],[\"espossa01\"],[\"essiaji01\"],[\"estalbo02\"],[\"esterdu01\"],[\"estessh01\"],[\"etchean01\"],[\"ethiean01\"],[\"evansal01\"],[\"evansda01\"],[\"evansdw01\"],[\"evansjo01\"],[\"evelada01\"],[\"everead01\"],[\"evereca01\"],[\"eversho01\"],[\"ewingbo01\"],[\"eyresc01\"],[\"fabrejo01\"],[\"facero01\"],[\"faheybi01\"],[\"fainfe01\"],[\"fairlro01\"],[\"falcope01\"],[\"falkbi01\"],[\"falkecy01\"],[\"farmeed01\"],[\"farnsky01\"],[\"farredo01\"],[\"farredu01\"],[\"farreja02\"],[\"farretu01\"],[\"fasansa01\"],[\"fasseje01\"],[\"feldemi01\"],[\"feldmsc01\"],[\"felizpe01\"],[\"fergual01\"],[\"fergubo01\"],[\"fergujo01\"],[\"fermife01\"],[\"fernaal01\"],[\"fernasi01\"],[\"fernato01\"],[\"ferrewe01\"],[\"ferrito01\"],[\"fewstch01\"],[\"fickro01\"],[\"fieldce01\"],[\"fieldpr01\"],[\"figgich01\"],[\"figuene01\"],[\"finlech01\"],[\"finlest01\"],[\"finnelo01\"],[\"fischbi01\"],[\"fischca01\"],[\"fischmi01\"],[\"fisheed02\"],[\"fisheja01\"],[\"fishera01\"],[\"fitzged01\"],[\"fitzgmi02\"],[\"fitzmal01\"],[\"fitzsfr01\"],[\"flackma01\"],[\"flagsir01\"],[\"flahejo01\"],[\"flahepa02\"],[\"flannti01\"],[\"fletcar01\"],[\"fletcda01\"],[\"fletcel01\"],[\"fletcsc01\"],[\"flintsi01\"],[\"floodcu01\"],[\"florera01\"],[\"floribr01\"],[\"floweja01\"],[\"floydcl01\"],[\"floydga01\"],[\"flynndo01\"],[\"foileha01\"],[\"foleyto02\"],[\"foliti01\"],[\"fonsele01\"],[\"footeba01\"],[\"forceda01\"],[\"fordda01\"],[\"fordho01\"],[\"fordybr01\"],[\"foremfr01\"],[\"fornimi01\"],[\"forscbo01\"],[\"forscke01\"],[\"forstte01\"],[\"fossato01\"],[\"fossera01\"],[\"fosteal01\"],[\"fosteed02\"],[\"fostege01\"],[\"fothebo01\"],[\"foulkke01\"],[\"fournja01\"],[\"foutzda01\"],[\"fowledi01\"],[\"foxan01\"],[\"foxch02\"],[\"foxpe01\"],[\"foytapa01\"],[\"francbe01\"],[\"francje01\"],[\"francje02\"],[\"francjo01\"],[\"francju01\"],[\"francte01\"],[\"francti01\"],[\"frankfr02\"],[\"frankry01\"],[\"frasech01\"],[\"frazige01\"],[\"freehbi01\"],[\"freelry01\"],[\"freembu01\"],[\"freemma02\"],[\"freesge02\"],[\"fregoji01\"],[\"frencla01\"],[\"freylo01\"],[\"freyst01\"],[\"friaspe01\"],[\"fribebe01\"],[\"frienbo01\"],[\"friseda01\"],[\"frommar01\"],[\"frymatr01\"],[\"frymawo01\"],[\"fuentbr01\"],[\"fuentti01\"],[\"fuldsa01\"],[\"fulmech01\"],[\"furcara01\"],[\"furilca01\"],[\"gabrile02\"],[\"gaettga01\"],[\"gagliph01\"],[\"gagneer01\"],[\"gagnegr01\"],[\"gainede01\"],[\"galanau01\"],[\"galaran01\"],[\"galehde01\"],[\"gallada01\"],[\"gallayo01\"],[\"gallemi01\"],[\"gallibe01\"],[\"galloch01\"],[\"gamblos01\"],[\"gantnji01\"],[\"gantro01\"],[\"ganzech01\"],[\"garagjo01\"],[\"garbege01\"],[\"garceri01\"],[\"garcica01\"],[\"garcida01\"],[\"garcifr02\"],[\"garcija01\"],[\"garcika01\"],[\"garciki01\"],[\"garcimi01\"],[\"garcino01\"],[\"gardnbi02\"],[\"gardngi01\"],[\"gardnla01\"],[\"gardnma01\"],[\"gardnro01\"],[\"garlajo01\"],[\"garmami01\"],[\"garmsde01\"],[\"garneph01\"],[\"garresc01\"],[\"garrewa01\"],[\"garrra01\"],[\"garvene01\"],[\"garvest01\"],[\"garzama01\"],[\"gastoci01\"],[\"gastomi01\"],[\"gaudich01\"],[\"gedmari01\"],[\"geigega01\"],[\"gelbech01\"],[\"genewjo01\"],[\"gentiji01\"],[\"gerbewa01\"],[\"gerhajo01\"],[\"germaes01\"],[\"germaju01\"],[\"gernedi01\"],[\"geronce01\"],[\"gessldo01\"],[\"getzich01\"],[\"gharrpa01\"],[\"giambja01\"],[\"gibbojo01\"],[\"gibbsja01\"],[\"gibsoge01\"],[\"gibsoki01\"],[\"gilesbr02\"],[\"gilkebe01\"],[\"gilliba01\"],[\"gilliji01\"],[\"ginsbjo01\"],[\"girarjo01\"],[\"giustda01\"],[\"gladdda01\"],[\"gladdfr01\"],[\"glanvdo01\"],[\"glassja01\"],[\"glaustr01\"],[\"gleaski01\"],[\"gleatje01\"],[\"gloadro01\"],[\"glovega01\"],[\"glynned01\"],[\"goltzda01\"],[\"gomesjo01\"],[\"gomezca01\"],[\"gomezch02\"],[\"gomezru01\"],[\"gondeje01\"],[\"gonzaad01\"],[\"gonzaal01\"],[\"gonzaal02\"],[\"gonzaed01\"],[\"gonzajo02\"],[\"gonzaju03\"],[\"gonzalu01\"],[\"gonzami01\"],[\"gonzami02\"],[\"gonzare01\"],[\"gonzato01\"],[\"goochjo01\"],[\"goodedw01\"],[\"goodmbi01\"],[\"goodmiv01\"],[\"goodwi01\"],[\"goodwto01\"],[\"gordoal01\"],[\"gordosi01\"],[\"gordoto01\"],[\"gorege01\"],[\"gorzeto01\"],[\"gosgeji01\"],[\"gotayju01\"],[\"gottji01\"],[\"gowdyha01\"],[\"grabojo02\"],[\"gracema01\"],[\"gradymi01\"],[\"graffto01\"],[\"grammal01\"],[\"grandcu01\"],[\"graneja01\"],[\"grangwa01\"],[\"granted01\"],[\"grantge01\"],[\"grantma01\"],[\"grantmu01\"],[\"graveda01\"],[\"graydo02\"],[\"grayte01\"],[\"grebecr01\"],[\"greendi01\"],[\"greenle01\"],[\"greenmi01\"],[\"greenni01\"],[\"greensh01\"],[\"greento02\"],[\"greenwi01\"],[\"greggke01\"],[\"greggto01\"],[\"greinza01\"],[\"grichbo01\"],[\"grievbe01\"],[\"griffal01\"],[\"griffke01\"],[\"griffmi01\"],[\"griffto01\"],[\"griffto02\"],[\"grillja01\"],[\"grimbo01\"],[\"grimeos01\"],[\"grimjo01\"],[\"grimmch01\"],[\"grimsja01\"],[\"grimsro02\"],[\"grissle01\"],[\"grissma01\"],[\"grissma02\"],[\"groatdi01\"],[\"grohhe01\"],[\"gromest01\"],[\"groombo01\"],[\"grossgr01\"],[\"grosske01\"],[\"grosswa01\"],[\"groteje01\"],[\"grothjo01\"],[\"groveor01\"],[\"grubbjo01\"],[\"grubeke01\"],[\"grudzma01\"],[\"guantce01\"],[\"guarded01\"],[\"guerrma02\"],[\"guerrmi01\"],[\"guerrpe01\"],[\"guerrwi01\"],[\"guettle01\"],[\"guillca01\"],[\"guilljo01\"],[\"guilloz01\"],[\"gullibi01\"],[\"gumbead01\"],[\"gumbeha01\"],[\"gumpera01\"],[\"gundeer01\"],[\"gurala01\"],[\"gustifr01\"],[\"guthrje01\"],[\"guthrma01\"],[\"gutiefr01\"],[\"gutieri01\"],[\"guttedo01\"],[\"guzmacr01\"],[\"guzmaju01\"],[\"gwynnch01\"],[\"haasbe01\"],[\"haasmu01\"],[\"habyajo01\"],[\"hackewa02\"],[\"hackst01\"],[\"haddiha01\"],[\"hadlebu01\"],[\"haefnmi01\"],[\"hafnetr01\"],[\"hairsje01\"],[\"hairsje02\"],[\"hairssc01\"],[\"halamjo01\"],[\"haleod01\"],[\"halesa01\"],[\"hallabi01\"],[\"hallaro01\"],[\"hallbi03\"],[\"halldi01\"],[\"halleto01\"],[\"hallji02\"],[\"hallmbi01\"],[\"hallme01\"],[\"hallto01\"],[\"hallto02\"],[\"hamelco01\"],[\"hamilda01\"],[\"hamilda02\"],[\"hamilea01\"],[\"hamilja01\"],[\"hamiljo02\"],[\"hamilst01\"],[\"hammaat01\"],[\"hammeja01\"],[\"hammoch01\"],[\"hammoje01\"],[\"hamnegr01\"],[\"hamptmi01\"],[\"handlle01\"],[\"handsbi01\"],[\"haneych01\"],[\"haneyla01\"],[\"hanigry01\"],[\"hankifr01\"],[\"hannaji01\"],[\"hanseda01\"],[\"hansero02\"],[\"hansoer01\"],[\"happja01\"],[\"haranaa01\"],[\"hardeme01\"],[\"harderi01\"],[\"hardyjj01\"],[\"harenda01\"],[\"hargast01\"],[\"hargrbu01\"],[\"hargrmi01\"],[\"hargrpi01\"],[\"harmote01\"],[\"harnipe01\"],[\"harpebr01\"],[\"harpege02\"],[\"harpeha01\"],[\"harpeto01\"],[\"harrato01\"],[\"harrebu01\"],[\"harreke01\"],[\"harribr01\"],[\"harrige01\"],[\"harrigr01\"],[\"harrijo03\"],[\"harrile01\"],[\"harrimi01\"],[\"harrisl01\"],[\"harriwi01\"],[\"harshja01\"],[\"hartco01\"],[\"hartji01\"],[\"hartlgr01\"],[\"hartsto01\"],[\"hartzro01\"],[\"haselbi01\"],[\"hassero01\"],[\"hasslan01\"],[\"hatchbi01\"],[\"hatchmi01\"],[\"hatfifr01\"],[\"hatfigi01\"],[\"hattesc01\"],[\"hattogr01\"],[\"havenbr01\"],[\"hawkian01\"],[\"hawkila01\"],[\"hawlepi01\"],[\"hawpebr01\"],[\"hayesch01\"],[\"hayesfr01\"],[\"hayesja02\"],[\"hayesvo01\"],[\"hayneji01\"],[\"haynejo01\"],[\"haywora01\"],[\"headlch01\"],[\"healyfr02\"],[\"healyjo01\"],[\"hearnji01\"],[\"heathcl01\"],[\"heathje01\"],[\"heathmi02\"],[\"heatone01\"],[\"hebneri01\"],[\"heepda01\"],[\"heffndo01\"],[\"heganji01\"],[\"heganmi01\"],[\"heideja01\"],[\"heimafr01\"],[\"heintke01\"],[\"heisebo01\"],[\"heldwo01\"],[\"helliri01\"],[\"helmsto01\"],[\"helmswe01\"],[\"heltoto01\"],[\"hemmige01\"],[\"hemphch01\"],[\"hemslro01\"],[\"hemusso01\"],[\"hendeda01\"],[\"hendeke01\"],[\"hendest01\"],[\"hendrcl01\"],[\"hendrel01\"],[\"hendrge01\"],[\"hendrha01\"],[\"hendrma01\"],[\"henketo01\"],[\"henlibu01\"],[\"hennemi01\"],[\"henrito01\"],[\"henrybi01\"],[\"henrydo01\"],[\"henrydw01\"],[\"hentgpa01\"],[\"herbera01\"],[\"herbero01\"],[\"heredfe01\"],[\"heredgi01\"],[\"hergema01\"],[\"hermaba01\"],[\"hermadu01\"],[\"hermage01\"],[\"hermije01\"],[\"hernaca01\"],[\"hernafe02\"],[\"hernajo01\"],[\"hernake01\"],[\"hernali01\"],[\"hernaor01\"],[\"hernara01\"],[\"hernara02\"],[\"hernaro01\"],[\"hernawi01\"],[\"hernaxa01\"],[\"herndla01\"],[\"herriar01\"],[\"herrmed01\"],[\"herrto01\"],[\"hershmi01\"],[\"hershor01\"],[\"herzobu01\"],[\"heskejo01\"],[\"hessot01\"],[\"hevinjo02\"],[\"hiattja01\"],[\"hickmch01\"],[\"hickmji02\"],[\"hidalri01\"],[\"higbeki01\"],[\"higgibo02\"],[\"higgipi01\"],[\"highan01\"],[\"hildeor01\"],[\"hillaa01\"],[\"hillca01\"],[\"hillech01\"],[\"hillejo01\"],[\"hillesh02\"],[\"hillgl01\"],[\"hillke01\"],[\"hillko01\"],[\"hillma01\"],[\"hillri01\"],[\"hinchbi01\"],[\"hinespa01\"],[\"hinsker01\"],[\"hintoch01\"],[\"hislela01\"],[\"hitchbi01\"],[\"hitchst01\"],[\"hoagmy01\"],[\"hoakdo01\"],[\"hoblidi01\"],[\"hockide01\"],[\"hodapjo01\"],[\"hodgegi01\"],[\"hodgero01\"],[\"hoeftbi01\"],[\"hoernjo01\"],[\"hoffmda01\"],[\"hoffmgl01\"],[\"hofmaso01\"],[\"hogansh01\"],[\"hogsech01\"],[\"hoilech01\"],[\"holbebi01\"],[\"holkewa01\"],[\"hollaal01\"],[\"hollato01\"],[\"hollial01\"],[\"hollibu01\"],[\"hollida01\"],[\"hollima01\"],[\"holloke01\"],[\"holmeda01\"],[\"holmedu01\"],[\"holmeto01\"],[\"holtji01\"],[\"holtzke01\"],[\"honeyri01\"],[\"hooddo01\"],[\"hootobu01\"],[\"hoppjo01\"],[\"horlejo01\"],[\"hornebo01\"],[\"hornujo01\"],[\"hortowi01\"],[\"hosleti01\"],[\"houcksa01\"],[\"houghch01\"],[\"housefr03\"],[\"houstty01\"],[\"houttar01\"],[\"howarel01\"],[\"howarfr01\"],[\"howarry01\"],[\"howarth01\"],[\"howear01\"],[\"howelha01\"],[\"howelja01\"],[\"howelja02\"],[\"howeljp01\"],[\"howelro02\"],[\"howest01\"],[\"howrybo01\"],[\"hoydu01\"],[\"hraboal01\"],[\"hrbekke01\"],[\"hubbagl01\"],[\"hubbatr01\"],[\"hudlere01\"],[\"hudliwi01\"],[\"hudsoor01\"],[\"hudsosi01\"],[\"hudsoti01\"],[\"huffau01\"],[\"huffda01\"],[\"hugheph01\"],[\"hughero01\"],[\"hugheto01\"],[\"huletti01\"],[\"humeto01\"],[\"hummejo01\"],[\"humphbo01\"],[\"hundlni01\"],[\"hundlra01\"],[\"hundlto01\"],[\"huntebr01\"],[\"huntebr02\"],[\"hunteto01\"],[\"hunteto02\"],[\"huntro01\"],[\"hurdlcl01\"],[\"hurstbr01\"],[\"husonje01\"],[\"hutchfr01\"],[\"huttoto01\"],[\"iannech01\"],[\"ibanera01\"],[\"incavpe01\"],[\"infanom01\"],[\"ingebr01\"],[\"iorgda01\"],[\"irwinar01\"],[\"irwinch01\"],[\"isbelfr01\"],[\"ishiktr01\"],[\"isrinja01\"],[\"iviemi01\"],[\"izturce01\"],[\"izturma01\"],[\"jacklfr01\"],[\"jacksal01\"],[\"jacksda02\"],[\"jacksda03\"],[\"jacksda04\"],[\"jacksed01\"],[\"jacksgr01\"],[\"jacksjo01\"],[\"jacksla01\"],[\"jacksmi02\"],[\"jacksra01\"],[\"jacksro02\"],[\"jacksro03\"],[\"jacksso01\"],[\"jacobba01\"],[\"jacobbr01\"],[\"jacobel01\"],[\"jahajo01\"],[\"jamesbi01\"],[\"jamesbo01\"],[\"jamesch02\"],[\"jamesdi01\"],[\"jamiech01\"],[\"janvrha01\"],[\"jarvike01\"],[\"javieju01\"],[\"javiest01\"],[\"jayjo01\"],[\"jeffcha01\"],[\"jeffcmi01\"],[\"jeffegr01\"],[\"jeffeje01\"],[\"jeffere01\"],[\"jenkige01\"],[\"jenseja01\"],[\"jeterde01\"],[\"jimenda01\"],[\"jimenub01\"],[\"johnsal01\"],[\"johnsbi03\"],[\"johnsbo01\"],[\"johnsbo02\"],[\"johnsch04\"],[\"johnsch05\"],[\"johnscl01\"],[\"johnsda02\"],[\"johnsda06\"],[\"johnsde01\"],[\"johnsdo01\"],[\"johnser01\"],[\"johnsha01\"],[\"johnsho01\"],[\"johnsja01\"],[\"johnsja02\"],[\"johnsje01\"],[\"johnsji01\"],[\"johnsji04\"],[\"johnsjo07\"],[\"johnske02\"],[\"johnske05\"],[\"johnsla03\"],[\"johnsni01\"],[\"johnsre02\"],[\"johnsro02\"],[\"johnssi01\"],[\"johnssy01\"],[\"johnswa03\"],[\"johnto01\"],[\"jonesad01\"],[\"jonesan01\"],[\"jonesba01\"],[\"jonesbo03\"],[\"jonesch01\"],[\"jonesch05\"],[\"jonescl01\"],[\"jonesda01\"],[\"jonesda03\"],[\"jonesdo01\"],[\"jonesfi01\"],[\"jonesgo01\"],[\"jonesja04\"],[\"jonesma01\"],[\"jonesra01\"],[\"jonesru01\"],[\"jonessa01\"],[\"jonessa02\"],[\"jonesto02\"],[\"joneswi01\"],[\"joosted01\"],[\"jordabr01\"],[\"jordabu01\"],[\"jorgear01\"],[\"jorgemi01\"],[\"josefe01\"],[\"joshuvo01\"],[\"joynewa01\"],[\"judenje01\"],[\"judgejo01\"],[\"jurgebi01\"],[\"justida01\"],[\"kaatji01\"],[\"kahoemi01\"],[\"kamiesc01\"],[\"kammwi01\"],[\"kampoal01\"],[\"kaplega01\"],[\"karkoro01\"],[\"karroer01\"],[\"karsast01\"],[\"kaskoed01\"],[\"kaufmto01\"],[\"kazmisc01\"],[\"kearnau01\"],[\"keenaji01\"],[\"kekicmi01\"],[\"kellech01\"],[\"kellemi02\"],[\"kellnal01\"],[\"kellypa01\"],[\"kellyro01\"],[\"keltnke01\"],[\"kemmeru01\"],[\"kempma01\"],[\"kempst01\"],[\"kendafr01\"],[\"kendaja01\"],[\"kendrho01\"],[\"kennead01\"],[\"kennebo01\"],[\"kennebr01\"],[\"kenneia01\"],[\"kennejo03\"],[\"kennejo04\"],[\"kennete02\"],[\"kenneve01\"],[\"kensilo01\"],[\"kentje01\"],[\"keougma01\"],[\"keougma02\"],[\"keppije01\"],[\"kernji01\"],[\"kessido01\"],[\"keyji01\"],[\"kileda01\"],[\"killebi01\"],[\"killefr01\"],[\"kilroma01\"],[\"kimby01\"],[\"kindaje01\"],[\"kindeel01\"],[\"kingemi01\"],[\"kingje01\"],[\"kingji01\"],[\"kingmda01\"],[\"kingra01\"],[\"kingsi01\"],[\"kinslia01\"],[\"kinslto01\"],[\"kirklwi01\"],[\"kirkped01\"],[\"kisonbr01\"],[\"kitsofr01\"],[\"kittlro01\"],[\"kittrma01\"],[\"klausbi01\"],[\"kleinre01\"],[\"kleskry01\"],[\"klimclo01\"],[\"klinero01\"],[\"klinest02\"],[\"klingjo01\"],[\"klippjo01\"],[\"kluszte01\"],[\"kluttcl01\"],[\"knabeot01\"],[\"kneppbo01\"],[\"knickbi01\"],[\"knighra01\"],[\"knoblch01\"],[\"knoopbo01\"],[\"knorrra01\"],[\"knottja01\"],[\"knowlda01\"],[\"koenima01\"],[\"kollodo01\"],[\"kolpra01\"],[\"konerpa01\"],[\"koneted01\"],[\"konstji01\"],[\"kooncca01\"],[\"koosmje01\"],[\"kopfla01\"],[\"koscoan01\"],[\"kosloda01\"],[\"kotchca01\"],[\"kotsama01\"],[\"kottage01\"],[\"kralija01\"],[\"krameja01\"],[\"kraneed01\"],[\"kratzer01\"],[\"krausle02\"],[\"kreevmi01\"],[\"kremera01\"],[\"kressre01\"],[\"kretllo01\"],[\"kreutch01\"],[\"kruegbi01\"],[\"krukjo01\"],[\"krukomi01\"],[\"kubelja01\"],[\"kubiate01\"],[\"kuehnbi01\"],[\"kuennha01\"],[\"kuheljo01\"],[\"kuipedu01\"],[\"kuzavbo01\"],[\"laabsch01\"],[\"labincl01\"],[\"lachaca01\"],[\"lackejo01\"],[\"lacorfr01\"],[\"lacosmi01\"],[\"lacyle01\"],[\"laffeaa01\"],[\"lagami01\"],[\"lagrole01\"],[\"lahoujo01\"],[\"lairdge01\"],[\"lakeed01\"],[\"lakemal01\"],[\"lakerti01\"],[\"lakest01\"],[\"lamabja01\"],[\"lamarbi01\"],[\"lambmi01\"],[\"lampde01\"],[\"lampkto01\"],[\"landera01\"],[\"landiji01\"],[\"landrho01\"],[\"landrke01\"],[\"landrti01\"],[\"langery01\"],[\"langfri01\"],[\"langsma01\"],[\"lanieha01\"],[\"laniema01\"],[\"lankfra01\"],[\"lannijo01\"],[\"lansfca01\"],[\"lansimi01\"],[\"lapoida01\"],[\"laporfr01\"],[\"larkihe01\"],[\"larocad01\"],[\"larocda01\"],[\"larsedo01\"],[\"larueja01\"],[\"laryfr01\"],[\"laryly01\"],[\"lathaar01\"],[\"latmaba01\"],[\"latosma01\"],[\"lauch01\"],[\"lavagco01\"],[\"lavalmi01\"],[\"lavando01\"],[\"lavelga01\"],[\"lawsoro01\"],[\"lawtoma02\"],[\"lawva01\"],[\"lawve01\"],[\"leachfr01\"],[\"leachri01\"],[\"leachte01\"],[\"leachto01\"],[\"leagubr01\"],[\"learyti01\"],[\"leblawa01\"],[\"ledeeri01\"],[\"ledezwi01\"],[\"leebi02\"],[\"leebi03\"],[\"leeca01\"],[\"leecl02\"],[\"leede02\"],[\"leedo01\"],[\"leele02\"],[\"leema02\"],[\"leeth01\"],[\"leetr01\"],[\"leevesa01\"],[\"leffecr01\"],[\"lehnepa01\"],[\"leibeha01\"],[\"leibone01\"],[\"leibrch01\"],[\"leifile01\"],[\"leipeda01\"],[\"leiteal01\"],[\"leitema01\"],[\"lemasde01\"],[\"lemasjo01\"],[\"lemkema01\"],[\"lemonch01\"],[\"lemonji01\"],[\"leonadu01\"],[\"leonadu02\"],[\"leonaje01\"],[\"lepcite01\"],[\"lerchra01\"],[\"leskacu01\"],[\"leslisa01\"],[\"lestejo01\"],[\"levinal01\"],[\"lewisbu01\"],[\"lewisco01\"],[\"lewisda01\"],[\"lewisdu01\"],[\"lewisma01\"],[\"leyriji01\"],[\"lezcasi01\"],[\"lidgebr01\"],[\"lidleco01\"],[\"liebejo01\"],[\"liebemi01\"],[\"lillibo01\"],[\"lillyte01\"],[\"limajo01\"],[\"linceti01\"],[\"lindad01\"],[\"lindbpa01\"],[\"lindejo01\"],[\"lindjo01\"],[\"lindsji01\"],[\"linebsc01\"],[\"linzyfr01\"],[\"liponjo01\"],[\"liriafr01\"],[\"liriane01\"],[\"littldi01\"],[\"litwhda01\"],[\"livinmi01\"],[\"livinsc01\"],[\"lloydgr01\"],[\"loaizes01\"],[\"loberha01\"],[\"lockebo01\"],[\"lockebo02\"],[\"lockhke01\"],[\"lockmwh01\"],[\"lockwsk01\"],[\"loducpa01\"],[\"loeka01\"],[\"loesbi01\"],[\"loftoke01\"],[\"loganjo01\"],[\"lohrmbi01\"],[\"lohseky01\"],[\"lolicmi01\"],[\"lollash01\"],[\"lonboji01\"],[\"loneyja01\"],[\"longda02\"],[\"longhe01\"],[\"loopebr01\"],[\"lopated01\"],[\"lopatst01\"],[\"lopesda01\"],[\"lopezal02\"],[\"lopezau01\"],[\"lopezfe01\"],[\"lopezhe01\"],[\"lopezja01\"],[\"lopezja02\"],[\"lopezjo01\"],[\"lopezlu02\"],[\"lopezro01\"],[\"lordha01\"],[\"loretma01\"],[\"lowdegr01\"],[\"lowebo01\"],[\"lowede01\"],[\"lowelmi01\"],[\"lowema01\"],[\"lowenjo01\"],[\"lowntu01\"],[\"lowrepe01\"],[\"lucasre01\"],[\"luderfr01\"],[\"ludwiry01\"],[\"lugoju01\"],[\"lummi01\"],[\"lumpeje01\"],[\"luquedo01\"],[\"luzingr01\"],[\"lylesp01\"],[\"lynchje01\"],[\"lynnfr01\"],[\"lyonbr01\"],[\"lyonsde01\"],[\"lyonsst01\"],[\"mabryjo01\"],[\"macfada01\"],[\"macfami01\"],[\"macharo01\"],[\"mackra01\"],[\"macksh01\"],[\"maddoel01\"],[\"maddoga01\"],[\"maddumi01\"],[\"madlobi01\"],[\"madsory01\"],[\"magadda01\"],[\"mageele01\"],[\"mageesh01\"],[\"maglisa01\"],[\"magnami01\"],[\"mahayro01\"],[\"mahlemi01\"],[\"mahleri01\"],[\"maholpa01\"],[\"mahompa01\"],[\"majesha01\"],[\"maldoca01\"],[\"malonji01\"],[\"malonpa02\"],[\"malzofr01\"],[\"mamaual01\"],[\"mancugu01\"],[\"maniocl01\"],[\"mannija01\"],[\"manniri01\"],[\"mannle01\"],[\"manrifr01\"],[\"mantema01\"],[\"mantife01\"],[\"mantoje01\"],[\"manwaki01\"],[\"manzajo01\"],[\"marbefi01\"],[\"marioma01\"],[\"marisro01\"],[\"markani01\"],[\"marmoca01\"],[\"marquja01\"],[\"marreel01\"],[\"marsaar01\"],[\"marshdo01\"],[\"marshmi01\"],[\"marshmi02\"],[\"marshwi01\"],[\"marteda01\"],[\"martial03\"],[\"martibi02\"],[\"martibu01\"],[\"martica01\"],[\"martida01\"],[\"martide01\"],[\"martied01\"],[\"martijc01\"],[\"martije01\"],[\"martimo01\"],[\"martipe01\"],[\"martira02\"],[\"martira03\"],[\"martiru01\"],[\"martite01\"],[\"martiti02\"],[\"martito02\"],[\"martivi01\"],[\"marzajo01\"],[\"masiph01\"],[\"masonji01\"],[\"masonro01\"],[\"masseni01\"],[\"masteju01\"],[\"mastewa02\"],[\"mathebo01\"],[\"mathemi01\"],[\"mathetj01\"],[\"mathije01\"],[\"matlajo01\"],[\"matsuhi01\"],[\"matthga01\"],[\"matthga02\"],[\"mattido01\"],[\"mauchge01\"],[\"mauerjo01\"],[\"maulal01\"],[\"maxvida01\"],[\"maxwech01\"],[\"maybejo01\"],[\"maybica01\"],[\"mayca01\"],[\"mayda01\"],[\"mayde01\"],[\"mayele01\"],[\"mayerer01\"],[\"mayja01\"],[\"mayje01\"],[\"mayle01\"],[\"maymi01\"],[\"maynebr01\"],[\"mayru01\"],[\"maysca01\"],[\"mazzile01\"],[\"mcaleji01\"],[\"mcauldi01\"],[\"mcbeaal01\"],[\"mcbriba01\"],[\"mcbrige01\"],[\"mccanbr01\"],[\"mccaral01\"],[\"mccarbr01\"],[\"mccarda01\"],[\"mccarja01\"],[\"mccarjo03\"],[\"mccarle01\"],[\"mccarti01\"],[\"mcclubo01\"],[\"mccorba01\"],[\"mccorfr01\"],[\"mccorji01\"],[\"mccormi02\"],[\"mccormi03\"],[\"mccosba01\"],[\"mccraqu01\"],[\"mccrato01\"],[\"mccreto01\"],[\"mcculcl01\"],[\"mccurha01\"],[\"mcdanli01\"],[\"mcdermi03\"],[\"mcdonjo03\"],[\"mcdougi01\"],[\"mcdowro01\"],[\"mcdowsa01\"],[\"mcelrch01\"],[\"mcfared01\"],[\"mcgafan01\"],[\"mcganda01\"],[\"mcgarch01\"],[\"mcgeami01\"],[\"mcgeewi01\"],[\"mcgehca01\"],[\"mcgloji01\"],[\"mcgloly01\"],[\"mcgrabo01\"],[\"mcgratu01\"],[\"mcgrifr01\"],[\"mcguide01\"],[\"mcgwima01\"],[\"mcinnst01\"],[\"mcintma01\"],[\"mckeaed01\"],[\"mclaide01\"],[\"mcleala01\"],[\"mclemma01\"],[\"mclisca01\"],[\"mclouna01\"],[\"mcmahdo02\"],[\"mcmahsa01\"],[\"mcmanma01\"],[\"mcmicgr01\"],[\"mcmilro01\"],[\"mcmulke01\"],[\"mcnaier01\"],[\"mcnalda01\"],[\"mcnalmi01\"],[\"mcquige01\"],[\"mcquige02\"],[\"mcquihu01\"],[\"mcraebr01\"],[\"mcraeha01\"],[\"mcreyke01\"],[\"mcwilla01\"],[\"meadobr01\"],[\"meadole01\"],[\"mechegi01\"],[\"mecirji01\"],[\"medicdo01\"],[\"meekijo01\"],[\"melanma01\"],[\"melesa01\"],[\"melhuad01\"],[\"melilsk01\"],[\"meltobi01\"],[\"melvibo01\"],[\"mendora01\"],[\"menefjo01\"],[\"menkede01\"],[\"mercaor01\"],[\"merceor01\"],[\"merckke01\"],[\"merklfr01\"],[\"merlolo01\"],[\"merribi01\"],[\"merriji01\"],[\"mertesa01\"],[\"mesajo01\"],[\"messean01\"],[\"metkoca01\"],[\"metzgro01\"],[\"meusebo01\"],[\"meuseir01\"],[\"meyerch01\"],[\"meyerda01\"],[\"meyerru01\"],[\"micelda01\"],[\"michaca01\"],[\"michage01\"],[\"michaja01\"],[\"mientdo01\"],[\"mieskma01\"],[\"mikkepe01\"],[\"miksied01\"],[\"milancl01\"],[\"milbola01\"],[\"millafe01\"],[\"millake01\"],[\"millean01\"],[\"millebi02\"],[\"millebo02\"],[\"millebo04\"],[\"milleco01\"],[\"milleda02\"],[\"milledo01\"],[\"milledo02\"],[\"milleed03\"],[\"milleno01\"],[\"milleot01\"],[\"milleri01\"],[\"millest01\"],[\"milletr02\"],[\"millijo01\"],[\"millsal01\"],[\"millwke01\"],[\"milnaal01\"],[\"milnejo01\"],[\"miltoer01\"],[\"minchdo01\"],[\"mingost01\"],[\"minnepa01\"],[\"minosmi01\"],[\"mintogr01\"],[\"mirabdo01\"],[\"miranwi01\"],[\"mitchcl01\"],[\"mitchda01\"],[\"mitchke01\"],[\"mitchmi01\"],[\"mitchwi01\"],[\"mittege01\"],[\"mizelvi01\"],[\"mlickda01\"],[\"moehlbr01\"],[\"moellch01\"],[\"moffira01\"],[\"mogrige01\"],[\"mohlemi01\"],[\"molinbe01\"],[\"molinbo01\"],[\"molinjo01\"],[\"molinya01\"],[\"mollwfr01\"],[\"monbobi01\"],[\"mondari01\"],[\"mondera01\"],[\"moneydo01\"],[\"mongesi01\"],[\"monrocr01\"],[\"montawi01\"],[\"montejo01\"],[\"montemi01\"],[\"monteri01\"],[\"montgbo01\"],[\"montgje01\"],[\"moonwa01\"],[\"moorech02\"],[\"mooredo01\"],[\"mooreea01\"],[\"mooreed01\"],[\"moorege03\"],[\"moorejo01\"],[\"moorejo02\"],[\"mooremi01\"],[\"moorera01\"],[\"moorera02\"],[\"moorete01\"],[\"moosebo01\"],[\"moralfr01\"],[\"moralje01\"],[\"moraljo01\"],[\"moralke01\"],[\"morame01\"],[\"moranmi01\"],[\"moranpa01\"],[\"mordemi01\"],[\"morelke01\"],[\"morenom01\"],[\"morgabo01\"],[\"morgacy01\"],[\"morgami01\"],[\"morgato01\"],[\"moriage02\"],[\"morneju01\"],[\"morriha02\"],[\"morriji01\"],[\"morrijo01\"],[\"morrijo04\"],[\"morrima01\"],[\"morrobr01\"],[\"morsemi01\"],[\"mortogu01\"],[\"morynwa01\"],[\"mosebll01\"],[\"mosesje01\"],[\"mosesjo01\"],[\"moseswa01\"],[\"mossbr01\"],[\"mossido01\"],[\"mossle01\"],[\"mostijo01\"],[\"motagu01\"],[\"motama01\"],[\"mowremi01\"],[\"moyerja01\"],[\"moylape01\"],[\"muellbi02\"],[\"muelldo01\"],[\"muellhe01\"],[\"muellra01\"],[\"mujiced01\"],[\"mulhote01\"],[\"mullato01\"],[\"mullige01\"],[\"mullipa01\"],[\"mullira01\"],[\"mulvejo01\"],[\"mumphje01\"],[\"muncrbo01\"],[\"mungere01\"],[\"mungova01\"],[\"munozmi01\"],[\"munsoth01\"],[\"murcebo01\"],[\"murphda02\"],[\"murphda05\"],[\"murphda07\"],[\"murphdw01\"],[\"murphed02\"],[\"murphjo04\"],[\"murphmo01\"],[\"murphro01\"],[\"murphto02\"],[\"murrada01\"],[\"murrare01\"],[\"murreiv01\"],[\"muserto01\"],[\"mussimi01\"],[\"myattgl01\"],[\"myerbu01\"],[\"myersbr01\"],[\"myersgr01\"],[\"myershy01\"],[\"myersmi01\"],[\"myersra01\"],[\"nadyxa01\"],[\"nagych01\"],[\"napolmi01\"],[\"naragha01\"],[\"nashbi01\"],[\"nathajo01\"],[\"navardi01\"],[\"navarja01\"],[\"neaglde01\"],[\"needhto01\"],[\"nehfar01\"],[\"nelsoca01\"],[\"nelsoda01\"],[\"nelsoge01\"],[\"nelsoje01\"],[\"nelsoro01\"],[\"nenro01\"],[\"nettlgr01\"],[\"nevinph01\"],[\"newcodo01\"],[\"newsobo01\"],[\"newsosk01\"],[\"niarhgu01\"],[\"nichobi01\"],[\"nicolhu01\"],[\"nicosst01\"],[\"niedeto01\"],[\"niekrjo01\"],[\"niemabo01\"],[\"niesejo01\"],[\"nievewi01\"],[\"niggejo01\"],[\"nitkocj01\"],[\"nixja01\"],[\"nixla01\"],[\"nixonot01\"],[\"nixonru01\"],[\"nixontr01\"],[\"nokesma01\"],[\"nolanga01\"],[\"nolanjo01\"],[\"nolasri01\"],[\"nolesdi01\"],[\"nomohi01\"],[\"nordhwa01\"],[\"norenir01\"],[\"normafr01\"],[\"norribu01\"],[\"norrimi01\"],[\"northbi01\"],[\"northji01\"],[\"northro01\"],[\"nortogr01\"],[\"nottedo01\"],[\"nunamle01\"],[\"nunezab01\"],[\"nunezvl01\"],[\"nuxhajo01\"],[\"oatesjo01\"],[\"oberkke01\"],[\"obriech01\"],[\"obriepe03\"],[\"ochoaal01\"],[\"oconnda02\"],[\"oconnja01\"],[\"odayda01\"],[\"odeake01\"],[\"odellbi01\"],[\"odombl01\"],[\"odonojo01\"],[\"odoulle01\"],[\"oeschjo01\"],[\"oestero01\"],[\"ofarrbo01\"],[\"offerjo01\"],[\"officro01\"],[\"oflaher01\"],[\"oglivbe01\"],[\"ohkato01\"],[\"ohlenro01\"],[\"ohmanwi01\"],[\"ojedabo01\"],[\"oldriru01\"],[\"olearch01\"],[\"oleartr01\"],[\"olerujo01\"],[\"olivaom01\"],[\"olivato01\"],[\"oliveal01\"],[\"olivebo01\"],[\"oliveda02\"],[\"olivege01\"],[\"olivejo01\"],[\"olivomi01\"],[\"olsongr01\"],[\"olsoniv01\"],[\"omallto01\"],[\"oneilmi02\"],[\"oneilpa01\"],[\"oneilst01\"],[\"oneilti01\"],[\"ontivst02\"],[\"oquenjo01\"],[\"ordonma01\"],[\"oroscje01\"],[\"orourfr01\"],[\"orrda01\"],[\"orsuljo01\"],[\"ortajo01\"],[\"ortegph01\"],[\"orthal01\"],[\"ortizda01\"],[\"ortizju01\"],[\"ortizra01\"],[\"ortizru01\"],[\"osikke01\"],[\"osteecl01\"],[\"osterfr01\"],[\"osunaan01\"],[\"oswalro01\"],[\"otisam01\"],[\"otoolji01\"],[\"outlaji01\"],[\"overbly01\"],[\"overmst01\"],[\"owchibo01\"],[\"owenmi01\"],[\"owensji01\"],[\"owensp01\"],[\"pacioto01\"],[\"padilvi01\"],[\"pafkoan01\"],[\"paganan01\"],[\"paganjo01\"],[\"pagliji01\"],[\"paglimi01\"],[\"pagnoto01\"],[\"paintla01\"],[\"palicer01\"],[\"palldo01\"],[\"palmeda01\"],[\"palmede01\"],[\"palmeor01\"],[\"palmera01\"],[\"pappami01\"],[\"paquecr01\"],[\"parenfr01\"],[\"parenma01\"],[\"parkch01\"],[\"parkeda01\"],[\"parmero01\"],[\"parneme01\"],[\"parrage01\"],[\"parreje01\"],[\"parrila01\"],[\"parrila02\"],[\"pascuca02\"],[\"paskedo01\"],[\"pasquda01\"],[\"passecl01\"],[\"patekfr01\"],[\"pattebo01\"],[\"patteco01\"],[\"pattima01\"],[\"pauljo01\"],[\"pavanca01\"],[\"pavledo01\"],[\"paytoja01\"],[\"peacojo01\"],[\"pearcst01\"],[\"pearsal02\"],[\"pearsmo01\"],[\"peavyja01\"],[\"peckiro01\"],[\"pedrodu01\"],[\"peitzhe01\"],[\"pelfrmi01\"],[\"peltyba01\"],[\"penaal01\"],[\"penabr01\"],[\"penaca01\"],[\"penaor01\"],[\"penato01\"],[\"penawi01\"],[\"pencehu01\"],[\"pendlte01\"],[\"pennicl01\"],[\"pennybr01\"],[\"pepitjo01\"],[\"peraljh01\"],[\"peraljo01\"],[\"percitr01\"],[\"perezed01\"],[\"perezed02\"],[\"perezma01\"],[\"perezne01\"],[\"perezod01\"],[\"perezol01\"],[\"perezpa01\"],[\"perezto03\"],[\"perkicy01\"],[\"perkigl01\"],[\"perraro01\"],[\"perripo01\"],[\"perryge01\"],[\"perryhe01\"],[\"perryji01\"],[\"persoro01\"],[\"peskyjo01\"],[\"peterfr01\"],[\"peterga01\"],[\"peterjo01\"],[\"peterru02\"],[\"petrage01\"],[\"petrori01\"],[\"petryda01\"],[\"pettian01\"],[\"pettiga01\"],[\"pfefffr01\"],[\"pfeffje01\"],[\"phelpba01\"],[\"phelped01\"],[\"phelpjo01\"],[\"phelpke01\"],[\"phillad01\"],[\"phillbi01\"],[\"phillbr01\"],[\"phillbu02\"],[\"phillda01\"],[\"phillde01\"],[\"phillja02\"],[\"phillmi01\"],[\"phillto02\"],[\"picciro01\"],[\"pichahi01\"],[\"picinva01\"],[\"piercbi02\"],[\"pierrju01\"],[\"piersji01\"],[\"pierzaj01\"],[\"pikeli01\"],[\"pineijo01\"],[\"pinielo01\"],[\"pinknge01\"],[\"pinsova01\"],[\"pipgrge01\"],[\"pippwa01\"],[\"pizarju01\"],[\"plantph01\"],[\"plesada01\"],[\"plummbi01\"],[\"plunker01\"],[\"pocorbi01\"],[\"podbibu01\"],[\"podrejo01\"],[\"podsesc01\"],[\"polanpl01\"],[\"politcl01\"],[\"polleho01\"],[\"polonlu01\"],[\"ponsosi01\"],[\"pooleji02\"],[\"popovpa01\"],[\"portebo01\"],[\"porteda02\"],[\"portuma01\"],[\"posadjo01\"],[\"postwa01\"],[\"pottene01\"],[\"powelbo01\"],[\"powelja01\"],[\"powelja03\"],[\"powelja04\"],[\"powerdo01\"],[\"powerte01\"],[\"powervi01\"],[\"pradoma01\"],[\"prattde01\"],[\"prattto02\"],[\"priceda01\"],[\"pricejo02\"],[\"priddbo01\"],[\"priddje01\"],[\"pridecu01\"],[\"princto01\"],[\"pruitro01\"],[\"pryorgr01\"],[\"puhlte01\"],[\"pujolal01\"],[\"puntoni01\"],[\"purcebl01\"],[\"purkebo01\"],[\"pytlafr01\"],[\"quallch01\"],[\"quantpa01\"],[\"questjo01\"],[\"quinnja01\"],[\"quinnjo02\"],[\"quinthu01\"],[\"quintom01\"],[\"quirkja01\"],[\"quirogu01\"],[\"quiseda01\"],[\"raburry01\"],[\"radatdi01\"],[\"radclri01\"],[\"raderda01\"],[\"raderdo02\"],[\"radfopa01\"],[\"radinsc01\"],[\"radkebr01\"],[\"raffeke01\"],[\"raganpa01\"],[\"ramiral03\"],[\"ramirar01\"],[\"ramirha01\"],[\"ramirma02\"],[\"ramirra01\"],[\"ramirra02\"],[\"ramosdo01\"],[\"ramospe01\"],[\"randajo01\"],[\"randlle01\"],[\"randowi01\"],[\"ransoco01\"],[\"rapppa01\"],[\"raridbi01\"],[\"raschvi01\"],[\"rasmude01\"],[\"rasmuer01\"],[\"rauchjo01\"],[\"rawlesh01\"],[\"rawlijo01\"],[\"rayjo01\"],[\"raymocl01\"],[\"readyra01\"],[\"reardje01\"],[\"rebouje01\"],[\"redmama01\"],[\"redmomi01\"],[\"redusga01\"],[\"reedho01\"],[\"reedje02\"],[\"reedjo01\"],[\"reedri01\"],[\"reedro01\"],[\"reedst01\"],[\"reeseri01\"],[\"reganph01\"],[\"reichri01\"],[\"reilljo01\"],[\"reisepe01\"],[\"reitzke01\"],[\"relafde01\"],[\"remlimi01\"],[\"remseja01\"],[\"remyje01\"],[\"renkost01\"],[\"renteed01\"],[\"repozro01\"],[\"repulri01\"],[\"retteme01\"],[\"reulbed01\"],[\"reuscri01\"],[\"reussje01\"],[\"reyesal01\"],[\"reyesca01\"],[\"reyesde01\"],[\"reyesjo01\"],[\"reynoal01\"],[\"reynoar02\"],[\"reynoca01\"],[\"reynocr01\"],[\"reynoha01\"],[\"reynoma01\"],[\"reynosh01\"],[\"rhemfl01\"],[\"rhodear01\"],[\"rhoderi01\"],[\"ricede01\"],[\"riceha01\"],[\"richabo01\"],[\"richacl01\"],[\"richada01\"],[\"richaha01\"],[\"richajr01\"],[\"richepe01\"],[\"richile01\"],[\"riddlel01\"],[\"ridzist01\"],[\"riggsle01\"],[\"righeda01\"],[\"rijojo01\"],[\"rileser01\"],[\"rincoju01\"],[\"rincori01\"],[\"ringji01\"],[\"riosal01\"],[\"ripkebi01\"],[\"riskeda01\"],[\"ritchcl01\"],[\"riverji01\"],[\"riverju01\"],[\"riverlu01\"],[\"riverma01\"],[\"rivermi01\"],[\"roberbi01\"],[\"roberbo01\"],[\"roberbr01\"],[\"roberda01\"],[\"roberda05\"],[\"roberda06\"],[\"roberda07\"],[\"roberge01\"],[\"roberle01\"],[\"roberna01\"],[\"roberry01\"],[\"robersh01\"],[\"robinbi02\"],[\"robindo01\"],[\"robined01\"],[\"robinfl01\"],[\"robinje01\"],[\"robinro01\"],[\"robinya01\"],[\"rodgean01\"],[\"rodnefe01\"],[\"rodrial01\"],[\"rodriau01\"],[\"rodrife01\"],[\"rodrifr03\"],[\"rodrihe02\"],[\"rodriri02\"],[\"rodriwa01\"],[\"roebued01\"],[\"roeniga01\"],[\"roepr01\"],[\"rogelbi01\"],[\"rogerke01\"],[\"rogerst01\"],[\"rogovsa01\"],[\"rojasco01\"],[\"rojasme01\"],[\"rolanji01\"],[\"rolensc01\"],[\"rolfere01\"],[\"rolliji01\"],[\"rolliri01\"],[\"romanjo01\"],[\"romered01\"],[\"romerjc01\"],[\"rommeed01\"],[\"romovi01\"],[\"roofph01\"],[\"rookeji01\"],[\"rootch01\"],[\"rosalad01\"],[\"rosarbu01\"],[\"rosebjo01\"],[\"rosemch01\"],[\"rosenal01\"],[\"rosenla01\"],[\"rosepe01\"],[\"rossbu02\"],[\"rossco01\"],[\"rossda01\"],[\"rossga01\"],[\"rothbr01\"],[\"rothrja01\"],[\"rowanaa01\"],[\"roweja01\"],[\"rowesc01\"],[\"roystje01\"],[\"ruckena01\"],[\"rudijo01\"],[\"rudoldi01\"],[\"rudolke01\"],[\"ruelmu01\"],[\"rueteki01\"],[\"ruethdu01\"],[\"ruffibr01\"],[\"ruggiju01\"],[\"ruhleve01\"],[\"ruizca01\"],[\"runnepe01\"],[\"ruschgl01\"],[\"rushbo01\"],[\"russeal01\"],[\"russebi01\"],[\"russeja01\"],[\"russeje01\"],[\"russeji01\"],[\"russejo02\"],[\"ruthvdi01\"],[\"ryanbj01\"],[\"ryanbr01\"],[\"ryanco01\"],[\"ryanja01\"],[\"ryanji01\"],[\"ryanmi02\"],[\"ryanro01\"],[\"rybami01\"],[\"rzepcma01\"],[\"sabatcc01\"],[\"saberbr01\"],[\"saboch01\"],[\"sadecra01\"],[\"sadledo01\"],[\"sainjo01\"],[\"sakatle01\"],[\"salazlu01\"],[\"sallesl01\"],[\"salmoti01\"],[\"saltaja01\"],[\"samarje01\"],[\"sambijo01\"],[\"samueju01\"],[\"sanchan01\"],[\"sanchfr01\"],[\"sanchre01\"],[\"sandede02\"],[\"sandeke01\"],[\"sandere02\"],[\"sandesc01\"],[\"sanfoja02\"],[\"sanguma01\"],[\"santaer01\"],[\"santajo01\"],[\"santibe01\"],[\"santira01\"],[\"sassema01\"],[\"satrito01\"],[\"sauerha01\"],[\"saundjo01\"],[\"savagte01\"],[\"sawatca01\"],[\"saxst01\"],[\"scanlbo01\"],[\"scarbra01\"],[\"schaapa01\"],[\"schaege01\"],[\"schanwa01\"],[\"schatda01\"],[\"schefbo01\"],[\"scheica01\"],[\"scheiri01\"],[\"schiena01\"],[\"schilcu01\"],[\"schmida01\"],[\"schmija01\"],[\"schmijo01\"],[\"schmiwa01\"],[\"schnebr01\"],[\"schoesc01\"],[\"schofdi01\"],[\"schofdi02\"],[\"schoupe01\"],[\"schreos01\"],[\"schripo01\"],[\"schulfr01\"],[\"schulfr02\"],[\"schuljo03\"],[\"schumha02\"],[\"schumsk01\"],[\"schupfe01\"],[\"schuri01\"],[\"sciosmi01\"],[\"scottev01\"],[\"scottge02\"],[\"scottja01\"],[\"scottmi03\"],[\"scottti01\"],[\"scottto01\"],[\"scutama01\"],[\"seaneru01\"],[\"seedsbo01\"],[\"seeryem01\"],[\"seguida01\"],[\"seguidi01\"],[\"seitzke01\"],[\"selbaki01\"],[\"seleaa01\"],[\"selmadi01\"],[\"seminan01\"],[\"servasc01\"],[\"servisc01\"],[\"severha01\"],[\"sewellu01\"],[\"sewelri01\"],[\"sexsori01\"],[\"seymocy01\"],[\"shaffor01\"],[\"shankho01\"],[\"shantbo01\"],[\"shautjo01\"],[\"shawbo01\"],[\"shawje01\"],[\"shawkbo01\"],[\"sheame01\"],[\"sheanda01\"],[\"sheckji01\"],[\"sheetbe01\"],[\"sheffga01\"],[\"shelbjo01\"],[\"shellji01\"],[\"sherdbi01\"],[\"sheripa01\"],[\"sherrge01\"],[\"sherrla01\"],[\"shielja02\"],[\"shielsc01\"],[\"shindbi01\"],[\"shiplcr01\"],[\"shirlbo01\"],[\"shochge01\"],[\"shockur01\"],[\"shoppke01\"],[\"shortch02\"],[\"shottbu01\"],[\"shouncl01\"],[\"shower01\"],[\"shueypa01\"],[\"shumpte01\"],[\"siebedi01\"],[\"siebeno01\"],[\"siebeso01\"],[\"sierrru01\"],[\"sievero01\"],[\"silvech01\"],[\"simmocu01\"],[\"simmote01\"],[\"simonra01\"],[\"simpsha01\"],[\"simsdu01\"],[\"sinatma01\"],[\"singebi01\"],[\"singlke01\"],[\"sistisi01\"],[\"sizemgr01\"],[\"sizemte01\"],[\"skinnbo01\"],[\"skinnjo01\"],[\"skowrbi01\"],[\"slaglji01\"],[\"slatoji01\"],[\"slaugdo01\"],[\"slocuhe01\"],[\"smallaa01\"],[\"smallro01\"],[\"smallro02\"],[\"smilejo01\"],[\"smithal01\"],[\"smithal03\"],[\"smithal04\"],[\"smithbo02\"],[\"smithbr01\"],[\"smithch02\"],[\"smithch04\"],[\"smithda02\"],[\"smithea02\"],[\"smithed04\"],[\"smithel01\"],[\"smithel02\"],[\"smithfr03\"],[\"smithge01\"],[\"smithge02\"],[\"smithha03\"],[\"smithha08\"],[\"smithja03\"],[\"smithja05\"],[\"smithjo05\"],[\"smithle02\"],[\"smithlo01\"],[\"smithpe02\"],[\"smithph01\"],[\"smithpo01\"],[\"smithre02\"],[\"smithre06\"],[\"smithse01\"],[\"smithsh01\"],[\"smithwi02\"],[\"smithza01\"],[\"snidetr01\"],[\"snodgfr01\"],[\"snowjt01\"],[\"snydech02\"],[\"snydeco02\"],[\"snydefr01\"],[\"snydepo01\"],[\"snyderu01\"],[\"soderer01\"],[\"sojolu01\"],[\"solomed01\"],[\"soltemo01\"],[\"sommejo01\"],[\"sorenla01\"],[\"soriaal01\"],[\"soriara01\"],[\"sorrepa01\"],[\"sorrevi01\"],[\"sosael01\"],[\"sosajo02\"],[\"sosasa01\"],[\"sothoal01\"],[\"sotoge01\"],[\"sotoma01\"],[\"spangal01\"],[\"sparkst01\"],[\"sparktu01\"],[\"spehrti01\"],[\"speiech01\"],[\"speieju01\"],[\"spencda01\"],[\"spencji01\"],[\"spencro01\"],[\"spencst01\"],[\"spierbi01\"],[\"spiezed01\"],[\"spiezsc01\"],[\"spillda01\"],[\"spilmha01\"],[\"splitpa01\"],[\"spraged01\"],[\"spraged02\"],[\"sprinja01\"],[\"sprinru01\"],[\"squirmi01\"],[\"staffge01\"],[\"stahlch01\"],[\"stahlja01\"],[\"stahlla01\"],[\"staintu01\"],[\"stairma01\"],[\"stalege01\"],[\"stanaos01\"],[\"stangle01\"],[\"stanhdo01\"],[\"stanked01\"],[\"stanlfr01\"],[\"stanlmi01\"],[\"stanlmi02\"],[\"stantmi02\"],[\"startjo01\"],[\"staubru01\"],[\"staufti01\"],[\"stclara01\"],[\"stearjo01\"],[\"steinbi02\"],[\"steinha01\"],[\"steinte01\"],[\"stennre01\"],[\"stenzja01\"],[\"stephge01\"],[\"stephjo02\"],[\"stephri01\"],[\"stephve01\"],[\"stevele01\"],[\"stewabu01\"],[\"stewach01\"],[\"stewada01\"],[\"stewaji01\"],[\"stewale01\"],[\"stewash01\"],[\"stiebda01\"],[\"stillku01\"],[\"stinnke01\"],[\"stinsbo01\"],[\"stirnsn01\"],[\"stiveja01\"],[\"stobbch01\"],[\"stockmi01\"],[\"stockwe01\"],[\"stoddti01\"],[\"stonede01\"],[\"stonejo01\"],[\"stonest01\"],[\"stottme01\"],[\"stottto01\"],[\"stovage01\"],[\"stoveha01\"],[\"stransa01\"],[\"stratsc01\"],[\"strawda01\"],[\"streega01\"],[\"streehu01\"],[\"striccu01\"],[\"stricge01\"],[\"strinni01\"],[\"stripjo01\"],[\"stroppe01\"],[\"strunam01\"],[\"stuardi01\"],[\"stubbdr01\"],[\"stubbfr01\"],[\"stulter01\"],[\"sturdto01\"],[\"sturtta01\"],[\"stynech01\"],[\"suderpe01\"],[\"sudhowi01\"],[\"sugdejo01\"],[\"suhrgu01\"],[\"sukefcl01\"],[\"sullibi03\"],[\"sullibi04\"],[\"sullifr01\"],[\"sullimi02\"],[\"sullisc01\"],[\"summaho01\"],[\"summech01\"],[\"sundbji01\"],[\"sundrst01\"],[\"suppaje01\"],[\"surhobj01\"],[\"surkoma01\"],[\"sutclri01\"],[\"suthega01\"],[\"suttoez01\"],[\"suzukic01\"],[\"suzukku01\"],[\"sveumda01\"],[\"swancr01\"],[\"sweenma01\"],[\"sweenmi01\"],[\"swiftbi01\"],[\"swiftbi02\"],[\"swiftbo01\"],[\"swindgr01\"],[\"swishni01\"],[\"swoboro01\"],[\"tablepa01\"],[\"talbofr01\"],[\"tallebr01\"],[\"tananfr01\"],[\"tanneje01\"],[\"tannele01\"],[\"tapanke01\"],[\"tartada01\"],[\"tartajo01\"],[\"tatebe01\"],[\"tatisfe01\"],[\"taubeed01\"],[\"tavarju01\"],[\"taverfr01\"],[\"taylobi01\"],[\"tayloda01\"],[\"taylodu01\"],[\"tayloha04\"],[\"tayloja02\"],[\"tayloro01\"],[\"tayloto02\"],[\"tayloza02\"],[\"tebbebi01\"],[\"tebeapa01\"],[\"teixema01\"],[\"tejadmi01\"],[\"tekulke01\"],[\"telemam01\"],[\"templga01\"],[\"templjo01\"],[\"tenacge01\"],[\"tennefr02\"],[\"terrewa01\"],[\"terryad01\"],[\"terryra01\"],[\"terwiwa01\"],[\"tettlmi01\"],[\"teufeti01\"],[\"tewksbo01\"],[\"thamema01\"],[\"thatcjo01\"],[\"theveto01\"],[\"thigpbo01\"],[\"thomade01\"],[\"thomafr03\"],[\"thomaga01\"],[\"thomage01\"],[\"thomago01\"],[\"thomair01\"],[\"thomale03\"],[\"thomapi01\"],[\"thomaro01\"],[\"thomato02\"],[\"thompja01\"],[\"thompmi02\"],[\"thompro01\"],[\"thomsbo01\"],[\"thomsjo01\"],[\"thondi01\"],[\"thornan01\"],[\"thornma01\"],[\"thurssl01\"],[\"tiantlu01\"],[\"tidrodi01\"],[\"tiefebo01\"],[\"tiernmi01\"],[\"tillmbo01\"],[\"timlimi01\"],[\"tinglro01\"],[\"titusjo01\"],[\"tobinja01\"],[\"tobinji01\"],[\"toddal01\"],[\"tolanbo01\"],[\"tollewa01\"],[\"tomkobr01\"],[\"tomlida01\"],[\"toneyfr01\"],[\"torboje01\"],[\"torgeea01\"],[\"torremi01\"],[\"torresa01\"],[\"torreyo01\"],[\"tovarce01\"],[\"trachst01\"],[\"tracych01\"],[\"travice01\"],[\"treadje01\"],[\"treanma01\"],[\"treshmi01\"],[\"treshto01\"],[\"trevial01\"],[\"triangu01\"],[\"trillma01\"],[\"trombmi01\"],[\"troskha01\"],[\"troutdi01\"],[\"troutst01\"],[\"truckvi01\"],[\"tsitojo01\"],[\"tuckemi01\"],[\"tucketo01\"],[\"tudorjo01\"],[\"tulowtr01\"],[\"turlebo01\"],[\"turneje01\"],[\"turneji01\"],[\"turnete01\"],[\"tuttlbi01\"],[\"twitcla01\"],[\"twitcwa01\"],[\"tylerle01\"],[\"tysonmi01\"],[\"ugglada01\"],[\"uhlege01\"],[\"underto01\"],[\"unserde01\"],[\"upshace01\"],[\"upshawi01\"],[\"uptonbj01\"],[\"uptonju01\"],[\"urbinug01\"],[\"uribejo01\"],[\"uribeju01\"],[\"utleych01\"],[\"vailmi01\"],[\"valdeis01\"],[\"valenbo02\"],[\"valenda01\"],[\"valenel01\"],[\"valenfe01\"],[\"valenja01\"],[\"valenjo02\"],[\"valenjo03\"],[\"valleda01\"],[\"valoel01\"],[\"valvejo01\"],[\"vandejo01\"],[\"vandejo02\"],[\"vangiel01\"],[\"vanhage01\"],[\"vanpoto01\"],[\"vanslan01\"],[\"vargacl01\"],[\"vargaja01\"],[\"varitja01\"],[\"vaughfa01\"],[\"vaughgr01\"],[\"vaughhi01\"],[\"vaughmo01\"],[\"vazquja01\"],[\"vazqura01\"],[\"veachbo01\"],[\"vealebo01\"],[\"velanjo01\"],[\"velarra01\"],[\"velezot01\"],[\"venabma01\"],[\"venabwi01\"],[\"venturo01\"],[\"verasjo01\"],[\"verbaem01\"],[\"veresda01\"],[\"verlaju01\"],[\"vernomi01\"],[\"versazo01\"],[\"veryzto01\"],[\"victosh01\"],[\"vidrojo01\"],[\"villaca01\"],[\"villoro01\"],[\"vinafe01\"],[\"violafr01\"],[\"virdobi01\"],[\"virgioz01\"],[\"virgioz02\"],[\"vittos01\"],[\"vizcajo01\"],[\"vizcalu01\"],[\"vizquom01\"],[\"vogelry01\"],[\"voisebi01\"],[\"vollmcl01\"],[\"volqued01\"],[\"vosbeed01\"],[\"vosmijo01\"],[\"vossbi01\"],[\"vottojo01\"],[\"vuckope01\"],[\"vukovjo01\"],[\"wadeja01\"],[\"wagnebi02\"],[\"wagneha01\"],[\"wagnehe01\"],[\"wagnele01\"],[\"wainwad01\"],[\"waitked01\"],[\"waitsri01\"],[\"wakefti01\"],[\"walbema01\"],[\"walberu01\"],[\"walkbo01\"],[\"walkebi01\"],[\"walkech01\"],[\"walkecu01\"],[\"walkedi02\"],[\"walkege02\"],[\"walkegr01\"],[\"walkeha01\"],[\"walkela01\"],[\"walkeru01\"],[\"walketi01\"],[\"walketo04\"],[\"wallati01\"],[\"wallide01\"],[\"wallsle01\"],[\"waltebu01\"],[\"waltero01\"],[\"waltoda01\"],[\"waltoje01\"],[\"wambsbi01\"],[\"wardaa01\"],[\"wardda01\"],[\"warddu01\"],[\"wardga01\"],[\"wardpr01\"],[\"wardtu01\"],[\"warnejo01\"],[\"warnelo01\"],[\"warstra01\"],[\"wasdeji01\"],[\"wasdijo01\"],[\"washbja01\"],[\"washbra01\"],[\"washicl01\"],[\"washiro01\"],[\"washiul01\"],[\"wathajo01\"],[\"watsoal01\"],[\"watsobo01\"],[\"watsomu01\"],[\"watted01\"],[\"weathda01\"],[\"weathro01\"],[\"weaveje01\"],[\"weaveje02\"],[\"weaveji01\"],[\"webbsk01\"],[\"webstle01\"],[\"webstmi01\"],[\"weeksri01\"],[\"wehmehe01\"],[\"wehnejo01\"],[\"weilabo01\"],[\"weisal01\"],[\"weisswa01\"],[\"welchbo01\"],[\"welchcu01\"],[\"welchjo01\"],[\"welleto01\"],[\"wellsbo01\"],[\"wellsda01\"],[\"wellsed01\"],[\"wellski01\"],[\"wellsve01\"],[\"wendetu01\"],[\"werbebi01\"],[\"werthja01\"],[\"wertzvi01\"],[\"westbja01\"],[\"westda01\"],[\"westlwa01\"],[\"westrwe01\"],[\"westsa01\"],[\"wettejo01\"],[\"weyhigu01\"],[\"wheelda01\"],[\"wheelha01\"],[\"whisepe01\"],[\"whitalo01\"],[\"whitebi03\"],[\"whitede03\"],[\"whitedo01\"],[\"whiteea01\"],[\"whitefr01\"],[\"whitega01\"],[\"whiteha01\"],[\"whiteje01\"],[\"whitejo01\"],[\"whitema01\"],[\"whitema02\"],[\"whiteri01\"],[\"whitero01\"],[\"whitero02\"],[\"whitesa02\"],[\"whitewi01\"],[\"whitfte01\"],[\"whitnar01\"],[\"whitnji01\"],[\"whitnpi01\"],[\"whitsed01\"],[\"whitter01\"],[\"whittpo01\"],[\"wickeda01\"],[\"wickmbo01\"],[\"widgech01\"],[\"wiedmst01\"],[\"wiggity01\"],[\"wightbi01\"],[\"wilcomi01\"],[\"wilforo01\"],[\"wilkecu01\"],[\"wilkiri01\"],[\"wilkste01\"],[\"willeed01\"],[\"willibe02\"],[\"willibr01\"],[\"willica01\"],[\"willicy01\"],[\"willido03\"],[\"willied01\"],[\"willige02\"],[\"willije02\"],[\"williji01\"],[\"willijo03\"],[\"willike01\"],[\"willima04\"],[\"willimi02\"],[\"willimi03\"],[\"willine01\"],[\"willisc01\"],[\"willist02\"],[\"williwa02\"],[\"williwo02\"],[\"willsma01\"],[\"wilmowa01\"],[\"wilsoar01\"],[\"wilsobo02\"],[\"wilsocj01\"],[\"wilsoda01\"],[\"wilsoea01\"],[\"wilsoen01\"],[\"wilsogl01\"],[\"wilsoja01\"],[\"wilsoja02\"],[\"wilsoji01\"],[\"wilsoji02\"],[\"wilsojo03\"],[\"wilsomo01\"],[\"wilsopr01\"],[\"wilsore01\"],[\"wilsowi02\"],[\"wiltsho01\"],[\"winebo01\"],[\"wingoiv01\"],[\"winnihe01\"],[\"winnra01\"],[\"wisede01\"],[\"wiseri01\"],[\"wisesa01\"],[\"witasja01\"],[\"wittbo01\"],[\"wittwh01\"],[\"wockejo01\"],[\"wohlema01\"],[\"wohlfji01\"],[\"wolfji01\"],[\"wolfra02\"],[\"wolveha01\"],[\"womacto01\"],[\"woodala01\"],[\"woodeha01\"],[\"woodge01\"],[\"woodjo02\"],[\"woodke02\"],[\"woodlge01\"],[\"woodwch01\"],[\"woodwi01\"],[\"woodwwo01\"],[\"worreti01\"],[\"worreto01\"],[\"worthal01\"],[\"wrighcl01\"],[\"wrighda03\"],[\"wrighgl01\"],[\"wrighja01\"],[\"wrighja02\"],[\"wrighru01\"],[\"wrighto01\"],[\"wrighwe01\"],[\"wyattjo02\"],[\"wyattwh01\"],[\"wynegbu01\"],[\"wynnji01\"],[\"wyrosjo01\"],[\"yanes01\"],[\"yeagejo01\"],[\"yeagest01\"],[\"yorkru01\"],[\"yorkto01\"],[\"yosted01\"],[\"youklke01\"],[\"youngba01\"],[\"youngch03\"],[\"youngch04\"],[\"youngcu01\"],[\"youngde03\"],[\"youngdm01\"],[\"younger01\"],[\"younger03\"],[\"youngjo02\"],[\"youngke01\"],[\"youngma01\"],[\"youngmi02\"],[\"youngpe01\"],[\"zachato01\"],[\"zachrpa01\"],[\"zahnge01\"],[\"zambrca01\"],[\"zarilal01\"],[\"zaungr01\"],[\"zeidero01\"],[\"zeileto01\"],[\"zernigu01\"],[\"zieglbr01\"],[\"zimmech01\"],[\"zimmedo01\"],[\"zimmehe01\"],[\"zimmery01\"],[\"ziskri01\"],[\"zitoba01\"],[\"zobribe01\"],[\"zoldasa01\"],[\"zuberbi01\"],[\"zuverge01\"]],\"hovertemplate\":\"hof=False<br>Avg=%{x}<br>H=%{y}<br>id=%{customdata[0]}<extra></extra>\",\"legendgroup\":\"False\",\"marker\":{\"color\":\"#EF553B\",\"symbol\":\"circle\"},\"mode\":\"markers\",\"name\":\"False\",\"showlegend\":true,\"x\":[0.0,0.28021778584392015,0.09523809523809523,0.2736787022501308,0.25,0.14285714285714285,0.3312930374904361,0.3526556253569389,0.14285714285714285,0.0967741935483871,0.17307692307692307,0.26817108370506426,0.2236024844720497,0.3001386962552011,0.0,0.311128526645768,0.056338028169014086,0.3047238855622089,0.2,0.27983193277310925,0.10526315789473684,0.25742574257425743,0.21052631578947367,0.08823529411764706,0.25385996409335726,0.07692307692307693,0.08571428571428572,0.3082378614293508,0.0,0.171875,0.24725738396624472,0.14285714285714285,0.31989977030695343,0.29703255545952173,0.26862228081740275,0.3398308201544685,0.31585220500595945,0.1815519765739385,0.13392857142857142,0.27543424317617865,0.30233655888600425,0.2762111352133044,0.31115028646981047,0.2746753246753247,0.2620008972633468,0.28624363131079206,0.30378831694621167,0.2890420727359163,0.3243884629426798,0.3387301587301587,0.18618042226487524,0.2232223222322232,0.14285714285714285,0.27320261437908494,0.3058312655086849,0.2619294605809129,0.15005246589716684,0.26851851851851855,0.2998736233977252,0.14112903225806453,0.2692307692307692,0.30800146145414686,0.30538525269262634,0.14285714285714285,0.2851864292912328,0.25426482534524775,0.19601328903654486,0.13344887348353554,0.2626492325184764,0.25925925925925924,0.18529862174578868,0.0975609756097561,0.23770491803278687,0.11764705882352941,0.2616970658207772,0.2952261306532663,0.26549755301794453,0.09848484848484848,0.1588235294117647,0.1307300509337861,0.275805570726379,0.13861386138613863,0.2732903865213082,0.28297546012269936,0.0967741935483871,0.13392857142857142,0.2860199714693295,0.24140625,0.19878603945371776,0.2989944981976854,0.27971656333038086,0.27689741451209343,0.17882352941176471,0.31929046563192903,0.2747489239598278,0.0,0.27329974811083124,0.2857142857142857,0.28876772082878954,0.19117647058823528,0.1769041769041769,0.2716520412056467,0.31071677105080026,0.3074980574980575,0.16666666666666666,0.22875816993464052,0.12173913043478261,0.20520231213872833,0.29904397705544933,0.30138339920948615,0.1611842105263158,0.2818181818181818,0.32398824327379605,0.25243714725500255,0.09615384615384616,0.3117230527143981,0.3018967334035827,0.28657799274486095,0.09375,0.2579989842559675,0.2507903055848261,0.09090909090909091,0.0,0.2547993019197208,0.2968983247636424,0.2222222222222222,0.18181818181818182,0.2987108655616943,0.1794871794871795,0.24961573931755301,0.12380952380952381,0.28197130380536495,0.28968631178707227,0.05263157894736842,0.2596823627751463,0.21934758155230596,0.10989010989010989,0.31564501372369624,0.33565945568736916,0.30513988288874433,0.28611197030621716,0.13740458015267176,0.16666666666666666,0.2690666666666667,0.28728246318607764,0.31463450079930244,0.296231681786462,0.24636174636174638,0.24769514443761526,0.2918340026773762,0.21020282728948986,0.2422419252691577,0.3187683284457478,0.09333333333333334,0.26769446391030133,0.3061611374407583,0.22948248823836906,0.2954856361149111,0.3079584775086505,0.24623115577889448,0.3137620378999689,0.28927364864864863,0.25,0.10204081632653061,0.3078910286519493,0.31015766347893514,0.2887866901122684,0.25205930807248766,0.33600764087870105,0.18885448916408668,0.3024177566389219,0.297696038803557,0.148014440433213,0.3036760788492275,0.26053639846743293,0.21052631578947367,0.15517241379310345,0.1,0.1736842105263158,0.23255813953488372,0.25268817204301075,0.12435233160621761,0.17391304347826086,0.08139534883720931,0.30812599583282263,0.28171896316507505,0.30040466555582,0.33384912959381047,0.19301470588235295,0.293853591160221,0.3034287616511318,0.0,0.27484383872799545,0.2346420323325635,0.3021724818959842,0.2999236058059587,0.30903361344537816,0.3172121212121212,0.27294117647058824,0.14992927864214992,0.19195046439628483,0.2699905926622766,0.296141329614133,0.0,0.24285714285714285,0.292551600358959,0.26305609284332687,0.0,0.13725490196078433,0.3019538188277087,0.09900990099009901,0.17231638418079095,0.17683686176836863,0.27401869158878506,0.2751457725947522,0.189873417721519,0.09090909090909091,0.17551020408163265,0.32783417935702197,0.3001304915180513,0.25417867435158503,0.3601134215500945,0.29645476772616136,0.18695652173913044,0.2573623559539053,0.22886762360446572,0.27054515866558176,0.31031390134529147,0.2900968783638321,0.25806451612903225,0.2743616466909849,0.2976891708201178,0.26512788521522146,0.2989532805718662,0.0,0.27040163724737787,0.2964930924548353,0.2087378640776699,0.2631856540084388,0.15816326530612246,0.3162960504480584,0.08208955223880597,0.2798898071625344,0.31314968814968813,0.29536878216123497,0.2872340425531915,0.11654135338345864,0.22795698924731184,0.1375,0.36396288536366356,0.14857142857142858,0.17865429234338748,0.26741573033707866,0.34836852207293667,0.15344827586206897,0.270516717325228,0.07746478873239436,0.292478421701603,0.21691176470588236,0.24531312325488633,0.2696310312204352,0.11057692307692307,0.2879426644182125,0.18723404255319148,0.17570093457943925,0.3002782696686061,0.28061019670814935,0.0,0.26349110642146517,0.28793486306439675,0.2880116959064328,0.30627951722931607,0.35245220282626766,0.11447084233261338,0.27242707760044027,0.23279352226720648,0.2342606149341142,0.322707423580786,0.07142857142857142,0.11764705882352941,0.2398190045248869,0.17783505154639176,0.2774509803921569,0.03333333333333333,0.4026615447935245,0.3077174090389949,0.2411674347158218,0.11764705882352941,0.17685589519650655,0.1710794297352342,0.28159457167090757,0.31899698460561815,0.2934131736526946,0.2850336322869955,0.2792464296566393,0.28951231446746045,0.3165033911077619,0.2064516129032258,0.14285714285714285,0.3029686864579097,0.26574992005116727,0.2846299810246679,0.08333333333333333,0.18232044198895028,0.2222222222222222,0.19117647058823528,0.29902642559109877,0.13225806451612904,0.2738294314381271,0.27448397013614406,0.11764705882352941,0.164021164021164,0.2931551048628716,0.10510510510510511,0.27580563947633435,0.2600609756097561,0.23777403035413153,0.320520067834935,0.06521739130434782,0.0,0.26290018832391715,0.3178582023138535,0.2739375320020481,0.2554539057002111,0.28618677042801555,0.23354373309287646,0.313927307816018,0.27461139896373055,0.2906815020862309,0.1542056074766355,0.25338753387533874,0.2878103837471783,0.267271458478716,0.28275429049811635,0.12121212121212122,0.26945871197155274,0.33438023450586263,0.32204493650276783,0.1694915254237288,0.17738359201773837,0.29727767695099816,0.2054140127388535,0.2425,0.28167174575533305,0.0,0.27920313914880773,0.3409090909090909,0.2732732732732733,0.16153846153846155,0.27189163038219644,0.19483315392895587,0.29457364341085274,0.3013896931094383,0.23233532934131737,0.16071428571428573,0.24192108552044278,0.17391304347826086,0.28684971098265893,0.3270868824531516,0.2911021603808129,0.26909569798068483,0.2878109897977448,0.2650669642857143,0.2826885060717311,0.1588235294117647,0.20689655172413793,0.1884920634920635,0.220873786407767,0.2831384015594542,0.2881188118811881,0.29101707498144025,0.18222222222222223,0.3096174472649267,0.21476510067114093,0.13445378151260504,0.25638569604086847,0.2550471063257066,0.20622568093385213,0.14285714285714285,0.28966346153846156,0.3780431786862655,0.2949683639650497,0.2585774058577406,0.1593959731543624,0.0,0.2922859164897382,0.27590332615458246,0.27957963399166513,0.09181141439205956,0.10344827586206896,0.2961966271977036,0.16666666666666666,0.25537065052950075,0.30345367162177267,0.2711249351995853,0.07317073170731707,0.20237154150197628,0.25577013659915215,0.26666666666666666,0.30997165678948724,0.0927960927960928,0.30158730158730157,0.3103448275862069,0.14130434782608695,0.18896833503575078,0.25780104712041885,0.3299949924887331,0.2222222222222222,0.20224719101123595,0.3074757585236159,0.09727626459143969,0.05,0.327224724336077,0.2968849332485696,0.11839323467230443,0.08,0.29108831221082276,0.3261108494269116,0.3249597423510467,0.33293470461612057,0.2810752688172043,0.30474732006125577,0.1613588110403397,0.3066950053134963,0.28248730964467006,0.29808327825512226,0.17064439140811455,0.2639123102866779,0.22613286405631325,0.2829069336299592,0.18900343642611683,0.2545454545454545,0.3211726384364821,0.3368316550843852,0.14018691588785046,0.12345679012345678,0.15384615384615385,0.2951702905522417,0.16666666666666666,0.28,0.2804340454391319,0.2539964476021314,0.28930265238011593,0.29309941520467836,0.309840169458887,0.36816720257234725,0.29157207718501704,0.0,0.21495327102803738,0.12365591397849462,0.28117425262590895,0.29973386560212906,0.16037735849056603,0.26611418047882135,0.293512164691204,0.28730867346938777,0.2927357547484172,0.0,0.28466175485599465,0.336359509759419,0.30749865132170473,0.14375,0.2788246962558889,0.18181818181818182,0.32795443758898907,0.23217391304347826,1.0,0.272419627749577,0.18840579710144928,0.11986301369863013,0.3043742405832321,0.2679929783499122,0.3294082575644656,0.30515363355551944,0.28819326301463083,0.23625254582484725,0.12742382271468145,0.32892938496583146,0.3009754562617999,0.2789005658852061,0.13967310549777118,0.28698683191324553,0.2311046511627907,0.057971014492753624,0.05555555555555555,0.12177985948477751,0.2656353591160221,0.28870695882494585,0.1,0.038461538461538464,0.29754273504273504,0.2868480725623583,0.2755469399058433,0.13432835820895522,0.306654400490647,0.21350762527233116,0.23473684210526316,0.2766307789740342,0.3378323932312651,0.33935546875,0.2335195530726257,0.25940996948118006,0.3082788671023965,0.27560795873249816,0.17467248908296942,0.33362388319895403,0.30623781676413253,0.32144118685976686,0.0,0.2541047693510555,0.19194312796208532,0.24485373781148428,0.26801959412176346,0.11384615384615385,0.3308231173380035,0.08333333333333333,0.2944210032817628,0.24253430185633576,0.26509803921568625,0.3186372745490982,0.29282821062663805,0.2869656622284513,0.33316481294236605,0.3140234727655733,0.30297723292469353,0.2600248036378669,0.2662043211523073,0.30453879941434847,0.30373983739837396,0.15544041450777202,0.2736842105263158,0.28030592734225623,0.30393428447903154,0.2204968944099379,0.0,0.06962025316455696,0.20833333333333334,0.24426666666666666,0.3463035019455253,0.30027112516945326,0.09523809523809523,0.30219857162862346,0.2859548669585719,0.30272596843615496,0.09090909090909091,0.24191063174114022,0.1557377049180328,0.1996527777777778,0.3716259987043835,0.13617021276595745,0.2579710144927536,0.0,0.32576985413290116,0.1,0.1588089330024814,0.2728860936408106,0.2032854209445585,0.28521002470878926,0.33064349265466586,0.2832618025751073,0.15,0.29572791372874324,0.27066246056782334,0.30935251798561153,0.2973593570608496,0.27652877697841727,0.3269471799462847,0.05982905982905983,0.27896995708154504,0.30361930294906164,0.2966292134831461,0.20707964601769913,0.34894162924951894,0.27942471382447903,0.2617866004962779,0.31133029843196763,0.058823529411764705,0.18674698795180722,0.2981962988990396,0.2168141592920354,0.33433476394849787,0.2987494210282538,0.2599643069601428,0.27440219521756176,0.2675626145387905,0.27073791348600507,0.2,0.19444444444444445,0.12280701754385964,0.2763705103969754,0.13548387096774195,0.1349206349206349,0.0,0.3115994236311239,0.274103323461665,0.07547169811320754,0.3081954597922278,0.2737691001697793,0.1935483870967742,0.11395348837209303,0.28910529519172246,0.2671439336850038,0.30067567567567566,0.299347061778001,0.3157894736842105,0.17486338797814208,0.2784287836276613,0.2761904761904762,0.0,0.09090909090909091,0.3089778468713564,0.2912232377613622,0.16161616161616163,0.315303849825008,0.19337016574585636,0.23972602739726026,0.26653944020356235,0.255653883972468,0.1778846153846154,0.0,0.16066481994459833,0.27102803738317754,0.3156737305077969,0.2483349191246432,0.3049936788874842,0.317635125344153,0.20126782884310618,0.3052583655816071,0.2483050847457627,0.2620253164556962,0.3085867620751342,0.23201293451899757,0.26765402843601893,0.0,0.29553437029603613,0.2647754137115839,0.1925133689839572,0.2398843930635838,0.1245674740484429,0.0,0.2404975812024879,0.2747464992757122,0.5,0.26622843056696793,0.2909441233140655,0.2962085308056872,0.30465031124130354,0.24649122807017543,0.2903790087463557,0.28529584065612185,0.11271676300578035,0.09112709832134293,0.0,0.3157096171802054,0.27727075184702304,0.328998699609883,0.25321239606953894,0.21247113163972287,0.3345132743362832,0.30758203249442495,0.3065912117177097,0.2711922811853894,0.2,0.24507431731766333,0.29279195380890294,0.28204219110086864,0.3064963908939478,0.28094804010938923,0.3076119749361801,0.26189562547966233,0.20246913580246914,0.2924382716049383,0.30916946711473836,0.2778056112224449,0.2522711390635919,0.2732919254658385,0.3207009545519305,0.28701426463354646,0.2709257616089914,0.12121212121212122,0.3023255813953488,0.30847457627118646,0.30679298528522475,0.1165644171779141,0.1111111111111111,0.35426305353602117,0.1284722222222222,0.12738853503184713,0.2806673209028459,0.22841726618705036,0.35468693449149474,0.2569124423963134,0.30253778157969774,0.18475073313782991,0.306674684305472,0.26207906295754024,0.2794587483555723,0.20703125,0.1411042944785276,0.308705469141997,0.28891928864569083,0.269690927218345,0.25163398692810457,0.11888111888111888,0.20363636363636364,0.3029233870967742,0.2674199623352166,0.3157159952134025,0.3170731707317073,0.17665615141955837,0.08695652173913043,0.30423850574712646,0.125,0.3077036382383267,0.1487279843444227,0.2708333333333333,0.13043478260869565,0.3299290780141844,0.2785956964892412,0.29690103298900367,0.21566632756866735,0.29487516425755583,0.2823238566131026,0.3182243615456612,0.2809262644728824,0.21019108280254778,0.21014492753623187,0.08333333333333333,0.31215891726697226,0.2881457151388474,0.3004242819843342,0.26968019680196803,0.30618311533888226,0.16352201257861634,0.2815779949330438,0.28418618097716103,0.0,0.3391057120703024,0.0625,0.3099970768781058,0.29248515303791683,0.22972972972972974,0.2690518783542039,0.28677433435181143,0.2902467685076381,0.28992486996725103,0.2946219797349961,0.25801572897761643,0.058823529411764705,0.30445859872611464,0.2821566731141199,0.31214651225424184,0.12903225806451613,0.09429280397022333,0.3300939423388403,0.27474747474747474,0.2653419053185272,0.28851430811446493,0.09337349397590361,0.0,0.290009250693802,0.25,0.24839596700274977,0.32787318361955087,0.2794973950352436,0.3185120604475443,0.26658536585365855,0.10086956521739131,0.269432222920595,0.17604355716878403,0.2972151898734177,0.2662523900573614,0.28040689960194604,0.29770992366412213,0.17684887459807075,0.26348314606741574,0.09428571428571429,0.3080597014925373,0.17889908256880735,0.061946902654867256,0.27555168408826947,0.3089155370177268,0.31476997578692495,0.27113133940182055,0.26615776081424936,0.3076056338028169,0.29171528588098017,0.1782178217821782,0.23361034164358263,0.1377091377091377,0.1657848324514991,0.2525737817433082,0.2852529601722282,0.34355828220858897,0.2790224032586558,0.20602069614299154,0.1267605633802817,0.2690807799442897,0.18337408312958436,0.13142857142857142,0.27888040712468193,0.16485225505443235,0.12745098039215685,0.20708955223880596,0.2901255514082117,0.27616169248205513,0.15652951699463327,0.3619424054206663,0.24740874267688148,0.25316455696202533,0.20489795918367346,0.18344155844155843,0.32009080590238365,0.2496752403221616,0.24540752630640272,0.30890999547715964,0.285816108339273,0.16326530612244897,0.06944444444444445,0.3095693779904306,0.16423357664233576,0.2859140160782943,0.3260043431053203,0.2902410575427683,0.1338235294117647,0.3153545673076923,0.07142857142857142,0.32252894033837937,0.320700203942896,0.17024320457796852,0.16707616707616707,0.08300395256916997,0.3333333333333333,0.09292035398230089,0.2795671218758052,0.3103009749894023,0.2932033719704953,0.2776280323450135,0.24819566960705694,0.2937984496124031,0.17038216560509553,0.18688524590163935,0.23433345993163693,0.27859696157283287,0.31400704416147385,0.2930291052820697,0.25795971410006496,0.27900069881201955,0.08333333333333333,0.06666666666666667,0.3156220171810372,0.31177899210686094,0.2810750279955207,0.2428087986463621,0.30479016532428993,0.30203735144312394,0.24985835694050992,0.3182844243792325,0.33120694054605765,0.23684210526315788,0.27864897466827504,0.3212157330154946,0.16393442622950818,0.07407407407407407,0.21428571428571427,0.3031082529474812,0.3325938566552901,0.28888888888888886,0.30912758446797783,0.2689688715953307,0.27500896378630335,0.21802002224694106,0.27935871743486973,0.2136317395727365,0.22682119205298013,0.0,0.09090909090909091,0.18518518518518517,0.3159901934077908,0.14285714285714285,0.29874213836477986,0.12121212121212122,0.3338192419825073,0.17215189873417722,0.2797450424929179,0.1406926406926407,0.2816277195809831,0.2870271425518273,0.31026137463697967,0.09409888357256778,0.25421734013338565,0.1532258064516129,0.2714867617107943,0.0,0.30313882452074997,0.28746872867864454,0.293218345746766,0.32479041916167667,0.3098993540633919,0.2888611803823774,0.15139442231075698,0.12903225806451613,0.1597222222222222,0.3058208686249775,0.1111111111111111,0.3132664437012263,0.25464949928469244,0.2622814321398834,0.2534775888717156,0.2789408866995074,0.25193798449612403,0.2677990603541742,0.16356107660455488,0.25927487352445194,0.3196894848270995,0.2839779005524862,0.30171009771986973,0.32163050624589085,0.2889131622064446,0.05,0.2585139318885449,0.29860316006411725,0.3115770821027761,0.2026221692491061,0.16666666666666666,0.2574430823117338,0.16145833333333334,0.2616279069767442,0.37640449438202245,0.3119699934768428,0.15196078431372548,0.3450471698113208,0.1598360655737705,0.08695652173913043,0.07692307692307693,0.27633136094674554,0.3021914648212226,0.25673302107728335,0.1388235294117647,0.23625843780135006,0.08914728682170543,0.2693409742120344,0.16393442622950818,0.26466202783300197,0.1099476439790576,0.27553159628631324,0.2947929479294793,0.2760476739715494,0.18803418803418803,0.18738049713193117,0.3151918016895167,0.3142311365807068,0.19424460431654678,0.293673824724318,0.28671655753040226,0.29413082437275984,0.33071974266184156,0.311944244172074,0.18018018018018017,0.05660377358490566,0.29790716707587983,0.3089260808926081,0.1443850267379679,0.152,0.24381625441696114,0.1271186440677966,0.13309352517985612,0.18453427065026362,0.28511309836927934,0.2692687747035573,0.2608695652173913,0.2064343163538874,0.3057764755127668,0.3273420479302832,0.26556146387238033,0.2106164383561644,0.28734061930783245,0.2873735481453728,0.2873594735398958,0.3284508440913605,0.2900505902192243,0.2402938090241343,0.31473025536952476,0.0,0.14285714285714285,0.2880904856952761,0.31348028825773633,0.0684931506849315,0.2479740680713128,0.2747081712062257,0.26696284329563813,0.262020062262193,0.33405842137973896,0.245605223505776,0.2586712261846605,0.29093264248704664,0.28313253012048195,0.27665876777251186,0.24421965317919075,0.17049180327868851,0.21939953810623555,0.14168937329700274,0.40789473684210525,0.0,0.27523602033405953,0.12544802867383512,0.29078844652615143,0.3028157936133396,0.34691881317248124,0.125,0.35295390608093485,0.2957281095114468,0.1925601750547046,0.2667824074074074,0.0,0.31998474446987035,0.18807339449541285,0.2791346824842987,0.12589928057553956,0.2759244372990354,0.08823529411764706,0.33324742268041235,0.2845138055222089,0.3047847935328818,0.22073578595317725,0.1,0.18982229402261713,0.14285714285714285,0.29208738755278135,0.30210107893242477,0.31377032520325204,0.11764705882352941,0.2738058070558851,0.2971763085399449,0.19722497522299307,0.3110178384050367,0.0,0.24903623747108714,0.3163872363439697,0.12556869881710647,0.1891891891891892,0.16594827586206898,0.30209219254975334,0.1411764705882353,0.0,0.28302961275626426,0.25645295587010825,0.26502504173622704,0.3114501199862873,0.3257162346521146,0.27547869054972207,0.27413730912588674,0.2692307692307692,0.1411764705882353,0.2713908782510366,0.3002056202878684,0.34409035901573215,0.31052841740982295,0.1472,0.29778247096092925,0.20681265206812652,0.2687140115163148,0.1760204081632653,0.2858869749168933,0.30704008221993834,0.29211160868067515,0.29072019721782005,0.27398230088495573,0.29968847352024924,0.1650485436893204,0.0,0.28114396509936984,0.2928118393234672,0.16,0.3333333333333333,0.25470332850940663,0.25527272727272726,0.19097744360902255,0.33706347675091647,0.2550030321406913,0.2557471264367816,0.32001988730527015,0.12653061224489795,0.13953488372093023,0.14545454545454545,0.11904761904761904,0.32235210768685796,0.2860732232591529,0.12831858407079647,0.28854625550660795,0.3212669683257919,0.2396804260985353,0.31103398755385353,0.0815450643776824,0.2722316865417376,0.20625889046941678,0.03278688524590164,0.27198084160109476,0.2841113105924596,0.2970143466459868,0.21286031042128603,0.3101757253780139,0.2824773413897281,0.23604826546003016,0.31590656284760843,0.15873015873015872,0.29671361502347415,0.28517221249270286,0.3152503793626707,0.21370143149284254,0.2893401015228426,0.340620233858668,0.15019762845849802,0.2514812376563529,0.2558739255014327,0.30570866141732284,0.35497754491017963,0.3101529902642559,0.22467986030267753,0.31053756370212066,0.2778523489932886,0.28586278586278585,0.19794344473007713,0.29178674351585016,0.015873015873015872,0.2928647497337593,0.3095707568633399,0.3017998244073749,0.2796780684104628,0.0,0.3001277139208174,0.07692307692307693,0.0,0.11904761904761904,0.27476143468246134,0.2744937055281883,0.28741658722592944,0.20518358531317496,0.2736318407960199,0.3263193052772211,0.26368593238822247,0.2589481373265157,0.17142857142857143,0.23376623376623376,0.31742908673553044,0.3237940514871282,0.2759815242494226,0.3333333333333333,0.26705370101596515,0.31408629441624364,0.30690774223458506,0.19944979367262725,0.3398994974874372,0.311336717428088,0.2801287948482061,0.2956047112898592,0.29688249400479616,0.33208167096925606,0.0,0.3474137931034483,0.09615384615384616,0.2571964956195244,0.2772384034519957,0.18055555555555555,0.30445544554455445,0.0,0.3497854077253219,0.3277715980719318,0.29428007889546354,0.27423674343867166,0.29130191842056247,0.29501627848735285,0.11290322580645161,0.26776649746192893,0.3529962546816479,0.07446808510638298,0.18698060941828254,0.10666666666666667,0.2042833607907743,0.17151162790697674,0.2943181818181818,0.2621518296013108,0.3044822256568779,0.33629594042757627,0.2545090180360721,0.31603029346797096,0.2636122177954847,0.27161997563946405,0.0,0.26452410383189123,0.23148148148148148,0.31587110115457523,0.31429610767551835,0.26203042533374726,0.3291858678955453,0.34317559640203366,0.3009138381201044,0.1683673469387755,0.2,0.1348314606741573,0.3055374592833876,0.2764958936253422,0.31325793704864424,0.10526315789473684,0.12968299711815562,0.1319796954314721,0.1270718232044199,0.2915047915047915,0.3056905919359451,0.3298624023800669,0.22182468694096602,0.13480055020632736,0.3330229671011794,0.1685214626391097,0.27506621263715475,0.27715736040609135,0.3139569194452641,0.14035087719298245,0.32134894091415833,0.2761647535449021,0.3050239234449761,0.06382978723404255,0.0,0.0,0.263448275862069,0.33828141333890865,0.2930607187112763,0.25,0.31972135479221714,0.2857912699838333,0.2736156351791531,0.14568345323741008,0.3,0.18840579710144928,0.1875,0.0,0.0967741935483871,0.2881557085212438,0.1016949152542373,0.07142857142857142,0.2776769509981851,0.2958996328029376,0.2761366555355767,0.2851280046902482,0.12121212121212122,0.280982905982906,0.2880143112701252,0.3248062015503876,0.0,0.19696969696969696,0.3545101842870999,0.2247340425531915,0.2074235807860262,0.21105527638190955,0.3199421965317919,0.30910374029640086,0.28051818634778275,0.26108156028368795,0.13043478260869565,0.31989247311827956,0.31597845601436264,0.1727447216890595,0.12546125461254612,0.2713254593175853,0.22970903522205208,0.2923655292076345,0.2827020695041,0.29282655246252676,0.29496221662468514,0.16756756756756758,0.2742653606411398,0.17803660565723795,0.14285714285714285,0.3263956904995103,0.1704718417047184,0.10884353741496598,0.1299093655589124,0.1308411214953271,0.12203389830508475,0.15950920245398773,0.22857142857142856,0.3007299270072993,0.27860787172011664,0.26253687315634217,0.29200388475234706,0.08545034642032333,0.1111111111111111,0.22628571428571428,0.2886405959031657,0.24081237911025144,0.0945273631840796,0.3086092715231788,0.2678191489361702,0.15384615384615385,0.1016949152542373,0.09774436090225563,0.17096219931271478,0.14666666666666667,0.2781444099378882,0.20906801007556675,0.13249211356466878,0.3393782383419689,0.35094585779517284,0.30458590006844627,0.25992063492063494,0.1317365269461078,0.30848243870112657,0.34230641409106016,0.1524547803617571,0.29169688179840464,0.31269003040486476,0.27243979567015325,0.27471668620554907,0.27784891165172854,0.16666666666666666,0.22388059701492538,0.36727688787185353,0.289437585733882,0.23684210526315788,0.14721723518850988,0.2716627634660422,0.2159090909090909,0.29305837932036016,0.3091389950044079,0.2961409395973154,0.3330840189478933,0.27999022721720007,0.27882037533512066,0.29918166939443536,0.0,0.281434184675835,0.29442888266417677,0.2752652149637074,0.2682926829268293,0.3146834061135371,0.3,0.0,0.12063492063492064,0.0,0.24978973927670312,0.3218849840255591,0.2847996695580339,0.29625858997200305,0.2865183596890914,0.3090147674674895,0.15384615384615385,0.222,0.2929184549356223,0.29656374501992033,0.2832764505119454,0.18232044198895028,0.14951456310679612,0.2998037291462218,0.3331031307550645,0.26970005083884085,0.17679558011049723,0.310426974528129,0.28891441700172316,0.2703900709219858,0.25185356811862836,0.2849067269643867,0.22758620689655173,0.2490272373540856,0.1339712918660287,0.25797629899726526,0.2742808316718883,0.0625,0.28157784305497274,0.2786029706945002,0.38011166440319905,0.2342606149341142,0.2995616171456405,0.28166311300639657,0.3288650580875782,0.28381564844587354,0.2946518668012109,0.31504196255648803,0.25141562853907135,0.2501506931886679,0.3017372752209692,0.3354548858105578,0.14285714285714285,0.0,0.32006286013619695,0.0,0.3333333333333333,0.18461538461538463,0.058823529411764705,0.16666666666666666,0.1125,0.20683111954459202,0.030303030303030304,0.26666666666666666,0.22093023255813954,0.17142857142857143,0.3576627975604958,0.09933774834437085,0.3189706762417714,0.2878619153674833,0.26672311600338694,0.0975609756097561,0.27538970240906946,0.34634920634920635,0.2232606438213915,0.1565217391304348,0.14285714285714285,0.2877005347593583,0.5,0.20967741935483872,0.02857142857142857,0.2948717948717949,0.16062176165803108,0.2648845686512758,0.30707327403642526,0.27666769136181985,0.2081736909323116,0.2820671196211653,0.07894736842105263,0.22416302765647744,0.18007662835249041,0.31263616557734203,0.3071297989031079,0.2876830318690784,0.29958078039342145,0.15658914728682172,0.31354142220136116,0.3325908156271419,0.31446540880503143,0.19393939393939394,0.2899339292654489,0.20075757575757575,0.26272912423625255,0.11224489795918367,0.2956268221574344,0.29172714078374457,0.16181229773462782,0.22540045766590389,0.24876847290640394,0.11290322580645161,0.28888888888888886,0.3188340807174888,0.2831091180866966,0.29504504504504503,0.30617152017098587,0.2677435144395497,0.09359605911330049,0.2949913644214162,0.3011318768096868,0.3047220283786927,0.2745006967022759,0.3304543747653023,0.31559060292426483,0.28452579034941766,0.23060344827586207,0.10526315789473684,0.2765880217785844,0.2585101134681796,0.2999178307313065,0.31722972972972974,0.23636363636363636,0.309853249475891,0.2134387351778656,0.2996483001172333,0.08823529411764706,0.29737111642198705,0.2051792828685259,0.34596725288053365,0.3018736988202637,0.34166809385168695,0.16981132075471697,0.1111111111111111,0.3009795191451469,0.33399822695035464,0.2810242941562705,0.16779661016949152,0.14634146341463414,0.2,0.13068181818181818,0.33245521601685984,0.13833333333333334,0.30721830985915494,0.2637221269296741,0.29844264749925126,0.2540192926045016,0.2550746840291076,0.1493212669683258,0.26804123711340205,0.28410438908659547,0.19839679358717435,0.2947895791583166,0.31090080616894494,0.29511804721888757,0.2825711820534944,0.29008932369204593,0.22706766917293233,0.0,0.2702009405728944,0.15384615384615385,0.2853440829254247,0.08,0.2,0.3352430839744639,0.15384615384615385,0.326671647366455,0.2778062532034854,0.28865979381443296,0.2727810650887574,0.21377672209026127,0.3037770612620912,0.2274618585298197,0.16695059625212946,0.3070666907645039,0.125,0.0,0.298728813559322,0.20674646354733406,0.26676752395360565,0.12222222222222222,0.27837078651685393,0.16,0.26989010989010986,0.2563859981078524,0.2662846803377563,0.25742574257425743,0.28414948453608246,0.299170326988775,0.0,0.30534188034188037,0.2962962962962963,0.1220472440944882,0.26007109004739337,0.2928082191780822,0.2885292047853624,0.274295330248212,0.30097662030186445,0.26930028401755746,0.2868341708542714,0.25508641435134544,0.29545454545454547,0.2622122403144301,0.2901706886403767,0.26209977661950856,0.28055878928987193,0.21212121212121213,0.29193548387096774,0.267458777885548,0.2949745083758194,0.28608923884514437,0.16350710900473933,0.1291866028708134,0.27061649319455566,0.2729124236252546,0.1828793774319066,0.13973799126637554,0.3971313312415957,0.16221374045801526,0.18518518518518517,0.2857631759069131,0.27912008654886405,0.1935483870967742,0.2734402852049911,0.3326863354037267,0.29894633668218573,0.16816816816816818,0.31130063965884863,0.1540785498489426,0.19047619047619047,0.2788900597119775,0.3267782426778243,0.34239504473503096,0.25121951219512195,0.17142857142857143,0.27163461538461536,0.30387111210561646,0.12087912087912088,0.2633856138453218,1.0,0.3155705229793978,0.0,0.3222053616590794,0.3019617001401214,0.326125724476148,0.3426283002076535,0.30406852248394006,0.12267657992565056,0.3039506736697876,0.3035099793530626,0.3508982035928144,0.2919572291957229,0.279678667063374,0.2898387701537308,0.30085875037015103,0.2954223690420009,0.2773972602739726,0.2701643017176998,0.2826210826210826,0.285890073831009,0.22752808988764045,0.2893126177024482,0.29340196537201685,0.1,0.1282051282051282,0.31908527463133146,0.0,0.0,0.11685823754789272,0.28308914824931714,0.3113188780584842,0.3322610294117647,0.2939982603653233,0.3338501291989664,0.1262699564586357,0.187039764359352,0.2804642166344294,0.16262975778546712,0.29082334446846136,0.2881633870005963,0.06666666666666667,0.13817330210772832,0.3182077625570776,0.2713833157338965,0.30643095055085834,0.3094660194174757,0.25631431244153413,0.16666666666666666,0.32377740303541314,0.12307692307692308,0.297196261682243,0.28729689807976366,0.1369150779896014,0.2842051017778923,0.22192028985507245,0.15445544554455445,0.2222222222222222,0.29619404456714654,0.2934472934472934,0.30247555648013313,0.318084345961401,0.26952526799387444,0.2883350640359986,0.3046471600688468,0.2869238005644403,0.3272958373053702,0.11016949152542373,0.3392470791864994,0.2837291116974494,0.3326980093180856,0.19528619528619529,0.2188976377952756,0.0,0.3268350905112393,0.2739938080495356,0.2943994104642594,0.2428087986463621,0.29274919341144506,0.0,0.2849740932642487,0.23575129533678757,0.11764705882352941,0.29191951453209836,0.26467136150234744,0.12254901960784313,0.3609447771124418,0.22840119165839126,0.22512234910277323,0.3058666666666667,0.31026785714285715,0.3037337976397756,0.14049586776859505,0.31202309754588575,0.32395175186674324,0.25261834939254296,0.31783955980306977,0.3064853556485356,0.29337539432176657,0.27605633802816903,0.2702265372168285,0.14084507042253522,0.24136178861788618,0.18181818181818182,0.28456870394451667,0.24862637362637363,0.0,0.3197349616733792,0.2659313725490196,0.3333333333333333,0.3033917256802087,0.0,0.2771637720683221,0.0,0.14169381107491857,0.24728350345735925,0.2779700115340254,0.25,0.1292517006802721,0.22960251046025104,0.1496437054631829,0.2962561041779707,0.2856020942408377,0.2735812133072407,0.25951557093425603,0.0,0.2273924495171203,0.3056957462148522,0.2791388270230141,0.2639545884578997,0.27366323480571236,0.17010309278350516,0.24973432518597238,0.2621359223300971,0.23741588156123822,0.28689275893675525,0.23412698412698413,0.3262411347517731,0.24294670846394983,0.09453781512605042,0.14285714285714285,0.291046658259773,0.1290983606557377,0.3248114769174177,0.28797289666854886,0.2768574297188755,0.1439299123904881,0.2971014492753623,0.29224253232278197,0.33063646170442285,0.25806451612903225,0.24324324324324326,0.12747252747252746,0.12931034482758622,0.2938997283279822,0.2841745531019979,0.19103313840155944,0.31316916488222696,0.3089080459770115,0.1658291457286432,0.10810810810810811,0.1235827664399093,0.2709537572254335,0.24892703862660945,0.11666666666666667,0.28495007132667616,0.3018612521150592,0.2579034941763727,0.16939890710382513,0.16941176470588235,0.2846246487354476,0.21352313167259787,0.14329268292682926,0.31229314420803783,0.18769230769230769,0.315196184695426,0.12217194570135746,0.27658582089552236,0.4,0.3602216748768473,0.1971631205673759,0.29216,0.25965073529411764,0.23927710843373495,0.33106504193701536,0.3158195316961736,0.29287767486426064,0.09691629955947137,0.2996682639144858,0.08018867924528301,0.29305585049904437,0.10734463276836158,0.10526315789473684,0.12958963282937366,0.31194637299497247,0.2222222222222222,0.20947630922693267,0.15384615384615385,0.265470297029703,0.2642762284196547,0.29233772571986333,0.21475409836065573,0.24217462932454695,0.24676524953789278,0.10067114093959731,0.3239508700102354,0.3008064516129032,0.16923076923076924,0.2632563942607611,0.2575221238938053,0.28675675675675677,0.2684964200477327,0.28905839032088376,0.2725274725274725,0.2674858223062382,0.16666666666666666,0.15555555555555556,0.23633305298570226,0.193359375,0.3173409229518195,0.15112540192926044,0.31400454201362604,0.29187224097636977,0.11063829787234042,0.30198776758409784,0.3375059045819556,0.2936893203883495,0.2777777777777778,0.2603978300180832,0.25302175664786464,0.18705035971223022,0.3178553104155977,0.2940893801057184,0.15286624203821655,0.13522012578616352,0.28086710650329877,0.3125,0.30808550185873607,0.25909831613253664,0.08333333333333333,0.18081180811808117,0.31185693287604116,0.2863877430760165,0.22684085510688837,0.3212885154061625,0.29812054439403757,0.1044776119402985,0.3001820983330999,0.0,0.22784810126582278,0.25688073394495414,0.2765957446808511,0.0,0.17590618336886993,0.20918367346938777,0.3101801310043668,0.17832167832167833,0.3217805519053876,0.16818181818181818,0.2722371967654987,0.2752808988764045,0.20668316831683167,0.29180627474870546,0.19385593220338984,0.12213740458015267,0.27726995734308346,0.31924140655867245,0.30839822024471636,0.12598425196850394,0.19005328596802842,0.25,0.09090909090909091,0.11731843575418995,0.13846153846153847,0.24033898305084747,0.2758501040943789,0.30642261807484883,0.29234263465282284,0.1887366818873668,0.17117988394584138,0.2853497767382522,0.27190653212958044,0.2217741935483871,0.18421052631578946,0.33377896613190733,0.06802721088435375,0.0,0.33340443686006827,0.25925925925925924,0.27759651984774336,0.3036607321464293,0.2831858407079646,0.3045662100456621,0.31534569983136596,0.2857142857142857,0.13664596273291926,0.14604810996563575,0.29745042492917845,0.24629878869448182,0.10324483775811209,0.13333333333333333,0.12045454545454545,0.2955640050697085,0.1984732824427481,0.3040702314445331,0.27007510109763144,0.1875,0.2222222222222222,0.15254237288135594,0.29818496110630943,0.15865384615384615,0.2874251497005988,0.15469613259668508,0.30735524256651015,0.26300148588410105,0.2984764542936288,0.0,0.17164179104477612,0.30038387715930903,0.2808988764044944,0.07954545454545454,0.28509406657018815,0.307720861172977,0.1652892561983471,0.3066740209597352,0.2,0.1144578313253012,0.338397212543554,0.29355309826830794,0.16013071895424835,0.156,0.12569832402234637,0.30235042735042733,0.14603616133518776,0.30804150453955903,0.30183727034120733,0.3013020096235494,0.22727272727272727,0.22972972972972974,0.29936594202898553,0.30266256113023005,0.045454545454545456,0.125,0.29419321685508737,0.2960246095598675,0.30773881499395406,0.08333333333333333,0.27228393389325384,0.2565789473684211,0.06338028169014084,0.2961038961038961,0.3258512459577706,0.1358695652173913,0.2928528164748637,0.1597051597051597,0.30750237416904086,0.0,0.29075907590759076,0.17412935323383086,0.30071538068472153,0.30722433460076043,0.3029073698444895,0.28753894080996883,0.296133364204677,0.2750941028858218,0.29304192685102587,0.24357656731757452,0.31713780918727913,0.2054794520547945,0.30056497175141245,0.3230059327620303,null,0.36279575741093284,0.2716849451645065,0.28736,0.14844649021864212,0.27396431811309346,0.2470389170896785,0.2571545380212592,0.3279507881584006,0.30484798685291703,0.29993342210386154,0.06976744186046512,0.33528134914009017,0.1276595744680851,0.34786399302528337,0.2966052934407365,0.32348993288590605,0.13996316758747698,0.3333333333333333,0.2222222222222222,0.1511627906976744,0.18538324420677363,0.1145374449339207,0.2619047619047619,0.3062139654067905,0.28048452220726783,0.21176470588235294,0.19427710843373494,0.29188764486348456,0.1949367088607595,0.2921458282358698,0.24342745861733203,0.27737665463297234,0.2823948084571907,0.30327868852459017,0.2672955974842767,0.2,0.28845369237046103,0.2662337662337662,0.26761591821832786,0.08333333333333333,0.19814241486068113,0.2875297855440826,0.29781973477185886,0.323016415868673,0.1935483870967742,0.2,0.2663981588032221,0.2914285714285714,0.22022160664819945,0.21604938271604937,0.2901972504482965,0.3072847682119205,0.0,0.304257528556594,0.27143299288146083,0.24592120970951054,0.28497202238209435,0.3058530986993114,0.14653465346534653,0.37892074198988196,0.24496981891348088,0.2723926380368098,0.17391304347826086,0.3273745997865528,0.15449915110356535,0.287317620650954,0.2938679245283019,0.24912280701754386,0.3040593903016901,0.0,0.33518005540166207,0.25298013245033113,0.2998691955526488,0.22054794520547946,0.07547169811320754,0.0,0.21212121212121213,0.1504424778761062,0.2088686282635723,0.2561617280531709,0.0,0.21250662427133016,0.1484375,0.32169448010269575,0.323989044627034,0.28939435461770346,0.33561964146531564,0.27804107424960506,0.3582499509515401,0.27712854757929883,0.24341034819394727,0.31003259688518653,0.3020148926850635,0.2837620578778135,0.31236141906873616,0.2766085387853277,0.29158512720156554,0.2944768985661179,0.1976470588235294,0.18181818181818182,0.2605839416058394,0.2851727042965459,0.28659976387249114,0.2931565967940814,0.13166144200626959,0.2855740922473013,0.3067202757036186,0.27876106194690264,0.28851593437676787,0.20155038759689922,0.31983356449375866,0.23555903661640884,0.29723404255319147,0.24857839155158407,0.056818181818181816,0.2648134601316752,0.30645981688708035,0.294478527607362,0.28540305010893247,0.301345111423409,0.2222222222222222,0.2576523031203566,0.3213749060856499,0.2383495145631068,0.29948525970987366,0.16475644699140402,0.35401360544217686,0.30228392297357815,0.2682119205298013,0.32315233785822023,0.27485994397759106,0.31712062256809337,0.15135135135135136,0.2751322751322751,0.2452504317789292,0.3135778479475346,0.23880597014925373,0.15699208443271767,0.21428571428571427,0.3000363240101707,0.05,0.3089430894308943,0.2848307291666667,0.2786150712830957,0.3130120816553256,0.28285602196939974,0.1348314606741573,0.17752808988764046,0.14285714285714285,0.19117647058823528,0.33413848631239934,0.3029778393351801,0.3338809034907598,0.32316581564095676,0.30292696788860474,0.33301374240971554,0.13874788494077833,0.27638391079251295,0.30129772428060936,0.16404494382022472,0.27775856105153923,0.14556962025316456,0.2123730378578024,0.3218045112781955,0.14285714285714285,0.26926236241169704,0.2754814975113612,0.2912165335838422,0.14413075780089152,0.2606490872210953,0.12643678160919541,0.3153922542204568,0.201171875,0.2888024210981409,0.3182648401826484,0.29361354825545805,0.1382488479262673,0.12209302325581395,0.18559556786703602,0.13043478260869565,0.0,0.1,0.2594752186588921,-0.0,0.2930262316058861,0.2536873156342183,0.2778716216216216,0.28751431844215347,0.2455573505654281,0.0,0.2401263823064771,0.2904184770180654,0.2153846153846154,0.31557960694958703,0.11814345991561181,0.29654654654654655,0.2948846539618857,0.294478527607362,0.15176151761517614,0.308059251820236,0.0,0.1815519765739385,0.2849298352654057,0.25273010920436817,0.3319607843137255,0.3284387821204923,0.32265625,0.2685633001422475,0.11904761904761904,0.09090909090909091,0.3004472507234938,0.24961119751166408,0.29344183820009573,0.3128044537230341,0.2853127196064652,0.13924050632911392,0.2544045102184637,0.3146538807311957,0.2691144708423326,0.29545039283756624,0.3113482056256062,0.05555555555555555,0.331789329215989,0.18981481481481483,0.11578947368421053,0.21224489795918366,0.28968391802709276,0.29357993197278914,0.2818618396749169,0.2547131969514641,0.26993355481727577,0.2543923865300146,0.3046897757063793,0.14454277286135694,0.16666666666666666,0.307915758896151,0.0,0.12638580931263857,0.21066666666666667,0.2916098226466576,0.18461538461538463,0.2932748538011696,0.16666666666666666,0.23671497584541062,0.34050303555941025,0.15789473684210525,0.26103795507358635,0.241852487135506,0.26666666666666666,0.34194612424409015,0.32198737304419434,0.30533941507915213,0.1377245508982036,0.25711927362773423,0.11561866125760649,0.1368421052631579,0.046632124352331605,0.24532710280373832,0.14285714285714285,0.1916083916083916,0.25,0.2860556038227628,0.2872628726287263,0.24749163879598662,0.3084817970565453,0.25347012673506336,0.1125703564727955,0.31062931696085955,0.29762127739277017,0.28904719501335707,0.1,0.27087495005992807,0.29825213834139086,0.102803738317757,0.2930276381909548,0.0,0.2729705619982159,0.0,0.3331745653727078,0.28532682397613235,0.2962962962962963,0.15107102593010147,0.3206176203451408,0.29696218226906385,0.32860184528034064,0.31797597952352824,0.0,0.2992840095465394,0.1917808219178082,0.30693991616208666,0.15300546448087432,0.1896551724137931,0.2818356559346468,0.30838815789473684,0.296664716208309,0.30660954712362304,0.29652996845425866,0.2479935794542536,0.2664,0.30627394636015326,0.2729641693811075,0.2765474162407723,0.12761506276150628,0.1115702479338843,0.19008264462809918,0.26767529822519637,0.3127194693718299,0.33388248215266336,0.27703984819734345,0.27997364953886694,0.1693548387096774,0.17829457364341086,0.0,0.2960135708227311,0.15985130111524162,0.2957871396895787,0.2873629544143104,0.2666005946481665,0.2772151898734177,0.32716143840856926,0.26895161290322583,0.1806615776081425,0.2827868852459016,0.3408796895213454,0.1875,0.32922636103151864,0.2875457875457875,0.13972602739726028,0.0,0.3339673913043478,0.30783893257088396,0.30615384615384617,0.27546035325065765,0.18181818181818182,0.11386138613861387,0.26450580232092835,0.28459900638750885,0.3125288950531669,0.3126407204889032,0.2695342326291677,0.31937984496124033,0.1630695443645084,0.18324607329842932,0.22955145118733508,0.25,0.317570322054627,0.3173142467620995,0.30864928909952605,0.3026957269859478,0.30149158997143766,0.29694444444444446,0.3270803270803271,0.17100371747211895,0.24395604395604395,0.25,0.15217391304347827,0.08333333333333333,0.2899628252788104,0.24405705229793978,0.2804774083546462,0.17647058823529413,0.297119341563786,0.35089741478676106,0.1412556053811659,0.27974044700793077,0.2926829268292683,0.0,0.19298245614035087,0.2866906474820144,0.10526315789473684,0.29413423575860126,0.28822882288228824,0.31924140655867245,0.16666666666666666,0.2726036709721278,0.1456953642384106,0.169921875,0.22503617945007237,0.2316043425814234,0.2831407205982325,0.26717557251908397,0.0,0.0,0.2745253164556962,0.06666666666666667,0.2817168903519878,0.3024872960684675,0.3008849557522124,0.19166666666666668,0.2622478386167147,0.32342007434944237,0.31268436578171094,0.25991048593350385,0.2734741784037559,0.12,0.1625668449197861,0.337421279416639,0.16666666666666666,0.2547597461468722,0.1475,0.13333333333333333,0.23141186299081035,0.25655326268823203,0.3044150110375276,0.2851063829787234,0.31860390650016013,0.27416173570019725,0.14867617107942974,0.2961240310077519,0.1440677966101695,0.13953488372093023,0.13771186440677965,0.2929145361577794,0.3078304597701149,0.1340782122905028,0.16243654822335024,0.0,0.31041857622975866,0.29554560452510015,0.3109213802917111,0.2874940105414471,0.1415929203539823,0.2938257993384785,0.268783542039356,0.13559322033898305,0.209366391184573,0.27406417112299464,0.31284658040665436,0.24369747899159663,0.2962885738115096,0.3077319587628866,0.2910654827968923,0.27907892147215113,0.0,0.29136316337148804,0.1346938775510204,0.20466321243523317,0.17412935323383086,0.3889457523029683,0.17098445595854922,0.2907672301690507,0.31513787281935846,0.3159502953758403,0.2814748201438849,0.0,0.3016999813188866,0.14347826086956522,0.07518796992481203,0.5,0.13095238095238096,0.28278322925958965,0.2382659713168188,0.2992383025027203,0.3544403989235397,0.2457627118644068,0.32752434648898,0.32217524077989196,0.27012327773749095,0.22966507177033493,0.272863568215892,0.2664315485732607,0.25090102578319934,0.3333333333333333,0.2703398558187436,0.28703703703703703,0.25592672413793105,0.32757547463429815,0.29954794194622886,0.3618077324973877,0.09090909090909091,0.2981118373275236,0.340761814446025,0.19607843137254902,0.2748335552596538,0.35255405828893766,0.29509433962264153,0.303809345092888,0.1277533039647577,0.2817243472981178,0.33765878978281655,0.27298364354201915,0.07913669064748201,0.22033898305084745,0.25592885375494073,0.1954674220963173,0.24509803921568626,0.125,0.16031746031746033,0.3087740752063589,0.12934362934362933,0.2961926091825308,0.3035394265232975,0.1836734693877551,0.14666666666666667,0.2795666566355703,0.10784313725490197,0.27768860353130015,0.2997936016511868,0.1148936170212766,0.3133833536904554,0.3035856573705179,0.2676342525399129,0.29133489461358314,0.26475548060708265,0.2707794606575545,0.15873015873015872,0.20869565217391303,0.0,0.1509433962264151,0.2793181818181818,0.30917874396135264,0.3311766641079066,0.12729026036644167,0.2509105625252934,0.2807998279939798,0.23153526970954358,0.1878048780487805,0.31262247838616714,0.21409921671018275,0.20657276995305165,0.29336808572256007,0.11428571428571428,0.28564585661823405,0.2760650658404338,0.21498371335504887,0.3042248208223312,0.2792122538293217,0.19769874476987448,0.2676253245456361,0.12962962962962962,0.2648171500630517,0.12624584717607973,0.26605504587155965,0.14332247557003258,0.28489795918367344,0.29674275455244936,0.2933591231463572,0.28454172366621067,0.31961538461538463,0.2468354430379747,0.1750503018108652,0.29225736095965105,0.33512544802867383,0.3007539041464728,0.10980392156862745,0.14792899408284024,0.11235955056179775,0.27497062279670975,0.27734753146176183,0.1469387755102041,0.27958236658932717,0.26695979899497485,0.3093203093203093,0.2897952948365414,0.2681252681252681,0.15779467680608364,0.27424400417101147,0.2944640753828033,0.14285714285714285,0.0,0.2770859277708593,0.2678695350451076,0.26715176715176714,0.2798202614379085,0.1347305389221557,0.1696969696969697,0.12732919254658384,0.2577903682719547,0.28247048138056313,0.0,0.10191082802547771,0.15417558886509636,0.29545454545454547,0.2940051020408163,0.20653442240373396,0.12254901960784313,0.35635562086700956,0.1670061099796334,0.2300771208226221,0.280359820089955,0.2571174377224199,0.30217129071170085,0.285895538168746,0.2,0.14210526315789473,0.2750965250965251,0.278468423669816,0.21251475796930341,0.33571793561573837,0.2756141402037148,0.297339593114241,0.3025956284153005,0.2850985221674877,0.27716458180034337,0.29164057608015026,0.269702842377261,0.2981410031567871,0.19871106337271752,0.31226765799256506,0.258307210031348,0.3212130835185773,0.23767935121646913,0.0,0.28989465470152165,0.19575699132111862,0.31397819005806543,0.2989191203876258,0.29260956745918076,0.3309128630705394,0.10897435897435898,0.31005637388616114,0.29676787463271304,0.3039356190056223,0.17120622568093385,0.30721747388414056,0.2124600638977636,0.2776427703523694,0.06666666666666667,0.2107904642409034,0.0,0.29333333333333333,0.1638418079096045,0.19863013698630136,0.3067450321858382,0.3156963890935888,0.13333333333333333,0.2006220839813375,0.31693133527175127,0.14516129032258066,0.125,0.2510903426791277,0.19153225806451613,0.29542511868795857,0.2069767441860465,0.3227307990690458,0.28944504896626766,0.2428842504743833,0.3126760563380282,0.20288903479973736,0.2910857625686523,0.16666666666666666,0.22321428571428573,0.09523809523809523,0.29755505462112014,0.3161217587373168,0.3161729763979091,0.28774928774928776,0.045454545454545456,0.11728395061728394,0.14606741573033707,0.3056640625,0.279887482419128,0.22857142857142856,0.30527817403708984,0.26475548060708265,0.3128735632183908,0.3565118626956083,0.2783397279386118,0.28441224585183456,0.11696869851729819,0.3145910780669145,0.0,0.1111111111111111,0.22774988589685075,0.19682539682539682,0.2762210993722248,0.24249422632794457,0.24281150159744408,0.260411680229775,0.21296296296296297,0.2,0.2766924125397547,0.1347517730496454,0.33660998937300746,0.2865740740740741,0.27951910691283816,0.2878968727619957,0.0,0.10344827586206896,0.14520958083832336,0.15849056603773584,0.2847464586327243,0.30694388911102227,0.32936507936507936,0.37223427331887204,0.27380497131931164,0.3333333333333333,0.2625754527162978,0.16005873715124816,0.3088470776621297,0.2839575181665735,0.32619926199261995,0.24096385542168675,0.11788617886178862,0.2688214426487978,0.19964349376114082,0.2032520325203252,0.125,0.09523809523809523,0.14285714285714285,0.268053148469093,0.3106514994829369,0.11224489795918367,0.3066143497757848,0.08928571428571429,0.27671657201858546,0.05405405405405406,0.3062765455403492,0.2922163588390501,0.07792207792207792,0.2856088560885609,0.30682951146560317,0.1795774647887324,0.1614497528830313,0.16,0.2749731471535983,0.16387959866220736,0.28383705650459923,0.29865252926883146,0.3389391979301423,0.27062921837578924,0.2698412698412698,0.0784313725490196,0.25109553023663456,0.2990973408148329,0.22529644268774704,0.3134428879310345,0.257372654155496,0.2880944116626171,0.328436018957346,0.1581569115815691,0.17492984097287184,0.17905759162303664,0.2727272727272727,0.0,0.07407407407407407,0.31271804630510625,0.17587939698492464,0.1557632398753894,0.3204250295159386,0.26940316112290635,0.28661087866108786,0.26891178688112594,0.14473684210526316,0.1474036850921273,0.16666666666666666,0.24327956989247312,0.26364692218350755,0.3323424494649227,0.27946916471506633,0.11764705882352941,0.270873320537428,0.32083333333333336,0.16970802919708028,0.14930555555555555,0.15550239234449761,0.215625,0.19895287958115182,0.28310104529616725,0.18181818181818182,0.1945080091533181,0.28185840707964605,0.25,0.0,0.15,0.29539790662900817,0.26379647749510765,0.0,0.3045522949586155,0.28584876058989644,0.2952144188937228,0.25244618395303325,0.0,0.3095282491143017,0.32524660090642493,0.27949709864603484,0.31023973994311255,0.298859035701141,0.19694072657743786,0.25569084171519324,0.30041666666666667,0.3082706766917293,0.2946392583635631,0.14285714285714285,0.27361319340329837,0.26513409961685824,0.27481102170202387,0.23739837398373984,0.30470619516086145,0.32301808066759385,0.13924050632911392,0.15384615384615385,0.29866377753701695,0.2814881219184222,0.0,0.33755960121369744,0.24972164784475903,0.23529411764705882,0.5,0.28457350272232307,0.12,0.13729977116704806,0.21052631578947367,0.29105125977410945,0.11683848797250859,0.3055555555555556,0.14516129032258066,0.14878048780487804,0.19217081850533807,0.2807373583629291,0.11864406779661017,0.07407407407407407,0.31958762886597936,0.3241106719367589,0.2894705812993751,0.292064537372407,0.30004249893752655,0.26693002257336346,0.25,0.21465968586387435,0.15254237288135594,0.23538383324860193,0.20854700854700856,0.18809980806142035,0.2504201680672269,0.2899757197363857,0.2804651162790698,0.2762557077625571,0.3387507966857871,0.31655844155844154,0.3408344678465604,0.16121495327102803,0.2850835698517818,0.2614149523331661,0.11666666666666667,0.32211538461538464,0.3028515240904621,0.2900559202528568,0.30177799135031236,0.29040097205346294,0.2762707400579405,0.20051085568326948,0.28301523038365145,0.20310077519379846,0.22865412445730826,0.3178096212896622,0.15966386554621848,0.2802690582959641,0.08823529411764706,0.2827763496143959,0.16875,0.30016528925619834,0.33532284319045036,0.15527950310559005,0.18041237113402062,0.17333333333333334,0.28178493050475495,0.17728055077452667,0.14864864864864866,0.3101552393272963,0.24426719840478564,0.18778625954198475,0.0,0.25240284162139576,0.2852193995381062,0.22591362126245848,0.34106948968512485,0.20927601809954752,0.2056451612903226,0.2577777777777778,0.0,0.21929824561403508,0.12994350282485875,0.2915584415584416,0.19816272965879264,0.21739130434782608,0.25333333333333335,0.2483221476510067,0.2728199898011219,0.17995444191343962,0.3372280419016922,0.2625099285146942,0.1415525114155251,0.16666666666666666,0.279737635171069,0.09361702127659574,0.31409062693978895,0.28500324605063837,0.28411405295315684,0.1276595744680851,0.2992635171546614,0.10267857142857142,0.1693548387096774,0.30998140111593303,0.12087912087912088,0.16736401673640167,0.28063180493789297,0.2651141961486789,0.2795414462081129,0.2590489709013485,0.3017709563164109,0.13934426229508196,0.2731914893617021,0.2790143084260731,0.30529448621553884,0.06896551724137931,0.19406392694063926,0.28594932543599866,0.2816574905824399,0.33781965006729475,0.25892857142857145,0.284688995215311,0.26174496644295303,0.2993451824134705,0.27044989775051126,0.15641711229946523,0.0,0.10956521739130434,0.14638447971781304,0.272207563764292,0.2755822159491884,0.3333333333333333,0.25956182695878205,0.2566831040747469,0.16988416988416988,0.2805414551607445,0.2877094972067039,0.29492317969271875,0.32683697656044247,0.3027672273467173,0.20949074074074073,0.30450874831763125,0.19727891156462585,0.2701189643107068,0.2971623751970573,0.2601001072577762,0.2958122958122958,0.2917316692667707,0.12939297124600638,0.06666666666666667,0.26709973251815056,0.30704736007251304,0.0,0.30219471018570626,0.2903120936280884,0.32662502891510525,0.15675675675675677,0.3378173139509655,0.3358736059479554,0.16363636363636364,0.17676767676767677,0.2854147948487571,0.2645021645021645,0.058823529411764705,0.31273549359457425,0.28445987339187256,0.2131837307152875,0.29631336405529957,0.32333083270817703,0.3007518796992481,0.27252081756245267,0.21357285429141717,0.27419354838709675,0.14315352697095435,0.08823529411764706,0.22167487684729065,0.26091269841269843,0.24602385685884692,0.3221020092735703,0.07906976744186046,0.34732627228106433,0.2541265474552957,0.13861386138613863,0.23857302118171683,0.2798900595510765,-0.0,0.1773049645390071,0.17293233082706766,0.0,0.28818868619863647,0.28043143297380585,0.116,0.2992863514719001,0.2534142640364188,0.24709103353867215,0.12884333821376281,0.31616257088846883,0.2056338028169014,0.16135458167330677,0.14285714285714285,0.2756516916250693,0.3032134029112881,0.32255499602438376,0.17757009345794392,0.28948076405703527,0.30706815723043634,0.317016317016317,0.18029739776951673,0.31591054313099043,0.297969875573019,0.2939796716184519,0.2783109404990403,0.20425531914893616,0.11278195488721804,0.34238947013162335,0.2695139911634757,0.29967248908296945,0.28863936591809775,0.3125489172971563,0.2417340191036003,0.3032532920216886,0.3062015503875969,0.11320754716981132,0.30676972281449894,0.08333333333333333,0.0,0.2517804775869292,0.29758493655341794,0.1524008350730689,0.271259418729817,0.21074380165289255,0.3113388853299167,0.24984728161270617,0.16274089935760172,0.1536697247706422,0.2523364485981308,0.075,0.3401090728805156,0.20242914979757085,0.359151455352738,0.30632823365785816,0.2222222222222222,0.2595060123496913,0.10089020771513353,0.22550052687038988,0.28761061946902655,0.30990948070509766,0.2206148282097649,0.0,0.04918032786885246,0.3272487354299538,0.12692307692307692,0.2822966507177033,0.24048044978277536,0.31172928018353885,0.3288295621032069,0.29716485824291217,0.24300441826215022,0.2650290885585003,0.16171003717472118,0.2691831683168317,0.3138121546961326,0.3091579594345421,0.2626546681664792,0.2629737609329446,0.28419452887537994,0.2401685393258427,0.2948756367995205,0.2939592150827241,0.27421332243563545,0.18055555555555555,0.309375,0.2650567355251673,0.05084745762711865,0.2888061759029501,0.0,0.29336905559276627,0.14864864864864866,0.1348314606741573,0.15789473684210525,0.3054287163876205,0.2128060263653484,0.2811780947998159,0.1348747591522158,0.3012170385395537,0.125,0.12283044058744993,0.2249488752556237,0.27880805198922176,0.17647058823529413,0.2780864197530864,0.2726060875361031,0.265717674970344,0.3252760370038794,0.3019980347199476,0.2604684173172463,0.28563234872383136,0.09009009009009009,0.26337448559670784,0.19298245614035087,0.045454545454545456,0.2702702702702703,0.1111111111111111,0.07407407407407407,0.2860125260960334,0.2965027876330461,0.33616003479017176,0.27902621722846443,0.253324889170361,0.26627218934911245,0.3044350345442389,0.13552361396303902,0.24939098660170525,0.08727272727272728,0.2,0.34916792738275343,0.24484181568088034,0.2672543539023866,0.3187675070028011,0.34782608695652173,0.3094562131469753,0.3208505611340815,0.15441176470588236,0.3076923076923077,0.2951653944020356,0.28609523809523807,0.2906612635844539,0.293476065441325,0.28720445062586925,0.3749542292200659,0.27380952380952384,0.23110151187904968,0.3774289985052317,0.3202411714039621,0.28356210244392366,0.305757406372275,0.2581664910432034,0.20833333333333334,0.26229508196721313,0.22954091816367264,0.32603550295857986,0.0,0.27323746054016135,0.25911812738160045,0.2847173761339846,0.31357006975269497,0.3189887036040882,0.19391634980988592,0.3117017604418364,0.05357142857142857,0.1,0.0967741935483871,0.3450756636070454,0.10576923076923077,0.17094017094017094,0.2336448598130841,0.2736633663366337,0.32337402076881033,0.319967598217902,0.297423887587822,0.3044328552803129,0.22575976845151954,0.0,0.2620232172470978,0.2570036540803898,0.16796875,0.31493258712795724,0.0,0.32037957523723454,0.28544372294372294,0.27000394166338193,0.25825825825825827,0.17098445595854922,0.1892744479495268,0.0625,0.2997658079625293,0.26433187408797165,0.19176319176319176,0.2774013551215624,0.3243606998654105,0.28546409807355516,0.22346850733390855,0.3153846153846154,0.1523046092184369,0.200836820083682,0.08333333333333333,0.31922398589065254,0.2958579881656805,0.2805336339721909,0.22340425531914893,0.18269230769230768,0.30532948280388555,0.19325153374233128,0.19318181818181818,0.2602692440455644,0.30321710653053363,0.33432638199271764,0.27454498846449626,0.25967812092214004,0.16167664670658682,0.29535327816677276,0.33004714959279896,0.23426573426573427,0.22429906542056074,0.2617477328936521,0.1908713692946058,0.29393673110720564,0.27344434706397897,0.311368778280543,0.1935483870967742,0.0,0.15789473684210525,0.2757830404889228,0.23471400394477318,0.16326530612244897,0.3219420221541362,0.27784156142365096,0.3016643550624133,0.2956043956043956,0.29935089728904163,0.12030075187969924,0.27121771217712176,0.2833333333333333,0.3380135205408216,0.15397350993377484,0.22965116279069767,0.23671013039117353,0.10434782608695652,0.2839960379227395,0.27662721893491127,0.30165912518853694,0.3000697836706211,0.30940511797939513,0.30541809415048854,0.08695652173913043,0.12727272727272726,0.28532534712768853,0.32472647702407004,0.3112155020551967,0.3319446510935873,0.12365591397849462,0.26482389656709765,0.16550522648083624,0.27169197396963124,0.3019471859162443,0.2895412844036697,0.1392757660167131,0.2697841726618705,0.0,0.2604957005563986,0.0,0.27552712627339493,0.28805378383037405,0.2838616714697406,0.27741935483870966,0.26407035175879395,0.2574803149606299,0.28308823529411764,0.26717557251908397,0.3613070051716032,0.20674486803519063,0.31435022579026595,0.3004379562043796,0.2844476395878265,0.29672815871910896,0.20588235294117646,0.2867593269934162,0.3039637599093998,0.0,0.28044871794871795,0.168,0.09782608695652174,0.030303030303030304,0.3557189858718792,0.25702046644455023,0.0,0.21611001964636542,0.3228110599078341,0.3363925167666784,0.25558659217877094,0.2864602760164118,0.28165829145728644,0.265810746552544,0.16247139588100687,0.1724137931034483,0.1632088520055325,0.23059006211180125,0.33040862371521684,0.15920398009950248,0.1485148514851485,0.2777987184319638,0.29984484096198605,0.1696,0.29963606955115246,0.3421985815602837,0.3011622031328954,0.24977777777777777,0.2847849656667871,0.2812753309916239,0.27146067415730335,0.27516584943755407,0.2841033102946526,0.0,0.33817157712305024,0.22727272727272727,0.16593886462882096,0.1819148936170213,0.11458333333333333,0.2913999443362093,0.31361439760039994,0.16076294277929154,0.32733990147783254,0.13372093023255813,0.2830069488313329,0.22250639386189258,0.2732409770324462,0.2917106652587117,0.2813150228880566,0.13095238095238096,0.23924050632911392,0.25646551724137934,0.27800629082990563,0.3114104595879556,0.125,0.28390367553865653,0.16666666666666666,0.29405491868834976,0.27474923680767555,0.3029953917050691,0.1,0.26282051282051283,0.2716092153126624,0.3112629181993344,0.29349967170059094,0.13471502590673576,0.2830551989730424,0.2914883499762244,0.29504353650368387,0.20150862068965517,0.2754360465116279,0.31644470179502027,0.2745976777347729,0.2614223281684545,0.3474431123073159,0.5,0.16149068322981366,0.30304311073541845,0.2517241379310345,0.354712771890686,0.16363636363636364,0.309674861221253,0.08108108108108109,0.27586206896551724,0.29141583054626535,0.28640629730547984,0.28159602901870945,0.18640093786635403,0.33700852922820884,0.2126865671641791,0.28604382929642447,0.3390304026294166,0.11764705882352941,0.21100917431192662,0.3097064268711981,0.3083219645293315,0.2638997650743931,0.2738187451587916,0.31474369677742525,-0.0,0.28291116660720655,0.2692307692307692,0.08108108108108109,0.32085905349794236,0.25834542815674894,0.25397412199630315,0.29983525535420097,0.32880258899676373,0.09401709401709402,0.1301775147928994,0.3026315789473684,0.14285714285714285,0.28819068255687974,0.24200278164116829,0.27313432835820894,0.27049924357034794,0.29054189162167565,0.0,0.3010043942247332,0.14576271186440679,0.1548974943052392,0.2857142857142857,0.08363636363636363,0.0,0.3392496974586527,0.2518867924528302,0.3866446826051113,0.16097560975609757,0.16981132075471697,0.17647058823529413,0.10526315789473684,0.2869674185463659,0.27588488256698646,0.3011776497118517,0.20677361853832443,0.3127253992787223,0.0,0.12037037037037036,0.24898785425101214,0.18903150525087514,0.14979757085020243,0.13025210084033614,0.26985559566787004,0.34119824196160076,0.34847205807867637,0.30911349169383634,0.28736517719568566,0.3266832917705736,0.36036036036036034,0.2508710801393728,0.30595570844979575,0.3184127752238084,0.27986577181208055,0.3029958285930982,0.28966709900562043,0.2575593952483801,0.23852520692249812,0.25180897250361794,0.29477351916376304,0.2862860754160522,0.2952322738386308,0.28795298726738494,0.0,0.29941860465116277,0.28431372549019607,0.2856093979441997,0.2623642943305187,0.23626373626373626,0.25386912842791204,0.298131910026687,0.16666666666666666,0.25,0.11143695014662756,0.29814844120905204,0.27218934911242604,0.2772082018927445,0.2844752818733738,0.2710843373493976,0.33007953723788863,0.16772151898734178,0.20212765957446807,0.10606060606060606,0.30526720492118414,0.21287128712871287,0.09302325581395349,0.10948905109489052,0.23249299719887956,0.28091603053435116,0.2908855850032321,0.280600157936299,0.20097244732576985,0.27359781121751026,0.1366906474820144,0.23682409308692676,0.2996524329692155,0.15714285714285714,0.28771228771228774,0.2336448598130841,0.13768115942028986,-0.0,0.13142857142857142,0.22355769230769232,0.1926605504587156,0.29076175040518637,0.07894736842105263,0.3152903076567199,0.31268043526537864,0.32100170745589074,0.14102564102564102,0.19230769230769232,0.3028571428571429,0.2744135297326787,0.3371239911958914,0.16666666666666666,0.17559863169897377,0.14285714285714285,0.2329390354868062,0.24501108647450112,0.32130747321307473,0.31733630952380953,0.28428634425988536,0.24471830985915494,0.22110552763819097,0.26937021619444074,0.10810810810810811,0.15481171548117154,0.28912213740458015,0.2992056487202118,0.2949376375641966,0.0,0.09302325581395349,0.3154303708887334,0.3039823894336602,0.2789281364190012,0.19057665260196907,0.30253521126760563,0.24267534773601657,0.28189611699445283,0.31705498602050325,0.12903225806451613,0.2810065907729179,0.2863836017569546,0.08888888888888889,0.0,0.258160237388724,0.18289085545722714,0.2848101265822785,0.1206140350877193,0.18333333333333332,0.2688128772635815,0.25929127052722556,0.28050108932461876,0.14210526315789473,0.20766773162939298,0.34352941176470586,0.17647058823529413,0.3333333333333333,0.3252873563218391,0.25885558583106266,0.27586206896551724,0.27092740534907955,0.10909090909090909,0.30093793653961287,0.29413515927359335,0.3612662942271881,0.2875516766192007,0.2,0.1619047619047619,0.2863849765258216,0.05,0.12421052631578948,0.2848242100578549,0.20076481835564053,0.3032973280272882,0.30236393622869706,0.30385487528344673,0.2309899569583931,0.15384615384615385,0.2808499743983615,0.2139673105497771,0.2604403948367502,0.28168291431503334,0.20347394540942929,0.2800865800865801,0.3071008593396653,0.19038461538461537,0.24111431316042267,0.2903158769742311,0.288803722967424,0.29354838709677417,0.3020804817957843,0.22510822510822512,0.23056118999323869,0.27788178657395024,0.2611207394569613,0.3107773851590106,0.23800564440263405,0.20280811232449297,0.2961165048543689,0.07317073170731707,0.14516129032258066,0.3245518739815318,0.30250696378830083,0.08333333333333333,0.2824074074074074,0.30422832980972514,0.1933534743202417,0.2938271604938272,0.2906552094522019,0.30483592400690845,0.0975609756097561,0.2961841308298001,0.3170871559633027,0.1761194029850746,0.3396913844834976,0.26003824091778205,0.08940397350993377,0.2561942517343905,0.1038961038961039,0.07692307692307693,0.1417004048582996,0.19008264462809918,0.3394460362941738,0.3090770791075051,0.14849187935034802,0.14666666666666667,0.3201296362981635,0.28735632183908044,0.0625,0.05,0.2289156626506024,0.2975161987041037,0.3066863142383496,0.305747738158595,1.0,0.26792885829030405,0.25169648365206665,0.31790547166111,0.2876280535855004,0.32501744591765525,0.3280373831775701,0.30812588069516206,0.15736040609137056,0.2665806451612903,0.0,0.2957495545940443,0.31894374282433985,0.3170910423154424,0.2708029197080292,0.29125338142470697,0.28278573434428533,0.0,0.323437287212311,0.2787381158167675,0.23962264150943396,0.11842105263157894,0.13953488372093023,0.24158125915080528,0.3125,0.29169435215946843,0.26738525730180807,0.3023536511768256,0.2916221985058698,0.14285714285714285,0.2947545717035611,0.25452749423773463,0.3093638877913868,0.30859134713963504,0.3203209715896769,0.10736196319018405,0.3108695652173913,0.18115942028985507,0.1415525114155251,0.15789473684210525],\"xaxis\":\"x\",\"y\":[0,772,2,523,5,25,433,2470,1,6,9,1022,216,1082,0,1588,4,1832,3,999,2,260,28,33,707,7,3,565,0,44,293,2,1532,1031,815,1848,1325,124,15,999,1281,382,706,846,1168,1236,2101,1216,1777,2134,97,248,13,418,493,505,143,348,1661,35,490,2529,1843,5,849,313,59,77,462,462,121,8,87,4,660,470,1302,26,27,77,1010,70,1103,369,3,90,401,309,131,1576,1579,1328,76,1296,766,0,217,4,1324,13,72,712,893,1583,1,140,56,71,1564,915,49,775,2866,492,5,1981,573,474,3,508,714,4,0,292,1790,2,12,811,14,812,65,452,1219,3,932,195,40,690,962,938,925,54,83,1009,1073,2165,849,237,806,1308,342,765,1087,28,1146,969,439,432,1424,49,1010,685,2,5,1311,1200,2135,153,1759,61,763,1473,41,570,748,4,9,15,33,10,1316,48,4,7,2514,1239,1262,1726,105,1702,1823,0,484,508,1377,1963,2942,2617,696,106,124,287,1274,0,442,978,408,0,42,170,50,122,142,733,755,30,2,516,1550,690,441,1905,970,129,603,287,665,692,539,488,1053,657,425,1171,0,1057,558,86,499,31,1906,22,1524,1205,861,432,62,106,11,1216,26,77,238,726,89,1513,11,1186,118,615,285,23,1366,44,94,1187,699,0,874,778,591,1751,1696,53,990,115,320,1478,2,2,53,69,1415,1,2935,1886,471,2,81,84,664,2010,833,1017,1838,1775,1260,32,1,745,831,1500,1,99,2,26,430,41,655,625,2,31,1272,35,2191,853,141,567,6,0,1396,2143,1070,363,1471,518,976,424,627,66,187,1020,383,1351,8,682,1597,989,40,80,819,129,291,647,0,925,1170,91,21,562,181,1064,1041,194,72,1355,12,794,1728,795,613,1608,950,1001,27,12,95,91,581,582,1176,82,866,32,64,803,379,106,43,964,1646,1958,309,95,0,413,1153,1543,37,3,1651,2,844,2715,1046,9,256,543,448,1203,76,1273,1422,26,185,1231,1318,14,54,983,50,2,2107,1401,56,2,1447,2077,2018,1392,1307,1393,76,1443,1113,1804,143,313,514,763,110,182,1479,2375,60,10,2,1534,24,1225,827,143,1647,1253,1609,2519,2055,0,92,69,1044,901,34,289,941,901,1757,0,1700,1482,1710,92,2249,4,1382,267,1,483,104,35,501,458,2210,1877,847,116,46,722,1913,1725,94,741,159,12,4,52,1202,1199,3,1,557,506,995,27,1000,98,223,2184,1677,695,627,255,1415,1122,40,1531,1571,1820,0,650,81,226,383,37,1889,1,1884,601,338,1113,1229,819,1977,2087,865,629,998,624,1868,30,26,733,2109,213,0,44,110,458,1958,1329,8,2158,849,1477,1,157,19,115,1721,32,356,0,1206,1,64,781,198,808,1598,990,9,713,858,559,518,1230,1826,14,390,453,1188,117,2176,1904,211,1231,1,31,1273,49,1558,645,437,700,438,532,3,119,42,731,21,51,0,1730,833,4,801,645,66,49,1425,709,1335,596,306,96,1687,29,0,25,795,2326,64,1982,105,70,1257,260,37,0,58,29,1579,261,965,2192,127,1341,293,828,1035,287,2259,0,1178,1120,36,166,36,0,348,569,1,972,1208,750,832,281,1494,974,39,38,0,2705,1276,253,335,276,1134,1931,921,787,1,709,1572,1591,1104,1541,2651,1365,164,379,644,1109,361,176,2251,1167,916,8,1287,1729,1522,76,49,1072,74,20,286,254,980,223,1061,63,510,537,1487,53,23,2461,1056,541,616,17,56,1202,710,1583,2769,56,2,847,2,2089,76,559,39,2326,984,891,212,1122,1142,2380,922,165,87,34,1430,965,1841,877,515,26,778,983,0,1312,1,2121,2561,17,752,657,494,1505,756,853,1,1434,1167,1159,48,38,2038,136,454,736,31,0,627,3,813,1241,912,1096,1093,58,1286,97,587,1114,634,975,220,469,33,1548,39,7,949,1185,520,834,523,546,500,36,253,107,94,368,530,1680,959,219,9,966,75,115,548,106,39,111,855,731,175,1282,549,180,251,113,2256,961,1376,1366,802,32,5,1294,90,818,1201,1493,91,2099,3,1811,1887,119,68,21,1437,21,1085,1464,1113,309,619,1516,107,57,617,1247,1159,1631,397,1597,2,7,992,2054,251,287,719,1779,441,2256,1298,162,1386,1078,10,4,66,1414,1949,429,613,1106,767,196,697,210,274,0,2,5,1160,23,1235,8,2061,68,395,65,699,1343,1282,59,648,19,1333,0,1439,1264,748,1356,2063,695,38,4,92,1697,3,1405,178,630,164,453,195,741,79,615,1359,514,2223,2446,529,1,668,1304,1055,170,2,441,31,225,1139,1913,62,1463,117,4,4,467,1572,877,59,245,23,564,10,1065,42,920,719,718,22,98,2276,329,27,506,613,1313,1645,1298,20,3,2548,1329,27,38,207,30,74,105,542,545,24,231,1461,1202,849,123,631,1534,1048,1323,1376,687,1861,0,1,433,1479,5,918,353,661,1515,1075,489,1059,1123,1269,467,169,52,190,52,31,0,758,35,1490,1925,1064,2,1631,1253,88,461,0,1678,82,400,35,1373,3,2586,474,1395,132,2,235,3,1591,532,1235,16,877,1726,199,1482,0,323,1170,138,14,77,1776,84,0,1491,308,635,1817,1910,446,2280,336,12,1440,438,1706,2333,92,564,85,700,69,946,1195,1696,1651,774,481,17,0,580,1108,12,1,352,351,127,1747,841,178,1931,62,12,24,5,910,1594,29,786,1562,180,2599,19,799,145,2,795,633,766,96,759,1309,939,284,10,632,977,831,209,513,2010,38,382,893,1553,1897,1115,386,1889,414,1100,77,1215,1,1100,2041,1375,1946,0,470,2,0,10,835,1003,1206,95,220,1954,1209,1418,12,144,1936,2591,717,1,368,1485,662,145,1691,1104,609,1029,1238,1415,0,1612,20,411,257,13,738,0,2445,884,746,512,1564,1178,7,844,1508,7,135,8,124,59,518,960,788,1400,254,2003,397,446,0,214,75,1833,864,1688,2143,1755,1383,66,3,24,469,707,2299,4,45,26,23,2251,2138,1774,124,98,1073,106,727,1092,1064,48,1153,818,2040,3,0,0,382,1618,473,1,1331,1591,1764,81,264,130,60,0,3,1214,6,1,765,967,1075,1459,4,263,644,1257,0,78,2193,169,190,84,1107,438,1126,589,3,1071,880,90,34,827,150,1011,724,1641,1171,31,616,107,4,1333,112,16,43,14,36,52,48,824,1529,178,902,37,4,198,465,747,19,466,1007,6,18,65,199,11,1433,83,42,786,1614,445,262,66,931,1030,59,1609,1954,1120,703,434,1,15,963,1055,54,82,580,76,1009,1052,353,1336,1146,416,914,0,1146,946,493,297,1153,1068,0,38,0,297,806,1379,1164,1069,1402,32,111,546,1191,332,132,77,1222,1447,1061,32,1694,503,610,1087,504,231,128,56,283,963,6,1342,694,2519,160,1230,1321,736,1324,1168,976,222,415,1980,896,13,0,611,0,1297,36,1,1,9,109,6,4,19,6,1818,30,533,517,315,4,1166,2182,215,18,5,1345,1,13,1,1334,31,654,1450,900,163,1370,6,154,47,287,1176,1002,929,101,1336,1941,1250,96,1492,53,516,11,1014,1005,50,197,404,14,793,2133,947,1048,1146,547,19,854,1144,1310,591,880,1921,342,107,6,762,524,1095,939,91,739,486,1278,6,871,103,1141,870,1995,63,3,1014,1507,428,99,24,4,92,1262,83,1047,1230,1993,79,666,33,494,479,99,1471,1774,1475,655,682,302,0,632,2,991,2,1,2048,8,1749,1084,196,461,180,1319,164,98,1699,1,0,705,190,529,22,991,8,614,813,883,364,882,2452,0,1429,360,31,439,171,410,652,2034,1043,1427,1166,455,934,986,1056,241,21,724,1103,810,327,69,54,676,536,47,32,1772,170,5,835,774,6,767,1714,1220,56,730,51,4,794,781,1990,515,30,1469,1358,55,487,1,1593,0,637,1293,1463,3465,568,33,1331,882,2051,628,940,773,1016,1252,324,1447,992,697,81,1229,1254,3,15,1493,0,0,61,1140,1565,723,1014,1292,87,127,145,141,1480,1933,1,59,1115,257,1196,1020,548,1,1920,8,1272,778,79,1103,245,78,4,1502,1339,1454,890,176,833,708,610,2060,13,2352,1613,1571,232,278,0,1643,531,799,574,1724,0,935,91,8,914,451,25,1085,230,138,1147,1390,1570,34,1513,1128,603,2195,1465,1488,1176,334,40,475,16,1313,181,0,2461,434,6,814,0,1931,0,87,751,241,236,19,439,63,546,1091,699,1575,0,259,1696,376,837,824,66,235,648,882,626,354,1564,155,45,2,1154,63,1766,510,1103,115,943,1311,1839,856,153,58,15,1190,1081,98,2340,2150,33,24,109,750,464,56,799,1784,155,62,72,1418,120,47,1321,122,1454,27,593,6,1170,139,913,565,993,2092,2212,917,22,813,17,1380,19,8,60,1303,2,84,2,429,597,599,131,147,267,15,633,746,33,422,291,1061,450,1099,248,283,1,14,843,99,1561,47,2074,1124,26,1185,1429,1452,15,144,628,130,1239,1836,48,43,298,945,663,954,9,49,1273,972,191,1147,460,7,2143,0,36,28,494,0,165,41,2273,51,1959,37,404,686,167,958,183,16,455,808,1109,32,107,1,45,21,72,709,795,1875,901,124,177,1342,512,55,7,749,10,0,1563,7,1021,1518,736,667,1122,2,22,85,1155,549,35,38,53,1166,26,762,935,18,4,18,690,33,576,28,982,354,431,0,46,1252,25,7,591,1658,40,1112,1,38,2428,1407,49,78,90,1415,105,1425,805,2129,40,187,661,1671,2,3,1145,1251,1527,1,1005,390,9,1026,1713,25,1934,65,1619,0,881,35,1177,404,1344,923,1279,877,1314,237,1795,15,798,1960,1,1334,545,898,129,906,146,629,853,742,1802,6,2008,6,1197,1031,2169,76,2,6,13,104,52,11,956,1042,126,129,1486,77,1194,250,922,1349,1332,340,1,707,164,733,1,128,1448,1325,1889,6,130,463,612,159,35,971,1160,0,1172,877,618,713,1599,74,2247,487,666,28,1227,91,512,1246,355,1925,0,1936,191,917,322,4,0,7,68,504,925,0,401,57,1253,2011,1056,2153,176,1826,332,748,856,1379,706,1127,920,596,1109,84,80,357,2031,971,951,42,291,1068,1008,1530,52,1153,1203,1397,306,5,362,1205,432,393,1501,2,867,1711,491,640,115,1301,675,972,857,785,326,56,156,568,1291,16,119,9,826,6,1482,875,684,2254,721,48,79,24,39,2490,1750,1626,2405,1066,2084,82,694,1602,73,803,23,230,1926,2,1639,1273,1240,97,257,55,1588,103,1336,2091,1439,60,21,201,3,0,5,267,0,916,172,1316,1004,456,0,152,1270,112,1108,28,1580,294,384,56,1227,0,124,934,972,1693,1521,826,944,55,2,1142,642,613,899,406,11,722,2100,623,1617,1284,4,1934,41,33,104,834,1381,1526,1270,325,695,1046,49,1,848,0,57,79,855,36,1003,2,98,1963,15,337,423,324,1244,1173,1138,69,623,57,26,9,315,12,137,1,1317,212,592,1593,420,60,1619,1589,1623,2,678,1604,44,933,0,306,0,1399,1052,16,134,706,958,926,1615,0,627,56,1318,56,11,1173,375,1014,1503,1222,618,333,1279,1257,487,61,54,46,920,1603,1216,876,1275,84,92,0,698,86,667,1494,269,438,2138,667,71,552,1054,9,1149,1099,51,0,1229,1292,597,733,2,69,661,401,676,972,1059,1442,68,70,174,1,1558,1862,1563,2111,950,1069,680,46,444,3,42,5,1170,308,329,9,722,2131,63,776,1380,0,11,797,2,1043,262,1616,10,802,22,87,311,192,833,630,0,0,347,1,2225,1131,238,253,910,174,1484,813,233,3,152,1018,52,281,59,2,277,460,1379,670,995,695,73,382,51,24,65,401,857,72,32,0,1016,1254,874,600,32,533,601,8,152,410,1354,493,1421,597,1049,1418,0,560,66,79,35,1140,99,1118,1120,1551,626,0,1615,33,10,2,44,1268,731,1100,2239,58,1917,2743,745,48,546,831,905,1,1575,310,475,2105,1259,1385,1,821,2156,10,1032,1125,1173,1619,29,464,2472,484,11,104,259,207,175,1,101,2020,67,529,1355,54,22,929,22,1211,1162,27,1796,1143,922,622,942,733,10,48,0,48,1229,640,3020,132,620,1306,279,77,2712,82,132,1013,4,1789,1782,198,1613,638,189,1340,7,1050,38,174,44,349,1157,455,416,831,117,87,1876,1683,1117,28,100,20,468,1146,36,1687,425,1520,1897,625,83,1315,1750,1,0,445,386,771,1370,45,56,41,455,933,0,16,72,832,461,177,25,1455,82,179,748,289,501,1352,1,27,855,1680,180,657,460,380,443,463,1130,1863,835,1700,185,252,412,2023,381,0,743,203,2217,1604,2043,638,17,1705,1212,2757,88,1941,133,457,1,168,0,374,29,145,1096,2142,4,129,1417,9,1,403,95,1369,89,1664,1064,128,1776,309,689,2,450,14,1716,1402,1996,404,2,19,13,1252,199,248,214,471,1361,2825,798,1217,71,677,0,7,499,248,1804,315,228,544,69,1,609,19,1267,619,1302,1206,0,3,97,84,1387,2303,1660,2574,1432,2,261,109,1543,1016,2210,160,29,682,112,50,31,2,40,928,1502,11,547,5,536,8,649,886,6,774,1231,51,98,4,512,49,864,1352,786,1243,714,8,573,1226,114,2327,480,830,693,127,187,171,3,0,4,1972,140,50,1357,1142,1233,1070,77,88,1,181,908,1118,1432,26,1129,1694,93,43,65,69,38,650,2,85,637,1,0,120,1778,674,0,1619,911,950,516,0,1660,1220,578,1527,812,103,483,721,615,731,6,365,346,1127,146,1146,929,22,22,827,628,0,3115,1570,4,1,784,3,60,28,670,68,1375,9,122,54,1660,7,6,2077,1394,2455,887,706,473,1,164,18,463,122,196,298,836,1206,726,1063,390,4256,69,904,521,7,804,924,1193,1256,239,1049,157,1468,131,158,1242,95,250,24,330,27,908,1854,50,140,65,1926,103,11,959,245,123,0,604,988,476,2513,370,51,58,0,25,23,898,151,155,190,296,1070,158,1674,661,31,7,1578,22,1012,1317,558,6,1666,46,105,1500,11,40,1830,592,317,365,1278,17,321,351,1949,2,85,869,972,1506,58,357,117,320,529,117,0,63,83,619,781,2,699,989,44,829,721,1766,1241,558,181,905,58,386,1131,1455,1992,187,81,1,699,1355,0,537,893,1412,58,1557,1807,9,35,953,611,1,1245,1393,152,1286,1724,1000,1440,107,170,69,3,225,263,495,2084,34,2689,739,14,214,611,0,25,23,0,1564,364,29,671,167,361,88,1338,73,81,1,497,1104,1217,114,2152,1703,136,194,2472,455,752,580,48,45,2029,732,1098,1311,1198,329,1566,1343,6,1151,1,0,601,1454,73,252,102,1458,409,76,67,594,3,686,100,1456,881,156,1597,34,214,715,1301,122,0,3,1488,33,118,941,1087,2020,849,165,410,87,435,852,1509,467,902,1122,855,984,764,671,39,990,911,3,2095,0,876,77,12,12,2408,113,611,70,594,5,92,110,1759,3,901,1227,448,1090,922,367,996,10,192,22,1,1010,3,2,411,585,1546,894,400,585,1366,66,819,24,25,1154,356,1243,1138,8,1417,2716,21,4,696,751,1578,1453,1239,1024,460,214,1515,1859,847,547,245,10,336,115,1653,0,779,476,408,989,593,102,1806,3,2,15,1391,22,120,50,1382,1775,790,381,1401,312,0,1106,633,43,1238,0,1418,1055,685,602,33,60,1,640,1268,149,696,1446,326,777,820,76,96,4,905,350,1493,63,76,2326,63,102,754,1574,3030,1071,597,54,464,1540,134,48,635,46,1338,624,1101,42,0,9,361,833,40,1366,484,435,807,784,16,1029,323,650,93,158,236,12,2007,748,1000,1290,1862,2407,10,14,2096,1484,1060,2231,23,594,95,501,1132,789,50,450,0,1030,0,1163,1671,591,430,1051,327,847,245,1537,141,1253,1029,1187,1705,63,1176,1342,0,175,84,9,1,1838,540,0,110,1401,1906,183,768,1121,559,71,5,118,297,1318,64,15,737,1546,106,741,1544,596,281,788,1041,604,954,1562,0,1561,205,38,171,22,1047,1882,59,1329,69,448,87,1499,1105,676,33,189,714,1149,393,18,1344,12,1103,1260,1315,5,738,1568,1777,447,52,441,613,881,187,379,1093,1348,658,1420,1,104,717,146,2544,9,1562,15,16,1307,946,1475,159,1620,114,496,2063,72,46,1171,452,337,707,1885,0,793,7,3,2495,1246,687,1274,1524,11,22,1196,26,1596,174,549,894,1453,0,2877,43,68,508,23,0,1682,267,1407,33,90,36,2,458,834,1202,116,1214,0,13,492,162,74,62,299,1475,2064,1991,746,786,2160,360,1423,1316,2085,799,670,477,317,174,423,1359,966,588,0,1236,522,389,870,215,935,782,3,9,38,1884,414,703,656,45,1826,53,19,14,794,43,4,30,498,368,900,1066,124,200,57,346,1207,88,1152,50,19,0,23,93,63,1794,3,1363,1408,1692,22,10,848,503,1838,7,308,1,256,221,2369,1706,1934,278,264,2006,4,37,303,678,804,0,4,1803,1519,916,271,537,820,559,1701,72,938,978,28,0,435,248,1170,55,11,668,600,515,27,130,2336,15,1,1981,95,288,780,18,1508,988,1552,1878,3,17,1159,1,59,640,105,2134,1100,536,161,4,1097,144,343,1098,82,1294,1358,99,251,1397,1055,455,2207,156,682,1039,452,1759,253,130,1281,3,9,1195,543,1,793,1439,128,833,1353,353,16,1467,553,59,1585,408,27,517,8,2,35,69,1777,1219,64,11,889,175,1,4,133,1102,1665,1149,2,467,816,1621,1095,1863,1053,656,31,1033,0,1162,1389,1731,371,969,1007,0,2375,645,254,36,6,165,975,878,769,2004,1093,1,1225,773,1566,1505,1477,35,1287,50,31,21],\"yaxis\":\"y\",\"type\":\"scattergl\"}],                        {\"template\":{\"data\":{\"bar\":[{\"error_x\":{\"color\":\"#2a3f5f\"},\"error_y\":{\"color\":\"#2a3f5f\"},\"marker\":{\"line\":{\"color\":\"#E5ECF6\",\"width\":0.5},\"pattern\":{\"fillmode\":\"overlay\",\"size\":10,\"solidity\":0.2}},\"type\":\"bar\"}],\"barpolar\":[{\"marker\":{\"line\":{\"color\":\"#E5ECF6\",\"width\":0.5},\"pattern\":{\"fillmode\":\"overlay\",\"size\":10,\"solidity\":0.2}},\"type\":\"barpolar\"}],\"carpet\":[{\"aaxis\":{\"endlinecolor\":\"#2a3f5f\",\"gridcolor\":\"white\",\"linecolor\":\"white\",\"minorgridcolor\":\"white\",\"startlinecolor\":\"#2a3f5f\"},\"baxis\":{\"endlinecolor\":\"#2a3f5f\",\"gridcolor\":\"white\",\"linecolor\":\"white\",\"minorgridcolor\":\"white\",\"startlinecolor\":\"#2a3f5f\"},\"type\":\"carpet\"}],\"choropleth\":[{\"colorbar\":{\"outlinewidth\":0,\"ticks\":\"\"},\"type\":\"choropleth\"}],\"contour\":[{\"colorbar\":{\"outlinewidth\":0,\"ticks\":\"\"},\"colorscale\":[[0.0,\"#0d0887\"],[0.1111111111111111,\"#46039f\"],[0.2222222222222222,\"#7201a8\"],[0.3333333333333333,\"#9c179e\"],[0.4444444444444444,\"#bd3786\"],[0.5555555555555556,\"#d8576b\"],[0.6666666666666666,\"#ed7953\"],[0.7777777777777778,\"#fb9f3a\"],[0.8888888888888888,\"#fdca26\"],[1.0,\"#f0f921\"]],\"type\":\"contour\"}],\"contourcarpet\":[{\"colorbar\":{\"outlinewidth\":0,\"ticks\":\"\"},\"type\":\"contourcarpet\"}],\"heatmap\":[{\"colorbar\":{\"outlinewidth\":0,\"ticks\":\"\"},\"colorscale\":[[0.0,\"#0d0887\"],[0.1111111111111111,\"#46039f\"],[0.2222222222222222,\"#7201a8\"],[0.3333333333333333,\"#9c179e\"],[0.4444444444444444,\"#bd3786\"],[0.5555555555555556,\"#d8576b\"],[0.6666666666666666,\"#ed7953\"],[0.7777777777777778,\"#fb9f3a\"],[0.8888888888888888,\"#fdca26\"],[1.0,\"#f0f921\"]],\"type\":\"heatmap\"}],\"heatmapgl\":[{\"colorbar\":{\"outlinewidth\":0,\"ticks\":\"\"},\"colorscale\":[[0.0,\"#0d0887\"],[0.1111111111111111,\"#46039f\"],[0.2222222222222222,\"#7201a8\"],[0.3333333333333333,\"#9c179e\"],[0.4444444444444444,\"#bd3786\"],[0.5555555555555556,\"#d8576b\"],[0.6666666666666666,\"#ed7953\"],[0.7777777777777778,\"#fb9f3a\"],[0.8888888888888888,\"#fdca26\"],[1.0,\"#f0f921\"]],\"type\":\"heatmapgl\"}],\"histogram\":[{\"marker\":{\"pattern\":{\"fillmode\":\"overlay\",\"size\":10,\"solidity\":0.2}},\"type\":\"histogram\"}],\"histogram2d\":[{\"colorbar\":{\"outlinewidth\":0,\"ticks\":\"\"},\"colorscale\":[[0.0,\"#0d0887\"],[0.1111111111111111,\"#46039f\"],[0.2222222222222222,\"#7201a8\"],[0.3333333333333333,\"#9c179e\"],[0.4444444444444444,\"#bd3786\"],[0.5555555555555556,\"#d8576b\"],[0.6666666666666666,\"#ed7953\"],[0.7777777777777778,\"#fb9f3a\"],[0.8888888888888888,\"#fdca26\"],[1.0,\"#f0f921\"]],\"type\":\"histogram2d\"}],\"histogram2dcontour\":[{\"colorbar\":{\"outlinewidth\":0,\"ticks\":\"\"},\"colorscale\":[[0.0,\"#0d0887\"],[0.1111111111111111,\"#46039f\"],[0.2222222222222222,\"#7201a8\"],[0.3333333333333333,\"#9c179e\"],[0.4444444444444444,\"#bd3786\"],[0.5555555555555556,\"#d8576b\"],[0.6666666666666666,\"#ed7953\"],[0.7777777777777778,\"#fb9f3a\"],[0.8888888888888888,\"#fdca26\"],[1.0,\"#f0f921\"]],\"type\":\"histogram2dcontour\"}],\"mesh3d\":[{\"colorbar\":{\"outlinewidth\":0,\"ticks\":\"\"},\"type\":\"mesh3d\"}],\"parcoords\":[{\"line\":{\"colorbar\":{\"outlinewidth\":0,\"ticks\":\"\"}},\"type\":\"parcoords\"}],\"pie\":[{\"automargin\":true,\"type\":\"pie\"}],\"scatter\":[{\"marker\":{\"colorbar\":{\"outlinewidth\":0,\"ticks\":\"\"}},\"type\":\"scatter\"}],\"scatter3d\":[{\"line\":{\"colorbar\":{\"outlinewidth\":0,\"ticks\":\"\"}},\"marker\":{\"colorbar\":{\"outlinewidth\":0,\"ticks\":\"\"}},\"type\":\"scatter3d\"}],\"scattercarpet\":[{\"marker\":{\"colorbar\":{\"outlinewidth\":0,\"ticks\":\"\"}},\"type\":\"scattercarpet\"}],\"scattergeo\":[{\"marker\":{\"colorbar\":{\"outlinewidth\":0,\"ticks\":\"\"}},\"type\":\"scattergeo\"}],\"scattergl\":[{\"marker\":{\"colorbar\":{\"outlinewidth\":0,\"ticks\":\"\"}},\"type\":\"scattergl\"}],\"scattermapbox\":[{\"marker\":{\"colorbar\":{\"outlinewidth\":0,\"ticks\":\"\"}},\"type\":\"scattermapbox\"}],\"scatterpolar\":[{\"marker\":{\"colorbar\":{\"outlinewidth\":0,\"ticks\":\"\"}},\"type\":\"scatterpolar\"}],\"scatterpolargl\":[{\"marker\":{\"colorbar\":{\"outlinewidth\":0,\"ticks\":\"\"}},\"type\":\"scatterpolargl\"}],\"scatterternary\":[{\"marker\":{\"colorbar\":{\"outlinewidth\":0,\"ticks\":\"\"}},\"type\":\"scatterternary\"}],\"surface\":[{\"colorbar\":{\"outlinewidth\":0,\"ticks\":\"\"},\"colorscale\":[[0.0,\"#0d0887\"],[0.1111111111111111,\"#46039f\"],[0.2222222222222222,\"#7201a8\"],[0.3333333333333333,\"#9c179e\"],[0.4444444444444444,\"#bd3786\"],[0.5555555555555556,\"#d8576b\"],[0.6666666666666666,\"#ed7953\"],[0.7777777777777778,\"#fb9f3a\"],[0.8888888888888888,\"#fdca26\"],[1.0,\"#f0f921\"]],\"type\":\"surface\"}],\"table\":[{\"cells\":{\"fill\":{\"color\":\"#EBF0F8\"},\"line\":{\"color\":\"white\"}},\"header\":{\"fill\":{\"color\":\"#C8D4E3\"},\"line\":{\"color\":\"white\"}},\"type\":\"table\"}]},\"layout\":{\"annotationdefaults\":{\"arrowcolor\":\"#2a3f5f\",\"arrowhead\":0,\"arrowwidth\":1},\"autotypenumbers\":\"strict\",\"coloraxis\":{\"colorbar\":{\"outlinewidth\":0,\"ticks\":\"\"}},\"colorscale\":{\"diverging\":[[0,\"#8e0152\"],[0.1,\"#c51b7d\"],[0.2,\"#de77ae\"],[0.3,\"#f1b6da\"],[0.4,\"#fde0ef\"],[0.5,\"#f7f7f7\"],[0.6,\"#e6f5d0\"],[0.7,\"#b8e186\"],[0.8,\"#7fbc41\"],[0.9,\"#4d9221\"],[1,\"#276419\"]],\"sequential\":[[0.0,\"#0d0887\"],[0.1111111111111111,\"#46039f\"],[0.2222222222222222,\"#7201a8\"],[0.3333333333333333,\"#9c179e\"],[0.4444444444444444,\"#bd3786\"],[0.5555555555555556,\"#d8576b\"],[0.6666666666666666,\"#ed7953\"],[0.7777777777777778,\"#fb9f3a\"],[0.8888888888888888,\"#fdca26\"],[1.0,\"#f0f921\"]],\"sequentialminus\":[[0.0,\"#0d0887\"],[0.1111111111111111,\"#46039f\"],[0.2222222222222222,\"#7201a8\"],[0.3333333333333333,\"#9c179e\"],[0.4444444444444444,\"#bd3786\"],[0.5555555555555556,\"#d8576b\"],[0.6666666666666666,\"#ed7953\"],[0.7777777777777778,\"#fb9f3a\"],[0.8888888888888888,\"#fdca26\"],[1.0,\"#f0f921\"]]},\"colorway\":[\"#636efa\",\"#EF553B\",\"#00cc96\",\"#ab63fa\",\"#FFA15A\",\"#19d3f3\",\"#FF6692\",\"#B6E880\",\"#FF97FF\",\"#FECB52\"],\"font\":{\"color\":\"#2a3f5f\"},\"geo\":{\"bgcolor\":\"white\",\"lakecolor\":\"white\",\"landcolor\":\"#E5ECF6\",\"showlakes\":true,\"showland\":true,\"subunitcolor\":\"white\"},\"hoverlabel\":{\"align\":\"left\"},\"hovermode\":\"closest\",\"mapbox\":{\"style\":\"light\"},\"paper_bgcolor\":\"white\",\"plot_bgcolor\":\"#E5ECF6\",\"polar\":{\"angularaxis\":{\"gridcolor\":\"white\",\"linecolor\":\"white\",\"ticks\":\"\"},\"bgcolor\":\"#E5ECF6\",\"radialaxis\":{\"gridcolor\":\"white\",\"linecolor\":\"white\",\"ticks\":\"\"}},\"scene\":{\"xaxis\":{\"backgroundcolor\":\"#E5ECF6\",\"gridcolor\":\"white\",\"gridwidth\":2,\"linecolor\":\"white\",\"showbackground\":true,\"ticks\":\"\",\"zerolinecolor\":\"white\"},\"yaxis\":{\"backgroundcolor\":\"#E5ECF6\",\"gridcolor\":\"white\",\"gridwidth\":2,\"linecolor\":\"white\",\"showbackground\":true,\"ticks\":\"\",\"zerolinecolor\":\"white\"},\"zaxis\":{\"backgroundcolor\":\"#E5ECF6\",\"gridcolor\":\"white\",\"gridwidth\":2,\"linecolor\":\"white\",\"showbackground\":true,\"ticks\":\"\",\"zerolinecolor\":\"white\"}},\"shapedefaults\":{\"line\":{\"color\":\"#2a3f5f\"}},\"ternary\":{\"aaxis\":{\"gridcolor\":\"white\",\"linecolor\":\"white\",\"ticks\":\"\"},\"baxis\":{\"gridcolor\":\"white\",\"linecolor\":\"white\",\"ticks\":\"\"},\"bgcolor\":\"#E5ECF6\",\"caxis\":{\"gridcolor\":\"white\",\"linecolor\":\"white\",\"ticks\":\"\"}},\"title\":{\"x\":0.05},\"xaxis\":{\"automargin\":true,\"gridcolor\":\"white\",\"linecolor\":\"white\",\"ticks\":\"\",\"title\":{\"standoff\":15},\"zerolinecolor\":\"white\",\"zerolinewidth\":2},\"yaxis\":{\"automargin\":true,\"gridcolor\":\"white\",\"linecolor\":\"white\",\"ticks\":\"\",\"title\":{\"standoff\":15},\"zerolinecolor\":\"white\",\"zerolinewidth\":2}}},\"xaxis\":{\"anchor\":\"y\",\"domain\":[0.0,1.0],\"title\":{\"text\":\"Avg\"}},\"yaxis\":{\"anchor\":\"x\",\"domain\":[0.0,1.0],\"title\":{\"text\":\"H\"}},\"legend\":{\"title\":{\"text\":\"hof\"},\"tracegroupgap\":0},\"margin\":{\"t\":60},\"height\":600,\"width\":1000},                        {\"responsive\": true}                    ).then(function(){\n                            \nvar gd = document.getElementById('22da6bdf-2ce6-4ee0-a872-153e1a3dd341');\nvar x = new MutationObserver(function (mutations, observer) {{\n        var display = window.getComputedStyle(gd).display;\n        if (!display || display === 'none') {{\n            console.log([gd, 'removed!']);\n            Plotly.purge(gd);\n            observer.disconnect();\n        }}\n}});\n\n// Listen for the removal of the full notebook cells\nvar notebookContainer = gd.closest('#notebook-container');\nif (notebookContainer) {{\n    x.observe(notebookContainer, {childList: true});\n}}\n\n// Listen for the clearing of the current output cell\nvar outputEl = gd.closest('.output');\nif (outputEl) {{\n    x.observe(outputEl, {childList: true});\n}}\n\n                        })                };                            </script>        </div>\n</body>\n</html>"
     },
     "execution_count": 32,
     "metadata": {
     },
     "output_type": "execute_result"
    }
   ],
   "source": [
    "fig = px.scatter(temp, x=\"Avg\", y=\"H\", color=\"hof\", hover_data=['id'], width=1000, height=600)\n",
    "fig.write_html(\"H_AVG_scatter.html\")\n",
    "fig.show()"
   ]
  },
  {
   "cell_type": "code",
   "execution_count": 33,
   "metadata": {
    "collapsed": false
   },
   "outputs": [
    {
     "data": {
      "text/html": [
       "<div>\n",
       "<style scoped>\n",
       "    .dataframe tbody tr th:only-of-type {\n",
       "        vertical-align: middle;\n",
       "    }\n",
       "\n",
       "    .dataframe tbody tr th {\n",
       "        vertical-align: top;\n",
       "    }\n",
       "\n",
       "    .dataframe thead th {\n",
       "        text-align: right;\n",
       "    }\n",
       "</style>\n",
       "<table border=\"1\" class=\"dataframe\">\n",
       "  <thead>\n",
       "    <tr style=\"text-align: right;\">\n",
       "      <th></th>\n",
       "      <th>G</th>\n",
       "      <th>R</th>\n",
       "      <th>H</th>\n",
       "      <th>2B</th>\n",
       "      <th>3B</th>\n",
       "      <th>HR</th>\n",
       "      <th>RBI</th>\n",
       "      <th>SB</th>\n",
       "      <th>BB</th>\n",
       "      <th>SO</th>\n",
       "      <th>...</th>\n",
       "      <th>throws_L</th>\n",
       "      <th>throws_R</th>\n",
       "      <th>Avg</th>\n",
       "      <th>hof</th>\n",
       "      <th>POS_1B</th>\n",
       "      <th>POS_2B</th>\n",
       "      <th>POS_3B</th>\n",
       "      <th>POS_C</th>\n",
       "      <th>POS_OF</th>\n",
       "      <th>POS_SS</th>\n",
       "    </tr>\n",
       "    <tr>\n",
       "      <th>playerID</th>\n",
       "      <th></th>\n",
       "      <th></th>\n",
       "      <th></th>\n",
       "      <th></th>\n",
       "      <th></th>\n",
       "      <th></th>\n",
       "      <th></th>\n",
       "      <th></th>\n",
       "      <th></th>\n",
       "      <th></th>\n",
       "      <th></th>\n",
       "      <th></th>\n",
       "      <th></th>\n",
       "      <th></th>\n",
       "      <th></th>\n",
       "      <th></th>\n",
       "      <th></th>\n",
       "      <th></th>\n",
       "      <th></th>\n",
       "      <th></th>\n",
       "      <th></th>\n",
       "    </tr>\n",
       "  </thead>\n",
       "  <tbody>\n",
       "    <tr>\n",
       "      <th>aaronha01</th>\n",
       "      <td>3298</td>\n",
       "      <td>2174</td>\n",
       "      <td>3771</td>\n",
       "      <td>624</td>\n",
       "      <td>98</td>\n",
       "      <td>755</td>\n",
       "      <td>2297.0</td>\n",
       "      <td>240.0</td>\n",
       "      <td>1402</td>\n",
       "      <td>1383.0</td>\n",
       "      <td>...</td>\n",
       "      <td>0</td>\n",
       "      <td>1</td>\n",
       "      <td>0.344007</td>\n",
       "      <td>True</td>\n",
       "      <td>0</td>\n",
       "      <td>0</td>\n",
       "      <td>0</td>\n",
       "      <td>0</td>\n",
       "      <td>1</td>\n",
       "      <td>0</td>\n",
       "    </tr>\n",
       "    <tr>\n",
       "      <th>abbated01</th>\n",
       "      <td>855</td>\n",
       "      <td>355</td>\n",
       "      <td>772</td>\n",
       "      <td>99</td>\n",
       "      <td>43</td>\n",
       "      <td>11</td>\n",
       "      <td>324.0</td>\n",
       "      <td>142.0</td>\n",
       "      <td>289</td>\n",
       "      <td>283.0</td>\n",
       "      <td>...</td>\n",
       "      <td>0</td>\n",
       "      <td>1</td>\n",
       "      <td>0.280218</td>\n",
       "      <td>False</td>\n",
       "      <td>0</td>\n",
       "      <td>0</td>\n",
       "      <td>0</td>\n",
       "      <td>0</td>\n",
       "      <td>0</td>\n",
       "      <td>1</td>\n",
       "    </tr>\n",
       "    <tr>\n",
       "      <th>abbotku01</th>\n",
       "      <td>702</td>\n",
       "      <td>273</td>\n",
       "      <td>523</td>\n",
       "      <td>109</td>\n",
       "      <td>23</td>\n",
       "      <td>62</td>\n",
       "      <td>242.0</td>\n",
       "      <td>22.0</td>\n",
       "      <td>133</td>\n",
       "      <td>571.0</td>\n",
       "      <td>...</td>\n",
       "      <td>0</td>\n",
       "      <td>1</td>\n",
       "      <td>0.273679</td>\n",
       "      <td>False</td>\n",
       "      <td>0</td>\n",
       "      <td>0</td>\n",
       "      <td>0</td>\n",
       "      <td>0</td>\n",
       "      <td>0</td>\n",
       "      <td>1</td>\n",
       "    </tr>\n",
       "    <tr>\n",
       "      <th>abramca01</th>\n",
       "      <td>567</td>\n",
       "      <td>257</td>\n",
       "      <td>433</td>\n",
       "      <td>64</td>\n",
       "      <td>19</td>\n",
       "      <td>32</td>\n",
       "      <td>138.0</td>\n",
       "      <td>12.0</td>\n",
       "      <td>304</td>\n",
       "      <td>290.0</td>\n",
       "      <td>...</td>\n",
       "      <td>1</td>\n",
       "      <td>0</td>\n",
       "      <td>0.331293</td>\n",
       "      <td>False</td>\n",
       "      <td>0</td>\n",
       "      <td>0</td>\n",
       "      <td>0</td>\n",
       "      <td>0</td>\n",
       "      <td>1</td>\n",
       "      <td>0</td>\n",
       "    </tr>\n",
       "    <tr>\n",
       "      <th>abreubo01</th>\n",
       "      <td>2425</td>\n",
       "      <td>1453</td>\n",
       "      <td>2470</td>\n",
       "      <td>574</td>\n",
       "      <td>59</td>\n",
       "      <td>288</td>\n",
       "      <td>1363.0</td>\n",
       "      <td>400.0</td>\n",
       "      <td>1476</td>\n",
       "      <td>1840.0</td>\n",
       "      <td>...</td>\n",
       "      <td>0</td>\n",
       "      <td>1</td>\n",
       "      <td>0.352656</td>\n",
       "      <td>False</td>\n",
       "      <td>0</td>\n",
       "      <td>0</td>\n",
       "      <td>0</td>\n",
       "      <td>0</td>\n",
       "      <td>1</td>\n",
       "      <td>0</td>\n",
       "    </tr>\n",
       "    <tr>\n",
       "      <th>...</th>\n",
       "      <td>...</td>\n",
       "      <td>...</td>\n",
       "      <td>...</td>\n",
       "      <td>...</td>\n",
       "      <td>...</td>\n",
       "      <td>...</td>\n",
       "      <td>...</td>\n",
       "      <td>...</td>\n",
       "      <td>...</td>\n",
       "      <td>...</td>\n",
       "      <td>...</td>\n",
       "      <td>...</td>\n",
       "      <td>...</td>\n",
       "      <td>...</td>\n",
       "      <td>...</td>\n",
       "      <td>...</td>\n",
       "      <td>...</td>\n",
       "      <td>...</td>\n",
       "      <td>...</td>\n",
       "      <td>...</td>\n",
       "      <td>...</td>\n",
       "    </tr>\n",
       "    <tr>\n",
       "      <th>zimmedo01</th>\n",
       "      <td>1095</td>\n",
       "      <td>353</td>\n",
       "      <td>773</td>\n",
       "      <td>130</td>\n",
       "      <td>22</td>\n",
       "      <td>91</td>\n",
       "      <td>352.0</td>\n",
       "      <td>45.0</td>\n",
       "      <td>246</td>\n",
       "      <td>678.0</td>\n",
       "      <td>...</td>\n",
       "      <td>0</td>\n",
       "      <td>1</td>\n",
       "      <td>0.254527</td>\n",
       "      <td>False</td>\n",
       "      <td>0</td>\n",
       "      <td>0</td>\n",
       "      <td>0</td>\n",
       "      <td>0</td>\n",
       "      <td>0</td>\n",
       "      <td>1</td>\n",
       "    </tr>\n",
       "    <tr>\n",
       "      <th>zimmehe01</th>\n",
       "      <td>1456</td>\n",
       "      <td>695</td>\n",
       "      <td>1566</td>\n",
       "      <td>275</td>\n",
       "      <td>105</td>\n",
       "      <td>58</td>\n",
       "      <td>796.0</td>\n",
       "      <td>175.0</td>\n",
       "      <td>242</td>\n",
       "      <td>432.0</td>\n",
       "      <td>...</td>\n",
       "      <td>0</td>\n",
       "      <td>1</td>\n",
       "      <td>0.309364</td>\n",
       "      <td>False</td>\n",
       "      <td>0</td>\n",
       "      <td>0</td>\n",
       "      <td>0</td>\n",
       "      <td>0</td>\n",
       "      <td>0</td>\n",
       "      <td>1</td>\n",
       "    </tr>\n",
       "    <tr>\n",
       "      <th>zimmery01</th>\n",
       "      <td>1408</td>\n",
       "      <td>793</td>\n",
       "      <td>1505</td>\n",
       "      <td>338</td>\n",
       "      <td>20</td>\n",
       "      <td>215</td>\n",
       "      <td>829.0</td>\n",
       "      <td>41.0</td>\n",
       "      <td>539</td>\n",
       "      <td>1087.0</td>\n",
       "      <td>...</td>\n",
       "      <td>0</td>\n",
       "      <td>1</td>\n",
       "      <td>0.308591</td>\n",
       "      <td>False</td>\n",
       "      <td>0</td>\n",
       "      <td>0</td>\n",
       "      <td>0</td>\n",
       "      <td>0</td>\n",
       "      <td>0</td>\n",
       "      <td>1</td>\n",
       "    </tr>\n",
       "    <tr>\n",
       "      <th>ziskri01</th>\n",
       "      <td>1453</td>\n",
       "      <td>681</td>\n",
       "      <td>1477</td>\n",
       "      <td>245</td>\n",
       "      <td>26</td>\n",
       "      <td>207</td>\n",
       "      <td>792.0</td>\n",
       "      <td>8.0</td>\n",
       "      <td>533</td>\n",
       "      <td>910.0</td>\n",
       "      <td>...</td>\n",
       "      <td>0</td>\n",
       "      <td>1</td>\n",
       "      <td>0.320321</td>\n",
       "      <td>False</td>\n",
       "      <td>0</td>\n",
       "      <td>0</td>\n",
       "      <td>0</td>\n",
       "      <td>0</td>\n",
       "      <td>1</td>\n",
       "      <td>0</td>\n",
       "    </tr>\n",
       "    <tr>\n",
       "      <th>zobribe01</th>\n",
       "      <td>1337</td>\n",
       "      <td>735</td>\n",
       "      <td>1287</td>\n",
       "      <td>296</td>\n",
       "      <td>38</td>\n",
       "      <td>145</td>\n",
       "      <td>643.0</td>\n",
       "      <td>111.0</td>\n",
       "      <td>700</td>\n",
       "      <td>839.0</td>\n",
       "      <td>...</td>\n",
       "      <td>0</td>\n",
       "      <td>1</td>\n",
       "      <td>0.310870</td>\n",
       "      <td>False</td>\n",
       "      <td>0</td>\n",
       "      <td>0</td>\n",
       "      <td>0</td>\n",
       "      <td>0</td>\n",
       "      <td>0</td>\n",
       "      <td>1</td>\n",
       "    </tr>\n",
       "  </tbody>\n",
       "</table>\n",
       "<p>2262 rows × 24 columns</p>\n",
       "</div>"
      ],
      "text/plain": [
       "              G     R     H   2B   3B   HR     RBI     SB    BB      SO  ...  \\\n",
       "playerID                                                                 ...   \n",
       "aaronha01  3298  2174  3771  624   98  755  2297.0  240.0  1402  1383.0  ...   \n",
       "abbated01   855   355   772   99   43   11   324.0  142.0   289   283.0  ...   \n",
       "abbotku01   702   273   523  109   23   62   242.0   22.0   133   571.0  ...   \n",
       "abramca01   567   257   433   64   19   32   138.0   12.0   304   290.0  ...   \n",
       "abreubo01  2425  1453  2470  574   59  288  1363.0  400.0  1476  1840.0  ...   \n",
       "...         ...   ...   ...  ...  ...  ...     ...    ...   ...     ...  ...   \n",
       "zimmedo01  1095   353   773  130   22   91   352.0   45.0   246   678.0  ...   \n",
       "zimmehe01  1456   695  1566  275  105   58   796.0  175.0   242   432.0  ...   \n",
       "zimmery01  1408   793  1505  338   20  215   829.0   41.0   539  1087.0  ...   \n",
       "ziskri01   1453   681  1477  245   26  207   792.0    8.0   533   910.0  ...   \n",
       "zobribe01  1337   735  1287  296   38  145   643.0  111.0   700   839.0  ...   \n",
       "\n",
       "           throws_L  throws_R       Avg    hof  POS_1B  POS_2B  POS_3B  POS_C  \\\n",
       "playerID                                                                        \n",
       "aaronha01         0         1  0.344007   True       0       0       0      0   \n",
       "abbated01         0         1  0.280218  False       0       0       0      0   \n",
       "abbotku01         0         1  0.273679  False       0       0       0      0   \n",
       "abramca01         1         0  0.331293  False       0       0       0      0   \n",
       "abreubo01         0         1  0.352656  False       0       0       0      0   \n",
       "...             ...       ...       ...    ...     ...     ...     ...    ...   \n",
       "zimmedo01         0         1  0.254527  False       0       0       0      0   \n",
       "zimmehe01         0         1  0.309364  False       0       0       0      0   \n",
       "zimmery01         0         1  0.308591  False       0       0       0      0   \n",
       "ziskri01          0         1  0.320321  False       0       0       0      0   \n",
       "zobribe01         0         1  0.310870  False       0       0       0      0   \n",
       "\n",
       "           POS_OF  POS_SS  \n",
       "playerID                   \n",
       "aaronha01       1       0  \n",
       "abbated01       0       1  \n",
       "abbotku01       0       1  \n",
       "abramca01       1       0  \n",
       "abreubo01       1       0  \n",
       "...           ...     ...  \n",
       "zimmedo01       0       1  \n",
       "zimmehe01       0       1  \n",
       "zimmery01       0       1  \n",
       "ziskri01        1       0  \n",
       "zobribe01       0       1  \n",
       "\n",
       "[2262 rows x 24 columns]"
      ]
     },
     "execution_count": 33,
     "metadata": {
     },
     "output_type": "execute_result"
    }
   ],
   "source": [
    "by_player_eligible = pd.get_dummies(by_player_eligible, columns=['POS'])\n",
    "by_player_eligible"
   ]
  },
  {
   "cell_type": "markdown",
   "metadata": {
    "collapsed": false
   },
   "source": [
    "## TRAIN TEST SPLIT / STANDARDIZATION"
   ]
  },
  {
   "cell_type": "code",
   "execution_count": 34,
   "metadata": {
    "collapsed": false
   },
   "outputs": [
    {
     "data": {
      "text/html": [
       "<div>\n",
       "<style scoped>\n",
       "    .dataframe tbody tr th:only-of-type {\n",
       "        vertical-align: middle;\n",
       "    }\n",
       "\n",
       "    .dataframe tbody tr th {\n",
       "        vertical-align: top;\n",
       "    }\n",
       "\n",
       "    .dataframe thead th {\n",
       "        text-align: right;\n",
       "    }\n",
       "</style>\n",
       "<table border=\"1\" class=\"dataframe\">\n",
       "  <thead>\n",
       "    <tr style=\"text-align: right;\">\n",
       "      <th></th>\n",
       "      <th>G</th>\n",
       "      <th>R</th>\n",
       "      <th>H</th>\n",
       "      <th>2B</th>\n",
       "      <th>3B</th>\n",
       "      <th>HR</th>\n",
       "      <th>RBI</th>\n",
       "      <th>SB</th>\n",
       "      <th>BB</th>\n",
       "      <th>SO</th>\n",
       "      <th>...</th>\n",
       "      <th>bats_R</th>\n",
       "      <th>throws_L</th>\n",
       "      <th>throws_R</th>\n",
       "      <th>Avg</th>\n",
       "      <th>POS_1B</th>\n",
       "      <th>POS_2B</th>\n",
       "      <th>POS_3B</th>\n",
       "      <th>POS_C</th>\n",
       "      <th>POS_OF</th>\n",
       "      <th>POS_SS</th>\n",
       "    </tr>\n",
       "    <tr>\n",
       "      <th>playerID</th>\n",
       "      <th></th>\n",
       "      <th></th>\n",
       "      <th></th>\n",
       "      <th></th>\n",
       "      <th></th>\n",
       "      <th></th>\n",
       "      <th></th>\n",
       "      <th></th>\n",
       "      <th></th>\n",
       "      <th></th>\n",
       "      <th></th>\n",
       "      <th></th>\n",
       "      <th></th>\n",
       "      <th></th>\n",
       "      <th></th>\n",
       "      <th></th>\n",
       "      <th></th>\n",
       "      <th></th>\n",
       "      <th></th>\n",
       "      <th></th>\n",
       "      <th></th>\n",
       "    </tr>\n",
       "  </thead>\n",
       "  <tbody>\n",
       "    <tr>\n",
       "      <th>aaronha01</th>\n",
       "      <td>3298</td>\n",
       "      <td>2174</td>\n",
       "      <td>3771</td>\n",
       "      <td>624</td>\n",
       "      <td>98</td>\n",
       "      <td>755</td>\n",
       "      <td>2297.0</td>\n",
       "      <td>240.0</td>\n",
       "      <td>1402</td>\n",
       "      <td>1383.0</td>\n",
       "      <td>...</td>\n",
       "      <td>1</td>\n",
       "      <td>0</td>\n",
       "      <td>1</td>\n",
       "      <td>0.344007</td>\n",
       "      <td>0</td>\n",
       "      <td>0</td>\n",
       "      <td>0</td>\n",
       "      <td>0</td>\n",
       "      <td>1</td>\n",
       "      <td>0</td>\n",
       "    </tr>\n",
       "    <tr>\n",
       "      <th>abbated01</th>\n",
       "      <td>855</td>\n",
       "      <td>355</td>\n",
       "      <td>772</td>\n",
       "      <td>99</td>\n",
       "      <td>43</td>\n",
       "      <td>11</td>\n",
       "      <td>324.0</td>\n",
       "      <td>142.0</td>\n",
       "      <td>289</td>\n",
       "      <td>283.0</td>\n",
       "      <td>...</td>\n",
       "      <td>1</td>\n",
       "      <td>0</td>\n",
       "      <td>1</td>\n",
       "      <td>0.280218</td>\n",
       "      <td>0</td>\n",
       "      <td>0</td>\n",
       "      <td>0</td>\n",
       "      <td>0</td>\n",
       "      <td>0</td>\n",
       "      <td>1</td>\n",
       "    </tr>\n",
       "    <tr>\n",
       "      <th>abbotku01</th>\n",
       "      <td>702</td>\n",
       "      <td>273</td>\n",
       "      <td>523</td>\n",
       "      <td>109</td>\n",
       "      <td>23</td>\n",
       "      <td>62</td>\n",
       "      <td>242.0</td>\n",
       "      <td>22.0</td>\n",
       "      <td>133</td>\n",
       "      <td>571.0</td>\n",
       "      <td>...</td>\n",
       "      <td>1</td>\n",
       "      <td>0</td>\n",
       "      <td>1</td>\n",
       "      <td>0.273679</td>\n",
       "      <td>0</td>\n",
       "      <td>0</td>\n",
       "      <td>0</td>\n",
       "      <td>0</td>\n",
       "      <td>0</td>\n",
       "      <td>1</td>\n",
       "    </tr>\n",
       "    <tr>\n",
       "      <th>abramca01</th>\n",
       "      <td>567</td>\n",
       "      <td>257</td>\n",
       "      <td>433</td>\n",
       "      <td>64</td>\n",
       "      <td>19</td>\n",
       "      <td>32</td>\n",
       "      <td>138.0</td>\n",
       "      <td>12.0</td>\n",
       "      <td>304</td>\n",
       "      <td>290.0</td>\n",
       "      <td>...</td>\n",
       "      <td>0</td>\n",
       "      <td>1</td>\n",
       "      <td>0</td>\n",
       "      <td>0.331293</td>\n",
       "      <td>0</td>\n",
       "      <td>0</td>\n",
       "      <td>0</td>\n",
       "      <td>0</td>\n",
       "      <td>1</td>\n",
       "      <td>0</td>\n",
       "    </tr>\n",
       "    <tr>\n",
       "      <th>abreubo01</th>\n",
       "      <td>2425</td>\n",
       "      <td>1453</td>\n",
       "      <td>2470</td>\n",
       "      <td>574</td>\n",
       "      <td>59</td>\n",
       "      <td>288</td>\n",
       "      <td>1363.0</td>\n",
       "      <td>400.0</td>\n",
       "      <td>1476</td>\n",
       "      <td>1840.0</td>\n",
       "      <td>...</td>\n",
       "      <td>0</td>\n",
       "      <td>0</td>\n",
       "      <td>1</td>\n",
       "      <td>0.352656</td>\n",
       "      <td>0</td>\n",
       "      <td>0</td>\n",
       "      <td>0</td>\n",
       "      <td>0</td>\n",
       "      <td>1</td>\n",
       "      <td>0</td>\n",
       "    </tr>\n",
       "    <tr>\n",
       "      <th>...</th>\n",
       "      <td>...</td>\n",
       "      <td>...</td>\n",
       "      <td>...</td>\n",
       "      <td>...</td>\n",
       "      <td>...</td>\n",
       "      <td>...</td>\n",
       "      <td>...</td>\n",
       "      <td>...</td>\n",
       "      <td>...</td>\n",
       "      <td>...</td>\n",
       "      <td>...</td>\n",
       "      <td>...</td>\n",
       "      <td>...</td>\n",
       "      <td>...</td>\n",
       "      <td>...</td>\n",
       "      <td>...</td>\n",
       "      <td>...</td>\n",
       "      <td>...</td>\n",
       "      <td>...</td>\n",
       "      <td>...</td>\n",
       "      <td>...</td>\n",
       "    </tr>\n",
       "    <tr>\n",
       "      <th>zimmedo01</th>\n",
       "      <td>1095</td>\n",
       "      <td>353</td>\n",
       "      <td>773</td>\n",
       "      <td>130</td>\n",
       "      <td>22</td>\n",
       "      <td>91</td>\n",
       "      <td>352.0</td>\n",
       "      <td>45.0</td>\n",
       "      <td>246</td>\n",
       "      <td>678.0</td>\n",
       "      <td>...</td>\n",
       "      <td>1</td>\n",
       "      <td>0</td>\n",
       "      <td>1</td>\n",
       "      <td>0.254527</td>\n",
       "      <td>0</td>\n",
       "      <td>0</td>\n",
       "      <td>0</td>\n",
       "      <td>0</td>\n",
       "      <td>0</td>\n",
       "      <td>1</td>\n",
       "    </tr>\n",
       "    <tr>\n",
       "      <th>zimmehe01</th>\n",
       "      <td>1456</td>\n",
       "      <td>695</td>\n",
       "      <td>1566</td>\n",
       "      <td>275</td>\n",
       "      <td>105</td>\n",
       "      <td>58</td>\n",
       "      <td>796.0</td>\n",
       "      <td>175.0</td>\n",
       "      <td>242</td>\n",
       "      <td>432.0</td>\n",
       "      <td>...</td>\n",
       "      <td>1</td>\n",
       "      <td>0</td>\n",
       "      <td>1</td>\n",
       "      <td>0.309364</td>\n",
       "      <td>0</td>\n",
       "      <td>0</td>\n",
       "      <td>0</td>\n",
       "      <td>0</td>\n",
       "      <td>0</td>\n",
       "      <td>1</td>\n",
       "    </tr>\n",
       "    <tr>\n",
       "      <th>zimmery01</th>\n",
       "      <td>1408</td>\n",
       "      <td>793</td>\n",
       "      <td>1505</td>\n",
       "      <td>338</td>\n",
       "      <td>20</td>\n",
       "      <td>215</td>\n",
       "      <td>829.0</td>\n",
       "      <td>41.0</td>\n",
       "      <td>539</td>\n",
       "      <td>1087.0</td>\n",
       "      <td>...</td>\n",
       "      <td>1</td>\n",
       "      <td>0</td>\n",
       "      <td>1</td>\n",
       "      <td>0.308591</td>\n",
       "      <td>0</td>\n",
       "      <td>0</td>\n",
       "      <td>0</td>\n",
       "      <td>0</td>\n",
       "      <td>0</td>\n",
       "      <td>1</td>\n",
       "    </tr>\n",
       "    <tr>\n",
       "      <th>ziskri01</th>\n",
       "      <td>1453</td>\n",
       "      <td>681</td>\n",
       "      <td>1477</td>\n",
       "      <td>245</td>\n",
       "      <td>26</td>\n",
       "      <td>207</td>\n",
       "      <td>792.0</td>\n",
       "      <td>8.0</td>\n",
       "      <td>533</td>\n",
       "      <td>910.0</td>\n",
       "      <td>...</td>\n",
       "      <td>1</td>\n",
       "      <td>0</td>\n",
       "      <td>1</td>\n",
       "      <td>0.320321</td>\n",
       "      <td>0</td>\n",
       "      <td>0</td>\n",
       "      <td>0</td>\n",
       "      <td>0</td>\n",
       "      <td>1</td>\n",
       "      <td>0</td>\n",
       "    </tr>\n",
       "    <tr>\n",
       "      <th>zobribe01</th>\n",
       "      <td>1337</td>\n",
       "      <td>735</td>\n",
       "      <td>1287</td>\n",
       "      <td>296</td>\n",
       "      <td>38</td>\n",
       "      <td>145</td>\n",
       "      <td>643.0</td>\n",
       "      <td>111.0</td>\n",
       "      <td>700</td>\n",
       "      <td>839.0</td>\n",
       "      <td>...</td>\n",
       "      <td>0</td>\n",
       "      <td>0</td>\n",
       "      <td>1</td>\n",
       "      <td>0.310870</td>\n",
       "      <td>0</td>\n",
       "      <td>0</td>\n",
       "      <td>0</td>\n",
       "      <td>0</td>\n",
       "      <td>0</td>\n",
       "      <td>1</td>\n",
       "    </tr>\n",
       "  </tbody>\n",
       "</table>\n",
       "<p>2262 rows × 23 columns</p>\n",
       "</div>"
      ],
      "text/plain": [
       "              G     R     H   2B   3B   HR     RBI     SB    BB      SO  ...  \\\n",
       "playerID                                                                 ...   \n",
       "aaronha01  3298  2174  3771  624   98  755  2297.0  240.0  1402  1383.0  ...   \n",
       "abbated01   855   355   772   99   43   11   324.0  142.0   289   283.0  ...   \n",
       "abbotku01   702   273   523  109   23   62   242.0   22.0   133   571.0  ...   \n",
       "abramca01   567   257   433   64   19   32   138.0   12.0   304   290.0  ...   \n",
       "abreubo01  2425  1453  2470  574   59  288  1363.0  400.0  1476  1840.0  ...   \n",
       "...         ...   ...   ...  ...  ...  ...     ...    ...   ...     ...  ...   \n",
       "zimmedo01  1095   353   773  130   22   91   352.0   45.0   246   678.0  ...   \n",
       "zimmehe01  1456   695  1566  275  105   58   796.0  175.0   242   432.0  ...   \n",
       "zimmery01  1408   793  1505  338   20  215   829.0   41.0   539  1087.0  ...   \n",
       "ziskri01   1453   681  1477  245   26  207   792.0    8.0   533   910.0  ...   \n",
       "zobribe01  1337   735  1287  296   38  145   643.0  111.0   700   839.0  ...   \n",
       "\n",
       "           bats_R  throws_L  throws_R       Avg  POS_1B  POS_2B  POS_3B  \\\n",
       "playerID                                                                  \n",
       "aaronha01       1         0         1  0.344007       0       0       0   \n",
       "abbated01       1         0         1  0.280218       0       0       0   \n",
       "abbotku01       1         0         1  0.273679       0       0       0   \n",
       "abramca01       0         1         0  0.331293       0       0       0   \n",
       "abreubo01       0         0         1  0.352656       0       0       0   \n",
       "...           ...       ...       ...       ...     ...     ...     ...   \n",
       "zimmedo01       1         0         1  0.254527       0       0       0   \n",
       "zimmehe01       1         0         1  0.309364       0       0       0   \n",
       "zimmery01       1         0         1  0.308591       0       0       0   \n",
       "ziskri01        1         0         1  0.320321       0       0       0   \n",
       "zobribe01       0         0         1  0.310870       0       0       0   \n",
       "\n",
       "           POS_C  POS_OF  POS_SS  \n",
       "playerID                          \n",
       "aaronha01      0       1       0  \n",
       "abbated01      0       0       1  \n",
       "abbotku01      0       0       1  \n",
       "abramca01      0       1       0  \n",
       "abreubo01      0       1       0  \n",
       "...          ...     ...     ...  \n",
       "zimmedo01      0       0       1  \n",
       "zimmehe01      0       0       1  \n",
       "zimmery01      0       0       1  \n",
       "ziskri01       0       1       0  \n",
       "zobribe01      0       0       1  \n",
       "\n",
       "[2262 rows x 23 columns]"
      ]
     },
     "execution_count": 34,
     "metadata": {
     },
     "output_type": "execute_result"
    }
   ],
   "source": [
    "temp = by_player_eligible.copy()\n",
    "labels = temp['hof']\n",
    "temp = temp.drop(columns = ['hof'])\n",
    "features = temp\n",
    "features"
   ]
  },
  {
   "cell_type": "code",
   "execution_count": 35,
   "metadata": {
    "collapsed": false
   },
   "outputs": [
   ],
   "source": [
    "X = features\n",
    "y = np.ravel(labels)\n",
    "\n",
    "# shuffle by default is true, but it important because the dataframe is sorted by year\n",
    "X_train, X_test, y_train, y_test = train_test_split(X, y, test_size=0.33, random_state=24, shuffle = True)"
   ]
  },
  {
   "cell_type": "code",
   "execution_count": 36,
   "metadata": {
    "collapsed": false
   },
   "outputs": [
   ],
   "source": [
    "scaler = StandardScaler().fit(X_train)\n",
    "X_train = scaler.transform(X_train)\n",
    "X_test = scaler.transform(X_test)\n",
    "\n",
    "# define the cross valdiator that will be used uniformly across all classifiers\n",
    "# for each trial\n",
    "cv = RepeatedKFold(n_splits = 3, n_repeats = 3)"
   ]
  },
  {
   "cell_type": "code",
   "execution_count": 37,
   "metadata": {
    "collapsed": false
   },
   "outputs": [
   ],
   "source": [
    "# Code adapted from:\n",
    "# https://stackoverflow.com/questions/60860121/plotly-how-to-make-an-annotated-confusion-matrix-using-a-heatmap\n",
    "\n",
    "def plotly_conf_mtx(y_test, y_predict, label):\n",
    "\n",
    "    conf_mx = confusion_matrix(y_test, y_predict)\n",
    "    conf_mx_prop = conf_mx / np.bincount(y_test)\n",
    "\n",
    "    conf_mx_prop = conf_mx_prop[::-1]\n",
    "\n",
    "    x = ['NOT HOF', 'HOF']\n",
    "    y =  ['HOF', 'NOT HOF']\n",
    "\n",
    "    z_text = [[str(prop) for prop in arr] for arr in conf_mx_prop]\n",
    "\n",
    "    fig = ff.create_annotated_heatmap(conf_mx_prop, x=x, y=y, annotation_text=z_text, colorscale='Viridis', showscale = False)\n",
    "\n",
    "    fig.add_annotation(dict(font=dict(color=\"black\",size=14),\n",
    "                        x=0.5,\n",
    "                        y=-0.15,\n",
    "                        showarrow=False,\n",
    "                        text=\"Predicted value\",\n",
    "                        xref=\"paper\",\n",
    "                        yref=\"paper\"))\n",
    "\n",
    "    fig.add_annotation(dict(font=dict(color=\"black\",size=14),\n",
    "                        x=-0.15,\n",
    "                        y=0.5,\n",
    "                        showarrow=False,\n",
    "                        text=\"Real value\",\n",
    "                        textangle=-90,\n",
    "                        xref=\"paper\",\n",
    "                        yref=\"paper\"))\n",
    "\n",
    "    fig.update_layout(margin=dict(t=50, l=200))\n",
    "\n",
    "    fig['data'][0]['showscale'] = True\n",
    "\n",
    "    fig.write_html(label)\n",
    "    fig.show()"
   ]
  },
  {
   "cell_type": "markdown",
   "metadata": {
    "collapsed": false
   },
   "source": [
    "## KNN "
   ]
  },
  {
   "cell_type": "code",
   "execution_count": 38,
   "metadata": {
    "collapsed": false
   },
   "outputs": [
    {
     "name": "stdout",
     "output_type": "stream",
     "text": [
      "Best Score: 0.9414741474147414\n",
      "Best Hyperparameters: {'n_neighbors': 7, 'weights': 'uniform'}\n",
      "Best Estimator: KNeighborsClassifier(n_neighbors=7)\n"
     ]
    }
   ],
   "source": [
    "#define model \n",
    "model = KNeighborsClassifier()\n",
    "# define search space\n",
    "k_range = list(range(1, 13, 2))\n",
    "space = dict()\n",
    "space['weights'] = ['uniform', 'distance']\n",
    "space['n_neighbors'] = k_range\n",
    "#define search \n",
    "search = GridSearchCV(model, space, scoring = 'accuracy', n_jobs = -1, cv = cv)\n",
    "#execute search \n",
    "result = search.fit(X_train, y_train)\n",
    "# summarize result\n",
    "print('Best Score: %s' % result.best_score_)\n",
    "print('Best Hyperparameters: %s' % result.best_params_)\n",
    "print('Best Estimator: %s' % result.best_estimator_)"
   ]
  },
  {
   "cell_type": "code",
   "execution_count": 39,
   "metadata": {
    "collapsed": false
   },
   "outputs": [
    {
     "name": "stdout",
     "output_type": "stream",
     "text": [
      "accuracy on test set: 0.9410977242302544\n"
     ]
    }
   ],
   "source": [
    "# train on all of taining data and use best hyperparameters to evaluate accuracy \n",
    "# on test set\n",
    "optimalmodel = result.best_estimator_\n",
    "optimalmodel.fit(X_train, y_train)\n",
    "y_predict = optimalmodel.predict(X_test)\n",
    "accuracy = metrics.accuracy_score(y_test, y_predict)\n",
    "print('accuracy on test set: %s' % accuracy)"
   ]
  },
  {
   "cell_type": "code",
   "execution_count": 40,
   "metadata": {
    "collapsed": false
   },
   "outputs": [
    {
     "data": {
      "text/html": "<html>\n<head><meta charset=\"utf-8\" /></head>\n<body>\n    <div>            <script src=\"https://cdnjs.cloudflare.com/ajax/libs/mathjax/2.7.5/MathJax.js?config=TeX-AMS-MML_SVG\"></script><script type=\"text/javascript\">if (window.MathJax) {MathJax.Hub.Config({SVG: {font: \"STIX-Web\"}});}</script>                <script type=\"text/javascript\">window.PlotlyConfig = {MathJaxConfig: 'local'};</script>\n        <script src=\"https://cdn.plot.ly/plotly-2.9.0.min.js\"></script>                <div id=\"67eeac07-821d-42f3-ac24-1ccb78c54121\" class=\"plotly-graph-div\" style=\"height:525px; width:100%;\"></div>            <script type=\"text/javascript\">                                    window.PLOTLYENV=window.PLOTLYENV || {};                                    if (document.getElementById(\"67eeac07-821d-42f3-ac24-1ccb78c54121\")) {                    Plotly.newPlot(                        \"67eeac07-821d-42f3-ac24-1ccb78c54121\",                        [{\"colorscale\":[[0.0,\"#440154\"],[0.1111111111111111,\"#482878\"],[0.2222222222222222,\"#3e4989\"],[0.3333333333333333,\"#31688e\"],[0.4444444444444444,\"#26828e\"],[0.5555555555555556,\"#1f9e89\"],[0.6666666666666666,\"#35b779\"],[0.7777777777777778,\"#6ece58\"],[0.8888888888888888,\"#b5de2b\"],[1.0,\"#fde725\"]],\"reversescale\":false,\"showscale\":true,\"x\":[\"NOT HOF\",\"HOF\"],\"y\":[\"HOF\",\"NOT HOF\"],\"z\":[[0.05142857142857143,0.23404255319148937],[0.9885714285714285,0.1702127659574468]],\"type\":\"heatmap\"}],                        {\"annotations\":[{\"font\":{\"color\":\"#FFFFFF\"},\"showarrow\":false,\"text\":\"0.05142857142857143\",\"x\":\"NOT HOF\",\"xref\":\"x\",\"y\":\"HOF\",\"yref\":\"y\"},{\"font\":{\"color\":\"#FFFFFF\"},\"showarrow\":false,\"text\":\"0.23404255319148937\",\"x\":\"HOF\",\"xref\":\"x\",\"y\":\"HOF\",\"yref\":\"y\"},{\"font\":{\"color\":\"#000000\"},\"showarrow\":false,\"text\":\"0.9885714285714285\",\"x\":\"NOT HOF\",\"xref\":\"x\",\"y\":\"NOT HOF\",\"yref\":\"y\"},{\"font\":{\"color\":\"#FFFFFF\"},\"showarrow\":false,\"text\":\"0.1702127659574468\",\"x\":\"HOF\",\"xref\":\"x\",\"y\":\"NOT HOF\",\"yref\":\"y\"},{\"font\":{\"color\":\"black\",\"size\":14},\"showarrow\":false,\"text\":\"Predicted value\",\"x\":0.5,\"xref\":\"paper\",\"y\":-0.15,\"yref\":\"paper\"},{\"font\":{\"color\":\"black\",\"size\":14},\"showarrow\":false,\"text\":\"Real value\",\"textangle\":-90,\"x\":-0.15,\"xref\":\"paper\",\"y\":0.5,\"yref\":\"paper\"}],\"xaxis\":{\"dtick\":1,\"gridcolor\":\"rgb(0, 0, 0)\",\"side\":\"top\",\"ticks\":\"\"},\"yaxis\":{\"dtick\":1,\"ticks\":\"\",\"ticksuffix\":\"  \"},\"template\":{\"data\":{\"bar\":[{\"error_x\":{\"color\":\"#2a3f5f\"},\"error_y\":{\"color\":\"#2a3f5f\"},\"marker\":{\"line\":{\"color\":\"#E5ECF6\",\"width\":0.5},\"pattern\":{\"fillmode\":\"overlay\",\"size\":10,\"solidity\":0.2}},\"type\":\"bar\"}],\"barpolar\":[{\"marker\":{\"line\":{\"color\":\"#E5ECF6\",\"width\":0.5},\"pattern\":{\"fillmode\":\"overlay\",\"size\":10,\"solidity\":0.2}},\"type\":\"barpolar\"}],\"carpet\":[{\"aaxis\":{\"endlinecolor\":\"#2a3f5f\",\"gridcolor\":\"white\",\"linecolor\":\"white\",\"minorgridcolor\":\"white\",\"startlinecolor\":\"#2a3f5f\"},\"baxis\":{\"endlinecolor\":\"#2a3f5f\",\"gridcolor\":\"white\",\"linecolor\":\"white\",\"minorgridcolor\":\"white\",\"startlinecolor\":\"#2a3f5f\"},\"type\":\"carpet\"}],\"choropleth\":[{\"colorbar\":{\"outlinewidth\":0,\"ticks\":\"\"},\"type\":\"choropleth\"}],\"contour\":[{\"colorbar\":{\"outlinewidth\":0,\"ticks\":\"\"},\"colorscale\":[[0.0,\"#0d0887\"],[0.1111111111111111,\"#46039f\"],[0.2222222222222222,\"#7201a8\"],[0.3333333333333333,\"#9c179e\"],[0.4444444444444444,\"#bd3786\"],[0.5555555555555556,\"#d8576b\"],[0.6666666666666666,\"#ed7953\"],[0.7777777777777778,\"#fb9f3a\"],[0.8888888888888888,\"#fdca26\"],[1.0,\"#f0f921\"]],\"type\":\"contour\"}],\"contourcarpet\":[{\"colorbar\":{\"outlinewidth\":0,\"ticks\":\"\"},\"type\":\"contourcarpet\"}],\"heatmap\":[{\"colorbar\":{\"outlinewidth\":0,\"ticks\":\"\"},\"colorscale\":[[0.0,\"#0d0887\"],[0.1111111111111111,\"#46039f\"],[0.2222222222222222,\"#7201a8\"],[0.3333333333333333,\"#9c179e\"],[0.4444444444444444,\"#bd3786\"],[0.5555555555555556,\"#d8576b\"],[0.6666666666666666,\"#ed7953\"],[0.7777777777777778,\"#fb9f3a\"],[0.8888888888888888,\"#fdca26\"],[1.0,\"#f0f921\"]],\"type\":\"heatmap\"}],\"heatmapgl\":[{\"colorbar\":{\"outlinewidth\":0,\"ticks\":\"\"},\"colorscale\":[[0.0,\"#0d0887\"],[0.1111111111111111,\"#46039f\"],[0.2222222222222222,\"#7201a8\"],[0.3333333333333333,\"#9c179e\"],[0.4444444444444444,\"#bd3786\"],[0.5555555555555556,\"#d8576b\"],[0.6666666666666666,\"#ed7953\"],[0.7777777777777778,\"#fb9f3a\"],[0.8888888888888888,\"#fdca26\"],[1.0,\"#f0f921\"]],\"type\":\"heatmapgl\"}],\"histogram\":[{\"marker\":{\"pattern\":{\"fillmode\":\"overlay\",\"size\":10,\"solidity\":0.2}},\"type\":\"histogram\"}],\"histogram2d\":[{\"colorbar\":{\"outlinewidth\":0,\"ticks\":\"\"},\"colorscale\":[[0.0,\"#0d0887\"],[0.1111111111111111,\"#46039f\"],[0.2222222222222222,\"#7201a8\"],[0.3333333333333333,\"#9c179e\"],[0.4444444444444444,\"#bd3786\"],[0.5555555555555556,\"#d8576b\"],[0.6666666666666666,\"#ed7953\"],[0.7777777777777778,\"#fb9f3a\"],[0.8888888888888888,\"#fdca26\"],[1.0,\"#f0f921\"]],\"type\":\"histogram2d\"}],\"histogram2dcontour\":[{\"colorbar\":{\"outlinewidth\":0,\"ticks\":\"\"},\"colorscale\":[[0.0,\"#0d0887\"],[0.1111111111111111,\"#46039f\"],[0.2222222222222222,\"#7201a8\"],[0.3333333333333333,\"#9c179e\"],[0.4444444444444444,\"#bd3786\"],[0.5555555555555556,\"#d8576b\"],[0.6666666666666666,\"#ed7953\"],[0.7777777777777778,\"#fb9f3a\"],[0.8888888888888888,\"#fdca26\"],[1.0,\"#f0f921\"]],\"type\":\"histogram2dcontour\"}],\"mesh3d\":[{\"colorbar\":{\"outlinewidth\":0,\"ticks\":\"\"},\"type\":\"mesh3d\"}],\"parcoords\":[{\"line\":{\"colorbar\":{\"outlinewidth\":0,\"ticks\":\"\"}},\"type\":\"parcoords\"}],\"pie\":[{\"automargin\":true,\"type\":\"pie\"}],\"scatter\":[{\"marker\":{\"colorbar\":{\"outlinewidth\":0,\"ticks\":\"\"}},\"type\":\"scatter\"}],\"scatter3d\":[{\"line\":{\"colorbar\":{\"outlinewidth\":0,\"ticks\":\"\"}},\"marker\":{\"colorbar\":{\"outlinewidth\":0,\"ticks\":\"\"}},\"type\":\"scatter3d\"}],\"scattercarpet\":[{\"marker\":{\"colorbar\":{\"outlinewidth\":0,\"ticks\":\"\"}},\"type\":\"scattercarpet\"}],\"scattergeo\":[{\"marker\":{\"colorbar\":{\"outlinewidth\":0,\"ticks\":\"\"}},\"type\":\"scattergeo\"}],\"scattergl\":[{\"marker\":{\"colorbar\":{\"outlinewidth\":0,\"ticks\":\"\"}},\"type\":\"scattergl\"}],\"scattermapbox\":[{\"marker\":{\"colorbar\":{\"outlinewidth\":0,\"ticks\":\"\"}},\"type\":\"scattermapbox\"}],\"scatterpolar\":[{\"marker\":{\"colorbar\":{\"outlinewidth\":0,\"ticks\":\"\"}},\"type\":\"scatterpolar\"}],\"scatterpolargl\":[{\"marker\":{\"colorbar\":{\"outlinewidth\":0,\"ticks\":\"\"}},\"type\":\"scatterpolargl\"}],\"scatterternary\":[{\"marker\":{\"colorbar\":{\"outlinewidth\":0,\"ticks\":\"\"}},\"type\":\"scatterternary\"}],\"surface\":[{\"colorbar\":{\"outlinewidth\":0,\"ticks\":\"\"},\"colorscale\":[[0.0,\"#0d0887\"],[0.1111111111111111,\"#46039f\"],[0.2222222222222222,\"#7201a8\"],[0.3333333333333333,\"#9c179e\"],[0.4444444444444444,\"#bd3786\"],[0.5555555555555556,\"#d8576b\"],[0.6666666666666666,\"#ed7953\"],[0.7777777777777778,\"#fb9f3a\"],[0.8888888888888888,\"#fdca26\"],[1.0,\"#f0f921\"]],\"type\":\"surface\"}],\"table\":[{\"cells\":{\"fill\":{\"color\":\"#EBF0F8\"},\"line\":{\"color\":\"white\"}},\"header\":{\"fill\":{\"color\":\"#C8D4E3\"},\"line\":{\"color\":\"white\"}},\"type\":\"table\"}]},\"layout\":{\"annotationdefaults\":{\"arrowcolor\":\"#2a3f5f\",\"arrowhead\":0,\"arrowwidth\":1},\"autotypenumbers\":\"strict\",\"coloraxis\":{\"colorbar\":{\"outlinewidth\":0,\"ticks\":\"\"}},\"colorscale\":{\"diverging\":[[0,\"#8e0152\"],[0.1,\"#c51b7d\"],[0.2,\"#de77ae\"],[0.3,\"#f1b6da\"],[0.4,\"#fde0ef\"],[0.5,\"#f7f7f7\"],[0.6,\"#e6f5d0\"],[0.7,\"#b8e186\"],[0.8,\"#7fbc41\"],[0.9,\"#4d9221\"],[1,\"#276419\"]],\"sequential\":[[0.0,\"#0d0887\"],[0.1111111111111111,\"#46039f\"],[0.2222222222222222,\"#7201a8\"],[0.3333333333333333,\"#9c179e\"],[0.4444444444444444,\"#bd3786\"],[0.5555555555555556,\"#d8576b\"],[0.6666666666666666,\"#ed7953\"],[0.7777777777777778,\"#fb9f3a\"],[0.8888888888888888,\"#fdca26\"],[1.0,\"#f0f921\"]],\"sequentialminus\":[[0.0,\"#0d0887\"],[0.1111111111111111,\"#46039f\"],[0.2222222222222222,\"#7201a8\"],[0.3333333333333333,\"#9c179e\"],[0.4444444444444444,\"#bd3786\"],[0.5555555555555556,\"#d8576b\"],[0.6666666666666666,\"#ed7953\"],[0.7777777777777778,\"#fb9f3a\"],[0.8888888888888888,\"#fdca26\"],[1.0,\"#f0f921\"]]},\"colorway\":[\"#636efa\",\"#EF553B\",\"#00cc96\",\"#ab63fa\",\"#FFA15A\",\"#19d3f3\",\"#FF6692\",\"#B6E880\",\"#FF97FF\",\"#FECB52\"],\"font\":{\"color\":\"#2a3f5f\"},\"geo\":{\"bgcolor\":\"white\",\"lakecolor\":\"white\",\"landcolor\":\"#E5ECF6\",\"showlakes\":true,\"showland\":true,\"subunitcolor\":\"white\"},\"hoverlabel\":{\"align\":\"left\"},\"hovermode\":\"closest\",\"mapbox\":{\"style\":\"light\"},\"paper_bgcolor\":\"white\",\"plot_bgcolor\":\"#E5ECF6\",\"polar\":{\"angularaxis\":{\"gridcolor\":\"white\",\"linecolor\":\"white\",\"ticks\":\"\"},\"bgcolor\":\"#E5ECF6\",\"radialaxis\":{\"gridcolor\":\"white\",\"linecolor\":\"white\",\"ticks\":\"\"}},\"scene\":{\"xaxis\":{\"backgroundcolor\":\"#E5ECF6\",\"gridcolor\":\"white\",\"gridwidth\":2,\"linecolor\":\"white\",\"showbackground\":true,\"ticks\":\"\",\"zerolinecolor\":\"white\"},\"yaxis\":{\"backgroundcolor\":\"#E5ECF6\",\"gridcolor\":\"white\",\"gridwidth\":2,\"linecolor\":\"white\",\"showbackground\":true,\"ticks\":\"\",\"zerolinecolor\":\"white\"},\"zaxis\":{\"backgroundcolor\":\"#E5ECF6\",\"gridcolor\":\"white\",\"gridwidth\":2,\"linecolor\":\"white\",\"showbackground\":true,\"ticks\":\"\",\"zerolinecolor\":\"white\"}},\"shapedefaults\":{\"line\":{\"color\":\"#2a3f5f\"}},\"ternary\":{\"aaxis\":{\"gridcolor\":\"white\",\"linecolor\":\"white\",\"ticks\":\"\"},\"baxis\":{\"gridcolor\":\"white\",\"linecolor\":\"white\",\"ticks\":\"\"},\"bgcolor\":\"#E5ECF6\",\"caxis\":{\"gridcolor\":\"white\",\"linecolor\":\"white\",\"ticks\":\"\"}},\"title\":{\"x\":0.05},\"xaxis\":{\"automargin\":true,\"gridcolor\":\"white\",\"linecolor\":\"white\",\"ticks\":\"\",\"title\":{\"standoff\":15},\"zerolinecolor\":\"white\",\"zerolinewidth\":2},\"yaxis\":{\"automargin\":true,\"gridcolor\":\"white\",\"linecolor\":\"white\",\"ticks\":\"\",\"title\":{\"standoff\":15},\"zerolinecolor\":\"white\",\"zerolinewidth\":2}}},\"margin\":{\"t\":50,\"l\":200}},                        {\"responsive\": true}                    ).then(function(){\n                            \nvar gd = document.getElementById('67eeac07-821d-42f3-ac24-1ccb78c54121');\nvar x = new MutationObserver(function (mutations, observer) {{\n        var display = window.getComputedStyle(gd).display;\n        if (!display || display === 'none') {{\n            console.log([gd, 'removed!']);\n            Plotly.purge(gd);\n            observer.disconnect();\n        }}\n}});\n\n// Listen for the removal of the full notebook cells\nvar notebookContainer = gd.closest('#notebook-container');\nif (notebookContainer) {{\n    x.observe(notebookContainer, {childList: true});\n}}\n\n// Listen for the clearing of the current output cell\nvar outputEl = gd.closest('.output');\nif (outputEl) {{\n    x.observe(outputEl, {childList: true});\n}}\n\n                        })                };                            </script>        </div>\n</body>\n</html>"
     },
     "execution_count": 40,
     "metadata": {
     },
     "output_type": "execute_result"
    }
   ],
   "source": [
    "#confusion matrix for K-NN\n",
    "plotly_conf_mtx(y_test = y_test, y_predict = y_predict, label = 'knn_acc.html')"
   ]
  },
  {
   "cell_type": "markdown",
   "metadata": {
    "collapsed": false
   },
   "source": [
    "## KNN- Recall"
   ]
  },
  {
   "cell_type": "code",
   "execution_count": 41,
   "metadata": {
    "collapsed": false
   },
   "outputs": [
    {
     "name": "stdout",
     "output_type": "stream",
     "text": [
      "Best Score: 0.3506284830756235\n",
      "Best Hyperparameters: {'n_neighbors': 1, 'weights': 'uniform'}\n",
      "Best Estimator: KNeighborsClassifier(n_neighbors=1)\n"
     ]
    }
   ],
   "source": [
    "#define model \n",
    "model = KNeighborsClassifier()\n",
    "# define search space\n",
    "k_range = list(range(1, 13, 2))\n",
    "space = dict()\n",
    "space['weights'] = ['uniform', 'distance']\n",
    "space['n_neighbors'] = k_range\n",
    "#define search \n",
    "search = GridSearchCV(model, space, scoring = 'recall', n_jobs = -1, cv = cv)\n",
    "#execute search \n",
    "result = search.fit(X_train, y_train)\n",
    "# summarize result\n",
    "print('Best Score: %s' % result.best_score_)\n",
    "print('Best Hyperparameters: %s' % result.best_params_)\n",
    "print('Best Estimator: %s' % result.best_estimator_)"
   ]
  },
  {
   "cell_type": "code",
   "execution_count": 42,
   "metadata": {
    "collapsed": false
   },
   "outputs": [
    {
     "name": "stdout",
     "output_type": "stream",
     "text": [
      "accuracy on test set: 0.3404255319148936\n"
     ]
    }
   ],
   "source": [
    "# train on all of taining data and use best hyperparameters to evaluate accuracy \n",
    "# on test set\n",
    "optimalmodel = result.best_estimator_\n",
    "optimalmodel.fit(X_train, y_train)\n",
    "y_predict = optimalmodel.predict(X_test)\n",
    "accuracy = metrics.recall_score(y_test, y_predict)\n",
    "print('accuracy on test set: %s' % accuracy)"
   ]
  },
  {
   "cell_type": "code",
   "execution_count": 43,
   "metadata": {
    "collapsed": false
   },
   "outputs": [
    {
     "data": {
      "text/html": "<html>\n<head><meta charset=\"utf-8\" /></head>\n<body>\n    <div>            <script src=\"https://cdnjs.cloudflare.com/ajax/libs/mathjax/2.7.5/MathJax.js?config=TeX-AMS-MML_SVG\"></script><script type=\"text/javascript\">if (window.MathJax) {MathJax.Hub.Config({SVG: {font: \"STIX-Web\"}});}</script>                <script type=\"text/javascript\">window.PlotlyConfig = {MathJaxConfig: 'local'};</script>\n        <script src=\"https://cdn.plot.ly/plotly-2.9.0.min.js\"></script>                <div id=\"ca21d96c-90e1-41d9-9332-6db43116d8df\" class=\"plotly-graph-div\" style=\"height:525px; width:100%;\"></div>            <script type=\"text/javascript\">                                    window.PLOTLYENV=window.PLOTLYENV || {};                                    if (document.getElementById(\"ca21d96c-90e1-41d9-9332-6db43116d8df\")) {                    Plotly.newPlot(                        \"ca21d96c-90e1-41d9-9332-6db43116d8df\",                        [{\"colorscale\":[[0.0,\"#440154\"],[0.1111111111111111,\"#482878\"],[0.2222222222222222,\"#3e4989\"],[0.3333333333333333,\"#31688e\"],[0.4444444444444444,\"#26828e\"],[0.5555555555555556,\"#1f9e89\"],[0.6666666666666666,\"#35b779\"],[0.7777777777777778,\"#6ece58\"],[0.8888888888888888,\"#b5de2b\"],[1.0,\"#fde725\"]],\"reversescale\":false,\"showscale\":true,\"x\":[\"NOT HOF\",\"HOF\"],\"y\":[\"HOF\",\"NOT HOF\"],\"z\":[[0.04428571428571428,0.3404255319148936],[0.9714285714285714,0.425531914893617]],\"type\":\"heatmap\"}],                        {\"annotations\":[{\"font\":{\"color\":\"#FFFFFF\"},\"showarrow\":false,\"text\":\"0.04428571428571428\",\"x\":\"NOT HOF\",\"xref\":\"x\",\"y\":\"HOF\",\"yref\":\"y\"},{\"font\":{\"color\":\"#FFFFFF\"},\"showarrow\":false,\"text\":\"0.3404255319148936\",\"x\":\"HOF\",\"xref\":\"x\",\"y\":\"HOF\",\"yref\":\"y\"},{\"font\":{\"color\":\"#000000\"},\"showarrow\":false,\"text\":\"0.9714285714285714\",\"x\":\"NOT HOF\",\"xref\":\"x\",\"y\":\"NOT HOF\",\"yref\":\"y\"},{\"font\":{\"color\":\"#FFFFFF\"},\"showarrow\":false,\"text\":\"0.425531914893617\",\"x\":\"HOF\",\"xref\":\"x\",\"y\":\"NOT HOF\",\"yref\":\"y\"},{\"font\":{\"color\":\"black\",\"size\":14},\"showarrow\":false,\"text\":\"Predicted value\",\"x\":0.5,\"xref\":\"paper\",\"y\":-0.15,\"yref\":\"paper\"},{\"font\":{\"color\":\"black\",\"size\":14},\"showarrow\":false,\"text\":\"Real value\",\"textangle\":-90,\"x\":-0.15,\"xref\":\"paper\",\"y\":0.5,\"yref\":\"paper\"}],\"xaxis\":{\"dtick\":1,\"gridcolor\":\"rgb(0, 0, 0)\",\"side\":\"top\",\"ticks\":\"\"},\"yaxis\":{\"dtick\":1,\"ticks\":\"\",\"ticksuffix\":\"  \"},\"template\":{\"data\":{\"bar\":[{\"error_x\":{\"color\":\"#2a3f5f\"},\"error_y\":{\"color\":\"#2a3f5f\"},\"marker\":{\"line\":{\"color\":\"#E5ECF6\",\"width\":0.5},\"pattern\":{\"fillmode\":\"overlay\",\"size\":10,\"solidity\":0.2}},\"type\":\"bar\"}],\"barpolar\":[{\"marker\":{\"line\":{\"color\":\"#E5ECF6\",\"width\":0.5},\"pattern\":{\"fillmode\":\"overlay\",\"size\":10,\"solidity\":0.2}},\"type\":\"barpolar\"}],\"carpet\":[{\"aaxis\":{\"endlinecolor\":\"#2a3f5f\",\"gridcolor\":\"white\",\"linecolor\":\"white\",\"minorgridcolor\":\"white\",\"startlinecolor\":\"#2a3f5f\"},\"baxis\":{\"endlinecolor\":\"#2a3f5f\",\"gridcolor\":\"white\",\"linecolor\":\"white\",\"minorgridcolor\":\"white\",\"startlinecolor\":\"#2a3f5f\"},\"type\":\"carpet\"}],\"choropleth\":[{\"colorbar\":{\"outlinewidth\":0,\"ticks\":\"\"},\"type\":\"choropleth\"}],\"contour\":[{\"colorbar\":{\"outlinewidth\":0,\"ticks\":\"\"},\"colorscale\":[[0.0,\"#0d0887\"],[0.1111111111111111,\"#46039f\"],[0.2222222222222222,\"#7201a8\"],[0.3333333333333333,\"#9c179e\"],[0.4444444444444444,\"#bd3786\"],[0.5555555555555556,\"#d8576b\"],[0.6666666666666666,\"#ed7953\"],[0.7777777777777778,\"#fb9f3a\"],[0.8888888888888888,\"#fdca26\"],[1.0,\"#f0f921\"]],\"type\":\"contour\"}],\"contourcarpet\":[{\"colorbar\":{\"outlinewidth\":0,\"ticks\":\"\"},\"type\":\"contourcarpet\"}],\"heatmap\":[{\"colorbar\":{\"outlinewidth\":0,\"ticks\":\"\"},\"colorscale\":[[0.0,\"#0d0887\"],[0.1111111111111111,\"#46039f\"],[0.2222222222222222,\"#7201a8\"],[0.3333333333333333,\"#9c179e\"],[0.4444444444444444,\"#bd3786\"],[0.5555555555555556,\"#d8576b\"],[0.6666666666666666,\"#ed7953\"],[0.7777777777777778,\"#fb9f3a\"],[0.8888888888888888,\"#fdca26\"],[1.0,\"#f0f921\"]],\"type\":\"heatmap\"}],\"heatmapgl\":[{\"colorbar\":{\"outlinewidth\":0,\"ticks\":\"\"},\"colorscale\":[[0.0,\"#0d0887\"],[0.1111111111111111,\"#46039f\"],[0.2222222222222222,\"#7201a8\"],[0.3333333333333333,\"#9c179e\"],[0.4444444444444444,\"#bd3786\"],[0.5555555555555556,\"#d8576b\"],[0.6666666666666666,\"#ed7953\"],[0.7777777777777778,\"#fb9f3a\"],[0.8888888888888888,\"#fdca26\"],[1.0,\"#f0f921\"]],\"type\":\"heatmapgl\"}],\"histogram\":[{\"marker\":{\"pattern\":{\"fillmode\":\"overlay\",\"size\":10,\"solidity\":0.2}},\"type\":\"histogram\"}],\"histogram2d\":[{\"colorbar\":{\"outlinewidth\":0,\"ticks\":\"\"},\"colorscale\":[[0.0,\"#0d0887\"],[0.1111111111111111,\"#46039f\"],[0.2222222222222222,\"#7201a8\"],[0.3333333333333333,\"#9c179e\"],[0.4444444444444444,\"#bd3786\"],[0.5555555555555556,\"#d8576b\"],[0.6666666666666666,\"#ed7953\"],[0.7777777777777778,\"#fb9f3a\"],[0.8888888888888888,\"#fdca26\"],[1.0,\"#f0f921\"]],\"type\":\"histogram2d\"}],\"histogram2dcontour\":[{\"colorbar\":{\"outlinewidth\":0,\"ticks\":\"\"},\"colorscale\":[[0.0,\"#0d0887\"],[0.1111111111111111,\"#46039f\"],[0.2222222222222222,\"#7201a8\"],[0.3333333333333333,\"#9c179e\"],[0.4444444444444444,\"#bd3786\"],[0.5555555555555556,\"#d8576b\"],[0.6666666666666666,\"#ed7953\"],[0.7777777777777778,\"#fb9f3a\"],[0.8888888888888888,\"#fdca26\"],[1.0,\"#f0f921\"]],\"type\":\"histogram2dcontour\"}],\"mesh3d\":[{\"colorbar\":{\"outlinewidth\":0,\"ticks\":\"\"},\"type\":\"mesh3d\"}],\"parcoords\":[{\"line\":{\"colorbar\":{\"outlinewidth\":0,\"ticks\":\"\"}},\"type\":\"parcoords\"}],\"pie\":[{\"automargin\":true,\"type\":\"pie\"}],\"scatter\":[{\"marker\":{\"colorbar\":{\"outlinewidth\":0,\"ticks\":\"\"}},\"type\":\"scatter\"}],\"scatter3d\":[{\"line\":{\"colorbar\":{\"outlinewidth\":0,\"ticks\":\"\"}},\"marker\":{\"colorbar\":{\"outlinewidth\":0,\"ticks\":\"\"}},\"type\":\"scatter3d\"}],\"scattercarpet\":[{\"marker\":{\"colorbar\":{\"outlinewidth\":0,\"ticks\":\"\"}},\"type\":\"scattercarpet\"}],\"scattergeo\":[{\"marker\":{\"colorbar\":{\"outlinewidth\":0,\"ticks\":\"\"}},\"type\":\"scattergeo\"}],\"scattergl\":[{\"marker\":{\"colorbar\":{\"outlinewidth\":0,\"ticks\":\"\"}},\"type\":\"scattergl\"}],\"scattermapbox\":[{\"marker\":{\"colorbar\":{\"outlinewidth\":0,\"ticks\":\"\"}},\"type\":\"scattermapbox\"}],\"scatterpolar\":[{\"marker\":{\"colorbar\":{\"outlinewidth\":0,\"ticks\":\"\"}},\"type\":\"scatterpolar\"}],\"scatterpolargl\":[{\"marker\":{\"colorbar\":{\"outlinewidth\":0,\"ticks\":\"\"}},\"type\":\"scatterpolargl\"}],\"scatterternary\":[{\"marker\":{\"colorbar\":{\"outlinewidth\":0,\"ticks\":\"\"}},\"type\":\"scatterternary\"}],\"surface\":[{\"colorbar\":{\"outlinewidth\":0,\"ticks\":\"\"},\"colorscale\":[[0.0,\"#0d0887\"],[0.1111111111111111,\"#46039f\"],[0.2222222222222222,\"#7201a8\"],[0.3333333333333333,\"#9c179e\"],[0.4444444444444444,\"#bd3786\"],[0.5555555555555556,\"#d8576b\"],[0.6666666666666666,\"#ed7953\"],[0.7777777777777778,\"#fb9f3a\"],[0.8888888888888888,\"#fdca26\"],[1.0,\"#f0f921\"]],\"type\":\"surface\"}],\"table\":[{\"cells\":{\"fill\":{\"color\":\"#EBF0F8\"},\"line\":{\"color\":\"white\"}},\"header\":{\"fill\":{\"color\":\"#C8D4E3\"},\"line\":{\"color\":\"white\"}},\"type\":\"table\"}]},\"layout\":{\"annotationdefaults\":{\"arrowcolor\":\"#2a3f5f\",\"arrowhead\":0,\"arrowwidth\":1},\"autotypenumbers\":\"strict\",\"coloraxis\":{\"colorbar\":{\"outlinewidth\":0,\"ticks\":\"\"}},\"colorscale\":{\"diverging\":[[0,\"#8e0152\"],[0.1,\"#c51b7d\"],[0.2,\"#de77ae\"],[0.3,\"#f1b6da\"],[0.4,\"#fde0ef\"],[0.5,\"#f7f7f7\"],[0.6,\"#e6f5d0\"],[0.7,\"#b8e186\"],[0.8,\"#7fbc41\"],[0.9,\"#4d9221\"],[1,\"#276419\"]],\"sequential\":[[0.0,\"#0d0887\"],[0.1111111111111111,\"#46039f\"],[0.2222222222222222,\"#7201a8\"],[0.3333333333333333,\"#9c179e\"],[0.4444444444444444,\"#bd3786\"],[0.5555555555555556,\"#d8576b\"],[0.6666666666666666,\"#ed7953\"],[0.7777777777777778,\"#fb9f3a\"],[0.8888888888888888,\"#fdca26\"],[1.0,\"#f0f921\"]],\"sequentialminus\":[[0.0,\"#0d0887\"],[0.1111111111111111,\"#46039f\"],[0.2222222222222222,\"#7201a8\"],[0.3333333333333333,\"#9c179e\"],[0.4444444444444444,\"#bd3786\"],[0.5555555555555556,\"#d8576b\"],[0.6666666666666666,\"#ed7953\"],[0.7777777777777778,\"#fb9f3a\"],[0.8888888888888888,\"#fdca26\"],[1.0,\"#f0f921\"]]},\"colorway\":[\"#636efa\",\"#EF553B\",\"#00cc96\",\"#ab63fa\",\"#FFA15A\",\"#19d3f3\",\"#FF6692\",\"#B6E880\",\"#FF97FF\",\"#FECB52\"],\"font\":{\"color\":\"#2a3f5f\"},\"geo\":{\"bgcolor\":\"white\",\"lakecolor\":\"white\",\"landcolor\":\"#E5ECF6\",\"showlakes\":true,\"showland\":true,\"subunitcolor\":\"white\"},\"hoverlabel\":{\"align\":\"left\"},\"hovermode\":\"closest\",\"mapbox\":{\"style\":\"light\"},\"paper_bgcolor\":\"white\",\"plot_bgcolor\":\"#E5ECF6\",\"polar\":{\"angularaxis\":{\"gridcolor\":\"white\",\"linecolor\":\"white\",\"ticks\":\"\"},\"bgcolor\":\"#E5ECF6\",\"radialaxis\":{\"gridcolor\":\"white\",\"linecolor\":\"white\",\"ticks\":\"\"}},\"scene\":{\"xaxis\":{\"backgroundcolor\":\"#E5ECF6\",\"gridcolor\":\"white\",\"gridwidth\":2,\"linecolor\":\"white\",\"showbackground\":true,\"ticks\":\"\",\"zerolinecolor\":\"white\"},\"yaxis\":{\"backgroundcolor\":\"#E5ECF6\",\"gridcolor\":\"white\",\"gridwidth\":2,\"linecolor\":\"white\",\"showbackground\":true,\"ticks\":\"\",\"zerolinecolor\":\"white\"},\"zaxis\":{\"backgroundcolor\":\"#E5ECF6\",\"gridcolor\":\"white\",\"gridwidth\":2,\"linecolor\":\"white\",\"showbackground\":true,\"ticks\":\"\",\"zerolinecolor\":\"white\"}},\"shapedefaults\":{\"line\":{\"color\":\"#2a3f5f\"}},\"ternary\":{\"aaxis\":{\"gridcolor\":\"white\",\"linecolor\":\"white\",\"ticks\":\"\"},\"baxis\":{\"gridcolor\":\"white\",\"linecolor\":\"white\",\"ticks\":\"\"},\"bgcolor\":\"#E5ECF6\",\"caxis\":{\"gridcolor\":\"white\",\"linecolor\":\"white\",\"ticks\":\"\"}},\"title\":{\"x\":0.05},\"xaxis\":{\"automargin\":true,\"gridcolor\":\"white\",\"linecolor\":\"white\",\"ticks\":\"\",\"title\":{\"standoff\":15},\"zerolinecolor\":\"white\",\"zerolinewidth\":2},\"yaxis\":{\"automargin\":true,\"gridcolor\":\"white\",\"linecolor\":\"white\",\"ticks\":\"\",\"title\":{\"standoff\":15},\"zerolinecolor\":\"white\",\"zerolinewidth\":2}}},\"margin\":{\"t\":50,\"l\":200}},                        {\"responsive\": true}                    ).then(function(){\n                            \nvar gd = document.getElementById('ca21d96c-90e1-41d9-9332-6db43116d8df');\nvar x = new MutationObserver(function (mutations, observer) {{\n        var display = window.getComputedStyle(gd).display;\n        if (!display || display === 'none') {{\n            console.log([gd, 'removed!']);\n            Plotly.purge(gd);\n            observer.disconnect();\n        }}\n}});\n\n// Listen for the removal of the full notebook cells\nvar notebookContainer = gd.closest('#notebook-container');\nif (notebookContainer) {{\n    x.observe(notebookContainer, {childList: true});\n}}\n\n// Listen for the clearing of the current output cell\nvar outputEl = gd.closest('.output');\nif (outputEl) {{\n    x.observe(outputEl, {childList: true});\n}}\n\n                        })                };                            </script>        </div>\n</body>\n</html>"
     },
     "execution_count": 43,
     "metadata": {
     },
     "output_type": "execute_result"
    }
   ],
   "source": [
    "#confusion matrix for K-NN\n",
    "plotly_conf_mtx(y_test = y_test, y_predict = y_predict, label = 'knn_recall.html')"
   ]
  },
  {
   "cell_type": "markdown",
   "metadata": {
    "collapsed": false
   },
   "source": [
    "## SVM"
   ]
  },
  {
   "cell_type": "code",
   "execution_count": 44,
   "metadata": {
    "collapsed": false
   },
   "outputs": [
    {
     "name": "stdout",
     "output_type": "stream",
     "text": [
      "Best Score: 0.9511551155115511\n",
      "Best Hyperparameters: {'C': 1, 'gamma': 0.0001, 'kernel': 'linear'}\n",
      "Best Estimator: SVC(C=1, gamma=0.0001, kernel='linear')\n"
     ]
    }
   ],
   "source": [
    "# define search space\n",
    "model = svm.SVC()\n",
    "# define search space\n",
    "space = dict()\n",
    "space['C'] = [0.001, 0.01, 0.1, 1, 10, 100]\n",
    "space['gamma'] = [0.0001, 0.001, 0.01, 0.1]\n",
    "space['kernel'] = ['rbf', 'linear']\n",
    "#define search:\n",
    "search = GridSearchCV(model, space, scoring = 'accuracy', n_jobs = -1, cv = cv)\n",
    "#execute search\n",
    "result = search.fit(X_train, y_train)\n",
    "#summarize result\n",
    "print('Best Score: %s' % result.best_score_)\n",
    "print('Best Hyperparameters: %s' % result.best_params_)\n",
    "print('Best Estimator: %s' % result.best_estimator_)"
   ]
  },
  {
   "cell_type": "code",
   "execution_count": 45,
   "metadata": {
    "collapsed": false
   },
   "outputs": [
    {
     "name": "stdout",
     "output_type": "stream",
     "text": [
      "accuracy on test set: 0.9531459170013387\n"
     ]
    }
   ],
   "source": [
    "optimalmodel = result.best_estimator_\n",
    "optimalmodel.fit(X_train, y_train)\n",
    "y_predict = optimalmodel.predict(X_test)\n",
    "accuracy = metrics.accuracy_score(y_test, y_predict)\n",
    "print('accuracy on test set: %s' % accuracy)"
   ]
  },
  {
   "cell_type": "code",
   "execution_count": 46,
   "metadata": {
    "collapsed": false
   },
   "outputs": [
    {
     "data": {
      "text/html": "<html>\n<head><meta charset=\"utf-8\" /></head>\n<body>\n    <div>            <script src=\"https://cdnjs.cloudflare.com/ajax/libs/mathjax/2.7.5/MathJax.js?config=TeX-AMS-MML_SVG\"></script><script type=\"text/javascript\">if (window.MathJax) {MathJax.Hub.Config({SVG: {font: \"STIX-Web\"}});}</script>                <script type=\"text/javascript\">window.PlotlyConfig = {MathJaxConfig: 'local'};</script>\n        <script src=\"https://cdn.plot.ly/plotly-2.9.0.min.js\"></script>                <div id=\"0bd1b338-bd34-4832-a62b-0baee571e3eb\" class=\"plotly-graph-div\" style=\"height:525px; width:100%;\"></div>            <script type=\"text/javascript\">                                    window.PLOTLYENV=window.PLOTLYENV || {};                                    if (document.getElementById(\"0bd1b338-bd34-4832-a62b-0baee571e3eb\")) {                    Plotly.newPlot(                        \"0bd1b338-bd34-4832-a62b-0baee571e3eb\",                        [{\"colorscale\":[[0.0,\"#440154\"],[0.1111111111111111,\"#482878\"],[0.2222222222222222,\"#3e4989\"],[0.3333333333333333,\"#31688e\"],[0.4444444444444444,\"#26828e\"],[0.5555555555555556,\"#1f9e89\"],[0.6666666666666666,\"#35b779\"],[0.7777777777777778,\"#6ece58\"],[0.8888888888888888,\"#b5de2b\"],[1.0,\"#fde725\"]],\"reversescale\":false,\"showscale\":true,\"x\":[\"NOT HOF\",\"HOF\"],\"y\":[\"HOF\",\"NOT HOF\"],\"z\":[[0.037142857142857144,0.44680851063829785],[0.9871428571428571,0.19148936170212766]],\"type\":\"heatmap\"}],                        {\"annotations\":[{\"font\":{\"color\":\"#FFFFFF\"},\"showarrow\":false,\"text\":\"0.037142857142857144\",\"x\":\"NOT HOF\",\"xref\":\"x\",\"y\":\"HOF\",\"yref\":\"y\"},{\"font\":{\"color\":\"#FFFFFF\"},\"showarrow\":false,\"text\":\"0.44680851063829785\",\"x\":\"HOF\",\"xref\":\"x\",\"y\":\"HOF\",\"yref\":\"y\"},{\"font\":{\"color\":\"#000000\"},\"showarrow\":false,\"text\":\"0.9871428571428571\",\"x\":\"NOT HOF\",\"xref\":\"x\",\"y\":\"NOT HOF\",\"yref\":\"y\"},{\"font\":{\"color\":\"#FFFFFF\"},\"showarrow\":false,\"text\":\"0.19148936170212766\",\"x\":\"HOF\",\"xref\":\"x\",\"y\":\"NOT HOF\",\"yref\":\"y\"},{\"font\":{\"color\":\"black\",\"size\":14},\"showarrow\":false,\"text\":\"Predicted value\",\"x\":0.5,\"xref\":\"paper\",\"y\":-0.15,\"yref\":\"paper\"},{\"font\":{\"color\":\"black\",\"size\":14},\"showarrow\":false,\"text\":\"Real value\",\"textangle\":-90,\"x\":-0.15,\"xref\":\"paper\",\"y\":0.5,\"yref\":\"paper\"}],\"xaxis\":{\"dtick\":1,\"gridcolor\":\"rgb(0, 0, 0)\",\"side\":\"top\",\"ticks\":\"\"},\"yaxis\":{\"dtick\":1,\"ticks\":\"\",\"ticksuffix\":\"  \"},\"template\":{\"data\":{\"bar\":[{\"error_x\":{\"color\":\"#2a3f5f\"},\"error_y\":{\"color\":\"#2a3f5f\"},\"marker\":{\"line\":{\"color\":\"#E5ECF6\",\"width\":0.5},\"pattern\":{\"fillmode\":\"overlay\",\"size\":10,\"solidity\":0.2}},\"type\":\"bar\"}],\"barpolar\":[{\"marker\":{\"line\":{\"color\":\"#E5ECF6\",\"width\":0.5},\"pattern\":{\"fillmode\":\"overlay\",\"size\":10,\"solidity\":0.2}},\"type\":\"barpolar\"}],\"carpet\":[{\"aaxis\":{\"endlinecolor\":\"#2a3f5f\",\"gridcolor\":\"white\",\"linecolor\":\"white\",\"minorgridcolor\":\"white\",\"startlinecolor\":\"#2a3f5f\"},\"baxis\":{\"endlinecolor\":\"#2a3f5f\",\"gridcolor\":\"white\",\"linecolor\":\"white\",\"minorgridcolor\":\"white\",\"startlinecolor\":\"#2a3f5f\"},\"type\":\"carpet\"}],\"choropleth\":[{\"colorbar\":{\"outlinewidth\":0,\"ticks\":\"\"},\"type\":\"choropleth\"}],\"contour\":[{\"colorbar\":{\"outlinewidth\":0,\"ticks\":\"\"},\"colorscale\":[[0.0,\"#0d0887\"],[0.1111111111111111,\"#46039f\"],[0.2222222222222222,\"#7201a8\"],[0.3333333333333333,\"#9c179e\"],[0.4444444444444444,\"#bd3786\"],[0.5555555555555556,\"#d8576b\"],[0.6666666666666666,\"#ed7953\"],[0.7777777777777778,\"#fb9f3a\"],[0.8888888888888888,\"#fdca26\"],[1.0,\"#f0f921\"]],\"type\":\"contour\"}],\"contourcarpet\":[{\"colorbar\":{\"outlinewidth\":0,\"ticks\":\"\"},\"type\":\"contourcarpet\"}],\"heatmap\":[{\"colorbar\":{\"outlinewidth\":0,\"ticks\":\"\"},\"colorscale\":[[0.0,\"#0d0887\"],[0.1111111111111111,\"#46039f\"],[0.2222222222222222,\"#7201a8\"],[0.3333333333333333,\"#9c179e\"],[0.4444444444444444,\"#bd3786\"],[0.5555555555555556,\"#d8576b\"],[0.6666666666666666,\"#ed7953\"],[0.7777777777777778,\"#fb9f3a\"],[0.8888888888888888,\"#fdca26\"],[1.0,\"#f0f921\"]],\"type\":\"heatmap\"}],\"heatmapgl\":[{\"colorbar\":{\"outlinewidth\":0,\"ticks\":\"\"},\"colorscale\":[[0.0,\"#0d0887\"],[0.1111111111111111,\"#46039f\"],[0.2222222222222222,\"#7201a8\"],[0.3333333333333333,\"#9c179e\"],[0.4444444444444444,\"#bd3786\"],[0.5555555555555556,\"#d8576b\"],[0.6666666666666666,\"#ed7953\"],[0.7777777777777778,\"#fb9f3a\"],[0.8888888888888888,\"#fdca26\"],[1.0,\"#f0f921\"]],\"type\":\"heatmapgl\"}],\"histogram\":[{\"marker\":{\"pattern\":{\"fillmode\":\"overlay\",\"size\":10,\"solidity\":0.2}},\"type\":\"histogram\"}],\"histogram2d\":[{\"colorbar\":{\"outlinewidth\":0,\"ticks\":\"\"},\"colorscale\":[[0.0,\"#0d0887\"],[0.1111111111111111,\"#46039f\"],[0.2222222222222222,\"#7201a8\"],[0.3333333333333333,\"#9c179e\"],[0.4444444444444444,\"#bd3786\"],[0.5555555555555556,\"#d8576b\"],[0.6666666666666666,\"#ed7953\"],[0.7777777777777778,\"#fb9f3a\"],[0.8888888888888888,\"#fdca26\"],[1.0,\"#f0f921\"]],\"type\":\"histogram2d\"}],\"histogram2dcontour\":[{\"colorbar\":{\"outlinewidth\":0,\"ticks\":\"\"},\"colorscale\":[[0.0,\"#0d0887\"],[0.1111111111111111,\"#46039f\"],[0.2222222222222222,\"#7201a8\"],[0.3333333333333333,\"#9c179e\"],[0.4444444444444444,\"#bd3786\"],[0.5555555555555556,\"#d8576b\"],[0.6666666666666666,\"#ed7953\"],[0.7777777777777778,\"#fb9f3a\"],[0.8888888888888888,\"#fdca26\"],[1.0,\"#f0f921\"]],\"type\":\"histogram2dcontour\"}],\"mesh3d\":[{\"colorbar\":{\"outlinewidth\":0,\"ticks\":\"\"},\"type\":\"mesh3d\"}],\"parcoords\":[{\"line\":{\"colorbar\":{\"outlinewidth\":0,\"ticks\":\"\"}},\"type\":\"parcoords\"}],\"pie\":[{\"automargin\":true,\"type\":\"pie\"}],\"scatter\":[{\"marker\":{\"colorbar\":{\"outlinewidth\":0,\"ticks\":\"\"}},\"type\":\"scatter\"}],\"scatter3d\":[{\"line\":{\"colorbar\":{\"outlinewidth\":0,\"ticks\":\"\"}},\"marker\":{\"colorbar\":{\"outlinewidth\":0,\"ticks\":\"\"}},\"type\":\"scatter3d\"}],\"scattercarpet\":[{\"marker\":{\"colorbar\":{\"outlinewidth\":0,\"ticks\":\"\"}},\"type\":\"scattercarpet\"}],\"scattergeo\":[{\"marker\":{\"colorbar\":{\"outlinewidth\":0,\"ticks\":\"\"}},\"type\":\"scattergeo\"}],\"scattergl\":[{\"marker\":{\"colorbar\":{\"outlinewidth\":0,\"ticks\":\"\"}},\"type\":\"scattergl\"}],\"scattermapbox\":[{\"marker\":{\"colorbar\":{\"outlinewidth\":0,\"ticks\":\"\"}},\"type\":\"scattermapbox\"}],\"scatterpolar\":[{\"marker\":{\"colorbar\":{\"outlinewidth\":0,\"ticks\":\"\"}},\"type\":\"scatterpolar\"}],\"scatterpolargl\":[{\"marker\":{\"colorbar\":{\"outlinewidth\":0,\"ticks\":\"\"}},\"type\":\"scatterpolargl\"}],\"scatterternary\":[{\"marker\":{\"colorbar\":{\"outlinewidth\":0,\"ticks\":\"\"}},\"type\":\"scatterternary\"}],\"surface\":[{\"colorbar\":{\"outlinewidth\":0,\"ticks\":\"\"},\"colorscale\":[[0.0,\"#0d0887\"],[0.1111111111111111,\"#46039f\"],[0.2222222222222222,\"#7201a8\"],[0.3333333333333333,\"#9c179e\"],[0.4444444444444444,\"#bd3786\"],[0.5555555555555556,\"#d8576b\"],[0.6666666666666666,\"#ed7953\"],[0.7777777777777778,\"#fb9f3a\"],[0.8888888888888888,\"#fdca26\"],[1.0,\"#f0f921\"]],\"type\":\"surface\"}],\"table\":[{\"cells\":{\"fill\":{\"color\":\"#EBF0F8\"},\"line\":{\"color\":\"white\"}},\"header\":{\"fill\":{\"color\":\"#C8D4E3\"},\"line\":{\"color\":\"white\"}},\"type\":\"table\"}]},\"layout\":{\"annotationdefaults\":{\"arrowcolor\":\"#2a3f5f\",\"arrowhead\":0,\"arrowwidth\":1},\"autotypenumbers\":\"strict\",\"coloraxis\":{\"colorbar\":{\"outlinewidth\":0,\"ticks\":\"\"}},\"colorscale\":{\"diverging\":[[0,\"#8e0152\"],[0.1,\"#c51b7d\"],[0.2,\"#de77ae\"],[0.3,\"#f1b6da\"],[0.4,\"#fde0ef\"],[0.5,\"#f7f7f7\"],[0.6,\"#e6f5d0\"],[0.7,\"#b8e186\"],[0.8,\"#7fbc41\"],[0.9,\"#4d9221\"],[1,\"#276419\"]],\"sequential\":[[0.0,\"#0d0887\"],[0.1111111111111111,\"#46039f\"],[0.2222222222222222,\"#7201a8\"],[0.3333333333333333,\"#9c179e\"],[0.4444444444444444,\"#bd3786\"],[0.5555555555555556,\"#d8576b\"],[0.6666666666666666,\"#ed7953\"],[0.7777777777777778,\"#fb9f3a\"],[0.8888888888888888,\"#fdca26\"],[1.0,\"#f0f921\"]],\"sequentialminus\":[[0.0,\"#0d0887\"],[0.1111111111111111,\"#46039f\"],[0.2222222222222222,\"#7201a8\"],[0.3333333333333333,\"#9c179e\"],[0.4444444444444444,\"#bd3786\"],[0.5555555555555556,\"#d8576b\"],[0.6666666666666666,\"#ed7953\"],[0.7777777777777778,\"#fb9f3a\"],[0.8888888888888888,\"#fdca26\"],[1.0,\"#f0f921\"]]},\"colorway\":[\"#636efa\",\"#EF553B\",\"#00cc96\",\"#ab63fa\",\"#FFA15A\",\"#19d3f3\",\"#FF6692\",\"#B6E880\",\"#FF97FF\",\"#FECB52\"],\"font\":{\"color\":\"#2a3f5f\"},\"geo\":{\"bgcolor\":\"white\",\"lakecolor\":\"white\",\"landcolor\":\"#E5ECF6\",\"showlakes\":true,\"showland\":true,\"subunitcolor\":\"white\"},\"hoverlabel\":{\"align\":\"left\"},\"hovermode\":\"closest\",\"mapbox\":{\"style\":\"light\"},\"paper_bgcolor\":\"white\",\"plot_bgcolor\":\"#E5ECF6\",\"polar\":{\"angularaxis\":{\"gridcolor\":\"white\",\"linecolor\":\"white\",\"ticks\":\"\"},\"bgcolor\":\"#E5ECF6\",\"radialaxis\":{\"gridcolor\":\"white\",\"linecolor\":\"white\",\"ticks\":\"\"}},\"scene\":{\"xaxis\":{\"backgroundcolor\":\"#E5ECF6\",\"gridcolor\":\"white\",\"gridwidth\":2,\"linecolor\":\"white\",\"showbackground\":true,\"ticks\":\"\",\"zerolinecolor\":\"white\"},\"yaxis\":{\"backgroundcolor\":\"#E5ECF6\",\"gridcolor\":\"white\",\"gridwidth\":2,\"linecolor\":\"white\",\"showbackground\":true,\"ticks\":\"\",\"zerolinecolor\":\"white\"},\"zaxis\":{\"backgroundcolor\":\"#E5ECF6\",\"gridcolor\":\"white\",\"gridwidth\":2,\"linecolor\":\"white\",\"showbackground\":true,\"ticks\":\"\",\"zerolinecolor\":\"white\"}},\"shapedefaults\":{\"line\":{\"color\":\"#2a3f5f\"}},\"ternary\":{\"aaxis\":{\"gridcolor\":\"white\",\"linecolor\":\"white\",\"ticks\":\"\"},\"baxis\":{\"gridcolor\":\"white\",\"linecolor\":\"white\",\"ticks\":\"\"},\"bgcolor\":\"#E5ECF6\",\"caxis\":{\"gridcolor\":\"white\",\"linecolor\":\"white\",\"ticks\":\"\"}},\"title\":{\"x\":0.05},\"xaxis\":{\"automargin\":true,\"gridcolor\":\"white\",\"linecolor\":\"white\",\"ticks\":\"\",\"title\":{\"standoff\":15},\"zerolinecolor\":\"white\",\"zerolinewidth\":2},\"yaxis\":{\"automargin\":true,\"gridcolor\":\"white\",\"linecolor\":\"white\",\"ticks\":\"\",\"title\":{\"standoff\":15},\"zerolinecolor\":\"white\",\"zerolinewidth\":2}}},\"margin\":{\"t\":50,\"l\":200}},                        {\"responsive\": true}                    ).then(function(){\n                            \nvar gd = document.getElementById('0bd1b338-bd34-4832-a62b-0baee571e3eb');\nvar x = new MutationObserver(function (mutations, observer) {{\n        var display = window.getComputedStyle(gd).display;\n        if (!display || display === 'none') {{\n            console.log([gd, 'removed!']);\n            Plotly.purge(gd);\n            observer.disconnect();\n        }}\n}});\n\n// Listen for the removal of the full notebook cells\nvar notebookContainer = gd.closest('#notebook-container');\nif (notebookContainer) {{\n    x.observe(notebookContainer, {childList: true});\n}}\n\n// Listen for the clearing of the current output cell\nvar outputEl = gd.closest('.output');\nif (outputEl) {{\n    x.observe(outputEl, {childList: true});\n}}\n\n                        })                };                            </script>        </div>\n</body>\n</html>"
     },
     "execution_count": 46,
     "metadata": {
     },
     "output_type": "execute_result"
    }
   ],
   "source": [
    "#confusion matrix for SVM\n",
    "plotly_conf_mtx(y_test = y_test, y_predict = y_predict, label = 'svm_acc.html')"
   ]
  },
  {
   "cell_type": "markdown",
   "metadata": {
    "collapsed": false
   },
   "source": [
    "## SVM- Recall"
   ]
  },
  {
   "cell_type": "code",
   "execution_count": 47,
   "metadata": {
    "collapsed": false
   },
   "outputs": [
    {
     "name": "stdout",
     "output_type": "stream",
     "text": [
      "Best Score: 0.5350951201828394\n",
      "Best Hyperparameters: {'C': 10, 'gamma': 0.0001, 'kernel': 'linear'}\n",
      "Best Estimator: SVC(C=10, gamma=0.0001, kernel='linear')\n"
     ]
    }
   ],
   "source": [
    "# define search space\n",
    "model = svm.SVC()\n",
    "# define search space\n",
    "space = dict()\n",
    "space['C'] = [0.001, 0.01, 0.1, 1, 10, 100]\n",
    "space['gamma'] = [0.0001, 0.001, 0.01, 0.1]\n",
    "space['kernel'] = ['rbf', 'linear']\n",
    "#define search:\n",
    "search = GridSearchCV(model, space, scoring = 'recall', n_jobs = -1, cv = cv)\n",
    "#execute search\n",
    "result = search.fit(X_train, y_train)\n",
    "#summarize result\n",
    "print('Best Score: %s' % result.best_score_)\n",
    "print('Best Hyperparameters: %s' % result.best_params_)\n",
    "print('Best Estimator: %s' % result.best_estimator_)"
   ]
  },
  {
   "cell_type": "code",
   "execution_count": 48,
   "metadata": {
    "collapsed": false
   },
   "outputs": [
    {
     "name": "stdout",
     "output_type": "stream",
     "text": [
      "accuracy on test set: 0.44680851063829785\n"
     ]
    }
   ],
   "source": [
    "optimalmodel = result.best_estimator_\n",
    "optimalmodel.fit(X_train, y_train)\n",
    "y_predict = optimalmodel.predict(X_test)\n",
    "accuracy = metrics.recall_score(y_test, y_predict)\n",
    "print('accuracy on test set: %s' % accuracy)"
   ]
  },
  {
   "cell_type": "code",
   "execution_count": 49,
   "metadata": {
    "collapsed": false
   },
   "outputs": [
    {
     "data": {
      "text/html": "<html>\n<head><meta charset=\"utf-8\" /></head>\n<body>\n    <div>            <script src=\"https://cdnjs.cloudflare.com/ajax/libs/mathjax/2.7.5/MathJax.js?config=TeX-AMS-MML_SVG\"></script><script type=\"text/javascript\">if (window.MathJax) {MathJax.Hub.Config({SVG: {font: \"STIX-Web\"}});}</script>                <script type=\"text/javascript\">window.PlotlyConfig = {MathJaxConfig: 'local'};</script>\n        <script src=\"https://cdn.plot.ly/plotly-2.9.0.min.js\"></script>                <div id=\"6628706b-528c-4c9f-a1a7-8a5163c733d8\" class=\"plotly-graph-div\" style=\"height:525px; width:100%;\"></div>            <script type=\"text/javascript\">                                    window.PLOTLYENV=window.PLOTLYENV || {};                                    if (document.getElementById(\"6628706b-528c-4c9f-a1a7-8a5163c733d8\")) {                    Plotly.newPlot(                        \"6628706b-528c-4c9f-a1a7-8a5163c733d8\",                        [{\"colorscale\":[[0.0,\"#440154\"],[0.1111111111111111,\"#482878\"],[0.2222222222222222,\"#3e4989\"],[0.3333333333333333,\"#31688e\"],[0.4444444444444444,\"#26828e\"],[0.5555555555555556,\"#1f9e89\"],[0.6666666666666666,\"#35b779\"],[0.7777777777777778,\"#6ece58\"],[0.8888888888888888,\"#b5de2b\"],[1.0,\"#fde725\"]],\"reversescale\":false,\"showscale\":true,\"x\":[\"NOT HOF\",\"HOF\"],\"y\":[\"HOF\",\"NOT HOF\"],\"z\":[[0.037142857142857144,0.44680851063829785],[0.9857142857142858,0.2127659574468085]],\"type\":\"heatmap\"}],                        {\"annotations\":[{\"font\":{\"color\":\"#FFFFFF\"},\"showarrow\":false,\"text\":\"0.037142857142857144\",\"x\":\"NOT HOF\",\"xref\":\"x\",\"y\":\"HOF\",\"yref\":\"y\"},{\"font\":{\"color\":\"#FFFFFF\"},\"showarrow\":false,\"text\":\"0.44680851063829785\",\"x\":\"HOF\",\"xref\":\"x\",\"y\":\"HOF\",\"yref\":\"y\"},{\"font\":{\"color\":\"#000000\"},\"showarrow\":false,\"text\":\"0.9857142857142858\",\"x\":\"NOT HOF\",\"xref\":\"x\",\"y\":\"NOT HOF\",\"yref\":\"y\"},{\"font\":{\"color\":\"#FFFFFF\"},\"showarrow\":false,\"text\":\"0.2127659574468085\",\"x\":\"HOF\",\"xref\":\"x\",\"y\":\"NOT HOF\",\"yref\":\"y\"},{\"font\":{\"color\":\"black\",\"size\":14},\"showarrow\":false,\"text\":\"Predicted value\",\"x\":0.5,\"xref\":\"paper\",\"y\":-0.15,\"yref\":\"paper\"},{\"font\":{\"color\":\"black\",\"size\":14},\"showarrow\":false,\"text\":\"Real value\",\"textangle\":-90,\"x\":-0.15,\"xref\":\"paper\",\"y\":0.5,\"yref\":\"paper\"}],\"xaxis\":{\"dtick\":1,\"gridcolor\":\"rgb(0, 0, 0)\",\"side\":\"top\",\"ticks\":\"\"},\"yaxis\":{\"dtick\":1,\"ticks\":\"\",\"ticksuffix\":\"  \"},\"template\":{\"data\":{\"bar\":[{\"error_x\":{\"color\":\"#2a3f5f\"},\"error_y\":{\"color\":\"#2a3f5f\"},\"marker\":{\"line\":{\"color\":\"#E5ECF6\",\"width\":0.5},\"pattern\":{\"fillmode\":\"overlay\",\"size\":10,\"solidity\":0.2}},\"type\":\"bar\"}],\"barpolar\":[{\"marker\":{\"line\":{\"color\":\"#E5ECF6\",\"width\":0.5},\"pattern\":{\"fillmode\":\"overlay\",\"size\":10,\"solidity\":0.2}},\"type\":\"barpolar\"}],\"carpet\":[{\"aaxis\":{\"endlinecolor\":\"#2a3f5f\",\"gridcolor\":\"white\",\"linecolor\":\"white\",\"minorgridcolor\":\"white\",\"startlinecolor\":\"#2a3f5f\"},\"baxis\":{\"endlinecolor\":\"#2a3f5f\",\"gridcolor\":\"white\",\"linecolor\":\"white\",\"minorgridcolor\":\"white\",\"startlinecolor\":\"#2a3f5f\"},\"type\":\"carpet\"}],\"choropleth\":[{\"colorbar\":{\"outlinewidth\":0,\"ticks\":\"\"},\"type\":\"choropleth\"}],\"contour\":[{\"colorbar\":{\"outlinewidth\":0,\"ticks\":\"\"},\"colorscale\":[[0.0,\"#0d0887\"],[0.1111111111111111,\"#46039f\"],[0.2222222222222222,\"#7201a8\"],[0.3333333333333333,\"#9c179e\"],[0.4444444444444444,\"#bd3786\"],[0.5555555555555556,\"#d8576b\"],[0.6666666666666666,\"#ed7953\"],[0.7777777777777778,\"#fb9f3a\"],[0.8888888888888888,\"#fdca26\"],[1.0,\"#f0f921\"]],\"type\":\"contour\"}],\"contourcarpet\":[{\"colorbar\":{\"outlinewidth\":0,\"ticks\":\"\"},\"type\":\"contourcarpet\"}],\"heatmap\":[{\"colorbar\":{\"outlinewidth\":0,\"ticks\":\"\"},\"colorscale\":[[0.0,\"#0d0887\"],[0.1111111111111111,\"#46039f\"],[0.2222222222222222,\"#7201a8\"],[0.3333333333333333,\"#9c179e\"],[0.4444444444444444,\"#bd3786\"],[0.5555555555555556,\"#d8576b\"],[0.6666666666666666,\"#ed7953\"],[0.7777777777777778,\"#fb9f3a\"],[0.8888888888888888,\"#fdca26\"],[1.0,\"#f0f921\"]],\"type\":\"heatmap\"}],\"heatmapgl\":[{\"colorbar\":{\"outlinewidth\":0,\"ticks\":\"\"},\"colorscale\":[[0.0,\"#0d0887\"],[0.1111111111111111,\"#46039f\"],[0.2222222222222222,\"#7201a8\"],[0.3333333333333333,\"#9c179e\"],[0.4444444444444444,\"#bd3786\"],[0.5555555555555556,\"#d8576b\"],[0.6666666666666666,\"#ed7953\"],[0.7777777777777778,\"#fb9f3a\"],[0.8888888888888888,\"#fdca26\"],[1.0,\"#f0f921\"]],\"type\":\"heatmapgl\"}],\"histogram\":[{\"marker\":{\"pattern\":{\"fillmode\":\"overlay\",\"size\":10,\"solidity\":0.2}},\"type\":\"histogram\"}],\"histogram2d\":[{\"colorbar\":{\"outlinewidth\":0,\"ticks\":\"\"},\"colorscale\":[[0.0,\"#0d0887\"],[0.1111111111111111,\"#46039f\"],[0.2222222222222222,\"#7201a8\"],[0.3333333333333333,\"#9c179e\"],[0.4444444444444444,\"#bd3786\"],[0.5555555555555556,\"#d8576b\"],[0.6666666666666666,\"#ed7953\"],[0.7777777777777778,\"#fb9f3a\"],[0.8888888888888888,\"#fdca26\"],[1.0,\"#f0f921\"]],\"type\":\"histogram2d\"}],\"histogram2dcontour\":[{\"colorbar\":{\"outlinewidth\":0,\"ticks\":\"\"},\"colorscale\":[[0.0,\"#0d0887\"],[0.1111111111111111,\"#46039f\"],[0.2222222222222222,\"#7201a8\"],[0.3333333333333333,\"#9c179e\"],[0.4444444444444444,\"#bd3786\"],[0.5555555555555556,\"#d8576b\"],[0.6666666666666666,\"#ed7953\"],[0.7777777777777778,\"#fb9f3a\"],[0.8888888888888888,\"#fdca26\"],[1.0,\"#f0f921\"]],\"type\":\"histogram2dcontour\"}],\"mesh3d\":[{\"colorbar\":{\"outlinewidth\":0,\"ticks\":\"\"},\"type\":\"mesh3d\"}],\"parcoords\":[{\"line\":{\"colorbar\":{\"outlinewidth\":0,\"ticks\":\"\"}},\"type\":\"parcoords\"}],\"pie\":[{\"automargin\":true,\"type\":\"pie\"}],\"scatter\":[{\"marker\":{\"colorbar\":{\"outlinewidth\":0,\"ticks\":\"\"}},\"type\":\"scatter\"}],\"scatter3d\":[{\"line\":{\"colorbar\":{\"outlinewidth\":0,\"ticks\":\"\"}},\"marker\":{\"colorbar\":{\"outlinewidth\":0,\"ticks\":\"\"}},\"type\":\"scatter3d\"}],\"scattercarpet\":[{\"marker\":{\"colorbar\":{\"outlinewidth\":0,\"ticks\":\"\"}},\"type\":\"scattercarpet\"}],\"scattergeo\":[{\"marker\":{\"colorbar\":{\"outlinewidth\":0,\"ticks\":\"\"}},\"type\":\"scattergeo\"}],\"scattergl\":[{\"marker\":{\"colorbar\":{\"outlinewidth\":0,\"ticks\":\"\"}},\"type\":\"scattergl\"}],\"scattermapbox\":[{\"marker\":{\"colorbar\":{\"outlinewidth\":0,\"ticks\":\"\"}},\"type\":\"scattermapbox\"}],\"scatterpolar\":[{\"marker\":{\"colorbar\":{\"outlinewidth\":0,\"ticks\":\"\"}},\"type\":\"scatterpolar\"}],\"scatterpolargl\":[{\"marker\":{\"colorbar\":{\"outlinewidth\":0,\"ticks\":\"\"}},\"type\":\"scatterpolargl\"}],\"scatterternary\":[{\"marker\":{\"colorbar\":{\"outlinewidth\":0,\"ticks\":\"\"}},\"type\":\"scatterternary\"}],\"surface\":[{\"colorbar\":{\"outlinewidth\":0,\"ticks\":\"\"},\"colorscale\":[[0.0,\"#0d0887\"],[0.1111111111111111,\"#46039f\"],[0.2222222222222222,\"#7201a8\"],[0.3333333333333333,\"#9c179e\"],[0.4444444444444444,\"#bd3786\"],[0.5555555555555556,\"#d8576b\"],[0.6666666666666666,\"#ed7953\"],[0.7777777777777778,\"#fb9f3a\"],[0.8888888888888888,\"#fdca26\"],[1.0,\"#f0f921\"]],\"type\":\"surface\"}],\"table\":[{\"cells\":{\"fill\":{\"color\":\"#EBF0F8\"},\"line\":{\"color\":\"white\"}},\"header\":{\"fill\":{\"color\":\"#C8D4E3\"},\"line\":{\"color\":\"white\"}},\"type\":\"table\"}]},\"layout\":{\"annotationdefaults\":{\"arrowcolor\":\"#2a3f5f\",\"arrowhead\":0,\"arrowwidth\":1},\"autotypenumbers\":\"strict\",\"coloraxis\":{\"colorbar\":{\"outlinewidth\":0,\"ticks\":\"\"}},\"colorscale\":{\"diverging\":[[0,\"#8e0152\"],[0.1,\"#c51b7d\"],[0.2,\"#de77ae\"],[0.3,\"#f1b6da\"],[0.4,\"#fde0ef\"],[0.5,\"#f7f7f7\"],[0.6,\"#e6f5d0\"],[0.7,\"#b8e186\"],[0.8,\"#7fbc41\"],[0.9,\"#4d9221\"],[1,\"#276419\"]],\"sequential\":[[0.0,\"#0d0887\"],[0.1111111111111111,\"#46039f\"],[0.2222222222222222,\"#7201a8\"],[0.3333333333333333,\"#9c179e\"],[0.4444444444444444,\"#bd3786\"],[0.5555555555555556,\"#d8576b\"],[0.6666666666666666,\"#ed7953\"],[0.7777777777777778,\"#fb9f3a\"],[0.8888888888888888,\"#fdca26\"],[1.0,\"#f0f921\"]],\"sequentialminus\":[[0.0,\"#0d0887\"],[0.1111111111111111,\"#46039f\"],[0.2222222222222222,\"#7201a8\"],[0.3333333333333333,\"#9c179e\"],[0.4444444444444444,\"#bd3786\"],[0.5555555555555556,\"#d8576b\"],[0.6666666666666666,\"#ed7953\"],[0.7777777777777778,\"#fb9f3a\"],[0.8888888888888888,\"#fdca26\"],[1.0,\"#f0f921\"]]},\"colorway\":[\"#636efa\",\"#EF553B\",\"#00cc96\",\"#ab63fa\",\"#FFA15A\",\"#19d3f3\",\"#FF6692\",\"#B6E880\",\"#FF97FF\",\"#FECB52\"],\"font\":{\"color\":\"#2a3f5f\"},\"geo\":{\"bgcolor\":\"white\",\"lakecolor\":\"white\",\"landcolor\":\"#E5ECF6\",\"showlakes\":true,\"showland\":true,\"subunitcolor\":\"white\"},\"hoverlabel\":{\"align\":\"left\"},\"hovermode\":\"closest\",\"mapbox\":{\"style\":\"light\"},\"paper_bgcolor\":\"white\",\"plot_bgcolor\":\"#E5ECF6\",\"polar\":{\"angularaxis\":{\"gridcolor\":\"white\",\"linecolor\":\"white\",\"ticks\":\"\"},\"bgcolor\":\"#E5ECF6\",\"radialaxis\":{\"gridcolor\":\"white\",\"linecolor\":\"white\",\"ticks\":\"\"}},\"scene\":{\"xaxis\":{\"backgroundcolor\":\"#E5ECF6\",\"gridcolor\":\"white\",\"gridwidth\":2,\"linecolor\":\"white\",\"showbackground\":true,\"ticks\":\"\",\"zerolinecolor\":\"white\"},\"yaxis\":{\"backgroundcolor\":\"#E5ECF6\",\"gridcolor\":\"white\",\"gridwidth\":2,\"linecolor\":\"white\",\"showbackground\":true,\"ticks\":\"\",\"zerolinecolor\":\"white\"},\"zaxis\":{\"backgroundcolor\":\"#E5ECF6\",\"gridcolor\":\"white\",\"gridwidth\":2,\"linecolor\":\"white\",\"showbackground\":true,\"ticks\":\"\",\"zerolinecolor\":\"white\"}},\"shapedefaults\":{\"line\":{\"color\":\"#2a3f5f\"}},\"ternary\":{\"aaxis\":{\"gridcolor\":\"white\",\"linecolor\":\"white\",\"ticks\":\"\"},\"baxis\":{\"gridcolor\":\"white\",\"linecolor\":\"white\",\"ticks\":\"\"},\"bgcolor\":\"#E5ECF6\",\"caxis\":{\"gridcolor\":\"white\",\"linecolor\":\"white\",\"ticks\":\"\"}},\"title\":{\"x\":0.05},\"xaxis\":{\"automargin\":true,\"gridcolor\":\"white\",\"linecolor\":\"white\",\"ticks\":\"\",\"title\":{\"standoff\":15},\"zerolinecolor\":\"white\",\"zerolinewidth\":2},\"yaxis\":{\"automargin\":true,\"gridcolor\":\"white\",\"linecolor\":\"white\",\"ticks\":\"\",\"title\":{\"standoff\":15},\"zerolinecolor\":\"white\",\"zerolinewidth\":2}}},\"margin\":{\"t\":50,\"l\":200}},                        {\"responsive\": true}                    ).then(function(){\n                            \nvar gd = document.getElementById('6628706b-528c-4c9f-a1a7-8a5163c733d8');\nvar x = new MutationObserver(function (mutations, observer) {{\n        var display = window.getComputedStyle(gd).display;\n        if (!display || display === 'none') {{\n            console.log([gd, 'removed!']);\n            Plotly.purge(gd);\n            observer.disconnect();\n        }}\n}});\n\n// Listen for the removal of the full notebook cells\nvar notebookContainer = gd.closest('#notebook-container');\nif (notebookContainer) {{\n    x.observe(notebookContainer, {childList: true});\n}}\n\n// Listen for the clearing of the current output cell\nvar outputEl = gd.closest('.output');\nif (outputEl) {{\n    x.observe(outputEl, {childList: true});\n}}\n\n                        })                };                            </script>        </div>\n</body>\n</html>"
     },
     "execution_count": 49,
     "metadata": {
     },
     "output_type": "execute_result"
    }
   ],
   "source": [
    "#confusion matrix for SVM\n",
    "plotly_conf_mtx(y_test = y_test, y_predict = y_predict, label = 'svm_recall.html')"
   ]
  },
  {
   "cell_type": "markdown",
   "metadata": {
    "collapsed": false
   },
   "source": [
    "## NEURAL NETWORK"
   ]
  },
  {
   "cell_type": "code",
   "execution_count": 50,
   "metadata": {
    "collapsed": false
   },
   "outputs": [
    {
     "name": "stdout",
     "output_type": "stream",
     "text": [
      "/usr/bin/sh: conda: command not found\r\n"
     ]
    }
   ],
   "source": [
    "from sklearn.preprocessing import LabelEncoder\n",
    "from keras.wrappers.scikit_learn import KerasClassifier\n",
    "from keras.utils import np_utils\n",
    "\n",
    "from keras.models import Sequential\n",
    "from keras.layers import Dense, Dropout\n",
    "from keras.callbacks import EarlyStopping"
   ]
  },
  {
   "cell_type": "code",
   "execution_count": 51,
   "metadata": {
    "collapsed": false
   },
   "outputs": [
    {
     "name": "stdout",
     "output_type": "stream",
     "text": [
      "Model: \"sequential\"\n",
      "_________________________________________________________________\n",
      "Layer (type)                 Output Shape              Param #   \n",
      "=================================================================\n",
      "dense (Dense)                (None, 16)                384       \n",
      "_________________________________________________________________\n",
      "dense_1 (Dense)              (None, 1)                 17        \n",
      "=================================================================\n",
      "Total params: 401\n",
      "Trainable params: 401\n",
      "Non-trainable params: 0\n",
      "_________________________________________________________________\n"
     ]
    },
    {
     "name": "stderr",
     "output_type": "stream",
     "text": [
      "2022-05-02 00:33:33.116581: I tensorflow/compiler/jit/xla_cpu_device.cc:41] Not creating XLA devices, tf_xla_enable_xla_devices not set\n",
      "2022-05-02 00:33:33.116967: I tensorflow/core/platform/cpu_feature_guard.cc:142] This TensorFlow binary is optimized with oneAPI Deep Neural Network Library (oneDNN) to use the following CPU instructions in performance-critical operations:  SSE4.1 SSE4.2 AVX AVX2 AVX512F FMA\n",
      "To enable them in other operations, rebuild TensorFlow with the appropriate compiler flags.\n",
      "2022-05-02 00:33:33.117154: I tensorflow/core/common_runtime/process_util.cc:146] Creating new thread pool with default inter op setting: 2. Tune using inter_op_parallelism_threads for best performance.\n",
      "2022-05-02 00:33:33.214617: I tensorflow/compiler/mlir/mlir_graph_optimization_pass.cc:116] None of the MLIR optimization passes are enabled (registered 2)\n",
      "2022-05-02 00:33:33.215087: I tensorflow/core/platform/profile_utils/cpu_utils.cc:112] CPU Frequency: 2499995000 Hz\n"
     ]
    },
    {
     "name": "stdout",
     "output_type": "stream",
     "text": [
      "Epoch 1/80\n"
     ]
    },
    {
     "name": "stdout",
     "output_type": "stream",
     "text": [
      "\r  1/122 [..............................] - ETA: 1:49 - loss: 0.6935 - accuracy: 0.7000"
     ]
    },
    {
     "name": "stdout",
     "output_type": "stream",
     "text": [
      "\b\b\b\b\b\b\b\b\b\b\b\b\b\b\b\b\b\b\b\b\b\b\b\b\b\b\b\b\b\b\b\b\b\b\b\b\b\b\b\b\b\b\b\b\b\b\b\b\b\b\b\b\b\b\b\b\b\b\b\b\b\b\b\b\b\b\b\b\b\b\b\b\b\b\b\b\b\b\b\b\b\b\b\b\b\b\r 11/122 [=>............................] - ETA: 0s - loss: 0.6292 - accuracy: 0.7437  "
     ]
    },
    {
     "name": "stdout",
     "output_type": "stream",
     "text": [
      "\b\b\b\b\b\b\b\b\b\b\b\b\b\b\b\b\b\b\b\b\b\b\b\b\b\b\b\b\b\b\b\b\b\b\b\b\b\b\b\b\b\b\b\b\b\b\b\b\b\b\b\b\b\b\b\b\b\b\b\b\b\b\b\b\b\b\b\b\b\b\b\b\b\b\b\b\b\b\b\b\b\b\b\b\r 21/122 [====>.........................] - ETA: 0s - loss: 0.5974 - accuracy: 0.7599"
     ]
    },
    {
     "name": "stdout",
     "output_type": "stream",
     "text": [
      "\b\b\b\b\b\b\b\b\b\b\b\b\b\b\b\b\b\b\b\b\b\b\b\b\b\b\b\b\b\b\b\b\b\b\b\b\b\b\b\b\b\b\b\b\b\b\b\b\b\b\b\b\b\b\b\b\b\b\b\b\b\b\b\b\b\b\b\b\b\b\b\b\b\b\b\b\b\b\b\b\b\b\b\b\r 29/122 [======>.......................] - ETA: 0s - loss: 0.5777 - accuracy: 0.7697"
     ]
    },
    {
     "name": "stdout",
     "output_type": "stream",
     "text": [
      "\b\b\b\b\b\b\b\b\b\b\b\b\b\b\b\b\b\b\b\b\b\b\b\b\b\b\b\b\b\b\b\b\b\b\b\b\b\b\b\b\b\b\b\b\b\b\b\b\b\b\b\b\b\b\b\b\b\b\b\b\b\b\b\b\b\b\b\b\b\b\b\b\b\b\b\b\b\b\b\b\b\b\b\b\r 35/122 [=======>......................] - ETA: 0s - loss: 0.5709 - accuracy: 0.7711"
     ]
    },
    {
     "name": "stdout",
     "output_type": "stream",
     "text": [
      "\b\b\b\b\b\b\b\b\b\b\b\b\b\b\b\b\b\b\b\b\b\b\b\b\b\b\b\b\b\b\b\b\b\b\b\b\b\b\b\b\b\b\b\b\b\b\b\b\b\b\b\b\b\b\b\b\b\b\b\b\b\b\b\b\b\b\b\b\b\b\b\b\b\b\b\b\b\b\b\b\b\b\b\b\r 43/122 [=========>....................] - ETA: 0s - loss: 0.5644 - accuracy: 0.7710"
     ]
    },
    {
     "name": "stdout",
     "output_type": "stream",
     "text": [
      "\b\b\b\b\b\b\b\b\b\b\b\b\b\b\b\b\b\b\b\b\b\b\b\b\b\b\b\b\b\b\b\b\b\b\b\b\b\b\b\b\b\b\b\b\b\b\b\b\b\b\b\b\b\b\b\b\b\b\b\b\b\b\b\b\b\b\b\b\b\b\b\b\b\b\b\b\b\b\b\b\b\b\b\b\r 69/122 [===============>..............] - ETA: 0s - loss: 0.5396 - accuracy: 0.7766"
     ]
    },
    {
     "name": "stdout",
     "output_type": "stream",
     "text": [
      "\b\b\b\b\b\b\b\b\b\b\b\b\b\b\b\b\b\b\b\b\b\b\b\b\b\b\b\b\b\b\b\b\b\b\b\b\b\b\b\b\b\b\b\b\b\b\b\b\b\b\b\b\b\b\b\b\b\b\b\b\b\b\b\b\b\b\b\b\b\b\b\b\b\b\b\b\b\b\b\b\b\b\b\b\r 89/122 [====================>.........] - ETA: 0s - loss: 0.5219 - accuracy: 0.7846"
     ]
    },
    {
     "name": "stdout",
     "output_type": "stream",
     "text": [
      "\b\b\b\b\b\b\b\b\b\b\b\b\b\b\b\b\b\b\b\b\b\b\b\b\b\b\b\b\b\b\b\b\b\b\b\b\b\b\b\b\b\b\b\b\b\b\b\b\b\b\b\b\b\b\b\b\b\b\b\b\b\b\b\b\b\b\b\b\b\b\b\b\b\b\b\b\b\b\b\b\b\b\b\b\r118/122 [============================>.] - ETA: 0s - loss: 0.4991 - accuracy: 0.7973"
     ]
    },
    {
     "name": "stdout",
     "output_type": "stream",
     "text": [
      "\b\b\b\b\b\b\b\b\b\b\b\b\b\b\b\b\b\b\b\b\b\b\b\b\b\b\b\b\b\b\b\b\b\b\b\b\b\b\b\b\b\b\b\b\b\b\b\b\b\b\b\b\b\b\b\b\b\b\b\b\b\b\b\b\b\b\b\b\b\b\b\b\b\b\b\b\b\b\b\b\b\b\b\b\r122/122 [==============================] - 2s 8ms/step - loss: 0.4956 - accuracy: 0.7993 - val_loss: 0.2676 - val_accuracy: 0.9373\n"
     ]
    },
    {
     "name": "stdout",
     "output_type": "stream",
     "text": [
      "Epoch 2/80\n",
      "\r  1/122 [..............................] - ETA: 2s - loss: 0.1475 - accuracy: 1.0000"
     ]
    },
    {
     "name": "stdout",
     "output_type": "stream",
     "text": [
      "\b\b\b\b\b\b\b\b\b\b\b\b\b\b\b\b\b\b\b\b\b\b\b\b\b\b\b\b\b\b\b\b\b\b\b\b\b\b\b\b\b\b\b\b\b\b\b\b\b\b\b\b\b\b\b\b\b\b\b\b\b\b\b\b\b\b\b\b\b\b\b\b\b\b\b\b\b\b\b\b\b\b\b\b\r 10/122 [=>............................] - ETA: 0s - loss: 0.2932 - accuracy: 0.9266"
     ]
    },
    {
     "name": "stdout",
     "output_type": "stream",
     "text": [
      "\b\b\b\b\b\b\b\b\b\b\b\b\b\b\b\b\b\b\b\b\b\b\b\b\b\b\b\b\b\b\b\b\b\b\b\b\b\b\b\b\b\b\b\b\b\b\b\b\b\b\b\b\b\b\b\b\b\b\b\b\b\b\b\b\b\b\b\b\b\b\b\b\b\b\b\b\b\b\b\b\b\b\b\b\r 17/122 [===>..........................] - ETA: 0s - loss: 0.2957 - accuracy: 0.9294"
     ]
    },
    {
     "name": "stdout",
     "output_type": "stream",
     "text": [
      "\b\b\b\b\b\b\b\b\b\b\b\b\b\b\b\b\b\b\b\b\b\b\b\b\b\b\b\b\b\b\b\b\b\b\b\b\b\b\b\b\b\b\b\b\b\b\b\b\b\b\b\b\b\b\b\b\b\b\b\b\b\b\b\b\b\b\b\b\b\b\b\b\b\b\b\b\b\b\b\b\b\b\b\b\r 25/122 [=====>........................] - ETA: 0s - loss: 0.2899 - accuracy: 0.9312"
     ]
    },
    {
     "name": "stdout",
     "output_type": "stream",
     "text": [
      "\b\b\b\b\b\b\b\b\b\b\b\b\b\b\b\b\b\b\b\b\b\b\b\b\b\b\b\b\b\b\b\b\b\b\b\b\b\b\b\b\b\b\b\b\b\b\b\b\b\b\b\b\b\b\b\b\b\b\b\b\b\b\b\b\b\b\b\b\b\b\b\b\b\b\b\b\b\b\b\b\b\b\b\b\r 35/122 [=======>......................] - ETA: 0s - loss: 0.2850 - accuracy: 0.9331"
     ]
    },
    {
     "name": "stdout",
     "output_type": "stream",
     "text": [
      "\b\b\b\b\b\b\b\b\b\b\b\b\b\b\b\b\b\b\b\b\b\b\b\b\b\b\b\b\b\b\b\b\b\b\b\b\b\b\b\b\b\b\b\b\b\b\b\b\b\b\b\b\b\b\b\b\b\b\b\b\b\b\b\b\b\b\b\b\b\b\b\b\b\b\b\b\b\b\b\b\b\b\b\b\r 42/122 [=========>....................] - ETA: 0s - loss: 0.2836 - accuracy: 0.9327"
     ]
    },
    {
     "name": "stdout",
     "output_type": "stream",
     "text": [
      "\b\b\b\b\b\b\b\b\b\b\b\b\b\b\b\b\b\b\b\b\b\b\b\b\b\b\b\b\b\b\b\b\b\b\b\b\b\b\b\b\b\b\b\b\b\b\b\b\b\b\b\b\b\b\b\b\b\b\b\b\b\b\b\b\b\b\b\b\b\b\b\b\b\b\b\b\b\b\b\b\b\b\b\b\r 48/122 [==========>...................] - ETA: 0s - loss: 0.2827 - accuracy: 0.9321"
     ]
    },
    {
     "name": "stdout",
     "output_type": "stream",
     "text": [
      "\b\b\b\b\b\b\b\b\b\b\b\b\b\b\b\b\b\b\b\b\b\b\b\b\b\b\b\b\b\b\b\b\b\b\b\b\b\b\b\b\b\b\b\b\b\b\b\b\b\b\b\b\b\b\b\b\b\b\b\b\b\b\b\b\b\b\b\b\b\b\b\b\b\b\b\b\b\b\b\b\b\b\b\b\r 52/122 [===========>..................] - ETA: 0s - loss: 0.2816 - accuracy: 0.9319"
     ]
    },
    {
     "name": "stdout",
     "output_type": "stream",
     "text": [
      "\b\b\b\b\b\b\b\b\b\b\b\b\b\b\b\b\b\b\b\b\b\b\b\b\b\b\b\b\b\b\b\b\b\b\b\b\b\b\b\b\b\b\b\b\b\b\b\b\b\b\b\b\b\b\b\b\b\b\b\b\b\b\b\b\b\b\b\b\b\b\b\b\b\b\b\b\b\b\b\b\b\b\b\b\r 55/122 [============>.................] - ETA: 0s - loss: 0.2808 - accuracy: 0.9317"
     ]
    },
    {
     "name": "stdout",
     "output_type": "stream",
     "text": [
      "\b\b\b\b\b\b\b\b\b\b\b\b\b\b\b\b\b\b\b\b\b\b\b\b\b\b\b\b\b\b\b\b\b\b\b\b\b\b\b\b\b\b\b\b\b\b\b\b\b\b\b\b\b\b\b\b\b\b\b\b\b\b\b\b\b\b\b\b\b\b\b\b\b\b\b\b\b\b\b\b\b\b\b\b\r 66/122 [===============>..............] - ETA: 0s - loss: 0.2786 - accuracy: 0.9312"
     ]
    },
    {
     "name": "stdout",
     "output_type": "stream",
     "text": [
      "\b\b\b\b\b\b\b\b\b\b\b\b\b\b\b\b\b\b\b\b\b\b\b\b\b\b\b\b\b\b\b\b\b\b\b\b\b\b\b\b\b\b\b\b\b\b\b\b\b\b\b\b\b\b\b\b\b\b\b\b\b\b\b\b\b\b\b\b\b\b\b\b\b\b\b\b\b\b\b\b\b\b\b\b\r 71/122 [================>.............] - ETA: 0s - loss: 0.2777 - accuracy: 0.9310"
     ]
    },
    {
     "name": "stdout",
     "output_type": "stream",
     "text": [
      "\b\b\b\b\b\b\b\b\b\b\b\b\b\b\b\b\b\b\b\b\b\b\b\b\b\b\b\b\b\b\b\b\b\b\b\b\b\b\b\b\b\b\b\b\b\b\b\b\b\b\b\b\b\b\b\b\b\b\b\b\b\b\b\b\b\b\b\b\b\b\b\b\b\b\b\b\b\b\b\b\b\b\b\b\r 73/122 [================>.............] - ETA: 0s - loss: 0.2775 - accuracy: 0.9309"
     ]
    },
    {
     "name": "stdout",
     "output_type": "stream",
     "text": [
      "\b\b\b\b\b\b\b\b\b\b\b\b\b\b\b\b\b\b\b\b\b\b\b\b\b\b\b\b\b\b\b\b\b\b\b\b\b\b\b\b\b\b\b\b\b\b\b\b\b\b\b\b\b\b\b\b\b\b\b\b\b\b\b\b\b\b\b\b\b\b\b\b\b\b\b\b\b\b\b\b\b\b\b\b\r 74/122 [=================>............] - ETA: 0s - loss: 0.2773 - accuracy: 0.9308"
     ]
    },
    {
     "name": "stdout",
     "output_type": "stream",
     "text": [
      "\b\b\b\b\b\b\b\b\b\b\b\b\b\b\b\b\b\b\b\b\b\b\b\b\b\b\b\b\b\b\b\b\b\b\b\b\b\b\b\b\b\b\b\b\b\b\b\b\b\b\b\b\b\b\b\b\b\b\b\b\b\b\b\b\b\b\b\b\b\b\b\b\b\b\b\b\b\b\b\b\b\b\b\b\r 85/122 [===================>..........] - ETA: 0s - loss: 0.2759 - accuracy: 0.9300"
     ]
    },
    {
     "name": "stdout",
     "output_type": "stream",
     "text": [
      "\b\b\b\b\b\b\b\b\b\b\b\b\b\b\b\b\b\b\b\b\b\b\b\b\b\b\b\b\b\b\b\b\b\b\b\b\b\b\b\b\b\b\b\b\b\b\b\b\b\b\b\b\b\b\b\b\b\b\b\b\b\b\b\b\b\b\b\b\b\b\b\b\b\b\b\b\b\b\b\b\b\b\b\b\r 86/122 [====================>.........] - ETA: 0s - loss: 0.2758 - accuracy: 0.9299"
     ]
    },
    {
     "name": "stdout",
     "output_type": "stream",
     "text": [
      "\b\b\b\b\b\b\b\b\b\b\b\b\b\b\b\b\b\b\b\b\b\b\b\b\b\b\b\b\b\b\b\b\b\b\b\b\b\b\b\b\b\b\b\b\b\b\b\b\b\b\b\b\b\b\b\b\b\b\b\b\b\b\b\b\b\b\b\b\b\b\b\b\b\b\b\b\b\b\b\b\b\b\b\b\r"
     ]
    },
    {
     "name": "stdout",
     "output_type": "stream",
     "text": [
      " 94/122 [======================>.......] - ETA: 0s - loss: 0.2749 - accuracy: 0.9294"
     ]
    },
    {
     "name": "stdout",
     "output_type": "stream",
     "text": [
      "\b\b\b\b\b\b\b\b\b\b\b\b\b\b\b\b\b\b\b\b\b\b\b\b\b\b\b\b\b\b\b\b\b\b\b\b\b\b\b\b\b\b\b\b\b\b\b\b\b\b\b\b\b\b\b\b\b\b\b\b\b\b\b\b\b\b\b\b\b\b\b\b\b\b\b\b\b\b\b\b\b\b\b\b\r 96/122 [======================>.......] - ETA: 0s - loss: 0.2747 - accuracy: 0.9293"
     ]
    },
    {
     "name": "stdout",
     "output_type": "stream",
     "text": [
      "\b\b\b\b\b\b\b\b\b\b\b\b\b\b\b\b\b\b\b\b\b\b\b\b\b\b\b\b\b\b\b\b\b\b\b\b\b\b\b\b\b\b\b\b\b\b\b\b\b\b\b\b\b\b\b\b\b\b\b\b\b\b\b\b\b\b\b\b\b\b\b\b\b\b\b\b\b\b\b\b\b\b\b\b\r101/122 [=======================>......] - ETA: 0s - loss: 0.2740 - accuracy: 0.9290"
     ]
    },
    {
     "name": "stdout",
     "output_type": "stream",
     "text": [
      "\b\b\b\b\b\b\b\b\b\b\b\b\b\b\b\b\b\b\b\b\b\b\b\b\b\b\b\b\b\b\b\b\b\b\b\b\b\b\b\b\b\b\b\b\b\b\b\b\b\b\b\b\b\b\b\b\b\b\b\b\b\b\b\b\b\b\b\b\b\b\b\b\b\b\b\b\b\b\b\b\b\b\b\b\r109/122 [=========================>....] - ETA: 0s - loss: 0.2728 - accuracy: 0.9287"
     ]
    },
    {
     "name": "stdout",
     "output_type": "stream",
     "text": [
      "\b\b\b\b\b\b\b\b\b\b\b\b\b\b\b\b\b\b\b\b\b\b\b\b\b\b\b\b\b\b\b\b\b\b\b\b\b\b\b\b\b\b\b\b\b\b\b\b\b\b\b\b\b\b\b\b\b\b\b\b\b\b\b\b\b\b\b\b\b\b\b\b\b\b\b\b\b\b\b\b\b\b\b\b\r113/122 [==========================>...] - ETA: 0s - loss: 0.2722 - accuracy: 0.9285"
     ]
    },
    {
     "name": "stdout",
     "output_type": "stream",
     "text": [
      "\b\b\b\b\b\b\b\b\b\b\b\b\b\b\b\b\b\b\b\b\b\b\b\b\b\b\b\b\b\b\b\b\b\b\b\b\b\b\b\b\b\b\b\b\b\b\b\b\b\b\b\b\b\b\b\b\b\b\b\b\b\b\b\b\b\b\b\b\b\b\b\b\b\b\b\b\b\b\b\b\b\b\b\b\r119/122 [============================>.] - ETA: 0s - loss: 0.2711 - accuracy: 0.9285"
     ]
    },
    {
     "name": "stdout",
     "output_type": "stream",
     "text": [
      "\b\b\b\b\b\b\b\b\b\b\b\b\b\b\b\b\b\b\b\b\b\b\b\b\b\b\b\b\b\b\b\b\b\b\b\b\b\b\b\b\b\b\b\b\b\b\b\b\b\b\b\b\b\b\b\b\b\b\b\b\b\b\b\b\b\b\b\b\b\b\b\b\b\b\b\b\b\b\b\b\b\b\b\b\r122/122 [==============================] - 1s 12ms/step - loss: 0.2705 - accuracy: 0.9284 - val_loss: 0.1887 - val_accuracy: 0.9472\n"
     ]
    },
    {
     "name": "stdout",
     "output_type": "stream",
     "text": [
      "Epoch 3/80\n",
      "\r  1/122 [..............................] - ETA: 1s - loss: 0.1106 - accuracy: 1.0000"
     ]
    },
    {
     "name": "stdout",
     "output_type": "stream",
     "text": [
      "\b\b\b\b\b\b\b\b\b\b\b\b\b\b\b\b\b\b\b\b\b\b\b\b\b\b\b\b\b\b\b\b\b\b\b\b\b\b\b\b\b\b\b\b\b\b\b\b\b\b\b\b\b\b\b\b\b\b\b\b\b\b\b\b\b\b\b\b\b\b\b\b\b\b\b\b\b\b\b\b\b\b\b\b\r  4/122 [..............................] - ETA: 2s - loss: 0.1372 - accuracy: 0.9604"
     ]
    },
    {
     "name": "stdout",
     "output_type": "stream",
     "text": [
      "\b\b\b\b\b\b\b\b\b\b\b\b\b\b\b\b\b\b\b\b\b\b\b\b\b\b\b\b\b\b\b\b\b\b\b\b\b\b\b\b\b\b\b\b\b\b\b\b\b\b\b\b\b\b\b\b\b\b\b\b\b\b\b\b\b\b\b\b\b\b\b\b\b\b\b\b\b\b\b\b\b\b\b\b\r  9/122 [=>............................] - ETA: 1s - loss: 0.1662 - accuracy: 0.9378"
     ]
    },
    {
     "name": "stdout",
     "output_type": "stream",
     "text": [
      "\b\b\b\b\b\b\b\b\b\b\b\b\b\b\b\b\b\b\b\b\b\b\b\b\b\b\b\b\b\b\b\b\b\b\b\b\b\b\b\b\b\b\b\b\b\b\b\b\b\b\b\b\b\b\b\b\b\b\b\b\b\b\b\b\b\b\b\b\b\b\b\b\b\b\b\b\b\b\b\b\b\b\b\b\r 11/122 [=>............................] - ETA: 2s - loss: 0.1697 - accuracy: 0.9352"
     ]
    },
    {
     "name": "stdout",
     "output_type": "stream",
     "text": [
      "\b\b\b\b\b\b\b\b\b\b\b\b\b\b\b\b\b\b\b\b\b\b\b\b\b\b\b\b\b\b\b\b\b\b\b\b\b\b\b\b\b\b\b\b\b\b\b\b\b\b\b\b\b\b\b\b\b\b\b\b\b\b\b\b\b\b\b\b\b\b\b\b\b\b\b\b\b\b\b\b\b\b\b\b\r 12/122 [=>............................] - ETA: 2s - loss: 0.1708 - accuracy: 0.9350"
     ]
    },
    {
     "name": "stdout",
     "output_type": "stream",
     "text": [
      "\b\b\b\b\b\b\b\b\b\b\b\b\b\b\b\b\b\b\b\b\b\b\b\b\b\b\b\b\b\b\b\b\b\b\b\b\b\b\b\b\b\b\b\b\b\b\b\b\b\b\b\b\b\b\b\b\b\b\b\b\b\b\b\b\b\b\b\b\b\b\b\b\b\b\b\b\b\b\b\b\b\b\b\b\r 17/122 [===>..........................] - ETA: 2s - loss: 0.1763 - accuracy: 0.9333"
     ]
    },
    {
     "name": "stdout",
     "output_type": "stream",
     "text": [
      "\b\b\b\b\b\b\b\b\b\b\b\b\b\b\b\b\b\b\b\b\b\b\b\b\b\b\b\b\b\b\b\b\b\b\b\b\b\b\b\b\b\b\b\b\b\b\b\b\b\b\b\b\b\b\b\b\b\b\b\b\b\b\b\b\b\b\b\b\b\b\b\b\b\b\b\b\b\b\b\b\b\b\b\b\r 25/122 [=====>........................] - ETA: 1s - loss: 0.1772 - accuracy: 0.9357"
     ]
    },
    {
     "name": "stdout",
     "output_type": "stream",
     "text": [
      "\b\b\b\b\b\b\b\b\b\b\b\b\b\b\b\b\b\b\b\b\b\b\b\b\b\b\b\b\b\b\b\b\b\b\b\b\b\b\b\b\b\b\b\b\b\b\b\b\b\b\b\b\b\b\b\b\b\b\b\b\b\b\b\b\b\b\b\b\b\b\b\b\b\b\b\b\b\b\b\b\b\b\b\b\r 30/122 [======>.......................] - ETA: 1s - loss: 0.1806 - accuracy: 0.9355"
     ]
    },
    {
     "name": "stdout",
     "output_type": "stream",
     "text": [
      "\b\b\b\b\b\b\b\b\b\b\b\b\b\b\b\b\b\b\b\b\b\b\b\b\b\b\b\b\b\b\b\b\b\b\b\b\b\b\b\b\b\b\b\b\b\b\b\b\b\b\b\b\b\b\b\b\b\b\b\b\b\b\b\b\b\b\b\b\b\b\b\b\b\b\b\b\b\b\b\b\b\b\b\b\r 31/122 [======>.......................] - ETA: 1s - loss: 0.1810 - accuracy: 0.9356"
     ]
    },
    {
     "name": "stdout",
     "output_type": "stream",
     "text": [
      "\b\b\b\b\b\b\b\b\b\b\b\b\b\b\b\b\b\b\b\b\b\b\b\b\b\b\b\b\b\b\b\b\b\b\b\b\b\b\b\b\b\b\b\b\b\b\b\b\b\b\b\b\b\b\b\b\b\b\b\b\b\b\b\b\b\b\b\b\b\b\b\b\b\b\b\b\b\b\b\b\b\b\b\b\r 38/122 [========>.....................] - ETA: 1s - loss: 0.1821 - accuracy: 0.9368"
     ]
    },
    {
     "name": "stdout",
     "output_type": "stream",
     "text": [
      "\b\b\b\b\b\b\b\b\b\b\b\b\b\b\b\b\b\b\b\b\b\b\b\b\b\b\b\b\b\b\b\b\b\b\b\b\b\b\b\b\b\b\b\b\b\b\b\b\b\b\b\b\b\b\b\b\b\b\b\b\b\b\b\b\b\b\b\b\b\b\b\b\b\b\b\b\b\b\b\b\b\b\b\b\r 63/122 [==============>...............] - ETA: 0s - loss: 0.1811 - accuracy: 0.9406"
     ]
    },
    {
     "name": "stdout",
     "output_type": "stream",
     "text": [
      "\b\b\b\b\b\b\b\b\b\b\b\b\b\b\b\b\b\b\b\b\b\b\b\b\b\b\b\b\b\b\b\b\b\b\b\b\b\b\b\b\b\b\b\b\b\b\b\b\b\b\b\b\b\b\b\b\b\b\b\b\b\b\b\b\b\b\b\b\b\b\b\b\b\b\b\b\b\b\b\b\b\b\b\b\r101/122 [=======================>......] - ETA: 0s - loss: 0.1832 - accuracy: 0.9412"
     ]
    },
    {
     "name": "stdout",
     "output_type": "stream",
     "text": [
      "\b\b\b\b\b\b\b\b\b\b\b\b\b\b\b\b\b\b\b\b\b\b\b\b\b\b\b\b\b\b\b\b\b\b\b\b\b\b\b\b\b\b\b\b\b\b\b\b\b\b\b\b\b\b\b\b\b\b\b\b\b\b\b\b\b\b\b\b\b\b\b\b\b\b\b\b\b\b\b\b\b\b\b\b\r108/122 [=========================>....] - ETA: 0s - loss: 0.1842 - accuracy: 0.9409"
     ]
    },
    {
     "name": "stdout",
     "output_type": "stream",
     "text": [
      "\b\b\b\b\b\b\b\b\b\b\b\b\b\b\b\b\b\b\b\b\b\b\b\b\b\b\b\b\b\b\b\b\b\b\b\b\b\b\b\b\b\b\b\b\b\b\b\b\b\b\b\b\b\b\b\b\b\b\b\b\b\b\b\b\b\b\b\b\b\b\b\b\b\b\b\b\b\b\b\b\b\b\b\b\r120/122 [============================>.] - ETA: 0s - loss: 0.1853 - accuracy: 0.9405"
     ]
    },
    {
     "name": "stdout",
     "output_type": "stream",
     "text": [
      "\b\b\b\b\b\b\b\b\b\b\b\b\b\b\b\b\b\b\b\b\b\b\b\b\b\b\b\b\b\b\b\b\b\b\b\b\b\b\b\b\b\b\b\b\b\b\b\b\b\b\b\b\b\b\b\b\b\b\b\b\b\b\b\b\b\b\b\b\b\b\b\b\b\b\b\b\b\b\b\b\b\b\b\b\r122/122 [==============================] - 1s 8ms/step - loss: 0.1855 - accuracy: 0.9404 - val_loss: 0.1557 - val_accuracy: 0.9439\n"
     ]
    },
    {
     "name": "stdout",
     "output_type": "stream",
     "text": [
      "Epoch 4/80\n",
      "\r  1/122 [..............................] - ETA: 0s - loss: 0.1450 - accuracy: 1.0000"
     ]
    },
    {
     "name": "stdout",
     "output_type": "stream",
     "text": [
      "\b\b\b\b\b\b\b\b\b\b\b\b\b\b\b\b\b\b\b\b\b\b\b\b\b\b\b\b\b\b\b\b\b\b\b\b\b\b\b\b\b\b\b\b\b\b\b\b\b\b\b\b\b\b\b\b\b\b\b\b\b\b\b\b\b\b\b\b\b\b\b\b\b\b\b\b\b\b\b\b\b\b\b\b\r 34/122 [=======>......................] - ETA: 0s - loss: 0.1387 - accuracy: 0.9678"
     ]
    },
    {
     "name": "stdout",
     "output_type": "stream",
     "text": [
      "\b\b\b\b\b\b\b\b\b\b\b\b\b\b\b\b\b\b\b\b\b\b\b\b\b\b\b\b\b\b\b\b\b\b\b\b\b\b\b\b\b\b\b\b\b\b\b\b\b\b\b\b\b\b\b\b\b\b\b\b\b\b\b\b\b\b\b\b\b\b\b\b\b\b\b\b\b\b\b\b\b\b\b\b\r 56/122 [============>.................] - ETA: 0s - loss: 0.1470 - accuracy: 0.9602"
     ]
    },
    {
     "name": "stdout",
     "output_type": "stream",
     "text": [
      "\b\b\b\b\b\b\b\b\b\b\b\b\b\b\b\b\b\b\b\b\b\b\b\b\b\b\b\b\b\b\b\b\b\b\b\b\b\b\b\b\b\b\b\b\b\b\b\b\b\b\b\b\b\b\b\b\b\b\b\b\b\b\b\b\b\b\b\b\b\b\b\b\b\b\b\b\b\b\b\b\b\b\b\b\r 88/122 [====================>.........] - ETA: 0s - loss: 0.1506 - accuracy: 0.9562"
     ]
    },
    {
     "name": "stdout",
     "output_type": "stream",
     "text": [
      "\b\b\b\b\b\b\b\b\b\b\b\b\b\b\b\b\b\b\b\b\b\b\b\b\b\b\b\b\b\b\b\b\b\b\b\b\b\b\b\b\b\b\b\b\b\b\b\b\b\b\b\b\b\b\b\b\b\b\b\b\b\b\b\b\b\b\b\b\b\b\b\b\b\b\b\b\b\b\b\b\b\b\b\b\r116/122 [===========================>..] - ETA: 0s - loss: 0.1527 - accuracy: 0.9534"
     ]
    },
    {
     "name": "stdout",
     "output_type": "stream",
     "text": [
      "\b\b\b\b\b\b\b\b\b\b\b\b\b\b\b\b\b\b\b\b\b\b\b\b\b\b\b\b\b\b\b\b\b\b\b\b\b\b\b\b\b\b\b\b\b\b\b\b\b\b\b\b\b\b\b\b\b\b\b\b\b\b\b\b\b\b\b\b\b\b\b\b\b\b\b\b\b\b\b\b\b\b\b\b\r122/122 [==============================] - 0s 3ms/step - loss: 0.1533 - accuracy: 0.9528 - val_loss: 0.1391 - val_accuracy: 0.9472\n"
     ]
    },
    {
     "name": "stdout",
     "output_type": "stream",
     "text": [
      "Epoch 5/80\n",
      "\r  1/122 [..............................] - ETA: 0s - loss: 0.1781 - accuracy: 0.9000"
     ]
    },
    {
     "name": "stdout",
     "output_type": "stream",
     "text": [
      "\b\b\b\b\b\b\b\b\b\b\b\b\b\b\b\b\b\b\b\b\b\b\b\b\b\b\b\b\b\b\b\b\b\b\b\b\b\b\b\b\b\b\b\b\b\b\b\b\b\b\b\b\b\b\b\b\b\b\b\b\b\b\b\b\b\b\b\b\b\b\b\b\b\b\b\b\b\b\b\b\b\b\b\b\r 24/122 [====>.........................] - ETA: 0s - loss: 0.1536 - accuracy: 0.9405"
     ]
    },
    {
     "name": "stdout",
     "output_type": "stream",
     "text": [
      "\b\b\b\b\b\b\b\b\b\b\b\b\b\b\b\b\b\b\b\b\b\b\b\b\b\b\b\b\b\b\b\b\b\b\b\b\b\b\b\b\b\b\b\b\b\b\b\b\b\b\b\b\b\b\b\b\b\b\b\b\b\b\b\b\b\b\b\b\b\b\b\b\b\b\b\b\b\b\b\b\b\b\b\b\r 62/122 [==============>...............] - ETA: 0s - loss: 0.1480 - accuracy: 0.9478"
     ]
    },
    {
     "name": "stdout",
     "output_type": "stream",
     "text": [
      "\b\b\b\b\b\b\b\b\b\b\b\b\b\b\b\b\b\b\b\b\b\b\b\b\b\b\b\b\b\b\b\b\b\b\b\b\b\b\b\b\b\b\b\b\b\b\b\b\b\b\b\b\b\b\b\b\b\b\b\b\b\b\b\b\b\b\b\b\b\b\b\b\b\b\b\b\b\b\b\b\b\b\b\b\r 86/122 [====================>.........] - ETA: 0s - loss: 0.1512 - accuracy: 0.9474"
     ]
    },
    {
     "name": "stdout",
     "output_type": "stream",
     "text": [
      "\b\b\b\b\b\b\b\b\b\b\b\b\b\b\b\b\b\b\b\b\b\b\b\b\b\b\b\b\b\b\b\b\b\b\b\b\b\b\b\b\b\b\b\b\b\b\b\b\b\b\b\b\b\b\b\b\b\b\b\b\b\b\b\b\b\b\b\b\b\b\b\b\b\b\b\b\b\b\b\b\b\b\b\b\r112/122 [==========================>...] - ETA: 0s - loss: 0.1524 - accuracy: 0.9473"
     ]
    },
    {
     "name": "stdout",
     "output_type": "stream",
     "text": [
      "\b\b\b\b\b\b\b\b\b\b\b\b\b\b\b\b\b\b\b\b\b\b\b\b\b\b\b\b\b\b\b\b\b\b\b\b\b\b\b\b\b\b\b\b\b\b\b\b\b\b\b\b\b\b\b\b\b\b\b\b\b\b\b\b\b\b\b\b\b\b\b\b\b\b\b\b\b\b\b\b\b\b\b\b\r122/122 [==============================] - 0s 3ms/step - loss: 0.1523 - accuracy: 0.9474 - val_loss: 0.1320 - val_accuracy: 0.9439\n"
     ]
    },
    {
     "name": "stdout",
     "output_type": "stream",
     "text": [
      "Epoch 6/80\n",
      "\r  1/122 [..............................] - ETA: 1s - loss: 0.1328 - accuracy: 1.0000"
     ]
    },
    {
     "name": "stdout",
     "output_type": "stream",
     "text": [
      "\b\b\b\b\b\b\b\b\b\b\b\b\b\b\b\b\b\b\b\b\b\b\b\b\b\b\b\b\b\b\b\b\b\b\b\b\b\b\b\b\b\b\b\b\b\b\b\b\b\b\b\b\b\b\b\b\b\b\b\b\b\b\b\b\b\b\b\b\b\b\b\b\b\b\b\b\b\b\b\b\b\b\b\b\r 37/122 [========>.....................] - ETA: 0s - loss: 0.1296 - accuracy: 0.9626"
     ]
    },
    {
     "name": "stdout",
     "output_type": "stream",
     "text": [
      "\b\b\b\b\b\b\b\b\b\b\b\b\b\b\b\b\b\b\b\b\b\b\b\b\b\b\b\b\b\b\b\b\b\b\b\b\b\b\b\b\b\b\b\b\b\b\b\b\b\b\b\b\b\b\b\b\b\b\b\b\b\b\b\b\b\b\b\b\b\b\b\b\b\b\b\b\b\b\b\b\b\b\b\b\r 72/122 [================>.............] - ETA: 0s - loss: 0.1408 - accuracy: 0.9549"
     ]
    },
    {
     "name": "stdout",
     "output_type": "stream",
     "text": [
      "\b\b\b\b\b\b\b\b\b\b\b\b\b\b\b\b\b\b\b\b\b\b\b\b\b\b\b\b\b\b\b\b\b\b\b\b\b\b\b\b\b\b\b\b\b\b\b\b\b\b\b\b\b\b\b\b\b\b\b\b\b\b\b\b\b\b\b\b\b\b\b\b\b\b\b\b\b\b\b\b\b\b\b\b\r 93/122 [=====================>........] - ETA: 0s - loss: 0.1419 - accuracy: 0.9532"
     ]
    },
    {
     "name": "stdout",
     "output_type": "stream",
     "text": [
      "\b\b\b\b\b\b\b\b\b\b\b\b\b\b\b\b\b\b\b\b\b\b\b\b\b\b\b\b\b\b\b\b\b\b\b\b\b\b\b\b\b\b\b\b\b\b\b\b\b\b\b\b\b\b\b\b\b\b\b\b\b\b\b\b\b\b\b\b\b\b\b\b\b\b\b\b\b\b\b\b\b\b\b\b\r115/122 [===========================>..] - ETA: 0s - loss: 0.1433 - accuracy: 0.9519"
     ]
    },
    {
     "name": "stdout",
     "output_type": "stream",
     "text": [
      "\b\b\b\b\b\b\b\b\b\b\b\b\b\b\b\b\b\b\b\b\b\b\b\b\b\b\b\b\b\b\b\b\b\b\b\b\b\b\b\b\b\b\b\b\b\b\b\b\b\b\b\b\b\b\b\b\b\b\b\b\b\b\b\b\b\b\b\b\b\b\b\b\b\b\b\b\b\b\b\b\b\b\b\b\r122/122 [==============================] - 0s 4ms/step - loss: 0.1434 - accuracy: 0.9515 - val_loss: 0.1289 - val_accuracy: 0.9439\n"
     ]
    },
    {
     "name": "stdout",
     "output_type": "stream",
     "text": [
      "Epoch 7/80\n",
      "\r  1/122 [..............................] - ETA: 1s - loss: 0.1742 - accuracy: 0.9000"
     ]
    },
    {
     "name": "stdout",
     "output_type": "stream",
     "text": [
      "\b\b\b\b\b\b\b\b\b\b\b\b\b\b\b\b\b\b\b\b\b\b\b\b\b\b\b\b\b\b\b\b\b\b\b\b\b\b\b\b\b\b\b\b\b\b\b\b\b\b\b\b\b\b\b\b\b\b\b\b\b\b\b\b\b\b\b\b\b\b\b\b\b\b\b\b\b\b\b\b\b\b\b\b\r 21/122 [====>.........................] - ETA: 0s - loss: 0.1724 - accuracy: 0.9374"
     ]
    },
    {
     "name": "stdout",
     "output_type": "stream",
     "text": [
      "\b\b\b\b\b\b\b\b\b\b\b\b\b\b\b\b\b\b\b\b\b\b\b\b\b\b\b\b\b\b\b\b\b\b\b\b\b\b\b\b\b\b\b\b\b\b\b\b\b\b\b\b\b\b\b\b\b\b\b\b\b\b\b\b\b\b\b\b\b\b\b\b\b\b\b\b\b\b\b\b\b\b\b\b\r 39/122 [========>.....................] - ETA: 0s - loss: 0.1747 - accuracy: 0.9351"
     ]
    },
    {
     "name": "stdout",
     "output_type": "stream",
     "text": [
      "\b\b\b\b\b\b\b\b\b\b\b\b\b\b\b\b\b\b\b\b\b\b\b\b\b\b\b\b\b\b\b\b\b\b\b\b\b\b\b\b\b\b\b\b\b\b\b\b\b\b\b\b\b\b\b\b\b\b\b\b\b\b\b\b\b\b\b\b\b\b\b\b\b\b\b\b\b\b\b\b\b\b\b\b\r 46/122 [==========>...................] - ETA: 0s - loss: 0.1751 - accuracy: 0.9349"
     ]
    },
    {
     "name": "stdout",
     "output_type": "stream",
     "text": [
      "\b\b\b\b\b\b\b\b\b\b\b\b\b\b\b\b\b\b\b\b\b\b\b\b\b\b\b\b\b\b\b\b\b\b\b\b\b\b\b\b\b\b\b\b\b\b\b\b\b\b\b\b\b\b\b\b\b\b\b\b\b\b\b\b\b\b\b\b\b\b\b\b\b\b\b\b\b\b\b\b\b\b\b\b\r 54/122 [============>.................] - ETA: 0s - loss: 0.1742 - accuracy: 0.9351"
     ]
    },
    {
     "name": "stdout",
     "output_type": "stream",
     "text": [
      "\b\b\b\b\b\b\b\b\b\b\b\b\b\b\b\b\b\b\b\b\b\b\b\b\b\b\b\b\b\b\b\b\b\b\b\b\b\b\b\b\b\b\b\b\b\b\b\b\b\b\b\b\b\b\b\b\b\b\b\b\b\b\b\b\b\b\b\b\b\b\b\b\b\b\b\b\b\b\b\b\b\b\b\b\r 64/122 [==============>...............] - ETA: 0s - loss: 0.1716 - accuracy: 0.9361"
     ]
    },
    {
     "name": "stdout",
     "output_type": "stream",
     "text": [
      "\b\b\b\b\b\b\b\b\b\b\b\b\b\b\b\b\b\b\b\b\b\b\b\b\b\b\b\b\b\b\b\b\b\b\b\b\b\b\b\b\b\b\b\b\b\b\b\b\b\b\b\b\b\b\b\b\b\b\b\b\b\b\b\b\b\b\b\b\b\b\b\b\b\b\b\b\b\b\b\b\b\b\b\b\r 71/122 [================>.............] - ETA: 0s - loss: 0.1699 - accuracy: 0.9368"
     ]
    },
    {
     "name": "stdout",
     "output_type": "stream",
     "text": [
      "\b\b\b\b\b\b\b\b\b\b\b\b\b\b\b\b\b\b\b\b\b\b\b\b\b\b\b\b\b\b\b\b\b\b\b\b\b\b\b\b\b\b\b\b\b\b\b\b\b\b\b\b\b\b\b\b\b\b\b\b\b\b\b\b\b\b\b\b\b\b\b\b\b\b\b\b\b\b\b\b\b\b\b\b\r 84/122 [===================>..........] - ETA: 0s - loss: 0.1665 - accuracy: 0.9381"
     ]
    },
    {
     "name": "stdout",
     "output_type": "stream",
     "text": [
      "\b\b\b\b\b\b\b\b\b\b\b\b\b\b\b\b\b\b\b\b\b\b\b\b\b\b\b\b\b\b\b\b\b\b\b\b\b\b\b\b\b\b\b\b\b\b\b\b\b\b\b\b\b\b\b\b\b\b\b\b\b\b\b\b\b\b\b\b\b\b\b\b\b\b\b\b\b\b\b\b\b\b\b\b\r 90/122 [=====================>........] - ETA: 0s - loss: 0.1649 - accuracy: 0.9388"
     ]
    },
    {
     "name": "stdout",
     "output_type": "stream",
     "text": [
      "\b\b\b\b\b\b\b\b\b\b\b\b\b\b\b\b\b\b\b\b\b\b\b\b\b\b\b\b\b\b\b\b\b\b\b\b\b\b\b\b\b\b\b\b\b\b\b\b\b\b\b\b\b\b\b\b\b\b\b\b\b\b\b\b\b\b\b\b\b\b\b\b\b\b\b\b\b\b\b\b\b\b\b\b\r101/122 [=======================>......] - ETA: 0s - loss: 0.1623 - accuracy: 0.9399"
     ]
    },
    {
     "name": "stdout",
     "output_type": "stream",
     "text": [
      "\b\b\b\b\b\b\b\b\b\b\b\b\b\b\b\b\b\b\b\b\b\b\b\b\b\b\b\b\b\b\b\b\b\b\b\b\b\b\b\b\b\b\b\b\b\b\b\b\b\b\b\b\b\b\b\b\b\b\b\b\b\b\b\b\b\b\b\b\b\b\b\b\b\b\b\b\b\b\b\b\b\b\b\b\r110/122 [==========================>...] - ETA: 0s - loss: 0.1607 - accuracy: 0.9407"
     ]
    },
    {
     "name": "stdout",
     "output_type": "stream",
     "text": [
      "\b\b\b\b\b\b\b\b\b\b\b\b\b\b\b\b\b\b\b\b\b\b\b\b\b\b\b\b\b\b\b\b\b\b\b\b\b\b\b\b\b\b\b\b\b\b\b\b\b\b\b\b\b\b\b\b\b\b\b\b\b\b\b\b\b\b\b\b\b\b\b\b\b\b\b\b\b\b\b\b\b\b\b\b\r114/122 [===========================>..] - ETA: 0s - loss: 0.1600 - accuracy: 0.9411"
     ]
    },
    {
     "name": "stdout",
     "output_type": "stream",
     "text": [
      "\b\b\b\b\b\b\b\b\b\b\b\b\b\b\b\b\b\b\b\b\b\b\b\b\b\b\b\b\b\b\b\b\b\b\b\b\b\b\b\b\b\b\b\b\b\b\b\b\b\b\b\b\b\b\b\b\b\b\b\b\b\b\b\b\b\b\b\b\b\b\b\b\b\b\b\b\b\b\b\b\b\b\b\b\r122/122 [==============================] - 1s 8ms/step - loss: 0.1585 - accuracy: 0.9418 - val_loss: 0.1283 - val_accuracy: 0.9439\n"
     ]
    },
    {
     "name": "stdout",
     "output_type": "stream",
     "text": [
      "Epoch 8/80\n",
      "\r  1/122 [..............................] - ETA: 2s - loss: 0.2711 - accuracy: 0.9000"
     ]
    },
    {
     "name": "stdout",
     "output_type": "stream",
     "text": [
      "\b\b\b\b\b\b\b\b\b\b\b\b\b\b\b\b\b\b\b\b\b\b\b\b\b\b\b\b\b\b\b\b\b\b\b\b\b\b\b\b\b\b\b\b\b\b\b\b\b\b\b\b\b\b\b\b\b\b\b\b\b\b\b\b\b\b\b\b\b\b\b\b\b\b\b\b\b\b\b\b\b\b\b\b\r 26/122 [=====>........................] - ETA: 0s - loss: 0.1969 - accuracy: 0.9044"
     ]
    },
    {
     "name": "stdout",
     "output_type": "stream",
     "text": [
      "\b\b\b\b\b\b\b\b\b\b\b\b\b\b\b\b\b\b\b\b\b\b\b\b\b\b\b\b\b\b\b\b\b\b\b\b\b\b\b\b\b\b\b\b\b\b\b\b\b\b\b\b\b\b\b\b\b\b\b\b\b\b\b\b\b\b\b\b\b\b\b\b\b\b\b\b\b\b\b\b\b\b\b\b\r 57/122 [=============>................] - ETA: 0s - loss: 0.1717 - accuracy: 0.9223"
     ]
    },
    {
     "name": "stdout",
     "output_type": "stream",
     "text": [
      "\b\b\b\b\b\b\b\b\b\b\b\b\b\b\b\b\b\b\b\b\b\b\b\b\b\b\b\b\b\b\b\b\b\b\b\b\b\b\b\b\b\b\b\b\b\b\b\b\b\b\b\b\b\b\b\b\b\b\b\b\b\b\b\b\b\b\b\b\b\b\b\b\b\b\b\b\b\b\b\b\b\b\b\b\r 75/122 [=================>............] - ETA: 0s - loss: 0.1642 - accuracy: 0.9277"
     ]
    },
    {
     "name": "stdout",
     "output_type": "stream",
     "text": [
      "\b\b\b\b\b\b\b\b\b\b\b\b\b\b\b\b\b\b\b\b\b\b\b\b\b\b\b\b\b\b\b\b\b\b\b\b\b\b\b\b\b\b\b\b\b\b\b\b\b\b\b\b\b\b\b\b\b\b\b\b\b\b\b\b\b\b\b\b\b\b\b\b\b\b\b\b\b\b\b\b\b\b\b\b\r 86/122 [====================>.........] - ETA: 0s - loss: 0.1615 - accuracy: 0.9304"
     ]
    },
    {
     "name": "stdout",
     "output_type": "stream",
     "text": [
      "\b\b\b\b\b\b\b\b\b\b\b\b\b\b\b\b\b\b\b\b\b\b\b\b\b\b\b\b\b\b\b\b\b\b\b\b\b\b\b\b\b\b\b\b\b\b\b\b\b\b\b\b\b\b\b\b\b\b\b\b\b\b\b\b\b\b\b\b\b\b\b\b\b\b\b\b\b\b\b\b\b\b\b\b\r 94/122 [======================>.......] - ETA: 0s - loss: 0.1602 - accuracy: 0.9317"
     ]
    },
    {
     "name": "stdout",
     "output_type": "stream",
     "text": [
      "\b\b\b\b\b\b\b\b\b\b\b\b\b\b\b\b\b\b\b\b\b\b\b\b\b\b\b\b\b\b\b\b\b\b\b\b\b\b\b\b\b\b\b\b\b\b\b\b\b\b\b\b\b\b\b\b\b\b\b\b\b\b\b\b\b\b\b\b\b\b\b\b\b\b\b\b\b\b\b\b\b\b\b\b\r111/122 [==========================>...] - ETA: 0s - loss: 0.1577 - accuracy: 0.9342"
     ]
    },
    {
     "name": "stdout",
     "output_type": "stream",
     "text": [
      "\b\b\b\b\b\b\b\b\b\b\b\b\b\b\b\b\b\b\b\b\b\b\b\b\b\b\b\b\b\b\b\b\b\b\b\b\b\b\b\b\b\b\b\b\b\b\b\b\b\b\b\b\b\b\b\b\b\b\b\b\b\b\b\b\b\b\b\b\b\b\b\b\b\b\b\b\b\b\b\b\b\b\b\b\r122/122 [==============================] - 1s 5ms/step - loss: 0.1556 - accuracy: 0.9358 - val_loss: 0.1283 - val_accuracy: 0.9439\n"
     ]
    },
    {
     "name": "stdout",
     "output_type": "stream",
     "text": [
      "Epoch 9/80\n",
      "\r  1/122 [..............................] - ETA: 1s - loss: 0.2076 - accuracy: 0.8000"
     ]
    },
    {
     "name": "stdout",
     "output_type": "stream",
     "text": [
      "\b\b\b\b\b\b\b\b\b\b\b\b\b\b\b\b\b\b\b\b\b\b\b\b\b\b\b\b\b\b\b\b\b\b\b\b\b\b\b\b\b\b\b\b\b\b\b\b\b\b\b\b\b\b\b\b\b\b\b\b\b\b\b\b\b\b\b\b\b\b\b\b\b\b\b\b\b\b\b\b\b\b\b\b\r 11/122 [=>............................] - ETA: 0s - loss: 0.1064 - accuracy: 0.9285"
     ]
    },
    {
     "name": "stdout",
     "output_type": "stream",
     "text": [
      "\b\b\b\b\b\b\b\b\b\b\b\b\b\b\b\b\b\b\b\b\b\b\b\b\b\b\b\b\b\b\b\b\b\b\b\b\b\b\b\b\b\b\b\b\b\b\b\b\b\b\b\b\b\b\b\b\b\b\b\b\b\b\b\b\b\b\b\b\b\b\b\b\b\b\b\b\b\b\b\b\b\b\b\b\r 31/122 [======>.......................] - ETA: 0s - loss: 0.1121 - accuracy: 0.9487"
     ]
    },
    {
     "name": "stdout",
     "output_type": "stream",
     "text": [
      "\b\b\b\b\b\b\b\b\b\b\b\b\b\b\b\b\b\b\b\b\b\b\b\b\b\b\b\b\b\b\b\b\b\b\b\b\b\b\b\b\b\b\b\b\b\b\b\b\b\b\b\b\b\b\b\b\b\b\b\b\b\b\b\b\b\b\b\b\b\b\b\b\b\b\b\b\b\b\b\b\b\b\b\b\r 54/122 [============>.................] - ETA: 0s - loss: 0.1152 - accuracy: 0.9506"
     ]
    },
    {
     "name": "stdout",
     "output_type": "stream",
     "text": [
      "\b\b\b\b\b\b\b\b\b\b\b\b\b\b\b\b\b\b\b\b\b\b\b\b\b\b\b\b\b\b\b\b\b\b\b\b\b\b\b\b\b\b\b\b\b\b\b\b\b\b\b\b\b\b\b\b\b\b\b\b\b\b\b\b\b\b\b\b\b\b\b\b\b\b\b\b\b\b\b\b\b\b\b\b\r 75/122 [=================>............] - ETA: 0s - loss: 0.1227 - accuracy: 0.9493"
     ]
    },
    {
     "name": "stdout",
     "output_type": "stream",
     "text": [
      "\b\b\b\b\b\b\b\b\b\b\b\b\b\b\b\b\b\b\b\b\b\b\b\b\b\b\b\b\b\b\b\b\b\b\b\b\b\b\b\b\b\b\b\b\b\b\b\b\b\b\b\b\b\b\b\b\b\b\b\b\b\b\b\b\b\b\b\b\b\b\b\b\b\b\b\b\b\b\b\b\b\b\b\b\r 94/122 [======================>.......] - ETA: 0s - loss: 0.1258 - accuracy: 0.9491"
     ]
    },
    {
     "name": "stdout",
     "output_type": "stream",
     "text": [
      "\b\b\b\b\b\b\b\b\b\b\b\b\b\b\b\b\b\b\b\b\b\b\b\b\b\b\b\b\b\b\b\b\b\b\b\b\b\b\b\b\b\b\b\b\b\b\b\b\b\b\b\b\b\b\b\b\b\b\b\b\b\b\b\b\b\b\b\b\b\b\b\b\b\b\b\b\b\b\b\b\b\b\b\b\r102/122 [========================>.....] - ETA: 0s - loss: 0.1261 - accuracy: 0.9493"
     ]
    },
    {
     "name": "stdout",
     "output_type": "stream",
     "text": [
      "\b\b\b\b\b\b\b\b\b\b\b\b\b\b\b\b\b\b\b\b\b\b\b\b\b\b\b\b\b\b\b\b\b\b\b\b\b\b\b\b\b\b\b\b\b\b\b\b\b\b\b\b\b\b\b\b\b\b\b\b\b\b\b\b\b\b\b\b\b\b\b\b\b\b\b\b\b\b\b\b\b\b\b\b\r112/122 [==========================>...] - ETA: 0s - loss: 0.1262 - accuracy: 0.9496"
     ]
    },
    {
     "name": "stdout",
     "output_type": "stream",
     "text": [
      "\b\b\b\b\b\b\b\b\b\b\b\b\b\b\b\b\b\b\b\b\b\b\b\b\b\b\b\b\b\b\b\b\b\b\b\b\b\b\b\b\b\b\b\b\b\b\b\b\b\b\b\b\b\b\b\b\b\b\b\b\b\b\b\b\b\b\b\b\b\b\b\b\b\b\b\b\b\b\b\b\b\b\b\b\r122/122 [==============================] - 1s 6ms/step - loss: 0.1265 - accuracy: 0.9500 - val_loss: 0.1263 - val_accuracy: 0.9472\n"
     ]
    },
    {
     "name": "stdout",
     "output_type": "stream",
     "text": [
      "Epoch 10/80\n",
      "\r  1/122 [..............................] - ETA: 2s - loss: 0.3063 - accuracy: 0.9000"
     ]
    },
    {
     "name": "stdout",
     "output_type": "stream",
     "text": [
      "\b\b\b\b\b\b\b\b\b\b\b\b\b\b\b\b\b\b\b\b\b\b\b\b\b\b\b\b\b\b\b\b\b\b\b\b\b\b\b\b\b\b\b\b\b\b\b\b\b\b\b\b\b\b\b\b\b\b\b\b\b\b\b\b\b\b\b\b\b\b\b\b\b\b\b\b\b\b\b\b\b\b\b\b\r 20/122 [===>..........................] - ETA: 0s - loss: 0.1087 - accuracy: 0.9638"
     ]
    },
    {
     "name": "stdout",
     "output_type": "stream",
     "text": [
      "\b\b\b\b\b\b\b\b\b\b\b\b\b\b\b\b\b\b\b\b\b\b\b\b\b\b\b\b\b\b\b\b\b\b\b\b\b\b\b\b\b\b\b\b\b\b\b\b\b\b\b\b\b\b\b\b\b\b\b\b\b\b\b\b\b\b\b\b\b\b\b\b\b\b\b\b\b\b\b\b\b\b\b\b\r 43/122 [=========>....................] - ETA: 0s - loss: 0.0983 - accuracy: 0.9649"
     ]
    },
    {
     "name": "stdout",
     "output_type": "stream",
     "text": [
      "\b\b\b\b\b\b\b\b\b\b\b\b\b\b\b\b\b\b\b\b\b\b\b\b\b\b\b\b\b\b\b\b\b\b\b\b\b\b\b\b\b\b\b\b\b\b\b\b\b\b\b\b\b\b\b\b\b\b\b\b\b\b\b\b\b\b\b\b\b\b\b\b\b\b\b\b\b\b\b\b\b\b\b\b\r 45/122 [==========>...................] - ETA: 0s - loss: 0.0979 - accuracy: 0.9651"
     ]
    },
    {
     "name": "stdout",
     "output_type": "stream",
     "text": [
      "\b\b\b\b\b\b\b\b\b\b\b\b\b\b\b\b\b\b\b\b\b\b\b\b\b\b\b\b\b\b\b\b\b\b\b\b\b\b\b\b\b\b\b\b\b\b\b\b\b\b\b\b\b\b\b\b\b\b\b\b\b\b\b\b\b\b\b\b\b\b\b\b\b\b\b\b\b\b\b\b\b\b\b\b\r 49/122 [===========>..................] - ETA: 0s - loss: 0.0975 - accuracy: 0.9652"
     ]
    },
    {
     "name": "stdout",
     "output_type": "stream",
     "text": [
      "\b\b\b\b\b\b\b\b\b\b\b\b\b\b\b\b\b\b\b\b\b\b\b\b\b\b\b\b\b\b\b\b\b\b\b\b\b\b\b\b\b\b\b\b\b\b\b\b\b\b\b\b\b\b\b\b\b\b\b\b\b\b\b\b\b\b\b\b\b\b\b\b\b\b\b\b\b\b\b\b\b\b\b\b\r 54/122 [============>.................] - ETA: 0s - loss: 0.0975 - accuracy: 0.9651"
     ]
    },
    {
     "name": "stdout",
     "output_type": "stream",
     "text": [
      "\b\b\b\b\b\b\b\b\b\b\b\b\b\b\b\b\b\b\b\b\b\b\b\b\b\b\b\b\b\b\b\b\b\b\b\b\b\b\b\b\b\b\b\b\b\b\b\b\b\b\b\b\b\b\b\b\b\b\b\b\b\b\b\b\b\b\b\b\b\b\b\b\b\b\b\b\b\b\b\b\b\b\b\b\r 55/122 [============>.................] - ETA: 0s - loss: 0.0976 - accuracy: 0.9651"
     ]
    },
    {
     "name": "stdout",
     "output_type": "stream",
     "text": [
      "\b\b\b\b\b\b\b\b\b\b\b\b\b\b\b\b\b\b\b\b\b\b\b\b\b\b\b\b\b\b\b\b\b\b\b\b\b\b\b\b\b\b\b\b\b\b\b\b\b\b\b\b\b\b\b\b\b\b\b\b\b\b\b\b\b\b\b\b\b\b\b\b\b\b\b\b\b\b\b\b\b\b\b\b\r 67/122 [===============>..............] - ETA: 0s - loss: 0.0982 - accuracy: 0.9647"
     ]
    },
    {
     "name": "stdout",
     "output_type": "stream",
     "text": [
      "\b\b\b\b\b\b\b\b\b\b\b\b\b\b\b\b\b\b\b\b\b\b\b\b\b\b\b\b\b\b\b\b\b\b\b\b\b\b\b\b\b\b\b\b\b\b\b\b\b\b\b\b\b\b\b\b\b\b\b\b\b\b\b\b\b\b\b\b\b\b\b\b\b\b\b\b\b\b\b\b\b\b\b\b\r 90/122 [=====================>........] - ETA: 0s - loss: 0.1001 - accuracy: 0.9637"
     ]
    },
    {
     "name": "stdout",
     "output_type": "stream",
     "text": [
      "\b\b\b\b\b\b\b\b\b\b\b\b\b\b\b\b\b\b\b\b\b\b\b\b\b\b\b\b\b\b\b\b\b\b\b\b\b\b\b\b\b\b\b\b\b\b\b\b\b\b\b\b\b\b\b\b\b\b\b\b\b\b\b\b\b\b\b\b\b\b\b\b\b\b\b\b\b\b\b\b\b\b\b\b\r122/122 [==============================] - ETA: 0s - loss: 0.1065 - accuracy: 0.9620"
     ]
    },
    {
     "name": "stdout",
     "output_type": "stream",
     "text": [
      "\b\b\b\b\b\b\b\b\b\b\b\b\b\b\b\b\b\b\b\b\b\b\b\b\b\b\b\b\b\b\b\b\b\b\b\b\b\b\b\b\b\b\b\b\b\b\b\b\b\b\b\b\b\b\b\b\b\b\b\b\b\b\b\b\b\b\b\b\b\b\b\b\b\b\b\b\b\b\b\b\b\b\b\b\r122/122 [==============================] - 1s 6ms/step - loss: 0.1066 - accuracy: 0.9620 - val_loss: 0.1281 - val_accuracy: 0.9439\n"
     ]
    },
    {
     "name": "stdout",
     "output_type": "stream",
     "text": [
      "Epoch 11/80\n",
      "\r  1/122 [..............................] - ETA: 1s - loss: 0.0510 - accuracy: 1.0000"
     ]
    },
    {
     "name": "stdout",
     "output_type": "stream",
     "text": [
      "\b\b\b\b\b\b\b\b\b\b\b\b\b\b\b\b\b\b\b\b\b\b\b\b\b\b\b\b\b\b\b\b\b\b\b\b\b\b\b\b\b\b\b\b\b\b\b\b\b\b\b\b\b\b\b\b\b\b\b\b\b\b\b\b\b\b\b\b\b\b\b\b\b\b\b\b\b\b\b\b\b\b\b\b\r 28/122 [=====>........................] - ETA: 0s - loss: 0.0729 - accuracy: 0.9796"
     ]
    },
    {
     "name": "stdout",
     "output_type": "stream",
     "text": [
      "\b\b\b\b\b\b\b\b\b\b\b\b\b\b\b\b\b\b\b\b\b\b\b\b\b\b\b\b\b\b\b\b\b\b\b\b\b\b\b\b\b\b\b\b\b\b\b\b\b\b\b\b\b\b\b\b\b\b\b\b\b\b\b\b\b\b\b\b\b\b\b\b\b\b\b\b\b\b\b\b\b\b\b\b\r 61/122 [==============>...............] - ETA: 0s - loss: 0.0852 - accuracy: 0.9724"
     ]
    },
    {
     "name": "stdout",
     "output_type": "stream",
     "text": [
      "\b\b\b\b\b\b\b\b\b\b\b\b\b\b\b\b\b\b\b\b\b\b\b\b\b\b\b\b\b\b\b\b\b\b\b\b\b\b\b\b\b\b\b\b\b\b\b\b\b\b\b\b\b\b\b\b\b\b\b\b\b\b\b\b\b\b\b\b\b\b\b\b\b\b\b\b\b\b\b\b\b\b\b\b\r 76/122 [=================>............] - ETA: 0s - loss: 0.0900 - accuracy: 0.9697"
     ]
    },
    {
     "name": "stdout",
     "output_type": "stream",
     "text": [
      "\b\b\b\b\b\b\b\b\b\b\b\b\b\b\b\b\b\b\b\b\b\b\b\b\b\b\b\b\b\b\b\b\b\b\b\b\b\b\b\b\b\b\b\b\b\b\b\b\b\b\b\b\b\b\b\b\b\b\b\b\b\b\b\b\b\b\b\b\b\b\b\b\b\b\b\b\b\b\b\b\b\b\b\b\r 89/122 [====================>.........] - ETA: 0s - loss: 0.0926 - accuracy: 0.9684"
     ]
    },
    {
     "name": "stdout",
     "output_type": "stream",
     "text": [
      "\b\b\b\b\b\b\b\b\b\b\b\b\b\b\b\b\b\b\b\b\b\b\b\b\b\b\b\b\b\b\b\b\b\b\b\b\b\b\b\b\b\b\b\b\b\b\b\b\b\b\b\b\b\b\b\b\b\b\b\b\b\b\b\b\b\b\b\b\b\b\b\b\b\b\b\b\b\b\b\b\b\b\b\b\r108/122 [=========================>....] - ETA: 0s - loss: 0.0968 - accuracy: 0.9663"
     ]
    },
    {
     "name": "stdout",
     "output_type": "stream",
     "text": [
      "\b\b\b\b\b\b\b\b\b\b\b\b\b\b\b\b\b\b\b\b\b\b\b\b\b\b\b\b\b\b\b\b\b\b\b\b\b\b\b\b\b\b\b\b\b\b\b\b\b\b\b\b\b\b\b\b\b\b\b\b\b\b\b\b\b\b\b\b\b\b\b\b\b\b\b\b\b\b\b\b\b\b\b\b\r122/122 [==============================] - 0s 4ms/step - loss: 0.1003 - accuracy: 0.9646 - val_loss: 0.1276 - val_accuracy: 0.9472\n"
     ]
    },
    {
     "name": "stdout",
     "output_type": "stream",
     "text": [
      "Epoch 12/80\n",
      "\r  1/122 [..............................] - ETA: 0s - loss: 0.0431 - accuracy: 1.0000"
     ]
    },
    {
     "name": "stdout",
     "output_type": "stream",
     "text": [
      "\b\b\b\b\b\b\b\b\b\b\b\b\b\b\b\b\b\b\b\b\b\b\b\b\b\b\b\b\b\b\b\b\b\b\b\b\b\b\b\b\b\b\b\b\b\b\b\b\b\b\b\b\b\b\b\b\b\b\b\b\b\b\b\b\b\b\b\b\b\b\b\b\b\b\b\b\b\b\b\b\b\b\b\b\r 11/122 [=>............................] - ETA: 0s - loss: 0.1381 - accuracy: 0.9293"
     ]
    },
    {
     "name": "stdout",
     "output_type": "stream",
     "text": [
      "\b\b\b\b\b\b\b\b\b\b\b\b\b\b\b\b\b\b\b\b\b\b\b\b\b\b\b\b\b\b\b\b\b\b\b\b\b\b\b\b\b\b\b\b\b\b\b\b\b\b\b\b\b\b\b\b\b\b\b\b\b\b\b\b\b\b\b\b\b\b\b\b\b\b\b\b\b\b\b\b\b\b\b\b\r 40/122 [========>.....................] - ETA: 0s - loss: 0.1163 - accuracy: 0.9456"
     ]
    },
    {
     "name": "stdout",
     "output_type": "stream",
     "text": [
      "\b\b\b\b\b\b\b\b\b\b\b\b\b\b\b\b\b\b\b\b\b\b\b\b\b\b\b\b\b\b\b\b\b\b\b\b\b\b\b\b\b\b\b\b\b\b\b\b\b\b\b\b\b\b\b\b\b\b\b\b\b\b\b\b\b\b\b\b\b\b\b\b\b\b\b\b\b\b\b\b\b\b\b\b\r 53/122 [============>.................] - ETA: 0s - loss: 0.1137 - accuracy: 0.9481"
     ]
    },
    {
     "name": "stdout",
     "output_type": "stream",
     "text": [
      "\b\b\b\b\b\b\b\b\b\b\b\b\b\b\b\b\b\b\b\b\b\b\b\b\b\b\b\b\b\b\b\b\b\b\b\b\b\b\b\b\b\b\b\b\b\b\b\b\b\b\b\b\b\b\b\b\b\b\b\b\b\b\b\b\b\b\b\b\b\b\b\b\b\b\b\b\b\b\b\b\b\b\b\b\r 70/122 [================>.............] - ETA: 0s - loss: 0.1098 - accuracy: 0.9508"
     ]
    },
    {
     "name": "stdout",
     "output_type": "stream",
     "text": [
      "\b\b\b\b\b\b\b\b\b\b\b\b\b\b\b\b\b\b\b\b\b\b\b\b\b\b\b\b\b\b\b\b\b\b\b\b\b\b\b\b\b\b\b\b\b\b\b\b\b\b\b\b\b\b\b\b\b\b\b\b\b\b\b\b\b\b\b\b\b\b\b\b\b\b\b\b\b\b\b\b\b\b\b\b\r 94/122 [======================>.......] - ETA: 0s - loss: 0.1088 - accuracy: 0.9527"
     ]
    },
    {
     "name": "stdout",
     "output_type": "stream",
     "text": [
      "\b\b\b\b\b\b\b\b\b\b\b\b\b\b\b\b\b\b\b\b\b\b\b\b\b\b\b\b\b\b\b\b\b\b\b\b\b\b\b\b\b\b\b\b\b\b\b\b\b\b\b\b\b\b\b\b\b\b\b\b\b\b\b\b\b\b\b\b\b\b\b\b\b\b\b\b\b\b\b\b\b\b\b\b\r113/122 [==========================>...] - ETA: 0s - loss: 0.1101 - accuracy: 0.9536"
     ]
    },
    {
     "name": "stdout",
     "output_type": "stream",
     "text": [
      "\b\b\b\b\b\b\b\b\b\b\b\b\b\b\b\b\b\b\b\b\b\b\b\b\b\b\b\b\b\b\b\b\b\b\b\b\b\b\b\b\b\b\b\b\b\b\b\b\b\b\b\b\b\b\b\b\b\b\b\b\b\b\b\b\b\b\b\b\b\b\b\b\b\b\b\b\b\b\b\b\b\b\b\b\r122/122 [==============================] - 1s 5ms/step - loss: 0.1112 - accuracy: 0.9538 - val_loss: 0.1291 - val_accuracy: 0.9406\n"
     ]
    }
   ],
   "source": [
    "model = Sequential()\n",
    "model.add(Dense(16, input_shape=(X_train.shape[1],), activation='relu'))\n",
    "model.add(Dense(1, activation='sigmoid'))\n",
    "model.summary() \n",
    "\n",
    "model.compile(optimizer='Adam', loss='binary_crossentropy', metrics=['accuracy'])\n",
    "\n",
    "es = EarlyStopping(monitor='val_accuracy', mode='max', patience=10, restore_best_weights=True)\n",
    "\n",
    "history = model.fit(X_train, y_train, callbacks=[es], epochs=80, batch_size=10,validation_split=0.2,shuffle=True,verbose=1)"
   ]
  },
  {
   "cell_type": "code",
   "execution_count": 52,
   "metadata": {
    "collapsed": false
   },
   "outputs": [
    {
     "name": "stdout",
     "output_type": "stream",
     "text": [
      "accuracy on test set: 0.9330655957161981\n"
     ]
    }
   ],
   "source": [
    "y_predict = model.predict(X_test)\n",
    "y_predict = y_predict.round().flatten().astype(int)\n",
    "accuracy = metrics.accuracy_score(y_test, y_predict)\n",
    "print('accuracy on test set: %s' % accuracy)"
   ]
  },
  {
   "cell_type": "code",
   "execution_count": 53,
   "metadata": {
    "collapsed": false
   },
   "outputs": [
    {
     "data": {
      "text/html": "<html>\n<head><meta charset=\"utf-8\" /></head>\n<body>\n    <div>            <script src=\"https://cdnjs.cloudflare.com/ajax/libs/mathjax/2.7.5/MathJax.js?config=TeX-AMS-MML_SVG\"></script><script type=\"text/javascript\">if (window.MathJax) {MathJax.Hub.Config({SVG: {font: \"STIX-Web\"}});}</script>                <script type=\"text/javascript\">window.PlotlyConfig = {MathJaxConfig: 'local'};</script>\n        <script src=\"https://cdn.plot.ly/plotly-2.9.0.min.js\"></script>                <div id=\"fa964726-1a80-4bd0-8421-6208e36c9639\" class=\"plotly-graph-div\" style=\"height:525px; width:100%;\"></div>            <script type=\"text/javascript\">                                    window.PLOTLYENV=window.PLOTLYENV || {};                                    if (document.getElementById(\"fa964726-1a80-4bd0-8421-6208e36c9639\")) {                    Plotly.newPlot(                        \"fa964726-1a80-4bd0-8421-6208e36c9639\",                        [{\"colorscale\":[[0.0,\"#440154\"],[0.1111111111111111,\"#482878\"],[0.2222222222222222,\"#3e4989\"],[0.3333333333333333,\"#31688e\"],[0.4444444444444444,\"#26828e\"],[0.5555555555555556,\"#1f9e89\"],[0.6666666666666666,\"#35b779\"],[0.7777777777777778,\"#6ece58\"],[0.8888888888888888,\"#b5de2b\"],[1.0,\"#fde725\"]],\"reversescale\":false,\"showscale\":true,\"x\":[\"NOT HOF\",\"HOF\"],\"y\":[\"HOF\",\"NOT HOF\"],\"z\":[[0.05714285714285714,0.14893617021276595],[0.9857142857142858,0.2127659574468085]],\"type\":\"heatmap\"}],                        {\"annotations\":[{\"font\":{\"color\":\"#FFFFFF\"},\"showarrow\":false,\"text\":\"0.05714285714285714\",\"x\":\"NOT HOF\",\"xref\":\"x\",\"y\":\"HOF\",\"yref\":\"y\"},{\"font\":{\"color\":\"#FFFFFF\"},\"showarrow\":false,\"text\":\"0.14893617021276595\",\"x\":\"HOF\",\"xref\":\"x\",\"y\":\"HOF\",\"yref\":\"y\"},{\"font\":{\"color\":\"#000000\"},\"showarrow\":false,\"text\":\"0.9857142857142858\",\"x\":\"NOT HOF\",\"xref\":\"x\",\"y\":\"NOT HOF\",\"yref\":\"y\"},{\"font\":{\"color\":\"#FFFFFF\"},\"showarrow\":false,\"text\":\"0.2127659574468085\",\"x\":\"HOF\",\"xref\":\"x\",\"y\":\"NOT HOF\",\"yref\":\"y\"},{\"font\":{\"color\":\"black\",\"size\":14},\"showarrow\":false,\"text\":\"Predicted value\",\"x\":0.5,\"xref\":\"paper\",\"y\":-0.15,\"yref\":\"paper\"},{\"font\":{\"color\":\"black\",\"size\":14},\"showarrow\":false,\"text\":\"Real value\",\"textangle\":-90,\"x\":-0.15,\"xref\":\"paper\",\"y\":0.5,\"yref\":\"paper\"}],\"xaxis\":{\"dtick\":1,\"gridcolor\":\"rgb(0, 0, 0)\",\"side\":\"top\",\"ticks\":\"\"},\"yaxis\":{\"dtick\":1,\"ticks\":\"\",\"ticksuffix\":\"  \"},\"template\":{\"data\":{\"bar\":[{\"error_x\":{\"color\":\"#2a3f5f\"},\"error_y\":{\"color\":\"#2a3f5f\"},\"marker\":{\"line\":{\"color\":\"#E5ECF6\",\"width\":0.5},\"pattern\":{\"fillmode\":\"overlay\",\"size\":10,\"solidity\":0.2}},\"type\":\"bar\"}],\"barpolar\":[{\"marker\":{\"line\":{\"color\":\"#E5ECF6\",\"width\":0.5},\"pattern\":{\"fillmode\":\"overlay\",\"size\":10,\"solidity\":0.2}},\"type\":\"barpolar\"}],\"carpet\":[{\"aaxis\":{\"endlinecolor\":\"#2a3f5f\",\"gridcolor\":\"white\",\"linecolor\":\"white\",\"minorgridcolor\":\"white\",\"startlinecolor\":\"#2a3f5f\"},\"baxis\":{\"endlinecolor\":\"#2a3f5f\",\"gridcolor\":\"white\",\"linecolor\":\"white\",\"minorgridcolor\":\"white\",\"startlinecolor\":\"#2a3f5f\"},\"type\":\"carpet\"}],\"choropleth\":[{\"colorbar\":{\"outlinewidth\":0,\"ticks\":\"\"},\"type\":\"choropleth\"}],\"contour\":[{\"colorbar\":{\"outlinewidth\":0,\"ticks\":\"\"},\"colorscale\":[[0.0,\"#0d0887\"],[0.1111111111111111,\"#46039f\"],[0.2222222222222222,\"#7201a8\"],[0.3333333333333333,\"#9c179e\"],[0.4444444444444444,\"#bd3786\"],[0.5555555555555556,\"#d8576b\"],[0.6666666666666666,\"#ed7953\"],[0.7777777777777778,\"#fb9f3a\"],[0.8888888888888888,\"#fdca26\"],[1.0,\"#f0f921\"]],\"type\":\"contour\"}],\"contourcarpet\":[{\"colorbar\":{\"outlinewidth\":0,\"ticks\":\"\"},\"type\":\"contourcarpet\"}],\"heatmap\":[{\"colorbar\":{\"outlinewidth\":0,\"ticks\":\"\"},\"colorscale\":[[0.0,\"#0d0887\"],[0.1111111111111111,\"#46039f\"],[0.2222222222222222,\"#7201a8\"],[0.3333333333333333,\"#9c179e\"],[0.4444444444444444,\"#bd3786\"],[0.5555555555555556,\"#d8576b\"],[0.6666666666666666,\"#ed7953\"],[0.7777777777777778,\"#fb9f3a\"],[0.8888888888888888,\"#fdca26\"],[1.0,\"#f0f921\"]],\"type\":\"heatmap\"}],\"heatmapgl\":[{\"colorbar\":{\"outlinewidth\":0,\"ticks\":\"\"},\"colorscale\":[[0.0,\"#0d0887\"],[0.1111111111111111,\"#46039f\"],[0.2222222222222222,\"#7201a8\"],[0.3333333333333333,\"#9c179e\"],[0.4444444444444444,\"#bd3786\"],[0.5555555555555556,\"#d8576b\"],[0.6666666666666666,\"#ed7953\"],[0.7777777777777778,\"#fb9f3a\"],[0.8888888888888888,\"#fdca26\"],[1.0,\"#f0f921\"]],\"type\":\"heatmapgl\"}],\"histogram\":[{\"marker\":{\"pattern\":{\"fillmode\":\"overlay\",\"size\":10,\"solidity\":0.2}},\"type\":\"histogram\"}],\"histogram2d\":[{\"colorbar\":{\"outlinewidth\":0,\"ticks\":\"\"},\"colorscale\":[[0.0,\"#0d0887\"],[0.1111111111111111,\"#46039f\"],[0.2222222222222222,\"#7201a8\"],[0.3333333333333333,\"#9c179e\"],[0.4444444444444444,\"#bd3786\"],[0.5555555555555556,\"#d8576b\"],[0.6666666666666666,\"#ed7953\"],[0.7777777777777778,\"#fb9f3a\"],[0.8888888888888888,\"#fdca26\"],[1.0,\"#f0f921\"]],\"type\":\"histogram2d\"}],\"histogram2dcontour\":[{\"colorbar\":{\"outlinewidth\":0,\"ticks\":\"\"},\"colorscale\":[[0.0,\"#0d0887\"],[0.1111111111111111,\"#46039f\"],[0.2222222222222222,\"#7201a8\"],[0.3333333333333333,\"#9c179e\"],[0.4444444444444444,\"#bd3786\"],[0.5555555555555556,\"#d8576b\"],[0.6666666666666666,\"#ed7953\"],[0.7777777777777778,\"#fb9f3a\"],[0.8888888888888888,\"#fdca26\"],[1.0,\"#f0f921\"]],\"type\":\"histogram2dcontour\"}],\"mesh3d\":[{\"colorbar\":{\"outlinewidth\":0,\"ticks\":\"\"},\"type\":\"mesh3d\"}],\"parcoords\":[{\"line\":{\"colorbar\":{\"outlinewidth\":0,\"ticks\":\"\"}},\"type\":\"parcoords\"}],\"pie\":[{\"automargin\":true,\"type\":\"pie\"}],\"scatter\":[{\"marker\":{\"colorbar\":{\"outlinewidth\":0,\"ticks\":\"\"}},\"type\":\"scatter\"}],\"scatter3d\":[{\"line\":{\"colorbar\":{\"outlinewidth\":0,\"ticks\":\"\"}},\"marker\":{\"colorbar\":{\"outlinewidth\":0,\"ticks\":\"\"}},\"type\":\"scatter3d\"}],\"scattercarpet\":[{\"marker\":{\"colorbar\":{\"outlinewidth\":0,\"ticks\":\"\"}},\"type\":\"scattercarpet\"}],\"scattergeo\":[{\"marker\":{\"colorbar\":{\"outlinewidth\":0,\"ticks\":\"\"}},\"type\":\"scattergeo\"}],\"scattergl\":[{\"marker\":{\"colorbar\":{\"outlinewidth\":0,\"ticks\":\"\"}},\"type\":\"scattergl\"}],\"scattermapbox\":[{\"marker\":{\"colorbar\":{\"outlinewidth\":0,\"ticks\":\"\"}},\"type\":\"scattermapbox\"}],\"scatterpolar\":[{\"marker\":{\"colorbar\":{\"outlinewidth\":0,\"ticks\":\"\"}},\"type\":\"scatterpolar\"}],\"scatterpolargl\":[{\"marker\":{\"colorbar\":{\"outlinewidth\":0,\"ticks\":\"\"}},\"type\":\"scatterpolargl\"}],\"scatterternary\":[{\"marker\":{\"colorbar\":{\"outlinewidth\":0,\"ticks\":\"\"}},\"type\":\"scatterternary\"}],\"surface\":[{\"colorbar\":{\"outlinewidth\":0,\"ticks\":\"\"},\"colorscale\":[[0.0,\"#0d0887\"],[0.1111111111111111,\"#46039f\"],[0.2222222222222222,\"#7201a8\"],[0.3333333333333333,\"#9c179e\"],[0.4444444444444444,\"#bd3786\"],[0.5555555555555556,\"#d8576b\"],[0.6666666666666666,\"#ed7953\"],[0.7777777777777778,\"#fb9f3a\"],[0.8888888888888888,\"#fdca26\"],[1.0,\"#f0f921\"]],\"type\":\"surface\"}],\"table\":[{\"cells\":{\"fill\":{\"color\":\"#EBF0F8\"},\"line\":{\"color\":\"white\"}},\"header\":{\"fill\":{\"color\":\"#C8D4E3\"},\"line\":{\"color\":\"white\"}},\"type\":\"table\"}]},\"layout\":{\"annotationdefaults\":{\"arrowcolor\":\"#2a3f5f\",\"arrowhead\":0,\"arrowwidth\":1},\"autotypenumbers\":\"strict\",\"coloraxis\":{\"colorbar\":{\"outlinewidth\":0,\"ticks\":\"\"}},\"colorscale\":{\"diverging\":[[0,\"#8e0152\"],[0.1,\"#c51b7d\"],[0.2,\"#de77ae\"],[0.3,\"#f1b6da\"],[0.4,\"#fde0ef\"],[0.5,\"#f7f7f7\"],[0.6,\"#e6f5d0\"],[0.7,\"#b8e186\"],[0.8,\"#7fbc41\"],[0.9,\"#4d9221\"],[1,\"#276419\"]],\"sequential\":[[0.0,\"#0d0887\"],[0.1111111111111111,\"#46039f\"],[0.2222222222222222,\"#7201a8\"],[0.3333333333333333,\"#9c179e\"],[0.4444444444444444,\"#bd3786\"],[0.5555555555555556,\"#d8576b\"],[0.6666666666666666,\"#ed7953\"],[0.7777777777777778,\"#fb9f3a\"],[0.8888888888888888,\"#fdca26\"],[1.0,\"#f0f921\"]],\"sequentialminus\":[[0.0,\"#0d0887\"],[0.1111111111111111,\"#46039f\"],[0.2222222222222222,\"#7201a8\"],[0.3333333333333333,\"#9c179e\"],[0.4444444444444444,\"#bd3786\"],[0.5555555555555556,\"#d8576b\"],[0.6666666666666666,\"#ed7953\"],[0.7777777777777778,\"#fb9f3a\"],[0.8888888888888888,\"#fdca26\"],[1.0,\"#f0f921\"]]},\"colorway\":[\"#636efa\",\"#EF553B\",\"#00cc96\",\"#ab63fa\",\"#FFA15A\",\"#19d3f3\",\"#FF6692\",\"#B6E880\",\"#FF97FF\",\"#FECB52\"],\"font\":{\"color\":\"#2a3f5f\"},\"geo\":{\"bgcolor\":\"white\",\"lakecolor\":\"white\",\"landcolor\":\"#E5ECF6\",\"showlakes\":true,\"showland\":true,\"subunitcolor\":\"white\"},\"hoverlabel\":{\"align\":\"left\"},\"hovermode\":\"closest\",\"mapbox\":{\"style\":\"light\"},\"paper_bgcolor\":\"white\",\"plot_bgcolor\":\"#E5ECF6\",\"polar\":{\"angularaxis\":{\"gridcolor\":\"white\",\"linecolor\":\"white\",\"ticks\":\"\"},\"bgcolor\":\"#E5ECF6\",\"radialaxis\":{\"gridcolor\":\"white\",\"linecolor\":\"white\",\"ticks\":\"\"}},\"scene\":{\"xaxis\":{\"backgroundcolor\":\"#E5ECF6\",\"gridcolor\":\"white\",\"gridwidth\":2,\"linecolor\":\"white\",\"showbackground\":true,\"ticks\":\"\",\"zerolinecolor\":\"white\"},\"yaxis\":{\"backgroundcolor\":\"#E5ECF6\",\"gridcolor\":\"white\",\"gridwidth\":2,\"linecolor\":\"white\",\"showbackground\":true,\"ticks\":\"\",\"zerolinecolor\":\"white\"},\"zaxis\":{\"backgroundcolor\":\"#E5ECF6\",\"gridcolor\":\"white\",\"gridwidth\":2,\"linecolor\":\"white\",\"showbackground\":true,\"ticks\":\"\",\"zerolinecolor\":\"white\"}},\"shapedefaults\":{\"line\":{\"color\":\"#2a3f5f\"}},\"ternary\":{\"aaxis\":{\"gridcolor\":\"white\",\"linecolor\":\"white\",\"ticks\":\"\"},\"baxis\":{\"gridcolor\":\"white\",\"linecolor\":\"white\",\"ticks\":\"\"},\"bgcolor\":\"#E5ECF6\",\"caxis\":{\"gridcolor\":\"white\",\"linecolor\":\"white\",\"ticks\":\"\"}},\"title\":{\"x\":0.05},\"xaxis\":{\"automargin\":true,\"gridcolor\":\"white\",\"linecolor\":\"white\",\"ticks\":\"\",\"title\":{\"standoff\":15},\"zerolinecolor\":\"white\",\"zerolinewidth\":2},\"yaxis\":{\"automargin\":true,\"gridcolor\":\"white\",\"linecolor\":\"white\",\"ticks\":\"\",\"title\":{\"standoff\":15},\"zerolinecolor\":\"white\",\"zerolinewidth\":2}}},\"margin\":{\"t\":50,\"l\":200}},                        {\"responsive\": true}                    ).then(function(){\n                            \nvar gd = document.getElementById('fa964726-1a80-4bd0-8421-6208e36c9639');\nvar x = new MutationObserver(function (mutations, observer) {{\n        var display = window.getComputedStyle(gd).display;\n        if (!display || display === 'none') {{\n            console.log([gd, 'removed!']);\n            Plotly.purge(gd);\n            observer.disconnect();\n        }}\n}});\n\n// Listen for the removal of the full notebook cells\nvar notebookContainer = gd.closest('#notebook-container');\nif (notebookContainer) {{\n    x.observe(notebookContainer, {childList: true});\n}}\n\n// Listen for the clearing of the current output cell\nvar outputEl = gd.closest('.output');\nif (outputEl) {{\n    x.observe(outputEl, {childList: true});\n}}\n\n                        })                };                            </script>        </div>\n</body>\n</html>"
     },
     "execution_count": 53,
     "metadata": {
     },
     "output_type": "execute_result"
    }
   ],
   "source": [
    "#confusion matrix for Neural Network\n",
    "plotly_conf_mtx(y_test = y_test, y_predict = y_predict, label = 'nn_acc.html')"
   ]
  },
  {
   "cell_type": "markdown",
   "metadata": {
    "collapsed": false
   },
   "source": [
    "## LOGISTIC REGRESSION"
   ]
  },
  {
   "cell_type": "code",
   "execution_count": 54,
   "metadata": {
    "collapsed": false
   },
   "outputs": [
    {
     "name": "stdout",
     "output_type": "stream",
     "text": [
      "Best Score: 0.9526952695269526\n",
      "Best Hyperparameters: {'C': 1.0, 'penalty': 'l2', 'solver': 'newton-cg'}\n",
      "Best Estimator: LogisticRegression(max_iter=1000, solver='newton-cg')\n"
     ]
    }
   ],
   "source": [
    "from sklearn.linear_model import LogisticRegression\n",
    "\n",
    "#define model\n",
    "model = LogisticRegression(max_iter = 1000)\n",
    "#define search space\n",
    "space = dict()\n",
    "space['solver'] = ['newton-cg', 'lbfgs', 'liblinear']\n",
    "space['penalty'] = [0.0, 'l1', 'l2']\n",
    "space['C'] = [1e-8, 1e-7, 1e-6, 1e-5, 1e-4, 1e-3, 1e-2, 1e-1, 1e0, 1e1, 1e2, 1e3, 1e4]\n",
    "#define search\n",
    "search = GridSearchCV(model, space, scoring = 'accuracy', n_jobs = -1, cv= cv, error_score = 0.0)\n",
    "# execute search\n",
    "result = search.fit(X_train, y_train)\n",
    "# summarize result\n",
    "print('Best Score: %s' % result.best_score_)\n",
    "print('Best Hyperparameters: %s' % result.best_params_)\n",
    "print('Best Estimator: %s' % result.best_estimator_)"
   ]
  },
  {
   "cell_type": "code",
   "execution_count": 55,
   "metadata": {
    "collapsed": false
   },
   "outputs": [
    {
     "name": "stdout",
     "output_type": "stream",
     "text": [
      "accuracy on test set: 0.9544846050870147\n"
     ]
    }
   ],
   "source": [
    "# train on all of taining data and use best hyperparameters to evaluate accuracy \n",
    "# on test set\n",
    "optimalmodel = result.best_estimator_\n",
    "optimalmodel.fit(X_train, y_train)\n",
    "y_predict = optimalmodel.predict(X_test)\n",
    "accuracy = metrics.accuracy_score(y_test, y_predict)\n",
    "print('accuracy on test set: %s' % accuracy)"
   ]
  },
  {
   "cell_type": "code",
   "execution_count": 0,
   "metadata": {
    "collapsed": false
   },
   "outputs": [
   ],
   "source": [
   ]
  },
  {
   "cell_type": "code",
   "execution_count": 56,
   "metadata": {
    "collapsed": false
   },
   "outputs": [
    {
     "data": {
      "text/html": "<html>\n<head><meta charset=\"utf-8\" /></head>\n<body>\n    <div>            <script src=\"https://cdnjs.cloudflare.com/ajax/libs/mathjax/2.7.5/MathJax.js?config=TeX-AMS-MML_SVG\"></script><script type=\"text/javascript\">if (window.MathJax) {MathJax.Hub.Config({SVG: {font: \"STIX-Web\"}});}</script>                <script type=\"text/javascript\">window.PlotlyConfig = {MathJaxConfig: 'local'};</script>\n        <script src=\"https://cdn.plot.ly/plotly-2.9.0.min.js\"></script>                <div id=\"1a03445b-f1f9-4a63-88e2-a0a01cb4df3d\" class=\"plotly-graph-div\" style=\"height:525px; width:100%;\"></div>            <script type=\"text/javascript\">                                    window.PLOTLYENV=window.PLOTLYENV || {};                                    if (document.getElementById(\"1a03445b-f1f9-4a63-88e2-a0a01cb4df3d\")) {                    Plotly.newPlot(                        \"1a03445b-f1f9-4a63-88e2-a0a01cb4df3d\",                        [{\"colorscale\":[[0.0,\"#440154\"],[0.1111111111111111,\"#482878\"],[0.2222222222222222,\"#3e4989\"],[0.3333333333333333,\"#31688e\"],[0.4444444444444444,\"#26828e\"],[0.5555555555555556,\"#1f9e89\"],[0.6666666666666666,\"#35b779\"],[0.7777777777777778,\"#6ece58\"],[0.8888888888888888,\"#b5de2b\"],[1.0,\"#fde725\"]],\"reversescale\":false,\"showscale\":true,\"x\":[\"NOT HOF\",\"HOF\"],\"y\":[\"HOF\",\"NOT HOF\"],\"z\":[[0.03571428571428571,0.46808510638297873],[0.9871428571428571,0.19148936170212766]],\"type\":\"heatmap\"}],                        {\"annotations\":[{\"font\":{\"color\":\"#FFFFFF\"},\"showarrow\":false,\"text\":\"0.03571428571428571\",\"x\":\"NOT HOF\",\"xref\":\"x\",\"y\":\"HOF\",\"yref\":\"y\"},{\"font\":{\"color\":\"#FFFFFF\"},\"showarrow\":false,\"text\":\"0.46808510638297873\",\"x\":\"HOF\",\"xref\":\"x\",\"y\":\"HOF\",\"yref\":\"y\"},{\"font\":{\"color\":\"#000000\"},\"showarrow\":false,\"text\":\"0.9871428571428571\",\"x\":\"NOT HOF\",\"xref\":\"x\",\"y\":\"NOT HOF\",\"yref\":\"y\"},{\"font\":{\"color\":\"#FFFFFF\"},\"showarrow\":false,\"text\":\"0.19148936170212766\",\"x\":\"HOF\",\"xref\":\"x\",\"y\":\"NOT HOF\",\"yref\":\"y\"},{\"font\":{\"color\":\"black\",\"size\":14},\"showarrow\":false,\"text\":\"Predicted value\",\"x\":0.5,\"xref\":\"paper\",\"y\":-0.15,\"yref\":\"paper\"},{\"font\":{\"color\":\"black\",\"size\":14},\"showarrow\":false,\"text\":\"Real value\",\"textangle\":-90,\"x\":-0.15,\"xref\":\"paper\",\"y\":0.5,\"yref\":\"paper\"}],\"xaxis\":{\"dtick\":1,\"gridcolor\":\"rgb(0, 0, 0)\",\"side\":\"top\",\"ticks\":\"\"},\"yaxis\":{\"dtick\":1,\"ticks\":\"\",\"ticksuffix\":\"  \"},\"template\":{\"data\":{\"bar\":[{\"error_x\":{\"color\":\"#2a3f5f\"},\"error_y\":{\"color\":\"#2a3f5f\"},\"marker\":{\"line\":{\"color\":\"#E5ECF6\",\"width\":0.5},\"pattern\":{\"fillmode\":\"overlay\",\"size\":10,\"solidity\":0.2}},\"type\":\"bar\"}],\"barpolar\":[{\"marker\":{\"line\":{\"color\":\"#E5ECF6\",\"width\":0.5},\"pattern\":{\"fillmode\":\"overlay\",\"size\":10,\"solidity\":0.2}},\"type\":\"barpolar\"}],\"carpet\":[{\"aaxis\":{\"endlinecolor\":\"#2a3f5f\",\"gridcolor\":\"white\",\"linecolor\":\"white\",\"minorgridcolor\":\"white\",\"startlinecolor\":\"#2a3f5f\"},\"baxis\":{\"endlinecolor\":\"#2a3f5f\",\"gridcolor\":\"white\",\"linecolor\":\"white\",\"minorgridcolor\":\"white\",\"startlinecolor\":\"#2a3f5f\"},\"type\":\"carpet\"}],\"choropleth\":[{\"colorbar\":{\"outlinewidth\":0,\"ticks\":\"\"},\"type\":\"choropleth\"}],\"contour\":[{\"colorbar\":{\"outlinewidth\":0,\"ticks\":\"\"},\"colorscale\":[[0.0,\"#0d0887\"],[0.1111111111111111,\"#46039f\"],[0.2222222222222222,\"#7201a8\"],[0.3333333333333333,\"#9c179e\"],[0.4444444444444444,\"#bd3786\"],[0.5555555555555556,\"#d8576b\"],[0.6666666666666666,\"#ed7953\"],[0.7777777777777778,\"#fb9f3a\"],[0.8888888888888888,\"#fdca26\"],[1.0,\"#f0f921\"]],\"type\":\"contour\"}],\"contourcarpet\":[{\"colorbar\":{\"outlinewidth\":0,\"ticks\":\"\"},\"type\":\"contourcarpet\"}],\"heatmap\":[{\"colorbar\":{\"outlinewidth\":0,\"ticks\":\"\"},\"colorscale\":[[0.0,\"#0d0887\"],[0.1111111111111111,\"#46039f\"],[0.2222222222222222,\"#7201a8\"],[0.3333333333333333,\"#9c179e\"],[0.4444444444444444,\"#bd3786\"],[0.5555555555555556,\"#d8576b\"],[0.6666666666666666,\"#ed7953\"],[0.7777777777777778,\"#fb9f3a\"],[0.8888888888888888,\"#fdca26\"],[1.0,\"#f0f921\"]],\"type\":\"heatmap\"}],\"heatmapgl\":[{\"colorbar\":{\"outlinewidth\":0,\"ticks\":\"\"},\"colorscale\":[[0.0,\"#0d0887\"],[0.1111111111111111,\"#46039f\"],[0.2222222222222222,\"#7201a8\"],[0.3333333333333333,\"#9c179e\"],[0.4444444444444444,\"#bd3786\"],[0.5555555555555556,\"#d8576b\"],[0.6666666666666666,\"#ed7953\"],[0.7777777777777778,\"#fb9f3a\"],[0.8888888888888888,\"#fdca26\"],[1.0,\"#f0f921\"]],\"type\":\"heatmapgl\"}],\"histogram\":[{\"marker\":{\"pattern\":{\"fillmode\":\"overlay\",\"size\":10,\"solidity\":0.2}},\"type\":\"histogram\"}],\"histogram2d\":[{\"colorbar\":{\"outlinewidth\":0,\"ticks\":\"\"},\"colorscale\":[[0.0,\"#0d0887\"],[0.1111111111111111,\"#46039f\"],[0.2222222222222222,\"#7201a8\"],[0.3333333333333333,\"#9c179e\"],[0.4444444444444444,\"#bd3786\"],[0.5555555555555556,\"#d8576b\"],[0.6666666666666666,\"#ed7953\"],[0.7777777777777778,\"#fb9f3a\"],[0.8888888888888888,\"#fdca26\"],[1.0,\"#f0f921\"]],\"type\":\"histogram2d\"}],\"histogram2dcontour\":[{\"colorbar\":{\"outlinewidth\":0,\"ticks\":\"\"},\"colorscale\":[[0.0,\"#0d0887\"],[0.1111111111111111,\"#46039f\"],[0.2222222222222222,\"#7201a8\"],[0.3333333333333333,\"#9c179e\"],[0.4444444444444444,\"#bd3786\"],[0.5555555555555556,\"#d8576b\"],[0.6666666666666666,\"#ed7953\"],[0.7777777777777778,\"#fb9f3a\"],[0.8888888888888888,\"#fdca26\"],[1.0,\"#f0f921\"]],\"type\":\"histogram2dcontour\"}],\"mesh3d\":[{\"colorbar\":{\"outlinewidth\":0,\"ticks\":\"\"},\"type\":\"mesh3d\"}],\"parcoords\":[{\"line\":{\"colorbar\":{\"outlinewidth\":0,\"ticks\":\"\"}},\"type\":\"parcoords\"}],\"pie\":[{\"automargin\":true,\"type\":\"pie\"}],\"scatter\":[{\"marker\":{\"colorbar\":{\"outlinewidth\":0,\"ticks\":\"\"}},\"type\":\"scatter\"}],\"scatter3d\":[{\"line\":{\"colorbar\":{\"outlinewidth\":0,\"ticks\":\"\"}},\"marker\":{\"colorbar\":{\"outlinewidth\":0,\"ticks\":\"\"}},\"type\":\"scatter3d\"}],\"scattercarpet\":[{\"marker\":{\"colorbar\":{\"outlinewidth\":0,\"ticks\":\"\"}},\"type\":\"scattercarpet\"}],\"scattergeo\":[{\"marker\":{\"colorbar\":{\"outlinewidth\":0,\"ticks\":\"\"}},\"type\":\"scattergeo\"}],\"scattergl\":[{\"marker\":{\"colorbar\":{\"outlinewidth\":0,\"ticks\":\"\"}},\"type\":\"scattergl\"}],\"scattermapbox\":[{\"marker\":{\"colorbar\":{\"outlinewidth\":0,\"ticks\":\"\"}},\"type\":\"scattermapbox\"}],\"scatterpolar\":[{\"marker\":{\"colorbar\":{\"outlinewidth\":0,\"ticks\":\"\"}},\"type\":\"scatterpolar\"}],\"scatterpolargl\":[{\"marker\":{\"colorbar\":{\"outlinewidth\":0,\"ticks\":\"\"}},\"type\":\"scatterpolargl\"}],\"scatterternary\":[{\"marker\":{\"colorbar\":{\"outlinewidth\":0,\"ticks\":\"\"}},\"type\":\"scatterternary\"}],\"surface\":[{\"colorbar\":{\"outlinewidth\":0,\"ticks\":\"\"},\"colorscale\":[[0.0,\"#0d0887\"],[0.1111111111111111,\"#46039f\"],[0.2222222222222222,\"#7201a8\"],[0.3333333333333333,\"#9c179e\"],[0.4444444444444444,\"#bd3786\"],[0.5555555555555556,\"#d8576b\"],[0.6666666666666666,\"#ed7953\"],[0.7777777777777778,\"#fb9f3a\"],[0.8888888888888888,\"#fdca26\"],[1.0,\"#f0f921\"]],\"type\":\"surface\"}],\"table\":[{\"cells\":{\"fill\":{\"color\":\"#EBF0F8\"},\"line\":{\"color\":\"white\"}},\"header\":{\"fill\":{\"color\":\"#C8D4E3\"},\"line\":{\"color\":\"white\"}},\"type\":\"table\"}]},\"layout\":{\"annotationdefaults\":{\"arrowcolor\":\"#2a3f5f\",\"arrowhead\":0,\"arrowwidth\":1},\"autotypenumbers\":\"strict\",\"coloraxis\":{\"colorbar\":{\"outlinewidth\":0,\"ticks\":\"\"}},\"colorscale\":{\"diverging\":[[0,\"#8e0152\"],[0.1,\"#c51b7d\"],[0.2,\"#de77ae\"],[0.3,\"#f1b6da\"],[0.4,\"#fde0ef\"],[0.5,\"#f7f7f7\"],[0.6,\"#e6f5d0\"],[0.7,\"#b8e186\"],[0.8,\"#7fbc41\"],[0.9,\"#4d9221\"],[1,\"#276419\"]],\"sequential\":[[0.0,\"#0d0887\"],[0.1111111111111111,\"#46039f\"],[0.2222222222222222,\"#7201a8\"],[0.3333333333333333,\"#9c179e\"],[0.4444444444444444,\"#bd3786\"],[0.5555555555555556,\"#d8576b\"],[0.6666666666666666,\"#ed7953\"],[0.7777777777777778,\"#fb9f3a\"],[0.8888888888888888,\"#fdca26\"],[1.0,\"#f0f921\"]],\"sequentialminus\":[[0.0,\"#0d0887\"],[0.1111111111111111,\"#46039f\"],[0.2222222222222222,\"#7201a8\"],[0.3333333333333333,\"#9c179e\"],[0.4444444444444444,\"#bd3786\"],[0.5555555555555556,\"#d8576b\"],[0.6666666666666666,\"#ed7953\"],[0.7777777777777778,\"#fb9f3a\"],[0.8888888888888888,\"#fdca26\"],[1.0,\"#f0f921\"]]},\"colorway\":[\"#636efa\",\"#EF553B\",\"#00cc96\",\"#ab63fa\",\"#FFA15A\",\"#19d3f3\",\"#FF6692\",\"#B6E880\",\"#FF97FF\",\"#FECB52\"],\"font\":{\"color\":\"#2a3f5f\"},\"geo\":{\"bgcolor\":\"white\",\"lakecolor\":\"white\",\"landcolor\":\"#E5ECF6\",\"showlakes\":true,\"showland\":true,\"subunitcolor\":\"white\"},\"hoverlabel\":{\"align\":\"left\"},\"hovermode\":\"closest\",\"mapbox\":{\"style\":\"light\"},\"paper_bgcolor\":\"white\",\"plot_bgcolor\":\"#E5ECF6\",\"polar\":{\"angularaxis\":{\"gridcolor\":\"white\",\"linecolor\":\"white\",\"ticks\":\"\"},\"bgcolor\":\"#E5ECF6\",\"radialaxis\":{\"gridcolor\":\"white\",\"linecolor\":\"white\",\"ticks\":\"\"}},\"scene\":{\"xaxis\":{\"backgroundcolor\":\"#E5ECF6\",\"gridcolor\":\"white\",\"gridwidth\":2,\"linecolor\":\"white\",\"showbackground\":true,\"ticks\":\"\",\"zerolinecolor\":\"white\"},\"yaxis\":{\"backgroundcolor\":\"#E5ECF6\",\"gridcolor\":\"white\",\"gridwidth\":2,\"linecolor\":\"white\",\"showbackground\":true,\"ticks\":\"\",\"zerolinecolor\":\"white\"},\"zaxis\":{\"backgroundcolor\":\"#E5ECF6\",\"gridcolor\":\"white\",\"gridwidth\":2,\"linecolor\":\"white\",\"showbackground\":true,\"ticks\":\"\",\"zerolinecolor\":\"white\"}},\"shapedefaults\":{\"line\":{\"color\":\"#2a3f5f\"}},\"ternary\":{\"aaxis\":{\"gridcolor\":\"white\",\"linecolor\":\"white\",\"ticks\":\"\"},\"baxis\":{\"gridcolor\":\"white\",\"linecolor\":\"white\",\"ticks\":\"\"},\"bgcolor\":\"#E5ECF6\",\"caxis\":{\"gridcolor\":\"white\",\"linecolor\":\"white\",\"ticks\":\"\"}},\"title\":{\"x\":0.05},\"xaxis\":{\"automargin\":true,\"gridcolor\":\"white\",\"linecolor\":\"white\",\"ticks\":\"\",\"title\":{\"standoff\":15},\"zerolinecolor\":\"white\",\"zerolinewidth\":2},\"yaxis\":{\"automargin\":true,\"gridcolor\":\"white\",\"linecolor\":\"white\",\"ticks\":\"\",\"title\":{\"standoff\":15},\"zerolinecolor\":\"white\",\"zerolinewidth\":2}}},\"margin\":{\"t\":50,\"l\":200}},                        {\"responsive\": true}                    ).then(function(){\n                            \nvar gd = document.getElementById('1a03445b-f1f9-4a63-88e2-a0a01cb4df3d');\nvar x = new MutationObserver(function (mutations, observer) {{\n        var display = window.getComputedStyle(gd).display;\n        if (!display || display === 'none') {{\n            console.log([gd, 'removed!']);\n            Plotly.purge(gd);\n            observer.disconnect();\n        }}\n}});\n\n// Listen for the removal of the full notebook cells\nvar notebookContainer = gd.closest('#notebook-container');\nif (notebookContainer) {{\n    x.observe(notebookContainer, {childList: true});\n}}\n\n// Listen for the clearing of the current output cell\nvar outputEl = gd.closest('.output');\nif (outputEl) {{\n    x.observe(outputEl, {childList: true});\n}}\n\n                        })                };                            </script>        </div>\n</body>\n</html>"
     },
     "execution_count": 56,
     "metadata": {
     },
     "output_type": "execute_result"
    }
   ],
   "source": [
    "#confusion matrix for Log. Regression\n",
    "plotly_conf_mtx(y_test = y_test, y_predict = y_predict, label = 'lr_acc.html')"
   ]
  },
  {
   "cell_type": "markdown",
   "metadata": {
    "collapsed": false
   },
   "source": [
    "## LOGISTIC REGRESSION- Recall"
   ]
  },
  {
   "cell_type": "code",
   "execution_count": 57,
   "metadata": {
    "collapsed": false
   },
   "outputs": [
    {
     "name": "stdout",
     "output_type": "stream",
     "text": [
      "Best Score: 0.9111962644566385\n",
      "Best Hyperparameters: {'C': 1e-08, 'penalty': 'l2', 'solver': 'liblinear'}\n",
      "Best Estimator: LogisticRegression(C=1e-08, max_iter=1000, solver='liblinear')\n"
     ]
    }
   ],
   "source": [
    "#define model\n",
    "model = LogisticRegression(max_iter = 1000)\n",
    "#define search space\n",
    "space = dict()\n",
    "space['solver'] = ['newton-cg', 'lbfgs', 'liblinear']\n",
    "space['penalty'] = [0.0, 'l1', 'l2']\n",
    "space['C'] = [1e-8, 1e-7, 1e-6, 1e-5, 1e-4, 1e-3, 1e-2, 1e-1, 1e0, 1e1, 1e2, 1e3, 1e4]\n",
    "#define search\n",
    "search = GridSearchCV(model, space, scoring = 'recall', n_jobs = -1, cv= cv, error_score = 0.0)\n",
    "# execute search\n",
    "result = search.fit(X_train, y_train)\n",
    "# summarize result\n",
    "print('Best Score: %s' % result.best_score_)\n",
    "print('Best Hyperparameters: %s' % result.best_params_)\n",
    "print('Best Estimator: %s' % result.best_estimator_)"
   ]
  },
  {
   "cell_type": "code",
   "execution_count": 58,
   "metadata": {
    "collapsed": false
   },
   "outputs": [
    {
     "name": "stdout",
     "output_type": "stream",
     "text": [
      "accuracy on test set: 0.8936170212765957\n"
     ]
    }
   ],
   "source": [
    "# train on all of taining data and use best hyperparameters to evaluate accuracy \n",
    "# on test set\n",
    "optimalmodel = result.best_estimator_\n",
    "optimalmodel.fit(X_train, y_train)\n",
    "y_predict = optimalmodel.predict(X_test)\n",
    "accuracy = metrics.recall_score(y_test, y_predict)\n",
    "print('accuracy on test set: %s' % accuracy)"
   ]
  },
  {
   "cell_type": "code",
   "execution_count": 59,
   "metadata": {
    "collapsed": false
   },
   "outputs": [
    {
     "data": {
      "text/html": "<html>\n<head><meta charset=\"utf-8\" /></head>\n<body>\n    <div>            <script src=\"https://cdnjs.cloudflare.com/ajax/libs/mathjax/2.7.5/MathJax.js?config=TeX-AMS-MML_SVG\"></script><script type=\"text/javascript\">if (window.MathJax) {MathJax.Hub.Config({SVG: {font: \"STIX-Web\"}});}</script>                <script type=\"text/javascript\">window.PlotlyConfig = {MathJaxConfig: 'local'};</script>\n        <script src=\"https://cdn.plot.ly/plotly-2.9.0.min.js\"></script>                <div id=\"c85150ae-68f5-43cb-917d-46700b4d95f3\" class=\"plotly-graph-div\" style=\"height:525px; width:100%;\"></div>            <script type=\"text/javascript\">                                    window.PLOTLYENV=window.PLOTLYENV || {};                                    if (document.getElementById(\"c85150ae-68f5-43cb-917d-46700b4d95f3\")) {                    Plotly.newPlot(                        \"c85150ae-68f5-43cb-917d-46700b4d95f3\",                        [{\"colorscale\":[[0.0,\"#440154\"],[0.1111111111111111,\"#482878\"],[0.2222222222222222,\"#3e4989\"],[0.3333333333333333,\"#31688e\"],[0.4444444444444444,\"#26828e\"],[0.5555555555555556,\"#1f9e89\"],[0.6666666666666666,\"#35b779\"],[0.7777777777777778,\"#6ece58\"],[0.8888888888888888,\"#b5de2b\"],[1.0,\"#fde725\"]],\"reversescale\":false,\"showscale\":true,\"x\":[\"NOT HOF\",\"HOF\"],\"y\":[\"HOF\",\"NOT HOF\"],\"z\":[[0.007142857142857143,0.8936170212765957],[0.78,3.276595744680851]],\"type\":\"heatmap\"}],                        {\"annotations\":[{\"font\":{\"color\":\"#FFFFFF\"},\"showarrow\":false,\"text\":\"0.007142857142857143\",\"x\":\"NOT HOF\",\"xref\":\"x\",\"y\":\"HOF\",\"yref\":\"y\"},{\"font\":{\"color\":\"#FFFFFF\"},\"showarrow\":false,\"text\":\"0.8936170212765957\",\"x\":\"HOF\",\"xref\":\"x\",\"y\":\"HOF\",\"yref\":\"y\"},{\"font\":{\"color\":\"#FFFFFF\"},\"showarrow\":false,\"text\":\"0.78\",\"x\":\"NOT HOF\",\"xref\":\"x\",\"y\":\"NOT HOF\",\"yref\":\"y\"},{\"font\":{\"color\":\"#000000\"},\"showarrow\":false,\"text\":\"3.276595744680851\",\"x\":\"HOF\",\"xref\":\"x\",\"y\":\"NOT HOF\",\"yref\":\"y\"},{\"font\":{\"color\":\"black\",\"size\":14},\"showarrow\":false,\"text\":\"Predicted value\",\"x\":0.5,\"xref\":\"paper\",\"y\":-0.15,\"yref\":\"paper\"},{\"font\":{\"color\":\"black\",\"size\":14},\"showarrow\":false,\"text\":\"Real value\",\"textangle\":-90,\"x\":-0.15,\"xref\":\"paper\",\"y\":0.5,\"yref\":\"paper\"}],\"xaxis\":{\"dtick\":1,\"gridcolor\":\"rgb(0, 0, 0)\",\"side\":\"top\",\"ticks\":\"\"},\"yaxis\":{\"dtick\":1,\"ticks\":\"\",\"ticksuffix\":\"  \"},\"template\":{\"data\":{\"bar\":[{\"error_x\":{\"color\":\"#2a3f5f\"},\"error_y\":{\"color\":\"#2a3f5f\"},\"marker\":{\"line\":{\"color\":\"#E5ECF6\",\"width\":0.5},\"pattern\":{\"fillmode\":\"overlay\",\"size\":10,\"solidity\":0.2}},\"type\":\"bar\"}],\"barpolar\":[{\"marker\":{\"line\":{\"color\":\"#E5ECF6\",\"width\":0.5},\"pattern\":{\"fillmode\":\"overlay\",\"size\":10,\"solidity\":0.2}},\"type\":\"barpolar\"}],\"carpet\":[{\"aaxis\":{\"endlinecolor\":\"#2a3f5f\",\"gridcolor\":\"white\",\"linecolor\":\"white\",\"minorgridcolor\":\"white\",\"startlinecolor\":\"#2a3f5f\"},\"baxis\":{\"endlinecolor\":\"#2a3f5f\",\"gridcolor\":\"white\",\"linecolor\":\"white\",\"minorgridcolor\":\"white\",\"startlinecolor\":\"#2a3f5f\"},\"type\":\"carpet\"}],\"choropleth\":[{\"colorbar\":{\"outlinewidth\":0,\"ticks\":\"\"},\"type\":\"choropleth\"}],\"contour\":[{\"colorbar\":{\"outlinewidth\":0,\"ticks\":\"\"},\"colorscale\":[[0.0,\"#0d0887\"],[0.1111111111111111,\"#46039f\"],[0.2222222222222222,\"#7201a8\"],[0.3333333333333333,\"#9c179e\"],[0.4444444444444444,\"#bd3786\"],[0.5555555555555556,\"#d8576b\"],[0.6666666666666666,\"#ed7953\"],[0.7777777777777778,\"#fb9f3a\"],[0.8888888888888888,\"#fdca26\"],[1.0,\"#f0f921\"]],\"type\":\"contour\"}],\"contourcarpet\":[{\"colorbar\":{\"outlinewidth\":0,\"ticks\":\"\"},\"type\":\"contourcarpet\"}],\"heatmap\":[{\"colorbar\":{\"outlinewidth\":0,\"ticks\":\"\"},\"colorscale\":[[0.0,\"#0d0887\"],[0.1111111111111111,\"#46039f\"],[0.2222222222222222,\"#7201a8\"],[0.3333333333333333,\"#9c179e\"],[0.4444444444444444,\"#bd3786\"],[0.5555555555555556,\"#d8576b\"],[0.6666666666666666,\"#ed7953\"],[0.7777777777777778,\"#fb9f3a\"],[0.8888888888888888,\"#fdca26\"],[1.0,\"#f0f921\"]],\"type\":\"heatmap\"}],\"heatmapgl\":[{\"colorbar\":{\"outlinewidth\":0,\"ticks\":\"\"},\"colorscale\":[[0.0,\"#0d0887\"],[0.1111111111111111,\"#46039f\"],[0.2222222222222222,\"#7201a8\"],[0.3333333333333333,\"#9c179e\"],[0.4444444444444444,\"#bd3786\"],[0.5555555555555556,\"#d8576b\"],[0.6666666666666666,\"#ed7953\"],[0.7777777777777778,\"#fb9f3a\"],[0.8888888888888888,\"#fdca26\"],[1.0,\"#f0f921\"]],\"type\":\"heatmapgl\"}],\"histogram\":[{\"marker\":{\"pattern\":{\"fillmode\":\"overlay\",\"size\":10,\"solidity\":0.2}},\"type\":\"histogram\"}],\"histogram2d\":[{\"colorbar\":{\"outlinewidth\":0,\"ticks\":\"\"},\"colorscale\":[[0.0,\"#0d0887\"],[0.1111111111111111,\"#46039f\"],[0.2222222222222222,\"#7201a8\"],[0.3333333333333333,\"#9c179e\"],[0.4444444444444444,\"#bd3786\"],[0.5555555555555556,\"#d8576b\"],[0.6666666666666666,\"#ed7953\"],[0.7777777777777778,\"#fb9f3a\"],[0.8888888888888888,\"#fdca26\"],[1.0,\"#f0f921\"]],\"type\":\"histogram2d\"}],\"histogram2dcontour\":[{\"colorbar\":{\"outlinewidth\":0,\"ticks\":\"\"},\"colorscale\":[[0.0,\"#0d0887\"],[0.1111111111111111,\"#46039f\"],[0.2222222222222222,\"#7201a8\"],[0.3333333333333333,\"#9c179e\"],[0.4444444444444444,\"#bd3786\"],[0.5555555555555556,\"#d8576b\"],[0.6666666666666666,\"#ed7953\"],[0.7777777777777778,\"#fb9f3a\"],[0.8888888888888888,\"#fdca26\"],[1.0,\"#f0f921\"]],\"type\":\"histogram2dcontour\"}],\"mesh3d\":[{\"colorbar\":{\"outlinewidth\":0,\"ticks\":\"\"},\"type\":\"mesh3d\"}],\"parcoords\":[{\"line\":{\"colorbar\":{\"outlinewidth\":0,\"ticks\":\"\"}},\"type\":\"parcoords\"}],\"pie\":[{\"automargin\":true,\"type\":\"pie\"}],\"scatter\":[{\"marker\":{\"colorbar\":{\"outlinewidth\":0,\"ticks\":\"\"}},\"type\":\"scatter\"}],\"scatter3d\":[{\"line\":{\"colorbar\":{\"outlinewidth\":0,\"ticks\":\"\"}},\"marker\":{\"colorbar\":{\"outlinewidth\":0,\"ticks\":\"\"}},\"type\":\"scatter3d\"}],\"scattercarpet\":[{\"marker\":{\"colorbar\":{\"outlinewidth\":0,\"ticks\":\"\"}},\"type\":\"scattercarpet\"}],\"scattergeo\":[{\"marker\":{\"colorbar\":{\"outlinewidth\":0,\"ticks\":\"\"}},\"type\":\"scattergeo\"}],\"scattergl\":[{\"marker\":{\"colorbar\":{\"outlinewidth\":0,\"ticks\":\"\"}},\"type\":\"scattergl\"}],\"scattermapbox\":[{\"marker\":{\"colorbar\":{\"outlinewidth\":0,\"ticks\":\"\"}},\"type\":\"scattermapbox\"}],\"scatterpolar\":[{\"marker\":{\"colorbar\":{\"outlinewidth\":0,\"ticks\":\"\"}},\"type\":\"scatterpolar\"}],\"scatterpolargl\":[{\"marker\":{\"colorbar\":{\"outlinewidth\":0,\"ticks\":\"\"}},\"type\":\"scatterpolargl\"}],\"scatterternary\":[{\"marker\":{\"colorbar\":{\"outlinewidth\":0,\"ticks\":\"\"}},\"type\":\"scatterternary\"}],\"surface\":[{\"colorbar\":{\"outlinewidth\":0,\"ticks\":\"\"},\"colorscale\":[[0.0,\"#0d0887\"],[0.1111111111111111,\"#46039f\"],[0.2222222222222222,\"#7201a8\"],[0.3333333333333333,\"#9c179e\"],[0.4444444444444444,\"#bd3786\"],[0.5555555555555556,\"#d8576b\"],[0.6666666666666666,\"#ed7953\"],[0.7777777777777778,\"#fb9f3a\"],[0.8888888888888888,\"#fdca26\"],[1.0,\"#f0f921\"]],\"type\":\"surface\"}],\"table\":[{\"cells\":{\"fill\":{\"color\":\"#EBF0F8\"},\"line\":{\"color\":\"white\"}},\"header\":{\"fill\":{\"color\":\"#C8D4E3\"},\"line\":{\"color\":\"white\"}},\"type\":\"table\"}]},\"layout\":{\"annotationdefaults\":{\"arrowcolor\":\"#2a3f5f\",\"arrowhead\":0,\"arrowwidth\":1},\"autotypenumbers\":\"strict\",\"coloraxis\":{\"colorbar\":{\"outlinewidth\":0,\"ticks\":\"\"}},\"colorscale\":{\"diverging\":[[0,\"#8e0152\"],[0.1,\"#c51b7d\"],[0.2,\"#de77ae\"],[0.3,\"#f1b6da\"],[0.4,\"#fde0ef\"],[0.5,\"#f7f7f7\"],[0.6,\"#e6f5d0\"],[0.7,\"#b8e186\"],[0.8,\"#7fbc41\"],[0.9,\"#4d9221\"],[1,\"#276419\"]],\"sequential\":[[0.0,\"#0d0887\"],[0.1111111111111111,\"#46039f\"],[0.2222222222222222,\"#7201a8\"],[0.3333333333333333,\"#9c179e\"],[0.4444444444444444,\"#bd3786\"],[0.5555555555555556,\"#d8576b\"],[0.6666666666666666,\"#ed7953\"],[0.7777777777777778,\"#fb9f3a\"],[0.8888888888888888,\"#fdca26\"],[1.0,\"#f0f921\"]],\"sequentialminus\":[[0.0,\"#0d0887\"],[0.1111111111111111,\"#46039f\"],[0.2222222222222222,\"#7201a8\"],[0.3333333333333333,\"#9c179e\"],[0.4444444444444444,\"#bd3786\"],[0.5555555555555556,\"#d8576b\"],[0.6666666666666666,\"#ed7953\"],[0.7777777777777778,\"#fb9f3a\"],[0.8888888888888888,\"#fdca26\"],[1.0,\"#f0f921\"]]},\"colorway\":[\"#636efa\",\"#EF553B\",\"#00cc96\",\"#ab63fa\",\"#FFA15A\",\"#19d3f3\",\"#FF6692\",\"#B6E880\",\"#FF97FF\",\"#FECB52\"],\"font\":{\"color\":\"#2a3f5f\"},\"geo\":{\"bgcolor\":\"white\",\"lakecolor\":\"white\",\"landcolor\":\"#E5ECF6\",\"showlakes\":true,\"showland\":true,\"subunitcolor\":\"white\"},\"hoverlabel\":{\"align\":\"left\"},\"hovermode\":\"closest\",\"mapbox\":{\"style\":\"light\"},\"paper_bgcolor\":\"white\",\"plot_bgcolor\":\"#E5ECF6\",\"polar\":{\"angularaxis\":{\"gridcolor\":\"white\",\"linecolor\":\"white\",\"ticks\":\"\"},\"bgcolor\":\"#E5ECF6\",\"radialaxis\":{\"gridcolor\":\"white\",\"linecolor\":\"white\",\"ticks\":\"\"}},\"scene\":{\"xaxis\":{\"backgroundcolor\":\"#E5ECF6\",\"gridcolor\":\"white\",\"gridwidth\":2,\"linecolor\":\"white\",\"showbackground\":true,\"ticks\":\"\",\"zerolinecolor\":\"white\"},\"yaxis\":{\"backgroundcolor\":\"#E5ECF6\",\"gridcolor\":\"white\",\"gridwidth\":2,\"linecolor\":\"white\",\"showbackground\":true,\"ticks\":\"\",\"zerolinecolor\":\"white\"},\"zaxis\":{\"backgroundcolor\":\"#E5ECF6\",\"gridcolor\":\"white\",\"gridwidth\":2,\"linecolor\":\"white\",\"showbackground\":true,\"ticks\":\"\",\"zerolinecolor\":\"white\"}},\"shapedefaults\":{\"line\":{\"color\":\"#2a3f5f\"}},\"ternary\":{\"aaxis\":{\"gridcolor\":\"white\",\"linecolor\":\"white\",\"ticks\":\"\"},\"baxis\":{\"gridcolor\":\"white\",\"linecolor\":\"white\",\"ticks\":\"\"},\"bgcolor\":\"#E5ECF6\",\"caxis\":{\"gridcolor\":\"white\",\"linecolor\":\"white\",\"ticks\":\"\"}},\"title\":{\"x\":0.05},\"xaxis\":{\"automargin\":true,\"gridcolor\":\"white\",\"linecolor\":\"white\",\"ticks\":\"\",\"title\":{\"standoff\":15},\"zerolinecolor\":\"white\",\"zerolinewidth\":2},\"yaxis\":{\"automargin\":true,\"gridcolor\":\"white\",\"linecolor\":\"white\",\"ticks\":\"\",\"title\":{\"standoff\":15},\"zerolinecolor\":\"white\",\"zerolinewidth\":2}}},\"margin\":{\"t\":50,\"l\":200}},                        {\"responsive\": true}                    ).then(function(){\n                            \nvar gd = document.getElementById('c85150ae-68f5-43cb-917d-46700b4d95f3');\nvar x = new MutationObserver(function (mutations, observer) {{\n        var display = window.getComputedStyle(gd).display;\n        if (!display || display === 'none') {{\n            console.log([gd, 'removed!']);\n            Plotly.purge(gd);\n            observer.disconnect();\n        }}\n}});\n\n// Listen for the removal of the full notebook cells\nvar notebookContainer = gd.closest('#notebook-container');\nif (notebookContainer) {{\n    x.observe(notebookContainer, {childList: true});\n}}\n\n// Listen for the clearing of the current output cell\nvar outputEl = gd.closest('.output');\nif (outputEl) {{\n    x.observe(outputEl, {childList: true});\n}}\n\n                        })                };                            </script>        </div>\n</body>\n</html>"
     },
     "execution_count": 59,
     "metadata": {
     },
     "output_type": "execute_result"
    }
   ],
   "source": [
    "plotly_conf_mtx(y_test = y_test, y_predict = y_predict, label = 'lr_recall.html')"
   ]
  },
  {
   "cell_type": "code",
   "execution_count": 0,
   "metadata": {
    "collapsed": false
   },
   "outputs": [
   ],
   "source": [
   ]
  }
 ],
 "metadata": {
  "interpreter": {
   "hash": "e348f125b6f91a14eca7d5249f64a17f3ef476ef6da90e21206c2cb49670b48b"
  },
  "kernelspec": {
   "display_name": "Python (my_env)",
   "language": "python",
   "metadata": {
    "debugger": true
   },
   "name": "my_env",
   "resource_dir": "/projects/3c8caffc-3673-4b85-a8ee-bae294439729/.local/share/jupyter/kernels/my_env"
  },
  "language_info": {
   "codemirror_mode": {
    "name": "ipython",
    "version": 3
   },
   "file_extension": ".py",
   "mimetype": "text/x-python",
   "name": "python",
   "nbconvert_exporter": "python",
   "pygments_lexer": "ipython3",
   "version": "3.9.7"
  },
  "orig_nbformat": 4
 },
 "nbformat": 4,
 "nbformat_minor": 4
}